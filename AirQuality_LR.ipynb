{
  "nbformat": 4,
  "nbformat_minor": 0,
  "metadata": {
    "colab": {
      "provenance": [],
      "authorship_tag": "ABX9TyN+cIUYb4AsGQIpoghQFlzg",
      "include_colab_link": true
    },
    "kernelspec": {
      "name": "python3",
      "display_name": "Python 3"
    },
    "language_info": {
      "name": "python"
    },
    "widgets": {
      "application/vnd.jupyter.widget-state+json": {
        "6fd15fa7b8634d69875a688040e19e0b": {
          "model_module": "@jupyter-widgets/controls",
          "model_name": "HBoxModel",
          "model_module_version": "1.5.0",
          "state": {
            "_dom_classes": [],
            "_model_module": "@jupyter-widgets/controls",
            "_model_module_version": "1.5.0",
            "_model_name": "HBoxModel",
            "_view_count": null,
            "_view_module": "@jupyter-widgets/controls",
            "_view_module_version": "1.5.0",
            "_view_name": "HBoxView",
            "box_style": "",
            "children": [
              "IPY_MODEL_65dea51c6fb84da8b31427b8ec83aa51",
              "IPY_MODEL_b4d1954729654192805b93186374467c",
              "IPY_MODEL_d9a5415a0a564a4abb9af50f431576b0"
            ],
            "layout": "IPY_MODEL_7e053d0473674f259ecdc45a90fd0ee7"
          }
        },
        "65dea51c6fb84da8b31427b8ec83aa51": {
          "model_module": "@jupyter-widgets/controls",
          "model_name": "HTMLModel",
          "model_module_version": "1.5.0",
          "state": {
            "_dom_classes": [],
            "_model_module": "@jupyter-widgets/controls",
            "_model_module_version": "1.5.0",
            "_model_name": "HTMLModel",
            "_view_count": null,
            "_view_module": "@jupyter-widgets/controls",
            "_view_module_version": "1.5.0",
            "_view_name": "HTMLView",
            "description": "",
            "description_tooltip": null,
            "layout": "IPY_MODEL_41adf2d96d8f463495d24a5233f7074f",
            "placeholder": "​",
            "style": "IPY_MODEL_92d6bfadfeb44d29bb148646707308bd",
            "value": "Summarize dataset: 100%"
          }
        },
        "b4d1954729654192805b93186374467c": {
          "model_module": "@jupyter-widgets/controls",
          "model_name": "FloatProgressModel",
          "model_module_version": "1.5.0",
          "state": {
            "_dom_classes": [],
            "_model_module": "@jupyter-widgets/controls",
            "_model_module_version": "1.5.0",
            "_model_name": "FloatProgressModel",
            "_view_count": null,
            "_view_module": "@jupyter-widgets/controls",
            "_view_module_version": "1.5.0",
            "_view_name": "ProgressView",
            "bar_style": "success",
            "description": "",
            "description_tooltip": null,
            "layout": "IPY_MODEL_283b56d78a8549e5a69af8a9d6c2f0af",
            "max": 5,
            "min": 0,
            "orientation": "horizontal",
            "style": "IPY_MODEL_0e22ff7e6b6f4e64856453efac5670f7",
            "value": 5
          }
        },
        "d9a5415a0a564a4abb9af50f431576b0": {
          "model_module": "@jupyter-widgets/controls",
          "model_name": "HTMLModel",
          "model_module_version": "1.5.0",
          "state": {
            "_dom_classes": [],
            "_model_module": "@jupyter-widgets/controls",
            "_model_module_version": "1.5.0",
            "_model_name": "HTMLModel",
            "_view_count": null,
            "_view_module": "@jupyter-widgets/controls",
            "_view_module_version": "1.5.0",
            "_view_name": "HTMLView",
            "description": "",
            "description_tooltip": null,
            "layout": "IPY_MODEL_6d4f22285dce4252abd3661fe1ed9b42",
            "placeholder": "​",
            "style": "IPY_MODEL_113befb5928b4bd9bb813aa55ecc47ae",
            "value": " 198/198 [00:55&lt;00:00,  4.15it/s, Completed]"
          }
        },
        "7e053d0473674f259ecdc45a90fd0ee7": {
          "model_module": "@jupyter-widgets/base",
          "model_name": "LayoutModel",
          "model_module_version": "1.2.0",
          "state": {
            "_model_module": "@jupyter-widgets/base",
            "_model_module_version": "1.2.0",
            "_model_name": "LayoutModel",
            "_view_count": null,
            "_view_module": "@jupyter-widgets/base",
            "_view_module_version": "1.2.0",
            "_view_name": "LayoutView",
            "align_content": null,
            "align_items": null,
            "align_self": null,
            "border": null,
            "bottom": null,
            "display": null,
            "flex": null,
            "flex_flow": null,
            "grid_area": null,
            "grid_auto_columns": null,
            "grid_auto_flow": null,
            "grid_auto_rows": null,
            "grid_column": null,
            "grid_gap": null,
            "grid_row": null,
            "grid_template_areas": null,
            "grid_template_columns": null,
            "grid_template_rows": null,
            "height": null,
            "justify_content": null,
            "justify_items": null,
            "left": null,
            "margin": null,
            "max_height": null,
            "max_width": null,
            "min_height": null,
            "min_width": null,
            "object_fit": null,
            "object_position": null,
            "order": null,
            "overflow": null,
            "overflow_x": null,
            "overflow_y": null,
            "padding": null,
            "right": null,
            "top": null,
            "visibility": null,
            "width": null
          }
        },
        "41adf2d96d8f463495d24a5233f7074f": {
          "model_module": "@jupyter-widgets/base",
          "model_name": "LayoutModel",
          "model_module_version": "1.2.0",
          "state": {
            "_model_module": "@jupyter-widgets/base",
            "_model_module_version": "1.2.0",
            "_model_name": "LayoutModel",
            "_view_count": null,
            "_view_module": "@jupyter-widgets/base",
            "_view_module_version": "1.2.0",
            "_view_name": "LayoutView",
            "align_content": null,
            "align_items": null,
            "align_self": null,
            "border": null,
            "bottom": null,
            "display": null,
            "flex": null,
            "flex_flow": null,
            "grid_area": null,
            "grid_auto_columns": null,
            "grid_auto_flow": null,
            "grid_auto_rows": null,
            "grid_column": null,
            "grid_gap": null,
            "grid_row": null,
            "grid_template_areas": null,
            "grid_template_columns": null,
            "grid_template_rows": null,
            "height": null,
            "justify_content": null,
            "justify_items": null,
            "left": null,
            "margin": null,
            "max_height": null,
            "max_width": null,
            "min_height": null,
            "min_width": null,
            "object_fit": null,
            "object_position": null,
            "order": null,
            "overflow": null,
            "overflow_x": null,
            "overflow_y": null,
            "padding": null,
            "right": null,
            "top": null,
            "visibility": null,
            "width": null
          }
        },
        "92d6bfadfeb44d29bb148646707308bd": {
          "model_module": "@jupyter-widgets/controls",
          "model_name": "DescriptionStyleModel",
          "model_module_version": "1.5.0",
          "state": {
            "_model_module": "@jupyter-widgets/controls",
            "_model_module_version": "1.5.0",
            "_model_name": "DescriptionStyleModel",
            "_view_count": null,
            "_view_module": "@jupyter-widgets/base",
            "_view_module_version": "1.2.0",
            "_view_name": "StyleView",
            "description_width": ""
          }
        },
        "283b56d78a8549e5a69af8a9d6c2f0af": {
          "model_module": "@jupyter-widgets/base",
          "model_name": "LayoutModel",
          "model_module_version": "1.2.0",
          "state": {
            "_model_module": "@jupyter-widgets/base",
            "_model_module_version": "1.2.0",
            "_model_name": "LayoutModel",
            "_view_count": null,
            "_view_module": "@jupyter-widgets/base",
            "_view_module_version": "1.2.0",
            "_view_name": "LayoutView",
            "align_content": null,
            "align_items": null,
            "align_self": null,
            "border": null,
            "bottom": null,
            "display": null,
            "flex": null,
            "flex_flow": null,
            "grid_area": null,
            "grid_auto_columns": null,
            "grid_auto_flow": null,
            "grid_auto_rows": null,
            "grid_column": null,
            "grid_gap": null,
            "grid_row": null,
            "grid_template_areas": null,
            "grid_template_columns": null,
            "grid_template_rows": null,
            "height": null,
            "justify_content": null,
            "justify_items": null,
            "left": null,
            "margin": null,
            "max_height": null,
            "max_width": null,
            "min_height": null,
            "min_width": null,
            "object_fit": null,
            "object_position": null,
            "order": null,
            "overflow": null,
            "overflow_x": null,
            "overflow_y": null,
            "padding": null,
            "right": null,
            "top": null,
            "visibility": null,
            "width": null
          }
        },
        "0e22ff7e6b6f4e64856453efac5670f7": {
          "model_module": "@jupyter-widgets/controls",
          "model_name": "ProgressStyleModel",
          "model_module_version": "1.5.0",
          "state": {
            "_model_module": "@jupyter-widgets/controls",
            "_model_module_version": "1.5.0",
            "_model_name": "ProgressStyleModel",
            "_view_count": null,
            "_view_module": "@jupyter-widgets/base",
            "_view_module_version": "1.2.0",
            "_view_name": "StyleView",
            "bar_color": null,
            "description_width": ""
          }
        },
        "6d4f22285dce4252abd3661fe1ed9b42": {
          "model_module": "@jupyter-widgets/base",
          "model_name": "LayoutModel",
          "model_module_version": "1.2.0",
          "state": {
            "_model_module": "@jupyter-widgets/base",
            "_model_module_version": "1.2.0",
            "_model_name": "LayoutModel",
            "_view_count": null,
            "_view_module": "@jupyter-widgets/base",
            "_view_module_version": "1.2.0",
            "_view_name": "LayoutView",
            "align_content": null,
            "align_items": null,
            "align_self": null,
            "border": null,
            "bottom": null,
            "display": null,
            "flex": null,
            "flex_flow": null,
            "grid_area": null,
            "grid_auto_columns": null,
            "grid_auto_flow": null,
            "grid_auto_rows": null,
            "grid_column": null,
            "grid_gap": null,
            "grid_row": null,
            "grid_template_areas": null,
            "grid_template_columns": null,
            "grid_template_rows": null,
            "height": null,
            "justify_content": null,
            "justify_items": null,
            "left": null,
            "margin": null,
            "max_height": null,
            "max_width": null,
            "min_height": null,
            "min_width": null,
            "object_fit": null,
            "object_position": null,
            "order": null,
            "overflow": null,
            "overflow_x": null,
            "overflow_y": null,
            "padding": null,
            "right": null,
            "top": null,
            "visibility": null,
            "width": null
          }
        },
        "113befb5928b4bd9bb813aa55ecc47ae": {
          "model_module": "@jupyter-widgets/controls",
          "model_name": "DescriptionStyleModel",
          "model_module_version": "1.5.0",
          "state": {
            "_model_module": "@jupyter-widgets/controls",
            "_model_module_version": "1.5.0",
            "_model_name": "DescriptionStyleModel",
            "_view_count": null,
            "_view_module": "@jupyter-widgets/base",
            "_view_module_version": "1.2.0",
            "_view_name": "StyleView",
            "description_width": ""
          }
        },
        "7ab04891b21944deb933dfe08afef70a": {
          "model_module": "@jupyter-widgets/controls",
          "model_name": "HBoxModel",
          "model_module_version": "1.5.0",
          "state": {
            "_dom_classes": [],
            "_model_module": "@jupyter-widgets/controls",
            "_model_module_version": "1.5.0",
            "_model_name": "HBoxModel",
            "_view_count": null,
            "_view_module": "@jupyter-widgets/controls",
            "_view_module_version": "1.5.0",
            "_view_name": "HBoxView",
            "box_style": "",
            "children": [
              "IPY_MODEL_3187eb1b62034aa39c9554d138b016af",
              "IPY_MODEL_19a45d74be594b45b5a12b8008763ac7",
              "IPY_MODEL_5d6c8e3858b44b448f32f7a00d61e9af"
            ],
            "layout": "IPY_MODEL_8c1a87cae2344f1ab3df0bdb3fd78bc2"
          }
        },
        "3187eb1b62034aa39c9554d138b016af": {
          "model_module": "@jupyter-widgets/controls",
          "model_name": "HTMLModel",
          "model_module_version": "1.5.0",
          "state": {
            "_dom_classes": [],
            "_model_module": "@jupyter-widgets/controls",
            "_model_module_version": "1.5.0",
            "_model_name": "HTMLModel",
            "_view_count": null,
            "_view_module": "@jupyter-widgets/controls",
            "_view_module_version": "1.5.0",
            "_view_name": "HTMLView",
            "description": "",
            "description_tooltip": null,
            "layout": "IPY_MODEL_026b7c0c96294e1a850622b602186f8c",
            "placeholder": "​",
            "style": "IPY_MODEL_774891bdef1b4b0da769a1f3a01bcda8",
            "value": "Generate report structure: 100%"
          }
        },
        "19a45d74be594b45b5a12b8008763ac7": {
          "model_module": "@jupyter-widgets/controls",
          "model_name": "FloatProgressModel",
          "model_module_version": "1.5.0",
          "state": {
            "_dom_classes": [],
            "_model_module": "@jupyter-widgets/controls",
            "_model_module_version": "1.5.0",
            "_model_name": "FloatProgressModel",
            "_view_count": null,
            "_view_module": "@jupyter-widgets/controls",
            "_view_module_version": "1.5.0",
            "_view_name": "ProgressView",
            "bar_style": "success",
            "description": "",
            "description_tooltip": null,
            "layout": "IPY_MODEL_a5f0d65a97944755a40d01c953d0509f",
            "max": 1,
            "min": 0,
            "orientation": "horizontal",
            "style": "IPY_MODEL_96159b7fb2be4b5193c42fb29d832ca9",
            "value": 1
          }
        },
        "5d6c8e3858b44b448f32f7a00d61e9af": {
          "model_module": "@jupyter-widgets/controls",
          "model_name": "HTMLModel",
          "model_module_version": "1.5.0",
          "state": {
            "_dom_classes": [],
            "_model_module": "@jupyter-widgets/controls",
            "_model_module_version": "1.5.0",
            "_model_name": "HTMLModel",
            "_view_count": null,
            "_view_module": "@jupyter-widgets/controls",
            "_view_module_version": "1.5.0",
            "_view_name": "HTMLView",
            "description": "",
            "description_tooltip": null,
            "layout": "IPY_MODEL_7c1cbcafdad0485fa6a48bdc548ead1c",
            "placeholder": "​",
            "style": "IPY_MODEL_56bd836bbdda4971b93b223efb1a0e44",
            "value": " 1/1 [00:08&lt;00:00,  8.11s/it]"
          }
        },
        "8c1a87cae2344f1ab3df0bdb3fd78bc2": {
          "model_module": "@jupyter-widgets/base",
          "model_name": "LayoutModel",
          "model_module_version": "1.2.0",
          "state": {
            "_model_module": "@jupyter-widgets/base",
            "_model_module_version": "1.2.0",
            "_model_name": "LayoutModel",
            "_view_count": null,
            "_view_module": "@jupyter-widgets/base",
            "_view_module_version": "1.2.0",
            "_view_name": "LayoutView",
            "align_content": null,
            "align_items": null,
            "align_self": null,
            "border": null,
            "bottom": null,
            "display": null,
            "flex": null,
            "flex_flow": null,
            "grid_area": null,
            "grid_auto_columns": null,
            "grid_auto_flow": null,
            "grid_auto_rows": null,
            "grid_column": null,
            "grid_gap": null,
            "grid_row": null,
            "grid_template_areas": null,
            "grid_template_columns": null,
            "grid_template_rows": null,
            "height": null,
            "justify_content": null,
            "justify_items": null,
            "left": null,
            "margin": null,
            "max_height": null,
            "max_width": null,
            "min_height": null,
            "min_width": null,
            "object_fit": null,
            "object_position": null,
            "order": null,
            "overflow": null,
            "overflow_x": null,
            "overflow_y": null,
            "padding": null,
            "right": null,
            "top": null,
            "visibility": null,
            "width": null
          }
        },
        "026b7c0c96294e1a850622b602186f8c": {
          "model_module": "@jupyter-widgets/base",
          "model_name": "LayoutModel",
          "model_module_version": "1.2.0",
          "state": {
            "_model_module": "@jupyter-widgets/base",
            "_model_module_version": "1.2.0",
            "_model_name": "LayoutModel",
            "_view_count": null,
            "_view_module": "@jupyter-widgets/base",
            "_view_module_version": "1.2.0",
            "_view_name": "LayoutView",
            "align_content": null,
            "align_items": null,
            "align_self": null,
            "border": null,
            "bottom": null,
            "display": null,
            "flex": null,
            "flex_flow": null,
            "grid_area": null,
            "grid_auto_columns": null,
            "grid_auto_flow": null,
            "grid_auto_rows": null,
            "grid_column": null,
            "grid_gap": null,
            "grid_row": null,
            "grid_template_areas": null,
            "grid_template_columns": null,
            "grid_template_rows": null,
            "height": null,
            "justify_content": null,
            "justify_items": null,
            "left": null,
            "margin": null,
            "max_height": null,
            "max_width": null,
            "min_height": null,
            "min_width": null,
            "object_fit": null,
            "object_position": null,
            "order": null,
            "overflow": null,
            "overflow_x": null,
            "overflow_y": null,
            "padding": null,
            "right": null,
            "top": null,
            "visibility": null,
            "width": null
          }
        },
        "774891bdef1b4b0da769a1f3a01bcda8": {
          "model_module": "@jupyter-widgets/controls",
          "model_name": "DescriptionStyleModel",
          "model_module_version": "1.5.0",
          "state": {
            "_model_module": "@jupyter-widgets/controls",
            "_model_module_version": "1.5.0",
            "_model_name": "DescriptionStyleModel",
            "_view_count": null,
            "_view_module": "@jupyter-widgets/base",
            "_view_module_version": "1.2.0",
            "_view_name": "StyleView",
            "description_width": ""
          }
        },
        "a5f0d65a97944755a40d01c953d0509f": {
          "model_module": "@jupyter-widgets/base",
          "model_name": "LayoutModel",
          "model_module_version": "1.2.0",
          "state": {
            "_model_module": "@jupyter-widgets/base",
            "_model_module_version": "1.2.0",
            "_model_name": "LayoutModel",
            "_view_count": null,
            "_view_module": "@jupyter-widgets/base",
            "_view_module_version": "1.2.0",
            "_view_name": "LayoutView",
            "align_content": null,
            "align_items": null,
            "align_self": null,
            "border": null,
            "bottom": null,
            "display": null,
            "flex": null,
            "flex_flow": null,
            "grid_area": null,
            "grid_auto_columns": null,
            "grid_auto_flow": null,
            "grid_auto_rows": null,
            "grid_column": null,
            "grid_gap": null,
            "grid_row": null,
            "grid_template_areas": null,
            "grid_template_columns": null,
            "grid_template_rows": null,
            "height": null,
            "justify_content": null,
            "justify_items": null,
            "left": null,
            "margin": null,
            "max_height": null,
            "max_width": null,
            "min_height": null,
            "min_width": null,
            "object_fit": null,
            "object_position": null,
            "order": null,
            "overflow": null,
            "overflow_x": null,
            "overflow_y": null,
            "padding": null,
            "right": null,
            "top": null,
            "visibility": null,
            "width": null
          }
        },
        "96159b7fb2be4b5193c42fb29d832ca9": {
          "model_module": "@jupyter-widgets/controls",
          "model_name": "ProgressStyleModel",
          "model_module_version": "1.5.0",
          "state": {
            "_model_module": "@jupyter-widgets/controls",
            "_model_module_version": "1.5.0",
            "_model_name": "ProgressStyleModel",
            "_view_count": null,
            "_view_module": "@jupyter-widgets/base",
            "_view_module_version": "1.2.0",
            "_view_name": "StyleView",
            "bar_color": null,
            "description_width": ""
          }
        },
        "7c1cbcafdad0485fa6a48bdc548ead1c": {
          "model_module": "@jupyter-widgets/base",
          "model_name": "LayoutModel",
          "model_module_version": "1.2.0",
          "state": {
            "_model_module": "@jupyter-widgets/base",
            "_model_module_version": "1.2.0",
            "_model_name": "LayoutModel",
            "_view_count": null,
            "_view_module": "@jupyter-widgets/base",
            "_view_module_version": "1.2.0",
            "_view_name": "LayoutView",
            "align_content": null,
            "align_items": null,
            "align_self": null,
            "border": null,
            "bottom": null,
            "display": null,
            "flex": null,
            "flex_flow": null,
            "grid_area": null,
            "grid_auto_columns": null,
            "grid_auto_flow": null,
            "grid_auto_rows": null,
            "grid_column": null,
            "grid_gap": null,
            "grid_row": null,
            "grid_template_areas": null,
            "grid_template_columns": null,
            "grid_template_rows": null,
            "height": null,
            "justify_content": null,
            "justify_items": null,
            "left": null,
            "margin": null,
            "max_height": null,
            "max_width": null,
            "min_height": null,
            "min_width": null,
            "object_fit": null,
            "object_position": null,
            "order": null,
            "overflow": null,
            "overflow_x": null,
            "overflow_y": null,
            "padding": null,
            "right": null,
            "top": null,
            "visibility": null,
            "width": null
          }
        },
        "56bd836bbdda4971b93b223efb1a0e44": {
          "model_module": "@jupyter-widgets/controls",
          "model_name": "DescriptionStyleModel",
          "model_module_version": "1.5.0",
          "state": {
            "_model_module": "@jupyter-widgets/controls",
            "_model_module_version": "1.5.0",
            "_model_name": "DescriptionStyleModel",
            "_view_count": null,
            "_view_module": "@jupyter-widgets/base",
            "_view_module_version": "1.2.0",
            "_view_name": "StyleView",
            "description_width": ""
          }
        },
        "25470e8674da450a9434cf3ca310c97f": {
          "model_module": "@jupyter-widgets/controls",
          "model_name": "HBoxModel",
          "model_module_version": "1.5.0",
          "state": {
            "_dom_classes": [],
            "_model_module": "@jupyter-widgets/controls",
            "_model_module_version": "1.5.0",
            "_model_name": "HBoxModel",
            "_view_count": null,
            "_view_module": "@jupyter-widgets/controls",
            "_view_module_version": "1.5.0",
            "_view_name": "HBoxView",
            "box_style": "",
            "children": [
              "IPY_MODEL_8d003f79c80f4f019e8cf3fc86b7ee3e",
              "IPY_MODEL_ddc6191507774f35902862b0fe334aaf",
              "IPY_MODEL_a94969e19d7e44e3ac2691f8902a21db"
            ],
            "layout": "IPY_MODEL_3f03e9906a0643e7960e37d8b972af40"
          }
        },
        "8d003f79c80f4f019e8cf3fc86b7ee3e": {
          "model_module": "@jupyter-widgets/controls",
          "model_name": "HTMLModel",
          "model_module_version": "1.5.0",
          "state": {
            "_dom_classes": [],
            "_model_module": "@jupyter-widgets/controls",
            "_model_module_version": "1.5.0",
            "_model_name": "HTMLModel",
            "_view_count": null,
            "_view_module": "@jupyter-widgets/controls",
            "_view_module_version": "1.5.0",
            "_view_name": "HTMLView",
            "description": "",
            "description_tooltip": null,
            "layout": "IPY_MODEL_79d1cadc5d254b7fae5ae5e6f244d746",
            "placeholder": "​",
            "style": "IPY_MODEL_23da45c5cb5e4a4aba314f7359f7ef1d",
            "value": "Render HTML: 100%"
          }
        },
        "ddc6191507774f35902862b0fe334aaf": {
          "model_module": "@jupyter-widgets/controls",
          "model_name": "FloatProgressModel",
          "model_module_version": "1.5.0",
          "state": {
            "_dom_classes": [],
            "_model_module": "@jupyter-widgets/controls",
            "_model_module_version": "1.5.0",
            "_model_name": "FloatProgressModel",
            "_view_count": null,
            "_view_module": "@jupyter-widgets/controls",
            "_view_module_version": "1.5.0",
            "_view_name": "ProgressView",
            "bar_style": "success",
            "description": "",
            "description_tooltip": null,
            "layout": "IPY_MODEL_97b78881fc234611b1d3578014e80f23",
            "max": 1,
            "min": 0,
            "orientation": "horizontal",
            "style": "IPY_MODEL_d0b8a1cc0028463f921e089dab7fc4ca",
            "value": 1
          }
        },
        "a94969e19d7e44e3ac2691f8902a21db": {
          "model_module": "@jupyter-widgets/controls",
          "model_name": "HTMLModel",
          "model_module_version": "1.5.0",
          "state": {
            "_dom_classes": [],
            "_model_module": "@jupyter-widgets/controls",
            "_model_module_version": "1.5.0",
            "_model_name": "HTMLModel",
            "_view_count": null,
            "_view_module": "@jupyter-widgets/controls",
            "_view_module_version": "1.5.0",
            "_view_name": "HTMLView",
            "description": "",
            "description_tooltip": null,
            "layout": "IPY_MODEL_b0f315f5400546298d6c5217e692f004",
            "placeholder": "​",
            "style": "IPY_MODEL_cf5b966ba656487097338ca6fa3cf074",
            "value": " 1/1 [00:06&lt;00:00,  6.53s/it]"
          }
        },
        "3f03e9906a0643e7960e37d8b972af40": {
          "model_module": "@jupyter-widgets/base",
          "model_name": "LayoutModel",
          "model_module_version": "1.2.0",
          "state": {
            "_model_module": "@jupyter-widgets/base",
            "_model_module_version": "1.2.0",
            "_model_name": "LayoutModel",
            "_view_count": null,
            "_view_module": "@jupyter-widgets/base",
            "_view_module_version": "1.2.0",
            "_view_name": "LayoutView",
            "align_content": null,
            "align_items": null,
            "align_self": null,
            "border": null,
            "bottom": null,
            "display": null,
            "flex": null,
            "flex_flow": null,
            "grid_area": null,
            "grid_auto_columns": null,
            "grid_auto_flow": null,
            "grid_auto_rows": null,
            "grid_column": null,
            "grid_gap": null,
            "grid_row": null,
            "grid_template_areas": null,
            "grid_template_columns": null,
            "grid_template_rows": null,
            "height": null,
            "justify_content": null,
            "justify_items": null,
            "left": null,
            "margin": null,
            "max_height": null,
            "max_width": null,
            "min_height": null,
            "min_width": null,
            "object_fit": null,
            "object_position": null,
            "order": null,
            "overflow": null,
            "overflow_x": null,
            "overflow_y": null,
            "padding": null,
            "right": null,
            "top": null,
            "visibility": null,
            "width": null
          }
        },
        "79d1cadc5d254b7fae5ae5e6f244d746": {
          "model_module": "@jupyter-widgets/base",
          "model_name": "LayoutModel",
          "model_module_version": "1.2.0",
          "state": {
            "_model_module": "@jupyter-widgets/base",
            "_model_module_version": "1.2.0",
            "_model_name": "LayoutModel",
            "_view_count": null,
            "_view_module": "@jupyter-widgets/base",
            "_view_module_version": "1.2.0",
            "_view_name": "LayoutView",
            "align_content": null,
            "align_items": null,
            "align_self": null,
            "border": null,
            "bottom": null,
            "display": null,
            "flex": null,
            "flex_flow": null,
            "grid_area": null,
            "grid_auto_columns": null,
            "grid_auto_flow": null,
            "grid_auto_rows": null,
            "grid_column": null,
            "grid_gap": null,
            "grid_row": null,
            "grid_template_areas": null,
            "grid_template_columns": null,
            "grid_template_rows": null,
            "height": null,
            "justify_content": null,
            "justify_items": null,
            "left": null,
            "margin": null,
            "max_height": null,
            "max_width": null,
            "min_height": null,
            "min_width": null,
            "object_fit": null,
            "object_position": null,
            "order": null,
            "overflow": null,
            "overflow_x": null,
            "overflow_y": null,
            "padding": null,
            "right": null,
            "top": null,
            "visibility": null,
            "width": null
          }
        },
        "23da45c5cb5e4a4aba314f7359f7ef1d": {
          "model_module": "@jupyter-widgets/controls",
          "model_name": "DescriptionStyleModel",
          "model_module_version": "1.5.0",
          "state": {
            "_model_module": "@jupyter-widgets/controls",
            "_model_module_version": "1.5.0",
            "_model_name": "DescriptionStyleModel",
            "_view_count": null,
            "_view_module": "@jupyter-widgets/base",
            "_view_module_version": "1.2.0",
            "_view_name": "StyleView",
            "description_width": ""
          }
        },
        "97b78881fc234611b1d3578014e80f23": {
          "model_module": "@jupyter-widgets/base",
          "model_name": "LayoutModel",
          "model_module_version": "1.2.0",
          "state": {
            "_model_module": "@jupyter-widgets/base",
            "_model_module_version": "1.2.0",
            "_model_name": "LayoutModel",
            "_view_count": null,
            "_view_module": "@jupyter-widgets/base",
            "_view_module_version": "1.2.0",
            "_view_name": "LayoutView",
            "align_content": null,
            "align_items": null,
            "align_self": null,
            "border": null,
            "bottom": null,
            "display": null,
            "flex": null,
            "flex_flow": null,
            "grid_area": null,
            "grid_auto_columns": null,
            "grid_auto_flow": null,
            "grid_auto_rows": null,
            "grid_column": null,
            "grid_gap": null,
            "grid_row": null,
            "grid_template_areas": null,
            "grid_template_columns": null,
            "grid_template_rows": null,
            "height": null,
            "justify_content": null,
            "justify_items": null,
            "left": null,
            "margin": null,
            "max_height": null,
            "max_width": null,
            "min_height": null,
            "min_width": null,
            "object_fit": null,
            "object_position": null,
            "order": null,
            "overflow": null,
            "overflow_x": null,
            "overflow_y": null,
            "padding": null,
            "right": null,
            "top": null,
            "visibility": null,
            "width": null
          }
        },
        "d0b8a1cc0028463f921e089dab7fc4ca": {
          "model_module": "@jupyter-widgets/controls",
          "model_name": "ProgressStyleModel",
          "model_module_version": "1.5.0",
          "state": {
            "_model_module": "@jupyter-widgets/controls",
            "_model_module_version": "1.5.0",
            "_model_name": "ProgressStyleModel",
            "_view_count": null,
            "_view_module": "@jupyter-widgets/base",
            "_view_module_version": "1.2.0",
            "_view_name": "StyleView",
            "bar_color": null,
            "description_width": ""
          }
        },
        "b0f315f5400546298d6c5217e692f004": {
          "model_module": "@jupyter-widgets/base",
          "model_name": "LayoutModel",
          "model_module_version": "1.2.0",
          "state": {
            "_model_module": "@jupyter-widgets/base",
            "_model_module_version": "1.2.0",
            "_model_name": "LayoutModel",
            "_view_count": null,
            "_view_module": "@jupyter-widgets/base",
            "_view_module_version": "1.2.0",
            "_view_name": "LayoutView",
            "align_content": null,
            "align_items": null,
            "align_self": null,
            "border": null,
            "bottom": null,
            "display": null,
            "flex": null,
            "flex_flow": null,
            "grid_area": null,
            "grid_auto_columns": null,
            "grid_auto_flow": null,
            "grid_auto_rows": null,
            "grid_column": null,
            "grid_gap": null,
            "grid_row": null,
            "grid_template_areas": null,
            "grid_template_columns": null,
            "grid_template_rows": null,
            "height": null,
            "justify_content": null,
            "justify_items": null,
            "left": null,
            "margin": null,
            "max_height": null,
            "max_width": null,
            "min_height": null,
            "min_width": null,
            "object_fit": null,
            "object_position": null,
            "order": null,
            "overflow": null,
            "overflow_x": null,
            "overflow_y": null,
            "padding": null,
            "right": null,
            "top": null,
            "visibility": null,
            "width": null
          }
        },
        "cf5b966ba656487097338ca6fa3cf074": {
          "model_module": "@jupyter-widgets/controls",
          "model_name": "DescriptionStyleModel",
          "model_module_version": "1.5.0",
          "state": {
            "_model_module": "@jupyter-widgets/controls",
            "_model_module_version": "1.5.0",
            "_model_name": "DescriptionStyleModel",
            "_view_count": null,
            "_view_module": "@jupyter-widgets/base",
            "_view_module_version": "1.2.0",
            "_view_name": "StyleView",
            "description_width": ""
          }
        }
      }
    }
  },
  "cells": [
    {
      "cell_type": "markdown",
      "metadata": {
        "id": "view-in-github",
        "colab_type": "text"
      },
      "source": [
        "<a href=\"https://colab.research.google.com/github/kermityan/EPAM-DS-ML-Course-Notebooks/blob/main/AirQuality_LR.ipynb\" target=\"_parent\"><img src=\"https://colab.research.google.com/assets/colab-badge.svg\" alt=\"Open In Colab\"/></a>"
      ]
    },
    {
      "cell_type": "markdown",
      "source": [
        "# **Linear Regression analysis of Air Quality dataset**"
      ],
      "metadata": {
        "id": "8t3zx8yp1L52"
      }
    },
    {
      "cell_type": "code",
      "source": [
        "! pip install pandas-profiling==3.2.0"
      ],
      "metadata": {
        "id": "eDkSP-8hyRcF"
      },
      "execution_count": null,
      "outputs": []
    },
    {
      "cell_type": "code",
      "source": [
        "! pip install markupsafe==2.0.1"
      ],
      "metadata": {
        "id": "lsOLL3LezMd2"
      },
      "execution_count": null,
      "outputs": []
    },
    {
      "cell_type": "markdown",
      "source": [
        "Importing necessary libraries:"
      ],
      "metadata": {
        "id": "dujChjzp1VIq"
      }
    },
    {
      "cell_type": "code",
      "execution_count": null,
      "metadata": {
        "id": "6zxS808Zhl1L"
      },
      "outputs": [],
      "source": [
        "%matplotlib inline\n",
        "\n",
        "import pandas as pd\n",
        "import numpy as np\n",
        "import os\n",
        "import random\n",
        "import warnings\n",
        "warnings.filterwarnings('ignore')\n",
        "\n",
        "import seaborn as sns\n",
        "import matplotlib.pyplot as plt\n",
        "from pathlib import Path\n",
        "import scipy.stats as st\n",
        "\n",
        "from pandas_profiling import ProfileReport\n",
        "from sklearn.model_selection import train_test_split, cross_val_score, GridSearchCV, KFold\n",
        "from sklearn.linear_model import LinearRegression, Ridge, Lasso, ElasticNet\n",
        "from sklearn.preprocessing import StandardScaler, RobustScaler, OneHotEncoder\n",
        "from sklearn.decomposition import PCA\n",
        "from sklearn.impute import SimpleImputer\n",
        "from sklearn.pipeline import Pipeline, make_pipeline\n",
        "from sklearn_pandas import DataFrameMapper, gen_features\n",
        "from sklearn import metrics\n",
        "from sklearn.metrics import mean_squared_error, r2_score, mean_absolute_error\n",
        "from sklearn.base import clone\n",
        "from sklearn.linear_model import RidgeCV"
      ]
    },
    {
      "cell_type": "markdown",
      "source": [
        "Loading data:"
      ],
      "metadata": {
        "id": "2F7dnDKD1oCd"
      }
    },
    {
      "cell_type": "code",
      "source": [
        "data = pd.read_csv('./AirQualityUCI.csv', sep=';')"
      ],
      "metadata": {
        "id": "v-6qzLZPiFDR"
      },
      "execution_count": null,
      "outputs": []
    },
    {
      "cell_type": "markdown",
      "source": [
        "Setting global constants:"
      ],
      "metadata": {
        "id": "tDLJ65a81uet"
      }
    },
    {
      "cell_type": "code",
      "source": [
        "SEED = 844\n",
        "TARGET = 'C6H6(GT)'"
      ],
      "metadata": {
        "id": "AQfPN12Chn-Z"
      },
      "execution_count": null,
      "outputs": []
    },
    {
      "cell_type": "markdown",
      "source": [
        "# EDA"
      ],
      "metadata": {
        "id": "fIu5cWAo14k-"
      }
    },
    {
      "cell_type": "code",
      "source": [
        "data.head()"
      ],
      "metadata": {
        "colab": {
          "base_uri": "https://localhost:8080/",
          "height": 287
        },
        "id": "_vlv_Dz8i2B0",
        "outputId": "7ed813fd-0241-4b69-f126-0b43842f5c9a"
      },
      "execution_count": null,
      "outputs": [
        {
          "output_type": "execute_result",
          "data": {
            "text/plain": [
              "         Date      Time CO(GT)  PT08.S1(CO)  NMHC(GT) C6H6(GT)  PT08.S2(NMHC)  \\\n",
              "0  10/03/2004  18.00.00    2,6       1360.0     150.0     11,9         1046.0   \n",
              "1  10/03/2004  19.00.00      2       1292.0     112.0      9,4          955.0   \n",
              "2  10/03/2004  20.00.00    2,2       1402.0      88.0      9,0          939.0   \n",
              "3  10/03/2004  21.00.00    2,2       1376.0      80.0      9,2          948.0   \n",
              "4  10/03/2004  22.00.00    1,6       1272.0      51.0      6,5          836.0   \n",
              "\n",
              "   NOx(GT)  PT08.S3(NOx)  NO2(GT)  PT08.S4(NO2)  PT08.S5(O3)     T    RH  \\\n",
              "0    166.0        1056.0    113.0        1692.0       1268.0  13,6  48,9   \n",
              "1    103.0        1174.0     92.0        1559.0        972.0  13,3  47,7   \n",
              "2    131.0        1140.0    114.0        1555.0       1074.0  11,9  54,0   \n",
              "3    172.0        1092.0    122.0        1584.0       1203.0  11,0  60,0   \n",
              "4    131.0        1205.0    116.0        1490.0       1110.0  11,2  59,6   \n",
              "\n",
              "       AH  Unnamed: 15  Unnamed: 16  \n",
              "0  0,7578          NaN          NaN  \n",
              "1  0,7255          NaN          NaN  \n",
              "2  0,7502          NaN          NaN  \n",
              "3  0,7867          NaN          NaN  \n",
              "4  0,7888          NaN          NaN  "
            ],
            "text/html": [
              "\n",
              "  <div id=\"df-e40579b9-1c83-4f04-8ba7-f060396e315d\">\n",
              "    <div class=\"colab-df-container\">\n",
              "      <div>\n",
              "<style scoped>\n",
              "    .dataframe tbody tr th:only-of-type {\n",
              "        vertical-align: middle;\n",
              "    }\n",
              "\n",
              "    .dataframe tbody tr th {\n",
              "        vertical-align: top;\n",
              "    }\n",
              "\n",
              "    .dataframe thead th {\n",
              "        text-align: right;\n",
              "    }\n",
              "</style>\n",
              "<table border=\"1\" class=\"dataframe\">\n",
              "  <thead>\n",
              "    <tr style=\"text-align: right;\">\n",
              "      <th></th>\n",
              "      <th>Date</th>\n",
              "      <th>Time</th>\n",
              "      <th>CO(GT)</th>\n",
              "      <th>PT08.S1(CO)</th>\n",
              "      <th>NMHC(GT)</th>\n",
              "      <th>C6H6(GT)</th>\n",
              "      <th>PT08.S2(NMHC)</th>\n",
              "      <th>NOx(GT)</th>\n",
              "      <th>PT08.S3(NOx)</th>\n",
              "      <th>NO2(GT)</th>\n",
              "      <th>PT08.S4(NO2)</th>\n",
              "      <th>PT08.S5(O3)</th>\n",
              "      <th>T</th>\n",
              "      <th>RH</th>\n",
              "      <th>AH</th>\n",
              "      <th>Unnamed: 15</th>\n",
              "      <th>Unnamed: 16</th>\n",
              "    </tr>\n",
              "  </thead>\n",
              "  <tbody>\n",
              "    <tr>\n",
              "      <th>0</th>\n",
              "      <td>10/03/2004</td>\n",
              "      <td>18.00.00</td>\n",
              "      <td>2,6</td>\n",
              "      <td>1360.0</td>\n",
              "      <td>150.0</td>\n",
              "      <td>11,9</td>\n",
              "      <td>1046.0</td>\n",
              "      <td>166.0</td>\n",
              "      <td>1056.0</td>\n",
              "      <td>113.0</td>\n",
              "      <td>1692.0</td>\n",
              "      <td>1268.0</td>\n",
              "      <td>13,6</td>\n",
              "      <td>48,9</td>\n",
              "      <td>0,7578</td>\n",
              "      <td>NaN</td>\n",
              "      <td>NaN</td>\n",
              "    </tr>\n",
              "    <tr>\n",
              "      <th>1</th>\n",
              "      <td>10/03/2004</td>\n",
              "      <td>19.00.00</td>\n",
              "      <td>2</td>\n",
              "      <td>1292.0</td>\n",
              "      <td>112.0</td>\n",
              "      <td>9,4</td>\n",
              "      <td>955.0</td>\n",
              "      <td>103.0</td>\n",
              "      <td>1174.0</td>\n",
              "      <td>92.0</td>\n",
              "      <td>1559.0</td>\n",
              "      <td>972.0</td>\n",
              "      <td>13,3</td>\n",
              "      <td>47,7</td>\n",
              "      <td>0,7255</td>\n",
              "      <td>NaN</td>\n",
              "      <td>NaN</td>\n",
              "    </tr>\n",
              "    <tr>\n",
              "      <th>2</th>\n",
              "      <td>10/03/2004</td>\n",
              "      <td>20.00.00</td>\n",
              "      <td>2,2</td>\n",
              "      <td>1402.0</td>\n",
              "      <td>88.0</td>\n",
              "      <td>9,0</td>\n",
              "      <td>939.0</td>\n",
              "      <td>131.0</td>\n",
              "      <td>1140.0</td>\n",
              "      <td>114.0</td>\n",
              "      <td>1555.0</td>\n",
              "      <td>1074.0</td>\n",
              "      <td>11,9</td>\n",
              "      <td>54,0</td>\n",
              "      <td>0,7502</td>\n",
              "      <td>NaN</td>\n",
              "      <td>NaN</td>\n",
              "    </tr>\n",
              "    <tr>\n",
              "      <th>3</th>\n",
              "      <td>10/03/2004</td>\n",
              "      <td>21.00.00</td>\n",
              "      <td>2,2</td>\n",
              "      <td>1376.0</td>\n",
              "      <td>80.0</td>\n",
              "      <td>9,2</td>\n",
              "      <td>948.0</td>\n",
              "      <td>172.0</td>\n",
              "      <td>1092.0</td>\n",
              "      <td>122.0</td>\n",
              "      <td>1584.0</td>\n",
              "      <td>1203.0</td>\n",
              "      <td>11,0</td>\n",
              "      <td>60,0</td>\n",
              "      <td>0,7867</td>\n",
              "      <td>NaN</td>\n",
              "      <td>NaN</td>\n",
              "    </tr>\n",
              "    <tr>\n",
              "      <th>4</th>\n",
              "      <td>10/03/2004</td>\n",
              "      <td>22.00.00</td>\n",
              "      <td>1,6</td>\n",
              "      <td>1272.0</td>\n",
              "      <td>51.0</td>\n",
              "      <td>6,5</td>\n",
              "      <td>836.0</td>\n",
              "      <td>131.0</td>\n",
              "      <td>1205.0</td>\n",
              "      <td>116.0</td>\n",
              "      <td>1490.0</td>\n",
              "      <td>1110.0</td>\n",
              "      <td>11,2</td>\n",
              "      <td>59,6</td>\n",
              "      <td>0,7888</td>\n",
              "      <td>NaN</td>\n",
              "      <td>NaN</td>\n",
              "    </tr>\n",
              "  </tbody>\n",
              "</table>\n",
              "</div>\n",
              "      <button class=\"colab-df-convert\" onclick=\"convertToInteractive('df-e40579b9-1c83-4f04-8ba7-f060396e315d')\"\n",
              "              title=\"Convert this dataframe to an interactive table.\"\n",
              "              style=\"display:none;\">\n",
              "        \n",
              "  <svg xmlns=\"http://www.w3.org/2000/svg\" height=\"24px\"viewBox=\"0 0 24 24\"\n",
              "       width=\"24px\">\n",
              "    <path d=\"M0 0h24v24H0V0z\" fill=\"none\"/>\n",
              "    <path d=\"M18.56 5.44l.94 2.06.94-2.06 2.06-.94-2.06-.94-.94-2.06-.94 2.06-2.06.94zm-11 1L8.5 8.5l.94-2.06 2.06-.94-2.06-.94L8.5 2.5l-.94 2.06-2.06.94zm10 10l.94 2.06.94-2.06 2.06-.94-2.06-.94-.94-2.06-.94 2.06-2.06.94z\"/><path d=\"M17.41 7.96l-1.37-1.37c-.4-.4-.92-.59-1.43-.59-.52 0-1.04.2-1.43.59L10.3 9.45l-7.72 7.72c-.78.78-.78 2.05 0 2.83L4 21.41c.39.39.9.59 1.41.59.51 0 1.02-.2 1.41-.59l7.78-7.78 2.81-2.81c.8-.78.8-2.07 0-2.86zM5.41 20L4 18.59l7.72-7.72 1.47 1.35L5.41 20z\"/>\n",
              "  </svg>\n",
              "      </button>\n",
              "      \n",
              "  <style>\n",
              "    .colab-df-container {\n",
              "      display:flex;\n",
              "      flex-wrap:wrap;\n",
              "      gap: 12px;\n",
              "    }\n",
              "\n",
              "    .colab-df-convert {\n",
              "      background-color: #E8F0FE;\n",
              "      border: none;\n",
              "      border-radius: 50%;\n",
              "      cursor: pointer;\n",
              "      display: none;\n",
              "      fill: #1967D2;\n",
              "      height: 32px;\n",
              "      padding: 0 0 0 0;\n",
              "      width: 32px;\n",
              "    }\n",
              "\n",
              "    .colab-df-convert:hover {\n",
              "      background-color: #E2EBFA;\n",
              "      box-shadow: 0px 1px 2px rgba(60, 64, 67, 0.3), 0px 1px 3px 1px rgba(60, 64, 67, 0.15);\n",
              "      fill: #174EA6;\n",
              "    }\n",
              "\n",
              "    [theme=dark] .colab-df-convert {\n",
              "      background-color: #3B4455;\n",
              "      fill: #D2E3FC;\n",
              "    }\n",
              "\n",
              "    [theme=dark] .colab-df-convert:hover {\n",
              "      background-color: #434B5C;\n",
              "      box-shadow: 0px 1px 3px 1px rgba(0, 0, 0, 0.15);\n",
              "      filter: drop-shadow(0px 1px 2px rgba(0, 0, 0, 0.3));\n",
              "      fill: #FFFFFF;\n",
              "    }\n",
              "  </style>\n",
              "\n",
              "      <script>\n",
              "        const buttonEl =\n",
              "          document.querySelector('#df-e40579b9-1c83-4f04-8ba7-f060396e315d button.colab-df-convert');\n",
              "        buttonEl.style.display =\n",
              "          google.colab.kernel.accessAllowed ? 'block' : 'none';\n",
              "\n",
              "        async function convertToInteractive(key) {\n",
              "          const element = document.querySelector('#df-e40579b9-1c83-4f04-8ba7-f060396e315d');\n",
              "          const dataTable =\n",
              "            await google.colab.kernel.invokeFunction('convertToInteractive',\n",
              "                                                     [key], {});\n",
              "          if (!dataTable) return;\n",
              "\n",
              "          const docLinkHtml = 'Like what you see? Visit the ' +\n",
              "            '<a target=\"_blank\" href=https://colab.research.google.com/notebooks/data_table.ipynb>data table notebook</a>'\n",
              "            + ' to learn more about interactive tables.';\n",
              "          element.innerHTML = '';\n",
              "          dataTable['output_type'] = 'display_data';\n",
              "          await google.colab.output.renderOutput(dataTable, element);\n",
              "          const docLink = document.createElement('div');\n",
              "          docLink.innerHTML = docLinkHtml;\n",
              "          element.appendChild(docLink);\n",
              "        }\n",
              "      </script>\n",
              "    </div>\n",
              "  </div>\n",
              "  "
            ]
          },
          "metadata": {},
          "execution_count": 6
        }
      ]
    },
    {
      "cell_type": "code",
      "source": [
        "data.info()"
      ],
      "metadata": {
        "colab": {
          "base_uri": "https://localhost:8080/"
        },
        "id": "g9J0jvLPi4Dy",
        "outputId": "3ccdc98e-5e22-4669-96fc-69750e796b5e"
      },
      "execution_count": null,
      "outputs": [
        {
          "output_type": "stream",
          "name": "stdout",
          "text": [
            "<class 'pandas.core.frame.DataFrame'>\n",
            "RangeIndex: 9471 entries, 0 to 9470\n",
            "Data columns (total 17 columns):\n",
            " #   Column         Non-Null Count  Dtype  \n",
            "---  ------         --------------  -----  \n",
            " 0   Date           9357 non-null   object \n",
            " 1   Time           9357 non-null   object \n",
            " 2   CO(GT)         9357 non-null   object \n",
            " 3   PT08.S1(CO)    9357 non-null   float64\n",
            " 4   NMHC(GT)       9357 non-null   float64\n",
            " 5   C6H6(GT)       9357 non-null   object \n",
            " 6   PT08.S2(NMHC)  9357 non-null   float64\n",
            " 7   NOx(GT)        9357 non-null   float64\n",
            " 8   PT08.S3(NOx)   9357 non-null   float64\n",
            " 9   NO2(GT)        9357 non-null   float64\n",
            " 10  PT08.S4(NO2)   9357 non-null   float64\n",
            " 11  PT08.S5(O3)    9357 non-null   float64\n",
            " 12  T              9357 non-null   object \n",
            " 13  RH             9357 non-null   object \n",
            " 14  AH             9357 non-null   object \n",
            " 15  Unnamed: 15    0 non-null      float64\n",
            " 16  Unnamed: 16    0 non-null      float64\n",
            "dtypes: float64(10), object(7)\n",
            "memory usage: 1.2+ MB\n"
          ]
        }
      ]
    },
    {
      "cell_type": "code",
      "source": [
        "data.drop(['Unnamed: 15', 'Unnamed: 16'], axis=1, inplace=True)"
      ],
      "metadata": {
        "id": "baEuHY4ai_fG"
      },
      "execution_count": null,
      "outputs": []
    },
    {
      "cell_type": "code",
      "source": [
        "data.dtypes"
      ],
      "metadata": {
        "colab": {
          "base_uri": "https://localhost:8080/"
        },
        "id": "l7ghXXbskmp4",
        "outputId": "0b27ca87-3cb3-49a9-83c4-54fe7fa766f5"
      },
      "execution_count": null,
      "outputs": [
        {
          "output_type": "execute_result",
          "data": {
            "text/plain": [
              "Date              object\n",
              "Time              object\n",
              "CO(GT)            object\n",
              "PT08.S1(CO)      float64\n",
              "NMHC(GT)         float64\n",
              "C6H6(GT)          object\n",
              "PT08.S2(NMHC)    float64\n",
              "NOx(GT)          float64\n",
              "PT08.S3(NOx)     float64\n",
              "NO2(GT)          float64\n",
              "PT08.S4(NO2)     float64\n",
              "PT08.S5(O3)      float64\n",
              "T                 object\n",
              "RH                object\n",
              "AH                object\n",
              "dtype: object"
            ]
          },
          "metadata": {},
          "execution_count": 9
        }
      ]
    },
    {
      "cell_type": "markdown",
      "source": [
        "Combining Date and Time columns into one Timestamp and converting values into Datetime type:"
      ],
      "metadata": {
        "id": "fWkklCpj2C8i"
      }
    },
    {
      "cell_type": "code",
      "source": [
        "data['Timestamp'] = data['Date'] + ' ' + data['Time']\n",
        "data['Timestamp'] = pd.to_datetime(data['Timestamp'], format='%d/%m/%Y %H.%M.%S')"
      ],
      "metadata": {
        "id": "PFzsMEK1ozeI"
      },
      "execution_count": null,
      "outputs": []
    },
    {
      "cell_type": "code",
      "source": [
        "data.drop(['Date','Time'], axis=1, inplace=True)"
      ],
      "metadata": {
        "id": "LGKZv-GsNhVV"
      },
      "execution_count": null,
      "outputs": []
    },
    {
      "cell_type": "code",
      "source": [
        "data.head()"
      ],
      "metadata": {
        "colab": {
          "base_uri": "https://localhost:8080/",
          "height": 444
        },
        "id": "TVWNAvyYLnPE",
        "outputId": "9057b4c1-d787-4827-deed-f1a46dc2262d"
      },
      "execution_count": null,
      "outputs": [
        {
          "output_type": "execute_result",
          "data": {
            "text/plain": [
              "  CO(GT)  PT08.S1(CO)  NMHC(GT) C6H6(GT)  PT08.S2(NMHC)  NOx(GT)  \\\n",
              "0    2,6       1360.0     150.0     11,9         1046.0    166.0   \n",
              "1      2       1292.0     112.0      9,4          955.0    103.0   \n",
              "2    2,2       1402.0      88.0      9,0          939.0    131.0   \n",
              "3    2,2       1376.0      80.0      9,2          948.0    172.0   \n",
              "4    1,6       1272.0      51.0      6,5          836.0    131.0   \n",
              "\n",
              "   PT08.S3(NOx)  NO2(GT)  PT08.S4(NO2)  PT08.S5(O3)     T    RH      AH  \\\n",
              "0        1056.0    113.0        1692.0       1268.0  13,6  48,9  0,7578   \n",
              "1        1174.0     92.0        1559.0        972.0  13,3  47,7  0,7255   \n",
              "2        1140.0    114.0        1555.0       1074.0  11,9  54,0  0,7502   \n",
              "3        1092.0    122.0        1584.0       1203.0  11,0  60,0  0,7867   \n",
              "4        1205.0    116.0        1490.0       1110.0  11,2  59,6  0,7888   \n",
              "\n",
              "            Timestamp  \n",
              "0 2004-03-10 18:00:00  \n",
              "1 2004-03-10 19:00:00  \n",
              "2 2004-03-10 20:00:00  \n",
              "3 2004-03-10 21:00:00  \n",
              "4 2004-03-10 22:00:00  "
            ],
            "text/html": [
              "\n",
              "  <div id=\"df-b6b756cc-e457-4d78-8952-a48afd50a003\">\n",
              "    <div class=\"colab-df-container\">\n",
              "      <div>\n",
              "<style scoped>\n",
              "    .dataframe tbody tr th:only-of-type {\n",
              "        vertical-align: middle;\n",
              "    }\n",
              "\n",
              "    .dataframe tbody tr th {\n",
              "        vertical-align: top;\n",
              "    }\n",
              "\n",
              "    .dataframe thead th {\n",
              "        text-align: right;\n",
              "    }\n",
              "</style>\n",
              "<table border=\"1\" class=\"dataframe\">\n",
              "  <thead>\n",
              "    <tr style=\"text-align: right;\">\n",
              "      <th></th>\n",
              "      <th>CO(GT)</th>\n",
              "      <th>PT08.S1(CO)</th>\n",
              "      <th>NMHC(GT)</th>\n",
              "      <th>C6H6(GT)</th>\n",
              "      <th>PT08.S2(NMHC)</th>\n",
              "      <th>NOx(GT)</th>\n",
              "      <th>PT08.S3(NOx)</th>\n",
              "      <th>NO2(GT)</th>\n",
              "      <th>PT08.S4(NO2)</th>\n",
              "      <th>PT08.S5(O3)</th>\n",
              "      <th>T</th>\n",
              "      <th>RH</th>\n",
              "      <th>AH</th>\n",
              "      <th>Timestamp</th>\n",
              "    </tr>\n",
              "  </thead>\n",
              "  <tbody>\n",
              "    <tr>\n",
              "      <th>0</th>\n",
              "      <td>2,6</td>\n",
              "      <td>1360.0</td>\n",
              "      <td>150.0</td>\n",
              "      <td>11,9</td>\n",
              "      <td>1046.0</td>\n",
              "      <td>166.0</td>\n",
              "      <td>1056.0</td>\n",
              "      <td>113.0</td>\n",
              "      <td>1692.0</td>\n",
              "      <td>1268.0</td>\n",
              "      <td>13,6</td>\n",
              "      <td>48,9</td>\n",
              "      <td>0,7578</td>\n",
              "      <td>2004-03-10 18:00:00</td>\n",
              "    </tr>\n",
              "    <tr>\n",
              "      <th>1</th>\n",
              "      <td>2</td>\n",
              "      <td>1292.0</td>\n",
              "      <td>112.0</td>\n",
              "      <td>9,4</td>\n",
              "      <td>955.0</td>\n",
              "      <td>103.0</td>\n",
              "      <td>1174.0</td>\n",
              "      <td>92.0</td>\n",
              "      <td>1559.0</td>\n",
              "      <td>972.0</td>\n",
              "      <td>13,3</td>\n",
              "      <td>47,7</td>\n",
              "      <td>0,7255</td>\n",
              "      <td>2004-03-10 19:00:00</td>\n",
              "    </tr>\n",
              "    <tr>\n",
              "      <th>2</th>\n",
              "      <td>2,2</td>\n",
              "      <td>1402.0</td>\n",
              "      <td>88.0</td>\n",
              "      <td>9,0</td>\n",
              "      <td>939.0</td>\n",
              "      <td>131.0</td>\n",
              "      <td>1140.0</td>\n",
              "      <td>114.0</td>\n",
              "      <td>1555.0</td>\n",
              "      <td>1074.0</td>\n",
              "      <td>11,9</td>\n",
              "      <td>54,0</td>\n",
              "      <td>0,7502</td>\n",
              "      <td>2004-03-10 20:00:00</td>\n",
              "    </tr>\n",
              "    <tr>\n",
              "      <th>3</th>\n",
              "      <td>2,2</td>\n",
              "      <td>1376.0</td>\n",
              "      <td>80.0</td>\n",
              "      <td>9,2</td>\n",
              "      <td>948.0</td>\n",
              "      <td>172.0</td>\n",
              "      <td>1092.0</td>\n",
              "      <td>122.0</td>\n",
              "      <td>1584.0</td>\n",
              "      <td>1203.0</td>\n",
              "      <td>11,0</td>\n",
              "      <td>60,0</td>\n",
              "      <td>0,7867</td>\n",
              "      <td>2004-03-10 21:00:00</td>\n",
              "    </tr>\n",
              "    <tr>\n",
              "      <th>4</th>\n",
              "      <td>1,6</td>\n",
              "      <td>1272.0</td>\n",
              "      <td>51.0</td>\n",
              "      <td>6,5</td>\n",
              "      <td>836.0</td>\n",
              "      <td>131.0</td>\n",
              "      <td>1205.0</td>\n",
              "      <td>116.0</td>\n",
              "      <td>1490.0</td>\n",
              "      <td>1110.0</td>\n",
              "      <td>11,2</td>\n",
              "      <td>59,6</td>\n",
              "      <td>0,7888</td>\n",
              "      <td>2004-03-10 22:00:00</td>\n",
              "    </tr>\n",
              "  </tbody>\n",
              "</table>\n",
              "</div>\n",
              "      <button class=\"colab-df-convert\" onclick=\"convertToInteractive('df-b6b756cc-e457-4d78-8952-a48afd50a003')\"\n",
              "              title=\"Convert this dataframe to an interactive table.\"\n",
              "              style=\"display:none;\">\n",
              "        \n",
              "  <svg xmlns=\"http://www.w3.org/2000/svg\" height=\"24px\"viewBox=\"0 0 24 24\"\n",
              "       width=\"24px\">\n",
              "    <path d=\"M0 0h24v24H0V0z\" fill=\"none\"/>\n",
              "    <path d=\"M18.56 5.44l.94 2.06.94-2.06 2.06-.94-2.06-.94-.94-2.06-.94 2.06-2.06.94zm-11 1L8.5 8.5l.94-2.06 2.06-.94-2.06-.94L8.5 2.5l-.94 2.06-2.06.94zm10 10l.94 2.06.94-2.06 2.06-.94-2.06-.94-.94-2.06-.94 2.06-2.06.94z\"/><path d=\"M17.41 7.96l-1.37-1.37c-.4-.4-.92-.59-1.43-.59-.52 0-1.04.2-1.43.59L10.3 9.45l-7.72 7.72c-.78.78-.78 2.05 0 2.83L4 21.41c.39.39.9.59 1.41.59.51 0 1.02-.2 1.41-.59l7.78-7.78 2.81-2.81c.8-.78.8-2.07 0-2.86zM5.41 20L4 18.59l7.72-7.72 1.47 1.35L5.41 20z\"/>\n",
              "  </svg>\n",
              "      </button>\n",
              "      \n",
              "  <style>\n",
              "    .colab-df-container {\n",
              "      display:flex;\n",
              "      flex-wrap:wrap;\n",
              "      gap: 12px;\n",
              "    }\n",
              "\n",
              "    .colab-df-convert {\n",
              "      background-color: #E8F0FE;\n",
              "      border: none;\n",
              "      border-radius: 50%;\n",
              "      cursor: pointer;\n",
              "      display: none;\n",
              "      fill: #1967D2;\n",
              "      height: 32px;\n",
              "      padding: 0 0 0 0;\n",
              "      width: 32px;\n",
              "    }\n",
              "\n",
              "    .colab-df-convert:hover {\n",
              "      background-color: #E2EBFA;\n",
              "      box-shadow: 0px 1px 2px rgba(60, 64, 67, 0.3), 0px 1px 3px 1px rgba(60, 64, 67, 0.15);\n",
              "      fill: #174EA6;\n",
              "    }\n",
              "\n",
              "    [theme=dark] .colab-df-convert {\n",
              "      background-color: #3B4455;\n",
              "      fill: #D2E3FC;\n",
              "    }\n",
              "\n",
              "    [theme=dark] .colab-df-convert:hover {\n",
              "      background-color: #434B5C;\n",
              "      box-shadow: 0px 1px 3px 1px rgba(0, 0, 0, 0.15);\n",
              "      filter: drop-shadow(0px 1px 2px rgba(0, 0, 0, 0.3));\n",
              "      fill: #FFFFFF;\n",
              "    }\n",
              "  </style>\n",
              "\n",
              "      <script>\n",
              "        const buttonEl =\n",
              "          document.querySelector('#df-b6b756cc-e457-4d78-8952-a48afd50a003 button.colab-df-convert');\n",
              "        buttonEl.style.display =\n",
              "          google.colab.kernel.accessAllowed ? 'block' : 'none';\n",
              "\n",
              "        async function convertToInteractive(key) {\n",
              "          const element = document.querySelector('#df-b6b756cc-e457-4d78-8952-a48afd50a003');\n",
              "          const dataTable =\n",
              "            await google.colab.kernel.invokeFunction('convertToInteractive',\n",
              "                                                     [key], {});\n",
              "          if (!dataTable) return;\n",
              "\n",
              "          const docLinkHtml = 'Like what you see? Visit the ' +\n",
              "            '<a target=\"_blank\" href=https://colab.research.google.com/notebooks/data_table.ipynb>data table notebook</a>'\n",
              "            + ' to learn more about interactive tables.';\n",
              "          element.innerHTML = '';\n",
              "          dataTable['output_type'] = 'display_data';\n",
              "          await google.colab.output.renderOutput(dataTable, element);\n",
              "          const docLink = document.createElement('div');\n",
              "          docLink.innerHTML = docLinkHtml;\n",
              "          element.appendChild(docLink);\n",
              "        }\n",
              "      </script>\n",
              "    </div>\n",
              "  </div>\n",
              "  "
            ]
          },
          "metadata": {},
          "execution_count": 12
        }
      ]
    },
    {
      "cell_type": "markdown",
      "source": [
        "Converting all numeric columns to Float64 data type:"
      ],
      "metadata": {
        "id": "tC4MV-Kd2dAU"
      }
    },
    {
      "cell_type": "code",
      "source": [
        "obj_cols = list(data.select_dtypes(object))\n",
        "for column in obj_cols:\n",
        "  data[column]=data[column].str.replace(',','.')\n",
        "  data[column] = data[column].astype(float)\n",
        "data.dtypes"
      ],
      "metadata": {
        "colab": {
          "base_uri": "https://localhost:8080/"
        },
        "id": "X18_IJberpae",
        "outputId": "2240a8a1-11f1-4532-80f7-1fcbf7975fd6"
      },
      "execution_count": null,
      "outputs": [
        {
          "output_type": "execute_result",
          "data": {
            "text/plain": [
              "CO(GT)                  float64\n",
              "PT08.S1(CO)             float64\n",
              "NMHC(GT)                float64\n",
              "C6H6(GT)                float64\n",
              "PT08.S2(NMHC)           float64\n",
              "NOx(GT)                 float64\n",
              "PT08.S3(NOx)            float64\n",
              "NO2(GT)                 float64\n",
              "PT08.S4(NO2)            float64\n",
              "PT08.S5(O3)             float64\n",
              "T                       float64\n",
              "RH                      float64\n",
              "AH                      float64\n",
              "Timestamp        datetime64[ns]\n",
              "dtype: object"
            ]
          },
          "metadata": {},
          "execution_count": 13
        }
      ]
    },
    {
      "cell_type": "code",
      "source": [
        "data.isnull().sum()"
      ],
      "metadata": {
        "colab": {
          "base_uri": "https://localhost:8080/"
        },
        "id": "AS657WYdqO2N",
        "outputId": "ff51374b-ae45-478a-88d4-fd8c97d30c82"
      },
      "execution_count": null,
      "outputs": [
        {
          "output_type": "execute_result",
          "data": {
            "text/plain": [
              "CO(GT)           114\n",
              "PT08.S1(CO)      114\n",
              "NMHC(GT)         114\n",
              "C6H6(GT)         114\n",
              "PT08.S2(NMHC)    114\n",
              "NOx(GT)          114\n",
              "PT08.S3(NOx)     114\n",
              "NO2(GT)          114\n",
              "PT08.S4(NO2)     114\n",
              "PT08.S5(O3)      114\n",
              "T                114\n",
              "RH               114\n",
              "AH               114\n",
              "Timestamp        114\n",
              "dtype: int64"
            ]
          },
          "metadata": {},
          "execution_count": 14
        }
      ]
    },
    {
      "cell_type": "markdown",
      "source": [
        "Dropping empty rows:"
      ],
      "metadata": {
        "id": "w2yrQ6vm2th5"
      }
    },
    {
      "cell_type": "code",
      "source": [
        "data.dropna(inplace=True)"
      ],
      "metadata": {
        "id": "qJK2IOiNwLVR"
      },
      "execution_count": null,
      "outputs": []
    },
    {
      "cell_type": "code",
      "source": [
        "data.describe()"
      ],
      "metadata": {
        "colab": {
          "base_uri": "https://localhost:8080/",
          "height": 364
        },
        "id": "7XSS8VnawlmU",
        "outputId": "4032932a-e64b-4b39-8556-cd8156a8f3c1"
      },
      "execution_count": null,
      "outputs": [
        {
          "output_type": "execute_result",
          "data": {
            "text/plain": [
              "            CO(GT)  PT08.S1(CO)     NMHC(GT)     C6H6(GT)  PT08.S2(NMHC)  \\\n",
              "count  9357.000000  9357.000000  9357.000000  9357.000000    9357.000000   \n",
              "mean    -34.207524  1048.990061  -159.090093     1.865683     894.595276   \n",
              "std      77.657170   329.832710   139.789093    41.380206     342.333252   \n",
              "min    -200.000000  -200.000000  -200.000000  -200.000000    -200.000000   \n",
              "25%       0.600000   921.000000  -200.000000     4.000000     711.000000   \n",
              "50%       1.500000  1053.000000  -200.000000     7.900000     895.000000   \n",
              "75%       2.600000  1221.000000  -200.000000    13.600000    1105.000000   \n",
              "max      11.900000  2040.000000  1189.000000    63.700000    2214.000000   \n",
              "\n",
              "           NOx(GT)  PT08.S3(NOx)      NO2(GT)  PT08.S4(NO2)  PT08.S5(O3)  \\\n",
              "count  9357.000000   9357.000000  9357.000000   9357.000000  9357.000000   \n",
              "mean    168.616971    794.990168    58.148873   1391.479641   975.072032   \n",
              "std     257.433866    321.993552   126.940455    467.210125   456.938184   \n",
              "min    -200.000000   -200.000000  -200.000000   -200.000000  -200.000000   \n",
              "25%      50.000000    637.000000    53.000000   1185.000000   700.000000   \n",
              "50%     141.000000    794.000000    96.000000   1446.000000   942.000000   \n",
              "75%     284.000000    960.000000   133.000000   1662.000000  1255.000000   \n",
              "max    1479.000000   2683.000000   340.000000   2775.000000  2523.000000   \n",
              "\n",
              "                 T           RH           AH  \n",
              "count  9357.000000  9357.000000  9357.000000  \n",
              "mean      9.778305    39.485380    -6.837604  \n",
              "std      43.203623    51.216145    38.976670  \n",
              "min    -200.000000  -200.000000  -200.000000  \n",
              "25%      10.900000    34.100000     0.692300  \n",
              "50%      17.200000    48.600000     0.976800  \n",
              "75%      24.100000    61.900000     1.296200  \n",
              "max      44.600000    88.700000     2.231000  "
            ],
            "text/html": [
              "\n",
              "  <div id=\"df-7103ec2b-ce1d-459d-a6a9-b0683fd0f3df\">\n",
              "    <div class=\"colab-df-container\">\n",
              "      <div>\n",
              "<style scoped>\n",
              "    .dataframe tbody tr th:only-of-type {\n",
              "        vertical-align: middle;\n",
              "    }\n",
              "\n",
              "    .dataframe tbody tr th {\n",
              "        vertical-align: top;\n",
              "    }\n",
              "\n",
              "    .dataframe thead th {\n",
              "        text-align: right;\n",
              "    }\n",
              "</style>\n",
              "<table border=\"1\" class=\"dataframe\">\n",
              "  <thead>\n",
              "    <tr style=\"text-align: right;\">\n",
              "      <th></th>\n",
              "      <th>CO(GT)</th>\n",
              "      <th>PT08.S1(CO)</th>\n",
              "      <th>NMHC(GT)</th>\n",
              "      <th>C6H6(GT)</th>\n",
              "      <th>PT08.S2(NMHC)</th>\n",
              "      <th>NOx(GT)</th>\n",
              "      <th>PT08.S3(NOx)</th>\n",
              "      <th>NO2(GT)</th>\n",
              "      <th>PT08.S4(NO2)</th>\n",
              "      <th>PT08.S5(O3)</th>\n",
              "      <th>T</th>\n",
              "      <th>RH</th>\n",
              "      <th>AH</th>\n",
              "    </tr>\n",
              "  </thead>\n",
              "  <tbody>\n",
              "    <tr>\n",
              "      <th>count</th>\n",
              "      <td>9357.000000</td>\n",
              "      <td>9357.000000</td>\n",
              "      <td>9357.000000</td>\n",
              "      <td>9357.000000</td>\n",
              "      <td>9357.000000</td>\n",
              "      <td>9357.000000</td>\n",
              "      <td>9357.000000</td>\n",
              "      <td>9357.000000</td>\n",
              "      <td>9357.000000</td>\n",
              "      <td>9357.000000</td>\n",
              "      <td>9357.000000</td>\n",
              "      <td>9357.000000</td>\n",
              "      <td>9357.000000</td>\n",
              "    </tr>\n",
              "    <tr>\n",
              "      <th>mean</th>\n",
              "      <td>-34.207524</td>\n",
              "      <td>1048.990061</td>\n",
              "      <td>-159.090093</td>\n",
              "      <td>1.865683</td>\n",
              "      <td>894.595276</td>\n",
              "      <td>168.616971</td>\n",
              "      <td>794.990168</td>\n",
              "      <td>58.148873</td>\n",
              "      <td>1391.479641</td>\n",
              "      <td>975.072032</td>\n",
              "      <td>9.778305</td>\n",
              "      <td>39.485380</td>\n",
              "      <td>-6.837604</td>\n",
              "    </tr>\n",
              "    <tr>\n",
              "      <th>std</th>\n",
              "      <td>77.657170</td>\n",
              "      <td>329.832710</td>\n",
              "      <td>139.789093</td>\n",
              "      <td>41.380206</td>\n",
              "      <td>342.333252</td>\n",
              "      <td>257.433866</td>\n",
              "      <td>321.993552</td>\n",
              "      <td>126.940455</td>\n",
              "      <td>467.210125</td>\n",
              "      <td>456.938184</td>\n",
              "      <td>43.203623</td>\n",
              "      <td>51.216145</td>\n",
              "      <td>38.976670</td>\n",
              "    </tr>\n",
              "    <tr>\n",
              "      <th>min</th>\n",
              "      <td>-200.000000</td>\n",
              "      <td>-200.000000</td>\n",
              "      <td>-200.000000</td>\n",
              "      <td>-200.000000</td>\n",
              "      <td>-200.000000</td>\n",
              "      <td>-200.000000</td>\n",
              "      <td>-200.000000</td>\n",
              "      <td>-200.000000</td>\n",
              "      <td>-200.000000</td>\n",
              "      <td>-200.000000</td>\n",
              "      <td>-200.000000</td>\n",
              "      <td>-200.000000</td>\n",
              "      <td>-200.000000</td>\n",
              "    </tr>\n",
              "    <tr>\n",
              "      <th>25%</th>\n",
              "      <td>0.600000</td>\n",
              "      <td>921.000000</td>\n",
              "      <td>-200.000000</td>\n",
              "      <td>4.000000</td>\n",
              "      <td>711.000000</td>\n",
              "      <td>50.000000</td>\n",
              "      <td>637.000000</td>\n",
              "      <td>53.000000</td>\n",
              "      <td>1185.000000</td>\n",
              "      <td>700.000000</td>\n",
              "      <td>10.900000</td>\n",
              "      <td>34.100000</td>\n",
              "      <td>0.692300</td>\n",
              "    </tr>\n",
              "    <tr>\n",
              "      <th>50%</th>\n",
              "      <td>1.500000</td>\n",
              "      <td>1053.000000</td>\n",
              "      <td>-200.000000</td>\n",
              "      <td>7.900000</td>\n",
              "      <td>895.000000</td>\n",
              "      <td>141.000000</td>\n",
              "      <td>794.000000</td>\n",
              "      <td>96.000000</td>\n",
              "      <td>1446.000000</td>\n",
              "      <td>942.000000</td>\n",
              "      <td>17.200000</td>\n",
              "      <td>48.600000</td>\n",
              "      <td>0.976800</td>\n",
              "    </tr>\n",
              "    <tr>\n",
              "      <th>75%</th>\n",
              "      <td>2.600000</td>\n",
              "      <td>1221.000000</td>\n",
              "      <td>-200.000000</td>\n",
              "      <td>13.600000</td>\n",
              "      <td>1105.000000</td>\n",
              "      <td>284.000000</td>\n",
              "      <td>960.000000</td>\n",
              "      <td>133.000000</td>\n",
              "      <td>1662.000000</td>\n",
              "      <td>1255.000000</td>\n",
              "      <td>24.100000</td>\n",
              "      <td>61.900000</td>\n",
              "      <td>1.296200</td>\n",
              "    </tr>\n",
              "    <tr>\n",
              "      <th>max</th>\n",
              "      <td>11.900000</td>\n",
              "      <td>2040.000000</td>\n",
              "      <td>1189.000000</td>\n",
              "      <td>63.700000</td>\n",
              "      <td>2214.000000</td>\n",
              "      <td>1479.000000</td>\n",
              "      <td>2683.000000</td>\n",
              "      <td>340.000000</td>\n",
              "      <td>2775.000000</td>\n",
              "      <td>2523.000000</td>\n",
              "      <td>44.600000</td>\n",
              "      <td>88.700000</td>\n",
              "      <td>2.231000</td>\n",
              "    </tr>\n",
              "  </tbody>\n",
              "</table>\n",
              "</div>\n",
              "      <button class=\"colab-df-convert\" onclick=\"convertToInteractive('df-7103ec2b-ce1d-459d-a6a9-b0683fd0f3df')\"\n",
              "              title=\"Convert this dataframe to an interactive table.\"\n",
              "              style=\"display:none;\">\n",
              "        \n",
              "  <svg xmlns=\"http://www.w3.org/2000/svg\" height=\"24px\"viewBox=\"0 0 24 24\"\n",
              "       width=\"24px\">\n",
              "    <path d=\"M0 0h24v24H0V0z\" fill=\"none\"/>\n",
              "    <path d=\"M18.56 5.44l.94 2.06.94-2.06 2.06-.94-2.06-.94-.94-2.06-.94 2.06-2.06.94zm-11 1L8.5 8.5l.94-2.06 2.06-.94-2.06-.94L8.5 2.5l-.94 2.06-2.06.94zm10 10l.94 2.06.94-2.06 2.06-.94-2.06-.94-.94-2.06-.94 2.06-2.06.94z\"/><path d=\"M17.41 7.96l-1.37-1.37c-.4-.4-.92-.59-1.43-.59-.52 0-1.04.2-1.43.59L10.3 9.45l-7.72 7.72c-.78.78-.78 2.05 0 2.83L4 21.41c.39.39.9.59 1.41.59.51 0 1.02-.2 1.41-.59l7.78-7.78 2.81-2.81c.8-.78.8-2.07 0-2.86zM5.41 20L4 18.59l7.72-7.72 1.47 1.35L5.41 20z\"/>\n",
              "  </svg>\n",
              "      </button>\n",
              "      \n",
              "  <style>\n",
              "    .colab-df-container {\n",
              "      display:flex;\n",
              "      flex-wrap:wrap;\n",
              "      gap: 12px;\n",
              "    }\n",
              "\n",
              "    .colab-df-convert {\n",
              "      background-color: #E8F0FE;\n",
              "      border: none;\n",
              "      border-radius: 50%;\n",
              "      cursor: pointer;\n",
              "      display: none;\n",
              "      fill: #1967D2;\n",
              "      height: 32px;\n",
              "      padding: 0 0 0 0;\n",
              "      width: 32px;\n",
              "    }\n",
              "\n",
              "    .colab-df-convert:hover {\n",
              "      background-color: #E2EBFA;\n",
              "      box-shadow: 0px 1px 2px rgba(60, 64, 67, 0.3), 0px 1px 3px 1px rgba(60, 64, 67, 0.15);\n",
              "      fill: #174EA6;\n",
              "    }\n",
              "\n",
              "    [theme=dark] .colab-df-convert {\n",
              "      background-color: #3B4455;\n",
              "      fill: #D2E3FC;\n",
              "    }\n",
              "\n",
              "    [theme=dark] .colab-df-convert:hover {\n",
              "      background-color: #434B5C;\n",
              "      box-shadow: 0px 1px 3px 1px rgba(0, 0, 0, 0.15);\n",
              "      filter: drop-shadow(0px 1px 2px rgba(0, 0, 0, 0.3));\n",
              "      fill: #FFFFFF;\n",
              "    }\n",
              "  </style>\n",
              "\n",
              "      <script>\n",
              "        const buttonEl =\n",
              "          document.querySelector('#df-7103ec2b-ce1d-459d-a6a9-b0683fd0f3df button.colab-df-convert');\n",
              "        buttonEl.style.display =\n",
              "          google.colab.kernel.accessAllowed ? 'block' : 'none';\n",
              "\n",
              "        async function convertToInteractive(key) {\n",
              "          const element = document.querySelector('#df-7103ec2b-ce1d-459d-a6a9-b0683fd0f3df');\n",
              "          const dataTable =\n",
              "            await google.colab.kernel.invokeFunction('convertToInteractive',\n",
              "                                                     [key], {});\n",
              "          if (!dataTable) return;\n",
              "\n",
              "          const docLinkHtml = 'Like what you see? Visit the ' +\n",
              "            '<a target=\"_blank\" href=https://colab.research.google.com/notebooks/data_table.ipynb>data table notebook</a>'\n",
              "            + ' to learn more about interactive tables.';\n",
              "          element.innerHTML = '';\n",
              "          dataTable['output_type'] = 'display_data';\n",
              "          await google.colab.output.renderOutput(dataTable, element);\n",
              "          const docLink = document.createElement('div');\n",
              "          docLink.innerHTML = docLinkHtml;\n",
              "          element.appendChild(docLink);\n",
              "        }\n",
              "      </script>\n",
              "    </div>\n",
              "  </div>\n",
              "  "
            ]
          },
          "metadata": {},
          "execution_count": 16
        }
      ]
    },
    {
      "cell_type": "markdown",
      "source": [
        "Replacing special value (-200) meaning \"No Data\" with NaN-s:"
      ],
      "metadata": {
        "id": "Sa64Opfg22wt"
      }
    },
    {
      "cell_type": "code",
      "source": [
        "data = data.replace(-200, np.nan)"
      ],
      "metadata": {
        "id": "rDkGjSnQGiPZ"
      },
      "execution_count": null,
      "outputs": []
    },
    {
      "cell_type": "markdown",
      "source": [
        "Using PandasProfiling to get more detailed description of the data:"
      ],
      "metadata": {
        "id": "0p9jcfBY3C3l"
      }
    },
    {
      "cell_type": "code",
      "source": [
        "profile = ProfileReport(data)"
      ],
      "metadata": {
        "id": "q3qra23iw0fb"
      },
      "execution_count": null,
      "outputs": []
    },
    {
      "cell_type": "code",
      "source": [
        "profile"
      ],
      "metadata": {
        "colab": {
          "base_uri": "https://localhost:8080/",
          "height": 918,
          "referenced_widgets": [
            "6fd15fa7b8634d69875a688040e19e0b",
            "65dea51c6fb84da8b31427b8ec83aa51",
            "b4d1954729654192805b93186374467c",
            "d9a5415a0a564a4abb9af50f431576b0",
            "7e053d0473674f259ecdc45a90fd0ee7",
            "41adf2d96d8f463495d24a5233f7074f",
            "92d6bfadfeb44d29bb148646707308bd",
            "283b56d78a8549e5a69af8a9d6c2f0af",
            "0e22ff7e6b6f4e64856453efac5670f7",
            "6d4f22285dce4252abd3661fe1ed9b42",
            "113befb5928b4bd9bb813aa55ecc47ae",
            "7ab04891b21944deb933dfe08afef70a",
            "3187eb1b62034aa39c9554d138b016af",
            "19a45d74be594b45b5a12b8008763ac7",
            "5d6c8e3858b44b448f32f7a00d61e9af",
            "8c1a87cae2344f1ab3df0bdb3fd78bc2",
            "026b7c0c96294e1a850622b602186f8c",
            "774891bdef1b4b0da769a1f3a01bcda8",
            "a5f0d65a97944755a40d01c953d0509f",
            "96159b7fb2be4b5193c42fb29d832ca9",
            "7c1cbcafdad0485fa6a48bdc548ead1c",
            "56bd836bbdda4971b93b223efb1a0e44",
            "25470e8674da450a9434cf3ca310c97f",
            "8d003f79c80f4f019e8cf3fc86b7ee3e",
            "ddc6191507774f35902862b0fe334aaf",
            "a94969e19d7e44e3ac2691f8902a21db",
            "3f03e9906a0643e7960e37d8b972af40",
            "79d1cadc5d254b7fae5ae5e6f244d746",
            "23da45c5cb5e4a4aba314f7359f7ef1d",
            "97b78881fc234611b1d3578014e80f23",
            "d0b8a1cc0028463f921e089dab7fc4ca",
            "b0f315f5400546298d6c5217e692f004",
            "cf5b966ba656487097338ca6fa3cf074"
          ]
        },
        "id": "r7f06-KUx1Dw",
        "outputId": "ef6db2b4-c181-411d-aa99-a5ab45f07227"
      },
      "execution_count": null,
      "outputs": []
    },
    {
      "cell_type": "markdown",
      "source": [
        "Pandas Profiling Report shows a few things about the data:\n",
        "1. The most variables have high correlation with the target and also with each others. This might be the reason of multicolleniarity so we must keep an eye on it.\n",
        "2. Three variables losely correlated with the target. So we probably can drop them later.\n",
        "3. We have a lot of missing data in our dataset. One of the variables has data in less than 10% of the rows. I think that imputing these rows can affect the result significantly so I am definitely going to drop this variable.\n",
        "Other variables which have 3-18% of missing values must be imputed. As we have here a time series I suppose that interpolation of the missing values using timestamps might work well.\n",
        "4. We have a few duplicate rows which is better to drop.    "
      ],
      "metadata": {
        "id": "l82JKXnQ4aSM"
      }
    },
    {
      "cell_type": "markdown",
      "source": [
        "Dropping duplicates:"
      ],
      "metadata": {
        "id": "Nn00IM-0AGVh"
      }
    },
    {
      "cell_type": "code",
      "source": [
        "data = data.drop_duplicates(keep=False)"
      ],
      "metadata": {
        "id": "tJJ1IK3l0h8S"
      },
      "execution_count": null,
      "outputs": []
    },
    {
      "cell_type": "markdown",
      "source": [
        "Dropping variable with more then 90% of missing data:"
      ],
      "metadata": {
        "id": "9mPRM4EsAWJ7"
      }
    },
    {
      "cell_type": "code",
      "source": [
        "data.drop(['NMHC(GT)'], axis=1, inplace=True)"
      ],
      "metadata": {
        "id": "PBVCUyduVmEz"
      },
      "execution_count": null,
      "outputs": []
    },
    {
      "cell_type": "markdown",
      "source": [
        "Dropping rows with missing target values:"
      ],
      "metadata": {
        "id": "OrScDz2gAsNv"
      }
    },
    {
      "cell_type": "code",
      "source": [
        "data = data.dropna(subset=['C6H6(GT)'])"
      ],
      "metadata": {
        "id": "rSbGVR8no88G"
      },
      "execution_count": null,
      "outputs": []
    },
    {
      "cell_type": "markdown",
      "source": [
        "# Target variable analysis"
      ],
      "metadata": {
        "id": "wZQs982uCbtH"
      }
    },
    {
      "cell_type": "markdown",
      "source": [
        "Top features correlated with the target:"
      ],
      "metadata": {
        "id": "NazyknDNCqjG"
      }
    },
    {
      "cell_type": "code",
      "source": [
        "corr = data.corr()\n",
        "condition = np.abs(corr['C6H6(GT)']) > 0.5\n",
        "top_corr = corr.loc[condition, condition]\n",
        "sns.heatmap(top_corr, annot=True);"
      ],
      "metadata": {
        "colab": {
          "base_uri": "https://localhost:8080/",
          "height": 338
        },
        "id": "zZnGGY--WASx",
        "outputId": "8953690a-df4b-479a-a781-1d1ef023743e"
      },
      "execution_count": null,
      "outputs": [
        {
          "output_type": "display_data",
          "data": {
            "text/plain": [
              "<Figure size 432x288 with 2 Axes>"
            ],
            "image/png": "[encoded data removed]"
          },
          "metadata": {
            "needs_background": "light"
          }
        }
      ]
    },
    {
      "cell_type": "markdown",
      "source": [
        "Here we can see high correlation coefficients between some of the independent variables. E.g. 'PT08.S2(NMHC)' has an absolute value of the correlation coefficients greater than 0.8 with 5 other variables. This might cause multicolliniarity issue so we must think of the solution (dropping highly correlated variables or perform PCA analysis).   "
      ],
      "metadata": {
        "id": "tlIAQTdEFxss"
      }
    },
    {
      "cell_type": "markdown",
      "source": [
        "Looking at the distribution of the target:"
      ],
      "metadata": {
        "id": "5QRHKcsHBBI_"
      }
    },
    {
      "cell_type": "code",
      "source": [
        "ax = sns.distplot(data['C6H6(GT)'], norm_hist=True)\n",
        "ax.set_title('C6H6(GT) distribution');"
      ],
      "metadata": {
        "colab": {
          "base_uri": "https://localhost:8080/",
          "height": 295
        },
        "id": "PWt5dMYXDR5T",
        "outputId": "47bdec38-12dd-4779-a3dd-da5d332c3562"
      },
      "execution_count": null,
      "outputs": [
        {
          "output_type": "display_data",
          "data": {
            "text/plain": [
              "<Figure size 432x288 with 1 Axes>"
            ],
            "image/png": "[encoded data removed]"
          },
          "metadata": {
            "needs_background": "light"
          }
        }
      ]
    },
    {
      "cell_type": "markdown",
      "source": [
        "As we can see the distribution is quite skewed to the right and the range of the variable is quite wide. So we might try some nonlinear transformations of the target variable in order to make the distribution more normal."
      ],
      "metadata": {
        "id": "Mg96JpJoDTX_"
      }
    },
    {
      "cell_type": "markdown",
      "source": [
        "Trying logarithm transformation of the target:"
      ],
      "metadata": {
        "id": "4pILfqBWD-mX"
      }
    },
    {
      "cell_type": "code",
      "source": [
        "ax = sns.distplot(np.log(data['C6H6(GT)']), norm_hist=True)\n",
        "ax.set_title('Log C6H6(GT) distribution');"
      ],
      "metadata": {
        "colab": {
          "base_uri": "https://localhost:8080/",
          "height": 295
        },
        "id": "El6Tl562IkFQ",
        "outputId": "4119dcb5-7596-46fc-f506-df14d884a638"
      },
      "execution_count": null,
      "outputs": [
        {
          "output_type": "display_data",
          "data": {
            "text/plain": [
              "<Figure size 432x288 with 1 Axes>"
            ],
            "image/png": "[encoded data removed]"
          },
          "metadata": {
            "needs_background": "light"
          }
        }
      ]
    },
    {
      "cell_type": "markdown",
      "source": [
        "Using logarithm transformation we got a much narrower range of values and the distribution is much closer to the normal bell-shaped curve. But we still have a skewness, now to the left."
      ],
      "metadata": {
        "id": "9OzG_75XEOfO"
      }
    },
    {
      "cell_type": "markdown",
      "source": [
        "Trying squared root transformation:"
      ],
      "metadata": {
        "id": "D4c-7r3nFF4A"
      }
    },
    {
      "cell_type": "code",
      "source": [
        "ax = sns.distplot(np.sqrt(data['C6H6(GT)']), norm_hist=True)\n",
        "ax.set_title('Sqrt C6H6(GT) distribution');"
      ],
      "metadata": {
        "colab": {
          "base_uri": "https://localhost:8080/",
          "height": 295
        },
        "id": "RUnSbbTXIwH8",
        "outputId": "514c43b2-8c70-4667-fb47-eae72b9ff909"
      },
      "execution_count": null,
      "outputs": [
        {
          "output_type": "display_data",
          "data": {
            "text/plain": [
              "<Figure size 432x288 with 1 Axes>"
            ],
            "image/png": "[encoded data removed]"
          },
          "metadata": {
            "needs_background": "light"
          }
        }
      ]
    },
    {
      "cell_type": "markdown",
      "source": [
        "This curve is quite close to the normal. So I think it would be the best choise for the nonlinear transformation of the target."
      ],
      "metadata": {
        "id": "xSH-3AYKFQh5"
      }
    },
    {
      "cell_type": "markdown",
      "source": [
        "# **Pipeline**"
      ],
      "metadata": {
        "id": "HrtP3cEBq1LQ"
      }
    },
    {
      "cell_type": "markdown",
      "source": [
        "Almost all of our features are numerical so for the further iterating through them we put their names (excluding the target variable) into one list."
      ],
      "metadata": {
        "id": "QPSLxtlcLAXM"
      }
    },
    {
      "cell_type": "code",
      "source": [
        "NUMERICAL = data.select_dtypes(include=['float64']).columns.tolist()\n",
        "if TARGET in NUMERICAL:\n",
        "    NUMERICAL.remove(TARGET)"
      ],
      "metadata": {
        "id": "ujiwfpzRJr2P"
      },
      "execution_count": null,
      "outputs": []
    },
    {
      "cell_type": "code",
      "source": [
        "NUMERICAL"
      ],
      "metadata": {
        "colab": {
          "base_uri": "https://localhost:8080/"
        },
        "id": "Dc215mgLwc9y",
        "outputId": "d089fe6e-fb1c-4fda-af61-5877b388444b"
      },
      "execution_count": null,
      "outputs": [
        {
          "output_type": "execute_result",
          "data": {
            "text/plain": [
              "['CO(GT)',\n",
              " 'PT08.S1(CO)',\n",
              " 'PT08.S2(NMHC)',\n",
              " 'NOx(GT)',\n",
              " 'PT08.S3(NOx)',\n",
              " 'NO2(GT)',\n",
              " 'PT08.S4(NO2)',\n",
              " 'PT08.S5(O3)',\n",
              " 'T',\n",
              " 'RH',\n",
              " 'AH']"
            ]
          },
          "metadata": {},
          "execution_count": 139
        }
      ]
    },
    {
      "cell_type": "markdown",
      "source": [
        "Performing linear interpolation of missing values:"
      ],
      "metadata": {
        "id": "-So_JKHNMTFr"
      }
    },
    {
      "cell_type": "code",
      "source": [
        "for col in NUMERICAL:\n",
        "  data[col] = data[col].interpolate(method=\"linear\")"
      ],
      "metadata": {
        "id": "jdWVN1BSwUei"
      },
      "execution_count": null,
      "outputs": []
    },
    {
      "cell_type": "code",
      "source": [
        "data.loc[(data['Timestamp'] > '2004-04-01 00:00:00') & (data['Timestamp'] < '2004-04-02 00:00:00')]"
      ],
      "metadata": {
        "colab": {
          "base_uri": "https://localhost:8080/",
          "height": 1000
        },
        "id": "948qR0Va4A2F",
        "outputId": "1b41a5f3-c014-4315-ebfd-9bbc309c5ec2"
      },
      "execution_count": null,
      "outputs": [
        {
          "output_type": "execute_result",
          "data": {
            "text/plain": [
              "     CO(GT)  PT08.S1(CO)  C6H6(GT)  PT08.S2(NMHC)  NOx(GT)  PT08.S3(NOx)  \\\n",
              "511     1.2       1044.0       5.1          770.0     85.0        1031.0   \n",
              "512     1.1       1034.0       4.1          716.0     50.0        1085.0   \n",
              "513     0.9        956.0       4.0          713.0     53.5        1099.0   \n",
              "514     0.7        909.0       2.4          615.0     57.0        1237.0   \n",
              "515     0.9        996.0       2.9          648.0     64.0        1176.0   \n",
              "516     1.7       1154.0       7.4          876.0    153.0        1002.0   \n",
              "517     4.2       1510.0      19.8         1291.0    342.0         675.0   \n",
              "518     6.2       1722.0      31.9         1595.0    378.0         539.0   \n",
              "519     4.6       1512.0      21.0         1323.0    304.0         631.0   \n",
              "520     2.8       1258.0      11.7         1040.0    192.0         800.0   \n",
              "521     1.6       1094.0       6.8          850.0    130.0         970.0   \n",
              "522     1.7       1129.0       7.4          875.0    106.0         974.0   \n",
              "523     1.7       1125.0       8.6          924.0    102.0         937.0   \n",
              "527     3.3       1308.0      16.4         1193.0    163.0         793.0   \n",
              "528     4.2       1529.0      21.2         1331.0    211.0         700.0   \n",
              "529     5.5       1592.0      25.0         1429.0    267.0         624.0   \n",
              "530     4.9       1536.0      20.2         1302.0    269.0         666.0   \n",
              "531     2.5       1192.0      10.8         1007.0    154.0         827.0   \n",
              "532     2.0       1186.0       9.9          976.0    127.0         844.0   \n",
              "533     2.0       1203.0       8.5          920.0    122.0         898.0   \n",
              "\n",
              "     NO2(GT)  PT08.S4(NO2)  PT08.S5(O3)     T    RH      AH  \\\n",
              "511     70.0        1425.0        944.0  11.5  63.9  0.8652   \n",
              "512     55.0        1405.0        891.0  10.7  67.2  0.8630   \n",
              "513     52.0        1422.0        849.0   9.0  73.1  0.8394   \n",
              "514     49.0        1322.0        790.0  10.2  66.6  0.8299   \n",
              "515     50.0        1340.0        852.0  11.0  63.7  0.8325   \n",
              "516     67.0        1561.0        987.0   9.6  68.8  0.8243   \n",
              "517     94.0        1949.0       1435.0   9.5  69.6  0.8273   \n",
              "518    119.0        2439.0       1798.0  11.9  60.9  0.8455   \n",
              "519    139.0        2001.0       1677.0  16.2  48.6  0.8892   \n",
              "520    113.0        1701.0       1282.0  19.2  39.6  0.8693   \n",
              "521     88.0        1489.0        871.0  19.7  38.4  0.8743   \n",
              "522     73.0        1524.0        759.0  20.6  36.7  0.8797   \n",
              "523     73.0        1542.0        790.0  21.8  33.9  0.8771   \n",
              "527    106.0        1193.0       1187.0  23.6  27.5  0.7913   \n",
              "528    132.0        2028.0       1399.0  22.8  32.1  0.8814   \n",
              "529    164.0        2089.0       1644.0  20.8  36.7  0.8878   \n",
              "530    161.0        1922.0       1599.0  18.3  40.9  0.8493   \n",
              "531    124.0        1604.0       1223.0  16.8  44.0  0.8341   \n",
              "532    113.0        1570.0       1200.0  15.8  48.0  0.8569   \n",
              "533    103.0        1529.0       1118.0  14.9  52.0  0.8757   \n",
              "\n",
              "              Timestamp  \n",
              "511 2004-04-01 01:00:00  \n",
              "512 2004-04-01 02:00:00  \n",
              "513 2004-04-01 03:00:00  \n",
              "514 2004-04-01 04:00:00  \n",
              "515 2004-04-01 05:00:00  \n",
              "516 2004-04-01 06:00:00  \n",
              "517 2004-04-01 07:00:00  \n",
              "518 2004-04-01 08:00:00  \n",
              "519 2004-04-01 09:00:00  \n",
              "520 2004-04-01 10:00:00  \n",
              "521 2004-04-01 11:00:00  \n",
              "522 2004-04-01 12:00:00  \n",
              "523 2004-04-01 13:00:00  \n",
              "527 2004-04-01 17:00:00  \n",
              "528 2004-04-01 18:00:00  \n",
              "529 2004-04-01 19:00:00  \n",
              "530 2004-04-01 20:00:00  \n",
              "531 2004-04-01 21:00:00  \n",
              "532 2004-04-01 22:00:00  \n",
              "533 2004-04-01 23:00:00  "
            ],
            "text/html": [
              "\n",
              "  <div id=\"df-892cf607-6ae1-4d26-8406-19c2edde660b\">\n",
              "    <div class=\"colab-df-container\">\n",
              "      <div>\n",
              "<style scoped>\n",
              "    .dataframe tbody tr th:only-of-type {\n",
              "        vertical-align: middle;\n",
              "    }\n",
              "\n",
              "    .dataframe tbody tr th {\n",
              "        vertical-align: top;\n",
              "    }\n",
              "\n",
              "    .dataframe thead th {\n",
              "        text-align: right;\n",
              "    }\n",
              "</style>\n",
              "<table border=\"1\" class=\"dataframe\">\n",
              "  <thead>\n",
              "    <tr style=\"text-align: right;\">\n",
              "      <th></th>\n",
              "      <th>CO(GT)</th>\n",
              "      <th>PT08.S1(CO)</th>\n",
              "      <th>C6H6(GT)</th>\n",
              "      <th>PT08.S2(NMHC)</th>\n",
              "      <th>NOx(GT)</th>\n",
              "      <th>PT08.S3(NOx)</th>\n",
              "      <th>NO2(GT)</th>\n",
              "      <th>PT08.S4(NO2)</th>\n",
              "      <th>PT08.S5(O3)</th>\n",
              "      <th>T</th>\n",
              "      <th>RH</th>\n",
              "      <th>AH</th>\n",
              "      <th>Timestamp</th>\n",
              "    </tr>\n",
              "  </thead>\n",
              "  <tbody>\n",
              "    <tr>\n",
              "      <th>511</th>\n",
              "      <td>1.2</td>\n",
              "      <td>1044.0</td>\n",
              "      <td>5.1</td>\n",
              "      <td>770.0</td>\n",
              "      <td>85.0</td>\n",
              "      <td>1031.0</td>\n",
              "      <td>70.0</td>\n",
              "      <td>1425.0</td>\n",
              "      <td>944.0</td>\n",
              "      <td>11.5</td>\n",
              "      <td>63.9</td>\n",
              "      <td>0.8652</td>\n",
              "      <td>2004-04-01 01:00:00</td>\n",
              "    </tr>\n",
              "    <tr>\n",
              "      <th>512</th>\n",
              "      <td>1.1</td>\n",
              "      <td>1034.0</td>\n",
              "      <td>4.1</td>\n",
              "      <td>716.0</td>\n",
              "      <td>50.0</td>\n",
              "      <td>1085.0</td>\n",
              "      <td>55.0</td>\n",
              "      <td>1405.0</td>\n",
              "      <td>891.0</td>\n",
              "      <td>10.7</td>\n",
              "      <td>67.2</td>\n",
              "      <td>0.8630</td>\n",
              "      <td>2004-04-01 02:00:00</td>\n",
              "    </tr>\n",
              "    <tr>\n",
              "      <th>513</th>\n",
              "      <td>0.9</td>\n",
              "      <td>956.0</td>\n",
              "      <td>4.0</td>\n",
              "      <td>713.0</td>\n",
              "      <td>53.5</td>\n",
              "      <td>1099.0</td>\n",
              "      <td>52.0</td>\n",
              "      <td>1422.0</td>\n",
              "      <td>849.0</td>\n",
              "      <td>9.0</td>\n",
              "      <td>73.1</td>\n",
              "      <td>0.8394</td>\n",
              "      <td>2004-04-01 03:00:00</td>\n",
              "    </tr>\n",
              "    <tr>\n",
              "      <th>514</th>\n",
              "      <td>0.7</td>\n",
              "      <td>909.0</td>\n",
              "      <td>2.4</td>\n",
              "      <td>615.0</td>\n",
              "      <td>57.0</td>\n",
              "      <td>1237.0</td>\n",
              "      <td>49.0</td>\n",
              "      <td>1322.0</td>\n",
              "      <td>790.0</td>\n",
              "      <td>10.2</td>\n",
              "      <td>66.6</td>\n",
              "      <td>0.8299</td>\n",
              "      <td>2004-04-01 04:00:00</td>\n",
              "    </tr>\n",
              "    <tr>\n",
              "      <th>515</th>\n",
              "      <td>0.9</td>\n",
              "      <td>996.0</td>\n",
              "      <td>2.9</td>\n",
              "      <td>648.0</td>\n",
              "      <td>64.0</td>\n",
              "      <td>1176.0</td>\n",
              "      <td>50.0</td>\n",
              "      <td>1340.0</td>\n",
              "      <td>852.0</td>\n",
              "      <td>11.0</td>\n",
              "      <td>63.7</td>\n",
              "      <td>0.8325</td>\n",
              "      <td>2004-04-01 05:00:00</td>\n",
              "    </tr>\n",
              "    <tr>\n",
              "      <th>516</th>\n",
              "      <td>1.7</td>\n",
              "      <td>1154.0</td>\n",
              "      <td>7.4</td>\n",
              "      <td>876.0</td>\n",
              "      <td>153.0</td>\n",
              "      <td>1002.0</td>\n",
              "      <td>67.0</td>\n",
              "      <td>1561.0</td>\n",
              "      <td>987.0</td>\n",
              "      <td>9.6</td>\n",
              "      <td>68.8</td>\n",
              "      <td>0.8243</td>\n",
              "      <td>2004-04-01 06:00:00</td>\n",
              "    </tr>\n",
              "    <tr>\n",
              "      <th>517</th>\n",
              "      <td>4.2</td>\n",
              "      <td>1510.0</td>\n",
              "      <td>19.8</td>\n",
              "      <td>1291.0</td>\n",
              "      <td>342.0</td>\n",
              "      <td>675.0</td>\n",
              "      <td>94.0</td>\n",
              "      <td>1949.0</td>\n",
              "      <td>1435.0</td>\n",
              "      <td>9.5</td>\n",
              "      <td>69.6</td>\n",
              "      <td>0.8273</td>\n",
              "      <td>2004-04-01 07:00:00</td>\n",
              "    </tr>\n",
              "    <tr>\n",
              "      <th>518</th>\n",
              "      <td>6.2</td>\n",
              "      <td>1722.0</td>\n",
              "      <td>31.9</td>\n",
              "      <td>1595.0</td>\n",
              "      <td>378.0</td>\n",
              "      <td>539.0</td>\n",
              "      <td>119.0</td>\n",
              "      <td>2439.0</td>\n",
              "      <td>1798.0</td>\n",
              "      <td>11.9</td>\n",
              "      <td>60.9</td>\n",
              "      <td>0.8455</td>\n",
              "      <td>2004-04-01 08:00:00</td>\n",
              "    </tr>\n",
              "    <tr>\n",
              "      <th>519</th>\n",
              "      <td>4.6</td>\n",
              "      <td>1512.0</td>\n",
              "      <td>21.0</td>\n",
              "      <td>1323.0</td>\n",
              "      <td>304.0</td>\n",
              "      <td>631.0</td>\n",
              "      <td>139.0</td>\n",
              "      <td>2001.0</td>\n",
              "      <td>1677.0</td>\n",
              "      <td>16.2</td>\n",
              "      <td>48.6</td>\n",
              "      <td>0.8892</td>\n",
              "      <td>2004-04-01 09:00:00</td>\n",
              "    </tr>\n",
              "    <tr>\n",
              "      <th>520</th>\n",
              "      <td>2.8</td>\n",
              "      <td>1258.0</td>\n",
              "      <td>11.7</td>\n",
              "      <td>1040.0</td>\n",
              "      <td>192.0</td>\n",
              "      <td>800.0</td>\n",
              "      <td>113.0</td>\n",
              "      <td>1701.0</td>\n",
              "      <td>1282.0</td>\n",
              "      <td>19.2</td>\n",
              "      <td>39.6</td>\n",
              "      <td>0.8693</td>\n",
              "      <td>2004-04-01 10:00:00</td>\n",
              "    </tr>\n",
              "    <tr>\n",
              "      <th>521</th>\n",
              "      <td>1.6</td>\n",
              "      <td>1094.0</td>\n",
              "      <td>6.8</td>\n",
              "      <td>850.0</td>\n",
              "      <td>130.0</td>\n",
              "      <td>970.0</td>\n",
              "      <td>88.0</td>\n",
              "      <td>1489.0</td>\n",
              "      <td>871.0</td>\n",
              "      <td>19.7</td>\n",
              "      <td>38.4</td>\n",
              "      <td>0.8743</td>\n",
              "      <td>2004-04-01 11:00:00</td>\n",
              "    </tr>\n",
              "    <tr>\n",
              "      <th>522</th>\n",
              "      <td>1.7</td>\n",
              "      <td>1129.0</td>\n",
              "      <td>7.4</td>\n",
              "      <td>875.0</td>\n",
              "      <td>106.0</td>\n",
              "      <td>974.0</td>\n",
              "      <td>73.0</td>\n",
              "      <td>1524.0</td>\n",
              "      <td>759.0</td>\n",
              "      <td>20.6</td>\n",
              "      <td>36.7</td>\n",
              "      <td>0.8797</td>\n",
              "      <td>2004-04-01 12:00:00</td>\n",
              "    </tr>\n",
              "    <tr>\n",
              "      <th>523</th>\n",
              "      <td>1.7</td>\n",
              "      <td>1125.0</td>\n",
              "      <td>8.6</td>\n",
              "      <td>924.0</td>\n",
              "      <td>102.0</td>\n",
              "      <td>937.0</td>\n",
              "      <td>73.0</td>\n",
              "      <td>1542.0</td>\n",
              "      <td>790.0</td>\n",
              "      <td>21.8</td>\n",
              "      <td>33.9</td>\n",
              "      <td>0.8771</td>\n",
              "      <td>2004-04-01 13:00:00</td>\n",
              "    </tr>\n",
              "    <tr>\n",
              "      <th>527</th>\n",
              "      <td>3.3</td>\n",
              "      <td>1308.0</td>\n",
              "      <td>16.4</td>\n",
              "      <td>1193.0</td>\n",
              "      <td>163.0</td>\n",
              "      <td>793.0</td>\n",
              "      <td>106.0</td>\n",
              "      <td>1193.0</td>\n",
              "      <td>1187.0</td>\n",
              "      <td>23.6</td>\n",
              "      <td>27.5</td>\n",
              "      <td>0.7913</td>\n",
              "      <td>2004-04-01 17:00:00</td>\n",
              "    </tr>\n",
              "    <tr>\n",
              "      <th>528</th>\n",
              "      <td>4.2</td>\n",
              "      <td>1529.0</td>\n",
              "      <td>21.2</td>\n",
              "      <td>1331.0</td>\n",
              "      <td>211.0</td>\n",
              "      <td>700.0</td>\n",
              "      <td>132.0</td>\n",
              "      <td>2028.0</td>\n",
              "      <td>1399.0</td>\n",
              "      <td>22.8</td>\n",
              "      <td>32.1</td>\n",
              "      <td>0.8814</td>\n",
              "      <td>2004-04-01 18:00:00</td>\n",
              "    </tr>\n",
              "    <tr>\n",
              "      <th>529</th>\n",
              "      <td>5.5</td>\n",
              "      <td>1592.0</td>\n",
              "      <td>25.0</td>\n",
              "      <td>1429.0</td>\n",
              "      <td>267.0</td>\n",
              "      <td>624.0</td>\n",
              "      <td>164.0</td>\n",
              "      <td>2089.0</td>\n",
              "      <td>1644.0</td>\n",
              "      <td>20.8</td>\n",
              "      <td>36.7</td>\n",
              "      <td>0.8878</td>\n",
              "      <td>2004-04-01 19:00:00</td>\n",
              "    </tr>\n",
              "    <tr>\n",
              "      <th>530</th>\n",
              "      <td>4.9</td>\n",
              "      <td>1536.0</td>\n",
              "      <td>20.2</td>\n",
              "      <td>1302.0</td>\n",
              "      <td>269.0</td>\n",
              "      <td>666.0</td>\n",
              "      <td>161.0</td>\n",
              "      <td>1922.0</td>\n",
              "      <td>1599.0</td>\n",
              "      <td>18.3</td>\n",
              "      <td>40.9</td>\n",
              "      <td>0.8493</td>\n",
              "      <td>2004-04-01 20:00:00</td>\n",
              "    </tr>\n",
              "    <tr>\n",
              "      <th>531</th>\n",
              "      <td>2.5</td>\n",
              "      <td>1192.0</td>\n",
              "      <td>10.8</td>\n",
              "      <td>1007.0</td>\n",
              "      <td>154.0</td>\n",
              "      <td>827.0</td>\n",
              "      <td>124.0</td>\n",
              "      <td>1604.0</td>\n",
              "      <td>1223.0</td>\n",
              "      <td>16.8</td>\n",
              "      <td>44.0</td>\n",
              "      <td>0.8341</td>\n",
              "      <td>2004-04-01 21:00:00</td>\n",
              "    </tr>\n",
              "    <tr>\n",
              "      <th>532</th>\n",
              "      <td>2.0</td>\n",
              "      <td>1186.0</td>\n",
              "      <td>9.9</td>\n",
              "      <td>976.0</td>\n",
              "      <td>127.0</td>\n",
              "      <td>844.0</td>\n",
              "      <td>113.0</td>\n",
              "      <td>1570.0</td>\n",
              "      <td>1200.0</td>\n",
              "      <td>15.8</td>\n",
              "      <td>48.0</td>\n",
              "      <td>0.8569</td>\n",
              "      <td>2004-04-01 22:00:00</td>\n",
              "    </tr>\n",
              "    <tr>\n",
              "      <th>533</th>\n",
              "      <td>2.0</td>\n",
              "      <td>1203.0</td>\n",
              "      <td>8.5</td>\n",
              "      <td>920.0</td>\n",
              "      <td>122.0</td>\n",
              "      <td>898.0</td>\n",
              "      <td>103.0</td>\n",
              "      <td>1529.0</td>\n",
              "      <td>1118.0</td>\n",
              "      <td>14.9</td>\n",
              "      <td>52.0</td>\n",
              "      <td>0.8757</td>\n",
              "      <td>2004-04-01 23:00:00</td>\n",
              "    </tr>\n",
              "  </tbody>\n",
              "</table>\n",
              "</div>\n",
              "      <button class=\"colab-df-convert\" onclick=\"convertToInteractive('df-892cf607-6ae1-4d26-8406-19c2edde660b')\"\n",
              "              title=\"Convert this dataframe to an interactive table.\"\n",
              "              style=\"display:none;\">\n",
              "        \n",
              "  <svg xmlns=\"http://www.w3.org/2000/svg\" height=\"24px\"viewBox=\"0 0 24 24\"\n",
              "       width=\"24px\">\n",
              "    <path d=\"M0 0h24v24H0V0z\" fill=\"none\"/>\n",
              "    <path d=\"M18.56 5.44l.94 2.06.94-2.06 2.06-.94-2.06-.94-.94-2.06-.94 2.06-2.06.94zm-11 1L8.5 8.5l.94-2.06 2.06-.94-2.06-.94L8.5 2.5l-.94 2.06-2.06.94zm10 10l.94 2.06.94-2.06 2.06-.94-2.06-.94-.94-2.06-.94 2.06-2.06.94z\"/><path d=\"M17.41 7.96l-1.37-1.37c-.4-.4-.92-.59-1.43-.59-.52 0-1.04.2-1.43.59L10.3 9.45l-7.72 7.72c-.78.78-.78 2.05 0 2.83L4 21.41c.39.39.9.59 1.41.59.51 0 1.02-.2 1.41-.59l7.78-7.78 2.81-2.81c.8-.78.8-2.07 0-2.86zM5.41 20L4 18.59l7.72-7.72 1.47 1.35L5.41 20z\"/>\n",
              "  </svg>\n",
              "      </button>\n",
              "      \n",
              "  <style>\n",
              "    .colab-df-container {\n",
              "      display:flex;\n",
              "      flex-wrap:wrap;\n",
              "      gap: 12px;\n",
              "    }\n",
              "\n",
              "    .colab-df-convert {\n",
              "      background-color: #E8F0FE;\n",
              "      border: none;\n",
              "      border-radius: 50%;\n",
              "      cursor: pointer;\n",
              "      display: none;\n",
              "      fill: #1967D2;\n",
              "      height: 32px;\n",
              "      padding: 0 0 0 0;\n",
              "      width: 32px;\n",
              "    }\n",
              "\n",
              "    .colab-df-convert:hover {\n",
              "      background-color: #E2EBFA;\n",
              "      box-shadow: 0px 1px 2px rgba(60, 64, 67, 0.3), 0px 1px 3px 1px rgba(60, 64, 67, 0.15);\n",
              "      fill: #174EA6;\n",
              "    }\n",
              "\n",
              "    [theme=dark] .colab-df-convert {\n",
              "      background-color: #3B4455;\n",
              "      fill: #D2E3FC;\n",
              "    }\n",
              "\n",
              "    [theme=dark] .colab-df-convert:hover {\n",
              "      background-color: #434B5C;\n",
              "      box-shadow: 0px 1px 3px 1px rgba(0, 0, 0, 0.15);\n",
              "      filter: drop-shadow(0px 1px 2px rgba(0, 0, 0, 0.3));\n",
              "      fill: #FFFFFF;\n",
              "    }\n",
              "  </style>\n",
              "\n",
              "      <script>\n",
              "        const buttonEl =\n",
              "          document.querySelector('#df-892cf607-6ae1-4d26-8406-19c2edde660b button.colab-df-convert');\n",
              "        buttonEl.style.display =\n",
              "          google.colab.kernel.accessAllowed ? 'block' : 'none';\n",
              "\n",
              "        async function convertToInteractive(key) {\n",
              "          const element = document.querySelector('#df-892cf607-6ae1-4d26-8406-19c2edde660b');\n",
              "          const dataTable =\n",
              "            await google.colab.kernel.invokeFunction('convertToInteractive',\n",
              "                                                     [key], {});\n",
              "          if (!dataTable) return;\n",
              "\n",
              "          const docLinkHtml = 'Like what you see? Visit the ' +\n",
              "            '<a target=\"_blank\" href=https://colab.research.google.com/notebooks/data_table.ipynb>data table notebook</a>'\n",
              "            + ' to learn more about interactive tables.';\n",
              "          element.innerHTML = '';\n",
              "          dataTable['output_type'] = 'display_data';\n",
              "          await google.colab.output.renderOutput(dataTable, element);\n",
              "          const docLink = document.createElement('div');\n",
              "          docLink.innerHTML = docLinkHtml;\n",
              "          element.appendChild(docLink);\n",
              "        }\n",
              "      </script>\n",
              "    </div>\n",
              "  </div>\n",
              "  "
            ]
          },
          "metadata": {},
          "execution_count": 141
        }
      ]
    },
    {
      "cell_type": "code",
      "source": [
        "data.isnull().sum()"
      ],
      "metadata": {
        "colab": {
          "base_uri": "https://localhost:8080/"
        },
        "id": "JCUBg7441TvV",
        "outputId": "b510b220-9b7d-4d0e-dd12-c698a5671a3a"
      },
      "execution_count": null,
      "outputs": [
        {
          "output_type": "execute_result",
          "data": {
            "text/plain": [
              "CO(GT)           0\n",
              "PT08.S1(CO)      0\n",
              "C6H6(GT)         0\n",
              "PT08.S2(NMHC)    0\n",
              "NOx(GT)          0\n",
              "PT08.S3(NOx)     0\n",
              "NO2(GT)          0\n",
              "PT08.S4(NO2)     0\n",
              "PT08.S5(O3)      0\n",
              "T                0\n",
              "RH               0\n",
              "AH               0\n",
              "Timestamp        0\n",
              "dtype: int64"
            ]
          },
          "metadata": {},
          "execution_count": 142
        }
      ]
    },
    {
      "cell_type": "markdown",
      "source": [
        "Generate features from all the independent variables using StandardScaler to standardize values:"
      ],
      "metadata": {
        "id": "SZwtTQM1Ml6r"
      }
    },
    {
      "cell_type": "code",
      "source": [
        "features = gen_features(\n",
        "    columns=[[c] for c in NUMERICAL],\n",
        "    classes=[\n",
        "        {'class': StandardScaler}\n",
        "    ]\n",
        ")"
      ],
      "metadata": {
        "id": "jshqr965yuO8"
      },
      "execution_count": null,
      "outputs": []
    },
    {
      "cell_type": "markdown",
      "source": [
        "Create DataFrameMapper from previously created features:"
      ],
      "metadata": {
        "id": "_v5v1Cm5NUmF"
      }
    },
    {
      "cell_type": "code",
      "source": [
        "mapper = DataFrameMapper(features)\n",
        "len(features)"
      ],
      "metadata": {
        "colab": {
          "base_uri": "https://localhost:8080/"
        },
        "id": "I-Jes1KTy5dG",
        "outputId": "abb7244d-a2e0-4893-965f-84589c6403d3"
      },
      "execution_count": null,
      "outputs": [
        {
          "output_type": "execute_result",
          "data": {
            "text/plain": [
              "11"
            ]
          },
          "metadata": {},
          "execution_count": 144
        }
      ]
    },
    {
      "cell_type": "code",
      "source": [
        "df = data.copy()"
      ],
      "metadata": {
        "id": "B8tWsE6YJ4gL"
      },
      "execution_count": null,
      "outputs": []
    },
    {
      "cell_type": "code",
      "source": [
        "target = df[TARGET].values\n",
        "df.drop(['Timestamp'], axis=1, inplace=True)\n"
      ],
      "metadata": {
        "id": "R-2jtfsWrG8Q"
      },
      "execution_count": null,
      "outputs": []
    },
    {
      "cell_type": "code",
      "source": [
        "X = df.drop(TARGET, axis=1)\n",
        "y = target"
      ],
      "metadata": {
        "id": "t6LE0NayQePU"
      },
      "execution_count": null,
      "outputs": []
    },
    {
      "cell_type": "markdown",
      "source": [
        "Create X and y dataframes for further LR analysis:"
      ],
      "metadata": {
        "id": "I4fpaPQxOWdn"
      }
    },
    {
      "cell_type": "code",
      "source": [
        "X_std = pd.DataFrame(mapper.fit_transform(X))\n",
        "y_std = y\n"
      ],
      "metadata": {
        "id": "yq2AxdIGzJIQ"
      },
      "execution_count": null,
      "outputs": []
    },
    {
      "cell_type": "markdown",
      "source": [
        "# PCA"
      ],
      "metadata": {
        "id": "ERnZ5w7LOnk_"
      }
    },
    {
      "cell_type": "markdown",
      "source": [
        "I've decided to perform PCA in order to get rid of highly correlated features and reduce the dimensionality of the model.\n",
        "The first step is to estimate what number of components will provide the explained variance close to 100% (98-99%)"
      ],
      "metadata": {
        "id": "goZEH5XQOsbd"
      }
    },
    {
      "cell_type": "code",
      "source": [
        "pca = PCA(n_components = X_std.shape[1])\n",
        "pca_data = pca.fit_transform(X_std)\n",
        "\n",
        "percent_var_explained = pca.explained_variance_/(np.sum(pca.explained_variance_))\n",
        "cumm_var_explained = np.cumsum(percent_var_explained)\n",
        "\n",
        "plt.plot(cumm_var_explained)\n",
        "plt.grid()\n",
        "plt.xlabel(\"n_components\")\n",
        "plt.ylabel(\"% variance explained\")\n",
        "plt.show()"
      ],
      "metadata": {
        "colab": {
          "base_uri": "https://localhost:8080/",
          "height": 280
        },
        "id": "qzPB1WhHEcst",
        "outputId": "031cdd35-ab7f-4b1e-9339-b91f332705dd"
      },
      "execution_count": null,
      "outputs": [
        {
          "output_type": "display_data",
          "data": {
            "text/plain": [
              "<Figure size 432x288 with 1 Axes>"
            ],
            "image/png": "[encoded data removed]"
          },
          "metadata": {
            "needs_background": "light"
          }
        }
      ]
    },
    {
      "cell_type": "code",
      "source": [
        "cumm_var_explained"
      ],
      "metadata": {
        "colab": {
          "base_uri": "https://localhost:8080/"
        },
        "id": "uQirJn74Fc4C",
        "outputId": "2630303e-3094-43e2-bb35-47c2f32e79b2"
      },
      "execution_count": null,
      "outputs": [
        {
          "output_type": "execute_result",
          "data": {
            "text/plain": [
              "array([0.53431803, 0.75482853, 0.87575048, 0.91603646, 0.95034667,\n",
              "       0.96605791, 0.97860458, 0.98714432, 0.99457363, 0.997784  ,\n",
              "       1.        ])"
            ]
          },
          "metadata": {},
          "execution_count": 150
        }
      ]
    },
    {
      "cell_type": "markdown",
      "source": [
        "From the plot above and values of cumm_var_explained I see that 5 of principal components give in sum 95% of variance. So further I am going to perform PCA with 5 components.   "
      ],
      "metadata": {
        "id": "g3Oy7e6xUxk_"
      }
    },
    {
      "cell_type": "code",
      "source": [
        "pca.explained_variance_"
      ],
      "metadata": {
        "colab": {
          "base_uri": "https://localhost:8080/"
        },
        "id": "OCzR0u0CK0zJ",
        "outputId": "b785c439-2477-4fd3-cfe8-76397946fcd2"
      },
      "execution_count": null,
      "outputs": [
        {
          "output_type": "execute_result",
          "data": {
            "text/plain": [
              "array([5.87815215, 2.42588531, 1.33028942, 0.44319503, 0.37745434,\n",
              "       0.17284286, 0.13802871, 0.09394752, 0.08173156, 0.03531794,\n",
              "       0.02437875])"
            ]
          },
          "metadata": {},
          "execution_count": 151
        }
      ]
    },
    {
      "cell_type": "markdown",
      "source": [
        "Transform standardize variables from our dataset using PCA model:"
      ],
      "metadata": {
        "id": "F2ow-mTJV8Kg"
      }
    },
    {
      "cell_type": "code",
      "source": [
        "pca = PCA(n_components=5)\n",
        "pca_train_data = pca.fit_transform(X_std)"
      ],
      "metadata": {
        "id": "j2EPGqH7K7jh"
      },
      "execution_count": null,
      "outputs": []
    },
    {
      "cell_type": "markdown",
      "source": [
        "Plotting heatmap of PCA 1-5 and the target:"
      ],
      "metadata": {
        "id": "f4PUxHCFWWui"
      }
    },
    {
      "cell_type": "code",
      "source": [
        "df_train_pca = pd.DataFrame(pca_train_data, columns=['PCA1','PCA2','PCA3','PCA4','PCA5'])\n",
        "df_train_pca[TARGET] = y_std\n",
        "\n",
        "corr = df_train_pca.corr()\n",
        "plt.figure(figsize = (12,10))\n",
        "\n",
        "sns.heatmap(corr, annot = True, vmin=-1, vmax=1, cmap=\"YlGnBu\", linewidths=.5)\n",
        "plt.grid(b=True, color='#f68c1f', alpha=0.1)\n",
        "plt.show()"
      ],
      "metadata": {
        "colab": {
          "base_uri": "https://localhost:8080/",
          "height": 596
        },
        "id": "xb8WOKnDLX7Q",
        "outputId": "224d0c90-f8a7-4e3c-f2dc-9eead9404755"
      },
      "execution_count": null,
      "outputs": [
        {
          "output_type": "display_data",
          "data": {
            "text/plain": [
              "<Figure size 864x720 with 2 Axes>"
            ],
            "image/png": "[encoded data removed]"
          },
          "metadata": {
            "needs_background": "light"
          }
        }
      ]
    },
    {
      "cell_type": "markdown",
      "source": [
        "We can see here that with PCA we avoided the situation with highly correlated independent variables. Now we have 5 variables loosely correlated with each other and actually just one of them has a significant correlation with the target.   "
      ],
      "metadata": {
        "id": "VYyRHxjKbyqe"
      }
    },
    {
      "cell_type": "code",
      "source": [
        "aux_df = df_train_pca.copy()\n",
        "aux_df.drop([TARGET, 'PCA3','PCA5'], axis=1, inplace=True)\n",
        "colnames = aux_df.columns\n",
        "# Redefine features\n",
        "features = gen_features(\n",
        "    columns=[[c] for c in aux_df],\n",
        "    classes=[\n",
        "        {'class': StandardScaler}\n",
        "    ]\n",
        ")"
      ],
      "metadata": {
        "id": "A2xtED60jBB2"
      },
      "execution_count": null,
      "outputs": []
    },
    {
      "cell_type": "markdown",
      "source": [
        "# Linear Regression"
      ],
      "metadata": {
        "id": "lYyRUw6OzP8X"
      }
    },
    {
      "cell_type": "markdown",
      "source": [
        "Splitting PCA dataframe into train and test parts. Dropping PCA components with near-to-zero correlation with the target variable (it was got empirically that dropping these components improves LR metrics) :"
      ],
      "metadata": {
        "id": "Up4JrbY3e7hT"
      }
    },
    {
      "cell_type": "code",
      "source": [
        "X_pca = np.array(df_train_pca.drop([TARGET,'PCA3','PCA5'],axis=1))\n",
        "y_pca = np.array(df_train_pca[TARGET])\n",
        "X_train,X_test,y_train,y_test = train_test_split(X_pca, y_pca, random_state=SEED, shuffle=False, test_size=0.2)"
      ],
      "metadata": {
        "id": "kRzmGIDmzyLL"
      },
      "execution_count": null,
      "outputs": []
    },
    {
      "cell_type": "markdown",
      "source": [
        "Applying nonlinear transformation to the target. I've tried several options: Log, ^2, sqrt, 1/sqrt etc, finally chose sqrt as it gives better results.  "
      ],
      "metadata": {
        "id": "JOA0QKUqhhzB"
      }
    },
    {
      "cell_type": "code",
      "source": [
        "train_X_tr = X_train\n",
        "test_X_tr = X_test\n",
        "\n",
        "train_y_tr = pd.Series(np.sqrt(y_train))\n",
        "test_y_tr = pd.Series(np.sqrt(y_test))"
      ],
      "metadata": {
        "id": "cXveNkkvSJRn"
      },
      "execution_count": null,
      "outputs": []
    },
    {
      "cell_type": "markdown",
      "source": [
        "Create and fit Linear Regression model. Print R2 score for the test data:"
      ],
      "metadata": {
        "id": "fRieccXxOLDc"
      }
    },
    {
      "cell_type": "code",
      "source": [
        "linreg = LinearRegression()\n",
        "linreg.fit(train_X_tr, train_y_tr)\n",
        "print(f'\\nR2 Test Score: {linreg.score(test_X_tr, test_y_tr)}')"
      ],
      "metadata": {
        "colab": {
          "base_uri": "https://localhost:8080/"
        },
        "id": "ZYSoBxOrzzC7",
        "outputId": "ed7fad1f-4b15-42de-81f6-8dbfee1b8d8b"
      },
      "execution_count": null,
      "outputs": [
        {
          "output_type": "stream",
          "name": "stdout",
          "text": [
            "\n",
            "R2 Test Score: 0.9500563436880232\n"
          ]
        }
      ]
    },
    {
      "cell_type": "code",
      "source": [
        "print(f'Predicted scores: {list(linreg.predict(test_X_tr))}')\n",
        "print(f'Actual scores: {list(test_y_tr)}')"
      ],
      "metadata": {
        "colab": {
          "base_uri": "https://localhost:8080/"
        },
        "id": "CgXzq5Re7IpI",
        "outputId": "d2794808-7991-4c1a-b3e7-8824f2e373b0"
      },
      "execution_count": null,
      "outputs": [
        {
          "output_type": "stream",
          "name": "stdout",
          "text": [
            "Predicted scores: [2.6234782339541685, 2.360234579240531, 2.279630949281574, 1.9678525373129938, 1.9997297047641824, 2.2379337852138184, 2.096035441997758, 2.230458573119074, 1.5423718383111031, 1.5102203448493685, 1.3720364090183195, 1.5599479274649355, 1.3014464694645458, 1.302674606444953, 1.5811456302478941, 1.6698007883603458, 1.7376370983279716, 2.3942843570169603, 2.4744542973837085, 1.9355271969030328, 1.7993620773919612, 2.0884888601632037, 1.8628335336266537, 1.7437174841128427, 1.695540970301213, 1.3409619946062532, 1.3021673343813418, 1.190071856967466, 1.4203775326686696, 1.7511304973113817, 3.6251134072378814, 3.859734265058537, 3.563535943210467, 3.786490696117078, 3.4007163745373936, 3.555360231340271, 3.552815814806709, 3.6727389707289473, 3.5324388294064235, 4.2472287653764935, 6.601138362000519, 6.25966315745527, 3.864561664944432, 3.482539467652341, 2.8111804135482115, 2.69053874672422, 2.497925891102488, 2.2311881010473114, 1.8723300196986317, 1.6596709396423117, 1.5934941211913825, 1.6592478996141775, 1.9173122267205533, 2.495046552012621, 3.781493369277505, 4.399259862267294, 5.040440739606158, 4.138193152456694, 4.723154223215445, 5.10706915631511, 5.35357696157355, 5.104476737606088, 5.087927898325519, 5.08078176203613, 5.236927624639703, 5.14891872932302, 4.60649182799033, 2.7162006126081475, 1.9818013532125642, 2.2655587955906746, 2.6462268029867095, 2.633361936394842, 2.2434851938754248, 1.5081332415880473, 1.2583065239663802, 1.1681897963975727, 1.19814343806951, 1.5676146697767805, 2.4942067660276432, 2.4501286359138144, 1.7166668091180262, 1.491187829106449, 1.5449363697424456, 1.8840090832207899, 2.251997299321753, 1.7440113293748996, 1.7475623601216665, 1.7958571093759619, 2.449801275128965, 2.436771816417791, 2.7265424536855343, 2.602891243189984, 1.5214652288707384, 1.8641591789030763, 1.9874740260380186, 1.5619680117135304, 1.2780608359640349, 1.1878084865230512, 1.0545993528870508, 1.127440836979933, 1.6729523688110859, 1.706720264057226, 3.6007850783735145, 4.0001829047114885, 4.157688565638785, 3.291092321103892, 3.2502478267908095, 3.2075809111221023, 3.3011847101156317, 2.680923865496663, 3.327729579475015, 4.310298416913948, 5.155152221163368, 4.401480181461598, 3.7688017381501524, 3.4615625208803653, 2.776983837668263, 2.5962753575623942, 2.5377843246100844, 2.429659669603115, 2.184613447657916, 2.198659379350067, 2.432387564684892, 2.6490501263664656, 3.0588759533301917, 3.444431352674231, 4.747311180972974, 5.436639534142727, 4.54857953376414, 4.631425219223567, 4.907268520920654, 5.096861764813337, 3.8373235884953245, 4.197086376055552, 4.6995007579870425, 4.010313973839134, 4.197612733121282, 4.347276000157477, 6.201478047205916, 6.228969434141588, 4.817922747893853, 4.201840178904014, 4.400647164899787, 3.711021333178184, 3.7058756507744413, 3.3497612956198264, 3.1010178252844844, 3.338669489663164, 3.130226035208729, 3.3240965108539937, 3.6683120251054135, 3.918349435739416, 4.214202919863836, 4.071308118571268, 3.8906090264691646, 3.799231142149338, 3.9238381811227696, 2.337276620272945, 2.0759222933548753, 2.1237054475582138, 2.3255266488908344, 2.819521007182772, 2.808171869902037, 4.031385198405856, 3.650487419189381, 3.421647836972029, 2.8673725278507454, 2.4663217524273304, 2.4076760274106057, 2.1420863169166395, 2.0669490889727222, 1.4631208903822475, 1.421887034729255, 1.3530406295450566, 1.4877934214418118, 1.926260906571761, 2.295792977507841, 2.4004029599999592, 2.6456668461999246, 2.7447769632272627, 2.5876354635722696, 2.7441461899590496, 2.406505756149462, 1.9436683080947998, 2.0594512454607354, 2.4130870281912786, 2.6076085259424326, 2.0978424643608142, 1.932751205579802, 2.235947375587875, 2.0641572115140456, 2.252322085959466, 2.4177107214357196, 1.3798848716128, 1.0770576367857538, 0.9088991492750123, 1.158036931768596, 1.632687278006385, 3.0081356923601863, 2.848247394633748, 2.267763314872223, 2.0222394984121435, 1.9885456012599776, 2.066577849468521, 2.0028623165659343, 2.3779431405854567, 2.3349032005247325, 2.334218853203917, 2.680517224137065, 2.4625309573626106, 2.2055490632571706, 1.5391367637654265, 1.1253078120230093, 1.0430956640269657, 0.9522932658498466, 0.7919923087517562, 0.6847917877590359, 0.6761012056281768, 0.6275363500781426, 0.5894822586015733, 0.6250071853191477, 0.747452507635062, 1.3847470792026775, 1.9092546664098566, 1.8950460834631548, 1.7197897369495343, 1.6005136781528968, 1.5335382800744648, 1.6589432002095164, 1.5168162663691696, 1.6007936824581606, 1.6704553758485525, 1.9033811089639325, 2.074099694401821, 2.1473337525153946, 1.4692561551562515, 1.2995376579438256, 1.040050486349066, 0.9286817612917071, 0.8743478965613987, 0.7074553749252668, 0.6638280395738794, 0.5603783335973302, 0.5018089005471067, 0.7036081080680718, 0.9482326860050101, 1.4874184731857156, 1.749714552216318, 1.4537359422622316, 1.487282780838836, 1.39114424163105, 1.5038239401049052, 1.7176595109634396, 1.5028796381558425, 1.672007563755331, 1.710215462059246, 2.392101613876867, 2.546902358412059, 2.3720904709414694, 2.2247131715131476, 1.591631801685802, 1.4713546623676967, 1.3960118427457364, 1.2740939101301774, 1.3606899955777498, 0.9465585047399445, 0.7390643530096743, 0.7488518485784459, 0.9632984229816342, 1.1926271088329636, 2.3793192732534183, 2.646626984575667, 2.2396244198704744, 1.7688833509392234, 1.573484730248137, 1.7825891315478115, 1.9050683202658283, 1.8378620781081394, 1.8485936785900048, 1.9040172649434637, 2.349402940870376, 2.758415456330125, 2.9589976087155487, 2.2100384483565283, 1.738411497981014, 1.8008880619025471, 1.655313188820738, 1.4467280515259031, 1.349586192438691, 1.2245147659084714, 1.1556012251128425, 1.0234518879457823, 1.2889471912689692, 1.3083211539457151, 2.278854052052774, 2.6095410135650936, 2.2630727245196467, 2.2117654835095024, 2.186008360677919, 1.9676872811100163, 2.348112511537513, 1.9397647001448308, 1.6822936154397838, 0.9538158665362917, 0.8692907800709926, 0.7885876304625188, 0.7605196603041193, 0.7872320305011744, 0.9595219984820327, 1.273576952308883, 1.509749058202178, 1.4974789207723258, 1.5202365306873709, 1.445136163103344, 1.4523041443995248, 1.5669474881364067, 1.3661743799654742, 1.44181469088655, 1.6396969997195725, 1.6197613513540545, 1.6219661849458216, 1.6985477238093913, 1.676994521474201, 1.2790690485991605, 1.249948342776305, 1.4238969997998483, 1.5005084845844918, 1.2733040614566724, 1.416426745479566, 1.314289925989888, 0.9229718928789956, 0.8752429585166794, 0.8132184553071284, 0.9267000229523119, 1.154329300271256, 1.2111355646394684, 1.2843349876360592, 1.3724553238872086, 1.268938303449309, 1.2578867615657494, 1.1797741666222363, 1.2296702799047838, 1.4596988933179094, 1.3136683535086158, 1.5003070435671173, 1.7786904437538706, 1.8339938782965868, 1.4198474513168717, 1.7221665867317362, 1.9777822537575722, 1.5937952087047365, 0.9725563273233346, 0.7900178894348984, 0.7402428033718516, 0.7170635958863887, 0.8392533213036484, 1.1948956098178225, 2.4110382742416707, 3.406239352246669, 3.8065840527209858, 3.2057376682090837, 3.281132046929661, 2.945916503573279, 2.927658656192319, 3.34066840636492, 3.510106461032496, 4.216166398640227, 5.0775685426629185, 5.493108095506084, 5.485809035106459, 3.8651498396063926, 2.8400865523242027, 2.474562507282207, 2.352153040168111, 2.1304714180174678, 2.0828620822879547, 2.050136224844845, 2.141464711188643, 2.1763910771042374, 2.200686161204534, 2.787439556821388, 4.494440863229859, 4.922860161587719, 4.482376733093401, 4.840112799247209, 4.737426179462604, 4.45404012318288, 4.517948534788041, 4.18091481856421, 3.974757499464188, 4.275782346208189, 3.73503942989369, 3.874806641209851, 3.7257453760016084, 3.1032275015368067, 2.656780178794342, 2.5297823957217567, 2.466728325596981, 2.4957773536403196, 2.821313855488624, 2.8223730262183957, 2.4582734878155748, 2.21714965760894, 2.366016197031706, 2.395125097170769, 3.80593021261508, 5.313932613948581, 4.589363783777873, 4.061979422599422, 3.9126151683625787, 2.7766918614082137, 2.6750708763713584, 2.44803457944339, 2.5334060344327782, 3.275250884734788, 4.133218475823156, 4.965258191572515, 5.305882216756849, 3.9470901261563314, 2.701286826871777, 2.740791332788157, 2.4188039973837414, 2.435334780625766, 2.057250423905627, 1.8182170609776087, 1.735301363427885, 1.7355458296970465, 1.762593818214609, 2.02636781435355, 3.9962603295069323, 5.359126321746178, 4.67780249467258, 3.996177604076178, 3.295067294253454, 3.8120540706024424, 3.706635626663267, 3.4559424406696753, 3.3241521698142518, 3.819994055074144, 5.993001493685847, 5.730895764358454, 4.406626222278192, 3.6849764514432177, 3.938573947516172, 3.1150971035994064, 2.5564864598674704, 2.367597688327602, 1.9418112173080813, 2.2356291347931583, 1.8916330314013878, 1.6562546425415015, 2.0039227088499048, 2.5885041899151724, 4.359252161198697, 4.224090860951014, 3.929590213196483, 3.833665841078129, 2.573076354925793, 2.295596478487911, 2.71088308146928, 2.3019228654540793, 2.18902243897862, 2.673060840682168, 2.84537908711472, 3.2155468630568147, 3.0755081706275833, 3.0285732736784254, 2.324977341067785, 2.1994339505300826, 2.290994225563099, 2.2815227125361845, 2.1850581778707068, 2.5075338119610096, 2.5875774652921644, 2.095156304890655, 2.2490455793266504, 2.575367255200578, 3.5044222403492835, 3.4333546158931947, 2.0965994262073986, 1.7882039523739743, 1.6847050862985442, 1.7974904060072519, 1.7144363026620604, 1.553021461461553, 1.6309582920846788, 1.5742289707945585, 1.7707026147578881, 2.2361760270781006, 2.1447213043268087, 2.253487487934424, 1.8513701398716105, 2.0756469096739343, 2.037061925791119, 2.017682955252614, 2.1361448069195617, 1.7401748396942065, 1.6319210520657554, 1.432116840618157, 1.3116353683428421, 1.31855678915155, 1.268266463766968, 1.4381888527693834, 2.035499556265277, 2.5796756185680474, 2.0265454839030914, 1.6550821846573287, 1.346868120483519, 1.254755649421152, 1.4562289593971884, 1.7695790837645606, 1.61890560098724, 2.0127585591051322, 2.172087110917957, 1.8038110457256793, 1.5370385379762068, 1.5232326336389932, 1.4882330218667097, 1.3737265992029535, 1.2450798716227696, 1.1705584206421114, 1.1083155718150772, 1.2430695331151869, 1.3743186500548321, 1.7585031984390873, 2.9788236336563085, 3.1933088565731067, 2.7462256994519003, 2.3746561589682877, 2.060006571131219, 2.1623423278726754, 1.9803904988319316, 1.9751605329805457, 1.9919704556792426, 2.3775947073944455, 2.545383359736059, 2.7430447899124233, 2.612105109288857, 2.108505781179937, 1.6587873427614188, 1.5389252304558718, 1.4692439325449, 1.2862446785421544, 1.0383347858873235, 0.9380225506576094, 1.1568122045958749, 1.3518618958758601, 1.4744488473678437, 1.9233450016688667, 3.1324137620889863, 3.713915641709292, 2.8489285518770417, 2.5792961668062224, 2.601778864841455, 2.3792499235436493, 2.679366835054603, 2.0498341663478685, 1.853632656444856, 4.588456118740231, 4.201407611386797, 4.124799672347845, 4.30477040583779, 4.190755408729947, 3.639064265859325, 2.9270380538514074, 2.7458367021826087, 2.752212086801808, 2.877689211881243, 3.1017029995795165, 3.5822882020515845, 3.624765353045767, 3.8004672468719236, 4.312603331876838, 4.383854063726422, 4.542226229230943, 4.631888281150499, 4.391017565119783, 4.515588393707118, 4.596935559672367, 5.328591262819829, 5.554467742649524, 5.89533307564419, 5.5584808012194005, 5.430692943626379, 5.321352143877256, 5.073436541433944, 5.060322024739953, 4.240893501836025, 3.819938045322903, 3.923893567692065, 3.8419774664602446, 3.6491744998637916, 3.608191883609524, 3.7828694073816993, 4.088553161668645, 4.174619196584368, 4.0165263413920975, 2.885677099058869, 2.6798805853302943, 2.6329521562557616, 2.7771195296182687, 2.1236765958704518, 2.104576519129815, 3.2959443861299627, 3.060319701587916, 2.846646750428305, 1.971498389963306, 2.5088031745744024, 2.610132535009548, 2.5064987806568233, 2.6244111185059977, 2.175720833920026, 1.8712588593870867, 1.5929062097162212, 1.4753730826706821, 1.8909025009880824, 1.5069663490235818, 3.296560565021921, 3.041967787129017, 2.8142670141176014, 3.923859845990378, 2.157248019596957, 2.1156982731336544, 2.130238372161168, 1.9585472735600458, 1.8671182079611817, 2.06414651539811, 2.8246413418176997, 3.5592368423382683, 3.136966328219323, 2.7394527193227436, 2.238872639063905, 2.2829236632717187, 1.5666219325940351, 1.2857923592979517, 1.0529334804812192, 1.0169578747807222, 0.8355132451598939, 0.8004776633595663, 1.1123506286872327, 1.483035379338955, 2.4071699374645714, 2.6245561915121023, 2.104831011907252, 1.5220581128001756, 1.7121021643010697, 1.8749599625756497, 1.7447881418390854, 1.4585461572394414, 1.8542868796001437, 2.1723794610136182, 2.9731222566015987, 3.314104867415983, 3.39184622122743, 3.259559894433343, 2.6963415233150396, 2.953603825168809, 2.845283308660674, 3.171597983557717, 2.836531393270856, 2.4997659047912735, 2.2694420768366266, 2.145852391238405, 2.372992251573743, 3.0141107011561217, 4.035751311406695, 3.6255514154232373, 2.725027096955324, 2.0300519006466997, 1.9090858708609864, 2.2276485327936095, 2.166382133857277, 2.231062822578332, 2.2589874557377505, 2.478795620025407, 2.8982840789389592, 3.7589467738399627, 4.864161864329609, 4.191021852184961, 3.182018789770566, 2.790362605731914, 3.1823363772937423, 2.7622795180405597, 2.760926067525222, 1.9633828547026968, 1.4521148806489728, 1.1984849124277432, 1.2329143913555352, 2.047676399382582, 3.2167295252125827, 3.2016031121051047, 2.3406260335732942, 1.9628819736767786, 2.088567804811352, 2.189588150402078, 2.5024932194576683, 2.1120849315446457, 2.0940628229511726, 2.1371799078993714, 2.9688293178569913, 3.1471267535408884, 3.426623971815214, 2.7273976026994684, 2.4997069932621936, 1.6762237208097677, 1.7753524592354286, 1.7907531459695143, 1.4806969488617812, 1.4486829056324457, 1.1091548599033914, 1.044274086434123, 1.2783179886024731, 1.5256329595952434, 2.8952740457237027, 3.118215174349678, 2.5895570514308774, 2.1815946323860613, 2.06680287575403, 2.0951336219454513, 2.236213453450075, 2.3159951324644226, 2.587328228712817, 2.9253370261905847, 3.3163233934733682, 3.675070004835968, 4.095342026407653, 3.0941648381320705, 3.0321265707308243, 3.4230021544322873, 3.001578241688831, 2.7047263676945223, 2.1752305740032316, 1.9814698314423824, 1.7258336864041017, 1.6739892354235737, 1.6662160493306526, 2.0877271958935824, 2.72893669414281, 2.9781883281284207, 2.5905798320503157, 2.84962705663215, 2.772273218134935, 1.9661087270077569, 1.9731043421159549, 1.768876933965942, 1.8361478917670342, 2.2281645608810168, 2.6492203704001605, 3.2003882012145644, 3.5250595610559348, 3.6116728222015713, 3.457817515460176, 3.0024392195985166, 2.9727585524637323, 2.65874253452655, 3.093444841862649, 2.5302478625029243, 2.325835752454691, 1.5536616049381466, 1.253339571421455, 1.3027033671583093, 1.4649505573802835, 1.5043199593682923, 1.7053803358223742, 1.7450966802912302, 1.7969655913428353, 1.8611225130917217, 1.7667302373414506, 1.9523525425663306, 1.9588286123892957, 1.8542168711465157, 1.9979683131603476, 1.8651382111286143, 2.2554155730608425, 2.0796536029914217, 1.8212027680815706, 1.9342902586101993, 1.9095345776385644, 1.5618323092376847, 1.3125235986949522, 1.1143593821005093, 1.0514590097123195, 1.234222955043378, 1.4861398124880496, 2.1762534984397663, 3.039524004701953, 3.4588587346151956, 3.1434656708635753, 2.7838924089609773, 2.7143048135775665, 3.1188439070061675, 2.759603684149906, 2.5712712948977625, 2.9014700384288945, 3.072065451511808, 2.9092656310356073, 4.547620415487938, 4.720506367521111, 2.8366989611544184, 2.2000048552786815, 1.9231262297440295, 1.662307155192391, 1.6471446636888674, 1.3254458708731087, 1.01118396400588, 1.0036421796381425, 1.2677726671864384, 1.7887422001611204, 2.572898770043472, 4.113079774726244, 4.934957649283794, 3.7802953620946256, 2.5985763214120063, 2.926274043840556, 3.0705715421614954, 3.367897054491676, 2.797099669490719, 3.115143779052432, 2.6220930082044394, 2.9163123861025113, 3.39918830522293, 2.539144070970242, 2.838629604073929, 1.8438476685629115, 1.6424663237247885, 2.076678118794746, 1.8059627013462352, 1.451899988572747, 1.3034023115011732, 1.3358568559245316, 1.1280724081983493, 1.1721190650040598, 1.5544924915969782, 2.6531579065212925, 2.399938127523717, 1.8927828456408264, 1.8815598090450816, 1.959536655337857, 2.6826991108028952, 3.0466284713573537, 2.9688961370576523, 2.9264948803896678, 3.0477067317243796, 3.178910236360417, 3.249850701622291, 3.421796654619907, 3.2837730705217862, 3.0227046703803966, 2.2487926573086985, 2.2054633242061943, 1.7755793069032473, 1.778928700721857, 1.4796445805559781, 1.3777347167891951, 1.35872070072611, 1.8445888936585717, 2.3988097380057196, 3.617876862388521, 3.865297090645673, 3.0693313844210355, 2.589657149421304, 2.364498349512849, 2.6789397749876227, 2.721530243500571, 3.1928609754014725, 3.6572794023208153, 3.733658615783243, 4.284269809786591, 4.25848104588963, 4.2048609202407405, 3.843814741191311, 2.9959421704579934, 2.846085093781066, 2.938250259286084, 2.7568740258769404, 2.3660786662527156, 2.0249746025271014, 1.9733693036075728, 1.6955039584055658, 2.086415573651249, 2.4702324519516994, 4.1687917803821675, 5.198456234992122, 4.250177116415268, 3.4769403143550113, 2.4375978324954017, 2.6295933170355905, 2.5142426939792184, 2.3600233101682466, 2.5347967682705463, 2.7033979396518237, 3.1954915657192893, 3.336668447281483, 3.5565517851872586, 2.7267845919292664, 3.30469842582899, 3.1740109600804325, 2.9994170845191945, 2.568716143634055, 2.4372192848467846, 2.5500140063746044, 2.28353339727992, 1.9106391736085162, 1.6249336385571875, 1.4226329030133167, 1.760812401000535, 1.8924279004223856, 1.8646511362687448, 1.8148962925751622, 2.033309113274723, 2.151199890307859, 2.1081007430519207, 1.8361887249545825, 1.8182975860907755, 2.0302589950244143, 2.130874347735943, 2.327095319119381, 3.0810714140552724, 2.8443722648165837, 3.060188390751979, 3.396189657944141, 3.6394415785486576, 3.2184772076046637, 2.515381416175904, 2.508401398875081, 2.169441183289513, 1.6444563743409002, 1.676928340904059, 1.8445042666855842, 1.8733788140445224, 1.9556741408077243, 2.501617775334721, 2.2014177275821556, 1.8597108531696955, 1.8814498030022997, 1.4906797704561123, 1.3608210890587138, 1.428164648549859, 1.4176244452445432, 1.5654453849313674, 1.992907830478754, 2.4586096144727576, 1.6555578004981966, 1.3528484410165633, 1.733783954634118, 1.858313906713484, 1.2791551456395713, 0.9917223423939809, 0.7786303169635862, 0.6380916610656815, 0.6009196392168548, 0.6033158380158516, 0.865223032521298, 1.4591873099792056, 1.5643806426950349, 1.3474961318437482, 1.2282457598760133, 1.1610715606712791, 1.3971460951354624, 1.2982243986341258, 1.102844534173095, 1.1902917899196683, 1.249648185124086, 2.0212170229733406, 2.243888278488167, 2.207781252469156, 1.5116579120872398, 1.0633199346991482, 0.8896596899108502, 0.8536352377290779, 0.7929819224036954, 0.6128047324943049, 0.37586086932379326, 0.36871759072650834, 0.43038565568894116, 0.46166865097074483, 0.8361928298941463, 1.832987081147101, 2.0151896095985613, 1.5478249578383718, 1.2016808899495306, 1.0516976559599018, 1.1778659040481774, 1.3226138044127267, 1.2716945555241923, 1.3518693346230408, 1.3190343111233636, 1.718241847565555, 2.27004599980853, 2.5915122763698113, 2.0085989497367693, 1.254158079300003, 1.2672190105539118, 1.1259060646751031, 0.955820553424469, 0.8434691297435313, 0.892010327949083, 0.9391102973624501, 1.0444731278554253, 1.2583110934134327, 1.6331823759730408, 2.8992714978066507, 3.0911112154443767, 2.6105245495239258, 2.6561429504471876, 1.8689008183927844, 1.7410960384979235, 2.340254617578035, 1.8790038053075993, 2.3352740114526283, 2.4098256921472134, 3.575852340962226, 4.506508089474141, 4.38164486127719, 3.3171819336146755, 2.619418718048015, 2.390557560945967, 2.4041807852946286, 2.2921997058905568, 2.0884597410482284, 2.049647358117336, 2.3889204898278953, 2.431608659138953, 2.64152079009818, 2.88417317584534, 4.140284591863509, 4.222578728833497, 2.9263743508071265, 2.809400083368302, 2.528692657906341, 2.4018187337532764, 2.429123823344721, 2.4416384608947297, 2.505021221629373, 2.9111672106727156, 4.147309595645879, 4.5194111678333595, 4.0630111330656655, 3.5646239090657996, 3.066289681280407, 2.8930484744679643, 2.9933754516828333, 2.805014092090938, 2.4543811096327683, 1.9708556068546441, 1.4455764224637215, 1.8554138258343145, 2.125772722411952, 2.795715322601081, 4.132792470684865, 5.429911466902475, 4.18462806622969, 3.9119673615703836, 3.9603853680830468, 4.150776382862921, 4.07858031112106, 4.06030965036727, 4.197828483053778, 3.9988167024246355, 3.6855365923112213, 3.772482366401933, 4.274348346820372, 2.849082979485655, 2.3453157054670473, 2.649107690276317, 2.638908597396399, 2.78009918499202, 2.181739051752045, 2.286120216370958, 2.130005944168401, 1.8879297112247642, 2.0967964145799156, 1.4803257928681015, 2.2705816595042627, 2.773301218202343, 1.6542946238691152, 1.9529245534433082, 2.016678202048362, 2.243628351596006, 2.5189589472347675, 2.0879071541561514, 2.3884608154335893, 2.65292544991468, 2.698849141727662, 2.973020581300884, 3.2377305966879066, 3.257312259525877, 2.819842675109508, 2.737923011618518, 3.0820798490038595, 2.225016985344593, 1.3615694130884646, 1.2142484719054707, 1.1347163140085057, 1.0245094323084063, 0.8986993755484631, 1.113657073231839, 1.1415132460564636, 1.2456358707095805, 1.2054923582978239, 1.3513491286470178, 1.3975587726172354, 1.4507823671460047, 2.0974685723525397, 3.1041124224286665, 1.804987495358891, 2.0998297136348265, 2.6007375830067048, 2.4742153339959145, 2.280653110151715, 1.9772188842649827, 1.885280831620803, 1.985161844689233, 1.734262548207393, 1.650864608259576, 1.2774735311256098, 0.9179978802756632, 0.8066319679497713, 0.9133805243775996, 0.9725304186118335, 1.3336238077362619, 2.1349310646833195, 2.3592321077313327, 2.1191282213119393, 1.8352040502035782, 1.768269768001872, 1.6678787557281098, 1.6579635342352468, 1.7584589436814355, 1.8624956961172356, 2.2013657511510942, 2.6952803495510764, 3.455448750157157, 3.577461535081653, 2.818190104543498, 2.1609192651626716, 2.4751047717755403, 2.131135196246783, 2.30211483330905, 1.889472846846678, 1.555473267460701, 1.4750197524303343, 1.548612930316594, 1.7355961278185459, 2.1675782965957584, 3.9509654292614456, 4.942830134160728, 3.933645268368034, 3.2678278038143502, 2.3662225567958277, 2.3041724627317137, 2.6440246390433835, 2.5412375546377284, 2.5818410647367944, 2.5961414200846793, 3.6353524385822484, 4.749351471839638, 4.941541162878271, 3.646969174886437, 3.0601755677804294, 2.4778629436410573, 2.4046343461827338, 2.235562490050919, 1.9331674017499112, 1.7026662410878382, 1.7078893295454562, 1.8402509073320943, 2.0328017671214162, 2.6336515773618783, 4.526819609048683, 5.278779216982047, 4.307705307869752, 3.9298309767650266, 3.435936236030448, 3.519628013477769, 3.3160412301300415, 3.039086645565786, 2.8091502611358194, 3.2114438422973466, 4.362279000573236, 5.302381200107202, 5.3108476606524375, 4.915234042688158, 3.013544511759801, 2.921779982048408, 2.6932782584236215, 2.3925213084399837, 2.2039990239948146, 2.1762246857781076, 2.0052693434595956, 1.9361063895244843, 2.006073437835306, 2.5016868966776196, 4.499081857400119, 4.600358289486974, 4.032559332597675, 3.7159307864765587, 3.435966123224965, 3.180586152499328, 2.7257647035195918, 2.62782346154187, 2.1704913772514405, 2.6078796723893993, 3.2636228744035716, 4.066830084750495, 4.650522007939277, 3.977166437839732, 2.8319770246898854, 2.341526460347106, 2.3567510250621817, 2.300060028231175, 1.916938898043585, 1.7232643279686326, 1.8320154747866035, 1.616358388775082, 1.711842624314151, 1.9778506240503282, 3.3679187519856115, 4.590468502714731, 4.327150574835084, 2.9950825884548293, 3.284423389037234, 3.6991403485859347, 3.333623884741526, 2.951017056912275, 2.8683035144436206, 3.354672402197946, 4.626502420033267, 4.637673243004427, 3.6329189811833418, 2.485374452284042, 2.526134643751738, 2.708733449545525, 2.160190085036433, 2.4361328390068717, 2.3541396469913622, 1.7526163922572109, 1.512149417708337, 1.4686964231935051, 1.6166623501997512, 1.8828031112771768, 2.3391242030168122, 2.4075795005460545, 2.5337075122399506, 2.374495030804346, 2.1839498384569556, 2.4003113025219376, 1.8952523306979083, 2.181159069679124, 2.4664089853675826, 2.648324900284359, 2.6309692690987942, 3.7391738277980378, 3.7551755849932253, 2.402595668120839, 1.9157409157546121, 1.7092877357758474, 1.818241874697874, 1.862322988675276, 1.4781743072570213, 1.5481915012307468, 1.5014810729032608, 1.1389417170927894, 1.3936515481158085, 1.619927457197016, 1.8328398137376658, 2.415201296463813, 3.0048318131161134, 3.485603958640442, 3.2485907437613926, 1.9451379807805496, 1.9167356145199261, 2.238720329863942, 2.417635330315872, 2.7024932474468506, 4.342789445230358, 3.8905521115556816, 2.801298535670673, 2.935890040736804, 2.8210098555060816, 2.0931544507076536, 2.3565464879258844, 2.4266421395145263, 2.2138616588046416, 2.018263672412695, 2.0309687997849557, 2.3716401384331043, 2.8789329853407657, 4.157053445545269, 4.8956858149636915, 3.575688358050667, 2.620539277591956, 2.632930838203952, 2.630650299199343, 2.793495937865891, 2.7596077645095836, 3.322559999640468, 3.8557006002770233, 5.22950414549984, 5.761208257621783, 5.712073365191699, 4.106278426077049, 3.1948422042741784, 2.931212368272318, 2.515019289079591, 1.7381668606697338, 1.7147327784770243, 1.7548966514101414, 1.5027167400375583, 1.5005094973700361, 1.88024134751795, 2.1824693129632227, 3.78840627844386, 4.424051610795121, 4.37330304820455, 3.847982103068489, 3.1859071384999433, 3.051172377786812, 2.995896193441946, 3.0409870729438184, 3.306251867945415, 3.6052516164197987, 4.496466270459853, 5.702006846258515, 6.2248384781543376, 4.971050251780001, 3.2004567339561563, 2.7669704776639312, 2.625158786971558, 2.2861135076346466, 2.078060727720579, 1.8505164704345787, 1.737757134796932, 1.669642200898175, 1.9832697146021339, 2.058813603751281, 3.1687403430762178, 4.967952863399294, 4.412369625837433, 3.9507424391748134, 3.752277067530284, 3.3432196621800387, 3.148248186937825, 3.7742646225465015, 3.3822144062952866, 3.951829987779038, 4.001413873409758, 5.057326456119498, 4.918615434474014, 5.060407810464774, 3.9045397284553287, 3.513109046952912, 2.815325807898864, 2.3931338417411787, 2.116779547056708, 1.818619472932369, 1.7635717271091857, 1.5541695949623628, 1.7889939521888252, 2.5929070349409176, 4.527276438548757, 5.375481095143197, 4.501249277715985, 3.6768600474235837, 3.4588317782543117, 3.2619015332078543, 3.3333020971890734, 3.1916824472721594, 3.1877011235797026, 2.783323851189379, 3.634307554703903, 4.358054505470724, 5.085225023943738, 4.5323662922472305, 3.2157829438173513, 3.07348806452007, 2.629217033417036, 2.461405032304101, 2.322775748462234, 2.039220151429428, 1.9380221468776817, 1.7145317208493367, 1.933835485218979, 2.331088990843195, 3.8793556069283555, 5.2390341603725386, 4.406703212151941, 3.9423511352721223, 3.3601080210991197, 3.4740271796034095, 2.990050288488749, 3.347775619979906, 3.749064109506851, 3.9115542983224914, 4.276735985370307, 5.109818773972041, 5.127603182449354, 4.6586301940719235, 2.9412353148636488, 2.9523979708134043, 2.937067591971944, 2.8872169981751274, 2.056721609556674, 2.0288027529195003, 1.8287851634944692, 1.8388001365938333, 1.6780828138445152, 2.148611931508903, 3.332869561325118, 3.5619737836879635, 3.410227147220109, 3.3385740925091207, 3.1735973613704145, 3.0734260143254604, 2.722611993273519, 2.446378668483712, 3.0370122457703603, 2.604200545925158, 2.957537689087545, 3.7916039565060893, 4.12001160604702, 3.6238774087088945, 3.0384294420011706, 3.1327419782673003, 2.9391285528991076, 2.74818213107239, 2.378709302392737, 2.062135863394854, 1.8425889560703048, 1.8074350063554783, 1.5684183743924986, 1.8506704008842894, 1.7907374379085157, 2.169848800950701, 2.7014023457463985, 3.139642532288321, 2.2822011435912155, 2.0856279709492203, 1.7330256063135967, 1.9969505400373926, 2.132026199860471, 2.484178280677952, 2.692075479259229, 3.6943115495800867, 4.118452324524927, 3.9091728482055115, 2.6775607262953174, 2.4727016200626455, 2.514208033943032, 2.462966212526731, 2.1079399785077113, 1.9299196746272578, 1.7252220704606895, 1.6992125165355638, 1.977201960221436, 2.6664759130279005, 4.329482763477497, 5.844462617588558, 4.303383197567157, 3.4716191820568207, 3.051445843846463, 2.8564584417229173, 3.221413893974524, 2.976774283734119, 3.0993801171387876, 3.5398301359805306, 4.923859227802976, 5.713398162390915, 5.3322383751690845, 3.9939651925767743, 3.052785327014547, 2.340269678367364, 2.457719304005537, 2.5408314978818347, 1.9302253537949028, 1.6469852313721143, 1.5093647331391633, 1.6128714549981982, 1.8439847835555723, 2.1047744825794608, 3.589102842494114, 5.248830249260632, 4.55357618060188, 4.185533717922825, 4.0495998075086685, 3.5836977881911847, 3.582674498914801, 3.0338810334526154, 2.7992037764522895, 2.7628553191798164, 4.436940972769657, 4.807921816012965, 4.852685684186346, 3.690596979236563, 2.901926212612203, 2.8426367665186048, 2.916177451800715, 2.3674907144917134, 2.342795742941736, 2.106680942107806, 1.9948875845588958, 1.7978437103290248, 2.196035365529932, 2.7388120543796783, 5.010859826775768, 5.375697668251243, 4.842692740541484, 4.292137482555454, 3.1600652988479645, 3.192634305315375, 3.273943885646693, 3.2775814083545547, 3.3732558296059043, 3.5212167960436176, 4.729249933892143, 5.809040649210132, 6.038792227646495, 4.519568090188668, 3.656939047892187, 3.7986779684476444, 3.332548213459946, 3.1213833572341345, 2.309656666711698, 2.1000352456618065, 1.8280440607086579, 1.8386937265885586, 1.8093129544417377, 2.3340036629208663, 4.431136960679482, 4.153630306882316, 4.468133210301758, 4.3091526974968595, 4.626010429445283, 4.653105281952456, 4.162355184238489, 3.386229789311127, 3.518695018199465, 3.342025863428882, 3.8566236477266234, 5.859756295386134, 6.472454916667434, 5.351191538244918, 4.6814235904164985, 3.8585438203765374, 3.4546839280763457, 2.9073333840176834, 2.4241013162919427, 2.4074809144091582, 2.3757762774853557, 2.1757917856972204, 1.8855573855296541, 2.545187626255158, 4.391281556054001, 4.965527488297238, 3.6198875522654714, 3.2397884652547373, 3.737920216168983, 4.245347493357728, 4.075830107793189, 3.7811930387755535, 4.336511993502635, 4.46251831495886, 5.189324558082895, 5.575375138782627, 5.232002281578348, 4.4227245702327025, 4.054734991618149, 3.4249708263445475, 3.783141313863253, 3.5630969319408266, 3.025565707203921, 2.8268378683069666, 2.6840938292302114, 2.594320008869457, 2.4716089573529945, 2.6794511429120025, 3.2184600177583604, 3.5901717385879315, 3.6496504132205474, 3.482562693477323, 3.2246254659282703, 2.909531117123216, 2.4854564204121665, 2.913339188399357, 3.022900767145817, 3.4037003102574888, 3.2975804296792646, 3.3201284456624434, 3.0553415800354764, 3.342193807742052, 3.404816583507009, 2.876072085892655, 2.853805536445444, 2.4855868874624742, 2.20172550609997, 2.313457688680111, 2.1903456187440846, 2.007058462302136, 1.9957508085869673, 2.4375034690357067, 2.355207120311027, 2.4942825768765697, 2.6363067693838103, 2.6113421772941328, 2.7243132586317977, 2.380442939346692, 1.9602304772187233, 1.9511049880101763, 2.233011603662868, 2.6106123856939587, 2.532009161010715, 2.7833427612712045, 2.92021877378904, 2.7964606901199094, 2.7961964380343245, 2.762474831805363, 2.497467741400536, 2.1671515553862104, 2.0737981485544807, 2.01929221862236, 1.7995339196526996, 1.7086701735103806, 1.744071163994007, 2.1320564775499555, 2.1896688408042833, 2.4884205774372545, 2.6110280826390646, 2.6663029437749453, 2.4414926775364147, 2.212239403054068, 2.3729218152752134, 2.263761391371362, 2.23207239376224, 2.6980397631958897, 3.3877679211873413, 3.7289762570917073, 3.213994442034311, 2.7449864305471334, 2.7238076851055064, 2.686829546164735, 2.533595277196704, 2.0400915237453336, 1.8213739735951064, 1.4320389655292556, 1.5370478761546547, 1.7001439079278873, 2.3018950423284217, 3.9913770521137155, 5.17234511189605, 4.482921966014481, 3.9886552591287003, 3.309513004200864, 3.405960398125595, 3.4090069070354407, 3.464317792773046, 3.5817292099327216, 3.5575584119153425, 4.108245258305193, 4.099937384077722, 3.6480270768720837, 3.785099868812251, 3.102044862326782, 2.3599522209782378, 2.346005882656385, 2.3492466446444373, 1.966035516987363, 1.7706477841599986, 1.3991316433426872, 1.5209992461946857, 1.6936396117581554, 2.0119724455807915, 3.405623252470445, 3.688871421802975, 3.9154000634382835, 3.516821838667328, 2.8727394600251523, 3.047276623451335, 2.8002608097554935, 2.791830185465323, 2.7045456698538914, 2.863436748683236, 3.851216471856622, 4.061728262120331, 4.40760861659538, 4.165223851939623, 3.1582985445698393, 2.6187731748803182, 2.7200511444678783, 2.3583377502785634, 2.269499198010485, 1.8650675835959227, 1.7187876736918126, 1.6359229306347782, 1.866175154698768, 2.4829022051784846, 4.875333523487994, 3.6096336536737463, 2.696917352257587, 2.2302140041119958, 2.074033578106462, 2.0541275289366157, 2.005466529267606, 1.7851343096044685, 1.9079095678042264, 1.9371087820238604, 2.454669573057538, 2.638746752053451, 2.7994402914364387, 2.083432193338804, 1.6466486435776169, 1.4880472224568067, 1.523602267594053, 1.3271563623122755, 1.1408351250537907, 1.1772311205263706, 1.1076557998434364, 1.072717735243717, 1.298430458363041, 1.5360390785487728, 2.5019682361020843, 2.4969385774688897, 2.0321316635203397, 1.8694344869614732, 1.8305411731670316, 1.8242902021319647, 1.9073507820355173, 1.6505117287268727, 1.7081500326306047, 1.893253519600341, 2.0084660423713236, 2.0371192226134167, 2.357641288172151, 1.692875610912469, 1.2948971022271847, 1.308776460520268, 1.6589133187673422, 2.214139662684248, 1.4049937448927194, 1.1839021730912924, 1.1310751507404027, 0.9788399761761333, 1.1284688902385172, 1.466753197726215, 1.773729492758143, 1.629281990052856, 1.5710538739805675, 1.5584320957630067, 1.4695872357644122, 1.4168742807302883, 1.5143117616760982, 1.460487955816332, 1.5008654689096557, 1.5972681107109383, 1.7879090597128824, 1.8686122727299548, 1.8210605770360713, 1.7176872332594453, 1.4063404682230949, 1.3916541777604619, 1.4875079962733864, 1.6107107244920214, 1.7421702843792823, 1.7036104172929054, 1.764859103442347, 1.4354148416256218, 1.1384109121546702, 1.2884360442316463, 1.5177816576567797, 1.7405425442706046, 2.1558507661095354, 1.9158467144147708, 2.1369703647994536, 2.1458260320448383, 1.752903557813958, 1.7737250496192163, 1.9327172047036032, 2.043994530905154, 2.065764364672447, 2.062483760788884, 3.3644722301291656, 3.1547834966613397, 2.6286507327756707, 2.6427091109334917, 2.4891244529622507, 2.0594416830218245, 1.6335974541205152, 1.5169351112708438, 1.378598994625014, 1.2735159002562901, 1.4268339524185718, 2.2234082121842036, 4.225872377620102, 4.8674659438554455, 3.9566640035190708, 3.9594630056041655, 3.2956682930323726, 3.2074752201799717, 2.574838223781777, 2.856757278646838]\n",
            "Actual scores: [2.756809750418044, 2.449489742783178, 2.4289915602982237, 2.04939015319192, 2.1213203435596424, 2.32379000772445, 2.1908902300206643, 2.5099800796022267, 1.61245154965971, 1.61245154965971, 1.4832396974191326, 1.7320508075688772, 1.378404875209022, 1.4142135623730951, 1.6733200530681511, 1.816590212458495, 1.8439088914585775, 2.6645825188948455, 2.7202941017470885, 2.073644135332772, 1.9748417658131499, 2.280350850198276, 1.9493588689617927, 1.8708286933869707, 1.70293863659264, 1.1832159566199232, 1.0488088481701516, 1.0, 1.2649110640673518, 1.7888543819998317, 3.987480407475377, 4.242640687119285, 3.8340579025361627, 3.8858718455450894, 3.6606010435446255, 3.8078865529319543, 3.8340579025361627, 4.123105625617661, 3.9115214431215892, 4.604345773288535, 6.557438524302, 6.099180272790763, 4.08656334834051, 3.6606010435446255, 2.949576240750525, 2.7202941017470885, 2.588435821108957, 2.23606797749979, 1.8439088914585775, 1.5491933384829668, 1.449137674618944, 1.5811388300841898, 1.8708286933869707, 2.6267851073127395, 4.09878030638384, 4.505552130427524, 5.0, 4.147288270665544, 4.626013402488151, 5.0099900199501395, 5.291502622129181, 5.10881590977792, 4.969909455915671, 4.949747468305833, 5.263078946776307, 5.0990195135927845, 4.658325879540846, 2.449489742783178, 1.816590212458495, 2.2135943621178655, 2.569046515733026, 2.588435821108957, 2.0976176963403033, 1.224744871391589, 1.0488088481701516, 0.9486832980505138, 1.0954451150103321, 1.5811388300841898, 2.756809750418044, 2.701851217221259, 1.9235384061671346, 1.5811388300841898, 1.6431676725154984, 2.1447610589527217, 2.588435821108957, 2.073644135332772, 2.073644135332772, 2.0248456731316584, 2.756809750418044, 2.6457513110645907, 3.0983866769659336, 2.792848008753788, 1.5491933384829668, 1.9748417658131499, 2.0248456731316584, 1.5811388300841898, 1.140175425099138, 1.0954451150103321, 0.8366600265340756, 0.9486832980505138, 1.70293863659264, 1.6431676725154984, 3.794733192202055, 4.147288270665544, 4.171330722922842, 3.391164991562634, 3.449637662132068, 3.5496478698597698, 3.7815340802378077, 3.2093613071762426, 3.8078865529319543, 4.679743582719036, 5.338539126015656, 4.604345773288535, 4.0, 3.605551275463989, 2.6457513110645907, 2.5298221281347035, 2.4083189157584592, 2.3664319132398464, 2.1213203435596424, 2.1447610589527217, 2.4289915602982237, 2.569046515733026, 3.03315017762062, 3.492849839314596, 4.753945729601885, 5.385164807134504, 4.404543109109048, 4.527692569068709, 4.743416490252569, 4.898979485566356, 3.7282703764614498, 4.09878030638384, 4.494441010848846, 4.049691346263317, 4.242640687119285, 4.505552130427524, 6.172519744804386, 5.974947698515862, 4.669047011971501, 4.266145801540309, 4.483302354291979, 3.794733192202055, 3.8858718455450894, 3.6193922141707713, 3.391164991562634, 3.7013511046643495, 3.40587727318528, 3.63318042491699, 3.9496835316262997, 4.110960958218893, 4.301162633521313, 4.0743097574926725, 3.872983346207417, 3.872983346207417, 4.110960958218893, 2.6457513110645907, 2.4289915602982237, 2.6645825188948455, 2.932575659723036, 3.492849839314596, 3.5496478698597698, 4.5934736311423405, 4.110960958218893, 3.8858718455450894, 3.1780497164141406, 2.7386127875258306, 2.756809750418044, 2.4289915602982237, 2.345207879911715, 1.51657508881031, 1.4142135623730951, 1.2649110640673518, 1.449137674618944, 2.0976176963403033, 2.5298221281347035, 2.701851217221259, 2.949576240750525, 3.03315017762062, 2.8106938645110393, 3.0, 2.6457513110645907, 1.9235384061671346, 2.073644135332772, 2.6076809620810595, 2.949576240750525, 2.16794833886788, 1.8708286933869707, 2.32379000772445, 2.0976176963403033, 2.449489742783178, 2.756809750418044, 1.378404875209022, 1.0, 0.7745966692414834, 1.0954451150103321, 1.70293863659264, 3.331666249791536, 3.1144823004794873, 2.3874672772626644, 2.32379000772445, 2.258317958127243, 2.4083189157584592, 2.3664319132398464, 2.8284271247461903, 2.6645825188948455, 2.756809750418044, 3.22490309931942, 2.9832867780352594, 2.701851217221259, 1.8973665961010275, 1.3038404810405297, 1.224744871391589, 1.0, 0.7745966692414834, 0.6324555320336759, 0.5477225575051661, 0.4472135954999579, 0.4472135954999579, 0.31622776601683794, 0.6324555320336759, 1.70293863659264, 2.32379000772445, 2.258317958127243, 1.9493588689617927, 1.9748417658131499, 1.8973665961010275, 2.04939015319192, 1.8973665961010275, 1.8973665961010275, 1.9748417658131499, 2.2135943621178655, 2.4083189157584592, 2.4698178070456938, 1.6733200530681511, 1.5491933384829668, 1.224744871391589, 1.0488088481701516, 0.9486832980505138, 0.6324555320336759, 0.5477225575051661, 0.4472135954999579, 0.31622776601683794, 0.7071067811865476, 0.9486832980505138, 1.816590212458495, 2.0976176963403033, 1.6733200530681511, 1.7888543819998317, 1.6431676725154984, 1.8708286933869707, 2.1908902300206643, 1.8439088914585775, 2.04939015319192, 2.04939015319192, 2.9154759474226504, 3.03315017762062, 2.756809750418044, 2.4899799195977463, 1.70293863659264, 1.5811388300841898, 1.61245154965971, 1.4832396974191326, 1.5811388300841898, 0.8944271909999159, 0.5477225575051661, 0.5477225575051661, 0.8366600265340756, 1.1832159566199232, 2.569046515733026, 2.898275349237888, 2.345207879911715, 1.8708286933869707, 1.7320508075688772, 2.0248456731316584, 2.16794833886788, 2.1213203435596424, 2.16794833886788, 2.258317958127243, 2.7748873851023217, 3.2093613071762426, 3.391164991562634, 2.449489742783178, 1.8973665961010275, 2.073644135332772, 1.8439088914585775, 1.5491933384829668, 1.4142135623730951, 1.1832159566199232, 1.0954451150103321, 0.9486832980505138, 1.2649110640673518, 1.3038404810405297, 2.4899799195977463, 2.8635642126552705, 2.5298221281347035, 2.4289915602982237, 2.3874672772626644, 2.3021728866442674, 2.701851217221259, 2.258317958127243, 1.9748417658131499, 0.8944271909999159, 0.7745966692414834, 0.7071067811865476, 0.7071067811865476, 0.7745966692414834, 0.9486832980505138, 1.4142135623730951, 1.6733200530681511, 1.6733200530681511, 1.7320508075688772, 1.5491933384829668, 1.5811388300841898, 1.7320508075688772, 1.4832396974191326, 1.61245154965971, 1.8439088914585775, 1.7320508075688772, 1.760681686165901, 1.8439088914585775, 1.70293863659264, 1.3038404810405297, 1.2649110640673518, 1.51657508881031, 1.4832396974191326, 1.3038404810405297, 1.4832396974191326, 1.3416407864998738, 0.7745966692414834, 0.7745966692414834, 0.6324555320336759, 0.8366600265340756, 1.0954451150103321, 1.1832159566199232, 1.4142135623730951, 1.4142135623730951, 1.2649110640673518, 1.2649110640673518, 1.3416407864998738, 1.3416407864998738, 1.61245154965971, 1.4142135623730951, 1.6733200530681511, 1.9748417658131499, 2.0248456731316584, 1.5491933384829668, 1.8708286933869707, 2.1447610589527217, 1.7320508075688772, 1.0, 0.7071067811865476, 0.6324555320336759, 0.5477225575051661, 0.7745966692414834, 1.1832159566199232, 2.6645825188948455, 3.7416573867739413, 3.8858718455450894, 3.5355339059327378, 3.5777087639996634, 3.449637662132068, 3.420526275297414, 3.8340579025361627, 3.96232255123179, 4.5934736311423405, 5.2345009313209605, 5.549774770204643, 5.403702434442518, 3.872983346207417, 2.6645825188948455, 2.32379000772445, 2.1908902300206643, 1.9493588689617927, 1.8708286933869707, 1.816590212458495, 1.8973665961010275, 1.9493588689617927, 2.04939015319192, 2.7748873851023217, 4.47213595499958, 4.701063709417263, 4.147288270665544, 4.626013402488151, 4.449719092257398, 4.33589667773576, 4.33589667773576, 4.08656334834051, 3.794733192202055, 4.03732584763727, 3.794733192202055, 4.123105625617661, 3.847076812334269, 3.1304951684997055, 2.4698178070456938, 2.32379000772445, 2.16794833886788, 2.258317958127243, 2.6267851073127395, 2.701851217221259, 2.1908902300206643, 1.8973665961010275, 2.1213203435596424, 2.280350850198276, 3.8858718455450894, 5.224940191045253, 4.427188724235731, 3.847076812334269, 3.8078865529319543, 3.1780497164141406, 3.1780497164141406, 2.8809720581775866, 3.0, 3.6606010435446255, 4.415880433163924, 5.272570530585627, 5.60357029044876, 3.9496835316262997, 2.6457513110645907, 2.792848008753788, 2.3664319132398464, 2.449489742783178, 1.9748417658131499, 1.6733200530681511, 1.61245154965971, 1.70293863659264, 1.6733200530681511, 2.04939015319192, 4.08656334834051, 5.394441583704471, 4.54972526643093, 3.9370039370059056, 3.2093613071762426, 3.714835124201342, 3.5637059362410923, 3.3763886032268267, 3.1937438845342623, 3.7815340802378077, 5.692099788303083, 5.385164807134504, 4.1952353926806065, 3.5496478698597698, 3.9370039370059056, 3.0166206257996713, 2.5298221281347035, 2.258317958127243, 1.816590212458495, 2.3021728866442674, 1.760681686165901, 1.4832396974191326, 1.9748417658131499, 2.6267851073127395, 4.43846820423443, 4.483302354291979, 4.03732584763727, 3.7815340802378077, 2.6457513110645907, 2.5099800796022267, 2.932575659723036, 2.569046515733026, 2.4698178070456938, 2.9664793948382653, 3.0659419433511785, 3.4351128074635335, 3.361547262794322, 3.1144823004794873, 2.4083189157584592, 2.3021728866442674, 2.3021728866442674, 2.258317958127243, 2.1908902300206643, 2.5298221281347035, 2.6457513110645907, 2.0976176963403033, 2.3664319132398464, 2.701851217221259, 3.5637059362410923, 3.361547262794322, 2.2135943621178655, 1.9493588689617927, 1.8439088914585775, 2.04939015319192, 1.9235384061671346, 1.816590212458495, 1.8439088914585775, 1.760681686165901, 2.073644135332772, 2.4899799195977463, 2.280350850198276, 2.4083189157584592, 1.8708286933869707, 2.2135943621178655, 2.16794833886788, 2.2135943621178655, 2.23606797749979, 1.70293863659264, 1.61245154965971, 1.3416407864998738, 1.140175425099138, 1.224744871391589, 1.140175425099138, 1.4142135623730951, 2.073644135332772, 2.588435821108957, 2.1447610589527217, 1.8708286933869707, 1.449137674618944, 1.378404875209022, 1.6431676725154984, 1.9235384061671346, 1.70293863659264, 2.1213203435596424, 2.3021728866442674, 1.9235384061671346, 1.61245154965971, 1.5491933384829668, 1.5491933384829668, 1.4142135623730951, 1.224744871391589, 1.0954451150103321, 0.8944271909999159, 1.0, 1.140175425099138, 1.5491933384829668, 2.949576240750525, 3.24037034920393, 2.8106938645110393, 2.5495097567963922, 2.3874672772626644, 2.4899799195977463, 2.32379000772445, 2.2135943621178655, 2.23606797749979, 2.6267851073127395, 2.7386127875258306, 2.8635642126552705, 2.7748873851023217, 2.1213203435596424, 1.6431676725154984, 1.51657508881031, 1.449137674618944, 1.1832159566199232, 0.8944271909999159, 0.7745966692414834, 1.0, 1.140175425099138, 1.2649110640673518, 1.7320508075688772, 3.1622776601683795, 3.8858718455450894, 2.932575659723036, 2.6267851073127395, 2.756809750418044, 2.6267851073127395, 2.9154759474226504, 2.3021728866442674, 2.0976176963403033, 4.09878030638384, 3.605551275463989, 3.5496478698597698, 3.7682887362833544, 3.591656999213594, 3.1144823004794873, 2.4289915602982237, 2.345207879911715, 2.569046515733026, 2.701851217221259, 2.9664793948382653, 3.449637662132068, 3.4641016151377544, 3.449637662132068, 4.024922359499621, 4.1952353926806065, 4.1952353926806065, 4.183300132670378, 3.96232255123179, 4.08656334834051, 4.135214625627067, 4.795831523312719, 4.959838707054898, 5.176871642217914, 4.8166378315169185, 4.69041575982343, 4.516635916254486, 4.242640687119285, 4.301162633521313, 3.646916505762094, 3.361547262794322, 3.5355339059327378, 3.391164991562634, 3.3015148038438356, 3.271085446759225, 3.449637662132068, 3.6606010435446255, 3.605551275463989, 3.3466401061363023, 2.345207879911715, 2.2135943621178655, 2.5495097567963922, 2.898275349237888, 2.0976176963403033, 2.073644135332772, 3.40587727318528, 3.0, 2.792848008753788, 1.9235384061671346, 2.3021728866442674, 2.3664319132398464, 2.3021728866442674, 2.449489742783178, 2.0, 1.6733200530681511, 1.3416407864998738, 1.224744871391589, 1.70293863659264, 1.4832396974191326, 3.3763886032268267, 3.082207001484488, 3.40587727318528, 5.822370651203855, 2.756809750418044, 2.6457513110645907, 2.6267851073127395, 2.4083189157584592, 2.280350850198276, 2.5298221281347035, 3.449637662132068, 4.171330722922842, 3.8340579025361627, 3.1622776601683795, 2.569046515733026, 2.569046515733026, 1.760681686165901, 1.4832396974191326, 1.140175425099138, 1.0488088481701516, 0.7071067811865476, 0.7071067811865476, 1.140175425099138, 1.5811388300841898, 2.588435821108957, 2.8284271247461903, 2.3021728866442674, 1.816590212458495, 2.0976176963403033, 2.345207879911715, 2.1908902300206643, 1.8708286933869707, 2.2135943621178655, 2.569046515733026, 3.5071355833500366, 3.7549966711037173, 3.7682887362833544, 3.40587727318528, 2.8635642126552705, 3.03315017762062, 2.8809720581775866, 3.271085446759225, 2.8284271247461903, 2.4289915602982237, 2.1213203435596424, 1.9493588689617927, 2.258317958127243, 2.9664793948382653, 4.012480529547776, 3.6606010435446255, 3.0, 2.23606797749979, 2.073644135332772, 2.5099800796022267, 2.449489742783178, 2.3874672772626644, 2.3664319132398464, 2.6457513110645907, 3.082207001484488, 3.987480407475377, 4.969909455915671, 4.09878030638384, 3.271085446759225, 2.8809720581775866, 3.3166247903554, 2.7202941017470885, 2.8106938645110393, 1.8973665961010275, 1.3038404810405297, 1.0, 1.0488088481701516, 2.0, 3.1144823004794873, 3.255764119219941, 2.32379000772445, 1.9748417658131499, 2.0976176963403033, 2.23606797749979, 2.6076809620810595, 2.1908902300206643, 2.23606797749979, 2.280350850198276, 3.1622776601683795, 3.331666249791536, 3.591656999213594, 2.792848008753788, 2.5099800796022267, 1.6733200530681511, 1.816590212458495, 1.760681686165901, 1.449137674618944, 1.378404875209022, 0.8366600265340756, 0.8944271909999159, 1.140175425099138, 1.3416407864998738, 2.8106938645110393, 3.1304951684997055, 2.7202941017470885, 2.3021728866442674, 2.1908902300206643, 2.3664319132398464, 2.569046515733026, 2.588435821108957, 2.898275349237888, 3.2093613071762426, 3.5496478698597698, 4.0, 4.1952353926806065, 3.1780497164141406, 3.1304951684997055, 3.391164991562634, 2.8635642126552705, 2.6076809620810595, 2.073644135332772, 1.9748417658131499, 1.61245154965971, 1.5491933384829668, 1.51657508881031, 2.1213203435596424, 2.9154759474226504, 3.0, 2.3874672772626644, 2.6267851073127395, 2.5298221281347035, 1.8708286933869707, 1.9235384061671346, 1.70293863659264, 1.8439088914585775, 2.3021728866442674, 2.701851217221259, 3.1622776601683795, 3.5071355833500366, 3.4351128074635335, 3.22490309931942, 2.7748873851023217, 2.7386127875258306, 2.4698178070456938, 2.8809720581775866, 2.258317958127243, 2.2135943621178655, 1.378404875209022, 1.0, 1.0488088481701516, 1.224744871391589, 1.2649110640673518, 1.51657508881031, 1.5811388300841898, 1.5811388300841898, 1.6733200530681511, 1.5491933384829668, 1.816590212458495, 1.7888543819998317, 1.6733200530681511, 1.8439088914585775, 1.70293863659264, 2.1447610589527217, 1.9493588689617927, 1.760681686165901, 1.9235384061671346, 1.816590212458495, 1.449137674618944, 1.0954451150103321, 0.8366600265340756, 0.7071067811865476, 1.0, 1.449137674618944, 2.345207879911715, 3.3015148038438356, 3.646916505762094, 3.0983866769659336, 2.6457513110645907, 2.569046515733026, 3.0495901363953815, 2.8106938645110393, 2.6267851073127395, 2.932575659723036, 3.1622776601683795, 2.9664793948382653, 4.494441010848846, 4.43846820423443, 2.6645825188948455, 2.0976176963403033, 1.70293863659264, 1.449137674618944, 1.449137674618944, 1.0488088481701516, 0.7745966692414834, 0.7071067811865476, 1.0, 1.61245154965971, 2.588435821108957, 4.08656334834051, 4.898979485566356, 3.872983346207417, 2.6267851073127395, 3.0166206257996713, 3.1622776601683795, 3.591656999213594, 3.0, 3.3015148038438356, 2.8106938645110393, 3.1937438845342623, 3.63318042491699, 2.8460498941515415, 2.9154759474226504, 1.8973665961010275, 1.61245154965971, 2.073644135332772, 1.7888543819998317, 1.3416407864998738, 1.1832159566199232, 1.0954451150103321, 0.8366600265340756, 1.0, 1.4832396974191326, 2.7748873851023217, 2.4899799195977463, 1.9493588689617927, 1.8973665961010275, 1.9235384061671346, 2.8809720581775866, 3.1780497164141406, 3.146426544510455, 3.03315017762062, 3.2093613071762426, 3.3763886032268267, 3.420526275297414, 3.5496478698597698, 3.3763886032268267, 3.0983866769659336, 2.1447610589527217, 2.16794833886788, 1.61245154965971, 1.70293863659264, 1.224744871391589, 1.140175425099138, 1.0954451150103321, 1.7320508075688772, 2.345207879911715, 3.591656999213594, 3.8078865529319543, 3.0, 2.5495097567963922, 2.32379000772445, 2.7202941017470885, 2.7748873851023217, 3.271085446759225, 3.646916505762094, 3.63318042491699, 4.183300132670378, 4.207136793592526, 4.183300132670378, 3.7549966711037173, 2.898275349237888, 2.8106938645110393, 2.8460498941515415, 2.6645825188948455, 2.280350850198276, 1.8439088914585775, 1.8439088914585775, 1.449137674618944, 2.0248456731316584, 2.4698178070456938, 4.324349662087931, 5.282045058497703, 4.219004621945797, 3.4351128074635335, 2.569046515733026, 2.898275349237888, 2.756809750418044, 2.588435821108957, 2.8106938645110393, 2.898275349237888, 3.478505426185217, 3.5496478698597698, 3.687817782917155, 2.8460498941515415, 3.3466401061363023, 3.1780497164141406, 2.9664793948382653, 2.6076809620810595, 2.5298221281347035, 2.588435821108957, 2.280350850198276, 1.8973665961010275, 1.6431676725154984, 1.378404875209022, 1.9748417658131499, 2.0248456731316584, 1.9235384061671346, 1.8973665961010275, 2.0248456731316584, 2.1213203435596424, 2.1213203435596424, 1.70293863659264, 1.760681686165901, 1.9748417658131499, 2.04939015319192, 2.280350850198276, 3.1937438845342623, 2.8460498941515415, 2.9154759474226504, 3.271085446759225, 3.391164991562634, 3.082207001484488, 2.3021728866442674, 2.4083189157584592, 2.1447610589527217, 1.6431676725154984, 1.760681686165901, 1.7888543819998317, 1.8973665961010275, 1.9235384061671346, 2.5298221281347035, 2.280350850198276, 1.9748417658131499, 2.0248456731316584, 1.5811388300841898, 1.4832396974191326, 1.51657508881031, 1.5491933384829668, 1.70293863659264, 2.2135943621178655, 2.6076809620810595, 1.760681686165901, 1.449137674618944, 1.9748417658131499, 1.9493588689617927, 1.3416407864998738, 1.0, 0.7745966692414834, 0.6324555320336759, 0.5477225575051661, 0.4472135954999579, 0.8366600265340756, 1.61245154965971, 1.760681686165901, 1.51657508881031, 1.4142135623730951, 1.4142135623730951, 1.760681686165901, 1.70293863659264, 1.449137674618944, 1.5811388300841898, 1.6733200530681511, 2.588435821108957, 2.8460498941515415, 2.7202941017470885, 1.8973665961010275, 1.378404875209022, 1.1832159566199232, 1.0954451150103321, 0.9486832980505138, 0.7745966692414834, 0.4472135954999579, 0.4472135954999579, 0.5477225575051661, 0.5477225575051661, 1.0, 2.280350850198276, 2.4698178070456938, 1.8973665961010275, 1.51657508881031, 1.378404875209022, 1.61245154965971, 1.760681686165901, 1.6431676725154984, 1.7320508075688772, 1.7320508075688772, 2.23606797749979, 2.7386127875258306, 3.082207001484488, 2.3021728866442674, 1.5491933384829668, 1.5811388300841898, 1.4832396974191326, 1.224744871391589, 1.140175425099138, 0.9486832980505138, 0.8366600265340756, 0.9486832980505138, 1.1832159566199232, 1.8708286933869707, 3.3166247903554, 3.521363372331802, 2.8809720581775866, 2.9832867780352594, 2.3874672772626644, 2.345207879911715, 3.0, 2.5099800796022267, 3.0166206257996713, 2.898275349237888, 4.183300132670378, 4.8270073544588685, 4.358898943540674, 3.331666249791536, 2.4899799195977463, 2.23606797749979, 2.3021728866442674, 2.04939015319192, 1.8708286933869707, 1.7320508075688772, 2.0248456731316584, 2.0, 2.258317958127243, 2.588435821108957, 3.9496835316262997, 4.135214625627067, 2.9664793948382653, 2.6267851073127395, 2.32379000772445, 2.2135943621178655, 2.3021728866442674, 2.32379000772445, 2.345207879911715, 2.7386127875258306, 4.08656334834051, 4.266145801540309, 3.9370039370059056, 3.3015148038438356, 2.949576240750525, 2.701851217221259, 2.7386127875258306, 2.6076809620810595, 2.16794833886788, 1.5811388300841898, 1.140175425099138, 1.4832396974191326, 1.8973665961010275, 2.7386127875258306, 4.09878030638384, 5.291502622129181, 3.9749213828703582, 3.9370039370059056, 3.8600518131237567, 4.049691346263317, 3.9496835316262997, 4.012480529547776, 4.0743097574926725, 3.987480407475377, 3.646916505762094, 3.8600518131237567, 4.301162633521313, 2.8106938645110393, 2.23606797749979, 2.5495097567963922, 2.449489742783178, 2.6076809620810595, 2.0, 2.0976176963403033, 2.0, 1.8708286933869707, 2.073644135332772, 1.4142135623730951, 2.4698178070456938, 2.949576240750525, 1.760681686165901, 2.280350850198276, 2.3021728866442674, 2.588435821108957, 2.8809720581775866, 2.4289915602982237, 2.701851217221259, 2.898275349237888, 2.7748873851023217, 3.0166206257996713, 3.3015148038438356, 3.1937438845342623, 2.792848008753788, 2.6457513110645907, 3.03315017762062, 2.1447610589527217, 1.449137674618944, 1.224744871391589, 1.140175425099138, 0.8944271909999159, 0.7745966692414834, 1.0488088481701516, 1.0, 1.224744871391589, 1.1832159566199232, 1.4142135623730951, 1.51657508881031, 1.61245154965971, 2.588435821108957, 3.646916505762094, 2.0, 2.3021728866442674, 2.932575659723036, 2.4899799195977463, 2.3021728866442674, 2.0248456731316584, 1.8708286933869707, 2.0248456731316584, 1.7888543819998317, 1.7888543819998317, 1.3038404810405297, 0.8366600265340756, 0.7071067811865476, 0.7745966692414834, 0.8944271909999159, 1.3038404810405297, 2.280350850198276, 2.569046515733026, 2.345207879911715, 2.0976176963403033, 2.0976176963403033, 2.073644135332772, 2.1213203435596424, 2.1213203435596424, 2.1908902300206643, 2.5099800796022267, 3.0983866769659336, 3.872983346207417, 3.924283374069717, 2.9832867780352594, 2.23606797749979, 2.5495097567963922, 2.0976176963403033, 2.3021728866442674, 1.760681686165901, 1.378404875209022, 1.3038404810405297, 1.378404875209022, 1.6733200530681511, 2.345207879911715, 4.277849927241488, 5.128352561983234, 4.03732584763727, 3.5071355833500366, 2.7202941017470885, 2.8460498941515415, 3.286335345030997, 3.1144823004794873, 3.146426544510455, 3.0983866769659336, 4.06201920231798, 4.8373546489791295, 4.919349550499537, 3.646916505762094, 2.898275349237888, 2.32379000772445, 2.280350850198276, 2.1447610589527217, 1.7888543819998317, 1.4832396974191326, 1.5811388300841898, 1.6733200530681511, 1.9748417658131499, 2.6832815729997477, 4.571651780264984, 5.196152422706632, 4.301162633521313, 3.7416573867739413, 3.24037034920393, 3.3466401061363023, 3.2093613071762426, 2.932575659723036, 2.756809750418044, 3.1937438845342623, 4.219004621945797, 5.029910535983717, 4.9396356140913875, 4.47213595499958, 2.701851217221259, 2.569046515733026, 2.3874672772626644, 2.1213203435596424, 2.0248456731316584, 2.0976176963403033, 1.816590212458495, 1.816590212458495, 1.8708286933869707, 2.5298221281347035, 4.483302354291979, 4.604345773288535, 3.7013511046643495, 3.420526275297414, 3.255764119219941, 3.1304951684997055, 3.0166206257996713, 3.03315017762062, 2.4289915602982237, 2.932575659723036, 3.5637059362410923, 4.449719092257398, 4.878524367060187, 3.82099463490856, 2.756809750418044, 2.2135943621178655, 2.280350850198276, 2.1908902300206643, 1.7888543819998317, 1.5491933384829668, 1.7888543819998317, 1.449137674618944, 1.6431676725154984, 2.1213203435596424, 3.714835124201342, 4.764451699828638, 4.39317652729776, 3.0495901363953815, 3.478505426185217, 3.7682887362833544, 3.5071355833500366, 3.1937438845342623, 3.22490309931942, 3.7282703764614498, 4.806245936279167, 4.774934554525329, 3.6606010435446255, 2.6076809620810595, 2.449489742783178, 2.3874672772626644, 1.9748417658131499, 2.2135943621178655, 2.1213203435596424, 1.51657508881031, 1.224744871391589, 1.224744871391589, 1.3416407864998738, 1.816590212458495, 2.4083189157584592, 2.4899799195977463, 2.588435821108957, 2.3664319132398464, 2.4083189157584592, 2.6457513110645907, 1.9493588689617927, 2.345207879911715, 2.756809750418044, 2.8809720581775866, 2.7386127875258306, 3.7549966711037173, 3.521363372331802, 2.4083189157584592, 1.9748417658131499, 1.6733200530681511, 1.760681686165901, 1.816590212458495, 1.4142135623730951, 1.5811388300841898, 1.4142135623730951, 0.9486832980505138, 1.2649110640673518, 1.449137674618944, 1.7320508075688772, 2.23606797749979, 2.7748873851023217, 3.1780497164141406, 2.9154759474226504, 1.6733200530681511, 1.816590212458495, 2.23606797749979, 2.3664319132398464, 2.6645825188948455, 4.08656334834051, 3.5355339059327378, 2.569046515733026, 2.8809720581775866, 2.6645825188948455, 1.9493588689617927, 2.280350850198276, 2.3021728866442674, 1.9493588689617927, 1.6733200530681511, 1.70293863659264, 2.0976176963403033, 2.7386127875258306, 3.96232255123179, 4.78539444560216, 3.286335345030997, 2.4698178070456938, 2.6457513110645907, 2.6645825188948455, 2.8460498941515415, 2.7748873851023217, 3.286335345030997, 3.794733192202055, 5.039841267341661, 5.394441583704471, 5.319774431308154, 3.7682887362833544, 2.898275349237888, 2.7386127875258306, 2.280350850198276, 1.4832396974191326, 1.4142135623730951, 1.3416407864998738, 1.0488088481701516, 1.0954451150103321, 1.5491933384829668, 1.9493588689617927, 3.7416573867739413, 4.347413023856832, 3.9496835316262997, 3.63318042491699, 3.2093613071762426, 3.1144823004794873, 3.1622776601683795, 3.3015148038438356, 3.5071355833500366, 3.7682887362833544, 4.6475800154489, 5.558776843874918, 5.787918451395113, 4.460941604639093, 2.898275349237888, 2.4698178070456938, 2.3874672772626644, 2.0, 1.70293863659264, 1.4142135623730951, 1.3038404810405297, 1.2649110640673518, 1.816590212458495, 1.8973665961010275, 3.1937438845342623, 5.019960159204453, 4.0, 3.646916505762094, 3.449637662132068, 3.3015148038438356, 3.3166247903554, 4.159326868617084, 3.521363372331802, 4.171330722922842, 4.183300132670378, 5.118593556827891, 4.806245936279167, 4.847679857416329, 3.646916505762094, 3.24037034920393, 2.5099800796022267, 2.0976176963403033, 1.816590212458495, 1.4142135623730951, 1.378404875209022, 1.1832159566199232, 1.51657508881031, 2.4289915602982237, 4.347413023856832, 5.10881590977792, 4.024922359499621, 3.286335345030997, 3.331666249791536, 3.1937438845342623, 3.449637662132068, 3.4351128074635335, 3.3015148038438356, 2.932575659723036, 3.872983346207417, 4.61519230368573, 4.979959839195493, 4.2895221179054435, 3.0166206257996713, 2.8460498941515415, 2.4289915602982237, 2.258317958127243, 2.1213203435596424, 1.7888543819998317, 1.6733200530681511, 1.4142135623730951, 1.816590212458495, 2.32379000772445, 3.8078865529319543, 5.1478150704935, 4.1952353926806065, 3.8600518131237567, 3.2093613071762426, 3.4641016151377544, 3.22490309931942, 3.591656999213594, 3.8858718455450894, 3.9749213828703582, 4.483302354291979, 5.059644256269407, 4.898979485566356, 4.277849927241488, 2.6832815729997477, 2.6076809620810595, 2.6076809620810595, 2.5298221281347035, 1.6431676725154984, 1.70293863659264, 1.4832396974191326, 1.5811388300841898, 1.378404875209022, 1.8973665961010275, 3.1780497164141406, 3.3015148038438356, 3.146426544510455, 3.1144823004794873, 2.9832867780352594, 2.9154759474226504, 2.569046515733026, 2.32379000772445, 2.949576240750525, 2.4083189157584592, 2.756809750418044, 3.521363372331802, 3.8340579025361627, 3.24037034920393, 2.701851217221259, 2.9154759474226504, 2.6076809620810595, 2.4289915602982237, 2.073644135332772, 1.8708286933869707, 1.6733200530681511, 1.5491933384829668, 1.2649110640673518, 1.6431676725154984, 1.5811388300841898, 1.9748417658131499, 2.4899799195977463, 2.9664793948382653, 2.073644135332772, 1.8439088914585775, 1.4832396974191326, 1.8973665961010275, 2.0248456731316584, 2.3874672772626644, 2.569046515733026, 3.5637059362410923, 3.847076812334269, 3.5071355833500366, 2.5099800796022267, 2.3021728866442674, 2.3021728866442674, 2.16794833886788, 1.816590212458495, 1.6431676725154984, 1.4142135623730951, 1.2649110640673518, 1.7320508075688772, 2.4698178070456938, 4.159326868617084, 5.5677643628300215, 3.924283374069717, 3.3015148038438356, 2.898275349237888, 2.6645825188948455, 3.1622776601683795, 2.8635642126552705, 3.03315017762062, 3.521363372331802, 4.8270073544588685, 5.449770637375485, 5.06951674225463, 3.7815340802378077, 2.8635642126552705, 2.2135943621178655, 2.4289915602982237, 2.3874672772626644, 1.70293863659264, 1.3416407864998738, 1.0954451150103321, 1.2649110640673518, 1.5811388300841898, 1.9493588689617927, 3.6742346141747673, 5.272570530585627, 4.33589667773576, 3.96232255123179, 3.9496835316262997, 3.5071355833500366, 3.521363372331802, 3.0166206257996713, 2.932575659723036, 2.898275349237888, 4.571651780264984, 4.679743582719036, 4.516635916254486, 3.3166247903554, 2.6076809620810595, 2.5099800796022267, 2.4899799195977463, 1.8708286933869707, 1.816590212458495, 1.5811388300841898, 1.51657508881031, 1.3416407864998738, 1.8973665961010275, 2.4698178070456938, 4.722287581247038, 5.196152422706632, 4.415880433163924, 3.9749213828703582, 3.2093613071762426, 3.3166247903554, 3.449637662132068, 3.420526275297414, 3.4641016151377544, 3.5071355833500366, 4.8166378315169185, 5.709640969448079, 5.656854249492381, 4.33589667773576, 3.478505426185217, 3.605551275463989, 3.146426544510455, 2.8460498941515415, 1.9493588689617927, 1.760681686165901, 1.4142135623730951, 1.4832396974191326, 1.51657508881031, 2.2135943621178655, 4.449719092257398, 3.872983346207417, 4.254409477236529, 3.9115214431215892, 4.219004621945797, 4.159326868617084, 3.7549966711037173, 3.2093613071762426, 3.3166247903554, 3.2093613071762426, 3.82099463490856, 5.549774770204643, 5.958187643906492, 4.919349550499537, 4.219004621945797, 3.449637662132068, 3.0495901363953815, 2.5099800796022267, 2.0, 2.0248456731316584, 2.0248456731316584, 1.816590212458495, 1.5811388300841898, 2.32379000772445, 4.171330722922842, 4.78539444560216, 3.331666249791536, 3.082207001484488, 3.687817782917155, 4.123105625617661, 3.9749213828703582, 3.7815340802378077, 4.183300132670378, 4.219004621945797, 4.929503017546495, 5.215361924162119, 4.868264577855234, 4.08656334834051, 3.7416573867739413, 3.1780497164141406, 3.478505426185217, 3.24037034920393, 2.6832815729997477, 2.5298221281347035, 2.449489742783178, 2.3021728866442674, 2.2135943621178655, 2.3874672772626644, 3.0, 3.3015148038438356, 3.255764119219941, 3.0495901363953815, 2.8809720581775866, 2.569046515733026, 2.258317958127243, 2.8106938645110393, 2.7748873851023217, 3.271085446759225, 3.24037034920393, 3.3015148038438356, 2.898275349237888, 3.1622776601683795, 3.2093613071762426, 2.6832815729997477, 2.5298221281347035, 2.073644135332772, 1.816590212458495, 1.9748417658131499, 1.8439088914585775, 1.51657508881031, 1.51657508881031, 2.04939015319192, 1.8973665961010275, 2.0976176963403033, 2.1447610589527217, 2.1213203435596424, 2.23606797749979, 1.9493588689617927, 1.5811388300841898, 1.6431676725154984, 1.8708286933869707, 2.2135943621178655, 2.0976176963403033, 2.3874672772626644, 2.5099800796022267, 2.449489742783178, 2.449489742783178, 2.3664319132398464, 2.073644135332772, 1.7320508075688772, 1.6733200530681511, 1.6431676725154984, 1.4142135623730951, 1.378404875209022, 1.378404875209022, 1.760681686165901, 1.8439088914585775, 2.2135943621178655, 2.280350850198276, 2.345207879911715, 2.04939015319192, 1.816590212458495, 2.1908902300206643, 2.04939015319192, 1.9235384061671346, 2.4899799195977463, 3.1144823004794873, 3.521363372331802, 3.0659419433511785, 2.6645825188948455, 2.4698178070456938, 2.449489742783178, 2.23606797749979, 1.70293863659264, 1.4832396974191326, 1.0, 1.140175425099138, 1.378404875209022, 2.16794833886788, 4.0, 5.128352561983234, 4.33589667773576, 3.794733192202055, 3.1622776601683795, 3.478505426185217, 3.420526275297414, 3.4641016151377544, 3.5071355833500366, 3.5071355833500366, 4.08656334834051, 3.9115214431215892, 3.6606010435446255, 3.6742346141747673, 3.0, 2.1908902300206643, 2.23606797749979, 2.2135943621178655, 1.8439088914585775, 1.5491933384829668, 1.0488088481701516, 1.1832159566199232, 1.449137674618944, 1.9493588689617927, 3.5496478698597698, 3.8340579025361627, 3.9370039370059056, 3.478505426185217, 2.8106938645110393, 3.0983866769659336, 2.8809720581775866, 3.03315017762062, 2.898275349237888, 3.03315017762062, 4.012480529547776, 4.135214625627067, 4.460941604639093, 3.8600518131237567, 2.9664793948382653, 2.4083189157584592, 2.569046515733026, 2.1908902300206643, 2.0248456731316584, 1.5811388300841898, 1.3038404810405297, 1.2649110640673518, 1.61245154965971, 2.4698178070456938, 4.857983120596447, 3.3015148038438356, 2.6076809620810595, 2.2135943621178655, 2.04939015319192, 2.073644135332772, 2.0, 1.760681686165901, 1.9235384061671346, 1.9493588689617927, 2.5495097567963922, 2.6832815729997477, 2.8809720581775866, 2.0976176963403033, 1.51657508881031, 1.3416407864998738, 1.449137674618944, 1.224744871391589, 1.0, 1.0488088481701516, 0.9486832980505138, 0.8944271909999159, 1.1832159566199232, 1.4142135623730951, 2.588435821108957, 2.5099800796022267, 2.073644135332772, 1.8708286933869707, 1.8973665961010275, 2.0, 2.1213203435596424, 1.816590212458495, 1.8973665961010275, 2.073644135332772, 2.258317958127243, 2.345207879911715, 2.7202941017470885, 1.9235384061671346, 1.378404875209022, 1.449137674618944, 1.8439088914585775, 2.4083189157584592, 1.378404875209022, 1.224744871391589, 1.1832159566199232, 0.9486832980505138, 1.1832159566199232, 1.4142135623730951, 1.760681686165901, 1.5811388300841898, 1.6431676725154984, 1.6431676725154984, 1.6431676725154984, 1.5491933384829668, 1.5491933384829668, 1.51657508881031, 1.5811388300841898, 1.70293863659264, 1.8708286933869707, 2.0, 1.8708286933869707, 1.70293863659264, 1.3416407864998738, 1.3416407864998738, 1.449137674618944, 1.5811388300841898, 1.6733200530681511, 1.6431676725154984, 1.6733200530681511, 1.4142135623730951, 1.0, 1.140175425099138, 1.3038404810405297, 1.5491933384829668, 2.0248456731316584, 1.8439088914585775, 2.3021728866442674, 2.3021728866442674, 1.9493588689617927, 2.04939015319192, 2.32379000772445, 2.5099800796022267, 2.4698178070456938, 2.1447610589527217, 3.331666249791536, 2.8106938645110393, 2.449489742783178, 2.4083189157584592, 2.258317958127243, 1.8708286933869707, 1.378404875209022, 1.224744871391589, 1.0488088481701516, 0.8944271909999159, 1.140175425099138, 2.0976176963403033, 4.171330722922842, 4.732863826479693, 3.687817782917155, 3.6742346141747673, 3.3763886032268267, 3.521363372331802, 3.082207001484488, 3.449637662132068]\n"
          ]
        }
      ]
    },
    {
      "cell_type": "markdown",
      "source": [
        "R2 score for the train data:"
      ],
      "metadata": {
        "id": "4_DKyAzmOmkd"
      }
    },
    {
      "cell_type": "code",
      "source": [
        "print(f'\\nR2 Train Score: {linreg.score(train_X_tr, train_y_tr)}')"
      ],
      "metadata": {
        "colab": {
          "base_uri": "https://localhost:8080/"
        },
        "id": "b5O3OabP5Amh",
        "outputId": "00ed8a54-476c-4813-f1fe-cd746a28e618"
      },
      "execution_count": null,
      "outputs": [
        {
          "output_type": "stream",
          "name": "stdout",
          "text": [
            "\n",
            "R2 Train Score: 0.9462236160093705\n"
          ]
        }
      ]
    },
    {
      "cell_type": "markdown",
      "source": [
        "Performing cross-validation: dataframe automatically divided to 5 parts, each part consequentially act as the test set, while the rest 4 become the training set.\n",
        "Model calculates RMSE metric for 5 consequent tests in comparison with the RMSE metric received from the actual test set."
      ],
      "metadata": {
        "id": "VZP4M4giOxBm"
      }
    },
    {
      "cell_type": "code",
      "source": [
        "#cross validation\n",
        "def rmse(y_gt, Y_pr):\n",
        "    return np.sqrt(mean_squared_error(y_gt, Y_pr))\n",
        "\n",
        "print('RMSE Test: ')\n",
        "print(rmse(test_y_tr, linreg.predict(test_X_tr)))\n",
        "print('-'*30)\n",
        "\n",
        "rmse_scorer = metrics.make_scorer(rmse)\n",
        "print('RMSE cross-validation scores:')\n",
        "CV_score = cross_val_score(linreg, train_X_tr, train_y_tr, cv=5, scoring=rmse_scorer, )\n",
        "print(CV_score)\n",
        "print('-'*30)\n",
        "\n",
        "print('RMSE average cross-validation scores:')\n",
        "print(np.sum(CV_score)/5)\n",
        "print('-'*30)"
      ],
      "metadata": {
        "colab": {
          "base_uri": "https://localhost:8080/"
        },
        "id": "8GucNtgI5fUS",
        "outputId": "836b7dd0-f2f2-47cc-932c-95a4a2d8060f"
      },
      "execution_count": null,
      "outputs": [
        {
          "output_type": "stream",
          "name": "stdout",
          "text": [
            "RMSE Test: \n",
            "0.24465395287499053\n",
            "------------------------------\n",
            "RMSE cross-validation scores:\n",
            "[0.40702854 0.24110985 0.24913873 0.2687908  0.31492516]\n",
            "------------------------------\n",
            "RMSE average cross-validation scores:\n",
            "0.29619861883169535\n",
            "------------------------------\n"
          ]
        }
      ]
    },
    {
      "cell_type": "markdown",
      "source": [
        "Calculating metrics of LR model for the test dataset:"
      ],
      "metadata": {
        "id": "KPwATR66Q3Li"
      }
    },
    {
      "cell_type": "code",
      "source": [
        "#metrics\n",
        "predictions = linreg.predict(test_X_tr)\n",
        "\n",
        "mae = metrics.mean_absolute_error(test_y_tr, predictions)\n",
        "mse = metrics.mean_squared_error(test_y_tr, predictions)\n",
        "r2 = metrics.r2_score(test_y_tr, predictions)\n",
        "rmse = np.sqrt(metrics.mean_squared_error(test_y_tr, predictions))\n",
        "\n",
        "pd.DataFrame.from_dict({'MAE':mae, 'MSE':mse, 'R2':r2, 'RMSE':rmse}, orient='index', columns=['Score'])"
      ],
      "metadata": {
        "colab": {
          "base_uri": "https://localhost:8080/",
          "height": 175
        },
        "id": "Enxb4Hoc6w03",
        "outputId": "4c2f5e72-d955-4e5d-bd3f-7ba942bacd94"
      },
      "execution_count": null,
      "outputs": [
        {
          "output_type": "execute_result",
          "data": {
            "text/plain": [
              "         Score\n",
              "MAE   0.195130\n",
              "MSE   0.059856\n",
              "R2    0.950056\n",
              "RMSE  0.244654"
            ],
            "text/html": [
              "\n",
              "  <div id=\"df-39dbf504-9207-49bc-9363-a276db3e23b7\">\n",
              "    <div class=\"colab-df-container\">\n",
              "      <div>\n",
              "<style scoped>\n",
              "    .dataframe tbody tr th:only-of-type {\n",
              "        vertical-align: middle;\n",
              "    }\n",
              "\n",
              "    .dataframe tbody tr th {\n",
              "        vertical-align: top;\n",
              "    }\n",
              "\n",
              "    .dataframe thead th {\n",
              "        text-align: right;\n",
              "    }\n",
              "</style>\n",
              "<table border=\"1\" class=\"dataframe\">\n",
              "  <thead>\n",
              "    <tr style=\"text-align: right;\">\n",
              "      <th></th>\n",
              "      <th>Score</th>\n",
              "    </tr>\n",
              "  </thead>\n",
              "  <tbody>\n",
              "    <tr>\n",
              "      <th>MAE</th>\n",
              "      <td>0.195130</td>\n",
              "    </tr>\n",
              "    <tr>\n",
              "      <th>MSE</th>\n",
              "      <td>0.059856</td>\n",
              "    </tr>\n",
              "    <tr>\n",
              "      <th>R2</th>\n",
              "      <td>0.950056</td>\n",
              "    </tr>\n",
              "    <tr>\n",
              "      <th>RMSE</th>\n",
              "      <td>0.244654</td>\n",
              "    </tr>\n",
              "  </tbody>\n",
              "</table>\n",
              "</div>\n",
              "      <button class=\"colab-df-convert\" onclick=\"convertToInteractive('df-39dbf504-9207-49bc-9363-a276db3e23b7')\"\n",
              "              title=\"Convert this dataframe to an interactive table.\"\n",
              "              style=\"display:none;\">\n",
              "        \n",
              "  <svg xmlns=\"http://www.w3.org/2000/svg\" height=\"24px\"viewBox=\"0 0 24 24\"\n",
              "       width=\"24px\">\n",
              "    <path d=\"M0 0h24v24H0V0z\" fill=\"none\"/>\n",
              "    <path d=\"M18.56 5.44l.94 2.06.94-2.06 2.06-.94-2.06-.94-.94-2.06-.94 2.06-2.06.94zm-11 1L8.5 8.5l.94-2.06 2.06-.94-2.06-.94L8.5 2.5l-.94 2.06-2.06.94zm10 10l.94 2.06.94-2.06 2.06-.94-2.06-.94-.94-2.06-.94 2.06-2.06.94z\"/><path d=\"M17.41 7.96l-1.37-1.37c-.4-.4-.92-.59-1.43-.59-.52 0-1.04.2-1.43.59L10.3 9.45l-7.72 7.72c-.78.78-.78 2.05 0 2.83L4 21.41c.39.39.9.59 1.41.59.51 0 1.02-.2 1.41-.59l7.78-7.78 2.81-2.81c.8-.78.8-2.07 0-2.86zM5.41 20L4 18.59l7.72-7.72 1.47 1.35L5.41 20z\"/>\n",
              "  </svg>\n",
              "      </button>\n",
              "      \n",
              "  <style>\n",
              "    .colab-df-container {\n",
              "      display:flex;\n",
              "      flex-wrap:wrap;\n",
              "      gap: 12px;\n",
              "    }\n",
              "\n",
              "    .colab-df-convert {\n",
              "      background-color: #E8F0FE;\n",
              "      border: none;\n",
              "      border-radius: 50%;\n",
              "      cursor: pointer;\n",
              "      display: none;\n",
              "      fill: #1967D2;\n",
              "      height: 32px;\n",
              "      padding: 0 0 0 0;\n",
              "      width: 32px;\n",
              "    }\n",
              "\n",
              "    .colab-df-convert:hover {\n",
              "      background-color: #E2EBFA;\n",
              "      box-shadow: 0px 1px 2px rgba(60, 64, 67, 0.3), 0px 1px 3px 1px rgba(60, 64, 67, 0.15);\n",
              "      fill: #174EA6;\n",
              "    }\n",
              "\n",
              "    [theme=dark] .colab-df-convert {\n",
              "      background-color: #3B4455;\n",
              "      fill: #D2E3FC;\n",
              "    }\n",
              "\n",
              "    [theme=dark] .colab-df-convert:hover {\n",
              "      background-color: #434B5C;\n",
              "      box-shadow: 0px 1px 3px 1px rgba(0, 0, 0, 0.15);\n",
              "      filter: drop-shadow(0px 1px 2px rgba(0, 0, 0, 0.3));\n",
              "      fill: #FFFFFF;\n",
              "    }\n",
              "  </style>\n",
              "\n",
              "      <script>\n",
              "        const buttonEl =\n",
              "          document.querySelector('#df-39dbf504-9207-49bc-9363-a276db3e23b7 button.colab-df-convert');\n",
              "        buttonEl.style.display =\n",
              "          google.colab.kernel.accessAllowed ? 'block' : 'none';\n",
              "\n",
              "        async function convertToInteractive(key) {\n",
              "          const element = document.querySelector('#df-39dbf504-9207-49bc-9363-a276db3e23b7');\n",
              "          const dataTable =\n",
              "            await google.colab.kernel.invokeFunction('convertToInteractive',\n",
              "                                                     [key], {});\n",
              "          if (!dataTable) return;\n",
              "\n",
              "          const docLinkHtml = 'Like what you see? Visit the ' +\n",
              "            '<a target=\"_blank\" href=https://colab.research.google.com/notebooks/data_table.ipynb>data table notebook</a>'\n",
              "            + ' to learn more about interactive tables.';\n",
              "          element.innerHTML = '';\n",
              "          dataTable['output_type'] = 'display_data';\n",
              "          await google.colab.output.renderOutput(dataTable, element);\n",
              "          const docLink = document.createElement('div');\n",
              "          docLink.innerHTML = docLinkHtml;\n",
              "          element.appendChild(docLink);\n",
              "        }\n",
              "      </script>\n",
              "    </div>\n",
              "  </div>\n",
              "  "
            ]
          },
          "metadata": {},
          "execution_count": 161
        }
      ]
    },
    {
      "cell_type": "markdown",
      "source": [
        "It seems that the model is good.\n",
        "As R2 is rather high (0.95) that means the model represents the variance of the target variable.\n",
        "Another metrics (MAE, MSE, RMSE) which represent different measures of model's errors are quite small which I consider as a good sign also."
      ],
      "metadata": {
        "id": "GgLifjqNRriK"
      }
    },
    {
      "cell_type": "markdown",
      "source": [
        "# Residual analisys"
      ],
      "metadata": {
        "id": "rtZiWdWLtWlz"
      }
    },
    {
      "cell_type": "markdown",
      "source": [
        "Plotting the residuals distribution in respect to index and true values:"
      ],
      "metadata": {
        "id": "9BA4E3eVTbVj"
      }
    },
    {
      "cell_type": "code",
      "source": [
        "#errors visualization\n",
        "#can be helpful to better understand behavior of model\n",
        "\n",
        "pred = linreg.predict(test_X_tr)\n",
        "errors = test_y_tr - pred\n",
        "\n",
        "plt.scatter(list(range(len(errors))),errors);\n",
        "plt.title(\"Distibution of errors\")\n",
        "plt.ylabel('Error');\n",
        "plt.xlabel('Index');\n",
        "plt.show();\n",
        "\n",
        "plt.scatter(pred,errors);\n",
        "plt.title('Relationship of true value vs error (resudual analysis)')\n",
        "plt.ylabel('Error');\n",
        "plt.xlabel('True value');\n",
        "plt.show();"
      ],
      "metadata": {
        "colab": {
          "base_uri": "https://localhost:8080/",
          "height": 573
        },
        "id": "X6PmRZeI6zSE",
        "outputId": "3e953c32-869a-4c49-b207-8b0930226dbd"
      },
      "execution_count": null,
      "outputs": [
        {
          "output_type": "display_data",
          "data": {
            "text/plain": [
              "<Figure size 432x288 with 1 Axes>"
            ],
            "image/png": "[encoded data removed]"
          },
          "metadata": {
            "needs_background": "light"
          }
        },
        {
          "output_type": "display_data",
          "data": {
            "text/plain": [
              "<Figure size 432x288 with 1 Axes>"
            ],
            "image/png": "[encoded data removed]"
          },
          "metadata": {
            "needs_background": "light"
          }
        }
      ]
    },
    {
      "cell_type": "code",
      "source": [
        "errors.mean()"
      ],
      "metadata": {
        "colab": {
          "base_uri": "https://localhost:8080/"
        },
        "id": "1vGiVoGNWyo1",
        "outputId": "e2997650-4073-44ec-a96e-8c94bb61dd57"
      },
      "execution_count": null,
      "outputs": [
        {
          "output_type": "execute_result",
          "data": {
            "text/plain": [
              "-0.013655381944129024"
            ]
          },
          "metadata": {},
          "execution_count": 163
        }
      ]
    },
    {
      "cell_type": "markdown",
      "source": [
        "As we can see on the plots residuals distributed rather randomly around the zero. There is no any obvious patterns  on the residuals plot that means there are not dependencies in our dataset which are not taken into account by our model."
      ],
      "metadata": {
        "id": "EHm6nHU3UN31"
      }
    },
    {
      "cell_type": "markdown",
      "source": [
        "Nevertheless, residuals are not distributed normally (see the test below). But taking into account the good model metrics we got it seems not so unacceptable."
      ],
      "metadata": {
        "id": "DtkEyp8LWSFi"
      }
    },
    {
      "cell_type": "code",
      "source": [
        "def normality_test(arr):\n",
        "  alpha = 0.05\n",
        "  stat, p = st.normaltest(errors)\n",
        "  print(f\"Alpha = {alpha}, p-value = {p}\")\n",
        "  if p < alpha:\n",
        "    print(\"Null hypothesis could be rejected. The distribution isn't normal.\")\n",
        "  else:\n",
        "    print(\"Null hypothesis couldn't be rejected. The distribution is normal.\")"
      ],
      "metadata": {
        "id": "KOUGqR_WHQVc"
      },
      "execution_count": null,
      "outputs": []
    },
    {
      "cell_type": "code",
      "source": [
        "normality_test(errors)"
      ],
      "metadata": {
        "colab": {
          "base_uri": "https://localhost:8080/"
        },
        "id": "QhMzNdFcJvkY",
        "outputId": "3349e898-950f-473e-ffd1-e8c886432379"
      },
      "execution_count": null,
      "outputs": [
        {
          "output_type": "stream",
          "name": "stdout",
          "text": [
            "Alpha = 0.05, p-value = 1.3742892102800301e-27\n",
            "Null hypothesis could be rejected. The distribution isn't normal.\n"
          ]
        }
      ]
    },
    {
      "cell_type": "markdown",
      "source": [
        "# Regularization"
      ],
      "metadata": {
        "id": "YVKeH0VRpI1G"
      }
    },
    {
      "cell_type": "markdown",
      "source": [
        "Trying regularization - a method for constraining the size of the coefficients.It reduces model variance and minimizes overfitting."
      ],
      "metadata": {
        "id": "lrrlh7oeob1_"
      }
    },
    {
      "cell_type": "markdown",
      "source": [
        "First I am going to fit Ridge Regression (Linear Regression with Ridge regularizarion) with different values of the hyperparameter \"alpha\":"
      ],
      "metadata": {
        "id": "WzEnapEbpujL"
      }
    },
    {
      "cell_type": "code",
      "source": [
        "alpha_range = np.arange(0.1, 0.16, 0.01)\n",
        "\n",
        "for i in alpha_range:\n",
        "  ridgereg = Ridge(alpha=i, normalize=True)\n",
        "  ridgereg.fit(X_train, y_train)\n",
        "  y_pred = ridgereg.predict(X_test)\n",
        "# calculate R^2 value, MAE, MSE, RMSE\n",
        "  print('alpha = ', i)\n",
        "  print(\"R-Square \",r2_score(y_test,y_pred))\n",
        "  print (\"MAE :\",metrics.mean_absolute_error(y_test, y_pred))\n",
        "  print (\"MSE : \",metrics.mean_squared_error(y_test, y_pred))\n",
        "  print (\"RMSE : \",np.sqrt(metrics.mean_squared_error(y_test, y_pred)))\n",
        "  print(\"-\"*30)"
      ],
      "metadata": {
        "colab": {
          "base_uri": "https://localhost:8080/"
        },
        "id": "lJnpuWZmdGIc",
        "outputId": "efcff9c0-ce99-4374-dd58-4ffd21f35fd0"
      },
      "execution_count": null,
      "outputs": [
        {
          "output_type": "stream",
          "name": "stdout",
          "text": [
            "alpha =  0.1\n",
            "R-Square  0.9266231003358334\n",
            "MAE : 1.3838426297764193\n",
            "MSE :  3.114327190382214\n",
            "RMSE :  1.764745644670136\n",
            "------------------------------\n",
            "alpha =  0.11\n",
            "R-Square  0.9273403071281057\n",
            "MAE : 1.3726193961311766\n",
            "MSE :  3.0838868661858645\n",
            "RMSE :  1.7560999021086086\n",
            "------------------------------\n",
            "alpha =  0.12\n",
            "R-Square  0.9278468204503043\n",
            "MAE : 1.3631814972923206\n",
            "MSE :  3.062388980354849\n",
            "RMSE :  1.7499682798139082\n",
            "------------------------------\n",
            "alpha =  0.13\n",
            "R-Square  0.928153684921732\n",
            "MAE : 1.3554063431206218\n",
            "MSE :  3.049364767400863\n",
            "RMSE :  1.746243043622755\n",
            "------------------------------\n",
            "alpha =  0.13999999999999999\n",
            "R-Square  0.928271358799376\n",
            "MAE : 1.3491868726922787\n",
            "MSE :  3.0443703487429254\n",
            "RMSE :  1.7448124107602299\n",
            "------------------------------\n",
            "alpha =  0.14999999999999997\n",
            "R-Square  0.9282097484736592\n",
            "MAE : 1.3442392288220912\n",
            "MSE :  3.046985268608252\n",
            "RMSE :  1.7455615911815463\n",
            "------------------------------\n"
          ]
        }
      ]
    },
    {
      "cell_type": "markdown",
      "source": [
        "As we can see the best metrics occur at alpha = 0.14. The R2 metric (0.928) is lower than in our baseline model (0.95), and other metrics are higher. I don't know how to explain these results. Probably the regularization doesn't give any value to the basic LR model in our case.   "
      ],
      "metadata": {
        "id": "mT_hPPAlqRhq"
      }
    },
    {
      "cell_type": "markdown",
      "source": [
        "Next I am going to fit Lasso Regression (Linear Regression with Lasso regularizarion) with different values of the hyperparameter \"alpha\":"
      ],
      "metadata": {
        "id": "Tor-c8d8sP9O"
      }
    },
    {
      "cell_type": "code",
      "source": [
        "alpha_range = np.arange(0, 0.006, 0.001)\n",
        "\n",
        "for i in alpha_range:\n",
        "  lassoreg = Lasso(alpha=i, normalize=True)\n",
        "  lassoreg.fit(X_train, y_train)\n",
        "  y_pred = lassoreg.predict(X_test)\n",
        "# calculate MAE, MSE, RMSE\n",
        "# calculate R^2 value, MAE, MSE, RMSE\n",
        "  print('alpha = ', i)\n",
        "  print (\"R-Square \",r2_score(y_test,y_pred))\n",
        "  print (\"MAE :\",metrics.mean_absolute_error(y_test, y_pred))\n",
        "  print (\"MSE : \",metrics.mean_squared_error(y_test, y_pred))\n",
        "  print (\"RMSE : \",np.sqrt(metrics.mean_squared_error(y_test, y_pred)))\n",
        "  print(\"-\"*30)"
      ],
      "metadata": {
        "colab": {
          "base_uri": "https://localhost:8080/"
        },
        "id": "3Vd9mtQtdVnd",
        "outputId": "0a8d024f-74e8-45e2-b740-7c5fea72a5dc"
      },
      "execution_count": null,
      "outputs": [
        {
          "output_type": "stream",
          "name": "stdout",
          "text": [
            "alpha =  0.0\n",
            "R-Square  0.9049311080998121\n",
            "MAE : 1.5990837445069872\n",
            "MSE :  4.034997885701761\n",
            "RMSE :  2.008730416382886\n",
            "------------------------------\n",
            "alpha =  0.001\n",
            "R-Square  0.9090504963351399\n",
            "MAE : 1.5623161773546907\n",
            "MSE :  3.860159171505078\n",
            "RMSE :  1.964728778102738\n",
            "------------------------------\n",
            "alpha =  0.002\n",
            "R-Square  0.9104144752532333\n",
            "MAE : 1.5506526641506773\n",
            "MSE :  3.802267973441816\n",
            "RMSE :  1.9499405051031213\n",
            "------------------------------\n",
            "alpha =  0.003\n",
            "R-Square  0.9090231662237056\n",
            "MAE : 1.566744957341678\n",
            "MSE :  3.8613191402356426\n",
            "RMSE :  1.9650239541124284\n",
            "------------------------------\n",
            "alpha =  0.004\n",
            "R-Square  0.9048765692465564\n",
            "MAE : 1.6069136913773858\n",
            "MSE :  4.0373126718865695\n",
            "RMSE :  2.0093065151655107\n",
            "------------------------------\n",
            "alpha =  0.005\n",
            "R-Square  0.8979746843217862\n",
            "MAE : 1.6686996627008828\n",
            "MSE :  4.330248568394581\n",
            "RMSE :  2.0809249309849167\n",
            "------------------------------\n"
          ]
        }
      ]
    },
    {
      "cell_type": "markdown",
      "source": [
        "Here we got the best metrics at alpha = 0.002. The R2 metric (0.91) is lower than in our baseline model (0.95), and other metrics are higher again. My conclusion is that regularization doesn't improve basic LR model in this case."
      ],
      "metadata": {
        "id": "obfwn3txoZTi"
      }
    },
    {
      "cell_type": "markdown",
      "source": [
        "# Hyperparameter tuning"
      ],
      "metadata": {
        "id": "X1Yl3OhkpbqQ"
      }
    },
    {
      "cell_type": "markdown",
      "source": [
        "Unfortunately, this code that I take from the workshop stopped working after I applied PCA and I couldn't manage to find the reason for this. I leave it here to get back to the troubleshooting later.  "
      ],
      "metadata": {
        "id": "_CZlyQpPthuW"
      }
    },
    {
      "cell_type": "code",
      "source": [
        "# Evaluation\n",
        "\n",
        "def evaluate_model(train, test, tr_y, tst_y, pipeline):\n",
        "    pipeline.fit(train, tr_y)\n",
        "    pred_test = pipeline.predict(test)\n",
        "    pred_train = pipeline.predict(train)\n",
        "    mapper = pipeline.named_steps['mapper']\n",
        "\n",
        "    return pd.DataFrame({\n",
        "        'train_RMSE': [np.sqrt(mean_squared_error(tr_y, pred_train))],\n",
        "        'train_R2': [r2_score(tr_y, pred_train)],\n",
        "        'test_RMSE': [np.sqrt(mean_squared_error(tst_y, pred_test))],\n",
        "        'test_R2': [r2_score(tst_y, pred_test)]\n",
        "    }), mapper.transformed_names_"
      ],
      "metadata": {
        "id": "EjxM6iK4oRfQ"
      },
      "execution_count": null,
      "outputs": []
    },
    {
      "cell_type": "code",
      "source": [
        "cv = KFold(n_splits=5, shuffle=True, random_state=SEED)\n",
        "pipeline = Pipeline([\n",
        "    ('mapper', DataFrameMapper(features)),\n",
        "    ('estimator', ElasticNet(random_state=SEED))\n",
        "])\n",
        "grid = {\n",
        "    'estimator__alpha': np.linspace(0, 300, 10),\n",
        "    'estimator__l1_ratio': np.arange(0, 1.1, 0.1)\n",
        "}\n",
        "\n",
        "gs = GridSearchCV(pipeline, grid,\n",
        "                  n_jobs=-1,\n",
        "                  scoring=['neg_mean_squared_error', 'r2'],\n",
        "                  refit='neg_mean_squared_error',\n",
        "                  cv=cv)"
      ],
      "metadata": {
        "id": "XN83F2GDpfJN"
      },
      "execution_count": null,
      "outputs": []
    },
    {
      "cell_type": "code",
      "source": [
        "%%time\n",
        "gs.fit(X_train, y_train);"
      ],
      "metadata": {
        "colab": {
          "base_uri": "https://localhost:8080/",
          "height": 415
        },
        "id": "DX_6sqrgpiKu",
        "outputId": "5786fba8-9769-4c4c-ec93-4bc318f19e21"
      },
      "execution_count": null,
      "outputs": [
        {
          "output_type": "error",
          "ename": "IndexError",
          "evalue": "ignored",
          "traceback": [
            "\u001b[0;31m---------------------------------------------------------------------------\u001b[0m",
            "\u001b[0;31mIndexError\u001b[0m                                Traceback (most recent call last)",
            "\u001b[0;32m<timed eval>\u001b[0m in \u001b[0;36m<module>\u001b[0;34m\u001b[0m\n",
            "\u001b[0;32m/usr/local/lib/python3.8/dist-packages/sklearn/model_selection/_search.py\u001b[0m in \u001b[0;36mfit\u001b[0;34m(self, X, y, groups, **fit_params)\u001b[0m\n\u001b[1;32m    924\u001b[0m             \u001b[0mrefit_start_time\u001b[0m \u001b[0;34m=\u001b[0m \u001b[0mtime\u001b[0m\u001b[0;34m.\u001b[0m\u001b[0mtime\u001b[0m\u001b[0;34m(\u001b[0m\u001b[0;34m)\u001b[0m\u001b[0;34m\u001b[0m\u001b[0;34m\u001b[0m\u001b[0m\n\u001b[1;32m    925\u001b[0m             \u001b[0;32mif\u001b[0m \u001b[0my\u001b[0m \u001b[0;32mis\u001b[0m \u001b[0;32mnot\u001b[0m \u001b[0;32mNone\u001b[0m\u001b[0;34m:\u001b[0m\u001b[0;34m\u001b[0m\u001b[0;34m\u001b[0m\u001b[0m\n\u001b[0;32m--> 926\u001b[0;31m                 \u001b[0mself\u001b[0m\u001b[0;34m.\u001b[0m\u001b[0mbest_estimator_\u001b[0m\u001b[0;34m.\u001b[0m\u001b[0mfit\u001b[0m\u001b[0;34m(\u001b[0m\u001b[0mX\u001b[0m\u001b[0;34m,\u001b[0m \u001b[0my\u001b[0m\u001b[0;34m,\u001b[0m \u001b[0;34m**\u001b[0m\u001b[0mfit_params\u001b[0m\u001b[0;34m)\u001b[0m\u001b[0;34m\u001b[0m\u001b[0;34m\u001b[0m\u001b[0m\n\u001b[0m\u001b[1;32m    927\u001b[0m             \u001b[0;32melse\u001b[0m\u001b[0;34m:\u001b[0m\u001b[0;34m\u001b[0m\u001b[0;34m\u001b[0m\u001b[0m\n\u001b[1;32m    928\u001b[0m                 \u001b[0mself\u001b[0m\u001b[0;34m.\u001b[0m\u001b[0mbest_estimator_\u001b[0m\u001b[0;34m.\u001b[0m\u001b[0mfit\u001b[0m\u001b[0;34m(\u001b[0m\u001b[0mX\u001b[0m\u001b[0;34m,\u001b[0m \u001b[0;34m**\u001b[0m\u001b[0mfit_params\u001b[0m\u001b[0;34m)\u001b[0m\u001b[0;34m\u001b[0m\u001b[0;34m\u001b[0m\u001b[0m\n",
            "\u001b[0;32m/usr/local/lib/python3.8/dist-packages/sklearn/pipeline.py\u001b[0m in \u001b[0;36mfit\u001b[0;34m(self, X, y, **fit_params)\u001b[0m\n\u001b[1;32m    388\u001b[0m         \"\"\"\n\u001b[1;32m    389\u001b[0m         \u001b[0mfit_params_steps\u001b[0m \u001b[0;34m=\u001b[0m \u001b[0mself\u001b[0m\u001b[0;34m.\u001b[0m\u001b[0m_check_fit_params\u001b[0m\u001b[0;34m(\u001b[0m\u001b[0;34m**\u001b[0m\u001b[0mfit_params\u001b[0m\u001b[0;34m)\u001b[0m\u001b[0;34m\u001b[0m\u001b[0;34m\u001b[0m\u001b[0m\n\u001b[0;32m--> 390\u001b[0;31m         \u001b[0mXt\u001b[0m \u001b[0;34m=\u001b[0m \u001b[0mself\u001b[0m\u001b[0;34m.\u001b[0m\u001b[0m_fit\u001b[0m\u001b[0;34m(\u001b[0m\u001b[0mX\u001b[0m\u001b[0;34m,\u001b[0m \u001b[0my\u001b[0m\u001b[0;34m,\u001b[0m \u001b[0;34m**\u001b[0m\u001b[0mfit_params_steps\u001b[0m\u001b[0;34m)\u001b[0m\u001b[0;34m\u001b[0m\u001b[0;34m\u001b[0m\u001b[0m\n\u001b[0m\u001b[1;32m    391\u001b[0m         \u001b[0;32mwith\u001b[0m \u001b[0m_print_elapsed_time\u001b[0m\u001b[0;34m(\u001b[0m\u001b[0;34m\"Pipeline\"\u001b[0m\u001b[0;34m,\u001b[0m \u001b[0mself\u001b[0m\u001b[0;34m.\u001b[0m\u001b[0m_log_message\u001b[0m\u001b[0;34m(\u001b[0m\u001b[0mlen\u001b[0m\u001b[0;34m(\u001b[0m\u001b[0mself\u001b[0m\u001b[0;34m.\u001b[0m\u001b[0msteps\u001b[0m\u001b[0;34m)\u001b[0m \u001b[0;34m-\u001b[0m \u001b[0;36m1\u001b[0m\u001b[0;34m)\u001b[0m\u001b[0;34m)\u001b[0m\u001b[0;34m:\u001b[0m\u001b[0;34m\u001b[0m\u001b[0;34m\u001b[0m\u001b[0m\n\u001b[1;32m    392\u001b[0m             \u001b[0;32mif\u001b[0m \u001b[0mself\u001b[0m\u001b[0;34m.\u001b[0m\u001b[0m_final_estimator\u001b[0m \u001b[0;34m!=\u001b[0m \u001b[0;34m\"passthrough\"\u001b[0m\u001b[0;34m:\u001b[0m\u001b[0;34m\u001b[0m\u001b[0;34m\u001b[0m\u001b[0m\n",
            "\u001b[0;32m/usr/local/lib/python3.8/dist-packages/sklearn/pipeline.py\u001b[0m in \u001b[0;36m_fit\u001b[0;34m(self, X, y, **fit_params_steps)\u001b[0m\n\u001b[1;32m    346\u001b[0m                 \u001b[0mcloned_transformer\u001b[0m \u001b[0;34m=\u001b[0m \u001b[0mclone\u001b[0m\u001b[0;34m(\u001b[0m\u001b[0mtransformer\u001b[0m\u001b[0;34m)\u001b[0m\u001b[0;34m\u001b[0m\u001b[0;34m\u001b[0m\u001b[0m\n\u001b[1;32m    347\u001b[0m             \u001b[0;31m# Fit or load from cache the current transformer\u001b[0m\u001b[0;34m\u001b[0m\u001b[0;34m\u001b[0m\u001b[0;34m\u001b[0m\u001b[0m\n\u001b[0;32m--> 348\u001b[0;31m             X, fitted_transformer = fit_transform_one_cached(\n\u001b[0m\u001b[1;32m    349\u001b[0m                 \u001b[0mcloned_transformer\u001b[0m\u001b[0;34m,\u001b[0m\u001b[0;34m\u001b[0m\u001b[0;34m\u001b[0m\u001b[0m\n\u001b[1;32m    350\u001b[0m                 \u001b[0mX\u001b[0m\u001b[0;34m,\u001b[0m\u001b[0;34m\u001b[0m\u001b[0;34m\u001b[0m\u001b[0m\n",
            "\u001b[0;32m/usr/local/lib/python3.8/dist-packages/joblib/memory.py\u001b[0m in \u001b[0;36m__call__\u001b[0;34m(self, *args, **kwargs)\u001b[0m\n\u001b[1;32m    347\u001b[0m \u001b[0;34m\u001b[0m\u001b[0m\n\u001b[1;32m    348\u001b[0m     \u001b[0;32mdef\u001b[0m \u001b[0m__call__\u001b[0m\u001b[0;34m(\u001b[0m\u001b[0mself\u001b[0m\u001b[0;34m,\u001b[0m \u001b[0;34m*\u001b[0m\u001b[0margs\u001b[0m\u001b[0;34m,\u001b[0m \u001b[0;34m**\u001b[0m\u001b[0mkwargs\u001b[0m\u001b[0;34m)\u001b[0m\u001b[0;34m:\u001b[0m\u001b[0;34m\u001b[0m\u001b[0;34m\u001b[0m\u001b[0m\n\u001b[0;32m--> 349\u001b[0;31m         \u001b[0;32mreturn\u001b[0m \u001b[0mself\u001b[0m\u001b[0;34m.\u001b[0m\u001b[0mfunc\u001b[0m\u001b[0;34m(\u001b[0m\u001b[0;34m*\u001b[0m\u001b[0margs\u001b[0m\u001b[0;34m,\u001b[0m \u001b[0;34m**\u001b[0m\u001b[0mkwargs\u001b[0m\u001b[0;34m)\u001b[0m\u001b[0;34m\u001b[0m\u001b[0;34m\u001b[0m\u001b[0m\n\u001b[0m\u001b[1;32m    350\u001b[0m \u001b[0;34m\u001b[0m\u001b[0m\n\u001b[1;32m    351\u001b[0m     \u001b[0;32mdef\u001b[0m \u001b[0mcall_and_shelve\u001b[0m\u001b[0;34m(\u001b[0m\u001b[0mself\u001b[0m\u001b[0;34m,\u001b[0m \u001b[0;34m*\u001b[0m\u001b[0margs\u001b[0m\u001b[0;34m,\u001b[0m \u001b[0;34m**\u001b[0m\u001b[0mkwargs\u001b[0m\u001b[0;34m)\u001b[0m\u001b[0;34m:\u001b[0m\u001b[0;34m\u001b[0m\u001b[0;34m\u001b[0m\u001b[0m\n",
            "\u001b[0;32m/usr/local/lib/python3.8/dist-packages/sklearn/pipeline.py\u001b[0m in \u001b[0;36m_fit_transform_one\u001b[0;34m(transformer, X, y, weight, message_clsname, message, **fit_params)\u001b[0m\n\u001b[1;32m    891\u001b[0m     \u001b[0;32mwith\u001b[0m \u001b[0m_print_elapsed_time\u001b[0m\u001b[0;34m(\u001b[0m\u001b[0mmessage_clsname\u001b[0m\u001b[0;34m,\u001b[0m \u001b[0mmessage\u001b[0m\u001b[0;34m)\u001b[0m\u001b[0;34m:\u001b[0m\u001b[0;34m\u001b[0m\u001b[0;34m\u001b[0m\u001b[0m\n\u001b[1;32m    892\u001b[0m         \u001b[0;32mif\u001b[0m \u001b[0mhasattr\u001b[0m\u001b[0;34m(\u001b[0m\u001b[0mtransformer\u001b[0m\u001b[0;34m,\u001b[0m \u001b[0;34m\"fit_transform\"\u001b[0m\u001b[0;34m)\u001b[0m\u001b[0;34m:\u001b[0m\u001b[0;34m\u001b[0m\u001b[0;34m\u001b[0m\u001b[0m\n\u001b[0;32m--> 893\u001b[0;31m             \u001b[0mres\u001b[0m \u001b[0;34m=\u001b[0m \u001b[0mtransformer\u001b[0m\u001b[0;34m.\u001b[0m\u001b[0mfit_transform\u001b[0m\u001b[0;34m(\u001b[0m\u001b[0mX\u001b[0m\u001b[0;34m,\u001b[0m \u001b[0my\u001b[0m\u001b[0;34m,\u001b[0m \u001b[0;34m**\u001b[0m\u001b[0mfit_params\u001b[0m\u001b[0;34m)\u001b[0m\u001b[0;34m\u001b[0m\u001b[0;34m\u001b[0m\u001b[0m\n\u001b[0m\u001b[1;32m    894\u001b[0m         \u001b[0;32melse\u001b[0m\u001b[0;34m:\u001b[0m\u001b[0;34m\u001b[0m\u001b[0;34m\u001b[0m\u001b[0m\n\u001b[1;32m    895\u001b[0m             \u001b[0mres\u001b[0m \u001b[0;34m=\u001b[0m \u001b[0mtransformer\u001b[0m\u001b[0;34m.\u001b[0m\u001b[0mfit\u001b[0m\u001b[0;34m(\u001b[0m\u001b[0mX\u001b[0m\u001b[0;34m,\u001b[0m \u001b[0my\u001b[0m\u001b[0;34m,\u001b[0m \u001b[0;34m**\u001b[0m\u001b[0mfit_params\u001b[0m\u001b[0;34m)\u001b[0m\u001b[0;34m.\u001b[0m\u001b[0mtransform\u001b[0m\u001b[0;34m(\u001b[0m\u001b[0mX\u001b[0m\u001b[0;34m)\u001b[0m\u001b[0;34m\u001b[0m\u001b[0;34m\u001b[0m\u001b[0m\n",
            "\u001b[0;32m/usr/local/lib/python3.8/dist-packages/sklearn_pandas/dataframe_mapper.py\u001b[0m in \u001b[0;36mfit_transform\u001b[0;34m(self, X, y)\u001b[0m\n\u001b[1;32m    386\u001b[0m         \u001b[0my\u001b[0m       \u001b[0mthe\u001b[0m \u001b[0mtarget\u001b[0m \u001b[0mvector\u001b[0m \u001b[0mrelative\u001b[0m \u001b[0mto\u001b[0m \u001b[0mX\u001b[0m\u001b[0;34m,\u001b[0m \u001b[0moptional\u001b[0m\u001b[0;34m\u001b[0m\u001b[0;34m\u001b[0m\u001b[0m\n\u001b[1;32m    387\u001b[0m         \"\"\"\n\u001b[0;32m--> 388\u001b[0;31m         \u001b[0;32mreturn\u001b[0m \u001b[0mself\u001b[0m\u001b[0;34m.\u001b[0m\u001b[0m_transform\u001b[0m\u001b[0;34m(\u001b[0m\u001b[0mX\u001b[0m\u001b[0;34m,\u001b[0m \u001b[0my\u001b[0m\u001b[0;34m,\u001b[0m \u001b[0;32mTrue\u001b[0m\u001b[0;34m)\u001b[0m\u001b[0;34m\u001b[0m\u001b[0;34m\u001b[0m\u001b[0m\n\u001b[0m",
            "\u001b[0;32m/usr/local/lib/python3.8/dist-packages/sklearn_pandas/dataframe_mapper.py\u001b[0m in \u001b[0;36m_transform\u001b[0;34m(self, X, y, do_fit)\u001b[0m\n\u001b[1;32m    296\u001b[0m             \u001b[0;31m# strings; we don't care because pandas\u001b[0m\u001b[0;34m\u001b[0m\u001b[0;34m\u001b[0m\u001b[0;34m\u001b[0m\u001b[0m\n\u001b[1;32m    297\u001b[0m             \u001b[0;31m# will handle either.\u001b[0m\u001b[0;34m\u001b[0m\u001b[0;34m\u001b[0m\u001b[0;34m\u001b[0m\u001b[0m\n\u001b[0;32m--> 298\u001b[0;31m             \u001b[0mXt\u001b[0m \u001b[0;34m=\u001b[0m \u001b[0mself\u001b[0m\u001b[0;34m.\u001b[0m\u001b[0m_get_col_subset\u001b[0m\u001b[0;34m(\u001b[0m\u001b[0mX\u001b[0m\u001b[0;34m,\u001b[0m \u001b[0mcolumns\u001b[0m\u001b[0;34m,\u001b[0m \u001b[0minput_df\u001b[0m\u001b[0;34m)\u001b[0m\u001b[0;34m\u001b[0m\u001b[0;34m\u001b[0m\u001b[0m\n\u001b[0m\u001b[1;32m    299\u001b[0m             \u001b[0;32mif\u001b[0m \u001b[0mtransformers\u001b[0m \u001b[0;32mis\u001b[0m \u001b[0;32mnot\u001b[0m \u001b[0;32mNone\u001b[0m\u001b[0;34m:\u001b[0m\u001b[0;34m\u001b[0m\u001b[0;34m\u001b[0m\u001b[0m\n\u001b[1;32m    300\u001b[0m                 \u001b[0;32mwith\u001b[0m \u001b[0madd_column_names_to_exception\u001b[0m\u001b[0;34m(\u001b[0m\u001b[0mcolumns\u001b[0m\u001b[0;34m)\u001b[0m\u001b[0;34m:\u001b[0m\u001b[0;34m\u001b[0m\u001b[0;34m\u001b[0m\u001b[0m\n",
            "\u001b[0;32m/usr/local/lib/python3.8/dist-packages/sklearn_pandas/dataframe_mapper.py\u001b[0m in \u001b[0;36m_get_col_subset\u001b[0;34m(self, X, cols, input_df)\u001b[0m\n\u001b[1;32m    192\u001b[0m             \u001b[0mt\u001b[0m \u001b[0;34m=\u001b[0m \u001b[0mX\u001b[0m\u001b[0;34m[\u001b[0m\u001b[0mcols\u001b[0m\u001b[0;34m[\u001b[0m\u001b[0;36m0\u001b[0m\u001b[0;34m]\u001b[0m\u001b[0;34m]\u001b[0m\u001b[0;34m\u001b[0m\u001b[0;34m\u001b[0m\u001b[0m\n\u001b[1;32m    193\u001b[0m         \u001b[0;32melse\u001b[0m\u001b[0;34m:\u001b[0m\u001b[0;34m\u001b[0m\u001b[0;34m\u001b[0m\u001b[0m\n\u001b[0;32m--> 194\u001b[0;31m             \u001b[0mt\u001b[0m \u001b[0;34m=\u001b[0m \u001b[0mX\u001b[0m\u001b[0;34m[\u001b[0m\u001b[0mcols\u001b[0m\u001b[0;34m]\u001b[0m\u001b[0;34m\u001b[0m\u001b[0;34m\u001b[0m\u001b[0m\n\u001b[0m\u001b[1;32m    195\u001b[0m \u001b[0;34m\u001b[0m\u001b[0m\n\u001b[1;32m    196\u001b[0m         \u001b[0;31m# return either a DataFrame/Series or a numpy array\u001b[0m\u001b[0;34m\u001b[0m\u001b[0;34m\u001b[0m\u001b[0;34m\u001b[0m\u001b[0m\n",
            "\u001b[0;31mIndexError\u001b[0m: only integers, slices (`:`), ellipsis (`...`), numpy.newaxis (`None`) and integer or boolean arrays are valid indices"
          ]
        }
      ]
    },
    {
      "cell_type": "code",
      "source": [
        "gs.best_params_"
      ],
      "metadata": {
        "id": "-zGUoH_ipj4d"
      },
      "execution_count": null,
      "outputs": []
    },
    {
      "cell_type": "code",
      "source": [
        "pipeline = clone(pipeline)\n",
        "pipeline.set_params(**gs.best_params_);\n",
        "\n",
        "scores, col = evaluate_model(X_train, X_test, y_train, y_test, pipeline)\n",
        "scores"
      ],
      "metadata": {
        "id": "4I2KOjZ9plzD"
      },
      "execution_count": null,
      "outputs": []
    },
    {
      "cell_type": "code",
      "source": [
        "pipeline = clone(pipeline)\n",
        "pipeline.set_params(**gs.best_params_);\n",
        "scores, col = evaluate_model(X_train, X_test, train_y_tr, test_y_tr, pipeline)\n",
        "scores"
      ],
      "metadata": {
        "id": "RLsPw9aVp8CI"
      },
      "execution_count": null,
      "outputs": []
    },
    {
      "cell_type": "code",
      "source": [
        "%%time\n",
        "pipeline = clone(pipeline)\n",
        "grid = {\n",
        "    'estimator__alpha': np.linspace(0, 0.5, 10),\n",
        "    'estimator__l1_ratio': np.arange(0, 0.5, 0.1)\n",
        "}\n",
        "gs = GridSearchCV(pipeline, grid,\n",
        "                  n_jobs=-1,\n",
        "                  scoring=['neg_mean_squared_error', 'r2'],\n",
        "                  refit='neg_mean_squared_error',\n",
        "                  cv=cv,\n",
        "                  verbose=10)\n",
        "gs.fit(X_train, np.log1p(y_train));"
      ],
      "metadata": {
        "id": "nvWwNbjDqEwf"
      },
      "execution_count": null,
      "outputs": []
    },
    {
      "cell_type": "code",
      "source": [
        "pipeline = gs.best_estimator_\n",
        "scores, col = evaluate_model(X_train, X_test, train_y_tr, test_y_tr,\n",
        "                             pipeline)\n",
        "scores"
      ],
      "metadata": {
        "id": "ieMatiG0qMJh"
      },
      "execution_count": null,
      "outputs": []
    },
    {
      "cell_type": "code",
      "source": [
        "gs.best_params_"
      ],
      "metadata": {
        "id": "f_zrEWF1qOM8"
      },
      "execution_count": null,
      "outputs": []
    },
    {
      "cell_type": "code",
      "source": [
        "rmse_transformed_tst = np.sqrt(mean_squared_error(np.exp(pipeline.predict(X=X_test)), np.exp(test_y_tr)))\n",
        "print(f'\\nRMSE Test Score Transformed: {rmse_transformed_tst}')"
      ],
      "metadata": {
        "id": "l0YI3I85qQqT"
      },
      "execution_count": null,
      "outputs": []
    },
    {
      "cell_type": "code",
      "source": [
        "rmse_transformed_train = np.sqrt(mean_squared_error(np.exp(pipeline.predict(X_train)), np.exp(train_y_tr)))\n",
        "print(f'\\nRMSE Train Score Transformed: {rmse_transformed_train}')"
      ],
      "metadata": {
        "id": "8r3dB2VwqS9J"
      },
      "execution_count": null,
      "outputs": []
    },
    {
      "cell_type": "markdown",
      "source": [
        "**Conclusion:** <br>\n",
        "In the process of completing this task, I prepared the data and build the Linear Regression model for predicting one of the air pollution components (C6H6(GT)) based on the values of the other components taken from air quality sensors. I got through different technics such as interpolating missing data, the nonlinear transformation of the target variable, and dimensionality reduction (PCA) during data preparation. Then I built a baseline LR model, estimated its metrics, and perform residual analysis in order to confirm that the model is good (neither underfitted nor overfitted). In the last step, I tried Lasso and Ridge regularisation technics which didn't show better results than the basic LR model though."
      ],
      "metadata": {
        "id": "ECwMAUQ_uc3H"
      }
    },
    {
      "cell_type": "code",
      "source": [],
      "metadata": {
        "id": "T1Z73JXjym3H"
      },
      "execution_count": null,
      "outputs": []
    }
  ]
}