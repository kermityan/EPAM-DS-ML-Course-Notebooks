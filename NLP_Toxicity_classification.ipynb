{
  "cells": [
    {
      "cell_type": "markdown",
      "metadata": {
        "id": "view-in-github",
        "colab_type": "text"
      },
      "source": [
        "<a href=\"https://colab.research.google.com/github/kermityan/EPAM-DS-ML-Course-Notebooks/blob/main/NLP_Toxicity_classification.ipynb\" target=\"_parent\"><img src=\"https://colab.research.google.com/assets/colab-badge.svg\" alt=\"Open In Colab\"/></a>"
      ]
    },
    {
      "cell_type": "markdown",
      "source": [
        "# Multilingual toxic comment classification using different embeddings"
      ],
      "metadata": {
        "id": "uUXa_pRd_I0V"
      }
    },
    {
      "cell_type": "code",
      "execution_count": null,
      "metadata": {
        "id": "OUK4VTH_y2ih"
      },
      "outputs": [],
      "source": [
        "import os\n",
        "import gc\n",
        "import numpy as np\n",
        "import pandas as pd\n",
        "import math\n",
        "import re\n",
        "import matplotlib.pyplot as plt\n",
        "import glob\n",
        "import pickle"
      ]
    },
    {
      "cell_type": "code",
      "execution_count": null,
      "metadata": {
        "id": "QEQX10fizF-f"
      },
      "outputs": [],
      "source": [
        "import string\n",
        "import re\n",
        "from collections import Counter\n",
        "from tqdm.auto import tqdm\n",
        "\n",
        "from sklearn.model_selection import train_test_split, RandomizedSearchCV, GridSearchCV, StratifiedKFold\n",
        "\n",
        "from sklearn.linear_model import LogisticRegression, SGDClassifier\n",
        "from sklearn.feature_extraction.text import TfidfVectorizer\n",
        "from sklearn.pipeline import Pipeline\n",
        "from gensim import utils\n",
        "import gensim.parsing.preprocessing as gsp\n",
        "from gensim.models.doc2vec import Doc2Vec, TaggedDocument\n",
        "\n",
        "from sklearn.model_selection import cross_val_score\n",
        "from sklearn.metrics import accuracy_score, f1_score, roc_auc_score\n",
        "from sklearn.decomposition import PCA\n",
        "\n",
        "\n",
        "import warnings\n",
        "warnings.filterwarnings('ignore')\n",
        "\n",
        "%matplotlib inline\n",
        "plt.rcParams['figure.figsize'] = (10, 8)"
      ]
    },
    {
      "cell_type": "code",
      "execution_count": null,
      "metadata": {
        "id": "4lpthnyZi86y"
      },
      "outputs": [],
      "source": [
        "import torch\n",
        "from torch import nn\n",
        "import torch.nn.functional as F\n",
        "from torch.utils.data import DataLoader, Dataset\n",
        "\n",
        "import torchtext\n",
        "from torchtext.data import get_tokenizer\n",
        "from torchtext.vocab import build_vocab_from_iterator"
      ]
    },
    {
      "cell_type": "code",
      "execution_count": null,
      "metadata": {
        "colab": {
          "base_uri": "https://localhost:8080/"
        },
        "id": "oByvHASOirFc",
        "outputId": "3b94a0f1-e775-4ec7-cf19-bfd85560ee52"
      },
      "outputs": [
        {
          "output_type": "stream",
          "name": "stdout",
          "text": [
            "Mounted at /content/drive\n"
          ]
        }
      ],
      "source": [
        "from google.colab import drive\n",
        "drive.mount('/content/drive')\n",
        "FILE_PATH = \"/content/drive/MyDrive/ds_data/toxicity_data/\"\n",
        "MODEL_PATH = FILE_PATH + 'models/'"
      ]
    },
    {
      "cell_type": "code",
      "execution_count": null,
      "metadata": {
        "colab": {
          "base_uri": "https://localhost:8080/"
        },
        "id": "aan2pXXViyTK",
        "outputId": "ad1f222c-669c-470f-e296-d10265244f39"
      },
      "outputs": [
        {
          "output_type": "stream",
          "name": "stdout",
          "text": [
            "Using device: cuda\n"
          ]
        }
      ],
      "source": [
        "device = \"cuda\" if torch.cuda.is_available() else \"cpu\"\n",
        "print(f\"Using device: {device}\")"
      ]
    },
    {
      "cell_type": "markdown",
      "metadata": {
        "id": "faKRHkx7xmBI"
      },
      "source": [
        "Auxiliary functions:"
      ]
    },
    {
      "cell_type": "code",
      "execution_count": null,
      "metadata": {
        "id": "XlUFlKH3SJKL"
      },
      "outputs": [],
      "source": [
        "def save_sklearn_model(model, filename):\n",
        "  ''' Saving sklearn model to Google drive'''\n",
        "  save_path = MODEL_PATH + filename\n",
        "  pickle.dump(model, open(save_path, 'wb'))"
      ]
    },
    {
      "cell_type": "code",
      "execution_count": null,
      "metadata": {
        "id": "0MGIecrPTzdN"
      },
      "outputs": [],
      "source": [
        "def load_sklearn_model(filename):\n",
        "  # load the model from disk\n",
        "  load_path = MODEL_PATH + filename\n",
        "  loaded_model = pickle.load(open(load_path, 'rb'))\n",
        "  return loaded_model"
      ]
    },
    {
      "cell_type": "code",
      "execution_count": null,
      "metadata": {
        "id": "CXJ5PWd7dnAn"
      },
      "outputs": [],
      "source": [
        "def model_save(model, name):\n",
        "  # Saves models parameters\n",
        "\n",
        "  # Create model save path\n",
        "  MODEL_NAME = name\n",
        "  MODEL_SAVE_PATH = MODEL_PATH + MODEL_NAME\n",
        "\n",
        "  # Save the model state dict\n",
        "  print(f\"Saving model to: {MODEL_SAVE_PATH}\")\n",
        "  torch.save(obj=model.state_dict(),\n",
        "            f=MODEL_SAVE_PATH)"
      ]
    },
    {
      "cell_type": "code",
      "execution_count": null,
      "metadata": {
        "id": "wAwppqXppnvc"
      },
      "outputs": [],
      "source": [
        "def load_model(model_cls, name):\n",
        "  # Loads model's parameters\n",
        "\n",
        "  loaded_model_1 = model_cls\n",
        "\n",
        "  MODEL_SAVE_PATH = MODEL_PATH + name\n",
        "\n",
        "  # Load model state dict\n",
        "  loaded_model_1.load_state_dict(torch.load(MODEL_SAVE_PATH))\n",
        "\n",
        "  # Put model to target device\n",
        "  loaded_model_1.to(device)\n",
        "\n",
        "  print(f\"Loaded model:\\n{loaded_model_1}\")\n",
        "  print(f\"Model on device:\\n{next(loaded_model_1.parameters()).device}\")\n",
        "  return loaded_model_1"
      ]
    },
    {
      "cell_type": "code",
      "source": [
        "from sklearn.metrics import ConfusionMatrixDisplay, confusion_matrix\n",
        "\n",
        "def plot_confusion_matrix(y_pred, y_true, labels):\n",
        "    cm = confusion_matrix(y_true, y_pred, normalize=\"true\")\n",
        "    _, ax = plt.subplots(figsize=(6, 6))\n",
        "    disp = ConfusionMatrixDisplay(confusion_matrix=cm, display_labels=labels)\n",
        "    disp.plot(cmap=\"Blues\", values_format=\".2f\", ax=ax, colorbar=False)\n",
        "    plt.title(\"Normalized confusion matrix\")\n",
        "    plt.show()"
      ],
      "metadata": {
        "id": "3qNdc9BmOfvO"
      },
      "execution_count": null,
      "outputs": []
    },
    {
      "cell_type": "code",
      "execution_count": null,
      "metadata": {
        "id": "nse8bSjhevKO"
      },
      "outputs": [],
      "source": [
        "def classifier_f(clf, X_train, y_train, X_test):\n",
        "  # Fit classifier, then predict labels and probs\n",
        "  clf.fit(X_train, y_train)\n",
        "  y_pred = clf.predict(X_test)\n",
        "  probs = clf.predict_proba(X_test)\n",
        "  return y_pred, probs"
      ]
    },
    {
      "cell_type": "code",
      "execution_count": null,
      "metadata": {
        "id": "IH3ZuHQLeQg-"
      },
      "outputs": [],
      "source": [
        "def remove_spec_symbols(text):\n",
        "  text=''.join(text)\n",
        "  unicode_pattern = re.compile('[^\\u0000-\\u007F]+')\n",
        "  return unicode_pattern.sub(r' ', text)"
      ]
    },
    {
      "cell_type": "code",
      "execution_count": null,
      "metadata": {
        "id": "bzRyn39UsBLp"
      },
      "outputs": [],
      "source": [
        "re_tok = re.compile(f'([{string.punctuation}“”¨«»®´·º½¾¿¡§£₤‘’])')\n",
        "\n",
        "def tokenize(s):\n",
        "  if isinstance(s, float) and math.isnan(s):\n",
        "    return ''\n",
        "  else:\n",
        "    result = re_tok.sub(r' \\1 ', s).split()\n",
        "\n",
        "  return result"
      ]
    },
    {
      "cell_type": "code",
      "execution_count": null,
      "metadata": {
        "id": "ZGVUm7Oom4VY"
      },
      "outputs": [],
      "source": [
        "filters = [\n",
        "           gsp.strip_tags, #remove tags\n",
        "           gsp.strip_punctuation, #remove punctuation\n",
        "           gsp.strip_multiple_whitespaces, #standarized the spaces\n",
        "           gsp.strip_numeric,\n",
        "           gsp.remove_stopwords, #stop words\n",
        "           gsp.strip_short,\n",
        "           gsp.stem_text #stemming\n",
        "          ]\n",
        "\n",
        "def clean_text(s):\n",
        "    s = str(s).lower() #lower case for all words\n",
        "    s = utils.to_unicode(s)\n",
        "    for f in filters:\n",
        "        s = f(s)\n",
        "    return s"
      ]
    },
    {
      "cell_type": "code",
      "execution_count": null,
      "metadata": {
        "id": "8Nhihghqp_Eo"
      },
      "outputs": [],
      "source": [
        "def get_corpus_statistics(col, top_num=20, verbose=1):\n",
        "  # Calculating the total number of words in the corpus and frequency of use for every word\n",
        "  corpus = \"\"\n",
        "  for text in col:\n",
        "    if type(text)==list:\n",
        "      text = ' '.join(text)\n",
        "    try:\n",
        "      corpus += text\n",
        "    except:\n",
        "      print(text)\n",
        "    corpus += ' '\n",
        "  #words = remove_punct(corpus).lower().split()\n",
        "  word_counts = Counter(corpus.split())\n",
        "\n",
        "  result = {}\n",
        "  if verbose!=0:\n",
        "    print('Size of vocabulary: ',len(list(word_counts)))\n",
        "    print(f'Most {top_num} common words are:')\n",
        "  for item in word_counts.most_common(top_num):\n",
        "    result[item[0]] = int(item[1])\n",
        "  return result"
      ]
    },
    {
      "cell_type": "code",
      "execution_count": null,
      "metadata": {
        "id": "p2e7X_LizC4n"
      },
      "outputs": [],
      "source": [
        "needed_cols = ['toxic', 'comment_text']"
      ]
    },
    {
      "cell_type": "markdown",
      "source": [
        "Loading and briefly examining the data:"
      ],
      "metadata": {
        "id": "Zpu_wtBh0qFp"
      }
    },
    {
      "cell_type": "code",
      "execution_count": null,
      "metadata": {
        "colab": {
          "base_uri": "https://localhost:8080/"
        },
        "id": "pGbM9z4B0Oao",
        "outputId": "74f23e48-4e50-4a08-9478-67f640e3fd1c"
      },
      "outputs": [
        {
          "output_type": "execute_result",
          "data": {
            "text/plain": [
              "20"
            ]
          },
          "metadata": {},
          "execution_count": 16
        }
      ],
      "source": [
        "# Loading train data\n",
        "filename_template = FILE_PATH + \"jigsaw-toxic-comment-train-google-*-cleaned.csv\"\n",
        "translated_train_files = glob.glob(filename_template)\n",
        "translated_train_dfs = []\n",
        "for filename in translated_train_files:\n",
        "    df = pd.read_csv(filename, usecols=needed_cols)\n",
        "    lang = re.findall('train-google-(.*)-cleaned.csv', filename)[0]\n",
        "    df['lang'] = lang\n",
        "    translated_train_dfs.append(df)\n",
        "\n",
        "train_en = pd.read_csv(FILE_PATH + \"jigsaw-toxic-comment-train.csv\", usecols=needed_cols)\n",
        "train_en['lang'] = 'en'\n",
        "\n",
        "translated_train_dfs.append(train_en)\n",
        "\n",
        "train_df = pd.concat(translated_train_dfs).sample(n=400000).reset_index(drop=True)\n",
        "\n",
        "\n",
        "del df, translated_train_dfs, train_en\n",
        "gc.collect()"
      ]
    },
    {
      "cell_type": "code",
      "execution_count": null,
      "metadata": {
        "colab": {
          "base_uri": "https://localhost:8080/",
          "height": 206
        },
        "id": "soxlm1rR0dDC",
        "outputId": "976e4ef7-c696-4483-c40f-d8cdea983169"
      },
      "outputs": [
        {
          "output_type": "execute_result",
          "data": {
            "text/plain": [
              "                                        comment_text  toxic lang\n",
              "0  \"Debes vivir en algún lugar aunque LOL, ¿dónde...      0   es\n",
              "1  == Cita fonti affidabili ==\\n Ho rimosso una g...      0   it\n",
              "2  5 suspension express in the Bronx \\n\\nWait, I'...      0   en\n",
              "3  No hay pruebas de que su madre haya sido asesi...      0   es\n",
              "4  Gracias Osli Estimado Ilir, ¿puede informarnos...      0   es"
            ],
            "text/html": [
              "\n",
              "  <div id=\"df-07838ca6-0fa2-4866-aa4d-2219be569cbb\">\n",
              "    <div class=\"colab-df-container\">\n",
              "      <div>\n",
              "<style scoped>\n",
              "    .dataframe tbody tr th:only-of-type {\n",
              "        vertical-align: middle;\n",
              "    }\n",
              "\n",
              "    .dataframe tbody tr th {\n",
              "        vertical-align: top;\n",
              "    }\n",
              "\n",
              "    .dataframe thead th {\n",
              "        text-align: right;\n",
              "    }\n",
              "</style>\n",
              "<table border=\"1\" class=\"dataframe\">\n",
              "  <thead>\n",
              "    <tr style=\"text-align: right;\">\n",
              "      <th></th>\n",
              "      <th>comment_text</th>\n",
              "      <th>toxic</th>\n",
              "      <th>lang</th>\n",
              "    </tr>\n",
              "  </thead>\n",
              "  <tbody>\n",
              "    <tr>\n",
              "      <th>0</th>\n",
              "      <td>\"Debes vivir en algún lugar aunque LOL, ¿dónde...</td>\n",
              "      <td>0</td>\n",
              "      <td>es</td>\n",
              "    </tr>\n",
              "    <tr>\n",
              "      <th>1</th>\n",
              "      <td>== Cita fonti affidabili ==\\n Ho rimosso una g...</td>\n",
              "      <td>0</td>\n",
              "      <td>it</td>\n",
              "    </tr>\n",
              "    <tr>\n",
              "      <th>2</th>\n",
              "      <td>5 suspension express in the Bronx \\n\\nWait, I'...</td>\n",
              "      <td>0</td>\n",
              "      <td>en</td>\n",
              "    </tr>\n",
              "    <tr>\n",
              "      <th>3</th>\n",
              "      <td>No hay pruebas de que su madre haya sido asesi...</td>\n",
              "      <td>0</td>\n",
              "      <td>es</td>\n",
              "    </tr>\n",
              "    <tr>\n",
              "      <th>4</th>\n",
              "      <td>Gracias Osli Estimado Ilir, ¿puede informarnos...</td>\n",
              "      <td>0</td>\n",
              "      <td>es</td>\n",
              "    </tr>\n",
              "  </tbody>\n",
              "</table>\n",
              "</div>\n",
              "      <button class=\"colab-df-convert\" onclick=\"convertToInteractive('df-07838ca6-0fa2-4866-aa4d-2219be569cbb')\"\n",
              "              title=\"Convert this dataframe to an interactive table.\"\n",
              "              style=\"display:none;\">\n",
              "        \n",
              "  <svg xmlns=\"http://www.w3.org/2000/svg\" height=\"24px\"viewBox=\"0 0 24 24\"\n",
              "       width=\"24px\">\n",
              "    <path d=\"M0 0h24v24H0V0z\" fill=\"none\"/>\n",
              "    <path d=\"M18.56 5.44l.94 2.06.94-2.06 2.06-.94-2.06-.94-.94-2.06-.94 2.06-2.06.94zm-11 1L8.5 8.5l.94-2.06 2.06-.94-2.06-.94L8.5 2.5l-.94 2.06-2.06.94zm10 10l.94 2.06.94-2.06 2.06-.94-2.06-.94-.94-2.06-.94 2.06-2.06.94z\"/><path d=\"M17.41 7.96l-1.37-1.37c-.4-.4-.92-.59-1.43-.59-.52 0-1.04.2-1.43.59L10.3 9.45l-7.72 7.72c-.78.78-.78 2.05 0 2.83L4 21.41c.39.39.9.59 1.41.59.51 0 1.02-.2 1.41-.59l7.78-7.78 2.81-2.81c.8-.78.8-2.07 0-2.86zM5.41 20L4 18.59l7.72-7.72 1.47 1.35L5.41 20z\"/>\n",
              "  </svg>\n",
              "      </button>\n",
              "      \n",
              "  <style>\n",
              "    .colab-df-container {\n",
              "      display:flex;\n",
              "      flex-wrap:wrap;\n",
              "      gap: 12px;\n",
              "    }\n",
              "\n",
              "    .colab-df-convert {\n",
              "      background-color: #E8F0FE;\n",
              "      border: none;\n",
              "      border-radius: 50%;\n",
              "      cursor: pointer;\n",
              "      display: none;\n",
              "      fill: #1967D2;\n",
              "      height: 32px;\n",
              "      padding: 0 0 0 0;\n",
              "      width: 32px;\n",
              "    }\n",
              "\n",
              "    .colab-df-convert:hover {\n",
              "      background-color: #E2EBFA;\n",
              "      box-shadow: 0px 1px 2px rgba(60, 64, 67, 0.3), 0px 1px 3px 1px rgba(60, 64, 67, 0.15);\n",
              "      fill: #174EA6;\n",
              "    }\n",
              "\n",
              "    [theme=dark] .colab-df-convert {\n",
              "      background-color: #3B4455;\n",
              "      fill: #D2E3FC;\n",
              "    }\n",
              "\n",
              "    [theme=dark] .colab-df-convert:hover {\n",
              "      background-color: #434B5C;\n",
              "      box-shadow: 0px 1px 3px 1px rgba(0, 0, 0, 0.15);\n",
              "      filter: drop-shadow(0px 1px 2px rgba(0, 0, 0, 0.3));\n",
              "      fill: #FFFFFF;\n",
              "    }\n",
              "  </style>\n",
              "\n",
              "      <script>\n",
              "        const buttonEl =\n",
              "          document.querySelector('#df-07838ca6-0fa2-4866-aa4d-2219be569cbb button.colab-df-convert');\n",
              "        buttonEl.style.display =\n",
              "          google.colab.kernel.accessAllowed ? 'block' : 'none';\n",
              "\n",
              "        async function convertToInteractive(key) {\n",
              "          const element = document.querySelector('#df-07838ca6-0fa2-4866-aa4d-2219be569cbb');\n",
              "          const dataTable =\n",
              "            await google.colab.kernel.invokeFunction('convertToInteractive',\n",
              "                                                     [key], {});\n",
              "          if (!dataTable) return;\n",
              "\n",
              "          const docLinkHtml = 'Like what you see? Visit the ' +\n",
              "            '<a target=\"_blank\" href=https://colab.research.google.com/notebooks/data_table.ipynb>data table notebook</a>'\n",
              "            + ' to learn more about interactive tables.';\n",
              "          element.innerHTML = '';\n",
              "          dataTable['output_type'] = 'display_data';\n",
              "          await google.colab.output.renderOutput(dataTable, element);\n",
              "          const docLink = document.createElement('div');\n",
              "          docLink.innerHTML = docLinkHtml;\n",
              "          element.appendChild(docLink);\n",
              "        }\n",
              "      </script>\n",
              "    </div>\n",
              "  </div>\n",
              "  "
            ]
          },
          "metadata": {},
          "execution_count": 17
        }
      ],
      "source": [
        "train_df.head()"
      ]
    },
    {
      "cell_type": "code",
      "execution_count": null,
      "metadata": {
        "colab": {
          "base_uri": "https://localhost:8080/"
        },
        "id": "oyG48WDDlCSO",
        "outputId": "317bdd64-a677-48f0-b73a-37c272be2626"
      },
      "outputs": [
        {
          "output_type": "execute_result",
          "data": {
            "text/plain": [
              "it    57379\n",
              "es    57243\n",
              "fr    57235\n",
              "en    57109\n",
              "tr    57085\n",
              "pt    57060\n",
              "ru    56889\n",
              "Name: lang, dtype: int64"
            ]
          },
          "metadata": {},
          "execution_count": 18
        }
      ],
      "source": [
        "train_df.lang.value_counts()"
      ]
    },
    {
      "cell_type": "markdown",
      "source": [
        "There are messages of 7 languages in equal proportions in the dataset."
      ],
      "metadata": {
        "id": "68r9vHU11Ylj"
      }
    },
    {
      "cell_type": "code",
      "execution_count": null,
      "metadata": {
        "colab": {
          "base_uri": "https://localhost:8080/"
        },
        "id": "tOkjmnJylVop",
        "outputId": "9118055a-7a3a-4067-c172-dc3e058bc1dc"
      },
      "outputs": [
        {
          "output_type": "execute_result",
          "data": {
            "text/plain": [
              "0    361735\n",
              "1     38265\n",
              "Name: toxic, dtype: int64"
            ]
          },
          "metadata": {},
          "execution_count": 19
        }
      ],
      "source": [
        "train_df.toxic.value_counts()"
      ]
    },
    {
      "cell_type": "markdown",
      "source": [
        "As we can see we have an unbalanced dataset - we have only 10% of target values of class 1 (toxic messages)."
      ],
      "metadata": {
        "id": "YUwD-Gpw04Mg"
      }
    },
    {
      "cell_type": "code",
      "execution_count": null,
      "metadata": {
        "id": "ny-FpVb_mTvo"
      },
      "outputs": [],
      "source": [
        "train_df['length'] = train_df.comment_text.apply(len)"
      ]
    },
    {
      "cell_type": "code",
      "source": [
        "train_df.describe()"
      ],
      "metadata": {
        "colab": {
          "base_uri": "https://localhost:8080/",
          "height": 300
        },
        "id": "6nbLkdZL4jlJ",
        "outputId": "beca2d64-bbf2-48c1-e752-6bf60651e0e6"
      },
      "execution_count": null,
      "outputs": [
        {
          "output_type": "execute_result",
          "data": {
            "text/plain": [
              "               toxic         length\n",
              "count  400000.000000  400000.000000\n",
              "mean        0.095662     410.270960\n",
              "std         0.294128     620.365583\n",
              "min         0.000000       1.000000\n",
              "25%         0.000000      98.000000\n",
              "50%         0.000000     213.000000\n",
              "75%         0.000000     452.000000\n",
              "max         1.000000   11172.000000"
            ],
            "text/html": [
              "\n",
              "  <div id=\"df-31322de0-c772-4d0c-9413-41559898f971\">\n",
              "    <div class=\"colab-df-container\">\n",
              "      <div>\n",
              "<style scoped>\n",
              "    .dataframe tbody tr th:only-of-type {\n",
              "        vertical-align: middle;\n",
              "    }\n",
              "\n",
              "    .dataframe tbody tr th {\n",
              "        vertical-align: top;\n",
              "    }\n",
              "\n",
              "    .dataframe thead th {\n",
              "        text-align: right;\n",
              "    }\n",
              "</style>\n",
              "<table border=\"1\" class=\"dataframe\">\n",
              "  <thead>\n",
              "    <tr style=\"text-align: right;\">\n",
              "      <th></th>\n",
              "      <th>toxic</th>\n",
              "      <th>length</th>\n",
              "    </tr>\n",
              "  </thead>\n",
              "  <tbody>\n",
              "    <tr>\n",
              "      <th>count</th>\n",
              "      <td>400000.000000</td>\n",
              "      <td>400000.000000</td>\n",
              "    </tr>\n",
              "    <tr>\n",
              "      <th>mean</th>\n",
              "      <td>0.095662</td>\n",
              "      <td>410.270960</td>\n",
              "    </tr>\n",
              "    <tr>\n",
              "      <th>std</th>\n",
              "      <td>0.294128</td>\n",
              "      <td>620.365583</td>\n",
              "    </tr>\n",
              "    <tr>\n",
              "      <th>min</th>\n",
              "      <td>0.000000</td>\n",
              "      <td>1.000000</td>\n",
              "    </tr>\n",
              "    <tr>\n",
              "      <th>25%</th>\n",
              "      <td>0.000000</td>\n",
              "      <td>98.000000</td>\n",
              "    </tr>\n",
              "    <tr>\n",
              "      <th>50%</th>\n",
              "      <td>0.000000</td>\n",
              "      <td>213.000000</td>\n",
              "    </tr>\n",
              "    <tr>\n",
              "      <th>75%</th>\n",
              "      <td>0.000000</td>\n",
              "      <td>452.000000</td>\n",
              "    </tr>\n",
              "    <tr>\n",
              "      <th>max</th>\n",
              "      <td>1.000000</td>\n",
              "      <td>11172.000000</td>\n",
              "    </tr>\n",
              "  </tbody>\n",
              "</table>\n",
              "</div>\n",
              "      <button class=\"colab-df-convert\" onclick=\"convertToInteractive('df-31322de0-c772-4d0c-9413-41559898f971')\"\n",
              "              title=\"Convert this dataframe to an interactive table.\"\n",
              "              style=\"display:none;\">\n",
              "        \n",
              "  <svg xmlns=\"http://www.w3.org/2000/svg\" height=\"24px\"viewBox=\"0 0 24 24\"\n",
              "       width=\"24px\">\n",
              "    <path d=\"M0 0h24v24H0V0z\" fill=\"none\"/>\n",
              "    <path d=\"M18.56 5.44l.94 2.06.94-2.06 2.06-.94-2.06-.94-.94-2.06-.94 2.06-2.06.94zm-11 1L8.5 8.5l.94-2.06 2.06-.94-2.06-.94L8.5 2.5l-.94 2.06-2.06.94zm10 10l.94 2.06.94-2.06 2.06-.94-2.06-.94-.94-2.06-.94 2.06-2.06.94z\"/><path d=\"M17.41 7.96l-1.37-1.37c-.4-.4-.92-.59-1.43-.59-.52 0-1.04.2-1.43.59L10.3 9.45l-7.72 7.72c-.78.78-.78 2.05 0 2.83L4 21.41c.39.39.9.59 1.41.59.51 0 1.02-.2 1.41-.59l7.78-7.78 2.81-2.81c.8-.78.8-2.07 0-2.86zM5.41 20L4 18.59l7.72-7.72 1.47 1.35L5.41 20z\"/>\n",
              "  </svg>\n",
              "      </button>\n",
              "      \n",
              "  <style>\n",
              "    .colab-df-container {\n",
              "      display:flex;\n",
              "      flex-wrap:wrap;\n",
              "      gap: 12px;\n",
              "    }\n",
              "\n",
              "    .colab-df-convert {\n",
              "      background-color: #E8F0FE;\n",
              "      border: none;\n",
              "      border-radius: 50%;\n",
              "      cursor: pointer;\n",
              "      display: none;\n",
              "      fill: #1967D2;\n",
              "      height: 32px;\n",
              "      padding: 0 0 0 0;\n",
              "      width: 32px;\n",
              "    }\n",
              "\n",
              "    .colab-df-convert:hover {\n",
              "      background-color: #E2EBFA;\n",
              "      box-shadow: 0px 1px 2px rgba(60, 64, 67, 0.3), 0px 1px 3px 1px rgba(60, 64, 67, 0.15);\n",
              "      fill: #174EA6;\n",
              "    }\n",
              "\n",
              "    [theme=dark] .colab-df-convert {\n",
              "      background-color: #3B4455;\n",
              "      fill: #D2E3FC;\n",
              "    }\n",
              "\n",
              "    [theme=dark] .colab-df-convert:hover {\n",
              "      background-color: #434B5C;\n",
              "      box-shadow: 0px 1px 3px 1px rgba(0, 0, 0, 0.15);\n",
              "      filter: drop-shadow(0px 1px 2px rgba(0, 0, 0, 0.3));\n",
              "      fill: #FFFFFF;\n",
              "    }\n",
              "  </style>\n",
              "\n",
              "      <script>\n",
              "        const buttonEl =\n",
              "          document.querySelector('#df-31322de0-c772-4d0c-9413-41559898f971 button.colab-df-convert');\n",
              "        buttonEl.style.display =\n",
              "          google.colab.kernel.accessAllowed ? 'block' : 'none';\n",
              "\n",
              "        async function convertToInteractive(key) {\n",
              "          const element = document.querySelector('#df-31322de0-c772-4d0c-9413-41559898f971');\n",
              "          const dataTable =\n",
              "            await google.colab.kernel.invokeFunction('convertToInteractive',\n",
              "                                                     [key], {});\n",
              "          if (!dataTable) return;\n",
              "\n",
              "          const docLinkHtml = 'Like what you see? Visit the ' +\n",
              "            '<a target=\"_blank\" href=https://colab.research.google.com/notebooks/data_table.ipynb>data table notebook</a>'\n",
              "            + ' to learn more about interactive tables.';\n",
              "          element.innerHTML = '';\n",
              "          dataTable['output_type'] = 'display_data';\n",
              "          await google.colab.output.renderOutput(dataTable, element);\n",
              "          const docLink = document.createElement('div');\n",
              "          docLink.innerHTML = docLinkHtml;\n",
              "          element.appendChild(docLink);\n",
              "        }\n",
              "      </script>\n",
              "    </div>\n",
              "  </div>\n",
              "  "
            ]
          },
          "metadata": {},
          "execution_count": 21
        }
      ]
    },
    {
      "cell_type": "code",
      "execution_count": null,
      "metadata": {
        "colab": {
          "base_uri": "https://localhost:8080/",
          "height": 441
        },
        "id": "akVjM865mo76",
        "outputId": "7e651401-ac0e-458d-b20b-4ca8d0852bd1"
      },
      "outputs": [
        {
          "output_type": "stream",
          "name": "stdout",
          "text": [
            "Mean comment length:  410.27096\n",
            "Min comment length:  1\n",
            "Max comment length:  11172\n"
          ]
        },
        {
          "output_type": "execute_result",
          "data": {
            "text/plain": [
              "<Axes: ylabel='Frequency'>"
            ]
          },
          "metadata": {},
          "execution_count": 22
        },
        {
          "output_type": "display_data",
          "data": {
            "text/plain": [
              "<Figure size 600x400 with 1 Axes>"
            ],
            "image/png": "[encoded data removed]"
          },
          "metadata": {}
        }
      ],
      "source": [
        "print(\"Mean comment length: \", train_df['length'].mean())\n",
        "print(\"Min comment length: \", train_df['length'].min())\n",
        "print(\"Max comment length: \", train_df['length'].max())\n",
        "plt.figure(figsize=(6,4))\n",
        "train_df.length.plot.hist(bins=35)"
      ]
    },
    {
      "cell_type": "markdown",
      "source": [
        "The vast majority of messages in the dataset have lengths below 500 symbols."
      ],
      "metadata": {
        "id": "fm-Y_AJn3Ozr"
      }
    },
    {
      "cell_type": "markdown",
      "metadata": {
        "id": "8-q_yaEIsVcx"
      },
      "source": [
        "Workaround: Loading previously saved clearned dataset:\n",
        "\n",
        "---\n",
        "\n"
      ]
    },
    {
      "cell_type": "code",
      "execution_count": null,
      "metadata": {
        "id": "mW7bRJ6JsoV4"
      },
      "outputs": [],
      "source": [
        "file_name = FILE_PATH + 'clearned_full_train_df.csv'"
      ]
    },
    {
      "cell_type": "code",
      "execution_count": null,
      "metadata": {
        "colab": {
          "base_uri": "https://localhost:8080/",
          "height": 206
        },
        "id": "hLxxW1VfrUzE",
        "outputId": "c62eda86-d49a-432a-cb01-cbac9fe3dc74"
      },
      "outputs": [
        {
          "output_type": "execute_result",
          "data": {
            "text/plain": [
              "                                        comment_text  toxic lang  length\n",
              "0  sugestão rfa com todo respeito prefiro não ret...      0   pt     555\n",
              "1                            sui sûr que est pa vrai      0   fr      37\n",
              "2  одна остающаяся проблема blp привет спасибо ус...      0   ru     186\n",
              "3  mudança significativa proponho fazer alteraçõ ...      0   pt     271\n",
              "4  verdad alguien debería agregar una sección sob...      0   es     113"
            ],
            "text/html": [
              "\n",
              "  <div id=\"df-3fc6f4a5-66e7-4b32-8685-6208483ebf76\">\n",
              "    <div class=\"colab-df-container\">\n",
              "      <div>\n",
              "<style scoped>\n",
              "    .dataframe tbody tr th:only-of-type {\n",
              "        vertical-align: middle;\n",
              "    }\n",
              "\n",
              "    .dataframe tbody tr th {\n",
              "        vertical-align: top;\n",
              "    }\n",
              "\n",
              "    .dataframe thead th {\n",
              "        text-align: right;\n",
              "    }\n",
              "</style>\n",
              "<table border=\"1\" class=\"dataframe\">\n",
              "  <thead>\n",
              "    <tr style=\"text-align: right;\">\n",
              "      <th></th>\n",
              "      <th>comment_text</th>\n",
              "      <th>toxic</th>\n",
              "      <th>lang</th>\n",
              "      <th>length</th>\n",
              "    </tr>\n",
              "  </thead>\n",
              "  <tbody>\n",
              "    <tr>\n",
              "      <th>0</th>\n",
              "      <td>sugestão rfa com todo respeito prefiro não ret...</td>\n",
              "      <td>0</td>\n",
              "      <td>pt</td>\n",
              "      <td>555</td>\n",
              "    </tr>\n",
              "    <tr>\n",
              "      <th>1</th>\n",
              "      <td>sui sûr que est pa vrai</td>\n",
              "      <td>0</td>\n",
              "      <td>fr</td>\n",
              "      <td>37</td>\n",
              "    </tr>\n",
              "    <tr>\n",
              "      <th>2</th>\n",
              "      <td>одна остающаяся проблема blp привет спасибо ус...</td>\n",
              "      <td>0</td>\n",
              "      <td>ru</td>\n",
              "      <td>186</td>\n",
              "    </tr>\n",
              "    <tr>\n",
              "      <th>3</th>\n",
              "      <td>mudança significativa proponho fazer alteraçõ ...</td>\n",
              "      <td>0</td>\n",
              "      <td>pt</td>\n",
              "      <td>271</td>\n",
              "    </tr>\n",
              "    <tr>\n",
              "      <th>4</th>\n",
              "      <td>verdad alguien debería agregar una sección sob...</td>\n",
              "      <td>0</td>\n",
              "      <td>es</td>\n",
              "      <td>113</td>\n",
              "    </tr>\n",
              "  </tbody>\n",
              "</table>\n",
              "</div>\n",
              "      <button class=\"colab-df-convert\" onclick=\"convertToInteractive('df-3fc6f4a5-66e7-4b32-8685-6208483ebf76')\"\n",
              "              title=\"Convert this dataframe to an interactive table.\"\n",
              "              style=\"display:none;\">\n",
              "        \n",
              "  <svg xmlns=\"http://www.w3.org/2000/svg\" height=\"24px\"viewBox=\"0 0 24 24\"\n",
              "       width=\"24px\">\n",
              "    <path d=\"M0 0h24v24H0V0z\" fill=\"none\"/>\n",
              "    <path d=\"M18.56 5.44l.94 2.06.94-2.06 2.06-.94-2.06-.94-.94-2.06-.94 2.06-2.06.94zm-11 1L8.5 8.5l.94-2.06 2.06-.94-2.06-.94L8.5 2.5l-.94 2.06-2.06.94zm10 10l.94 2.06.94-2.06 2.06-.94-2.06-.94-.94-2.06-.94 2.06-2.06.94z\"/><path d=\"M17.41 7.96l-1.37-1.37c-.4-.4-.92-.59-1.43-.59-.52 0-1.04.2-1.43.59L10.3 9.45l-7.72 7.72c-.78.78-.78 2.05 0 2.83L4 21.41c.39.39.9.59 1.41.59.51 0 1.02-.2 1.41-.59l7.78-7.78 2.81-2.81c.8-.78.8-2.07 0-2.86zM5.41 20L4 18.59l7.72-7.72 1.47 1.35L5.41 20z\"/>\n",
              "  </svg>\n",
              "      </button>\n",
              "      \n",
              "  <style>\n",
              "    .colab-df-container {\n",
              "      display:flex;\n",
              "      flex-wrap:wrap;\n",
              "      gap: 12px;\n",
              "    }\n",
              "\n",
              "    .colab-df-convert {\n",
              "      background-color: #E8F0FE;\n",
              "      border: none;\n",
              "      border-radius: 50%;\n",
              "      cursor: pointer;\n",
              "      display: none;\n",
              "      fill: #1967D2;\n",
              "      height: 32px;\n",
              "      padding: 0 0 0 0;\n",
              "      width: 32px;\n",
              "    }\n",
              "\n",
              "    .colab-df-convert:hover {\n",
              "      background-color: #E2EBFA;\n",
              "      box-shadow: 0px 1px 2px rgba(60, 64, 67, 0.3), 0px 1px 3px 1px rgba(60, 64, 67, 0.15);\n",
              "      fill: #174EA6;\n",
              "    }\n",
              "\n",
              "    [theme=dark] .colab-df-convert {\n",
              "      background-color: #3B4455;\n",
              "      fill: #D2E3FC;\n",
              "    }\n",
              "\n",
              "    [theme=dark] .colab-df-convert:hover {\n",
              "      background-color: #434B5C;\n",
              "      box-shadow: 0px 1px 3px 1px rgba(0, 0, 0, 0.15);\n",
              "      filter: drop-shadow(0px 1px 2px rgba(0, 0, 0, 0.3));\n",
              "      fill: #FFFFFF;\n",
              "    }\n",
              "  </style>\n",
              "\n",
              "      <script>\n",
              "        const buttonEl =\n",
              "          document.querySelector('#df-3fc6f4a5-66e7-4b32-8685-6208483ebf76 button.colab-df-convert');\n",
              "        buttonEl.style.display =\n",
              "          google.colab.kernel.accessAllowed ? 'block' : 'none';\n",
              "\n",
              "        async function convertToInteractive(key) {\n",
              "          const element = document.querySelector('#df-3fc6f4a5-66e7-4b32-8685-6208483ebf76');\n",
              "          const dataTable =\n",
              "            await google.colab.kernel.invokeFunction('convertToInteractive',\n",
              "                                                     [key], {});\n",
              "          if (!dataTable) return;\n",
              "\n",
              "          const docLinkHtml = 'Like what you see? Visit the ' +\n",
              "            '<a target=\"_blank\" href=https://colab.research.google.com/notebooks/data_table.ipynb>data table notebook</a>'\n",
              "            + ' to learn more about interactive tables.';\n",
              "          element.innerHTML = '';\n",
              "          dataTable['output_type'] = 'display_data';\n",
              "          await google.colab.output.renderOutput(dataTable, element);\n",
              "          const docLink = document.createElement('div');\n",
              "          docLink.innerHTML = docLinkHtml;\n",
              "          element.appendChild(docLink);\n",
              "        }\n",
              "      </script>\n",
              "    </div>\n",
              "  </div>\n",
              "  "
            ]
          },
          "metadata": {},
          "execution_count": 24
        }
      ],
      "source": [
        "train_df = pd.read_csv(file_name, sep='\\t', index_col=0)\n",
        "train_df.head()"
      ]
    },
    {
      "cell_type": "code",
      "source": [
        "val_df = pd.read_csv(FILE_PATH + '/validation.csv')\n",
        "val_df['comment_text'].fillna(\"unknown\", inplace=True)\n",
        "val_df[\"comment_text\"] = val_df[\"comment_text\"].apply(clean_text)\n",
        "val_df.head()"
      ],
      "metadata": {
        "colab": {
          "base_uri": "https://localhost:8080/",
          "height": 206
        },
        "id": "IGI8acdT_pRv",
        "outputId": "52a52751-73c1-4bd4-8781-2856c8659f42"
      },
      "execution_count": null,
      "outputs": [
        {
          "output_type": "execute_result",
          "data": {
            "text/plain": [
              "   id                                       comment_text lang  toxic\n",
              "0   0  est usuario siquiera llega rango herej por tan...   es      0\n",
              "1   1  testo questa voce pare esser scopiazzato diret...   it      0\n",
              "2   2  vale sólo expongo pasado todo tiempo pasado fu...   es      1\n",
              "3   3  maddenin alt başlığı olarak uluslararası ilişk...   tr      0\n",
              "4   4  belçika nın şehirlerinin yanında ilç beldeleri...   tr      0"
            ],
            "text/html": [
              "\n",
              "  <div id=\"df-1946e4c8-69f6-43bb-ac45-b96495d73741\">\n",
              "    <div class=\"colab-df-container\">\n",
              "      <div>\n",
              "<style scoped>\n",
              "    .dataframe tbody tr th:only-of-type {\n",
              "        vertical-align: middle;\n",
              "    }\n",
              "\n",
              "    .dataframe tbody tr th {\n",
              "        vertical-align: top;\n",
              "    }\n",
              "\n",
              "    .dataframe thead th {\n",
              "        text-align: right;\n",
              "    }\n",
              "</style>\n",
              "<table border=\"1\" class=\"dataframe\">\n",
              "  <thead>\n",
              "    <tr style=\"text-align: right;\">\n",
              "      <th></th>\n",
              "      <th>id</th>\n",
              "      <th>comment_text</th>\n",
              "      <th>lang</th>\n",
              "      <th>toxic</th>\n",
              "    </tr>\n",
              "  </thead>\n",
              "  <tbody>\n",
              "    <tr>\n",
              "      <th>0</th>\n",
              "      <td>0</td>\n",
              "      <td>est usuario siquiera llega rango herej por tan...</td>\n",
              "      <td>es</td>\n",
              "      <td>0</td>\n",
              "    </tr>\n",
              "    <tr>\n",
              "      <th>1</th>\n",
              "      <td>1</td>\n",
              "      <td>testo questa voce pare esser scopiazzato diret...</td>\n",
              "      <td>it</td>\n",
              "      <td>0</td>\n",
              "    </tr>\n",
              "    <tr>\n",
              "      <th>2</th>\n",
              "      <td>2</td>\n",
              "      <td>vale sólo expongo pasado todo tiempo pasado fu...</td>\n",
              "      <td>es</td>\n",
              "      <td>1</td>\n",
              "    </tr>\n",
              "    <tr>\n",
              "      <th>3</th>\n",
              "      <td>3</td>\n",
              "      <td>maddenin alt başlığı olarak uluslararası ilişk...</td>\n",
              "      <td>tr</td>\n",
              "      <td>0</td>\n",
              "    </tr>\n",
              "    <tr>\n",
              "      <th>4</th>\n",
              "      <td>4</td>\n",
              "      <td>belçika nın şehirlerinin yanında ilç beldeleri...</td>\n",
              "      <td>tr</td>\n",
              "      <td>0</td>\n",
              "    </tr>\n",
              "  </tbody>\n",
              "</table>\n",
              "</div>\n",
              "      <button class=\"colab-df-convert\" onclick=\"convertToInteractive('df-1946e4c8-69f6-43bb-ac45-b96495d73741')\"\n",
              "              title=\"Convert this dataframe to an interactive table.\"\n",
              "              style=\"display:none;\">\n",
              "        \n",
              "  <svg xmlns=\"http://www.w3.org/2000/svg\" height=\"24px\"viewBox=\"0 0 24 24\"\n",
              "       width=\"24px\">\n",
              "    <path d=\"M0 0h24v24H0V0z\" fill=\"none\"/>\n",
              "    <path d=\"M18.56 5.44l.94 2.06.94-2.06 2.06-.94-2.06-.94-.94-2.06-.94 2.06-2.06.94zm-11 1L8.5 8.5l.94-2.06 2.06-.94-2.06-.94L8.5 2.5l-.94 2.06-2.06.94zm10 10l.94 2.06.94-2.06 2.06-.94-2.06-.94-.94-2.06-.94 2.06-2.06.94z\"/><path d=\"M17.41 7.96l-1.37-1.37c-.4-.4-.92-.59-1.43-.59-.52 0-1.04.2-1.43.59L10.3 9.45l-7.72 7.72c-.78.78-.78 2.05 0 2.83L4 21.41c.39.39.9.59 1.41.59.51 0 1.02-.2 1.41-.59l7.78-7.78 2.81-2.81c.8-.78.8-2.07 0-2.86zM5.41 20L4 18.59l7.72-7.72 1.47 1.35L5.41 20z\"/>\n",
              "  </svg>\n",
              "      </button>\n",
              "      \n",
              "  <style>\n",
              "    .colab-df-container {\n",
              "      display:flex;\n",
              "      flex-wrap:wrap;\n",
              "      gap: 12px;\n",
              "    }\n",
              "\n",
              "    .colab-df-convert {\n",
              "      background-color: #E8F0FE;\n",
              "      border: none;\n",
              "      border-radius: 50%;\n",
              "      cursor: pointer;\n",
              "      display: none;\n",
              "      fill: #1967D2;\n",
              "      height: 32px;\n",
              "      padding: 0 0 0 0;\n",
              "      width: 32px;\n",
              "    }\n",
              "\n",
              "    .colab-df-convert:hover {\n",
              "      background-color: #E2EBFA;\n",
              "      box-shadow: 0px 1px 2px rgba(60, 64, 67, 0.3), 0px 1px 3px 1px rgba(60, 64, 67, 0.15);\n",
              "      fill: #174EA6;\n",
              "    }\n",
              "\n",
              "    [theme=dark] .colab-df-convert {\n",
              "      background-color: #3B4455;\n",
              "      fill: #D2E3FC;\n",
              "    }\n",
              "\n",
              "    [theme=dark] .colab-df-convert:hover {\n",
              "      background-color: #434B5C;\n",
              "      box-shadow: 0px 1px 3px 1px rgba(0, 0, 0, 0.15);\n",
              "      filter: drop-shadow(0px 1px 2px rgba(0, 0, 0, 0.3));\n",
              "      fill: #FFFFFF;\n",
              "    }\n",
              "  </style>\n",
              "\n",
              "      <script>\n",
              "        const buttonEl =\n",
              "          document.querySelector('#df-1946e4c8-69f6-43bb-ac45-b96495d73741 button.colab-df-convert');\n",
              "        buttonEl.style.display =\n",
              "          google.colab.kernel.accessAllowed ? 'block' : 'none';\n",
              "\n",
              "        async function convertToInteractive(key) {\n",
              "          const element = document.querySelector('#df-1946e4c8-69f6-43bb-ac45-b96495d73741');\n",
              "          const dataTable =\n",
              "            await google.colab.kernel.invokeFunction('convertToInteractive',\n",
              "                                                     [key], {});\n",
              "          if (!dataTable) return;\n",
              "\n",
              "          const docLinkHtml = 'Like what you see? Visit the ' +\n",
              "            '<a target=\"_blank\" href=https://colab.research.google.com/notebooks/data_table.ipynb>data table notebook</a>'\n",
              "            + ' to learn more about interactive tables.';\n",
              "          element.innerHTML = '';\n",
              "          dataTable['output_type'] = 'display_data';\n",
              "          await google.colab.output.renderOutput(dataTable, element);\n",
              "          const docLink = document.createElement('div');\n",
              "          docLink.innerHTML = docLinkHtml;\n",
              "          element.appendChild(docLink);\n",
              "        }\n",
              "      </script>\n",
              "    </div>\n",
              "  </div>\n",
              "  "
            ]
          },
          "metadata": {},
          "execution_count": 25
        }
      ]
    },
    {
      "cell_type": "markdown",
      "source": [
        "Clearning from NaN rows:"
      ],
      "metadata": {
        "id": "p81c8ioR5fby"
      }
    },
    {
      "cell_type": "code",
      "execution_count": null,
      "metadata": {
        "colab": {
          "base_uri": "https://localhost:8080/"
        },
        "id": "2KQlEVUy2Dw2",
        "outputId": "b7bdec4a-d1a1-4f90-c5bf-d4f16ba47231"
      },
      "outputs": [
        {
          "output_type": "execute_result",
          "data": {
            "text/plain": [
              "213"
            ]
          },
          "metadata": {},
          "execution_count": 26
        }
      ],
      "source": [
        "train_df['comment_text'].isna().sum()"
      ]
    },
    {
      "cell_type": "code",
      "execution_count": null,
      "metadata": {
        "id": "_4AorxuJc6Rs"
      },
      "outputs": [],
      "source": [
        "train_df=train_df.dropna(axis=0)"
      ]
    },
    {
      "cell_type": "markdown",
      "metadata": {
        "id": "etM4pFsq1pC3"
      },
      "source": [
        "!!!!!!!!! No need to run if clearned dataframe provided"
      ]
    },
    {
      "cell_type": "markdown",
      "source": [
        "Preprocessing the dataset (lowercase, clearning from tags, punctuation signs, stopwords, numbers, etc.) :"
      ],
      "metadata": {
        "id": "YWZ_7HXj50rX"
      }
    },
    {
      "cell_type": "code",
      "execution_count": null,
      "metadata": {
        "id": "1mKIhbINoaTM"
      },
      "outputs": [],
      "source": [
        "#clean the text first\n",
        "train_df['comment_text'].fillna(\"unknown\", inplace=True)\n",
        "train_df[\"comment_text\"] = train_df[\"comment_text\"].apply(clean_text)"
      ]
    },
    {
      "cell_type": "markdown",
      "metadata": {
        "id": "EhxKcEpRsqfz"
      },
      "source": [
        "Saving the cleared dataframe:"
      ]
    },
    {
      "cell_type": "code",
      "execution_count": null,
      "metadata": {
        "id": "Lvckw2XErB90"
      },
      "outputs": [],
      "source": [
        "train_df.to_csv(file_name, sep='\\t')"
      ]
    },
    {
      "cell_type": "markdown",
      "metadata": {
        "id": "bGpzyMUCu1_x"
      },
      "source": [
        "#### ------------ End of workaround ------------"
      ]
    },
    {
      "cell_type": "markdown",
      "source": [
        "Initially, there was an idea to process different languages independently but later I understood that it is not the case."
      ],
      "metadata": {
        "id": "inLrcCuM6Ytz"
      }
    },
    {
      "cell_type": "code",
      "execution_count": null,
      "metadata": {
        "id": "ornlooMPpT-w"
      },
      "outputs": [],
      "source": [
        "eng_comments = train_df[train_df['lang']=='en']"
      ]
    },
    {
      "cell_type": "code",
      "execution_count": null,
      "metadata": {
        "colab": {
          "base_uri": "https://localhost:8080/",
          "height": 423
        },
        "id": "nLke9D--0NdG",
        "outputId": "8e7f8e01-1796-4992-ca5e-5279fcf8e573"
      },
      "outputs": [
        {
          "data": {
            "text/html": [
              "\n",
              "  <div id=\"df-cb4fa42c-dfc4-40ea-9283-57326d8bae34\">\n",
              "    <div class=\"colab-df-container\">\n",
              "      <div>\n",
              "<style scoped>\n",
              "    .dataframe tbody tr th:only-of-type {\n",
              "        vertical-align: middle;\n",
              "    }\n",
              "\n",
              "    .dataframe tbody tr th {\n",
              "        vertical-align: top;\n",
              "    }\n",
              "\n",
              "    .dataframe thead th {\n",
              "        text-align: right;\n",
              "    }\n",
              "</style>\n",
              "<table border=\"1\" class=\"dataframe\">\n",
              "  <thead>\n",
              "    <tr style=\"text-align: right;\">\n",
              "      <th></th>\n",
              "      <th>comment_text</th>\n",
              "      <th>toxic</th>\n",
              "      <th>lang</th>\n",
              "      <th>length</th>\n",
              "    </tr>\n",
              "  </thead>\n",
              "  <tbody>\n",
              "    <tr>\n",
              "      <th>14</th>\n",
              "      <td>link brookwood cemeteri ad link mini site site...</td>\n",
              "      <td>0</td>\n",
              "      <td>en</td>\n",
              "      <td>720</td>\n",
              "    </tr>\n",
              "    <tr>\n",
              "      <th>17</th>\n",
              "      <td>luv fuck cocain bitch</td>\n",
              "      <td>1</td>\n",
              "      <td>en</td>\n",
              "      <td>29</td>\n",
              "    </tr>\n",
              "    <tr>\n",
              "      <th>29</th>\n",
              "      <td>bless algeria stink racism hate spanglej expla...</td>\n",
              "      <td>0</td>\n",
              "      <td>en</td>\n",
              "      <td>740</td>\n",
              "    </tr>\n",
              "    <tr>\n",
              "      <th>33</th>\n",
              "      <td>exampl dynasti end kings—tutankhamun ay horemh...</td>\n",
              "      <td>0</td>\n",
              "      <td>en</td>\n",
              "      <td>510</td>\n",
              "    </tr>\n",
              "    <tr>\n",
              "      <th>38</th>\n",
              "      <td>factual low educ standard high level crime soc...</td>\n",
              "      <td>0</td>\n",
              "      <td>en</td>\n",
              "      <td>174</td>\n",
              "    </tr>\n",
              "    <tr>\n",
              "      <th>...</th>\n",
              "      <td>...</td>\n",
              "      <td>...</td>\n",
              "      <td>...</td>\n",
              "      <td>...</td>\n",
              "    </tr>\n",
              "    <tr>\n",
              "      <th>399969</th>\n",
              "      <td>revert recent offici countri origin info infob...</td>\n",
              "      <td>0</td>\n",
              "      <td>en</td>\n",
              "      <td>580</td>\n",
              "    </tr>\n",
              "    <tr>\n",
              "      <th>399987</th>\n",
              "      <td>oba chandler think articl reach level statu qu...</td>\n",
              "      <td>0</td>\n",
              "      <td>en</td>\n",
              "      <td>237</td>\n",
              "    </tr>\n",
              "    <tr>\n",
              "      <th>399990</th>\n",
              "      <td>revert biscuit articl</td>\n",
              "      <td>0</td>\n",
              "      <td>en</td>\n",
              "      <td>39</td>\n",
              "    </tr>\n",
              "    <tr>\n",
              "      <th>399991</th>\n",
              "      <td>wikipedia extend imag syntax</td>\n",
              "      <td>0</td>\n",
              "      <td>en</td>\n",
              "      <td>32</td>\n",
              "    </tr>\n",
              "    <tr>\n",
              "      <th>399998</th>\n",
              "      <td>point editor particip discuss gone thousand wo...</td>\n",
              "      <td>0</td>\n",
              "      <td>en</td>\n",
              "      <td>543</td>\n",
              "    </tr>\n",
              "  </tbody>\n",
              "</table>\n",
              "<p>56844 rows × 4 columns</p>\n",
              "</div>\n",
              "      <button class=\"colab-df-convert\" onclick=\"convertToInteractive('df-cb4fa42c-dfc4-40ea-9283-57326d8bae34')\"\n",
              "              title=\"Convert this dataframe to an interactive table.\"\n",
              "              style=\"display:none;\">\n",
              "        \n",
              "  <svg xmlns=\"http://www.w3.org/2000/svg\" height=\"24px\"viewBox=\"0 0 24 24\"\n",
              "       width=\"24px\">\n",
              "    <path d=\"M0 0h24v24H0V0z\" fill=\"none\"/>\n",
              "    <path d=\"M18.56 5.44l.94 2.06.94-2.06 2.06-.94-2.06-.94-.94-2.06-.94 2.06-2.06.94zm-11 1L8.5 8.5l.94-2.06 2.06-.94-2.06-.94L8.5 2.5l-.94 2.06-2.06.94zm10 10l.94 2.06.94-2.06 2.06-.94-2.06-.94-.94-2.06-.94 2.06-2.06.94z\"/><path d=\"M17.41 7.96l-1.37-1.37c-.4-.4-.92-.59-1.43-.59-.52 0-1.04.2-1.43.59L10.3 9.45l-7.72 7.72c-.78.78-.78 2.05 0 2.83L4 21.41c.39.39.9.59 1.41.59.51 0 1.02-.2 1.41-.59l7.78-7.78 2.81-2.81c.8-.78.8-2.07 0-2.86zM5.41 20L4 18.59l7.72-7.72 1.47 1.35L5.41 20z\"/>\n",
              "  </svg>\n",
              "      </button>\n",
              "      \n",
              "  <style>\n",
              "    .colab-df-container {\n",
              "      display:flex;\n",
              "      flex-wrap:wrap;\n",
              "      gap: 12px;\n",
              "    }\n",
              "\n",
              "    .colab-df-convert {\n",
              "      background-color: #E8F0FE;\n",
              "      border: none;\n",
              "      border-radius: 50%;\n",
              "      cursor: pointer;\n",
              "      display: none;\n",
              "      fill: #1967D2;\n",
              "      height: 32px;\n",
              "      padding: 0 0 0 0;\n",
              "      width: 32px;\n",
              "    }\n",
              "\n",
              "    .colab-df-convert:hover {\n",
              "      background-color: #E2EBFA;\n",
              "      box-shadow: 0px 1px 2px rgba(60, 64, 67, 0.3), 0px 1px 3px 1px rgba(60, 64, 67, 0.15);\n",
              "      fill: #174EA6;\n",
              "    }\n",
              "\n",
              "    [theme=dark] .colab-df-convert {\n",
              "      background-color: #3B4455;\n",
              "      fill: #D2E3FC;\n",
              "    }\n",
              "\n",
              "    [theme=dark] .colab-df-convert:hover {\n",
              "      background-color: #434B5C;\n",
              "      box-shadow: 0px 1px 3px 1px rgba(0, 0, 0, 0.15);\n",
              "      filter: drop-shadow(0px 1px 2px rgba(0, 0, 0, 0.3));\n",
              "      fill: #FFFFFF;\n",
              "    }\n",
              "  </style>\n",
              "\n",
              "      <script>\n",
              "        const buttonEl =\n",
              "          document.querySelector('#df-cb4fa42c-dfc4-40ea-9283-57326d8bae34 button.colab-df-convert');\n",
              "        buttonEl.style.display =\n",
              "          google.colab.kernel.accessAllowed ? 'block' : 'none';\n",
              "\n",
              "        async function convertToInteractive(key) {\n",
              "          const element = document.querySelector('#df-cb4fa42c-dfc4-40ea-9283-57326d8bae34');\n",
              "          const dataTable =\n",
              "            await google.colab.kernel.invokeFunction('convertToInteractive',\n",
              "                                                     [key], {});\n",
              "          if (!dataTable) return;\n",
              "\n",
              "          const docLinkHtml = 'Like what you see? Visit the ' +\n",
              "            '<a target=\"_blank\" href=https://colab.research.google.com/notebooks/data_table.ipynb>data table notebook</a>'\n",
              "            + ' to learn more about interactive tables.';\n",
              "          element.innerHTML = '';\n",
              "          dataTable['output_type'] = 'display_data';\n",
              "          await google.colab.output.renderOutput(dataTable, element);\n",
              "          const docLink = document.createElement('div');\n",
              "          docLink.innerHTML = docLinkHtml;\n",
              "          element.appendChild(docLink);\n",
              "        }\n",
              "      </script>\n",
              "    </div>\n",
              "  </div>\n",
              "  "
            ],
            "text/plain": [
              "                                             comment_text  toxic lang  length\n",
              "14      link brookwood cemeteri ad link mini site site...      0   en     720\n",
              "17                                  luv fuck cocain bitch      1   en      29\n",
              "29      bless algeria stink racism hate spanglej expla...      0   en     740\n",
              "33      exampl dynasti end kings—tutankhamun ay horemh...      0   en     510\n",
              "38      factual low educ standard high level crime soc...      0   en     174\n",
              "...                                                   ...    ...  ...     ...\n",
              "399969  revert recent offici countri origin info infob...      0   en     580\n",
              "399987  oba chandler think articl reach level statu qu...      0   en     237\n",
              "399990                              revert biscuit articl      0   en      39\n",
              "399991                       wikipedia extend imag syntax      0   en      32\n",
              "399998  point editor particip discuss gone thousand wo...      0   en     543\n",
              "\n",
              "[56844 rows x 4 columns]"
            ]
          },
          "execution_count": 23,
          "metadata": {},
          "output_type": "execute_result"
        }
      ],
      "source": [
        "eng_comments"
      ]
    },
    {
      "cell_type": "code",
      "execution_count": null,
      "metadata": {
        "colab": {
          "base_uri": "https://localhost:8080/",
          "height": 423
        },
        "id": "adflN6YQpyfH",
        "outputId": "2ea5c3a9-9d6d-47b7-e578-d5359cc8e4cc"
      },
      "outputs": [
        {
          "data": {
            "text/html": [
              "\n",
              "  <div id=\"df-fee06aa8-3876-4002-b0eb-1e01bb84f292\">\n",
              "    <div class=\"colab-df-container\">\n",
              "      <div>\n",
              "<style scoped>\n",
              "    .dataframe tbody tr th:only-of-type {\n",
              "        vertical-align: middle;\n",
              "    }\n",
              "\n",
              "    .dataframe tbody tr th {\n",
              "        vertical-align: top;\n",
              "    }\n",
              "\n",
              "    .dataframe thead th {\n",
              "        text-align: right;\n",
              "    }\n",
              "</style>\n",
              "<table border=\"1\" class=\"dataframe\">\n",
              "  <thead>\n",
              "    <tr style=\"text-align: right;\">\n",
              "      <th></th>\n",
              "      <th>comment_text</th>\n",
              "      <th>toxic</th>\n",
              "      <th>lang</th>\n",
              "      <th>length</th>\n",
              "    </tr>\n",
              "  </thead>\n",
              "  <tbody>\n",
              "    <tr>\n",
              "      <th>2</th>\n",
              "      <td>одна остающаяся проблема blp привет спасибо ус...</td>\n",
              "      <td>0</td>\n",
              "      <td>ru</td>\n",
              "      <td>186</td>\n",
              "    </tr>\n",
              "    <tr>\n",
              "      <th>35</th>\n",
              "      <td>жесткий сигмоидоскоп обычно имеет диаметр мене...</td>\n",
              "      <td>0</td>\n",
              "      <td>ru</td>\n",
              "      <td>222</td>\n",
              "    </tr>\n",
              "    <tr>\n",
              "      <th>36</th>\n",
              "      <td>хватит возвращаться когда собственном названии...</td>\n",
              "      <td>0</td>\n",
              "      <td>ru</td>\n",
              "      <td>633</td>\n",
              "    </tr>\n",
              "    <tr>\n",
              "      <th>47</th>\n",
              "      <td>это нонсенс конечно даже сегодня орадя искусст...</td>\n",
              "      <td>0</td>\n",
              "      <td>ru</td>\n",
              "      <td>164</td>\n",
              "    </tr>\n",
              "    <tr>\n",
              "      <th>56</th>\n",
              "      <td>джон холмс пенис джона холмса был дюймов что е...</td>\n",
              "      <td>1</td>\n",
              "      <td>ru</td>\n",
              "      <td>120</td>\n",
              "    </tr>\n",
              "    <tr>\n",
              "      <th>...</th>\n",
              "      <td>...</td>\n",
              "      <td>...</td>\n",
              "      <td>...</td>\n",
              "      <td>...</td>\n",
              "    </tr>\n",
              "    <tr>\n",
              "      <th>399950</th>\n",
              "      <td>переместил список сюда добавил тег так почему ...</td>\n",
              "      <td>0</td>\n",
              "      <td>ru</td>\n",
              "      <td>71</td>\n",
              "    </tr>\n",
              "    <tr>\n",
              "      <th>399967</th>\n",
              "      <td>недавно заново создали статью «джош ханер» кот...</td>\n",
              "      <td>0</td>\n",
              "      <td>ru</td>\n",
              "      <td>239</td>\n",
              "    </tr>\n",
              "    <tr>\n",
              "      <th>399968</th>\n",
              "      <td>давайте держать это talk книги хроник тогда ка...</td>\n",
              "      <td>0</td>\n",
              "      <td>ru</td>\n",
              "      <td>79</td>\n",
              "    </tr>\n",
              "    <tr>\n",
              "      <th>399970</th>\n",
              "      <td>ассирийская статья почему это изменил</td>\n",
              "      <td>0</td>\n",
              "      <td>ru</td>\n",
              "      <td>42</td>\n",
              "    </tr>\n",
              "    <tr>\n",
              "      <th>399997</th>\n",
              "      <td>эдвард каллен умственно отсталый урод</td>\n",
              "      <td>0</td>\n",
              "      <td>ru</td>\n",
              "      <td>39</td>\n",
              "    </tr>\n",
              "  </tbody>\n",
              "</table>\n",
              "<p>56990 rows × 4 columns</p>\n",
              "</div>\n",
              "      <button class=\"colab-df-convert\" onclick=\"convertToInteractive('df-fee06aa8-3876-4002-b0eb-1e01bb84f292')\"\n",
              "              title=\"Convert this dataframe to an interactive table.\"\n",
              "              style=\"display:none;\">\n",
              "        \n",
              "  <svg xmlns=\"http://www.w3.org/2000/svg\" height=\"24px\"viewBox=\"0 0 24 24\"\n",
              "       width=\"24px\">\n",
              "    <path d=\"M0 0h24v24H0V0z\" fill=\"none\"/>\n",
              "    <path d=\"M18.56 5.44l.94 2.06.94-2.06 2.06-.94-2.06-.94-.94-2.06-.94 2.06-2.06.94zm-11 1L8.5 8.5l.94-2.06 2.06-.94-2.06-.94L8.5 2.5l-.94 2.06-2.06.94zm10 10l.94 2.06.94-2.06 2.06-.94-2.06-.94-.94-2.06-.94 2.06-2.06.94z\"/><path d=\"M17.41 7.96l-1.37-1.37c-.4-.4-.92-.59-1.43-.59-.52 0-1.04.2-1.43.59L10.3 9.45l-7.72 7.72c-.78.78-.78 2.05 0 2.83L4 21.41c.39.39.9.59 1.41.59.51 0 1.02-.2 1.41-.59l7.78-7.78 2.81-2.81c.8-.78.8-2.07 0-2.86zM5.41 20L4 18.59l7.72-7.72 1.47 1.35L5.41 20z\"/>\n",
              "  </svg>\n",
              "      </button>\n",
              "      \n",
              "  <style>\n",
              "    .colab-df-container {\n",
              "      display:flex;\n",
              "      flex-wrap:wrap;\n",
              "      gap: 12px;\n",
              "    }\n",
              "\n",
              "    .colab-df-convert {\n",
              "      background-color: #E8F0FE;\n",
              "      border: none;\n",
              "      border-radius: 50%;\n",
              "      cursor: pointer;\n",
              "      display: none;\n",
              "      fill: #1967D2;\n",
              "      height: 32px;\n",
              "      padding: 0 0 0 0;\n",
              "      width: 32px;\n",
              "    }\n",
              "\n",
              "    .colab-df-convert:hover {\n",
              "      background-color: #E2EBFA;\n",
              "      box-shadow: 0px 1px 2px rgba(60, 64, 67, 0.3), 0px 1px 3px 1px rgba(60, 64, 67, 0.15);\n",
              "      fill: #174EA6;\n",
              "    }\n",
              "\n",
              "    [theme=dark] .colab-df-convert {\n",
              "      background-color: #3B4455;\n",
              "      fill: #D2E3FC;\n",
              "    }\n",
              "\n",
              "    [theme=dark] .colab-df-convert:hover {\n",
              "      background-color: #434B5C;\n",
              "      box-shadow: 0px 1px 3px 1px rgba(0, 0, 0, 0.15);\n",
              "      filter: drop-shadow(0px 1px 2px rgba(0, 0, 0, 0.3));\n",
              "      fill: #FFFFFF;\n",
              "    }\n",
              "  </style>\n",
              "\n",
              "      <script>\n",
              "        const buttonEl =\n",
              "          document.querySelector('#df-fee06aa8-3876-4002-b0eb-1e01bb84f292 button.colab-df-convert');\n",
              "        buttonEl.style.display =\n",
              "          google.colab.kernel.accessAllowed ? 'block' : 'none';\n",
              "\n",
              "        async function convertToInteractive(key) {\n",
              "          const element = document.querySelector('#df-fee06aa8-3876-4002-b0eb-1e01bb84f292');\n",
              "          const dataTable =\n",
              "            await google.colab.kernel.invokeFunction('convertToInteractive',\n",
              "                                                     [key], {});\n",
              "          if (!dataTable) return;\n",
              "\n",
              "          const docLinkHtml = 'Like what you see? Visit the ' +\n",
              "            '<a target=\"_blank\" href=https://colab.research.google.com/notebooks/data_table.ipynb>data table notebook</a>'\n",
              "            + ' to learn more about interactive tables.';\n",
              "          element.innerHTML = '';\n",
              "          dataTable['output_type'] = 'display_data';\n",
              "          await google.colab.output.renderOutput(dataTable, element);\n",
              "          const docLink = document.createElement('div');\n",
              "          docLink.innerHTML = docLinkHtml;\n",
              "          element.appendChild(docLink);\n",
              "        }\n",
              "      </script>\n",
              "    </div>\n",
              "  </div>\n",
              "  "
            ],
            "text/plain": [
              "                                             comment_text  toxic lang  length\n",
              "2       одна остающаяся проблема blp привет спасибо ус...      0   ru     186\n",
              "35      жесткий сигмоидоскоп обычно имеет диаметр мене...      0   ru     222\n",
              "36      хватит возвращаться когда собственном названии...      0   ru     633\n",
              "47      это нонсенс конечно даже сегодня орадя искусст...      0   ru     164\n",
              "56      джон холмс пенис джона холмса был дюймов что е...      1   ru     120\n",
              "...                                                   ...    ...  ...     ...\n",
              "399950  переместил список сюда добавил тег так почему ...      0   ru      71\n",
              "399967  недавно заново создали статью «джош ханер» кот...      0   ru     239\n",
              "399968  давайте держать это talk книги хроник тогда ка...      0   ru      79\n",
              "399970              ассирийская статья почему это изменил      0   ru      42\n",
              "399997              эдвард каллен умственно отсталый урод      0   ru      39\n",
              "\n",
              "[56990 rows x 4 columns]"
            ]
          },
          "execution_count": 32,
          "metadata": {},
          "output_type": "execute_result"
        }
      ],
      "source": [
        "train_df[train_df['lang']=='ru']"
      ]
    },
    {
      "cell_type": "code",
      "execution_count": null,
      "metadata": {
        "colab": {
          "base_uri": "https://localhost:8080/"
        },
        "id": "rGZAcYAozKbn",
        "outputId": "3f9ef975-1af8-4412-ecad-501422552b3b"
      },
      "outputs": [
        {
          "name": "stdout",
          "output_type": "stream",
          "text": [
            "Size of vocabulary:  85413\n",
            "Most 20 common words are:\n"
          ]
        },
        {
          "data": {
            "text/plain": [
              "{'articl': 25885,\n",
              " 'page': 19327,\n",
              " 'wikipedia': 15815,\n",
              " 'edit': 13794,\n",
              " 'talk': 12089,\n",
              " 'like': 11012,\n",
              " 'delet': 8702,\n",
              " 'sourc': 8574,\n",
              " 'thank': 7892,\n",
              " 'think': 7817,\n",
              " 'know': 7230,\n",
              " 'us': 6870,\n",
              " 'time': 6754,\n",
              " 'peopl': 6609,\n",
              " 'fuck': 6468,\n",
              " 'block': 5841,\n",
              " 'need': 5722,\n",
              " 'user': 5694,\n",
              " 'remov': 5335,\n",
              " 'want': 5332}"
            ]
          },
          "execution_count": 25,
          "metadata": {},
          "output_type": "execute_result"
        }
      ],
      "source": [
        "get_corpus_statistics(eng_comments['comment_text'])"
      ]
    },
    {
      "cell_type": "markdown",
      "metadata": {
        "id": "KXLaW7vQkiqF"
      },
      "source": [
        "### Baseline: Tf-Idf + LogReg"
      ]
    },
    {
      "cell_type": "markdown",
      "source": [
        "Creating a pipeline for the first model (Logistic Regression on the TF-IDF vectors):"
      ],
      "metadata": {
        "id": "0_gF6Uv77X6J"
      }
    },
    {
      "cell_type": "code",
      "execution_count": null,
      "metadata": {
        "id": "C4akyXid1tn6"
      },
      "outputs": [],
      "source": [
        "#vectorization of the model\n",
        "vec = TfidfVectorizer(ngram_range=(1,2), tokenizer=tokenize,\n",
        "               strip_accents='unicode', use_idf=1,\n",
        "               smooth_idf=1, sublinear_tf=1)\n",
        "\n",
        "pipeline = Pipeline([\n",
        "    ('tfidf', vec),\n",
        "    ('logreg', LogisticRegression(penalty='elasticnet')),\n",
        "])\n",
        "\n",
        "parameters = {\n",
        "    'tfidf__max_features': [None, 1000, 5000, 50000],\n",
        "    'tfidf__ngram_range': [(1, 1), (1, 2)],  # unigrams or unigrams + bigrams\n",
        "    'logreg__penalty' : ['l1', 'l2'],\n",
        "    'logreg__C' : np.logspace(-4, 4, 20),\n",
        "    'logreg__solver' : ['liblinear'],\n",
        "}"
      ]
    },
    {
      "cell_type": "markdown",
      "source": [
        "For hyperparameters tuning I am going to use RandomizedSearch over Stratified K-Fold cross-validation:"
      ],
      "metadata": {
        "id": "2M84FMHk8AZ5"
      }
    },
    {
      "cell_type": "code",
      "execution_count": null,
      "metadata": {
        "id": "UA80YwG3-CVy"
      },
      "outputs": [],
      "source": [
        "cv = StratifiedKFold(n_splits=5, shuffle=True, random_state=42)\n",
        "random_search = RandomizedSearchCV(pipeline, parameters, n_jobs=-1, verbose=1,\n",
        "                                   scoring=['roc_auc'],\n",
        "                                   cv=cv, n_iter=10, refit='roc_auc')"
      ]
    },
    {
      "cell_type": "code",
      "execution_count": null,
      "metadata": {
        "id": "-Sn_wEUvJJ8l"
      },
      "outputs": [],
      "source": [
        "X_train, y_train = list(train_df[\"comment_text\"]), list(train_df['toxic'])"
      ]
    },
    {
      "cell_type": "code",
      "execution_count": null,
      "metadata": {
        "colab": {
          "base_uri": "https://localhost:8080/"
        },
        "id": "caQraYhsJPnP",
        "outputId": "850e4d58-0ad8-4754-873f-d5985d5691ca"
      },
      "outputs": [
        {
          "data": {
            "text/plain": [
              "(['sugestão rfa com todo respeito prefiro não retirá ainda embora reconheça que certament não estou nem perto bom começo gostaria deixá execução por pelo meno hora para nada mai atrair uma boa quantidad feedback comunidad agora tornar uma situação snow estarei mai que disposto retirar mai cedo ma part motivo pelo qual estou fazendo isso agora reunir algum feedback honesto comunidad sobr ond estou ond preciso melhorar não aprovado com êxito saudaçõ',\n",
              "  'sui sûr que est pa vrai',\n",
              "  'одна остающаяся проблема blp привет спасибо устранение проблем blp статье энн фэйрбэрн есть еще одна последняя редакция которая должна быть удалена противном случае спасибо',\n",
              "  'mudança significativa proponho fazer alteraçõ significativa página todo parágrafo sencond problemático sendo errado algun aspecto muito geral alguma da part interessada tiver problema para fazer alteraçõ substanciai publiqu aqui'],\n",
              " [0, 0, 0, 0])"
            ]
          },
          "execution_count": 26,
          "metadata": {},
          "output_type": "execute_result"
        }
      ],
      "source": [
        "X_train[:4], y_train[:4]"
      ]
    },
    {
      "cell_type": "code",
      "execution_count": null,
      "metadata": {
        "colab": {
          "base_uri": "https://localhost:8080/",
          "height": 206
        },
        "id": "Yvl3yFGt-Doz",
        "outputId": "73ab9d9c-3c99-41a5-a327-cebb424cf31b"
      },
      "outputs": [
        {
          "name": "stdout",
          "output_type": "stream",
          "text": [
            "Fitting 5 folds for each of 10 candidates, totalling 50 fits\n",
            "CPU times: user 2min 3s, sys: 14.7 s, total: 2min 18s\n",
            "Wall time: 46min 18s\n"
          ]
        },
        {
          "data": {
            "text/html": [
              "<style>#sk-container-id-1 {color: black;background-color: white;}#sk-container-id-1 pre{padding: 0;}#sk-container-id-1 div.sk-toggleable {background-color: white;}#sk-container-id-1 label.sk-toggleable__label {cursor: pointer;display: block;width: 100%;margin-bottom: 0;padding: 0.3em;box-sizing: border-box;text-align: center;}#sk-container-id-1 label.sk-toggleable__label-arrow:before {content: \"▸\";float: left;margin-right: 0.25em;color: #696969;}#sk-container-id-1 label.sk-toggleable__label-arrow:hover:before {color: black;}#sk-container-id-1 div.sk-estimator:hover label.sk-toggleable__label-arrow:before {color: black;}#sk-container-id-1 div.sk-toggleable__content {max-height: 0;max-width: 0;overflow: hidden;text-align: left;background-color: #f0f8ff;}#sk-container-id-1 div.sk-toggleable__content pre {margin: 0.2em;color: black;border-radius: 0.25em;background-color: #f0f8ff;}#sk-container-id-1 input.sk-toggleable__control:checked~div.sk-toggleable__content {max-height: 200px;max-width: 100%;overflow: auto;}#sk-container-id-1 input.sk-toggleable__control:checked~label.sk-toggleable__label-arrow:before {content: \"▾\";}#sk-container-id-1 div.sk-estimator input.sk-toggleable__control:checked~label.sk-toggleable__label {background-color: #d4ebff;}#sk-container-id-1 div.sk-label input.sk-toggleable__control:checked~label.sk-toggleable__label {background-color: #d4ebff;}#sk-container-id-1 input.sk-hidden--visually {border: 0;clip: rect(1px 1px 1px 1px);clip: rect(1px, 1px, 1px, 1px);height: 1px;margin: -1px;overflow: hidden;padding: 0;position: absolute;width: 1px;}#sk-container-id-1 div.sk-estimator {font-family: monospace;background-color: #f0f8ff;border: 1px dotted black;border-radius: 0.25em;box-sizing: border-box;margin-bottom: 0.5em;}#sk-container-id-1 div.sk-estimator:hover {background-color: #d4ebff;}#sk-container-id-1 div.sk-parallel-item::after {content: \"\";width: 100%;border-bottom: 1px solid gray;flex-grow: 1;}#sk-container-id-1 div.sk-label:hover label.sk-toggleable__label {background-color: #d4ebff;}#sk-container-id-1 div.sk-serial::before {content: \"\";position: absolute;border-left: 1px solid gray;box-sizing: border-box;top: 0;bottom: 0;left: 50%;z-index: 0;}#sk-container-id-1 div.sk-serial {display: flex;flex-direction: column;align-items: center;background-color: white;padding-right: 0.2em;padding-left: 0.2em;position: relative;}#sk-container-id-1 div.sk-item {position: relative;z-index: 1;}#sk-container-id-1 div.sk-parallel {display: flex;align-items: stretch;justify-content: center;background-color: white;position: relative;}#sk-container-id-1 div.sk-item::before, #sk-container-id-1 div.sk-parallel-item::before {content: \"\";position: absolute;border-left: 1px solid gray;box-sizing: border-box;top: 0;bottom: 0;left: 50%;z-index: -1;}#sk-container-id-1 div.sk-parallel-item {display: flex;flex-direction: column;z-index: 1;position: relative;background-color: white;}#sk-container-id-1 div.sk-parallel-item:first-child::after {align-self: flex-end;width: 50%;}#sk-container-id-1 div.sk-parallel-item:last-child::after {align-self: flex-start;width: 50%;}#sk-container-id-1 div.sk-parallel-item:only-child::after {width: 0;}#sk-container-id-1 div.sk-dashed-wrapped {border: 1px dashed gray;margin: 0 0.4em 0.5em 0.4em;box-sizing: border-box;padding-bottom: 0.4em;background-color: white;}#sk-container-id-1 div.sk-label label {font-family: monospace;font-weight: bold;display: inline-block;line-height: 1.2em;}#sk-container-id-1 div.sk-label-container {text-align: center;}#sk-container-id-1 div.sk-container {/* jupyter's `normalize.less` sets `[hidden] { display: none; }` but bootstrap.min.css set `[hidden] { display: none !important; }` so we also need the `!important` here to be able to override the default hidden behavior on the sphinx rendered scikit-learn.org. See: https://github.com/scikit-learn/scikit-learn/issues/21755 */display: inline-block !important;position: relative;}#sk-container-id-1 div.sk-text-repr-fallback {display: none;}</style><div id=\"sk-container-id-1\" class=\"sk-top-container\"><div class=\"sk-text-repr-fallback\"><pre>RandomizedSearchCV(cv=StratifiedKFold(n_splits=5, random_state=42, shuffle=True),\n",
              "                   estimator=Pipeline(steps=[(&#x27;tfidf&#x27;,\n",
              "                                              TfidfVectorizer(ngram_range=(1,\n",
              "                                                                           2),\n",
              "                                                              smooth_idf=1,\n",
              "                                                              strip_accents=&#x27;unicode&#x27;,\n",
              "                                                              sublinear_tf=1,\n",
              "                                                              tokenizer=&lt;function tokenize at 0x7f6314dd2050&gt;,\n",
              "                                                              use_idf=1)),\n",
              "                                             (&#x27;logreg&#x27;,\n",
              "                                              LogisticRegression(penalty=&#x27;elasticnet&#x27;))]),\n",
              "                   n_jobs=-1,\n",
              "                   param_distributions={&#x27;logreg_...\n",
              "       2.33572147e-01, 6.15848211e-01, 1.62377674e+00, 4.28133240e+00,\n",
              "       1.12883789e+01, 2.97635144e+01, 7.84759970e+01, 2.06913808e+02,\n",
              "       5.45559478e+02, 1.43844989e+03, 3.79269019e+03, 1.00000000e+04]),\n",
              "                                        &#x27;logreg__penalty&#x27;: [&#x27;l1&#x27;, &#x27;l2&#x27;],\n",
              "                                        &#x27;logreg__solver&#x27;: [&#x27;liblinear&#x27;],\n",
              "                                        &#x27;tfidf__max_features&#x27;: [None, 1000,\n",
              "                                                                5000, 50000],\n",
              "                                        &#x27;tfidf__ngram_range&#x27;: [(1, 1), (1, 2)]},\n",
              "                   refit=&#x27;roc_auc&#x27;, scoring=[&#x27;roc_auc&#x27;], verbose=1)</pre><b>In a Jupyter environment, please rerun this cell to show the HTML representation or trust the notebook. <br />On GitHub, the HTML representation is unable to render, please try loading this page with nbviewer.org.</b></div><div class=\"sk-container\" hidden><div class=\"sk-item sk-dashed-wrapped\"><div class=\"sk-label-container\"><div class=\"sk-label sk-toggleable\"><input class=\"sk-toggleable__control sk-hidden--visually\" id=\"sk-estimator-id-1\" type=\"checkbox\" ><label for=\"sk-estimator-id-1\" class=\"sk-toggleable__label sk-toggleable__label-arrow\">RandomizedSearchCV</label><div class=\"sk-toggleable__content\"><pre>RandomizedSearchCV(cv=StratifiedKFold(n_splits=5, random_state=42, shuffle=True),\n",
              "                   estimator=Pipeline(steps=[(&#x27;tfidf&#x27;,\n",
              "                                              TfidfVectorizer(ngram_range=(1,\n",
              "                                                                           2),\n",
              "                                                              smooth_idf=1,\n",
              "                                                              strip_accents=&#x27;unicode&#x27;,\n",
              "                                                              sublinear_tf=1,\n",
              "                                                              tokenizer=&lt;function tokenize at 0x7f6314dd2050&gt;,\n",
              "                                                              use_idf=1)),\n",
              "                                             (&#x27;logreg&#x27;,\n",
              "                                              LogisticRegression(penalty=&#x27;elasticnet&#x27;))]),\n",
              "                   n_jobs=-1,\n",
              "                   param_distributions={&#x27;logreg_...\n",
              "       2.33572147e-01, 6.15848211e-01, 1.62377674e+00, 4.28133240e+00,\n",
              "       1.12883789e+01, 2.97635144e+01, 7.84759970e+01, 2.06913808e+02,\n",
              "       5.45559478e+02, 1.43844989e+03, 3.79269019e+03, 1.00000000e+04]),\n",
              "                                        &#x27;logreg__penalty&#x27;: [&#x27;l1&#x27;, &#x27;l2&#x27;],\n",
              "                                        &#x27;logreg__solver&#x27;: [&#x27;liblinear&#x27;],\n",
              "                                        &#x27;tfidf__max_features&#x27;: [None, 1000,\n",
              "                                                                5000, 50000],\n",
              "                                        &#x27;tfidf__ngram_range&#x27;: [(1, 1), (1, 2)]},\n",
              "                   refit=&#x27;roc_auc&#x27;, scoring=[&#x27;roc_auc&#x27;], verbose=1)</pre></div></div></div><div class=\"sk-parallel\"><div class=\"sk-parallel-item\"><div class=\"sk-item\"><div class=\"sk-label-container\"><div class=\"sk-label sk-toggleable\"><input class=\"sk-toggleable__control sk-hidden--visually\" id=\"sk-estimator-id-2\" type=\"checkbox\" ><label for=\"sk-estimator-id-2\" class=\"sk-toggleable__label sk-toggleable__label-arrow\">estimator: Pipeline</label><div class=\"sk-toggleable__content\"><pre>Pipeline(steps=[(&#x27;tfidf&#x27;,\n",
              "                 TfidfVectorizer(ngram_range=(1, 2), smooth_idf=1,\n",
              "                                 strip_accents=&#x27;unicode&#x27;, sublinear_tf=1,\n",
              "                                 tokenizer=&lt;function tokenize at 0x7f6314dd2050&gt;,\n",
              "                                 use_idf=1)),\n",
              "                (&#x27;logreg&#x27;, LogisticRegression(penalty=&#x27;elasticnet&#x27;))])</pre></div></div></div><div class=\"sk-serial\"><div class=\"sk-item\"><div class=\"sk-serial\"><div class=\"sk-item\"><div class=\"sk-estimator sk-toggleable\"><input class=\"sk-toggleable__control sk-hidden--visually\" id=\"sk-estimator-id-3\" type=\"checkbox\" ><label for=\"sk-estimator-id-3\" class=\"sk-toggleable__label sk-toggleable__label-arrow\">TfidfVectorizer</label><div class=\"sk-toggleable__content\"><pre>TfidfVectorizer(ngram_range=(1, 2), smooth_idf=1, strip_accents=&#x27;unicode&#x27;,\n",
              "                sublinear_tf=1, tokenizer=&lt;function tokenize at 0x7f6314dd2050&gt;,\n",
              "                use_idf=1)</pre></div></div></div><div class=\"sk-item\"><div class=\"sk-estimator sk-toggleable\"><input class=\"sk-toggleable__control sk-hidden--visually\" id=\"sk-estimator-id-4\" type=\"checkbox\" ><label for=\"sk-estimator-id-4\" class=\"sk-toggleable__label sk-toggleable__label-arrow\">LogisticRegression</label><div class=\"sk-toggleable__content\"><pre>LogisticRegression(penalty=&#x27;elasticnet&#x27;)</pre></div></div></div></div></div></div></div></div></div></div></div></div>"
            ],
            "text/plain": [
              "RandomizedSearchCV(cv=StratifiedKFold(n_splits=5, random_state=42, shuffle=True),\n",
              "                   estimator=Pipeline(steps=[('tfidf',\n",
              "                                              TfidfVectorizer(ngram_range=(1,\n",
              "                                                                           2),\n",
              "                                                              smooth_idf=1,\n",
              "                                                              strip_accents='unicode',\n",
              "                                                              sublinear_tf=1,\n",
              "                                                              tokenizer=<function tokenize at 0x7f6314dd2050>,\n",
              "                                                              use_idf=1)),\n",
              "                                             ('logreg',\n",
              "                                              LogisticRegression(penalty='elasticnet'))]),\n",
              "                   n_jobs=-1,\n",
              "                   param_distributions={'logreg_...\n",
              "       2.33572147e-01, 6.15848211e-01, 1.62377674e+00, 4.28133240e+00,\n",
              "       1.12883789e+01, 2.97635144e+01, 7.84759970e+01, 2.06913808e+02,\n",
              "       5.45559478e+02, 1.43844989e+03, 3.79269019e+03, 1.00000000e+04]),\n",
              "                                        'logreg__penalty': ['l1', 'l2'],\n",
              "                                        'logreg__solver': ['liblinear'],\n",
              "                                        'tfidf__max_features': [None, 1000,\n",
              "                                                                5000, 50000],\n",
              "                                        'tfidf__ngram_range': [(1, 1), (1, 2)]},\n",
              "                   refit='roc_auc', scoring=['roc_auc'], verbose=1)"
            ]
          },
          "execution_count": 25,
          "metadata": {},
          "output_type": "execute_result"
        }
      ],
      "source": [
        "%%time\n",
        "\n",
        "random_search.fit(X_train, y_train);"
      ]
    },
    {
      "cell_type": "code",
      "execution_count": null,
      "metadata": {
        "colab": {
          "base_uri": "https://localhost:8080/",
          "height": 774
        },
        "id": "QcXJFynk-Jeh",
        "outputId": "8054b9cd-6bcd-46bd-9c5f-9609df07b266"
      },
      "outputs": [
        {
          "data": {
            "text/html": [
              "\n",
              "  <div id=\"df-057902ec-35c0-4a06-9ad2-6dc32c1f5dac\">\n",
              "    <div class=\"colab-df-container\">\n",
              "      <div>\n",
              "<style scoped>\n",
              "    .dataframe tbody tr th:only-of-type {\n",
              "        vertical-align: middle;\n",
              "    }\n",
              "\n",
              "    .dataframe tbody tr th {\n",
              "        vertical-align: top;\n",
              "    }\n",
              "\n",
              "    .dataframe thead th {\n",
              "        text-align: right;\n",
              "    }\n",
              "</style>\n",
              "<table border=\"1\" class=\"dataframe\">\n",
              "  <thead>\n",
              "    <tr style=\"text-align: right;\">\n",
              "      <th></th>\n",
              "      <th>mean_fit_time</th>\n",
              "      <th>std_fit_time</th>\n",
              "      <th>mean_score_time</th>\n",
              "      <th>std_score_time</th>\n",
              "      <th>param_tfidf__ngram_range</th>\n",
              "      <th>param_tfidf__max_features</th>\n",
              "      <th>param_logreg__solver</th>\n",
              "      <th>param_logreg__penalty</th>\n",
              "      <th>param_logreg__C</th>\n",
              "      <th>params</th>\n",
              "      <th>split0_test_roc_auc</th>\n",
              "      <th>split1_test_roc_auc</th>\n",
              "      <th>split2_test_roc_auc</th>\n",
              "      <th>split3_test_roc_auc</th>\n",
              "      <th>split4_test_roc_auc</th>\n",
              "      <th>mean_test_roc_auc</th>\n",
              "      <th>std_test_roc_auc</th>\n",
              "      <th>rank_test_roc_auc</th>\n",
              "    </tr>\n",
              "  </thead>\n",
              "  <tbody>\n",
              "    <tr>\n",
              "      <th>6</th>\n",
              "      <td>139.988982</td>\n",
              "      <td>9.159617</td>\n",
              "      <td>14.155540</td>\n",
              "      <td>2.724636</td>\n",
              "      <td>(1, 2)</td>\n",
              "      <td>50000</td>\n",
              "      <td>liblinear</td>\n",
              "      <td>l2</td>\n",
              "      <td>4.281332</td>\n",
              "      <td>{'tfidf__ngram_range': (1, 2), 'tfidf__max_fea...</td>\n",
              "      <td>0.949423</td>\n",
              "      <td>0.947687</td>\n",
              "      <td>0.947926</td>\n",
              "      <td>0.946741</td>\n",
              "      <td>0.948997</td>\n",
              "      <td>0.948154</td>\n",
              "      <td>0.000958</td>\n",
              "      <td>1</td>\n",
              "    </tr>\n",
              "    <tr>\n",
              "      <th>3</th>\n",
              "      <td>176.003647</td>\n",
              "      <td>6.876163</td>\n",
              "      <td>17.929437</td>\n",
              "      <td>4.624382</td>\n",
              "      <td>(1, 2)</td>\n",
              "      <td>None</td>\n",
              "      <td>liblinear</td>\n",
              "      <td>l1</td>\n",
              "      <td>1438.449888</td>\n",
              "      <td>{'tfidf__ngram_range': (1, 2), 'tfidf__max_fea...</td>\n",
              "      <td>0.943692</td>\n",
              "      <td>0.943539</td>\n",
              "      <td>0.942660</td>\n",
              "      <td>0.942881</td>\n",
              "      <td>0.941830</td>\n",
              "      <td>0.942920</td>\n",
              "      <td>0.000669</td>\n",
              "      <td>2</td>\n",
              "    </tr>\n",
              "    <tr>\n",
              "      <th>5</th>\n",
              "      <td>128.758103</td>\n",
              "      <td>3.728296</td>\n",
              "      <td>13.186361</td>\n",
              "      <td>2.060364</td>\n",
              "      <td>(1, 2)</td>\n",
              "      <td>50000</td>\n",
              "      <td>liblinear</td>\n",
              "      <td>l1</td>\n",
              "      <td>4.281332</td>\n",
              "      <td>{'tfidf__ngram_range': (1, 2), 'tfidf__max_fea...</td>\n",
              "      <td>0.941626</td>\n",
              "      <td>0.939976</td>\n",
              "      <td>0.939707</td>\n",
              "      <td>0.939212</td>\n",
              "      <td>0.940208</td>\n",
              "      <td>0.940146</td>\n",
              "      <td>0.000811</td>\n",
              "      <td>3</td>\n",
              "    </tr>\n",
              "    <tr>\n",
              "      <th>7</th>\n",
              "      <td>50.619883</td>\n",
              "      <td>2.106230</td>\n",
              "      <td>10.869474</td>\n",
              "      <td>1.452512</td>\n",
              "      <td>(1, 1)</td>\n",
              "      <td>None</td>\n",
              "      <td>liblinear</td>\n",
              "      <td>l1</td>\n",
              "      <td>0.233572</td>\n",
              "      <td>{'tfidf__ngram_range': (1, 1), 'tfidf__max_fea...</td>\n",
              "      <td>0.929365</td>\n",
              "      <td>0.928223</td>\n",
              "      <td>0.927695</td>\n",
              "      <td>0.929016</td>\n",
              "      <td>0.930630</td>\n",
              "      <td>0.928986</td>\n",
              "      <td>0.001010</td>\n",
              "      <td>4</td>\n",
              "    </tr>\n",
              "    <tr>\n",
              "      <th>1</th>\n",
              "      <td>40.858913</td>\n",
              "      <td>4.091612</td>\n",
              "      <td>8.272539</td>\n",
              "      <td>0.539231</td>\n",
              "      <td>(1, 1)</td>\n",
              "      <td>5000</td>\n",
              "      <td>liblinear</td>\n",
              "      <td>l1</td>\n",
              "      <td>29.763514</td>\n",
              "      <td>{'tfidf__ngram_range': (1, 1), 'tfidf__max_fea...</td>\n",
              "      <td>0.913423</td>\n",
              "      <td>0.911422</td>\n",
              "      <td>0.914037</td>\n",
              "      <td>0.913869</td>\n",
              "      <td>0.914142</td>\n",
              "      <td>0.913378</td>\n",
              "      <td>0.001009</td>\n",
              "      <td>5</td>\n",
              "    </tr>\n",
              "    <tr>\n",
              "      <th>9</th>\n",
              "      <td>142.855709</td>\n",
              "      <td>22.206596</td>\n",
              "      <td>17.325753</td>\n",
              "      <td>4.414789</td>\n",
              "      <td>(1, 2)</td>\n",
              "      <td>None</td>\n",
              "      <td>liblinear</td>\n",
              "      <td>l1</td>\n",
              "      <td>0.233572</td>\n",
              "      <td>{'tfidf__ngram_range': (1, 2), 'tfidf__max_fea...</td>\n",
              "      <td>0.913400</td>\n",
              "      <td>0.911689</td>\n",
              "      <td>0.912142</td>\n",
              "      <td>0.913302</td>\n",
              "      <td>0.915300</td>\n",
              "      <td>0.913167</td>\n",
              "      <td>0.001254</td>\n",
              "      <td>6</td>\n",
              "    </tr>\n",
              "    <tr>\n",
              "      <th>0</th>\n",
              "      <td>43.924895</td>\n",
              "      <td>5.511663</td>\n",
              "      <td>8.278011</td>\n",
              "      <td>0.508290</td>\n",
              "      <td>(1, 1)</td>\n",
              "      <td>None</td>\n",
              "      <td>liblinear</td>\n",
              "      <td>l1</td>\n",
              "      <td>0.088587</td>\n",
              "      <td>{'tfidf__ngram_range': (1, 1), 'tfidf__max_fea...</td>\n",
              "      <td>0.898431</td>\n",
              "      <td>0.896155</td>\n",
              "      <td>0.895825</td>\n",
              "      <td>0.897370</td>\n",
              "      <td>0.901191</td>\n",
              "      <td>0.897794</td>\n",
              "      <td>0.001933</td>\n",
              "      <td>7</td>\n",
              "    </tr>\n",
              "    <tr>\n",
              "      <th>2</th>\n",
              "      <td>37.048547</td>\n",
              "      <td>0.278849</td>\n",
              "      <td>7.537672</td>\n",
              "      <td>0.431278</td>\n",
              "      <td>(1, 1)</td>\n",
              "      <td>1000</td>\n",
              "      <td>liblinear</td>\n",
              "      <td>l1</td>\n",
              "      <td>78.475997</td>\n",
              "      <td>{'tfidf__ngram_range': (1, 1), 'tfidf__max_fea...</td>\n",
              "      <td>0.851592</td>\n",
              "      <td>0.850010</td>\n",
              "      <td>0.854154</td>\n",
              "      <td>0.852252</td>\n",
              "      <td>0.854253</td>\n",
              "      <td>0.852452</td>\n",
              "      <td>0.001605</td>\n",
              "      <td>8</td>\n",
              "    </tr>\n",
              "    <tr>\n",
              "      <th>4</th>\n",
              "      <td>116.890965</td>\n",
              "      <td>1.774270</td>\n",
              "      <td>11.457043</td>\n",
              "      <td>0.413765</td>\n",
              "      <td>(1, 2)</td>\n",
              "      <td>1000</td>\n",
              "      <td>liblinear</td>\n",
              "      <td>l2</td>\n",
              "      <td>0.233572</td>\n",
              "      <td>{'tfidf__ngram_range': (1, 2), 'tfidf__max_fea...</td>\n",
              "      <td>0.845332</td>\n",
              "      <td>0.845378</td>\n",
              "      <td>0.845089</td>\n",
              "      <td>0.850055</td>\n",
              "      <td>0.849518</td>\n",
              "      <td>0.847075</td>\n",
              "      <td>0.002223</td>\n",
              "      <td>9</td>\n",
              "    </tr>\n",
              "    <tr>\n",
              "      <th>8</th>\n",
              "      <td>39.366769</td>\n",
              "      <td>2.695957</td>\n",
              "      <td>7.614761</td>\n",
              "      <td>0.909234</td>\n",
              "      <td>(1, 1)</td>\n",
              "      <td>1000</td>\n",
              "      <td>liblinear</td>\n",
              "      <td>l2</td>\n",
              "      <td>0.004833</td>\n",
              "      <td>{'tfidf__ngram_range': (1, 1), 'tfidf__max_fea...</td>\n",
              "      <td>0.828096</td>\n",
              "      <td>0.825816</td>\n",
              "      <td>0.827812</td>\n",
              "      <td>0.828864</td>\n",
              "      <td>0.829238</td>\n",
              "      <td>0.827965</td>\n",
              "      <td>0.001191</td>\n",
              "      <td>10</td>\n",
              "    </tr>\n",
              "  </tbody>\n",
              "</table>\n",
              "</div>\n",
              "      <button class=\"colab-df-convert\" onclick=\"convertToInteractive('df-057902ec-35c0-4a06-9ad2-6dc32c1f5dac')\"\n",
              "              title=\"Convert this dataframe to an interactive table.\"\n",
              "              style=\"display:none;\">\n",
              "        \n",
              "  <svg xmlns=\"http://www.w3.org/2000/svg\" height=\"24px\"viewBox=\"0 0 24 24\"\n",
              "       width=\"24px\">\n",
              "    <path d=\"M0 0h24v24H0V0z\" fill=\"none\"/>\n",
              "    <path d=\"M18.56 5.44l.94 2.06.94-2.06 2.06-.94-2.06-.94-.94-2.06-.94 2.06-2.06.94zm-11 1L8.5 8.5l.94-2.06 2.06-.94-2.06-.94L8.5 2.5l-.94 2.06-2.06.94zm10 10l.94 2.06.94-2.06 2.06-.94-2.06-.94-.94-2.06-.94 2.06-2.06.94z\"/><path d=\"M17.41 7.96l-1.37-1.37c-.4-.4-.92-.59-1.43-.59-.52 0-1.04.2-1.43.59L10.3 9.45l-7.72 7.72c-.78.78-.78 2.05 0 2.83L4 21.41c.39.39.9.59 1.41.59.51 0 1.02-.2 1.41-.59l7.78-7.78 2.81-2.81c.8-.78.8-2.07 0-2.86zM5.41 20L4 18.59l7.72-7.72 1.47 1.35L5.41 20z\"/>\n",
              "  </svg>\n",
              "      </button>\n",
              "      \n",
              "  <style>\n",
              "    .colab-df-container {\n",
              "      display:flex;\n",
              "      flex-wrap:wrap;\n",
              "      gap: 12px;\n",
              "    }\n",
              "\n",
              "    .colab-df-convert {\n",
              "      background-color: #E8F0FE;\n",
              "      border: none;\n",
              "      border-radius: 50%;\n",
              "      cursor: pointer;\n",
              "      display: none;\n",
              "      fill: #1967D2;\n",
              "      height: 32px;\n",
              "      padding: 0 0 0 0;\n",
              "      width: 32px;\n",
              "    }\n",
              "\n",
              "    .colab-df-convert:hover {\n",
              "      background-color: #E2EBFA;\n",
              "      box-shadow: 0px 1px 2px rgba(60, 64, 67, 0.3), 0px 1px 3px 1px rgba(60, 64, 67, 0.15);\n",
              "      fill: #174EA6;\n",
              "    }\n",
              "\n",
              "    [theme=dark] .colab-df-convert {\n",
              "      background-color: #3B4455;\n",
              "      fill: #D2E3FC;\n",
              "    }\n",
              "\n",
              "    [theme=dark] .colab-df-convert:hover {\n",
              "      background-color: #434B5C;\n",
              "      box-shadow: 0px 1px 3px 1px rgba(0, 0, 0, 0.15);\n",
              "      filter: drop-shadow(0px 1px 2px rgba(0, 0, 0, 0.3));\n",
              "      fill: #FFFFFF;\n",
              "    }\n",
              "  </style>\n",
              "\n",
              "      <script>\n",
              "        const buttonEl =\n",
              "          document.querySelector('#df-057902ec-35c0-4a06-9ad2-6dc32c1f5dac button.colab-df-convert');\n",
              "        buttonEl.style.display =\n",
              "          google.colab.kernel.accessAllowed ? 'block' : 'none';\n",
              "\n",
              "        async function convertToInteractive(key) {\n",
              "          const element = document.querySelector('#df-057902ec-35c0-4a06-9ad2-6dc32c1f5dac');\n",
              "          const dataTable =\n",
              "            await google.colab.kernel.invokeFunction('convertToInteractive',\n",
              "                                                     [key], {});\n",
              "          if (!dataTable) return;\n",
              "\n",
              "          const docLinkHtml = 'Like what you see? Visit the ' +\n",
              "            '<a target=\"_blank\" href=https://colab.research.google.com/notebooks/data_table.ipynb>data table notebook</a>'\n",
              "            + ' to learn more about interactive tables.';\n",
              "          element.innerHTML = '';\n",
              "          dataTable['output_type'] = 'display_data';\n",
              "          await google.colab.output.renderOutput(dataTable, element);\n",
              "          const docLink = document.createElement('div');\n",
              "          docLink.innerHTML = docLinkHtml;\n",
              "          element.appendChild(docLink);\n",
              "        }\n",
              "      </script>\n",
              "    </div>\n",
              "  </div>\n",
              "  "
            ],
            "text/plain": [
              "   mean_fit_time  std_fit_time  mean_score_time  std_score_time  \\\n",
              "6     139.988982      9.159617        14.155540        2.724636   \n",
              "3     176.003647      6.876163        17.929437        4.624382   \n",
              "5     128.758103      3.728296        13.186361        2.060364   \n",
              "7      50.619883      2.106230        10.869474        1.452512   \n",
              "1      40.858913      4.091612         8.272539        0.539231   \n",
              "9     142.855709     22.206596        17.325753        4.414789   \n",
              "0      43.924895      5.511663         8.278011        0.508290   \n",
              "2      37.048547      0.278849         7.537672        0.431278   \n",
              "4     116.890965      1.774270        11.457043        0.413765   \n",
              "8      39.366769      2.695957         7.614761        0.909234   \n",
              "\n",
              "  param_tfidf__ngram_range param_tfidf__max_features param_logreg__solver  \\\n",
              "6                   (1, 2)                     50000            liblinear   \n",
              "3                   (1, 2)                      None            liblinear   \n",
              "5                   (1, 2)                     50000            liblinear   \n",
              "7                   (1, 1)                      None            liblinear   \n",
              "1                   (1, 1)                      5000            liblinear   \n",
              "9                   (1, 2)                      None            liblinear   \n",
              "0                   (1, 1)                      None            liblinear   \n",
              "2                   (1, 1)                      1000            liblinear   \n",
              "4                   (1, 2)                      1000            liblinear   \n",
              "8                   (1, 1)                      1000            liblinear   \n",
              "\n",
              "  param_logreg__penalty param_logreg__C  \\\n",
              "6                    l2        4.281332   \n",
              "3                    l1     1438.449888   \n",
              "5                    l1        4.281332   \n",
              "7                    l1        0.233572   \n",
              "1                    l1       29.763514   \n",
              "9                    l1        0.233572   \n",
              "0                    l1        0.088587   \n",
              "2                    l1       78.475997   \n",
              "4                    l2        0.233572   \n",
              "8                    l2        0.004833   \n",
              "\n",
              "                                              params  split0_test_roc_auc  \\\n",
              "6  {'tfidf__ngram_range': (1, 2), 'tfidf__max_fea...             0.949423   \n",
              "3  {'tfidf__ngram_range': (1, 2), 'tfidf__max_fea...             0.943692   \n",
              "5  {'tfidf__ngram_range': (1, 2), 'tfidf__max_fea...             0.941626   \n",
              "7  {'tfidf__ngram_range': (1, 1), 'tfidf__max_fea...             0.929365   \n",
              "1  {'tfidf__ngram_range': (1, 1), 'tfidf__max_fea...             0.913423   \n",
              "9  {'tfidf__ngram_range': (1, 2), 'tfidf__max_fea...             0.913400   \n",
              "0  {'tfidf__ngram_range': (1, 1), 'tfidf__max_fea...             0.898431   \n",
              "2  {'tfidf__ngram_range': (1, 1), 'tfidf__max_fea...             0.851592   \n",
              "4  {'tfidf__ngram_range': (1, 2), 'tfidf__max_fea...             0.845332   \n",
              "8  {'tfidf__ngram_range': (1, 1), 'tfidf__max_fea...             0.828096   \n",
              "\n",
              "   split1_test_roc_auc  split2_test_roc_auc  split3_test_roc_auc  \\\n",
              "6             0.947687             0.947926             0.946741   \n",
              "3             0.943539             0.942660             0.942881   \n",
              "5             0.939976             0.939707             0.939212   \n",
              "7             0.928223             0.927695             0.929016   \n",
              "1             0.911422             0.914037             0.913869   \n",
              "9             0.911689             0.912142             0.913302   \n",
              "0             0.896155             0.895825             0.897370   \n",
              "2             0.850010             0.854154             0.852252   \n",
              "4             0.845378             0.845089             0.850055   \n",
              "8             0.825816             0.827812             0.828864   \n",
              "\n",
              "   split4_test_roc_auc  mean_test_roc_auc  std_test_roc_auc  rank_test_roc_auc  \n",
              "6             0.948997           0.948154          0.000958                  1  \n",
              "3             0.941830           0.942920          0.000669                  2  \n",
              "5             0.940208           0.940146          0.000811                  3  \n",
              "7             0.930630           0.928986          0.001010                  4  \n",
              "1             0.914142           0.913378          0.001009                  5  \n",
              "9             0.915300           0.913167          0.001254                  6  \n",
              "0             0.901191           0.897794          0.001933                  7  \n",
              "2             0.854253           0.852452          0.001605                  8  \n",
              "4             0.849518           0.847075          0.002223                  9  \n",
              "8             0.829238           0.827965          0.001191                 10  "
            ]
          },
          "execution_count": 31,
          "metadata": {},
          "output_type": "execute_result"
        }
      ],
      "source": [
        "pd.DataFrame(random_search.cv_results_).sort_values('mean_test_roc_auc', ascending=False)"
      ]
    },
    {
      "cell_type": "code",
      "execution_count": null,
      "metadata": {
        "id": "G45W3nOFxf9m"
      },
      "outputs": [],
      "source": [
        "logreg_model = random_search.best_estimator_"
      ]
    },
    {
      "cell_type": "markdown",
      "metadata": {
        "id": "iuyeF_I1vpLH"
      },
      "source": [
        "Saving the model:"
      ]
    },
    {
      "cell_type": "code",
      "execution_count": null,
      "metadata": {
        "id": "hL6GA4uMv2Of"
      },
      "outputs": [],
      "source": [
        "filename = 'toxicity_log_reg.sav'"
      ]
    },
    {
      "cell_type": "code",
      "execution_count": null,
      "metadata": {
        "id": "BRfajcjnTVLe"
      },
      "outputs": [],
      "source": [
        "save_sklearn_model(random_search.best_estimator_, filename)"
      ]
    },
    {
      "cell_type": "markdown",
      "metadata": {
        "id": "b_bxFuDvvMPh"
      },
      "source": [
        "#### ----- Workaround (loading pre-trained model) -----"
      ]
    },
    {
      "cell_type": "code",
      "execution_count": null,
      "metadata": {
        "id": "GyAwadnEvU2r"
      },
      "outputs": [],
      "source": [
        "logreg_model = load_sklearn_model(filename)"
      ]
    },
    {
      "cell_type": "code",
      "execution_count": null,
      "metadata": {
        "colab": {
          "base_uri": "https://localhost:8080/"
        },
        "id": "a0aD0a_dwzPJ",
        "outputId": "98184696-aa90-4553-a26d-117e14edc7d9"
      },
      "outputs": [
        {
          "data": {
            "text/plain": [
              "sklearn.pipeline.Pipeline"
            ]
          },
          "execution_count": 40,
          "metadata": {},
          "output_type": "execute_result"
        }
      ],
      "source": [
        "type(logreg_model)"
      ]
    },
    {
      "cell_type": "markdown",
      "metadata": {
        "id": "SZJ7gycuvVRv"
      },
      "source": [
        "------ End of workaround -----"
      ]
    },
    {
      "cell_type": "markdown",
      "source": [
        "Validating the performance of the model using AUC score:"
      ],
      "metadata": {
        "id": "JNzmb4OM8lHO"
      }
    },
    {
      "cell_type": "code",
      "execution_count": null,
      "metadata": {
        "colab": {
          "base_uri": "https://localhost:8080/"
        },
        "id": "Z6VS5L6D-XNb",
        "outputId": "da472eaa-d95a-477b-927f-d7c8de531f7d"
      },
      "outputs": [
        {
          "name": "stdout",
          "output_type": "stream",
          "text": [
            "Validation AUC score 0.8581466536969654\n"
          ]
        },
        {
          "data": {
            "text/plain": [
              "18"
            ]
          },
          "execution_count": 41,
          "metadata": {},
          "output_type": "execute_result"
        }
      ],
      "source": [
        "val_df = pd.read_csv(FILE_PATH + '/validation.csv')\n",
        "val_df['comment_text'].fillna(\"unknown\", inplace=True)\n",
        "val_df[\"comment_text\"] = val_df[\"comment_text\"].apply(clean_text)\n",
        "\n",
        "#score the validation dataset\n",
        "y_valid = val_df['toxic']\n",
        "y_pred_valid = logreg_model.predict_proba(val_df[\"comment_text\"])\n",
        "# print('Testing accuracy %s' % accuracy_score(y_valid, y_pred_valid))\n",
        "# print('Testing F1 score: {}'.format(f1_score(y_valid, y_pred_valid, average='weighted')))\n",
        "print('Validation AUC score %s' % roc_auc_score(y_valid, y_pred_valid[:, 1]))\n",
        "\n",
        "del val_df, y_valid, y_pred_valid; gc.collect()"
      ]
    },
    {
      "cell_type": "code",
      "execution_count": null,
      "metadata": {
        "colab": {
          "base_uri": "https://localhost:8080/"
        },
        "id": "vQSI2_Do-boW",
        "outputId": "126a0737-c699-4f2e-d3d5-0e2d18c51dfe"
      },
      "outputs": [
        {
          "name": "stdout",
          "output_type": "stream",
          "text": [
            "Testing AUC score 0.8399376213349269\n"
          ]
        }
      ],
      "source": [
        "test_df = pd.read_csv(FILE_PATH + '/test.csv')\n",
        "test_labels_df = pd.read_csv(FILE_PATH + '/test_labels.csv')\n",
        "test_df[\"comment_text\"] = test_df[\"content\"].apply(clean_text)\n",
        "test_with_labels = pd.concat([test_df, test_labels_df], axis=1)\n",
        "\n",
        "y_test = test_with_labels['toxic']\n",
        "y_pred_test = logreg_model.predict_proba(test_with_labels[\"comment_text\"])\n",
        "print('Testing AUC score %s' % roc_auc_score(y_test, y_pred_test[:, 1]))\n",
        "\n",
        "\n",
        "# del test_df, y_pred_test; gc.collect()"
      ]
    },
    {
      "cell_type": "markdown",
      "source": [
        "We have rather good number of AUC = 0.85 for the baseline model. Let's look if I can improve it with other models."
      ],
      "metadata": {
        "id": "KhrvMMIK8w1u"
      }
    },
    {
      "cell_type": "code",
      "execution_count": null,
      "metadata": {
        "colab": {
          "base_uri": "https://localhost:8080/"
        },
        "id": "V5Z5uVipXdnk",
        "outputId": "2b39a771-967d-49e2-bcad-a0c701ee0115"
      },
      "outputs": [
        {
          "data": {
            "text/plain": [
              "11"
            ]
          },
          "execution_count": 44,
          "metadata": {},
          "output_type": "execute_result"
        }
      ],
      "source": [
        "del test_df, y_pred_test; gc.collect()"
      ]
    },
    {
      "cell_type": "markdown",
      "metadata": {
        "id": "X_SEnAsVuBj5"
      },
      "source": [
        "###Word2Vec"
      ]
    },
    {
      "cell_type": "markdown",
      "source": [
        "At this step I am going to train Word2Vec embeddings using the given corpus, calculate message embeddings, and use them as inputs for LogReg or another classification algorithm."
      ],
      "metadata": {
        "id": "Cb_6dx95_pWY"
      }
    },
    {
      "cell_type": "code",
      "execution_count": null,
      "metadata": {
        "id": "bZlVpBnymE44"
      },
      "outputs": [],
      "source": [
        "import gensim\n",
        "import nltk\n",
        "from nltk import word_tokenize\n",
        "import gensim.downloader as api"
      ]
    },
    {
      "cell_type": "code",
      "execution_count": null,
      "metadata": {
        "colab": {
          "base_uri": "https://localhost:8080/"
        },
        "id": "GlURfS85Eqxx",
        "outputId": "33b72e17-904a-4daa-c755-1dc34c31b838"
      },
      "outputs": [
        {
          "output_type": "stream",
          "name": "stderr",
          "text": [
            "[nltk_data] Downloading package punkt to /root/nltk_data...\n",
            "[nltk_data]   Unzipping tokenizers/punkt.zip.\n",
            "[nltk_data] Downloading package stopwords to /root/nltk_data...\n",
            "[nltk_data]   Unzipping corpora/stopwords.zip.\n",
            "[nltk_data] Downloading package wordnet to /root/nltk_data...\n"
          ]
        },
        {
          "output_type": "execute_result",
          "data": {
            "text/plain": [
              "True"
            ]
          },
          "metadata": {},
          "execution_count": 29
        }
      ],
      "source": [
        "nltk.download('punkt')\n",
        "nltk.download('stopwords')\n",
        "nltk.download('wordnet')"
      ]
    },
    {
      "cell_type": "code",
      "execution_count": null,
      "metadata": {
        "colab": {
          "base_uri": "https://localhost:8080/"
        },
        "id": "4ukeg3Kw4k6b",
        "outputId": "18d7cdea-c922-4ace-a8d7-ccd51966710f"
      },
      "outputs": [
        {
          "name": "stdout",
          "output_type": "stream",
          "text": [
            "['fasttext-wiki-news-subwords-300', 'conceptnet-numberbatch-17-06-300', 'word2vec-ruscorpora-300', 'word2vec-google-news-300', 'glove-wiki-gigaword-50', 'glove-wiki-gigaword-100', 'glove-wiki-gigaword-200', 'glove-wiki-gigaword-300', 'glove-twitter-25', 'glove-twitter-50', 'glove-twitter-100', 'glove-twitter-200', '__testing_word2vec-matrix-synopsis']\n"
          ]
        }
      ],
      "source": [
        "print(list(gensim.downloader.info()['models'].keys()))"
      ]
    },
    {
      "cell_type": "code",
      "execution_count": null,
      "metadata": {
        "id": "5rD-5rrsD5yu"
      },
      "outputs": [],
      "source": [
        "comments = list(train_df['comment_text'])"
      ]
    },
    {
      "cell_type": "code",
      "execution_count": null,
      "metadata": {
        "colab": {
          "base_uri": "https://localhost:8080/"
        },
        "id": "nAPuxm8GEzmZ",
        "outputId": "231eac0e-1cc0-4a08-b88f-a1b646af6ac7"
      },
      "outputs": [
        {
          "data": {
            "text/plain": [
              "['sugestão rfa com todo respeito prefiro não retirá ainda embora reconheça que certament não estou nem perto bom começo gostaria deixá execução por pelo meno hora para nada mai atrair uma boa quantidad feedback comunidad agora tornar uma situação snow estarei mai que disposto retirar mai cedo ma part motivo pelo qual estou fazendo isso agora reunir algum feedback honesto comunidad sobr ond estou ond preciso melhorar não aprovado com êxito saudaçõ',\n",
              " 'sui sûr que est pa vrai',\n",
              " 'одна остающаяся проблема blp привет спасибо устранение проблем blp статье энн фэйрбэрн есть еще одна последняя редакция которая должна быть удалена противном случае спасибо',\n",
              " 'mudança significativa proponho fazer alteraçõ significativa página todo parágrafo sencond problemático sendo errado algun aspecto muito geral alguma da part interessada tiver problema para fazer alteraçõ substanciai publiqu aqui',\n",
              " 'verdad alguien debería agregar una sección sobr esto desafortunadament primero que pienso',\n",
              " 'kara şövaly demem daha çok bir suç draması gibi aksiyon sahneleri vardı ama kadar çok değil',\n",
              " 'rmcn cort hacia oest la ruta probablement estaban firmada ciudad es momento junto hacia est bladensburg road connecticut avenu ¿qué tan lejo',\n",
              " 'dowfvbjdvn jhdhdf afkk dfg dfg dfg dfg dfg dfgd fbdfg dfg',\n",
              " 'também não permit que tenham chegado dumot alguma milha montant sua jução com murrumbidge chegando ess ponto jusant cruzamento isto novament não trata uma viagem linha reta década por muito tempo el viajaram para ond pudessem seguindo longo do vale entr gama ultrapassando gama determinado ponto conform necessário para tumut daqui amanhã seguirei caminho que seguiram não chegarei tumut tumut plain foss camberra para tumut chegaria aqui primeiro ainda assim seguirei com algun desvio por causa estrada falam incêndio isso relaciona com época ano também com razão pela qual algun viajaram naquela época para evitar coisa passar com segurança uma coisa casa parlamento',\n",
              " 'accord vai désormai bien',\n",
              " 'sambucu javanica sambucu javanica nın nerey ait olduğundan emin değilim çünkü siyah yapraklı türler grubunda listelenen kırmızı yapraklı türler sambucu chinensi sambucu javanica nın anlamlısıdır kırmızı yapraklı türler arasında listelenmiştir sadec bir tanesi doğru olabilir',\n",
              " 'rex germanu rex germanu senin olduğunu biliyorum seni birkaç önce tanıdım almanya il ilgili makaleleri düzenlem izniniz yok ancak charlemagn makalesind eski yüksek almanca bir atıf bayrağı koydunuz old low franconian ınızın old dutch olarak bilinmesini ister misiniz',\n",
              " 'dessu ajouté par utilisateur',\n",
              " 'evet grup mavin olarak adlandırıldı trauth başka bir disnei channel yıldızı',\n",
              " 'link brookwood cemeteri ad link mini site site creat brookwood militari cemeteri cemeteri web site provid grave repres wide rang nation creed religion cwgc banner distinct account militari civil rank race creed site show rang headston memori cemeteri uniqu have cross sacrific war stone cemeteri continu us todai casualti modern warfar chelsea pension section maintain american battl monument commiss pecuniari advantag featur site design resourc',\n",
              " 'avant demand pa prévenu autr éditeur car est tour sai est courant règle puisqu vou semblez être nouvel éditeur peux pa être sûr que vou connaissiez règle vaut mieux vou avertir que vou laisser involontair entrer dan un situat vou vou retrouvez bloqué',\n",
              " 'não errado não embaixo acord maior normalment baixista deve tocar ness contexto ma aqui el toca intervalo quarto perfeito que soa errado porqu não faz part harmonia produzindo outro intervalo dissonant como segundo nono maior sétimo maior ma sem trítono',\n",
              " 'luv fuck cocain bitch',\n",
              " 'por que não fazer login fazer ediçõ ficaria muito melhor conversa',\n",
              " 'sui désolé aurai pa annul votr modif san vou avoir envoyé messag préalabl essai just garder ce page tout jour raison pour laquel pa centré ce tableaux est parc que pri de exempl autr exposit compétit list tou le concurr est centré haut de page pui le exposit compétit réell sont aligné gauch vou pensez que cela sembl mieux centré nou pouvon garder cett façon mai pens que nou devrion pa utilis dan de spectacl autr que final pour indiqu gagnant laissez moi savoir que vou pensez',\n",
              " 'por que você não consegu acreditar quão gordo arti você viu sua recent aparição tonight com jai leno el parec absolutament incrível tivess que apostar dinheiro diria que arti lang uma candidata imperdível para pool morto por favor mantenha seu dedo malicioso long meu comentário acima toda vez que você removê vou republicá',\n",
              " 'ref için bağlantı http www citymayor com econom financi citi html',\n",
              " 'poco tidbit información necesita cita tercer sencillo del álbum será lanzado despué del lanzamiento del álbum gaga declarado que quier que lo fanático elijan tercer sencillo sin embargo misma gaga gustaría ver que próximo sencillo sea marri night ¿hai alguna confirmación esto',\n",
              " 'annesi bir sürtük fahiş',\n",
              " 'eliminado producto pero artículo todavía está trabajando probablement debería trabajars sandbox lugar como artículo publicado sin embargo entra má información parec completar artículo mui bien']"
            ]
          },
          "execution_count": 142,
          "metadata": {},
          "output_type": "execute_result"
        }
      ],
      "source": [
        "comments[:25]"
      ]
    },
    {
      "cell_type": "code",
      "execution_count": null,
      "metadata": {
        "id": "7ntlgCDKEVv2"
      },
      "outputs": [],
      "source": [
        "tokenized_comments = [tokenize(cmt) for cmt in comments]"
      ]
    },
    {
      "cell_type": "code",
      "execution_count": null,
      "metadata": {
        "id": "5g3rynaMFunB"
      },
      "outputs": [],
      "source": [
        "tokenized_comments[:1]"
      ]
    },
    {
      "cell_type": "markdown",
      "metadata": {
        "id": "K30i22W2_FWR"
      },
      "source": [
        "Define Word2Vec hypers and train word embeddings:"
      ]
    },
    {
      "cell_type": "code",
      "execution_count": null,
      "metadata": {
        "id": "Xm3GXGq-uAt-"
      },
      "outputs": [],
      "source": [
        "W2V_WINDOW = 5\n",
        "W2V_EPOCH = 100\n",
        "W2V_MIN_COUNT = 5\n",
        "VECTOR_SIZE = 300\n",
        "\n",
        "w2v_model = gensim.models.word2vec.Word2Vec(tokenized_comments, vector_size=VECTOR_SIZE, window=W2V_WINDOW, min_count=W2V_MIN_COUNT).wv"
      ]
    },
    {
      "cell_type": "markdown",
      "source": [
        "Checking W2V ability to catch similarity between words:"
      ],
      "metadata": {
        "id": "JYMXDvS3b7Ok"
      }
    },
    {
      "cell_type": "code",
      "execution_count": null,
      "metadata": {
        "colab": {
          "base_uri": "https://localhost:8080/"
        },
        "id": "yJQHls0lZgeX",
        "outputId": "d9842911-b2b2-4e85-bae9-fd90f745f06f"
      },
      "outputs": [
        {
          "data": {
            "text/plain": [
              "[('bird', 0.8744868636131287),\n",
              " ('forest', 0.8576965928077698),\n",
              " ('ocean', 0.8544754385948181),\n",
              " ('beauti', 0.849450409412384),\n",
              " ('spring', 0.848310112953186),\n",
              " ('summer', 0.8458609580993652),\n",
              " ('underground', 0.845210611820221),\n",
              " ('glass', 0.8429901599884033),\n",
              " ('deep', 0.8368033766746521),\n",
              " ('squar', 0.8326097130775452)]"
            ]
          },
          "execution_count": 32,
          "metadata": {},
          "output_type": "execute_result"
        }
      ],
      "source": [
        "w2v_model.most_similar('tower')"
      ]
    },
    {
      "cell_type": "code",
      "execution_count": null,
      "metadata": {
        "colab": {
          "base_uri": "https://localhost:8080/"
        },
        "id": "VY7Id8hYHq2j",
        "outputId": "d2348245-dab9-40d8-976c-6ebea9c7e608"
      },
      "outputs": [
        {
          "data": {
            "text/plain": [
              "[('издатель', 0.9294717311859131),\n",
              " ('трек', 0.9291907548904419),\n",
              " ('отчет', 0.9257216453552246),\n",
              " ('издании', 0.9246910810470581),\n",
              " ('журнала', 0.9240784049034119),\n",
              " ('текущий', 0.9237781167030334),\n",
              " ('стандартный', 0.9189480543136597),\n",
              " ('журнале', 0.9128798842430115),\n",
              " ('новый', 0.9124190807342529),\n",
              " ('редирект', 0.9095813632011414)]"
            ]
          },
          "execution_count": 33,
          "metadata": {},
          "output_type": "execute_result"
        }
      ],
      "source": [
        "w2v_model.most_similar('журнал')"
      ]
    },
    {
      "cell_type": "markdown",
      "source": [
        "Introducing special tags into W2V model:"
      ],
      "metadata": {
        "id": "IfEvSCQbeQRO"
      }
    },
    {
      "cell_type": "code",
      "execution_count": null,
      "metadata": {
        "id": "Mse9lmYSDt1P"
      },
      "outputs": [],
      "source": [
        "w2v_model[\"<unk>\"] = np.random.rand(300)\n",
        "w2v_model[\"<pad>\"] = np.random.rand(300)"
      ]
    },
    {
      "cell_type": "code",
      "execution_count": null,
      "metadata": {
        "colab": {
          "base_uri": "https://localhost:8080/"
        },
        "id": "LTN2ddOnEBvS",
        "outputId": "7182c263-c39d-4a78-a64e-8798d1ece3bf"
      },
      "outputs": [
        {
          "data": {
            "text/plain": [
              "164978"
            ]
          },
          "execution_count": 36,
          "metadata": {},
          "output_type": "execute_result"
        }
      ],
      "source": [
        "w2v_model.get_index(\"<pad>\")"
      ]
    },
    {
      "cell_type": "code",
      "execution_count": null,
      "metadata": {
        "id": "z9m8JRNsDcod"
      },
      "outputs": [],
      "source": [
        "w2v = w2v_model.vectors"
      ]
    },
    {
      "cell_type": "code",
      "execution_count": null,
      "metadata": {
        "id": "_V9jr_4ODUwR"
      },
      "outputs": [],
      "source": [
        "w2v_map = {\n",
        "    word:idx\n",
        "    for idx,word in enumerate(w2v_model.key_to_index, start=2)\n",
        "}"
      ]
    },
    {
      "cell_type": "markdown",
      "metadata": {
        "id": "p6n-aVlnWrLo"
      },
      "source": [
        "Changing values for special tokens:"
      ]
    },
    {
      "cell_type": "code",
      "execution_count": null,
      "metadata": {
        "id": "uFGgcKbEXSBO"
      },
      "outputs": [],
      "source": [
        "w2v_map['<pad>'] = 1\n",
        "w2v_map['<unk>'] = 0"
      ]
    },
    {
      "cell_type": "markdown",
      "metadata": {
        "id": "_UhPsdveVNcu"
      },
      "source": [
        "I would like to restore the order of word embeddings according to the order of the obtained vocabulary. For this, I simply shift the numpy array with np.roll() function, which moves the two last values to the beginning of the array:"
      ]
    },
    {
      "cell_type": "code",
      "execution_count": null,
      "metadata": {
        "id": "aQyDp3xAcFVr"
      },
      "outputs": [],
      "source": [
        "w2v = np.roll(w2v, 2, axis=0)"
      ]
    },
    {
      "cell_type": "markdown",
      "source": [
        "#### Visualizing embedding space"
      ],
      "metadata": {
        "id": "SogqGJYugCuZ"
      }
    },
    {
      "cell_type": "markdown",
      "metadata": {
        "id": "ykcc6oHpXehE"
      },
      "source": [
        "As an optional exercise, I am going to visualize W2V embeddings space. For this, I will choose the first 5000 most common words:"
      ]
    },
    {
      "cell_type": "code",
      "execution_count": null,
      "metadata": {
        "id": "x2AqXQNgYckb"
      },
      "outputs": [],
      "source": [
        "words = w2v_model.index_to_key[:5000]\n",
        "word_vectors = w2v_model.vectors[[w2v_model.key_to_index[word] for word in words]]"
      ]
    },
    {
      "cell_type": "code",
      "execution_count": null,
      "metadata": {
        "colab": {
          "base_uri": "https://localhost:8080/"
        },
        "id": "r0SdXwQVYopT",
        "outputId": "edc43018-5fa8-4aad-af3a-39e13ceb80fe"
      },
      "outputs": [
        {
          "data": {
            "text/plain": [
              "(5000, 300)"
            ]
          },
          "execution_count": 113,
          "metadata": {},
          "output_type": "execute_result"
        }
      ],
      "source": [
        "word_vectors.shape"
      ]
    },
    {
      "cell_type": "markdown",
      "metadata": {
        "id": "UrrnhxGvYHnR"
      },
      "source": [
        "Plotting the interactive plot of 2D projection of W2V space:"
      ]
    },
    {
      "cell_type": "code",
      "execution_count": null,
      "metadata": {
        "id": "GXDDuszHZFvw"
      },
      "outputs": [],
      "source": [
        "import bokeh.models as bm, bokeh.plotting as pl\n",
        "from bokeh.io import output_notebook\n",
        "\n",
        "def draw_vectors(x, y, radius=10, alpha=0.25, color='blue',\n",
        "                 width=600, height=400, show=True, **kwargs):\n",
        "    \"\"\" draws an interactive plot for data points with auxilirary info on hover \"\"\"\n",
        "    output_notebook()\n",
        "\n",
        "    if isinstance(color, str):\n",
        "        color = [color] * len(x)\n",
        "    data_source = bm.ColumnDataSource({ 'x' : x, 'y' : y, 'color': color, **kwargs })\n",
        "\n",
        "    fig = pl.figure(active_scroll='wheel_zoom', width=width, height=height)\n",
        "    fig.scatter('x', 'y', size=radius, color='color', alpha=alpha, source=data_source)\n",
        "\n",
        "    fig.add_tools(bm.HoverTool(tooltips=[(key, \"@\" + key) for key in kwargs.keys()]))\n",
        "    if show:\n",
        "        pl.show(fig)\n",
        "    return fig"
      ]
    },
    {
      "cell_type": "code",
      "execution_count": null,
      "metadata": {
        "id": "X09DGjGDGzdZ"
      },
      "outputs": [],
      "source": [
        "from sklearn.manifold import TSNE\n",
        "\n",
        "def get_tsne_projection(word_vectors):\n",
        "    tsne = TSNE(n_components=2)\n",
        "    return tsne.fit_transform(word_vectors)"
      ]
    },
    {
      "cell_type": "code",
      "execution_count": null,
      "metadata": {
        "colab": {
          "base_uri": "https://localhost:8080/",
          "height": 434
        },
        "id": "YI_4MdiGG5gg",
        "outputId": "4f0c76a0-f029-4aff-89f0-2fa2e644667e"
      },
      "outputs": [
        {
          "data": {
            "application/javascript": [
              "(function(root) {\n",
              "  function now() {\n",
              "    return new Date();\n",
              "  }\n",
              "\n",
              "  const force = true;\n",
              "\n",
              "  if (typeof root._bokeh_onload_callbacks === \"undefined\" || force === true) {\n",
              "    root._bokeh_onload_callbacks = [];\n",
              "    root._bokeh_is_loading = undefined;\n",
              "  }\n",
              "\n",
              "const JS_MIME_TYPE = 'application/javascript';\n",
              "  const HTML_MIME_TYPE = 'text/html';\n",
              "  const EXEC_MIME_TYPE = 'application/vnd.bokehjs_exec.v0+json';\n",
              "  const CLASS_NAME = 'output_bokeh rendered_html';\n",
              "\n",
              "  /**\n",
              "   * Render data to the DOM node\n",
              "   */\n",
              "  function render(props, node) {\n",
              "    const script = document.createElement(\"script\");\n",
              "    node.appendChild(script);\n",
              "  }\n",
              "\n",
              "  /**\n",
              "   * Handle when an output is cleared or removed\n",
              "   */\n",
              "  function handleClearOutput(event, handle) {\n",
              "    const cell = handle.cell;\n",
              "\n",
              "    const id = cell.output_area._bokeh_element_id;\n",
              "    const server_id = cell.output_area._bokeh_server_id;\n",
              "    // Clean up Bokeh references\n",
              "    if (id != null && id in Bokeh.index) {\n",
              "      Bokeh.index[id].model.document.clear();\n",
              "      delete Bokeh.index[id];\n",
              "    }\n",
              "\n",
              "    if (server_id !== undefined) {\n",
              "      // Clean up Bokeh references\n",
              "      const cmd_clean = \"from bokeh.io.state import curstate; print(curstate().uuid_to_server['\" + server_id + \"'].get_sessions()[0].document.roots[0]._id)\";\n",
              "      cell.notebook.kernel.execute(cmd_clean, {\n",
              "        iopub: {\n",
              "          output: function(msg) {\n",
              "            const id = msg.content.text.trim();\n",
              "            if (id in Bokeh.index) {\n",
              "              Bokeh.index[id].model.document.clear();\n",
              "              delete Bokeh.index[id];\n",
              "            }\n",
              "          }\n",
              "        }\n",
              "      });\n",
              "      // Destroy server and session\n",
              "      const cmd_destroy = \"import bokeh.io.notebook as ion; ion.destroy_server('\" + server_id + \"')\";\n",
              "      cell.notebook.kernel.execute(cmd_destroy);\n",
              "    }\n",
              "  }\n",
              "\n",
              "  /**\n",
              "   * Handle when a new output is added\n",
              "   */\n",
              "  function handleAddOutput(event, handle) {\n",
              "    const output_area = handle.output_area;\n",
              "    const output = handle.output;\n",
              "\n",
              "    // limit handleAddOutput to display_data with EXEC_MIME_TYPE content only\n",
              "    if ((output.output_type != \"display_data\") || (!Object.prototype.hasOwnProperty.call(output.data, EXEC_MIME_TYPE))) {\n",
              "      return\n",
              "    }\n",
              "\n",
              "    const toinsert = output_area.element.find(\".\" + CLASS_NAME.split(' ')[0]);\n",
              "\n",
              "    if (output.metadata[EXEC_MIME_TYPE][\"id\"] !== undefined) {\n",
              "      toinsert[toinsert.length - 1].firstChild.textContent = output.data[JS_MIME_TYPE];\n",
              "      // store reference to embed id on output_area\n",
              "      output_area._bokeh_element_id = output.metadata[EXEC_MIME_TYPE][\"id\"];\n",
              "    }\n",
              "    if (output.metadata[EXEC_MIME_TYPE][\"server_id\"] !== undefined) {\n",
              "      const bk_div = document.createElement(\"div\");\n",
              "      bk_div.innerHTML = output.data[HTML_MIME_TYPE];\n",
              "      const script_attrs = bk_div.children[0].attributes;\n",
              "      for (let i = 0; i < script_attrs.length; i++) {\n",
              "        toinsert[toinsert.length - 1].firstChild.setAttribute(script_attrs[i].name, script_attrs[i].value);\n",
              "        toinsert[toinsert.length - 1].firstChild.textContent = bk_div.children[0].textContent\n",
              "      }\n",
              "      // store reference to server id on output_area\n",
              "      output_area._bokeh_server_id = output.metadata[EXEC_MIME_TYPE][\"server_id\"];\n",
              "    }\n",
              "  }\n",
              "\n",
              "  function register_renderer(events, OutputArea) {\n",
              "\n",
              "    function append_mime(data, metadata, element) {\n",
              "      // create a DOM node to render to\n",
              "      const toinsert = this.create_output_subarea(\n",
              "        metadata,\n",
              "        CLASS_NAME,\n",
              "        EXEC_MIME_TYPE\n",
              "      );\n",
              "      this.keyboard_manager.register_events(toinsert);\n",
              "      // Render to node\n",
              "      const props = {data: data, metadata: metadata[EXEC_MIME_TYPE]};\n",
              "      render(props, toinsert[toinsert.length - 1]);\n",
              "      element.append(toinsert);\n",
              "      return toinsert\n",
              "    }\n",
              "\n",
              "    /* Handle when an output is cleared or removed */\n",
              "    events.on('clear_output.CodeCell', handleClearOutput);\n",
              "    events.on('delete.Cell', handleClearOutput);\n",
              "\n",
              "    /* Handle when a new output is added */\n",
              "    events.on('output_added.OutputArea', handleAddOutput);\n",
              "\n",
              "    /**\n",
              "     * Register the mime type and append_mime function with output_area\n",
              "     */\n",
              "    OutputArea.prototype.register_mime_type(EXEC_MIME_TYPE, append_mime, {\n",
              "      /* Is output safe? */\n",
              "      safe: true,\n",
              "      /* Index of renderer in `output_area.display_order` */\n",
              "      index: 0\n",
              "    });\n",
              "  }\n",
              "\n",
              "  // register the mime type if in Jupyter Notebook environment and previously unregistered\n",
              "  if (root.Jupyter !== undefined) {\n",
              "    const events = require('base/js/events');\n",
              "    const OutputArea = require('notebook/js/outputarea').OutputArea;\n",
              "\n",
              "    if (OutputArea.prototype.mime_types().indexOf(EXEC_MIME_TYPE) == -1) {\n",
              "      register_renderer(events, OutputArea);\n",
              "    }\n",
              "  }\n",
              "  if (typeof (root._bokeh_timeout) === \"undefined\" || force === true) {\n",
              "    root._bokeh_timeout = Date.now() + 5000;\n",
              "    root._bokeh_failed_load = false;\n",
              "  }\n",
              "\n",
              "  const NB_LOAD_WARNING = {'data': {'text/html':\n",
              "     \"<div style='background-color: #fdd'>\\n\"+\n",
              "     \"<p>\\n\"+\n",
              "     \"BokehJS does not appear to have successfully loaded. If loading BokehJS from CDN, this \\n\"+\n",
              "     \"may be due to a slow or bad network connection. Possible fixes:\\n\"+\n",
              "     \"</p>\\n\"+\n",
              "     \"<ul>\\n\"+\n",
              "     \"<li>re-rerun `output_notebook()` to attempt to load from CDN again, or</li>\\n\"+\n",
              "     \"<li>use INLINE resources instead, as so:</li>\\n\"+\n",
              "     \"</ul>\\n\"+\n",
              "     \"<code>\\n\"+\n",
              "     \"from bokeh.resources import INLINE\\n\"+\n",
              "     \"output_notebook(resources=INLINE)\\n\"+\n",
              "     \"</code>\\n\"+\n",
              "     \"</div>\"}};\n",
              "\n",
              "  function display_loaded() {\n",
              "    const el = document.getElementById(null);\n",
              "    if (el != null) {\n",
              "      el.textContent = \"BokehJS is loading...\";\n",
              "    }\n",
              "    if (root.Bokeh !== undefined) {\n",
              "      if (el != null) {\n",
              "        el.textContent = \"BokehJS \" + root.Bokeh.version + \" successfully loaded.\";\n",
              "      }\n",
              "    } else if (Date.now() < root._bokeh_timeout) {\n",
              "      setTimeout(display_loaded, 100)\n",
              "    }\n",
              "  }\n",
              "\n",
              "  function run_callbacks() {\n",
              "    try {\n",
              "      root._bokeh_onload_callbacks.forEach(function(callback) {\n",
              "        if (callback != null)\n",
              "          callback();\n",
              "      });\n",
              "    } finally {\n",
              "      delete root._bokeh_onload_callbacks\n",
              "    }\n",
              "    console.debug(\"Bokeh: all callbacks have finished\");\n",
              "  }\n",
              "\n",
              "  function load_libs(css_urls, js_urls, callback) {\n",
              "    if (css_urls == null) css_urls = [];\n",
              "    if (js_urls == null) js_urls = [];\n",
              "\n",
              "    root._bokeh_onload_callbacks.push(callback);\n",
              "    if (root._bokeh_is_loading > 0) {\n",
              "      console.debug(\"Bokeh: BokehJS is being loaded, scheduling callback at\", now());\n",
              "      return null;\n",
              "    }\n",
              "    if (js_urls == null || js_urls.length === 0) {\n",
              "      run_callbacks();\n",
              "      return null;\n",
              "    }\n",
              "    console.debug(\"Bokeh: BokehJS not loaded, scheduling load and callback at\", now());\n",
              "    root._bokeh_is_loading = css_urls.length + js_urls.length;\n",
              "\n",
              "    function on_load() {\n",
              "      root._bokeh_is_loading--;\n",
              "      if (root._bokeh_is_loading === 0) {\n",
              "        console.debug(\"Bokeh: all BokehJS libraries/stylesheets loaded\");\n",
              "        run_callbacks()\n",
              "      }\n",
              "    }\n",
              "\n",
              "    function on_error(url) {\n",
              "      console.error(\"failed to load \" + url);\n",
              "    }\n",
              "\n",
              "    for (let i = 0; i < css_urls.length; i++) {\n",
              "      const url = css_urls[i];\n",
              "      const element = document.createElement(\"link\");\n",
              "      element.onload = on_load;\n",
              "      element.onerror = on_error.bind(null, url);\n",
              "      element.rel = \"stylesheet\";\n",
              "      element.type = \"text/css\";\n",
              "      element.href = url;\n",
              "      console.debug(\"Bokeh: injecting link tag for BokehJS stylesheet: \", url);\n",
              "      document.body.appendChild(element);\n",
              "    }\n",
              "\n",
              "    for (let i = 0; i < js_urls.length; i++) {\n",
              "      const url = js_urls[i];\n",
              "      const element = document.createElement('script');\n",
              "      element.onload = on_load;\n",
              "      element.onerror = on_error.bind(null, url);\n",
              "      element.async = false;\n",
              "      element.src = url;\n",
              "      console.debug(\"Bokeh: injecting script tag for BokehJS library: \", url);\n",
              "      document.head.appendChild(element);\n",
              "    }\n",
              "  };\n",
              "\n",
              "  function inject_raw_css(css) {\n",
              "    const element = document.createElement(\"style\");\n",
              "    element.appendChild(document.createTextNode(css));\n",
              "    document.body.appendChild(element);\n",
              "  }\n",
              "\n",
              "  const js_urls = [\"https://cdn.bokeh.org/bokeh/release/bokeh-2.4.3.min.js\", \"https://cdn.bokeh.org/bokeh/release/bokeh-gl-2.4.3.min.js\", \"https://cdn.bokeh.org/bokeh/release/bokeh-widgets-2.4.3.min.js\", \"https://cdn.bokeh.org/bokeh/release/bokeh-tables-2.4.3.min.js\", \"https://cdn.bokeh.org/bokeh/release/bokeh-mathjax-2.4.3.min.js\"];\n",
              "  const css_urls = [];\n",
              "\n",
              "  const inline_js = [    function(Bokeh) {\n",
              "      Bokeh.set_log_level(\"info\");\n",
              "    },\n",
              "function(Bokeh) {\n",
              "    }\n",
              "  ];\n",
              "\n",
              "  function run_inline_js() {\n",
              "    if (root.Bokeh !== undefined || force === true) {\n",
              "          for (let i = 0; i < inline_js.length; i++) {\n",
              "      inline_js[i].call(root, root.Bokeh);\n",
              "    }\n",
              "} else if (Date.now() < root._bokeh_timeout) {\n",
              "      setTimeout(run_inline_js, 100);\n",
              "    } else if (!root._bokeh_failed_load) {\n",
              "      console.log(\"Bokeh: BokehJS failed to load within specified timeout.\");\n",
              "      root._bokeh_failed_load = true;\n",
              "    } else if (force !== true) {\n",
              "      const cell = $(document.getElementById(null)).parents('.cell').data().cell;\n",
              "      cell.output_area.append_execute_result(NB_LOAD_WARNING)\n",
              "    }\n",
              "  }\n",
              "\n",
              "  if (root._bokeh_is_loading === 0) {\n",
              "    console.debug(\"Bokeh: BokehJS loaded, going straight to plotting\");\n",
              "    run_inline_js();\n",
              "  } else {\n",
              "    load_libs(css_urls, js_urls, function() {\n",
              "      console.debug(\"Bokeh: BokehJS plotting callback run at\", now());\n",
              "      run_inline_js();\n",
              "    });\n",
              "  }\n",
              "}(window));"
            ],
            "application/vnd.bokehjs_load.v0+json": "(function(root) {\n  function now() {\n    return new Date();\n  }\n\n  const force = true;\n\n  if (typeof root._bokeh_onload_callbacks === \"undefined\" || force === true) {\n    root._bokeh_onload_callbacks = [];\n    root._bokeh_is_loading = undefined;\n  }\n\n\n  if (typeof (root._bokeh_timeout) === \"undefined\" || force === true) {\n    root._bokeh_timeout = Date.now() + 5000;\n    root._bokeh_failed_load = false;\n  }\n\n  const NB_LOAD_WARNING = {'data': {'text/html':\n     \"<div style='background-color: #fdd'>\\n\"+\n     \"<p>\\n\"+\n     \"BokehJS does not appear to have successfully loaded. If loading BokehJS from CDN, this \\n\"+\n     \"may be due to a slow or bad network connection. Possible fixes:\\n\"+\n     \"</p>\\n\"+\n     \"<ul>\\n\"+\n     \"<li>re-rerun `output_notebook()` to attempt to load from CDN again, or</li>\\n\"+\n     \"<li>use INLINE resources instead, as so:</li>\\n\"+\n     \"</ul>\\n\"+\n     \"<code>\\n\"+\n     \"from bokeh.resources import INLINE\\n\"+\n     \"output_notebook(resources=INLINE)\\n\"+\n     \"</code>\\n\"+\n     \"</div>\"}};\n\n  function display_loaded() {\n    const el = document.getElementById(null);\n    if (el != null) {\n      el.textContent = \"BokehJS is loading...\";\n    }\n    if (root.Bokeh !== undefined) {\n      if (el != null) {\n        el.textContent = \"BokehJS \" + root.Bokeh.version + \" successfully loaded.\";\n      }\n    } else if (Date.now() < root._bokeh_timeout) {\n      setTimeout(display_loaded, 100)\n    }\n  }\n\n  function run_callbacks() {\n    try {\n      root._bokeh_onload_callbacks.forEach(function(callback) {\n        if (callback != null)\n          callback();\n      });\n    } finally {\n      delete root._bokeh_onload_callbacks\n    }\n    console.debug(\"Bokeh: all callbacks have finished\");\n  }\n\n  function load_libs(css_urls, js_urls, callback) {\n    if (css_urls == null) css_urls = [];\n    if (js_urls == null) js_urls = [];\n\n    root._bokeh_onload_callbacks.push(callback);\n    if (root._bokeh_is_loading > 0) {\n      console.debug(\"Bokeh: BokehJS is being loaded, scheduling callback at\", now());\n      return null;\n    }\n    if (js_urls == null || js_urls.length === 0) {\n      run_callbacks();\n      return null;\n    }\n    console.debug(\"Bokeh: BokehJS not loaded, scheduling load and callback at\", now());\n    root._bokeh_is_loading = css_urls.length + js_urls.length;\n\n    function on_load() {\n      root._bokeh_is_loading--;\n      if (root._bokeh_is_loading === 0) {\n        console.debug(\"Bokeh: all BokehJS libraries/stylesheets loaded\");\n        run_callbacks()\n      }\n    }\n\n    function on_error(url) {\n      console.error(\"failed to load \" + url);\n    }\n\n    for (let i = 0; i < css_urls.length; i++) {\n      const url = css_urls[i];\n      const element = document.createElement(\"link\");\n      element.onload = on_load;\n      element.onerror = on_error.bind(null, url);\n      element.rel = \"stylesheet\";\n      element.type = \"text/css\";\n      element.href = url;\n      console.debug(\"Bokeh: injecting link tag for BokehJS stylesheet: \", url);\n      document.body.appendChild(element);\n    }\n\n    for (let i = 0; i < js_urls.length; i++) {\n      const url = js_urls[i];\n      const element = document.createElement('script');\n      element.onload = on_load;\n      element.onerror = on_error.bind(null, url);\n      element.async = false;\n      element.src = url;\n      console.debug(\"Bokeh: injecting script tag for BokehJS library: \", url);\n      document.head.appendChild(element);\n    }\n  };\n\n  function inject_raw_css(css) {\n    const element = document.createElement(\"style\");\n    element.appendChild(document.createTextNode(css));\n    document.body.appendChild(element);\n  }\n\n  const js_urls = [\"https://cdn.bokeh.org/bokeh/release/bokeh-2.4.3.min.js\", \"https://cdn.bokeh.org/bokeh/release/bokeh-gl-2.4.3.min.js\", \"https://cdn.bokeh.org/bokeh/release/bokeh-widgets-2.4.3.min.js\", \"https://cdn.bokeh.org/bokeh/release/bokeh-tables-2.4.3.min.js\", \"https://cdn.bokeh.org/bokeh/release/bokeh-mathjax-2.4.3.min.js\"];\n  const css_urls = [];\n\n  const inline_js = [    function(Bokeh) {\n      Bokeh.set_log_level(\"info\");\n    },\nfunction(Bokeh) {\n    }\n  ];\n\n  function run_inline_js() {\n    if (root.Bokeh !== undefined || force === true) {\n          for (let i = 0; i < inline_js.length; i++) {\n      inline_js[i].call(root, root.Bokeh);\n    }\n} else if (Date.now() < root._bokeh_timeout) {\n      setTimeout(run_inline_js, 100);\n    } else if (!root._bokeh_failed_load) {\n      console.log(\"Bokeh: BokehJS failed to load within specified timeout.\");\n      root._bokeh_failed_load = true;\n    } else if (force !== true) {\n      const cell = $(document.getElementById(null)).parents('.cell').data().cell;\n      cell.output_area.append_execute_result(NB_LOAD_WARNING)\n    }\n  }\n\n  if (root._bokeh_is_loading === 0) {\n    console.debug(\"Bokeh: BokehJS loaded, going straight to plotting\");\n    run_inline_js();\n  } else {\n    load_libs(css_urls, js_urls, function() {\n      console.debug(\"Bokeh: BokehJS plotting callback run at\", now());\n      run_inline_js();\n    });\n  }\n}(window));"
          },
          "metadata": {},
          "output_type": "display_data"
        },
        {
          "data": {
            "text/html": [
              "\n",
              "  <div class=\"bk-root\" id=\"28f1a0e3-8d02-4f63-a46e-1de87cceee7d\" data-root-id=\"1113\"></div>\n"
            ]
          },
          "metadata": {},
          "output_type": "display_data"
        },
        {
          "data": {
            "application/javascript": [
              "(function(root) {\n",
              "  function embed_document(root) {\n",
              "  const docs_json = {\"7d5dc82b-81a7-4561-8f9f-6bae6e1dee22\":{\"defs\":[],\"roots\":{\"references\":[{\"attributes\":{\"below\":[{\"id\":\"1122\"}],\"center\":[{\"id\":\"1125\"},{\"id\":\"1129\"}],\"height\":400,\"left\":[{\"id\":\"1126\"}],\"renderers\":[{\"id\":\"1148\"}],\"title\":{\"id\":\"1163\"},\"toolbar\":{\"id\":\"1137\"},\"x_range\":{\"id\":\"1114\"},\"x_scale\":{\"id\":\"1118\"},\"y_range\":{\"id\":\"1116\"},\"y_scale\":{\"id\":\"1120\"}},\"id\":\"1113\",\"subtype\":\"Figure\",\"type\":\"Plot\"},{\"attributes\":{\"data\":{\"color\":[\"green\",\"green\",\"green\",\"green\",\"green\",\"green\",\"green\",\"green\",\"green\",\"green\",\"green\",\"green\",\"green\",\"green\",\"green\",\"green\",\"green\",\"green\",\"green\",\"green\",\"green\",\"green\",\"green\",\"green\",\"green\",\"green\",\"green\",\"green\",\"green\",\"green\",\"green\",\"green\",\"green\",\"green\",\"green\",\"green\",\"green\",\"green\",\"green\",\"green\",\"green\",\"green\",\"green\",\"green\",\"green\",\"green\",\"green\",\"green\",\"green\",\"green\",\"green\",\"green\",\"green\",\"green\",\"green\",\"green\",\"green\",\"green\",\"green\",\"green\",\"green\",\"green\",\"green\",\"green\",\"green\",\"green\",\"green\",\"green\",\"green\",\"green\",\"green\",\"green\",\"green\",\"green\",\"green\",\"green\",\"green\",\"green\",\"green\",\"green\",\"green\",\"green\",\"green\",\"green\",\"green\",\"green\",\"green\",\"green\",\"green\",\"green\",\"green\",\"green\",\"green\",\"green\",\"green\",\"green\",\"green\",\"green\",\"green\",\"green\",\"green\",\"green\",\"green\",\"green\",\"green\",\"green\",\"green\",\"green\",\"green\",\"green\",\"green\",\"green\",\"green\",\"green\",\"green\",\"green\",\"green\",\"green\",\"green\",\"green\",\"green\",\"green\",\"green\",\"green\",\"green\",\"green\",\"green\",\"green\",\"green\",\"green\",\"green\",\"green\",\"green\",\"green\",\"green\",\"green\",\"green\",\"green\",\"green\",\"green\",\"green\",\"green\",\"green\",\"green\",\"green\",\"green\",\"green\",\"green\",\"green\",\"green\",\"green\",\"green\",\"green\",\"green\",\"green\",\"green\",\"green\",\"green\",\"green\",\"green\",\"green\",\"green\",\"green\",\"green\",\"green\",\"green\",\"green\",\"green\",\"green\",\"green\",\"green\",\"green\",\"green\",\"green\",\"green\",\"green\",\"green\",\"green\",\"green\",\"green\",\"green\",\"green\",\"green\",\"green\",\"green\",\"green\",\"green\",\"green\",\"green\",\"green\",\"green\",\"green\",\"green\",\"green\",\"green\",\"green\",\"green\",\"green\",\"green\",\"green\",\"green\",\"green\",\"green\",\"green\",\"green\",\"green\",\"green\",\"green\",\"green\",\"green\",\"green\",\"green\",\"green\",\"green\",\"green\",\"green\",\"green\",\"green\",\"green\",\"green\",\"green\",\"green\",\"green\",\"green\",\"green\",\"green\",\"green\",\"green\",\"green\",\"green\",\"green\",\"green\",\"green\",\"green\",\"green\",\"green\",\"green\",\"green\",\"green\",\"green\",\"green\",\"green\",\"green\",\"green\",\"green\",\"green\",\"green\",\"green\",\"green\",\"green\",\"green\",\"green\",\"green\",\"green\",\"green\",\"green\",\"green\",\"green\",\"green\",\"green\",\"green\",\"green\",\"green\",\"green\",\"green\",\"green\",\"green\",\"green\",\"green\",\"green\",\"green\",\"green\",\"green\",\"green\",\"green\",\"green\",\"green\",\"green\",\"green\",\"green\",\"green\",\"green\",\"green\",\"green\",\"green\",\"green\",\"green\",\"green\",\"green\",\"green\",\"green\",\"green\",\"green\",\"green\",\"green\",\"green\",\"green\",\"green\",\"green\",\"green\",\"green\",\"green\",\"green\",\"green\",\"green\",\"green\",\"green\",\"green\",\"green\",\"green\",\"green\",\"green\",\"green\",\"green\",\"green\",\"green\",\"green\",\"green\",\"green\",\"green\",\"green\",\"green\",\"green\",\"green\",\"green\",\"green\",\"green\",\"green\",\"green\",\"green\",\"green\",\"green\",\"green\",\"green\",\"green\",\"green\",\"green\",\"green\",\"green\",\"green\",\"green\",\"green\",\"green\",\"green\",\"green\",\"green\",\"green\",\"green\",\"green\",\"green\",\"green\",\"green\",\"green\",\"green\",\"green\",\"green\",\"green\",\"green\",\"green\",\"green\",\"green\",\"green\",\"green\",\"green\",\"green\",\"green\",\"green\",\"green\",\"green\",\"green\",\"green\",\"green\",\"green\",\"green\",\"green\",\"green\",\"green\",\"green\",\"green\",\"green\",\"green\",\"green\",\"green\",\"green\",\"green\",\"green\",\"green\",\"green\",\"green\",\"green\",\"green\",\"green\",\"green\",\"green\",\"green\",\"green\",\"green\",\"green\",\"green\",\"green\",\"green\",\"green\",\"green\",\"green\",\"green\",\"green\",\"green\",\"green\",\"green\",\"green\",\"green\",\"green\",\"green\",\"green\",\"green\",\"green\",\"green\",\"green\",\"green\",\"green\",\"green\",\"green\",\"green\",\"green\",\"green\",\"green\",\"green\",\"green\",\"green\",\"green\",\"green\",\"green\",\"green\",\"green\",\"green\",\"green\",\"green\",\"green\",\"green\",\"green\",\"green\",\"green\",\"green\",\"green\",\"green\",\"green\",\"green\",\"green\",\"green\",\"green\",\"green\",\"green\",\"green\",\"green\",\"green\",\"green\",\"green\",\"green\",\"green\",\"green\",\"green\",\"green\",\"green\",\"green\",\"green\",\"green\",\"green\",\"green\",\"green\",\"green\",\"green\",\"green\",\"green\",\"green\",\"green\",\"green\",\"green\",\"green\",\"green\",\"green\",\"green\",\"green\",\"green\",\"green\",\"green\",\"green\",\"green\",\"green\",\"green\",\"green\",\"green\",\"green\",\"green\",\"green\",\"green\",\"green\",\"green\",\"green\",\"green\",\"green\",\"green\",\"green\",\"green\",\"green\",\"green\",\"green\",\"green\",\"green\",\"green\",\"green\",\"green\",\"green\",\"green\",\"green\",\"green\",\"green\",\"green\",\"green\",\"green\",\"green\",\"green\",\"green\",\"green\",\"green\",\"green\",\"green\",\"green\",\"green\",\"green\",\"green\",\"green\",\"green\",\"green\",\"green\",\"green\",\"green\",\"green\",\"green\",\"green\",\"green\",\"green\",\"green\",\"green\",\"green\",\"green\",\"green\",\"green\",\"green\",\"green\",\"green\",\"green\",\"green\",\"green\",\"green\",\"green\",\"green\",\"green\",\"green\",\"green\",\"green\",\"green\",\"green\",\"green\",\"green\",\"green\",\"green\",\"green\",\"green\",\"green\",\"green\",\"green\",\"green\",\"green\",\"green\",\"green\",\"green\",\"green\",\"green\",\"green\",\"green\",\"green\",\"green\",\"green\",\"green\",\"green\",\"green\",\"green\",\"green\",\"green\",\"green\",\"green\",\"green\",\"green\",\"green\",\"green\",\"green\",\"green\",\"green\",\"green\",\"green\",\"green\",\"green\",\"green\",\"green\",\"green\",\"green\",\"green\",\"green\",\"green\",\"green\",\"green\",\"green\",\"green\",\"green\",\"green\",\"green\",\"green\",\"green\",\"green\",\"green\",\"green\",\"green\",\"green\",\"green\",\"green\",\"green\",\"green\",\"green\",\"green\",\"green\",\"green\",\"green\",\"green\",\"green\",\"green\",\"green\",\"green\",\"green\",\"green\",\"green\",\"green\",\"green\",\"green\",\"green\",\"green\",\"green\",\"green\",\"green\",\"green\",\"green\",\"green\",\"green\",\"green\",\"green\",\"green\",\"green\",\"green\",\"green\",\"green\",\"green\",\"green\",\"green\",\"green\",\"green\",\"green\",\"green\",\"green\",\"green\",\"green\",\"green\",\"green\",\"green\",\"green\",\"green\",\"green\",\"green\",\"green\",\"green\",\"green\",\"green\",\"green\",\"green\",\"green\",\"green\",\"green\",\"green\",\"green\",\"green\",\"green\",\"green\",\"green\",\"green\",\"green\",\"green\",\"green\",\"green\",\"green\",\"green\",\"green\",\"green\",\"green\",\"green\",\"green\",\"green\",\"green\",\"green\",\"green\",\"green\",\"green\",\"green\",\"green\",\"green\",\"green\",\"green\",\"green\",\"green\",\"green\",\"green\",\"green\",\"green\",\"green\",\"green\",\"green\",\"green\",\"green\",\"green\",\"green\",\"green\",\"green\",\"green\",\"green\",\"green\",\"green\",\"green\",\"green\",\"green\",\"green\",\"green\",\"green\",\"green\",\"green\",\"green\",\"green\",\"green\",\"green\",\"green\",\"green\",\"green\",\"green\",\"green\",\"green\",\"green\",\"green\",\"green\",\"green\",\"green\",\"green\",\"green\",\"green\",\"green\",\"green\",\"green\",\"green\",\"green\",\"green\",\"green\",\"green\",\"green\",\"green\",\"green\",\"green\",\"green\",\"green\",\"green\",\"green\",\"green\",\"green\",\"green\",\"green\",\"green\",\"green\",\"green\",\"green\",\"green\",\"green\",\"green\",\"green\",\"green\",\"green\",\"green\",\"green\",\"green\",\"green\",\"green\",\"green\",\"green\",\"green\",\"green\",\"green\",\"green\",\"green\",\"green\",\"green\",\"green\",\"green\",\"green\",\"green\",\"green\",\"green\",\"green\",\"green\",\"green\",\"green\",\"green\",\"green\",\"green\",\"green\",\"green\",\"green\",\"green\",\"green\",\"green\",\"green\",\"green\",\"green\",\"green\",\"green\",\"green\",\"green\",\"green\",\"green\",\"green\",\"green\",\"green\",\"green\",\"green\",\"green\",\"green\",\"green\",\"green\",\"green\",\"green\",\"green\",\"green\",\"green\",\"green\",\"green\",\"green\",\"green\",\"green\",\"green\",\"green\",\"green\",\"green\",\"green\",\"green\",\"green\",\"green\",\"green\",\"green\",\"green\",\"green\",\"green\",\"green\",\"green\",\"green\",\"green\",\"green\",\"green\",\"green\",\"green\",\"green\",\"green\",\"green\",\"green\",\"green\",\"green\",\"green\",\"green\",\"green\",\"green\",\"green\",\"green\",\"green\",\"green\",\"green\",\"green\",\"green\",\"green\",\"green\",\"green\",\"green\",\"green\",\"green\",\"green\",\"green\",\"green\",\"green\",\"green\",\"green\",\"green\",\"green\",\"green\",\"green\",\"green\",\"green\",\"green\",\"green\",\"green\",\"green\",\"green\",\"green\",\"green\",\"green\",\"green\",\"green\",\"green\",\"green\",\"green\",\"green\",\"green\",\"green\",\"green\",\"green\",\"green\",\"green\",\"green\",\"green\",\"green\",\"green\",\"green\",\"green\",\"green\",\"green\",\"green\",\"green\",\"green\",\"green\",\"green\",\"green\",\"green\",\"green\",\"green\",\"green\",\"green\",\"green\",\"green\",\"green\",\"green\",\"green\",\"green\",\"green\",\"green\",\"green\",\"green\",\"green\",\"green\",\"green\",\"green\",\"green\",\"green\",\"green\",\"green\",\"green\",\"green\",\"green\",\"green\",\"green\",\"green\",\"green\",\"green\",\"green\",\"green\",\"green\",\"green\",\"green\",\"green\",\"green\",\"green\",\"green\",\"green\",\"green\",\"green\",\"green\",\"green\",\"green\",\"green\",\"green\",\"green\",\"green\",\"green\",\"green\",\"green\",\"green\",\"green\",\"green\",\"green\",\"green\",\"green\",\"green\",\"green\",\"green\",\"green\",\"green\",\"green\",\"green\",\"green\",\"green\",\"green\",\"green\",\"green\",\"green\",\"green\",\"green\",\"green\",\"green\",\"green\",\"green\",\"green\",\"green\",\"green\",\"green\",\"green\",\"green\",\"green\",\"green\",\"green\",\"green\",\"green\",\"green\",\"green\",\"green\",\"green\",\"green\",\"green\",\"green\",\"green\",\"green\",\"green\",\"green\",\"green\",\"green\",\"green\",\"green\",\"green\",\"green\",\"green\",\"green\",\"green\",\"green\",\"green\",\"green\",\"green\",\"green\",\"green\",\"green\",\"green\",\"green\",\"green\",\"green\",\"green\",\"green\",\"green\",\"green\",\"green\",\"green\",\"green\",\"green\",\"green\",\"green\",\"green\",\"green\",\"green\",\"green\",\"green\",\"green\",\"green\",\"green\",\"green\",\"green\",\"green\",\"green\",\"green\",\"green\",\"green\",\"green\",\"green\",\"green\",\"green\",\"green\",\"green\",\"green\",\"green\",\"green\",\"green\",\"green\",\"green\",\"green\",\"green\",\"green\",\"green\",\"green\",\"green\",\"green\",\"green\",\"green\",\"green\",\"green\",\"green\",\"green\",\"green\",\"green\",\"green\",\"green\",\"green\",\"green\",\"green\",\"green\",\"green\",\"green\",\"green\",\"green\",\"green\",\"green\",\"green\",\"green\",\"green\",\"green\",\"green\",\"green\",\"green\",\"green\",\"green\",\"green\",\"green\",\"green\",\"green\",\"green\",\"green\",\"green\",\"green\",\"green\",\"green\",\"green\",\"green\",\"green\",\"green\",\"green\",\"green\",\"green\",\"green\",\"green\",\"green\",\"green\",\"green\",\"green\",\"green\",\"green\",\"green\",\"green\",\"green\",\"green\",\"green\",\"green\",\"green\",\"green\",\"green\",\"green\",\"green\",\"green\",\"green\",\"green\",\"green\",\"green\",\"green\",\"green\",\"green\",\"green\",\"green\",\"green\",\"green\",\"green\",\"green\",\"green\",\"green\",\"green\",\"green\",\"green\",\"green\",\"green\",\"green\",\"green\",\"green\",\"green\",\"green\",\"green\",\"green\",\"green\",\"green\",\"green\",\"green\",\"green\",\"green\",\"green\",\"green\",\"green\",\"green\",\"green\",\"green\",\"green\",\"green\",\"green\",\"green\",\"green\",\"green\",\"green\",\"green\",\"green\",\"green\",\"green\",\"green\",\"green\",\"green\",\"green\",\"green\",\"green\",\"green\",\"green\",\"green\",\"green\",\"green\",\"green\",\"green\",\"green\",\"green\",\"green\",\"green\",\"green\",\"green\",\"green\",\"green\",\"green\",\"green\",\"green\",\"green\",\"green\",\"green\",\"green\",\"green\",\"green\",\"green\",\"green\",\"green\",\"green\",\"green\",\"green\",\"green\",\"green\",\"green\",\"green\",\"green\",\"green\",\"green\",\"green\",\"green\",\"green\",\"green\",\"green\",\"green\",\"green\",\"green\",\"green\",\"green\",\"green\",\"green\",\"green\",\"green\",\"green\",\"green\",\"green\",\"green\",\"green\",\"green\",\"green\",\"green\",\"green\",\"green\",\"green\",\"green\",\"green\",\"green\",\"green\",\"green\",\"green\",\"green\",\"green\",\"green\",\"green\",\"green\",\"green\",\"green\",\"green\",\"green\",\"green\",\"green\",\"green\",\"green\",\"green\",\"green\",\"green\",\"green\",\"green\",\"green\",\"green\",\"green\",\"green\",\"green\",\"green\",\"green\",\"green\",\"green\",\"green\",\"green\",\"green\",\"green\",\"green\",\"green\",\"green\",\"green\",\"green\",\"green\",\"green\",\"green\",\"green\",\"green\",\"green\",\"green\",\"green\",\"green\",\"green\",\"green\",\"green\",\"green\",\"green\",\"green\",\"green\",\"green\",\"green\",\"green\",\"green\",\"green\",\"green\",\"green\",\"green\",\"green\",\"green\",\"green\",\"green\",\"green\",\"green\",\"green\",\"green\",\"green\",\"green\",\"green\",\"green\",\"green\",\"green\",\"green\",\"green\",\"green\",\"green\",\"green\",\"green\",\"green\",\"green\",\"green\",\"green\",\"green\",\"green\",\"green\",\"green\",\"green\",\"green\",\"green\",\"green\",\"green\",\"green\",\"green\",\"green\",\"green\",\"green\",\"green\",\"green\",\"green\",\"green\",\"green\",\"green\",\"green\",\"green\",\"green\",\"green\",\"green\",\"green\",\"green\",\"green\",\"green\",\"green\",\"green\",\"green\",\"green\",\"green\",\"green\",\"green\",\"green\",\"green\",\"green\",\"green\",\"green\",\"green\",\"green\",\"green\",\"green\",\"green\",\"green\",\"green\",\"green\",\"green\",\"green\",\"green\",\"green\",\"green\",\"green\",\"green\",\"green\",\"green\",\"green\",\"green\",\"green\",\"green\",\"green\",\"green\",\"green\",\"green\",\"green\",\"green\",\"green\",\"green\",\"green\",\"green\",\"green\",\"green\",\"green\",\"green\",\"green\",\"green\",\"green\",\"green\",\"green\",\"green\",\"green\",\"green\",\"green\",\"green\",\"green\",\"green\",\"green\",\"green\",\"green\",\"green\",\"green\",\"green\",\"green\",\"green\",\"green\",\"green\",\"green\",\"green\",\"green\",\"green\",\"green\",\"green\",\"green\",\"green\",\"green\",\"green\",\"green\",\"green\",\"green\",\"green\",\"green\",\"green\",\"green\",\"green\",\"green\",\"green\",\"green\",\"green\",\"green\",\"green\",\"green\",\"green\",\"green\",\"green\",\"green\",\"green\",\"green\",\"green\",\"green\",\"green\",\"green\",\"green\",\"green\",\"green\",\"green\",\"green\",\"green\",\"green\",\"green\",\"green\",\"green\",\"green\",\"green\",\"green\",\"green\",\"green\",\"green\",\"green\",\"green\",\"green\",\"green\",\"green\",\"green\",\"green\",\"green\",\"green\",\"green\",\"green\",\"green\",\"green\",\"green\",\"green\",\"green\",\"green\",\"green\",\"green\",\"green\",\"green\",\"green\",\"green\",\"green\",\"green\",\"green\",\"green\",\"green\",\"green\",\"green\",\"green\",\"green\",\"green\",\"green\",\"green\",\"green\",\"green\",\"green\",\"green\",\"green\",\"green\",\"green\",\"green\",\"green\",\"green\",\"green\",\"green\",\"green\",\"green\",\"green\",\"green\",\"green\",\"green\",\"green\",\"green\",\"green\",\"green\",\"green\",\"green\",\"green\",\"green\",\"green\",\"green\",\"green\",\"green\",\"green\",\"green\",\"green\",\"green\",\"green\",\"green\",\"green\",\"green\",\"green\",\"green\",\"green\",\"green\",\"green\",\"green\",\"green\",\"green\",\"green\",\"green\",\"green\",\"green\",\"green\",\"green\",\"green\",\"green\",\"green\",\"green\",\"green\",\"green\",\"green\",\"green\",\"green\",\"green\",\"green\",\"green\",\"green\",\"green\",\"green\",\"green\",\"green\",\"green\",\"green\",\"green\",\"green\",\"green\",\"green\",\"green\",\"green\",\"green\",\"green\",\"green\",\"green\",\"green\",\"green\",\"green\",\"green\",\"green\",\"green\",\"green\",\"green\",\"green\",\"green\",\"green\",\"green\",\"green\",\"green\",\"green\",\"green\",\"green\",\"green\",\"green\",\"green\",\"green\",\"green\",\"green\",\"green\",\"green\",\"green\",\"green\",\"green\",\"green\",\"green\",\"green\",\"green\",\"green\",\"green\",\"green\",\"green\",\"green\",\"green\",\"green\",\"green\",\"green\",\"green\",\"green\",\"green\",\"green\",\"green\",\"green\",\"green\",\"green\",\"green\",\"green\",\"green\",\"green\",\"green\",\"green\",\"green\",\"green\",\"green\",\"green\",\"green\",\"green\",\"green\",\"green\",\"green\",\"green\",\"green\",\"green\",\"green\",\"green\",\"green\",\"green\",\"green\",\"green\",\"green\",\"green\",\"green\",\"green\",\"green\",\"green\",\"green\",\"green\",\"green\",\"green\",\"green\",\"green\",\"green\",\"green\",\"green\",\"green\",\"green\",\"green\",\"green\",\"green\",\"green\",\"green\",\"green\",\"green\",\"green\",\"green\",\"green\",\"green\",\"green\",\"green\",\"green\",\"green\",\"green\",\"green\",\"green\",\"green\",\"green\",\"green\",\"green\",\"green\",\"green\",\"green\",\"green\",\"green\",\"green\",\"green\",\"green\",\"green\",\"green\",\"green\",\"green\",\"green\",\"green\",\"green\",\"green\",\"green\",\"green\",\"green\",\"green\",\"green\",\"green\",\"green\",\"green\",\"green\",\"green\",\"green\",\"green\",\"green\",\"green\",\"green\",\"green\",\"green\",\"green\",\"green\",\"green\",\"green\",\"green\",\"green\",\"green\",\"green\",\"green\",\"green\",\"green\",\"green\",\"green\",\"green\",\"green\",\"green\",\"green\",\"green\",\"green\",\"green\",\"green\",\"green\",\"green\",\"green\",\"green\",\"green\",\"green\",\"green\",\"green\",\"green\",\"green\",\"green\",\"green\",\"green\",\"green\",\"green\",\"green\",\"green\",\"green\",\"green\",\"green\",\"green\",\"green\",\"green\",\"green\",\"green\",\"green\",\"green\",\"green\",\"green\",\"green\",\"green\",\"green\",\"green\",\"green\",\"green\",\"green\",\"green\",\"green\",\"green\",\"green\",\"green\",\"green\",\"green\",\"green\",\"green\",\"green\",\"green\",\"green\",\"green\",\"green\",\"green\",\"green\",\"green\",\"green\",\"green\",\"green\",\"green\",\"green\",\"green\",\"green\",\"green\",\"green\",\"green\",\"green\",\"green\",\"green\",\"green\",\"green\",\"green\",\"green\",\"green\",\"green\",\"green\",\"green\",\"green\",\"green\",\"green\",\"green\",\"green\",\"green\",\"green\",\"green\",\"green\",\"green\",\"green\",\"green\",\"green\",\"green\",\"green\",\"green\",\"green\",\"green\",\"green\",\"green\",\"green\",\"green\",\"green\",\"green\",\"green\",\"green\",\"green\",\"green\",\"green\",\"green\",\"green\",\"green\",\"green\",\"green\",\"green\",\"green\",\"green\",\"green\",\"green\",\"green\",\"green\",\"green\",\"green\",\"green\",\"green\",\"green\",\"green\",\"green\",\"green\",\"green\",\"green\",\"green\",\"green\",\"green\",\"green\",\"green\",\"green\",\"green\",\"green\",\"green\",\"green\",\"green\",\"green\",\"green\",\"green\",\"green\",\"green\",\"green\",\"green\",\"green\",\"green\",\"green\",\"green\",\"green\",\"green\",\"green\",\"green\",\"green\",\"green\",\"green\",\"green\",\"green\",\"green\",\"green\",\"green\",\"green\",\"green\",\"green\",\"green\",\"green\",\"green\",\"green\",\"green\",\"green\",\"green\",\"green\",\"green\",\"green\",\"green\",\"green\",\"green\",\"green\",\"green\",\"green\",\"green\",\"green\",\"green\",\"green\",\"green\",\"green\",\"green\",\"green\",\"green\",\"green\",\"green\",\"green\",\"green\",\"green\",\"green\",\"green\",\"green\",\"green\",\"green\",\"green\",\"green\",\"green\",\"green\",\"green\",\"green\",\"green\",\"green\",\"green\",\"green\",\"green\",\"green\",\"green\",\"green\",\"green\",\"green\",\"green\",\"green\",\"green\",\"green\",\"green\",\"green\",\"green\",\"green\",\"green\",\"green\",\"green\",\"green\",\"green\",\"green\",\"green\",\"green\",\"green\",\"green\",\"green\",\"green\",\"green\",\"green\",\"green\",\"green\",\"green\",\"green\",\"green\",\"green\",\"green\",\"green\",\"green\",\"green\",\"green\",\"green\",\"green\",\"green\",\"green\",\"green\",\"green\",\"green\",\"green\",\"green\",\"green\",\"green\",\"green\",\"green\",\"green\",\"green\",\"green\",\"green\",\"green\",\"green\",\"green\",\"green\",\"green\",\"green\",\"green\",\"green\",\"green\",\"green\",\"green\",\"green\",\"green\",\"green\",\"green\",\"green\",\"green\",\"green\",\"green\",\"green\",\"green\",\"green\",\"green\",\"green\",\"green\",\"green\",\"green\",\"green\",\"green\",\"green\",\"green\",\"green\",\"green\",\"green\",\"green\",\"green\",\"green\",\"green\",\"green\",\"green\",\"green\",\"green\",\"green\",\"green\",\"green\",\"green\",\"green\",\"green\",\"green\",\"green\",\"green\",\"green\",\"green\",\"green\",\"green\",\"green\",\"green\",\"green\",\"green\",\"green\",\"green\",\"green\",\"green\",\"green\",\"green\",\"green\",\"green\",\"green\",\"green\",\"green\",\"green\",\"green\",\"green\",\"green\",\"green\",\"green\",\"green\",\"green\",\"green\",\"green\",\"green\",\"green\",\"green\",\"green\",\"green\",\"green\",\"green\",\"green\",\"green\",\"green\",\"green\",\"green\",\"green\",\"green\",\"green\",\"green\",\"green\",\"green\",\"green\",\"green\",\"green\",\"green\",\"green\",\"green\",\"green\",\"green\",\"green\",\"green\",\"green\",\"green\",\"green\",\"green\",\"green\",\"green\",\"green\",\"green\",\"green\",\"green\",\"green\",\"green\",\"green\",\"green\",\"green\",\"green\",\"green\",\"green\",\"green\",\"green\",\"green\",\"green\",\"green\",\"green\",\"green\",\"green\",\"green\",\"green\",\"green\",\"green\",\"green\",\"green\",\"green\",\"green\",\"green\",\"green\",\"green\",\"green\",\"green\",\"green\",\"green\",\"green\",\"green\",\"green\",\"green\",\"green\",\"green\",\"green\",\"green\",\"green\",\"green\",\"green\",\"green\",\"green\",\"green\",\"green\",\"green\",\"green\",\"green\",\"green\",\"green\",\"green\",\"green\",\"green\",\"green\",\"green\",\"green\",\"green\",\"green\",\"green\",\"green\",\"green\",\"green\",\"green\",\"green\",\"green\",\"green\",\"green\",\"green\",\"green\",\"green\",\"green\",\"green\",\"green\",\"green\",\"green\",\"green\",\"green\",\"green\",\"green\",\"green\",\"green\",\"green\",\"green\",\"green\",\"green\",\"green\",\"green\",\"green\",\"green\",\"green\",\"green\",\"green\",\"green\",\"green\",\"green\",\"green\",\"green\",\"green\",\"green\",\"green\",\"green\",\"green\",\"green\",\"green\",\"green\",\"green\",\"green\",\"green\",\"green\",\"green\",\"green\",\"green\",\"green\",\"green\",\"green\",\"green\",\"green\",\"green\",\"green\",\"green\",\"green\",\"green\",\"green\",\"green\",\"green\",\"green\",\"green\",\"green\",\"green\",\"green\",\"green\",\"green\",\"green\",\"green\",\"green\",\"green\",\"green\",\"green\",\"green\",\"green\",\"green\",\"green\",\"green\",\"green\",\"green\",\"green\",\"green\",\"green\",\"green\",\"green\",\"green\",\"green\",\"green\",\"green\",\"green\",\"green\",\"green\",\"green\",\"green\",\"green\",\"green\",\"green\",\"green\",\"green\",\"green\",\"green\",\"green\",\"green\",\"green\",\"green\",\"green\",\"green\",\"green\",\"green\",\"green\",\"green\",\"green\",\"green\",\"green\",\"green\",\"green\",\"green\",\"green\",\"green\",\"green\",\"green\",\"green\",\"green\",\"green\",\"green\",\"green\",\"green\",\"green\",\"green\",\"green\",\"green\",\"green\",\"green\",\"green\",\"green\",\"green\",\"green\",\"green\",\"green\",\"green\",\"green\",\"green\",\"green\",\"green\",\"green\",\"green\",\"green\",\"green\",\"green\",\"green\",\"green\",\"green\",\"green\",\"green\",\"green\",\"green\",\"green\",\"green\",\"green\",\"green\",\"green\",\"green\",\"green\",\"green\",\"green\",\"green\",\"green\",\"green\",\"green\",\"green\",\"green\",\"green\",\"green\",\"green\",\"green\",\"green\",\"green\",\"green\",\"green\",\"green\",\"green\",\"green\",\"green\",\"green\",\"green\",\"green\",\"green\",\"green\",\"green\",\"green\",\"green\",\"green\",\"green\",\"green\",\"green\",\"green\",\"green\",\"green\",\"green\",\"green\",\"green\",\"green\",\"green\",\"green\",\"green\",\"green\",\"green\",\"green\",\"green\",\"green\",\"green\",\"green\",\"green\",\"green\",\"green\",\"green\",\"green\",\"green\",\"green\",\"green\",\"green\",\"green\",\"green\",\"green\",\"green\",\"green\",\"green\",\"green\",\"green\",\"green\",\"green\",\"green\",\"green\",\"green\",\"green\",\"green\",\"green\",\"green\",\"green\",\"green\",\"green\",\"green\",\"green\",\"green\",\"green\",\"green\",\"green\",\"green\",\"green\",\"green\",\"green\",\"green\",\"green\",\"green\",\"green\",\"green\",\"green\",\"green\",\"green\",\"green\",\"green\",\"green\",\"green\",\"green\",\"green\",\"green\",\"green\",\"green\",\"green\",\"green\",\"green\",\"green\",\"green\",\"green\",\"green\",\"green\",\"green\",\"green\",\"green\",\"green\",\"green\",\"green\",\"green\",\"green\",\"green\",\"green\",\"green\",\"green\",\"green\",\"green\",\"green\",\"green\",\"green\",\"green\",\"green\",\"green\",\"green\",\"green\",\"green\",\"green\",\"green\",\"green\",\"green\",\"green\",\"green\",\"green\",\"green\",\"green\",\"green\",\"green\",\"green\",\"green\",\"green\",\"green\",\"green\",\"green\",\"green\",\"green\",\"green\",\"green\",\"green\",\"green\",\"green\",\"green\",\"green\",\"green\",\"green\",\"green\",\"green\",\"green\",\"green\",\"green\",\"green\",\"green\",\"green\",\"green\",\"green\",\"green\",\"green\",\"green\",\"green\",\"green\",\"green\",\"green\",\"green\",\"green\",\"green\",\"green\",\"green\",\"green\",\"green\",\"green\",\"green\",\"green\",\"green\",\"green\",\"green\",\"green\",\"green\",\"green\",\"green\",\"green\",\"green\",\"green\",\"green\",\"green\",\"green\",\"green\",\"green\",\"green\",\"green\",\"green\",\"green\",\"green\",\"green\",\"green\",\"green\",\"green\",\"green\",\"green\",\"green\",\"green\",\"green\",\"green\",\"green\",\"green\",\"green\",\"green\",\"green\",\"green\",\"green\",\"green\",\"green\",\"green\",\"green\",\"green\",\"green\",\"green\",\"green\",\"green\",\"green\",\"green\",\"green\",\"green\",\"green\",\"green\",\"green\",\"green\",\"green\",\"green\",\"green\",\"green\",\"green\",\"green\",\"green\",\"green\",\"green\",\"green\",\"green\",\"green\",\"green\",\"green\",\"green\",\"green\",\"green\",\"green\",\"green\",\"green\",\"green\",\"green\",\"green\",\"green\",\"green\",\"green\",\"green\",\"green\",\"green\",\"green\",\"green\",\"green\",\"green\",\"green\",\"green\",\"green\",\"green\",\"green\",\"green\",\"green\",\"green\",\"green\",\"green\",\"green\",\"green\",\"green\",\"green\",\"green\",\"green\",\"green\",\"green\",\"green\",\"green\",\"green\",\"green\",\"green\",\"green\",\"green\",\"green\",\"green\",\"green\",\"green\",\"green\",\"green\",\"green\",\"green\",\"green\",\"green\",\"green\",\"green\",\"green\",\"green\",\"green\",\"green\",\"green\",\"green\",\"green\",\"green\",\"green\",\"green\",\"green\",\"green\",\"green\",\"green\",\"green\",\"green\",\"green\",\"green\",\"green\",\"green\",\"green\",\"green\",\"green\",\"green\",\"green\",\"green\",\"green\",\"green\",\"green\",\"green\",\"green\",\"green\",\"green\",\"green\",\"green\",\"green\",\"green\",\"green\",\"green\",\"green\",\"green\",\"green\",\"green\",\"green\",\"green\",\"green\",\"green\",\"green\",\"green\",\"green\",\"green\",\"green\",\"green\",\"green\",\"green\",\"green\",\"green\",\"green\",\"green\",\"green\",\"green\",\"green\",\"green\",\"green\",\"green\",\"green\",\"green\",\"green\",\"green\",\"green\",\"green\",\"green\",\"green\",\"green\",\"green\",\"green\",\"green\",\"green\",\"green\",\"green\",\"green\",\"green\",\"green\",\"green\",\"green\",\"green\",\"green\",\"green\",\"green\",\"green\",\"green\",\"green\",\"green\",\"green\",\"green\",\"green\",\"green\",\"green\",\"green\",\"green\",\"green\",\"green\",\"green\",\"green\",\"green\",\"green\",\"green\",\"green\",\"green\",\"green\",\"green\",\"green\",\"green\",\"green\",\"green\",\"green\",\"green\",\"green\",\"green\",\"green\",\"green\",\"green\",\"green\",\"green\",\"green\",\"green\",\"green\",\"green\",\"green\",\"green\",\"green\",\"green\",\"green\",\"green\",\"green\",\"green\",\"green\",\"green\",\"green\",\"green\",\"green\",\"green\",\"green\",\"green\",\"green\",\"green\",\"green\",\"green\",\"green\",\"green\",\"green\",\"green\",\"green\",\"green\",\"green\",\"green\",\"green\",\"green\",\"green\",\"green\",\"green\",\"green\",\"green\",\"green\",\"green\",\"green\",\"green\",\"green\",\"green\",\"green\",\"green\",\"green\",\"green\",\"green\",\"green\",\"green\",\"green\",\"green\",\"green\",\"green\",\"green\",\"green\",\"green\",\"green\",\"green\",\"green\",\"green\",\"green\",\"green\",\"green\",\"green\",\"green\",\"green\",\"green\",\"green\",\"green\",\"green\",\"green\",\"green\",\"green\",\"green\",\"green\",\"green\",\"green\",\"green\",\"green\",\"green\",\"green\",\"green\",\"green\",\"green\",\"green\",\"green\",\"green\",\"green\",\"green\",\"green\",\"green\",\"green\",\"green\",\"green\",\"green\",\"green\",\"green\",\"green\",\"green\",\"green\",\"green\",\"green\",\"green\",\"green\",\"green\",\"green\",\"green\",\"green\",\"green\",\"green\",\"green\",\"green\",\"green\",\"green\",\"green\",\"green\",\"green\",\"green\",\"green\",\"green\",\"green\",\"green\",\"green\",\"green\",\"green\",\"green\",\"green\",\"green\",\"green\",\"green\",\"green\",\"green\",\"green\",\"green\",\"green\",\"green\",\"green\",\"green\",\"green\",\"green\",\"green\",\"green\",\"green\",\"green\",\"green\",\"green\",\"green\",\"green\",\"green\",\"green\",\"green\",\"green\",\"green\",\"green\",\"green\",\"green\",\"green\",\"green\",\"green\",\"green\",\"green\",\"green\",\"green\",\"green\",\"green\",\"green\",\"green\",\"green\",\"green\",\"green\",\"green\",\"green\",\"green\",\"green\",\"green\",\"green\",\"green\",\"green\",\"green\",\"green\",\"green\",\"green\",\"green\",\"green\",\"green\",\"green\",\"green\",\"green\",\"green\",\"green\",\"green\",\"green\",\"green\",\"green\",\"green\",\"green\",\"green\",\"green\",\"green\",\"green\",\"green\",\"green\",\"green\",\"green\",\"green\",\"green\",\"green\",\"green\",\"green\",\"green\",\"green\",\"green\",\"green\",\"green\",\"green\",\"green\",\"green\",\"green\",\"green\",\"green\",\"green\",\"green\",\"green\",\"green\",\"green\",\"green\",\"green\",\"green\",\"green\",\"green\",\"green\",\"green\",\"green\",\"green\",\"green\",\"green\",\"green\",\"green\",\"green\",\"green\",\"green\",\"green\",\"green\",\"green\",\"green\",\"green\",\"green\",\"green\",\"green\",\"green\",\"green\",\"green\",\"green\",\"green\",\"green\",\"green\",\"green\",\"green\",\"green\",\"green\",\"green\",\"green\",\"green\",\"green\",\"green\",\"green\",\"green\",\"green\",\"green\",\"green\",\"green\",\"green\",\"green\",\"green\",\"green\",\"green\",\"green\",\"green\",\"green\",\"green\",\"green\",\"green\",\"green\",\"green\",\"green\",\"green\",\"green\",\"green\",\"green\",\"green\",\"green\",\"green\",\"green\",\"green\",\"green\",\"green\",\"green\",\"green\",\"green\",\"green\",\"green\",\"green\",\"green\",\"green\",\"green\",\"green\",\"green\",\"green\",\"green\",\"green\",\"green\",\"green\",\"green\",\"green\",\"green\",\"green\",\"green\",\"green\",\"green\",\"green\",\"green\",\"green\",\"green\",\"green\",\"green\",\"green\",\"green\",\"green\",\"green\",\"green\",\"green\",\"green\",\"green\",\"green\",\"green\",\"green\",\"green\",\"green\",\"green\",\"green\",\"green\",\"green\",\"green\",\"green\",\"green\",\"green\",\"green\",\"green\",\"green\",\"green\",\"green\",\"green\",\"green\",\"green\",\"green\",\"green\",\"green\",\"green\",\"green\",\"green\",\"green\",\"green\",\"green\",\"green\",\"green\",\"green\",\"green\",\"green\",\"green\",\"green\",\"green\",\"green\",\"green\",\"green\",\"green\",\"green\",\"green\",\"green\",\"green\",\"green\",\"green\",\"green\",\"green\",\"green\",\"green\",\"green\",\"green\",\"green\",\"green\",\"green\",\"green\",\"green\",\"green\",\"green\",\"green\",\"green\",\"green\",\"green\",\"green\",\"green\",\"green\",\"green\",\"green\",\"green\",\"green\",\"green\",\"green\",\"green\",\"green\",\"green\",\"green\",\"green\",\"green\",\"green\",\"green\",\"green\",\"green\",\"green\",\"green\",\"green\",\"green\",\"green\",\"green\",\"green\",\"green\",\"green\",\"green\",\"green\",\"green\",\"green\",\"green\",\"green\",\"green\",\"green\",\"green\",\"green\",\"green\",\"green\",\"green\",\"green\",\"green\",\"green\",\"green\",\"green\",\"green\",\"green\",\"green\",\"green\",\"green\",\"green\",\"green\",\"green\",\"green\",\"green\",\"green\",\"green\",\"green\",\"green\",\"green\",\"green\",\"green\",\"green\",\"green\",\"green\",\"green\",\"green\",\"green\",\"green\",\"green\",\"green\",\"green\",\"green\",\"green\",\"green\",\"green\",\"green\",\"green\",\"green\",\"green\",\"green\",\"green\",\"green\",\"green\",\"green\",\"green\",\"green\",\"green\",\"green\",\"green\",\"green\",\"green\",\"green\",\"green\",\"green\",\"green\",\"green\",\"green\",\"green\",\"green\",\"green\",\"green\",\"green\",\"green\",\"green\",\"green\",\"green\",\"green\",\"green\",\"green\",\"green\",\"green\",\"green\",\"green\",\"green\",\"green\",\"green\",\"green\",\"green\",\"green\",\"green\",\"green\",\"green\",\"green\",\"green\",\"green\",\"green\",\"green\",\"green\",\"green\",\"green\",\"green\",\"green\",\"green\",\"green\",\"green\",\"green\",\"green\",\"green\",\"green\",\"green\",\"green\",\"green\",\"green\",\"green\",\"green\",\"green\",\"green\",\"green\",\"green\",\"green\",\"green\",\"green\",\"green\",\"green\",\"green\",\"green\",\"green\",\"green\",\"green\",\"green\",\"green\",\"green\",\"green\",\"green\",\"green\",\"green\",\"green\",\"green\",\"green\",\"green\",\"green\",\"green\",\"green\",\"green\",\"green\",\"green\",\"green\",\"green\",\"green\",\"green\",\"green\",\"green\",\"green\",\"green\",\"green\",\"green\",\"green\",\"green\",\"green\",\"green\",\"green\",\"green\",\"green\",\"green\",\"green\",\"green\",\"green\",\"green\",\"green\",\"green\",\"green\",\"green\",\"green\",\"green\",\"green\",\"green\",\"green\",\"green\",\"green\",\"green\",\"green\",\"green\",\"green\",\"green\",\"green\",\"green\",\"green\",\"green\",\"green\",\"green\",\"green\",\"green\",\"green\",\"green\",\"green\",\"green\",\"green\",\"green\",\"green\",\"green\",\"green\",\"green\",\"green\",\"green\",\"green\",\"green\",\"green\",\"green\",\"green\",\"green\",\"green\",\"green\",\"green\",\"green\",\"green\",\"green\",\"green\",\"green\",\"green\",\"green\",\"green\",\"green\",\"green\",\"green\",\"green\",\"green\",\"green\",\"green\",\"green\",\"green\",\"green\",\"green\",\"green\",\"green\",\"green\",\"green\",\"green\",\"green\",\"green\",\"green\",\"green\",\"green\",\"green\",\"green\",\"green\",\"green\",\"green\",\"green\",\"green\",\"green\",\"green\",\"green\",\"green\",\"green\",\"green\",\"green\",\"green\",\"green\",\"green\",\"green\",\"green\",\"green\",\"green\",\"green\",\"green\",\"green\",\"green\",\"green\",\"green\",\"green\",\"green\",\"green\",\"green\",\"green\",\"green\",\"green\",\"green\",\"green\",\"green\",\"green\",\"green\",\"green\",\"green\",\"green\",\"green\",\"green\",\"green\",\"green\",\"green\",\"green\",\"green\",\"green\",\"green\",\"green\",\"green\",\"green\",\"green\",\"green\",\"green\",\"green\",\"green\",\"green\",\"green\",\"green\",\"green\",\"green\",\"green\",\"green\",\"green\",\"green\",\"green\",\"green\",\"green\",\"green\",\"green\",\"green\",\"green\",\"green\",\"green\",\"green\",\"green\",\"green\",\"green\",\"green\",\"green\",\"green\",\"green\",\"green\",\"green\",\"green\",\"green\",\"green\",\"green\",\"green\",\"green\",\"green\",\"green\",\"green\",\"green\",\"green\",\"green\",\"green\",\"green\",\"green\",\"green\",\"green\",\"green\",\"green\",\"green\",\"green\",\"green\",\"green\",\"green\",\"green\",\"green\",\"green\",\"green\",\"green\",\"green\",\"green\",\"green\",\"green\",\"green\",\"green\",\"green\",\"green\",\"green\",\"green\",\"green\",\"green\",\"green\",\"green\",\"green\",\"green\",\"green\",\"green\",\"green\",\"green\",\"green\",\"green\",\"green\",\"green\",\"green\",\"green\",\"green\",\"green\",\"green\",\"green\",\"green\",\"green\",\"green\",\"green\",\"green\",\"green\",\"green\",\"green\",\"green\",\"green\",\"green\",\"green\",\"green\",\"green\",\"green\",\"green\",\"green\",\"green\",\"green\",\"green\",\"green\",\"green\",\"green\",\"green\",\"green\",\"green\",\"green\",\"green\",\"green\",\"green\",\"green\",\"green\",\"green\",\"green\",\"green\",\"green\",\"green\",\"green\",\"green\",\"green\",\"green\",\"green\",\"green\",\"green\",\"green\",\"green\",\"green\",\"green\",\"green\",\"green\",\"green\",\"green\",\"green\",\"green\",\"green\",\"green\",\"green\",\"green\",\"green\",\"green\",\"green\",\"green\",\"green\",\"green\",\"green\",\"green\",\"green\",\"green\",\"green\",\"green\",\"green\",\"green\",\"green\",\"green\",\"green\",\"green\",\"green\",\"green\",\"green\",\"green\",\"green\",\"green\",\"green\",\"green\",\"green\",\"green\",\"green\",\"green\",\"green\",\"green\",\"green\",\"green\",\"green\",\"green\",\"green\",\"green\",\"green\",\"green\",\"green\",\"green\",\"green\",\"green\",\"green\",\"green\",\"green\",\"green\",\"green\",\"green\",\"green\",\"green\",\"green\",\"green\",\"green\",\"green\",\"green\",\"green\",\"green\",\"green\",\"green\",\"green\",\"green\",\"green\",\"green\",\"green\",\"green\",\"green\",\"green\",\"green\",\"green\",\"green\",\"green\",\"green\",\"green\",\"green\",\"green\",\"green\",\"green\",\"green\",\"green\",\"green\",\"green\",\"green\",\"green\",\"green\",\"green\",\"green\",\"green\",\"green\",\"green\",\"green\",\"green\",\"green\",\"green\",\"green\",\"green\",\"green\",\"green\",\"green\",\"green\",\"green\",\"green\",\"green\",\"green\",\"green\",\"green\",\"green\",\"green\",\"green\",\"green\",\"green\",\"green\",\"green\",\"green\",\"green\",\"green\",\"green\",\"green\",\"green\",\"green\",\"green\",\"green\",\"green\",\"green\",\"green\",\"green\",\"green\",\"green\",\"green\",\"green\",\"green\",\"green\",\"green\",\"green\",\"green\",\"green\",\"green\",\"green\",\"green\",\"green\",\"green\",\"green\",\"green\",\"green\",\"green\",\"green\",\"green\",\"green\",\"green\",\"green\",\"green\",\"green\",\"green\",\"green\",\"green\",\"green\",\"green\",\"green\",\"green\",\"green\",\"green\",\"green\",\"green\",\"green\",\"green\",\"green\",\"green\",\"green\",\"green\",\"green\",\"green\",\"green\",\"green\",\"green\",\"green\",\"green\",\"green\",\"green\",\"green\",\"green\",\"green\",\"green\",\"green\",\"green\",\"green\",\"green\",\"green\",\"green\",\"green\",\"green\",\"green\",\"green\",\"green\",\"green\",\"green\",\"green\",\"green\",\"green\",\"green\",\"green\",\"green\",\"green\",\"green\",\"green\",\"green\",\"green\",\"green\",\"green\",\"green\",\"green\",\"green\",\"green\",\"green\",\"green\",\"green\",\"green\",\"green\",\"green\",\"green\",\"green\",\"green\",\"green\",\"green\",\"green\",\"green\",\"green\",\"green\",\"green\",\"green\",\"green\",\"green\",\"green\",\"green\",\"green\",\"green\",\"green\",\"green\",\"green\",\"green\",\"green\",\"green\",\"green\",\"green\",\"green\",\"green\",\"green\",\"green\",\"green\",\"green\",\"green\",\"green\",\"green\",\"green\",\"green\",\"green\",\"green\",\"green\",\"green\",\"green\",\"green\",\"green\",\"green\",\"green\",\"green\",\"green\",\"green\",\"green\",\"green\",\"green\",\"green\",\"green\",\"green\",\"green\",\"green\",\"green\",\"green\",\"green\",\"green\",\"green\",\"green\",\"green\",\"green\",\"green\",\"green\",\"green\",\"green\",\"green\",\"green\",\"green\",\"green\",\"green\",\"green\",\"green\",\"green\",\"green\",\"green\",\"green\",\"green\",\"green\",\"green\",\"green\",\"green\",\"green\",\"green\",\"green\",\"green\",\"green\",\"green\",\"green\",\"green\",\"green\",\"green\",\"green\",\"green\",\"green\",\"green\",\"green\",\"green\",\"green\",\"green\",\"green\",\"green\",\"green\",\"green\",\"green\",\"green\",\"green\",\"green\",\"green\",\"green\",\"green\",\"green\",\"green\",\"green\",\"green\",\"green\",\"green\",\"green\",\"green\",\"green\",\"green\",\"green\",\"green\",\"green\",\"green\",\"green\",\"green\",\"green\",\"green\",\"green\",\"green\",\"green\",\"green\",\"green\",\"green\",\"green\",\"green\",\"green\",\"green\",\"green\",\"green\",\"green\",\"green\",\"green\",\"green\",\"green\",\"green\",\"green\",\"green\",\"green\",\"green\",\"green\",\"green\",\"green\",\"green\",\"green\",\"green\",\"green\",\"green\",\"green\",\"green\",\"green\",\"green\",\"green\",\"green\",\"green\",\"green\",\"green\",\"green\",\"green\",\"green\",\"green\",\"green\",\"green\",\"green\",\"green\",\"green\",\"green\",\"green\",\"green\",\"green\",\"green\",\"green\",\"green\",\"green\",\"green\",\"green\",\"green\",\"green\",\"green\",\"green\",\"green\",\"green\",\"green\",\"green\",\"green\",\"green\",\"green\",\"green\",\"green\",\"green\",\"green\",\"green\",\"green\",\"green\",\"green\",\"green\",\"green\",\"green\",\"green\",\"green\",\"green\",\"green\",\"green\",\"green\",\"green\",\"green\",\"green\",\"green\",\"green\",\"green\",\"green\",\"green\",\"green\",\"green\",\"green\",\"green\",\"green\",\"green\",\"green\",\"green\",\"green\",\"green\",\"green\",\"green\",\"green\",\"green\",\"green\",\"green\",\"green\",\"green\",\"green\",\"green\",\"green\",\"green\",\"green\",\"green\",\"green\",\"green\",\"green\",\"green\",\"green\",\"green\",\"green\",\"green\",\"green\",\"green\",\"green\",\"green\",\"green\",\"green\",\"green\",\"green\",\"green\",\"green\",\"green\",\"green\",\"green\",\"green\",\"green\",\"green\",\"green\",\"green\",\"green\",\"green\",\"green\",\"green\",\"green\",\"green\",\"green\",\"green\",\"green\",\"green\",\"green\",\"green\",\"green\",\"green\",\"green\",\"green\",\"green\",\"green\",\"green\",\"green\",\"green\",\"green\",\"green\",\"green\",\"green\",\"green\",\"green\",\"green\",\"green\",\"green\",\"green\",\"green\",\"green\",\"green\",\"green\",\"green\",\"green\",\"green\",\"green\",\"green\",\"green\",\"green\",\"green\",\"green\",\"green\",\"green\",\"green\",\"green\",\"green\",\"green\",\"green\",\"green\",\"green\",\"green\",\"green\",\"green\",\"green\",\"green\",\"green\",\"green\",\"green\",\"green\",\"green\",\"green\",\"green\",\"green\",\"green\",\"green\",\"green\",\"green\",\"green\",\"green\",\"green\",\"green\",\"green\",\"green\",\"green\",\"green\",\"green\",\"green\",\"green\",\"green\",\"green\",\"green\",\"green\",\"green\",\"green\",\"green\",\"green\",\"green\",\"green\",\"green\",\"green\",\"green\",\"green\",\"green\",\"green\",\"green\",\"green\",\"green\",\"green\",\"green\",\"green\",\"green\",\"green\",\"green\",\"green\",\"green\",\"green\",\"green\",\"green\",\"green\",\"green\",\"green\",\"green\",\"green\",\"green\",\"green\",\"green\",\"green\",\"green\",\"green\",\"green\",\"green\",\"green\",\"green\",\"green\",\"green\",\"green\",\"green\",\"green\",\"green\",\"green\",\"green\",\"green\",\"green\",\"green\",\"green\",\"green\",\"green\",\"green\",\"green\",\"green\",\"green\",\"green\",\"green\",\"green\",\"green\",\"green\",\"green\",\"green\",\"green\",\"green\",\"green\",\"green\",\"green\",\"green\",\"green\",\"green\",\"green\",\"green\",\"green\",\"green\",\"green\",\"green\",\"green\",\"green\",\"green\",\"green\",\"green\",\"green\",\"green\",\"green\",\"green\",\"green\",\"green\",\"green\",\"green\",\"green\",\"green\",\"green\",\"green\",\"green\",\"green\",\"green\",\"green\",\"green\",\"green\",\"green\",\"green\",\"green\",\"green\",\"green\",\"green\",\"green\",\"green\",\"green\",\"green\",\"green\",\"green\",\"green\",\"green\",\"green\",\"green\",\"green\",\"green\",\"green\",\"green\",\"green\",\"green\",\"green\",\"green\",\"green\",\"green\",\"green\",\"green\",\"green\",\"green\",\"green\",\"green\",\"green\",\"green\",\"green\",\"green\",\"green\",\"green\",\"green\",\"green\",\"green\",\"green\",\"green\",\"green\",\"green\",\"green\",\"green\",\"green\",\"green\",\"green\",\"green\",\"green\",\"green\",\"green\",\"green\",\"green\",\"green\",\"green\",\"green\",\"green\",\"green\",\"green\",\"green\",\"green\",\"green\",\"green\",\"green\",\"green\",\"green\",\"green\",\"green\",\"green\",\"green\",\"green\",\"green\",\"green\",\"green\",\"green\",\"green\",\"green\",\"green\",\"green\",\"green\",\"green\",\"green\",\"green\",\"green\",\"green\",\"green\",\"green\",\"green\",\"green\",\"green\",\"green\",\"green\",\"green\",\"green\",\"green\",\"green\",\"green\",\"green\",\"green\",\"green\",\"green\",\"green\",\"green\",\"green\",\"green\",\"green\",\"green\",\"green\",\"green\",\"green\",\"green\",\"green\",\"green\",\"green\",\"green\",\"green\",\"green\",\"green\",\"green\",\"green\",\"green\",\"green\",\"green\",\"green\",\"green\",\"green\",\"green\",\"green\",\"green\",\"green\",\"green\",\"green\",\"green\",\"green\",\"green\",\"green\",\"green\",\"green\",\"green\",\"green\",\"green\",\"green\",\"green\",\"green\",\"green\",\"green\",\"green\",\"green\",\"green\",\"green\",\"green\",\"green\",\"green\",\"green\",\"green\",\"green\",\"green\",\"green\",\"green\",\"green\",\"green\",\"green\",\"green\",\"green\",\"green\",\"green\",\"green\",\"green\",\"green\",\"green\",\"green\",\"green\",\"green\",\"green\",\"green\",\"green\",\"green\",\"green\",\"green\",\"green\",\"green\",\"green\",\"green\",\"green\",\"green\",\"green\",\"green\",\"green\",\"green\",\"green\",\"green\",\"green\",\"green\",\"green\",\"green\",\"green\",\"green\",\"green\",\"green\",\"green\",\"green\",\"green\",\"green\",\"green\",\"green\",\"green\",\"green\",\"green\",\"green\",\"green\",\"green\",\"green\",\"green\",\"green\",\"green\",\"green\",\"green\",\"green\",\"green\",\"green\",\"green\",\"green\",\"green\",\"green\",\"green\",\"green\",\"green\",\"green\",\"green\",\"green\",\"green\",\"green\",\"green\",\"green\",\"green\",\"green\",\"green\",\"green\",\"green\",\"green\",\"green\",\"green\",\"green\",\"green\",\"green\",\"green\",\"green\",\"green\",\"green\",\"green\",\"green\",\"green\",\"green\",\"green\",\"green\",\"green\",\"green\",\"green\",\"green\",\"green\",\"green\",\"green\",\"green\",\"green\",\"green\",\"green\",\"green\",\"green\",\"green\",\"green\",\"green\",\"green\",\"green\",\"green\",\"green\",\"green\",\"green\",\"green\",\"green\",\"green\",\"green\",\"green\",\"green\",\"green\",\"green\",\"green\",\"green\",\"green\",\"green\",\"green\",\"green\",\"green\",\"green\",\"green\",\"green\",\"green\",\"green\",\"green\",\"green\",\"green\",\"green\",\"green\",\"green\",\"green\",\"green\",\"green\",\"green\",\"green\",\"green\",\"green\",\"green\",\"green\",\"green\",\"green\",\"green\",\"green\",\"green\",\"green\",\"green\",\"green\",\"green\",\"green\",\"green\",\"green\",\"green\",\"green\",\"green\",\"green\",\"green\",\"green\",\"green\",\"green\",\"green\",\"green\",\"green\",\"green\",\"green\",\"green\",\"green\",\"green\",\"green\",\"green\",\"green\",\"green\",\"green\",\"green\",\"green\",\"green\",\"green\",\"green\",\"green\",\"green\",\"green\",\"green\",\"green\",\"green\",\"green\",\"green\",\"green\",\"green\",\"green\",\"green\",\"green\",\"green\",\"green\",\"green\",\"green\",\"green\",\"green\",\"green\",\"green\",\"green\",\"green\",\"green\",\"green\",\"green\",\"green\",\"green\",\"green\",\"green\",\"green\",\"green\",\"green\",\"green\",\"green\",\"green\",\"green\",\"green\",\"green\",\"green\",\"green\",\"green\",\"green\",\"green\",\"green\",\"green\",\"green\",\"green\",\"green\",\"green\",\"green\",\"green\",\"green\",\"green\",\"green\",\"green\",\"green\",\"green\",\"green\",\"green\",\"green\",\"green\",\"green\",\"green\",\"green\",\"green\",\"green\",\"green\",\"green\",\"green\",\"green\",\"green\",\"green\",\"green\",\"green\",\"green\",\"green\",\"green\",\"green\",\"green\",\"green\",\"green\",\"green\",\"green\",\"green\",\"green\",\"green\",\"green\",\"green\",\"green\",\"green\",\"green\",\"green\",\"green\",\"green\",\"green\",\"green\",\"green\",\"green\",\"green\",\"green\",\"green\",\"green\",\"green\",\"green\",\"green\",\"green\",\"green\",\"green\",\"green\",\"green\",\"green\",\"green\",\"green\",\"green\",\"green\",\"green\",\"green\",\"green\",\"green\",\"green\",\"green\",\"green\",\"green\",\"green\",\"green\",\"green\",\"green\",\"green\",\"green\",\"green\",\"green\",\"green\",\"green\",\"green\",\"green\",\"green\",\"green\",\"green\",\"green\",\"green\",\"green\",\"green\",\"green\",\"green\",\"green\",\"green\",\"green\",\"green\",\"green\",\"green\",\"green\",\"green\",\"green\",\"green\",\"green\",\"green\",\"green\",\"green\",\"green\",\"green\",\"green\",\"green\",\"green\",\"green\",\"green\",\"green\",\"green\",\"green\",\"green\",\"green\",\"green\",\"green\",\"green\",\"green\",\"green\",\"green\",\"green\",\"green\",\"green\",\"green\",\"green\",\"green\",\"green\",\"green\",\"green\",\"green\",\"green\",\"green\",\"green\",\"green\",\"green\",\"green\",\"green\",\"green\",\"green\",\"green\",\"green\",\"green\",\"green\",\"green\",\"green\",\"green\",\"green\",\"green\",\"green\",\"green\",\"green\",\"green\",\"green\",\"green\",\"green\",\"green\",\"green\",\"green\",\"green\",\"green\",\"green\",\"green\",\"green\",\"green\",\"green\",\"green\",\"green\",\"green\",\"green\",\"green\",\"green\"],\"token\":[\"que\",\"che\",\"bir\",\"wikipedia\",\"est\",\"para\",\"non\",\"vou\",\"una\",\"\\u0447\\u0442\\u043e\",\"por\",\"n\\u00e3o\",\"le\",\"voc\\u00ea\",\"pa\",\"articl\",\"\\u044d\\u0442\\u043e\",\"de\",\"como\",\"un\",\"lo\",\"del\",\"uma\",\"i\\u00e7in\",\"pour\",\"page\",\"p\\u00e1gina\",\"com\",\"mai\",\"sur\",\"qui\",\"dan\",\"sobr\",\"la\",\"\\u043a\\u0430\\u043a\",\"est\\u00e1\",\"sono\",\"come\",\"art\\u00edculo\",\"artigo\",\"ser\",\"\\u00ab\",\"sua\",\"questo\",\"\\u00bb\",\"talk\",\"\\u00eatre\",\"isso\",\"\\u00bf\",\"\\u0435\\u0441\\u043b\\u0438\",\"solo\",\"\\u0434\\u043b\\u044f\",\"articolo\",\"el\",\"hai\",\"olarak\",\"son\",\"esser\",\"plu\",\"todo\",\"http\",\"il\",\"dell\",\"\\u00a1\",\"ma\",\"foi\",\"comm\",\"\\u0438\\u043b\\u0438\",\"pero\",\"wiki\",\"par\",\"sourc\",\"m\\u00e1\",\"della\",\"esta\",\"daha\",\"part\",\"fait\",\"seu\",\"pagina\",\"avec\",\"votr\",\"\\u0447\\u0442\\u043e\\u0431\\u044b\",\"era\",\"edit\",\"tout\",\"utc\",\"editor\",\"discuss\",\"sont\",\"cela\",\"favor\",\"autr\",\"pi\\u00f9\",\"\\u0435\\u0433\\u043e\",\"gibi\",\"esto\",\"\\u00e9t\\u00e9\",\"font\",\"veya\",\"imag\",\"avez\",\"do\",\"\\u0431\\u044b\\u0442\\u044c\",\"porqu\",\"quando\",\"person\",\"fair\",\"problema\",\"link\",\"bien\",\"stato\",\"pued\",\"\\u00e7ok\",\"pode\",\"inform\",\"fuck\",\"perch\\u00e9\",\"like\",\"sui\",\"m\\u00eame\",\"nou\",\"cett\",\"s\\u00e3o\",\"ancak\",\"anch\",\"muito\",\"\\u0432\\u0441\\u0435\",\"oldu\\u011funu\",\"question\",\"\\u0442\\u0430\\u043a\",\"qu\\u00e9\",\"quelqu\",\"nome\",\"web\",\"cosa\",\"nel\",\"www\",\"parec\",\"\\u0435\\u0441\\u0442\\u044c\",\"sadec\",\"ver\",\"persona\",\"discuss\\u00e3o\",\"de\\u011fil\",\"gli\",\"\\u043e\\u043d\\u0438\",\"\\u0431\\u044b\\u043b\",\"l\\u00fctfen\",\"style\",\"\\u0431\\u044b\\u043b\\u043e\",\"vez\",\"\\u043a\\u043e\\u0442\\u043e\\u0440\\u044b\\u0435\",\"questa\",\"sei\",\"meno\",\"us\",\"peut\",\"nella\",\"pessoa\",\"site\",\"grand\",\"\\u00e9tait\",\"sin\",\"delet\",\"\\u043c\\u0435\\u043d\\u044f\",\"caso\",\"dei\",\"sia\",\"new\",\"eso\",\"comment\",\"fatto\",\"\\u0432\\u0438\\u043a\\u0438\\u043f\\u0435\\u0434\\u0438\\u0438\",\"minha\",\"\\u043f\\u043e\\u0436\\u0430\\u043b\\u0443\\u0439\\u0441\\u0442\\u0430\",\"ont\",\"apena\",\"nigger\",\"alla\",\"section\",\"time\",\"tien\",\"discussion\",\"quindi\",\"org\",\"discusi\\u00f3n\",\"tamb\\u00e9m\",\"list\",\"uso\",\"realment\",\"modo\",\"iyi\",\"ama\",\"uno\",\"ess\",\"su\",\"\\u0441\\u0442\\u0430\\u0442\\u044c\\u0438\",\"var\",\"deve\",\"point\",\"gracia\",\"grazi\",\"user\",\"\\u043f\\u0440\\u043e\\u0441\\u0442\\u043e\",\"thank\",\"obrigado\",\"fuent\",\"no\",\"think\",\"essa\",\"ell\",\"pov\",\"\\u0442\\u043e\\u0433\\u043e\",\"\\u0441\\u043f\\u0430\\u0441\\u0438\\u0431\\u043e\",\"\\u015fei\",\"\\u043c\\u043d\\u0435\",\"tambi\\u00e9n\",\"\\u043a\\u043e\\u0433\\u0434\\u0430\",\"aqui\",\"lugar\",\"aqu\\u00ed\",\"outro\",\"\\u043c\\u043e\\u0436\\u0435\\u0442\",\"dire\",\"estoi\",\"ben\",\"know\",\"hakk\\u0131nda\",\"cui\",\"otro\",\"entr\",\"veuillez\",\"gai\",\"tempo\",\"lista\",\"moi\",\"avoir\",\"toda\",\"\\u0442\\u0430\\u043a\\u0436\\u0435\",\"tuo\",\"wikip\\u00e9dia\",\"tag\",\"origin\",\"nombr\",\"chose\",\"merci\",\"utilis\",\"lol\",\"tua\",\"\\u0432\\u0430\\u0441\",\"peopl\",\"jpg\",\"\\u0442\\u043e\\u043b\\u044c\\u043a\\u043e\",\"usuario\",\"bunu\",\"ant\",\"\\u043d\\u0435\\u0442\",\"algo\",\"ici\",\"pol\\u00edtica\",\"\\u044f\\u0432\\u043b\\u044f\\u0435\\u0442\\u0441\\u044f\",\"geri\",\"sulla\",\"mon\",\"punto\",\"fue\",\"simplement\",\"remov\",\"\\u0432\\u0430\\u043c\",\"ilgili\",\"\\u043a\\u0442\\u043e\",\"vandalismo\",\"konu\\u015fma\",\"\\u0442\\u043e\\u043c\",\"neden\",\"sou\",\"usu\\u00e1rio\",\"modif\",\"sai\",\"utilisateur\",\"\\u0441\\u0442\\u0440\\u0430\\u043d\\u0438\\u0446\\u0435\",\"sul\",\"hecho\",\"exist\",\"personn\",\"mia\",\"nada\",\"quanto\",\"ci\\u00f2\",\"block\",\"guerra\",\"pens\",\"certain\",\"articoli\",\"aucun\",\"\\u043c\\u043e\\u0436\\u0435\\u0442\\u0435\",\"taraf\\u0131ndan\",\"pourquoi\",\"molto\",\"nom\",\"\\u043a\\u043e\\u0442\\u043e\\u0440\\u044b\\u0439\",\"\\u0437\\u0434\\u0435\\u0441\\u044c\",\"vandal\",\"estado\",\"meu\",\"\\u015fekild\",\"makal\",\"kadar\",\"fazla\",\"estou\",\"tipo\",\"parti\",\"edici\\u00f3n\",\"bem\",\"\\u043e\\u0431\\u0441\\u0443\\u0436\\u0434\\u0435\\u043d\\u0438\\u044f\",\"momento\",\"need\",\"t\\u00fcm\",\"loro\",\"alguma\",\"fazer\",\"informaci\\u00f3n\",\"da\",\"ce\",\"aver\",\"modifica\",\"creo\",\"\\u043f\\u043e\\u0442\\u043e\\u043c\\u0443\",\"san\",\"car\",\"imagen\",\"pelo\",\"base\",\"\\u0435\\u0449\\u0435\",\"\\u00eate\",\"\\u0431\\u044b\\u043b\\u0438\",\"editar\",\"opinion\",\"film\",\"state\",\"\\u0432\\u0440\\u0435\\u043c\\u044f\",\"soit\",\"aux\",\"pouvez\",\"nell\",\"cet\",\"cuando\",\"hanno\",\"olan\",\"real\",\"prima\",\"post\",\"qualquer\",\"\\u00e9galement\",\"\\u044d\\u0442\\u043e\\u0439\",\"\\u0447\\u0435\\u043c\",\"googl\",\"seja\",\"mio\",\"sonra\",\"vo\",\"leur\",\"\\u043f\\u043e\\u0447\\u0435\\u043c\\u0443\",\"want\",\"administrador\",\"\\u0441\\u0442\\u0430\\u0442\\u044c\\u044e\",\"poop\",\"altri\",\"forma\",\"tutti\",\"important\",\"donc\",\"notabl\",\"edi\\u00e7\\u00e3o\",\"acho\",\"c\\u00f3mo\",\"\\u044d\\u0442\\u043e\\u0433\\u043e\",\"refer\",\"nota\",\"tem\",\"ent\\u00e3o\",\"outra\",\"tou\",\"di\\u011fer\",\"look\",\"contribut\",\"supprim\\u00e9\",\"fare\",\"alguna\",\"zaman\",\"gener\",\"oldu\\u011fu\",\"hacer\",\"nin\",\"help\",\"copyright\",\"\\u00f6nce\",\"mucho\",\"note\",\"\\u00e7\\u00fcnk\\u00fc\",\"ba\\u015fka\",\"vai\",\"\\u0431\\u0443\\u0434\\u0435\\u0442\",\"work\",\"informazioni\",\"ter\",\"herhangi\",\"sido\",\"utent\",\"orli\",\"coisa\",\"\\u0434\\u0443\\u043c\\u0430\\u044e\",\"otra\",\"color\",\"\\u0431\\u043e\\u043b\\u0435\\u0435\",\"ahora\",\"as\\u00ed\",\"vista\",\"dai\",\"\\u044d\\u0442\\u043e\\u0442\",\"\\u0441\\u0442\\u0430\\u0442\\u044c\\u044f\",\"lien\",\"sujet\",\"voir\",\"sem\",\"die\",\"dit\",\"agora\",\"wikiproject\",\"\\u0431\\u044b\\u043b\\u0430\",\"usar\",\"import\",\"dal\",\"cos\\u00ec\",\"good\",\"esa\",\"chang\",\"altro\",\"\\u043e\\u0447\\u0435\\u043d\\u044c\",\"te\\u015fekk\\u00fcrl\",\"\\u0434\\u043e\\u043b\\u0436\\u043d\\u044b\",\"tutto\",\"\\u044d\\u0442\\u043e\\u043c\",\"nas\\u0131l\",\"nunca\",\"ancora\",\"mui\",\"\\u0441\\u0442\\u0440\\u0430\\u043d\\u0438\\u0446\\u0443\",\"mesmo\",\"idea\",\"informa\\u00e7\\u00f5\",\"burada\",\"tanto\",\"kullan\\u0131c\\u0131\",\"npov\",\"debe\",\"dovrebb\",\"probl\\u00e8m\",\"dice\",\"ora\",\"ela\",\"revert\",\"sembra\",\"\\u043e\\u043d\\u0430\",\"\\u043b\\u0438\\u0431\\u043e\",\"qual\",\"yok\",\"consenso\",\"deux\",\"posso\",\"ajout\",\"contra\",\"tr\\u00e8\",\"raison\",\"wai\",\"baz\\u0131\",\"estar\",\"significa\",\"suppress\",\"consult\",\"tema\",\"sea\",\"penso\",\"probabl\",\"modifich\",\"me\",\"n\\u0131n\",\"ust\",\"bana\",\"redirect\",\"suo\",\"melhor\",\"pu\\u00f2\",\"comentario\",\"bunun\",\"hola\",\"algu\\u00e9m\",\"materi\",\"lui\",\"puoi\",\"enlac\",\"b\\u00fcy\\u00fck\",\"place\",\"tenho\",\"version\",\"mismo\",\"ainda\",\"durant\",\"espero\",\"group\",\"d\\u00fczenlem\",\"y\\u00fczden\",\"alor\",\"foto\",\"cualquier\",\"mainten\",\"parc\",\"sull\",\"eliminaci\\u00f3n\",\"mejor\",\"continu\",\"kabul\",\"ayn\\u0131\",\"motivo\",\"senza\",\"degli\",\"concern\",\"princip\",\"commentair\",\"mi\",\"tiempo\",\"\\u043f\\u043e\\u044d\\u0442\\u043e\\u043c\\u0443\",\"messag\",\"quel\",\"fonti\",\"\\u0441\\u0442\\u0430\\u0442\\u044c\\u0435\",\"cuenta\",\"\\u0431\\u043e\\u043b\\u044c\\u0448\\u0435\",\"demand\",\"deber\\u00eda\",\"podr\\u00eda\",\"alguien\",\"text\",\"hi\\u00e7bir\",\"actual\",\"\\u0434\\u0430\\u0436\\u0435\",\"final\",\"beaucoup\",\"test\",\"autor\",\"poi\",\"ayr\\u0131ca\",\"tart\\u0131\\u015fma\",\"fato\",\"read\",\"alcun\",\"r\\u00e9f\\u00e9renc\",\"term\",\"right\",\"exclus\\u00e3o\",\"devam\",\"er\",\"\\u0441\\u0442\\u0440\\u0430\\u043d\\u0438\\u0446\\u044b\",\"dalla\",\"thing\",\"ciao\",\"ad\",\"coment\\u00e1rio\",\"tal\",\"es\",\"makalenin\",\"sembl\",\"quello\",\"stesso\",\"peu\",\"desd\",\"just\",\"stai\",\"aussi\",\"mal\",\"disso\",\"accord\",\"pagin\",\"fact\",\"entonc\",\"aid\",\"encontrar\",\"immagin\",\"histori\",\"verdad\",\"vraiment\",\"ger\\u00e7ekten\",\"supprim\",\"encor\",\"referencia\",\"politiqu\",\"parler\",\"pela\",\"idiota\",\"dick\",\"poco\",\"fag\",\"sezion\",\"secci\\u00f3n\",\"temp\",\"yanl\\u0131\\u015f\",\"volta\",\"se\\u00e7\\u00e3o\",\"yeni\",\"citat\",\"imagem\",\"afd\",\"estava\",\"texto\",\"qualcuno\",\"benim\",\"reason\",\"dont\",\"\\u044d\\u0442\\u0443\",\"devrait\",\"diferent\",\"class\",\"\\u00e9diteur\",\"r\\u00e1pida\",\"est\\u00e3o\",\"se\",\"decir\",\"pregunta\",\"dizer\",\"vida\",\"est\\u00e1n\",\"estaba\",\"te\\u015fekk\\u00fcr\",\"sempr\",\"edi\\u00e7\\u00f5\",\"\\u043f\\u0440\\u0438\\u0432\\u0435\\u0442\",\"john\",\"eliminar\",\"includ\",\"gen\",\"al\\u00e9m\",\"soi\",\"voi\",\"align\",\"travail\",\"\\u0434\\u043e\\u043b\\u0436\\u0435\\u043d\",\"stati\",\"ano\",\"quell\",\"gran\",\"bon\",\"correct\",\"do\\u011fru\",\"algun\",\"book\",\"stata\",\"mundo\",\"anti\",\"alcuni\",\"\\u0434\\u0435\\u0439\\u0441\\u0442\\u0432\\u0438\\u0442\\u0435\\u043b\\u044c\\u043d\\u043e\",\"maneira\",\"doi\",\"sto\",\"direct\",\"refer\\u00eancia\",\"hei\",\"toujour\",\"sitio\",\"bilgi\",\"ponto\",\"droit\",\"\\u0432\\u043e\\u0437\\u043c\\u043e\\u0436\\u043d\\u043e\",\"date\",\"ser\\u00e1\",\"sahip\",\"mosca\",\"\\u043f\\u043e\\u0441\\u043a\\u043e\\u043b\\u044c\\u043a\\u0443\",\"incluso\",\"word\",\"merhaba\",\"apr\\u00e8\",\"nuovo\",\"embargo\",\"try\",\"nuevo\",\"sen\",\"recent\",\"anterior\",\"potrebb\",\"mean\",\"tekrar\",\"content\",\"tan\",\"\\u015fimdi\",\"\\u0441\\u0434\\u0435\\u043b\\u0430\\u0442\\u044c\",\"principal\",\"foss\",\"seul\",\"ask\",\"libro\",\"at\\u00e9\",\"contrib\",\"modifi\",\"\\u0431\\u0435\\u0437\",\"direito\",\"vien\",\"tell\",\"claro\",\"acuerdo\",\"file\",\"mention\",\"foda\",\"tudo\",\"\\u0434\\u0440\\u0443\\u0433\\u0438\\u0445\",\"html\",\"davvero\",\"moin\",\"line\",\"usando\",\"a\\u00f1o\",\"qualcosa\",\"avant\",\"bastant\",\"suck\",\"completament\",\"iki\",\"alguno\",\"han\",\"cada\",\"\\u0433\\u0434\\u0435\",\"\\u0442\\u0435\\u043c\",\"silm\",\"long\",\"beni\",\"hace\",\"justo\",\"\\u0433\\u043e\\u0434\\u0430\",\"sexo\",\"account\",\"\\u0443\\u0434\\u0430\\u043b\\u0435\\u043d\\u0438\\u044f\",\"utilis\\u00e9\",\"ger\\u00e7ek\",\"polici\",\"visto\",\"puedo\",\"\\u0432\\u0438\\u043a\\u0438\\u043f\\u0435\\u0434\\u0438\\u044f\",\"internet\",\"trabalho\",\"merda\",\"titl\",\"\\u043c\\u043e\\u0433\\u0443\",\"despu\\u00e9\",\"error\",\"tengo\",\"\\u043d\\u0435\\u0441\\u043a\\u043e\\u043b\\u044c\\u043a\\u043e\",\"add\",\"mierda\",\"ca\",\"qualsiasi\",\"livr\",\"\\u043d\\u0435\\u043a\\u043e\\u0442\\u043e\\u0440\\u044b\\u0435\",\"t\\u00edtulo\",\"\\u044d\\u0442\\u0430\",\"dopo\",\"ataqu\",\"manera\",\"issu\",\"simpl\",\"consensu\",\"all\",\"ond\",\"frase\",\"data\",\"saber\",\"etiqueta\",\"doit\",\"grupo\",\"\\u043c\\u043e\\u0433\\u0443\\u0442\",\"bene\",\"year\",\"salut\",\"creat\",\"edicion\",\"sarebb\",\"\\u0445\\u043e\\u0442\\u044f\",\"dall\",\"world\",\"kaynak\",\"case\",\"enciclopedia\",\"n\\u00famero\",\"olmayan\",\"precisa\",\"hablar\",\"foram\",\"vertic\",\"\\u0445\\u043e\\u0440\\u043e\\u0448\\u043e\",\"stop\",\"\\u0438\\u043c\\u0435\\u0435\\u0442\",\"make\",\"derecho\",\"bile\",\"sandbox\",\"sabe\",\"na\",\"lorsqu\",\"talvez\",\"suggest\",\"tener\",\"besoin\",\"\\u043a\\u043e\\u0442\\u043e\\u0440\\u0430\\u044f\",\"stupid\",\"personnel\",\"\\u043a\\u0440\\u043e\\u043c\\u0435\",\"war\",\"\\u043b\\u044e\\u0434\\u0438\",\"tra\",\"g\\u00f6re\",\"tek\",\"de\\u011fildir\",\"avait\",\"palabra\",\"\\u043f\\u043e\\u0441\\u043b\\u0435\",\"size\",\"rapid\",\"kendi\",\"fors\",\"\\u0442\\u0435\\u0431\\u044f\",\"trabajo\",\"total\",\"\\u043e\\u0434\\u0438\\u043d\",\"said\",\"assunto\",\"\\u0441\\u0430\\u043c\\u043e\\u043c\",\"seria\",\"detto\",\"jour\",\"unido\",\"possibl\",\"support\",\"pouco\",\"ogni\",\"\\u0441\\u0441\\u044b\\u043b\\u043a\\u0438\",\"\\u044d\\u0442\\u0438\",\"birka\\u00e7\",\"cose\",\"yeniden\",\"neutral\",\"\\u0432\\u0438\\u043a\\u0438\\u043f\\u0435\\u0434\\u0438\\u044e\",\"bom\",\"contenido\",\"haber\",\"rien\",\"possa\",\"\\u043b\\u044e\\u0434\\u0435\\u0439\",\"media\",\"anni\",\"\\u043c\\u043d\\u043e\\u0433\\u043e\",\"spam\",\"\\u0434\\u0440\\u0443\\u0433\\u0438\\u0435\",\"jamai\",\"dia\",\"causa\",\"\\u043a\\u0430\\u0436\\u0435\\u0442\\u0441\\u044f\",\"boa\",\"cita\",\"tant\",\"bonn\",\"sentido\",\"argomento\",\"usa\",\"palavra\",\"serait\",\"conte\\u00fado\",\"present\",\"mot\",\"onu\",\"peux\",\"bais\",\"fez\",\"\\u0443\\u0436\\u0435\",\"consid\",\"civil\",\"request\",\"common\",\"contenu\",\"quem\",\"anal\",\"\\u0432\\u0430\\u0448\",\"start\",\"\\u0434\\u0435\\u043b\\u0435\",\"e\\u011fer\",\"podem\",\"aviso\",\"claim\",\"hasta\",\"\\u0441\\u0435\\u0431\\u044f\",\"historia\",\"background\",\"inoltr\",\"adem\\u00e1\",\"contr\",\"\\u0441\\u043b\\u0443\\u0447\\u0430\\u0435\",\"portanto\",\"nation\",\"depoi\",\"public\",\"d\\u00eda\",\"\\u043d\\u0443\\u0436\\u043d\\u043e\",\"clarament\",\"quella\",\"\\u00f6nemli\",\"problem\",\"pueden\",\"conversa\",\"bueno\",\"\\u2019\",\"\\u0445\\u043e\\u0442\\u0438\\u0442\\u0435\",\"go\",\"\\u0432\\u0430\\u0448\\u0435\",\"entanto\",\"primeiro\",\"makaleyi\",\"vikipedi\",\"let\",\"review\",\"pergunta\",\"\\u00e9tat\",\"parlar\",\"culo\",\"rfc\",\"abbia\",\"\\u0437\\u043d\\u0430\\u044e\",\"posit\",\"sure\",\"exempl\",\"superior\",\"questi\",\"argument\",\"write\",\"novament\",\"photo\",\"quest\",\"exemplo\",\"administrateur\",\"\\u043c\\u043e\\u0439\",\"sito\",\"fa\\u00e7on\",\"tild\",\"sistema\",\"kar\\u015f\\u0131\",\"mond\",\"feel\",\"embora\",\"storia\",\"hist\\u00f3ria\",\"mail\",\"lavoro\",\"etmek\",\"h\\u0131zl\\u0131\",\"biraz\",\"modificar\",\"suficient\",\"width\",\"histoir\",\"secondo\",\"ilk\",\"pai\",\"tuoi\",\"compt\",\"free\",\"tuttavia\",\"\\u043f\\u043e\\u043b\\u044c\\u0437\\u043e\\u0432\\u0430\\u0442\\u0435\\u043b\\u044f\",\"tue\",\"belki\",\"importa\",\"bitch\",\"savoir\",\"ajout\\u00e9\",\"admin\",\"\\u043c\\u043e\\u0436\\u043d\\u043e\",\"asl\\u0131nda\",\"ederim\",\"accus\",\"accept\",\"sim\",\"quoi\",\"respond\",\"raz\\u00f3n\",\"mim\",\"assim\",\"cambio\",\"blog\",\"cite\",\"view\",\"g\\u00f6r\\u00fcn\\u00fcyor\",\"differ\",\"t\\u00e3o\",\"lado\",\"type\",\"semplicement\",\"dato\",\"mort\",\"ser\\u00eda\",\"\\u0442\\u0435\\u043f\\u0435\\u0440\\u044c\",\"believ\",\"continuar\",\"call\",\"argumento\",\"ol\\u00e1\",\"wanker\",\"\\u0440\\u0430\\u0437\",\"\\u0438\\u043c\\u044f\",\"mucha\",\"\\u043f\\u0440\\u043e\\u0442\\u0438\\u0432\",\"live\",\"poich\\u00e9\",\"abbastanza\",\"diz\",\"qualch\",\"auteur\",\"cepend\",\"commun\",\"certo\",\"aggiunger\",\"ayuda\",\"sorun\",\"muita\",\"ejemplo\",\"ninguna\",\"petit\",\"agregar\",\"\\u00e9dition\",\"dahil\",\"accordo\",\"tutt\",\"subject\",\"quand\",\"sort\",\"tre\",\"recherch\",\"sayfa\",\"welcom\",\"ass\",\"barnstar\",\"\\u0432\\u0430\\u0448\\u0438\",\"cancellazion\",\"diss\",\"algum\",\"guerr\",\"selon\",\"donn\\u00e9\",\"bisogno\",\"standard\",\"seri\",\"bloqueado\",\"d\\u00e9j\\u00e0\",\"templat\",\"pare\",\"luego\",\"politica\",\"original\",\"fine\",\"uygun\",\"elenco\",\"\\u0440\\u0435\\u0434\\u0430\\u043a\\u0442\\u0438\\u0440\\u043e\\u0432\\u0430\\u043d\\u0438\\u044f\",\"util\",\"nem\",\"peuvent\",\"follow\",\"dio\",\"altr\",\"\\u201c\",\"\\u0440\\u0435\\u0434\\u0430\\u043a\\u0442\\u0438\\u0440\\u043e\\u0432\\u0430\\u0442\\u044c\",\"gent\",\"\\u0442\\u0430\\u043c\",\"manual\",\"veder\",\"dado\",\"sta\",\"\\u043d\\u0430\\u0439\\u0442\\u0438\",\"novo\",\"estilo\",\"tam\",\"crear\",\"riferimento\",\"podemo\",\"taco\",\"olmad\\u0131\\u011f\\u0131n\\u0131\",\"\\u0441\\u0442\\u0440\\u0430\\u043d\\u0438\\u0446\\u0430\",\"littl\",\"cazzo\",\"hope\",\"k\\u00fc\\u00e7\\u00fck\",\"plusieur\",\"york\",\"dove\",\"better\",\"\\u043d\\u0438\\u043a\\u043e\\u0433\\u0434\\u0430\",\"partir\",\"s\\u00fbr\",\"pourrait\",\"ediyorum\",\"molti\",\"potresti\",\"understand\",\"actuel\",\"tenha\",\"primo\",\"\\u0441\\u043d\\u043e\\u0432\\u0430\",\"poderia\",\"\\u00e9taient\",\"dele\",\"\\u044d\\u0442\\u0438\\u043c\",\"premier\",\"ki\\u015fisel\",\"legal\",\"relat\",\"\\u043c\\u043e\\u0435\\u0439\",\"tamamen\",\"action\",\"pro\",\"fai\",\"categoria\",\"olabilir\",\"buena\",\"olmak\",\"american\",\"\\u043d\\u0438\\u0447\\u0435\\u0433\\u043e\",\"nouveau\",\"tienen\",\"\\u0438\\u0437\\u043e\\u0431\\u0440\\u0430\\u0436\\u0435\\u043d\\u0438\\u044f\",\"mentr\",\"art\",\"guida\",\"yapmak\",\"seguro\",\"hitler\",\"adicionar\",\"biri\",\"nulla\",\"den\",\"far\",\"contribuir\",\"attack\",\"man\",\"\\u043a\\u043e\\u0442\\u043e\\u0440\\u0443\\u044e\",\"\\u0434\\u043e\\u043b\\u0436\\u043d\\u043e\",\"aggiunto\",\"troll\",\"aunqu\",\"blp\",\"dikkat\",\"video\",\"best\",\"\\u0438\\u0441\\u043f\\u043e\\u043b\\u044c\\u0437\\u043e\\u0432\\u0430\\u0442\\u044c\",\"semana\",\"negro\",\"evet\",\"archiv\",\"regard\",\"\\u043d\\u0430\\u0434\\u0435\\u044e\\u0441\\u044c\",\"form\",\"tenga\",\"haya\",\"livro\",\"\\u0438\\u043d\\u0444\\u043e\\u0440\\u043c\\u0430\\u0446\\u0438\\u044e\",\"faz\",\"personal\",\"hi\\u00e7\",\"commenti\",\"yerin\",\"\\u0438\\u0437\\u043e\\u0431\\u0440\\u0430\\u0436\\u0435\\u043d\\u0438\\u0435\",\"nouvel\",\"gi\\u00e0\",\"amigo\",\"k\\u00f6t\\u00fc\",\"propr\",\"libr\",\"provid\",\"ajuda\",\"disputa\",\"suppos\",\"\\u00fczerind\",\"\\u043c\\u043e\\u0433\\u043b\\u0438\",\"expliqu\",\"bak\\u0131n\",\"entrada\",\"\\u044f\\u0432\\u043b\\u044f\\u044e\\u0442\\u0441\\u044f\",\"bir\\u00e7ok\",\"rfa\",\"bloccato\",\"check\",\"bit\",\"fan\",\"posibl\",\"\\u00e9crit\",\"agre\",\"yine\",\"\\u0432\\u043e\\u043f\\u0440\\u043e\\u0441\",\"\\u043e\\u0431\\u0440\\u0430\\u0437\\u043e\\u043c\",\"exampl\",\"nenhuma\",\"php\",\"conta\",\"ignor\",\"erano\",\"moment\",\"g\\u00fcvenilir\",\"sayfas\\u0131nda\",\"\\u0441\\u0434\\u0435\\u043b\\u0430\\u043b\",\"necesita\",\"\\u0445\\u043e\\u0442\\u0435\\u043b\",\"vandalism\",\"termin\",\"yard\\u0131m\",\"all\\u00ed\",\"current\",\"ao\",\"esp\\u00e8r\",\"ann\\u00e9\",\"oui\",\"ffffa\",\"local\",\"esempio\",\"olmas\\u0131\",\"\\u043c\\u043e\\u0438\",\"moron\",\"evitar\",\"dar\",\"probabilment\",\"\\u043f\\u043e\\u0434\",\"meilleur\",\"complet\",\"assez\",\"bot\",\"school\",\"varsa\",\"\\u0438\\u0441\\u0442\\u043e\\u0447\\u043d\\u0438\\u043a\\u0438\",\"realt\\u00e0\",\"vedi\",\"super\",\"\\u00fanica\",\"care\",\"\\u0441\\u043a\\u0430\\u0437\\u0430\\u0442\\u044c\",\"\\u0441\\u0442\\u0430\\u0442\\u0435\\u0439\",\"\\u0440\\u0430\\u0437\\u0434\\u0435\\u043b\",\"pui\",\"\\u0438\\u0441\\u0442\\u043e\\u0447\\u043d\\u0438\\u043a\",\"breve\",\"makaled\",\"violat\",\"paragraph\",\"\\u043a\\u043e\\u0442\\u043e\\u0440\\u043e\\u0435\",\"sendo\",\"maggior\",\"izin\",\"telif\",\"odio\",\"a\\u00e7\\u0131k\",\"life\",\"\\u00faltimo\",\"depui\",\"particular\",\"b\\u00f6yle\",\"dond\",\"hate\",\"todav\\u00eda\",\"trovar\",\"phrase\",\"hora\",\"contro\",\"makaley\",\"\\u0441\\u0435\\u0439\\u0447\\u0430\\u0441\",\"report\",\"muhtemelen\",\"spero\",\"fin\",\"dessu\",\"\\u0438\\u043d\\u0444\\u043e\\u0440\\u043c\\u0430\\u0446\\u0438\\u0438\",\"wrong\",\"fiabl\",\"gui\",\"david\",\"escrito\",\"\\u0443\\u0434\\u0430\\u043b\\u0438\\u0442\\u044c\",\"commento\",\"iddia\",\"band\",\"farkl\\u0131\",\"\\u043b\\u0443\\u0447\\u0448\\u0435\",\"normal\",\"english\",\"reliabl\",\"ball\",\"nenhum\",\"net\",\"lei\",\"tale\",\"resultado\",\"opini\\u00f3n\",\"\\u043d\\u0438\\u0445\",\"hala\",\"completo\",\"konusunda\",\"possono\",\"autorai\",\"aim\",\"fark\",\"provavelment\",\"modelo\",\"\\u043e\\u0431\\u0441\\u0443\\u0436\\u0434\\u0435\\u043d\\u0438\\u0435\",\"campo\",\"\\u00f6zellikl\",\"t\\u00e9rmino\",\"\\u0437\\u0430\\u0442\\u0435\\u043c\",\"cierto\",\"regra\",\"univers\",\"yani\",\"attaqu\",\"comunidad\",\"segundo\",\"feliz\",\"immagini\",\"notic\",\"d\\u00fc\\u015f\\u00fcn\\u00fcyorum\",\"prega\",\"termo\",\"\\u0441\\u043a\\u0430\\u0437\\u0430\\u043b\",\"enquanto\",\"georg\",\"vue\",\"ello\",\"rimosso\",\"prove\",\"mod\\u00e8l\",\"lign\",\"seguir\",\"pensez\",\"aiuto\",\"categori\",\"nazi\",\"wikipedian\",\"\\u0438\\u0437\\u043c\\u0435\\u043d\\u0435\\u043d\\u0438\\u044f\",\"confiabl\",\"\\u0432\\u0441\\u0435\\u0445\",\"piuttosto\",\"\\u00fanico\",\"tard\",\"g\\u00f6z\",\"leav\",\"cree\",\"\\u0441\\u043f\\u0438\\u0441\\u043e\\u043a\",\"mani\\u00e8r\",\"simplesment\",\"explain\",\"\\u043f\\u043e\\u043b\\u044c\\u0437\\u043e\\u0432\\u0430\\u0442\\u0435\\u043b\\u044c\",\"opini\\u00e3o\",\"problemi\",\"poder\",\"ella\",\"meglio\",\"especi\",\"im\\u00e1gen\",\"jame\",\"\\u043d\\u0430\\u043f\\u0440\\u0438\\u043c\\u0435\\u0440\",\"number\",\"domand\",\"album\",\"\\u0440\\u0435\\u0434\\u0430\\u043a\\u0442\\u0438\\u0440\\u043e\\u0432\\u0430\\u043d\\u0438\\u0435\",\"discut\",\"appear\",\"main\",\"fikir\",\"index\",\"fuera\",\"medio\",\"\\u0441\\u0432\\u043e\\u0438\",\"umar\\u0131m\",\"realidad\",\"prova\",\"buona\",\"pene\",\"pesquisa\",\"eden\",\"avon\",\"abbiamo\",\"administr\",\"club\",\"balis\",\"sicuro\",\"resim\",\"ani\",\"veze\",\"relevant\",\"respuesta\",\"preuv\",\"\\u0432\\u043e\\u043f\\u0440\\u043e\\u0441\\u044b\",\"totalment\",\"daki\",\"farlo\",\"similar\",\"kesinlikl\",\"anda\",\"diff\\u00e9rent\",\"testo\",\"premi\\u00e8r\",\"trouver\",\"idioma\",\"adicion\",\"trop\",\"kez\",\"eliminazion\",\"nomin\",\"hab\\u00eda\",\"adam\",\"pendant\",\"\\u0441\\u043b\\u0435\\u0434\\u0443\\u0435\\u0442\",\"rule\",\"\\u043e\\u0434\\u043d\\u0430\\u043a\\u043e\",\"yorum\",\"acima\",\"altra\",\"pla\\u00eet\",\"languag\",\"pensar\",\"cr\\u00edtica\",\"especialment\",\"r\\u00e9pons\",\"seni\",\"nessuno\",\"souhaitez\",\"\\u0431\\u0443\\u0434\\u0443\",\"nei\",\"titr\",\"siempr\",\"debat\",\"great\",\"\\u00faltima\",\"\\u0441\\u0432\\u043e\\u044e\",\"helpm\",\"chi\",\"yard\\u0131mc\\u0131\",\"riguarda\",\"nova\",\"t\\u00fcr\",\"olduk\\u00e7a\",\"caus\",\"ana\",\"mayor\\u00eda\",\"agit\",\"\\u0433\\u043e\\u0434\\u0443\",\"tu\",\"sera\",\"probablement\",\"nueva\",\"mientra\",\"cultur\",\"appel\",\"mie\",\"puta\",\"upload\",\"lead\",\"\\u043d\\u0438\\u0431\\u0443\\u0434\\u044c\",\"siano\",\"diff\",\"domanda\",\"plut\\u00f4t\",\"\\u00e1rea\",\"bonjour\",\"riferimenti\",\"faggot\",\"\\u043f\\u0440\\u0438\",\"\\u043a\\u0430\\u043a\\u043e\\u0439\",\"benvenuto\",\"ki\\u015fi\",\"bush\",\"resposta\",\"citi\",\"de\\u011filim\",\"tel\",\"\\u043a\\u0430\\u0447\\u0435\\u0441\\u0442\\u0432\\u0435\",\"second\",\"possibil\",\"casa\",\"scritto\",\"mensaj\",\"miei\",\"banda\",\"credo\",\"maioria\",\"nedenl\",\"boi\",\"processo\",\"wtf\",\"india\",\"principalment\",\"\\u043f\\u043e\\u043a\\u0430\",\"volt\",\"uni\",\"hizo\",\"\\u0441\\u0432\\u043e\\u0439\",\"allora\",\"obten\",\"infobox\",\"\\u0432\\u043a\\u043b\\u0430\\u0434\",\"youtub\",\"respons\",\"research\",\"thought\",\"foutr\",\"get\",\"\\u0432\\u0441\\u0435\\u0433\\u043e\",\"futuro\",\"\\u201d\",\"\\u0447\\u0435\\u043b\\u043e\\u0432\\u0435\\u043a\",\"evento\",\"parol\",\"emin\",\"ning\\u00fan\",\"respecto\",\"dua\",\"document\",\"copi\",\"seg\\u00fan\",\"\\u0434\\u043e\\u043b\\u0436\\u043d\\u0430\",\"vero\",\"\\u043a\\u043e\\u043d\\u0435\\u0447\\u043d\\u043e\",\"\\u0434\\u0440\\u0443\\u0433\\u043e\\u0439\",\"\\u043a\\u043e\\u0442\\u043e\\u0440\\u043e\\u0439\",\"rapida\",\"elimin\",\"governo\",\"ait\",\"\\u0432\\u0438\\u043a\\u0438\",\"\\u00fatil\",\"record\",\"ye\",\"lot\",\"\\u0441\\u0432\\u043e\\u0435\\u0439\",\"robert\",\"entend\",\"twat\",\"shit\",\"ba\\u011flant\\u0131\",\"speedi\",\"ediyor\",\"\\u0431\\u0443\\u0434\\u0443\\u0442\",\"laquel\",\"statu\",\"abd\",\"kontrol\",\"gostaria\",\"homo\",\"mieux\",\"obviament\",\"insanlar\",\"am\\u00e9ricain\",\"\\u0432\\u043e\\u0442\",\"prueba\",\"sopra\",\"casi\",\"bienvenu\",\"eski\",\"\\u043c\\u0435\\u043d\\u0435\\u0435\",\"merd\",\"interess\",\"gerekti\\u011fini\",\"amministrator\",\"certeza\",\"a\\u00e7\\u0131k\\u00e7a\",\"attent\",\"propos\",\"pa\\u00ed\",\"jusqu\",\"indiqu\",\"\\u0442\\u0430\\u043a\\u0438\\u043c\",\"appena\",\"dessa\",\"signifi\",\"pens\\u00e9\",\"chaqu\",\"empresa\",\"fino\",\"idiot\",\"\\u043a\\u0430\\u043a\\u0438\\u0435\",\"unit\",\"devem\",\"israel\",\"hakk\\u0131\",\"end\",\"material\",\"vedo\",\"fazendo\",\"\\u0440\\u0430\\u0437\\u0433\\u043e\\u0432\\u0430\\u0440\\u0438\\u0432\\u0430\\u0442\\u044c\",\"love\",\"respect\",\"ler\",\"mesma\",\"\\u0443\\u0432\\u0435\\u0440\\u0435\\u043d\",\"\\u0442\\u043e\\u0442\",\"got\",\"fiz\",\"big\",\"relacionado\",\"name\",\"interest\",\"dif\\u00edcil\",\"social\",\"ainsi\",\"\\u0432\\u0440\\u0435\\u043c\\u0435\\u043d\\u0438\",\"\\u043d\\u0435\\u043c\\u043d\\u043e\\u0433\\u043e\",\"\\u0434\\u0435\\u043b\\u0430\\u0442\\u044c\",\"vita\",\"usado\",\"id\\u00e9\",\"\\u0443\\u0434\\u0430\\u043b\\u0435\\u043d\\u0438\\u0435\",\"veo\",\"ricerca\",\"seulement\",\"m\\u00fasica\",\"acordo\",\"veux\",\"criterio\",\"consider\",\"critiqu\",\"deveria\",\"\\u0432\\u0435\\u0440\\u043e\\u044f\\u0442\\u043d\\u043e\",\"notr\",\"cara\",\"t\\u00eam\",\"birlikt\",\"saper\",\"matter\",\"\\u0447\\u0430\\u0441\\u0442\\u044c\",\"william\",\"haciendo\",\"propaganda\",\"bloqu\\u00e9\",\"sockpuppet\",\"lieu\",\"veja\",\"\\u044d\\u0442\\u043e\\u043c\\u0443\",\"alt\\u0131nda\",\"fort\",\"vejo\",\"difficil\",\"plupart\",\"l\\u00ednea\",\"press\",\"\\u0433\\u043e\\u0432\\u043e\\u0440\\u0438\\u0442\",\"a\\u00fan\",\"certament\",\"isn\",\"d\\u00e9clarat\",\"onun\",\"uzun\",\"molt\",\"sorri\",\"quest\\u00e3o\",\"primera\",\"statement\",\"ingles\",\"vie\",\"primeira\",\"\\u043f\\u043e\\u0445\\u043e\\u0436\\u0435\",\"plan\",\"vote\",\"pueda\",\"limit\",\"rock\",\"act\",\"info\",\"cambiar\",\"\\u043d\\u0430\\u0441\",\"trata\",\"plantilla\",\"countri\",\"bajo\",\"\\u0441\\u043b\\u0438\\u0448\\u043a\\u043e\\u043c\",\"\\u0441\\u043e\\u0433\\u043b\\u0430\\u0441\\u0435\\u043d\",\"\\u044d\\u0442\\u0438\\u0445\",\"tentando\",\"contribui\\u00e7\\u00f5\",\"conform\",\"lire\",\"metal\",\"i\\u00e7ind\",\"old\",\"siktir\",\"wikimedia\",\"\\u043d\\u0430\\u0434\",\"hombr\",\"mondo\",\"arbcom\",\"uniti\",\"yer\",\"senso\",\"ho\\u015f\",\"quot\",\"nest\",\"americano\",\"hijo\",\"\\u0442\\u0430\\u043a\\u0438\\u0435\",\"central\",\"n\\u00e9cessair\",\"\\u0441\\u0448\\u0430\",\"onlar\\u0131\",\"katk\\u0131da\",\"resmi\",\"judeu\",\"boob\",\"chanc\",\"hem\",\"suoi\",\"registro\",\"warn\",\"evid\",\"sign\",\"avi\",\"parola\",\"adil\",\"\\u043b\\u0435\\u0442\",\"bonergasm\",\"risposta\",\"\\u043c\\u0435\\u0436\\u0434\\u0443\",\"programa\",\"true\",\"errado\",\"\\u0434\\u043e\\u0431\\u0430\\u0432\\u0438\\u0442\\u044c\",\"hello\",\"contenuto\",\"\\u015feyi\",\"\\u043a\\u043e\\u043c\\u043c\\u0435\\u043d\\u0442\\u0430\\u0440\\u0438\\u0439\",\"istiyorum\",\"existem\",\"ingl\\u00ea\",\"\\u0432\\u0435\\u0431\",\"guidelin\",\"genel\",\"desea\",\"vrai\",\"control\",\"game\",\"buon\",\"\\u043a\\u043e\\u043c\\u043c\\u0435\\u043d\\u0442\\u0430\\u0440\\u0438\\u0438\",\"feito\",\"forc\",\"\\u0441\\u0432\\u043e\\u0435\",\"d\\u00e9sol\\u00e9\",\"banan\",\"encyclopedia\",\"simpli\",\"sayfas\\u0131na\",\"singl\",\"music\",\"\\u0434\\u043e\\u0432\\u043e\\u043b\\u044c\\u043d\\u043e\",\"yapt\\u0131\\u011f\\u0131n\\u0131z\",\"sotto\",\"de\\u011fer\",\"quier\",\"fuori\",\"topic\",\"observ\",\"estamo\",\"orijin\",\"natur\",\"enciclop\\u00e9dia\",\"modern\",\"an\",\"religion\",\"\\u0438\\u0441\\u0442\\u043e\\u0440\\u0438\\u0438\",\"encyclop\\u00e9di\",\"pr\\u00f3pria\",\"\\u0438\\u0441\\u043f\\u043e\\u043b\\u044c\\u0437\\u043e\\u0432\\u0430\\u043d\\u0438\\u044f\",\"mevcut\",\"blaa\",\"archivo\",\"descript\",\"ingl\\u00e9\",\"michael\",\"larg\",\"ban\",\"alg\\u00fan\",\"websit\",\"china\",\"project\",\"dovrebbero\",\"onlin\",\"\\u043e\\u043d\\u043e\",\"alto\",\"area\",\"\\u0437\\u0440\\u0435\\u043d\\u0438\\u044f\",\"completa\",\"miglior\",\"tutori\",\"\\u043f\\u0440\\u043e\\u0431\\u043b\\u0435\\u043c\\u0430\",\"email\",\"dentro\",\"ettim\",\"nyan\",\"comportamento\",\"vece\",\"membro\",\"eliminato\",\"ba\",\"voglio\",\"\\u043a\\u043e\\u0442\\u043e\\u0440\\u044b\\u0445\",\"exact\",\"demasiado\",\"regla\",\"scienc\",\"pessoal\",\"cat\\u00e9gori\",\"mark\",\"incluir\",\"posto\",\"objetivo\",\"blocco\",\"utenti\",\"orada\",\"\\u0432\\u0438\\u0436\\u0443\",\"fa\\u00e7a\",\"negli\",\"ofici\",\"ecc\",\"address\",\"watch\",\"verificar\",\"vandalizm\",\"tiver\",\"bienvenido\",\"qui\\u00e9n\",\"contrario\",\"\\u0438\\u0441\\u0442\\u043e\\u0447\\u043d\\u0438\\u043a\\u043e\\u0432\",\"discutir\",\"r\\u00e8gle\",\"\\u0442\\u043e\\u0433\\u0434\\u0430\",\"dyk\",\"specif\",\"corretto\",\"arquivo\",\"fueron\",\"cinco\",\"particip\",\"nadi\",\"comprend\",\"quiero\",\"referan\",\"zaten\",\"anim\",\"cultura\",\"avuto\",\"fatti\",\"benc\",\"quero\",\"obter\",\"blok\",\"sob\",\"forum\",\"contributi\",\"stessa\",\"protect\",\"servic\",\"clear\",\"agosto\",\"polit\",\"fucker\",\"\\u0432\\u0430\\u0448\\u0443\",\"collegamenti\",\"ningu\\u00e9m\",\"t\\u00f3pico\",\"siento\",\"almeno\",\"rimuover\",\"afin\",\"aider\",\"cerca\",\"teoria\",\"pictur\",\"pr\\u00f3prio\",\"clairement\",\"intent\",\"pass\",\"crit\\u00e9rio\",\"trouv\\u00e9\",\"hist\\u00f3rico\",\"border\",\"zamanda\",\"misma\",\"rest\",\"creato\",\"k\\u0131sa\",\"object\",\"anlam\\u0131na\",\"citar\",\"\\u0447\\u0435\\u0440\\u0435\\u0437\",\"vuoi\",\"troppo\",\"reino\",\"appropri\\u00e9\",\"crit\\u00e8r\",\"generalment\",\"primer\",\"mar\",\"cour\",\"mese\",\"segunda\",\"\\u00e9tant\",\"escrev\",\"left\",\"\\u0438\\u0441\\u043f\\u043e\\u043b\\u044c\\u0437\\u043e\\u0432\\u0430\\u043d\\u0438\\u0435\",\"\\u0432\\u043d\\u0438\\u043c\\u0430\\u043d\\u0438\\u0435\",\"\\u0431\\u044b\\u0441\\u0442\\u0440\\u043e\\u0433\\u043e\",\"\\u043f\\u0440\\u043e\\u0431\\u043b\\u0435\\u043c\\u044b\",\"black\",\"happen\",\"buna\",\"haga\",\"exclu\\u00eddo\",\"sue\",\"\\u0434\\u043e\\u0441\\u0442\\u0430\\u0442\\u043e\\u0447\\u043d\\u043e\",\"stori\",\"\\u0441\\u0441\\u044b\\u043b\\u043a\\u0443\",\"general\",\"voulez\",\"\\u0441\\u0441\\u044b\\u043b\\u043a\\u0430\",\"have\",\"eliminado\",\"center\",\"solid\",\"auto\",\"grado\",\"haut\",\"kullan\\u0131m\",\"devo\",\"considera\",\"given\",\"clearli\",\"richiesta\",\"sizin\",\"mayb\",\"valor\",\"homm\",\"resto\",\"oldu\\u011funa\",\"reedelliot\",\"maior\",\"pena\",\"bullshit\",\"san\\u0131r\\u0131m\",\"poss\\u00edvel\",\"mettr\",\"necessario\",\"modello\",\"g\\u00fcn\",\"changement\",\"cevap\",\"facendo\",\"erreur\",\"indic\",\"agli\",\"\\u0441\\u0441\\u044b\\u043b\\u043e\\u043a\",\"air\",\"primero\",\"consid\\u00e9r\\u00e9\",\"ederiz\",\"tr\\u00ea\",\"dess\",\"numero\",\"continua\",\"n\\u00e9ger\",\"power\",\"falta\",\"bad\",\"devez\",\"v\\u00e1ria\",\"publi\\u00e9\",\"messaggio\",\"sayfas\\u0131\",\"y\\u0131l\",\"rapidament\",\"author\",\"quai\",\"obama\",\"remerci\",\"chiarament\",\"celui\",\"colleg\",\"kill\",\"inclus\",\"decid\",\"bununla\",\"contact\",\"ment\",\"mensagem\",\"saluti\",\"occhiata\",\"karar\",\"facil\",\"makaleleri\",\"historiqu\",\"est\\u00fapido\",\"paul\",\"categor\\u00eda\",\"ceux\",\"islam\",\"sino\",\"\\u043f\\u043e\\u043b\\u043d\\u043e\\u0441\\u0442\\u044c\\u044e\",\"rape\",\"mano\",\"ap\\u00f3\",\"open\",\"\\u0432\\u0441\\u0435\\u0433\\u0434\\u0430\",\"controversi\",\"nuestra\",\"konuda\",\"\\u0438\\u043d\\u0444\\u043e\\u0440\\u043c\\u0430\\u0446\\u0438\\u044f\",\"affirm\",\"clair\",\"answer\",\"essay\",\"hacerlo\",\"\\u0432\\u0430\\u0448\\u0435\\u0439\",\"acha\",\"cercando\",\"\\u0442\\u0435\\u0445\",\"langu\",\"written\",\"criar\",\"ambo\",\"falsa\",\"debido\",\"anglai\",\"\\u0437\\u043d\\u0430\\u0435\\u0442\\u0435\",\"context\",\"quer\",\"geldiniz\",\"escribir\",\"logo\",\"lanet\",\"laisser\",\"publish\",\"\\u0432\\u044b\\u0448\\u0435\",\"havia\",\"cr\\u00e9\\u00e9\",\"doivent\",\"vers\\u00e3o\",\"\\u043d\\u0430\\u043c\",\"sentenc\",\"\\u0441\\u043e\\u043e\\u0442\\u0432\\u0435\\u0442\\u0441\\u0442\\u0432\\u0438\\u0438\",\"v\\u00e1rio\",\"biographi\",\"charla\",\"rapport\",\"mostra\",\"high\",\"hice\",\"\\u00e7o\\u011fu\",\"bok\",\"comunqu\",\"temo\",\"special\",\"\\u0441\\u0434\\u0435\\u043b\\u0430\\u043b\\u0438\",\"\\u015feyler\",\"ecco\",\"titolo\",\"mind\",\"sex\",\"definit\",\"\\u0445\\u043e\\u0447\\u0443\",\"ovviament\",\"mathman\",\"critic\",\"particolar\",\"cellpad\",\"jew\",\"gerekir\",\"mongo\",\"compani\",\"\\u043c\\u043e\\u044e\",\"oldu\",\"futur\",\"intern\",\"improv\",\"genellikl\",\"deben\",\"solicitud\",\"dest\",\"fora\",\"bite\",\"pri\",\"\\u043f\\u0440\\u0435\\u0436\\u0434\\u0435\",\"\\u0432\\u0430\\u0448\\u0430\",\"\\u0434\\u0435\\u043b\\u0430\\u0435\\u0442\",\"pel\\u00edcula\",\"white\",\"kim\",\"vamo\",\"nossa\",\"caixa\",\"yoktur\",\"cunt\",\"contribucion\",\"buen\",\"vale\",\"edin\",\"legger\",\"\\u0438\\u043c\\u0435\\u0442\\u044c\",\"andar\",\"nuevament\",\"\\u043e\\u0441\\u043e\\u0431\\u0435\\u043d\\u043d\\u043e\",\"ifad\",\"continuez\",\"proposta\",\"vindo\",\"al\\u0131nt\\u0131\",\"ad\\u0131\",\"\\u0441\\u0430\\u0439\\u0442\",\"\\u043e\\u0437\\u043d\\u0430\\u0447\\u0430\\u0435\\u0442\",\"instead\",\"cr\\u00e9er\",\"rela\\u00e7\\u00e3o\",\"baster\",\"\\u043f\\u043e\\u043d\\u0438\\u043c\\u0430\\u044e\",\"olur\",\"cours\",\"nessuna\",\"uniqu\",\"result\",\"pdf\",\"fecha\",\"\\u0441\\u043e\\u043e\\u0431\\u0449\\u0435\\u043d\\u0438\\u0435\",\"nessun\",\"fondo\",\"sexual\",\"r\\u00e9sum\\u00e9\",\"dare\",\"\\u043c\\u043e\\u0433\",\"putain\",\"\\u043a\\u0430\\u0441\\u0430\\u0435\\u0442\\u0441\\u044f\",\"\\u043f\\u043e\\u043b\\u0443\\u0447\\u0438\\u0442\\u044c\",\"fagot\",\"concordo\",\"sar\\u00e0\",\"format\",\"star\",\"y\\u00f6netici\",\"evid\\u00eancia\",\"king\",\"vard\\u0131r\",\"geral\",\"mentionn\\u00e9\",\"nemmeno\",\"quiser\",\"vandalis\",\"search\",\"\\u043d\\u0435\\u0433\\u043e\",\"oltr\",\"journal\",\"contexto\",\"preciso\",\"projet\",\"tarihi\",\"extern\",\"diretr\",\"btw\",\"git\",\"citazion\",\"aras\\u0131nda\",\"madr\",\"adress\",\"\\u043c\\u043d\\u0435\\u043d\\u0438\\u0435\",\"hakk\\u0131ndaki\",\"popular\",\"ten\\u00eda\",\"god\",\"\\u0434\\u043e\\u0431\\u0440\\u043e\",\"n\\u00f3\",\"troi\",\"gustar\\u00eda\",\"endroit\",\"afirma\",\"precedent\",\"mostrar\",\"associ\",\"fals\",\"olup\",\"espec\\u00edfico\",\"particuli\",\"stub\",\"alta\",\"kaynaklar\",\"\\u043f\\u043e\\u0436\\u0430\\u043b\\u043e\\u0432\\u0430\\u0442\\u044c\",\"makalel\",\"\\u0442\\u0430\\u043a\\u043e\\u0439\",\"global\",\"ajudar\",\"\\u043c\\u043d\\u043e\\u0439\",\"\\u043f\\u0440\\u0430\\u0432\\u043a\\u0438\",\"\\u0432\\u0438\\u0434\\u0443\",\"versi\\u00f3n\",\"voto\",\"major\",\"possiamo\",\"considerado\",\"red\",\"eux\",\"propia\",\"confirm\",\"deu\",\"erro\",\"\\u043d\\u0430\\u0441\\u0442\\u043e\\u044f\\u0449\\u0435\\u0435\",\"contenuti\",\"dair\",\"\\u0432\\u043c\\u0435\\u0441\\u0442\\u043e\",\"proprio\",\"\\u043e\\u0447\\u0435\\u0432\\u0438\\u0434\\u043d\\u043e\",\"documento\",\"wale\",\"deixar\",\"entr\\u00e9\",\"plai\",\"sayfay\\u0131\",\"leer\",\"publicado\",\"geralment\",\"p\\u00fablico\",\"interessant\",\"poo\",\"g\\u00e9n\\u00e9ralement\",\"bbc\",\"deix\",\"\\u043c\\u043d\\u043e\\u0433\\u0438\\u0435\",\"jud\\u00edo\",\"involv\",\"am\\u00e9lior\",\"nosso\",\"explicar\",\"divers\",\"\\u0441\\u0443\\u0449\\u0435\\u0441\\u0442\\u0432\\u0443\\u0435\\u0442\",\"esist\",\"nord\",\"\\u043f\\u0440\\u0430\\u0432\\u0430\",\"png\",\"fat\",\"juif\",\"olmad\\u0131\\u011f\\u0131\",\"\\u0442\\u043e\\u0436\\u0435\",\"nacion\",\"nuestro\",\"\\u043e\\u0442\\u043d\\u043e\\u0448\\u0435\\u043d\\u0438\\u0438\",\"\\u043f\\u043e\\u043c\\u043e\\u0447\\u044c\",\"d\\u00f3nde\",\"disput\",\"\\u0432\\u0435\\u0449\\u0438\",\"allow\",\"misiniz\",\"quien\",\"b\\u00f6l\\u00fcm\",\"indica\",\"kind\",\"evidencia\",\"\\u043d\\u0435\\u043d\\u0430\\u0432\\u0438\\u0436\\u0443\",\"figur\",\"hay\\u0131r\",\"usato\",\"gruppo\",\"scriver\",\"militar\",\"projeto\",\"editori\",\"kendini\",\"\\u043d\\u0438\\u043a\\u0430\\u043a\\u0438\\u0445\",\"offici\",\"ragion\",\"dernier\",\"edit\\u00f6r\",\"juego\",\"vorrei\",\"meio\",\"comun\",\"omfg\",\"ami\",\"amministratori\",\"ortaya\",\"junto\",\"fui\",\"falso\",\"\\u0444\\u0430\\u043a\\u0442\",\"razon\",\"mat\\u00e9riel\",\"proyecto\",\"foder\",\"investigaci\\u00f3n\",\"editando\",\"dite\",\"derni\\u00e8r\",\"voici\",\"cita\\u00e7\\u00e3o\",\"\\u00f6zel\",\"m\\u00eddia\",\"\\u00e9crire\",\"court\",\"pourriez\",\"\\u0441\\u0442\\u0440\\u0430\\u043d\\u0438\\u0446\",\"\\u043b\\u044e\\u0431\\u043e\\u0439\",\"\\u043c\\u043e\\u0436\\u0435\\u043c\",\"\\u0431\\u043e\\u043b\\u044c\\u0448\\u0438\\u043d\\u0441\\u0442\\u0432\\u043e\",\"quasi\",\"anteriorment\",\"appropri\",\"deja\",\"nedeniyl\",\"necess\\u00e1rio\",\"clic\",\"eua\",\"\\u043f\\u0440\\u0430\\u0432\",\"peque\\u00f1o\",\"agenda\",\"tratando\",\"id\\u00e9ia\",\"president\",\"cell\",\"i\\u0307ngilizc\",\"fucksex\",\"sp\\u00e9cifiqu\",\"tentar\",\"asla\",\"studi\",\"million\",\"enfant\",\"invec\",\"remarqu\",\"resolv\",\"week\",\"mayor\",\"belirli\",\"entrambi\",\"medida\",\"sizi\",\"pop\",\"estiv\",\"nort\",\"\\u043d\\u0440\\u0430\\u0432\\u0438\\u0442\\u0441\\u044f\",\"show\",\"birisi\",\"\\u043c\\u0435\\u0440\\u0435\",\"avertiss\",\"donn\",\"\\u0437\\u043d\\u0430\\u0442\\u044c\",\"\\u043c\\u0435\\u0441\\u0442\\u043e\",\"addit\",\"promot\",\"fornec\",\"law\",\"\\u043b\\u044e\\u0431\\u043e\\u043c\",\"s\\u00e9rie\",\"significado\",\"\\u0443\\u0434\\u0430\\u043b\\u0438\\u043b\",\"situat\",\"propio\",\"\\u00fczg\\u00fcn\\u00fcm\",\"\\u0438\\u043c\\u0435\\u044e\\u0442\",\"pauta\",\"nombreux\",\"\\u0432\\u0430\\u043d\\u0434\\u0430\\u043b\\u0438\\u0437\\u043c\",\"automaticament\",\"makalesi\",\"colocar\",\"\\u043a\\u043e\\u0433\\u043e\",\"unutmay\\u0131n\",\"desculp\",\"terra\",\"jim\",\"h\\u00e9sitez\",\"\\u043f\\u043e\\u043c\\u043e\\u0449\\u044c\",\"\\u0434\\u0432\\u0430\",\"supuesto\",\"cocksuck\",\"b\\u00f6l\\u00fcm\\u00fc\",\"\\u0447\\u0435\\u043b\\u043e\\u0432\\u0435\\u043a\\u0430\",\"notabilidad\",\"dispon\",\"ra\\u011fmen\",\"criteri\",\"product\",\"desideri\",\"produit\",\"eram\",\"pr\\u00e9c\\u00e9dent\",\"effort\",\"per\\u00edodo\",\"\\u00f6rne\\u011fin\",\"acredito\",\"aveva\",\"genr\",\"menor\",\"yoksa\",\"toi\",\"summari\",\"contest\",\"ness\",\"marzo\",\"head\",\"externo\",\"gereken\",\"middl\",\"set\",\"\\u043e\\u0442\\u0432\\u0435\\u0442\",\"experi\",\"r\\u00e9pondr\",\"serio\",\"past\",\"incident\",\"male\",\"bilmiyorum\",\"move\",\"nun\",\"tinha\",\"m\\u00e9dia\",\"rend\",\"rispetto\",\"jogo\",\"franc\",\"excus\",\"universidad\",\"d\\u00fcnya\",\"trist\",\"officiel\",\"cidad\",\"giorno\",\"formato\",\"\\u0447\\u0435\\u0440\\u0442\",\"esteja\",\"oppos\",\"dovresti\",\"excluir\",\"washington\",\"famili\",\"membr\",\"cual\",\"pensi\",\"\\u043f\\u0440\\u0435\\u0434\\u043b\\u043e\\u0436\\u0435\\u043d\\u0438\\u0435\",\"valid\",\"learn\",\"\\u0442\\u0435\\u0433\",\"wish\",\"exclu\\u00edda\",\"ripristinato\",\"tamam\",\"htm\",\"ref\",\"\\u0442\\u0435\\u0447\\u0435\\u043d\\u0438\\u0435\",\"art\\u0131k\",\"order\",\"raz\\u00e3o\",\"posizion\",\"organis\",\"konu\",\"offfuck\",\"\\u043c\\u043e\\u0435\",\"anonym\",\"alan\",\"express\",\"fix\",\"neger\",\"centro\",\"verifi\",\"siendo\",\"hemen\",\"criteria\",\"america\",\"gfdl\",\"aptal\",\"partido\",\"quas\",\"not\\u00e1vel\",\"\\u0440\\u0443\\u043a\\u043e\\u0432\\u043e\\u0434\\u0441\\u0442\\u0432\\u043e\",\"\\u0441\\u0442\\u0435\\u0441\\u043d\\u044f\\u0439\\u0442\\u0435\\u0441\\u044c\",\"olacak\",\"pouvon\",\"insanlar\\u0131n\",\"bloc\",\"individu\",\"\\u043e\\u0431\\u044b\\u0447\\u043d\\u043e\",\"ottener\",\"boo\",\"aurait\",\"region\",\"hard\",\"bastardo\",\"ceci\",\"\\u0441\\u043b\\u043e\\u0432\\u0430\",\"tom\",\"rap\",\"\\u0440\\u0435\\u0434\\u0430\\u043a\\u0442\\u043e\\u0440\\u043e\\u0432\",\"est\\u00e9\",\"biliyorum\",\"dude\",\"resumo\",\"park\",\"\\u0432\\u0430\\u043c\\u0438\",\"usada\",\"obtenir\",\"tornar\",\"mencionado\",\"commenc\",\"poter\",\"face\",\"\\u0441\\u043e\\u0432\\u0435\\u0440\\u0448\\u0435\\u043d\\u043d\\u043e\",\"avai\",\"nesta\",\"appar\",\"gusta\",\"parla\",\"willi\",\"avrebb\",\"pubblicato\",\"happi\",\"at\\u0131fta\",\"biografia\",\"concept\",\"\\u043c\\u043e\\u044f\",\"pol\\u00edtico\",\"dizendo\",\"s\\u00fcre\",\"devi\",\"g\\u00f6rmek\",\"confi\\u00e1vei\",\"alcuna\",\"continui\",\"seen\",\"gerekiyor\",\"mencionar\",\"smith\",\"sayfalar\\u0131\",\"close\",\"unblock\",\"fac\",\"dijo\",\"take\",\"liber\",\"entrar\",\"potrebbero\",\"afferma\",\"siquiera\",\"miembro\",\"inutil\",\"\\u044f\\u0432\\u043d\\u043e\",\"sud\",\"peter\",\"insan\",\"contin\\u00faa\",\"linha\",\"i\\u0307yi\",\"assum\",\"cu\\u00e1l\",\"conseil\",\"essai\",\"\\u0434\\u043e\\u0431\\u0430\\u0432\\u0438\\u043b\",\"cock\",\"quiz\\u00e1\",\"morrer\",\"libero\",\"diversi\",\"brown\",\"birli\\u011fi\",\"aparec\",\"f\\u00e1cil\",\"sens\",\"vario\",\"femm\",\"dejar\",\"tenemo\",\"declaraci\\u00f3n\",\"tent\",\"\\u0435\\u0431\\u0430\\u0442\\u044c\",\"piccola\",\"lingua\",\"sayfan\\u0131n\",\"advertencia\",\"aparentement\",\"confus\",\"entir\",\"olsun\",\"alt\",\"seio\",\"modificato\",\"peso\",\"bob\",\"y\\u00fcksek\",\"mo\",\"\\u0438\\u0437\\u0432\\u0438\\u043d\\u0438\\u0442\\u0435\",\"relev\",\"yaln\\u0131zca\",\"\\u0442\\u0435\\u043a\\u0441\\u0442\",\"d\\u00favida\",\"van\",\"sa\\u00e7ma\",\"annul\\u00e9\",\"etti\",\"herk\",\"geliyor\",\"\\u043f\\u043e\\u0440\",\"christian\",\"\\u0433\\u0435\\u0439\",\"url\",\"allez\",\"todai\",\"prop\\u00f3sito\",\"\\u0441\\u0442\\u0440\\u0430\\u043d\\u0438\\u0446\\u0430\\u0445\",\"letto\",\"\\u043a\\u0440\\u0430\\u0439\\u043d\\u0435\\u0439\",\"diferencia\",\"canada\",\"affidabili\",\"politich\",\"known\",\"quelli\",\"finalment\",\"espec\\u00edfica\",\"\\u0432\\u0438\\u0434\\u0435\\u043b\",\"ensembl\",\"cit\\u00e9\",\"mapa\",\"attempt\",\"humano\",\"\\u043d\\u0438\\u043a\\u0442\\u043e\",\"donner\",\"notato\",\"kims\",\"istiyorsan\\u0131z\",\"correo\",\"citazioni\",\"deseja\",\"\\u043e\\u0434\\u043d\\u0430\",\"\\u0441\\u0442\\u043e\\u0440\\u043e\\u043d\\u044b\",\"redattori\",\"\\u00f6z\\u00fcr\",\"deje\",\"pass\\u00e9\",\"nefret\",\"\\u0434\\u0435\\u043b\\u043e\",\"pa\\u00eds\",\"insiem\",\"suit\",\"later\",\"az\\u0131ndan\",\"facebook\",\"log\",\"senin\",\"gosto\",\"luogo\",\"british\",\"revisi\\u00f3n\",\"cover\",\"\\u043d\\u0430\\u0437\\u0432\\u0430\\u043d\\u0438\\u0435\",\"semi\",\"morir\",\"deki\",\"theori\",\"peni\",\"boyunca\",\"imb\\u00e9cil\",\"\\u0435\\u043c\\u0443\",\"\\u00fczere\",\"prendr\",\"personalment\",\"affermazion\",\"trovato\",\"sean\",\"crime\",\"harika\",\"cita\\u00e7\\u00f5\",\"jimbo\",\"bloqueo\",\"\\u0433\\u043e\\u0432\\u043e\\u0440\\u0438\\u0442\\u044c\",\"revis\\u00e3o\",\"avviso\",\"j\\u00f3dete\",\"design\",\"april\",\"mauvai\",\"abril\",\"mundial\",\"human\",\"movimento\",\"fichier\",\"abus\",\"yapmaya\",\"sejam\",\"atual\",\"requir\",\"appreci\",\"contr\\u00e1rio\",\"hoje\",\"int\\u00e9r\\u00eat\",\"pessoai\",\"\\u0432\\u0430\\u0448\\u0435\\u0433\\u043e\",\"stavo\",\"gar\",\"\\u00e7ekinmeyin\",\"ni\\u00f1o\",\"death\",\"appel\\u00e9\",\"devraient\",\"seguito\",\"ona\",\"devono\",\"s\\u00f6z\",\"par\\u00e1grafo\",\"takip\",\"siguient\",\"d\\u00e9finit\",\"stile\",\"\\u043d\\u0430\\u0441\\u043a\\u043e\\u043b\\u044c\\u043a\\u043e\",\"syst\\u00e8m\",\"vard\\u0131\",\"ulteriori\",\"entri\",\"menciona\",\"li\\u00e9\",\"coi\",\"di\",\"won\",\"hangi\",\"featur\",\"resumen\",\"agregado\",\"\\u0441\\u043b\\u043e\\u0432\\u043e\",\"\\u0442\\u0430\\u043a\\u0438\\u0445\",\"member\",\"heur\",\"ciudad\",\"compri\",\"voce\",\"alternativa\",\"anno\",\"utilizzar\",\"\\u043d\\u0430\\u0437\\u0430\\u0434\",\"abord\",\"magazin\",\"ann\",\"\\u0438\\u043c\\u0435\\u043d\\u043d\\u043e\",\"relacionada\",\"hale\",\"\\u0434\\u0435\\u043d\\u044c\",\"considerar\",\"mudan\\u00e7a\",\"maldito\",\"dispiac\",\"correcto\",\"govern\",\"yap\\u0131lan\",\"reader\",\"provar\",\"\\u00e9tai\",\"rahats\\u0131z\",\"incorrect\",\"\\u043f\\u043e\\u0447\\u0442\\u0438\",\"edilen\",\"abuso\",\"savez\",\"zenci\",\"olmadan\",\"deuxi\\u00e8m\",\"pronto\",\"quali\",\"\\u043e\\u0434\\u043d\\u043e\\u0433\\u043e\",\"punti\",\"a\\u00e7\\u0131klama\",\"\\u043f\\u0440\\u0430\\u0432\\u0438\\u043b\\u044c\\u043d\\u043e\",\"d\\u0131\\u015f\\u0131nda\",\"nomi\",\"\\u0440\\u0430\\u0437\\u0434\\u0435\\u043b\\u0435\",\"durumda\",\"\\u0440\\u0430\\u0431\\u043e\\u0442\\u0443\",\"pertinent\",\"libert\\u00e9\",\"ederseniz\",\"chiunqu\",\"\\u0447\\u0430\\u0441\\u0442\\u0438\",\"c\\u00f4t\\u00e9\",\"team\",\"friend\",\"lee\",\"g\\u00fczel\",\"jack\",\"bell\",\"exatament\",\"run\",\"hous\",\"fundo\",\"supongo\",\"affair\",\"\\u00e9diter\",\"\\u0432\\u0441\\u0435\\u043c\",\"\\u00f6nceki\",\"opinioni\",\"wrote\",\"padr\",\"chiaro\",\"sana\",\"busi\",\"guid\",\"citt\\u00e0\",\"trouv\",\"organ\",\"d\\u00f6rt\",\"mondial\",\"usted\",\"soient\",\"confi\\u00e1vel\",\"releas\",\"firmar\",\"changer\",\"\\u043f\\u043e\\u0441\\u043c\\u043e\\u0442\\u0440\\u0438\\u0442\\u0435\",\"varia\",\"poder\\u00e1\",\"hand\",\"entrepris\",\"popul\",\"suivant\",\"harri\",\"tali\",\"giri\\u015f\",\"comprendr\",\"sigu\",\"piac\",\"connu\",\"b\\u00f6ylec\",\"escuela\",\"\\u0441\\u0432\\u043e\\u0438\\u0445\",\"t\\u00eate\",\"neutr\",\"falar\",\"cor\",\"polic\",\"experimentar\",\"posta\",\"minor\",\"bloquear\",\"domain\",\"mira\",\"\\u0442\\u0435\\u0431\\u0435\",\"quattro\",\"vill\",\"th\\u00e9ori\",\"box\",\"posi\\u00e7\\u00e3o\",\"\\u0441\\u0447\\u0438\\u0442\\u0430\\u044e\",\"comunit\\u00e0\",\"\\u043f\\u043e\\u043d\\u044f\\u0442\\u044c\",\"quatr\",\"montag\",\"bilgileri\",\"\\u0447\\u0430\\u0441\\u0442\\u043e\",\"neredeys\",\"arab\",\"nigga\",\"ton\",\"regol\",\"thoma\",\"wow\",\"atualment\",\"bak\\u0131\\u015f\",\"\\u0437\\u0430\\u043f\\u0438\\u0441\\u044c\",\"code\",\"awai\",\"quatro\",\"construct\",\"actualment\",\"amor\",\"month\",\"\\u0437\\u0434\\u0440\\u0430\\u0432\\u0441\\u0442\\u0432\\u0443\\u0439\\u0442\\u0435\",\"fornir\",\"p\\u00e9ni\",\"demand\\u00e9\",\"pertin\",\"preso\",\"\\u0433\\u043e\\u0432\\u043e\\u0440\\u044f\",\"ge\\u00e7erli\",\"vivo\",\"giusto\",\"\\u0438\\u0441\\u043f\\u043e\\u043b\\u044c\\u0437\\u0443\\u0435\\u0442\\u0441\\u044f\",\"effet\",\"oldid\",\"repli\",\"olurdu\",\"sicurament\",\"semain\",\"grup\",\"softwar\",\"tab\",\"temel\",\"existent\",\"mentionn\",\"maric\\u00f3n\",\"riguardo\",\"nuova\",\"leitor\",\"comigo\",\"direcci\\u00f3n\",\"buraya\",\"\\u0437\\u0430\\u043f\\u0438\\u0441\\u0438\",\"faith\",\"lhe\",\"frent\",\"radio\",\"produc\",\"firma\",\"mauvais\",\"movimiento\",\"activ\",\"self\",\"richard\",\"\\u0434\\u0443\\u043c\\u0430\\u0435\\u0442\\u0435\",\"diga\",\"risponder\",\"g\\u00f6r\\u00fcnt\\u00fc\",\"hoi\",\"nice\",\"speak\",\"recient\",\"personali\",\"song\",\"capir\",\"\\u00e9quitabl\",\"europa\",\"insult\",\"connaiss\",\"collegamento\",\"siamo\",\"dije\",\"odeio\",\"dovuto\",\"commenc\\u00e9\",\"ihlal\",\"electr\\u00f3nico\",\"lor\",\"yararl\\u0131\",\"estadounidens\",\"amico\",\"\\u043a\\u0430\\u0436\\u0434\\u044b\\u0439\",\"pilar\",\"definitivament\",\"volver\",\"chupa\",\"race\",\"union\",\"e\",\"visit\",\"tarafs\\u0131z\",\"recentement\",\"revision\",\"trav\\u00e9\",\"propo\",\"siti\",\"copia\",\"informa\\u00e7\\u00e3o\",\"bark\",\"introduct\",\"p\\u00e1rrafo\",\"sound\",\"nikko\",\"develop\",\"linea\",\"\\u043e\\u0442\\u043d\\u043e\\u0441\\u0438\\u0442\\u0435\\u043b\\u044c\\u043d\\u043e\",\"assad\",\"pensando\",\"detalh\",\"aggiunta\",\"olsa\",\"orient\",\"racista\",\"cuatro\",\"couleur\",\"listesi\",\"i\\u00e7erik\",\"south\",\"window\",\"giorni\",\"\\u0434\\u0440\\u0443\\u0433\\u0438\\u043c\",\"convers\",\"vistazo\",\"necesario\",\"\\u043e\\u0434\\u043d\\u043e\\u0439\",\"progetto\",\"comport\",\"lecteur\",\"nostra\",\"konusu\",\"\\u0438\\u043d\\u0442\\u0435\\u0440\\u0435\\u0441\\u043d\\u043e\",\"dvd\",\"pouvoir\",\"tabl\",\"blanco\",\"\\u0441\\u0447\\u0438\\u0442\\u0430\\u0435\\u0442\\u0435\",\"train\",\"racist\",\"detal\",\"removido\",\"\\u0433\\u043e\\u0432\\u043e\\u0440\\u0438\\u0442\\u0441\\u044f\",\"indicar\",\"pr\\u00f3ximo\",\"meet\",\"mesaj\",\"mesur\",\"r\\u00e9pertori\\u00e9\",\"environ\",\"\\u0432\\u043e\\u0437\\u044c\\u043c\\u0438\",\"berbat\",\"demek\",\"pretti\",\"noto\",\"filho\",\"libert\\u00e0\",\"d\\u00e9tail\",\"charl\",\"circa\",\"almak\",\"homem\",\"\\u0442\\u043e\\u043c\\u0443\",\"pedido\",\"yerd\",\"abaixo\",\"olacakt\\u0131r\",\"loi\",\"domuz\",\"\\u0438\\u0441\\u0442\\u043e\\u0440\\u0438\\u044f\",\"kullan\\u0131n\",\"heil\",\"\\u0438\\u0441\\u043f\\u043e\\u043b\\u044c\\u0437\\u0443\\u0439\\u0442\\u0435\",\"vaffanculo\",\"punk\",\"tarih\",\"\\u0438\\u043c\\u0435\\u043d\\u0438\",\"piccolo\",\"oggi\",\"truth\",\"abl\",\"r\\u00e9cent\",\"proceso\",\"dello\",\"process\",\"ridicul\",\"notabilit\\u00e0\",\"lector\",\"certainli\",\"dicho\",\"nombreus\",\"kullanarak\",\"bunkstev\",\"miss\",\"altern\",\"mari\",\"neutro\",\"\\u0430\\u0432\\u0442\\u043e\\u0440\\u0441\\u043a\\u0438\\u0445\",\"attual\",\"\\u0448\\u0430\\u0431\\u043b\\u043e\\u043d\",\"nient\",\"conflit\",\"pr\\u00f3xima\",\"csd\",\"feita\",\"tratta\",\"alan\\u0131\",\"cool\",\"bum\",\"v\\u00e9rifier\",\"escola\",\"arma\",\"corpo\",\"decida\",\"ayudar\",\"communaut\\u00e9\",\"minuto\",\"\\u0436\\u0438\\u0437\\u043d\\u0438\",\"muestra\",\"sbagliato\",\"histor\",\"revista\",\"\\u0432\\u0430\\u0448\\u0438\\u0445\",\"event\",\"moyen\",\"\\u043a\\u043e\\u0442\\u043e\\u0440\\u043e\\u043c\",\"aimez\",\"grave\",\"adicionado\",\"gobierno\",\"mental\",\"c\\u00f3digo\",\"pequeno\",\"revertido\",\"paz\",\"de\\u011fildi\",\"semplic\",\"tri\",\"allo\",\"prefer\",\"hit\",\"jone\",\"deal\",\"\\u0438\\u0441\\u0442\\u043e\\u0447\\u043d\\u0438\\u043a\\u0430\",\"bastard\",\"britanniqu\",\"est\\u00e1ndar\",\"preghiamo\",\"cuanto\",\"oraci\\u00f3n\",\"chri\",\"stuff\",\"defin\",\"somm\",\"i\\u0307lk\",\"wonder\",\"revenir\",\"vengono\",\"kid\",\"west\",\"effetti\",\"space\",\"bi\\u0307r\",\"retour\",\"contato\",\"hacia\",\"consultar\",\"ficar\",\"eklemek\",\"deber\\u00edan\",\"aquel\",\"\\u043e\\u0441\\u043d\\u043e\\u0432\\u043d\\u043e\\u043c\",\"oldu\\u011fundan\",\"presqu\",\"\\u0440\\u0430\\u0431\\u043e\\u0442\\u044b\",\"endere\\u00e7o\",\"inferior\",\"notevol\",\"martin\",\"\\u0440\\u0435\\u0434\\u0430\\u043a\\u0442\\u043e\\u0440\",\"\\u00e7e\\u015fitli\",\"do\\u011frudan\",\"chamado\",\"d\\u00fczenlemel\",\"\\u0437\\u0430\\u043c\\u0435\\u0442\\u0438\\u043b\",\"smetti\",\"explic\",\"morto\",\"toni\",\"\\u00e1rabe\",\"\\u043d\\u0438\\u0436\\u0435\",\"boul\",\"\\u0153il\",\"attenzion\",\"confuso\",\"soru\",\"der\",\"igual\",\"irrelevant\",\"itiraz\",\"minut\",\"ruim\",\"arr\\u00eatez\",\"indirizzo\",\"vandalizzar\",\"ensuit\",\"necessari\",\"elimin\\u00f3\",\"dicendo\",\"\\u0434\\u0435\\u0440\\u044c\\u043c\\u043e\",\"bilgil\",\"quant\",\"ero\",\"yapt\\u0131m\",\"notabilit\\u00e9\",\"recurso\",\"ba\\u011flant\\u0131lar\",\"chicago\",\"benzer\",\"siz\",\"dieu\",\"esso\",\"\\u043d\\u0430\\u0445\\u043e\\u0434\\u0438\\u0442\\u0441\\u044f\",\"portal\",\"attacco\",\"basta\",\"rememb\",\"pensato\",\"zorunda\",\"olhada\",\"d\\u00e9cada\",\"cheer\",\"royal\",\"charact\",\"gelen\",\"distinct\",\"footbal\",\"falando\",\"chat\",\"award\",\"aller\",\"oper\",\"\\u0441\\u043e\\u043e\\u0442\\u0432\\u0435\\u0442\\u0441\\u0442\\u0432\\u0443\\u0435\\u0442\",\"avevo\",\"devido\",\"par\\u00e7as\\u0131\",\"yak\\u0131n\",\"eran\",\"dovremmo\",\"gouvern\",\"sport\",\"fortement\",\"arr\\u00eater\",\"interno\",\"declara\\u00e7\\u00e3o\",\"reclamo\",\"incid\",\"\\u043d\\u0430\\u043f\\u0438\\u0441\\u0430\\u043b\",\"bloco\",\"loser\",\"listado\",\"compl\\u00e8tement\",\"cul\",\"\\u0442\\u0430\\u043a\\u043e\\u0435\",\"exactament\",\"\\u0436\\u0438\\u0437\\u043d\\u044c\",\"clara\",\"paes\",\"manter\",\"autant\",\"feder\",\"altera\\u00e7\\u00f5\",\"lede\",\"jeu\",\"taken\",\"\\u0433\\u043e\\u0432\\u043e\\u0440\\u044f\\u0442\",\"tampoco\",\"queria\",\"cancellato\",\"cuidado\",\"enviar\",\"fusion\",\"defend\",\"\\u0431\\u0443\\u0434\\u0435\\u0442\\u0435\",\"impedido\",\"incluindo\",\"amo\",\"ago\",\"\\u0441\\u0447\\u0438\\u0442\\u0430\\u0435\\u0442\\u0441\\u044f\",\"pensa\",\"principio\",\"\\u0441\\u0430\\u043c\\u043e\\u0435\",\"\\u0447\\u043b\\u0435\\u043d\",\"yukar\\u0131daki\",\"s\\u00f3lido\",\"entendo\",\"puiss\",\"ad\\u0131n\\u0131z\\u0131\",\"\\u043f\\u0440\\u043e\\u0431\\u043b\\u0435\\u043c\",\"permit\",\"argomenti\",\"ara\\u015ft\\u0131rma\",\"seguint\",\"hell\",\"r\\u00e1pido\",\"autoridad\",\"gelir\",\"bloqueio\",\"serai\",\"fail\",\"joe\",\"pourraient\",\"obvious\",\"\\u0434\\u0440\\u0443\\u0433\\u0438\\u043c\\u0438\",\"capit\",\"b\\u0131rak\\u0131n\",\"\\u043c\\u0430\\u0442\\u0435\\u0440\\u0438\\u0430\\u043b\",\"ancien\",\"\\u0441\\u0435\\u0431\\u0435\",\"\\u043c\\u043e\\u0435\\u0433\\u043e\",\"succhia\",\"expert\",\"discuter\",\"porra\",\"compar\",\"noob\",\"bas\\u00e9\",\"viado\",\"cart\",\"mejorar\",\"bai\",\"artista\",\"fournir\",\"connect\",\"entiendo\",\"ragazzo\",\"nazista\",\"coup\",\"charg\",\"nered\",\"merg\",\"pasado\",\"saludo\",\"diverso\",\"\\u043f\\u043e\\u0432\\u043e\\u0434\\u0443\",\"i\\u0307ngilter\",\"tomar\",\"iniziato\",\"\\u043e\\u0434\\u043d\\u043e\",\"blue\",\"kan\\u0131t\",\"posici\\u00f3n\",\"diritto\",\"branco\",\"sock\",\"fauss\",\"coloqu\",\"i\\u0307ngiliz\",\"beniml\",\"longo\",\"\\u0440\\u0435\\u0434\\u0430\\u043a\\u0442\\u043e\\u0440\\u044b\",\"\\u00e9cole\",\"discussioni\",\"sayfas\\u0131n\\u0131\",\"gioco\",\"affidabil\",\"pensei\",\"fil\",\"kendiniz\",\"pourrez\",\"\\u0442\\u0435\\u0440\\u043c\\u0438\\u043d\",\"stand\",\"\\u0433\\u043e\\u0432\\u043e\\u0440\\u0438\\u0442\\u0435\",\"attualment\",\"noi\",\"th\\u00e9\",\"lungo\",\"fonctionn\",\"mainpagebg\",\"conoscenza\",\"fourni\",\"propos\\u00e9\",\"\\u043a\\u0441\\u0442\\u0430\\u0442\\u0438\",\"hour\",\"inclur\",\"studio\",\"mise\",\"home\",\"traitor\",\"supporto\",\"\\u0443\\u0437\\u043d\\u0430\\u0442\\u044c\",\"otomatik\",\"diff\\u00e9renc\",\"lasciar\",\"incluido\",\"desculpa\",\"comum\",\"\\u00e1lbum\",\"zor\",\"teor\\u00eda\",\"\\u043d\\u0435\\u043a\\u043e\\u0442\\u043e\\u0440\\u044b\\u0445\",\"musulman\",\"wikip\\u00e9dien\",\"effettivament\",\"significativo\",\"spesso\",\"pr\\u00e9sent\",\"conclus\",\"island\",\"multipl\",\"pari\",\"prod\",\"bunlar\",\"artist\",\"mujer\",\"episodio\",\"felicidad\",\"rester\",\"emmek\",\"accur\",\"\\u043e\\u0431\\u0440\\u0430\\u0442\\u0438\\u0442\\u0435\",\"riesco\",\"etmey\",\"apport\",\"leia\",\"ritieni\",\"gov\",\"vea\",\"yan\\u0131t\",\"com\\u00fan\",\"anon\",\"\\u043c\\u043e\\u043c\\u0435\\u043d\\u0442\",\"r\\u00e9sultat\",\"give\",\"vermek\",\"ansiklopedi\",\"\\u043d\\u0443\\u0436\\u043d\\u0430\",\"novembr\",\"dur\",\"faux\",\"\\u0438\\u0437\\u043c\\u0435\\u043d\\u0438\\u0442\\u044c\",\"chang\\u00e9\",\"\\u0443\\u0442\\u0432\\u0435\\u0440\\u0436\\u0434\\u0435\\u043d\\u0438\\u0435\",\"\\u0432\\u043e\\u043e\\u0431\\u0449\\u0435\",\"paragrafo\",\"\\u043f\\u043e\\u043b\\u044c\\u0437\\u043e\\u0432\\u0430\\u0442\\u0435\\u043b\\u0435\\u0439\",\"hui\",\"allemand\",\"basic\",\"asunto\",\"suficientement\",\"absolutament\",\"effect\",\"consist\",\"jesu\",\"famil\",\"zero\",\"detail\",\"\\u043d\\u0430\\u043f\\u0438\\u0441\\u0430\\u0442\\u044c\",\"escrita\",\"\\u043d\\u0438\\u0433\\u0433\\u0435\\u0440\",\"\\u043a\\u043e\\u043d\\u0442\\u0435\\u043d\\u0442\",\"\\u0441\\u0435\\u0433\\u043e\\u0434\\u043d\\u044f\",\"viva\",\"\\u0433\\u0440\\u0443\\u043f\\u043f\\u044b\",\"pad\",\"cercar\",\"conflict\",\"successo\",\"came\",\"interessado\",\"villag\",\"piec\",\"publicar\",\"pratiqu\",\"d\\u00fczenlemeniz\",\"street\",\"possui\",\"unico\",\"\\u0442\\u0435\\u043c\\u044b\",\"guess\",\"funciona\",\"uomo\",\"bollock\",\"felic\",\"sava\\u015f\",\"remarqu\\u00e9\",\"processu\",\"\\u043c\\u043d\\u043e\\u0433\\u0438\\u0445\",\"sinto\",\"t\\u00e9l\\u00e9charg\\u00e9\",\"contrair\",\"\\u043e\\u0442\\u043d\\u043e\\u0441\\u0438\\u0442\\u0441\\u044f\",\"p\\u00eani\",\"attraverso\",\"leggi\",\"i\\u00e7eri\\u011fi\",\"guarda\",\"americana\",\"california\",\"fuk\",\"mulher\",\"identifi\",\"bug\\u00fcn\",\"takdir\",\"beri\",\"encontrado\",\"mentira\",\"comportamiento\",\"esattament\",\"diferen\\u00e7a\",\"\\u043f\\u0440\\u043e\\u0434\\u043e\\u043b\\u0436\\u0438\\u0442\\u0435\",\"nedeni\",\"map\",\"match\",\"intellig\",\"disrupt\",\"desta\",\"replac\",\"banana\",\"stanno\",\"\\u044f\\u0437\\u044b\\u043a\",\"ag\",\"meme\",\"appli\",\"souvent\",\"roman\",\"wasn\",\"nippl\",\"esprit\",\"simil\",\"\\u0441\\u0442\\u0430\\u0442\\u044c\\u044f\\u0445\",\"ultima\",\"\\u0441\\u0430\\u043c\",\"libri\",\"offic\",\"lequel\",\"considerato\",\"church\",\"padr\\u00e3o\",\"cuadro\",\"adicionei\",\"contestar\",\"\\u0443\\u0432\\u0438\\u0434\\u0435\\u0442\\u044c\",\"australia\",\"sebben\",\"luz\",\"olun\",\"\\u0443\\u0434\\u0430\\u043b\\u0435\\u043d\",\"vision\",\"controversia\",\"\\u00fcst\",\"disagre\",\"premio\",\"usual\",\"conjunto\",\"correspond\",\"atenci\\u00f3n\",\"yahudi\",\"\\u044f\\u0437\\u044b\\u043a\\u0435\",\"cantidad\",\"nessa\",\"regno\",\"faut\",\"espac\",\"aujourd\",\"unica\",\"vari\",\"semelhant\",\"g\\u00f6r\\u00fcyorum\",\"tart\\u0131\\u015fmal\\u0131\",\"mutlu\",\"programm\",\"seconda\",\"mike\",\"devemo\",\"scientifiqu\",\"\\u043f\\u0440\\u0438\\u0447\\u0438\\u043d\\u0430\",\"manuel\",\"updat\",\"voulai\",\"inan\\u0131yorum\",\"melhorar\",\"inserito\",\"revis\",\"\\u0443\\u0434\\u0430\\u043b\\u0435\\u043d\\u0430\",\"yol\",\"yeterinc\",\"croi\",\"verit\\u00e0\",\"\\u0434\\u0432\\u0443\\u0445\",\"\\u0438\\u0441\\u0442\\u043e\\u0440\\u0438\\u044e\",\"bio\",\"eder\",\"mart\",\"fox\",\"pensai\",\"enorm\",\"sociedad\",\"gratuit\",\"hareket\",\"\\u0440\\u0430\\u0432\\u043d\\u043e\",\"conhecido\",\"\\u0432\\u0438\\u0434\\u0435\\u0442\\u044c\",\"poner\",\"scott\",\"r\\u00e9cemment\",\"hafta\",\"conselho\",\"retir\",\"justif\",\"aspecto\",\"irlanda\",\"aprend\",\"iii\",\"\\u043f\\u043e\\u043b\\u0438\\u0442\\u0438\\u043a\\u0430\",\"small\",\"tonto\",\"essay\\u00e9\",\"short\",\"parl\",\"solicitar\",\"sayfada\",\"candidato\",\"sant\\u00e9\",\"avoid\",\"hepsi\",\"explan\",\"describ\",\"\\u0441\\u0432\\u043e\\u0435\\u0433\\u043e\",\"copyvio\",\"basura\",\"primari\",\"isbn\",\"konunun\",\"g\\u00e9n\\u00e9ral\",\"descripci\\u00f3n\",\"\\u043d\\u0435\\u0441\\u043a\\u043e\\u043b\\u044c\\u043a\\u0438\\u0445\",\"matar\",\"papel\",\"offens\",\"espacio\",\"tart\\u0131\\u015fmaya\",\"parar\",\"roi\",\"essayez\",\"\\u0438\\u043c\\u0435\\u044e\",\"quer\\u00eda\",\"bloquer\",\"nuovi\",\"separ\",\"ultimo\",\"sava\\u015f\\u0131\",\"termini\",\"\\u0441\\u0434\\u0435\\u043b\\u0430\\u043d\\u043e\",\"espa\\u00e7o\",\"lesquel\",\"d\\u00fc\\u015f\\u00fcnd\\u00fcm\",\"s\\u00f6yl\\u00fcyor\",\"bunlar\\u0131\",\"militari\",\"\\u0442\\u043e\\u0447\\u043a\\u0438\",\"flagrant\",\"separado\",\"vete\",\"apropiado\",\"legg\",\"attacchi\",\"insist\",\"ekledim\",\"ciertament\",\"kayna\\u011f\\u0131\",\"yeterli\",\"armi\",\"mudar\",\"nonsens\",\"elemento\",\"ufficial\",\"sinon\",\"green\",\"dettagli\",\"\\u043f\\u0435\\u0440\\u0435\\u0434\",\"conhecimento\",\"musunuz\",\"settimana\",\"proposito\",\"facilment\",\"north\",\"makalelerin\",\"onlar\",\"chico\",\"prochain\",\"daniel\",\"gerekli\",\"justifi\",\"norm\",\"sol\",\"manten\",\"tratar\",\"fanno\",\"\\u00e9l\\u00e9ment\",\"coupl\",\"perdido\",\"merak\",\"\\u0438\\u0441\\u043f\\u043e\\u043b\\u044c\\u0437\\u0443\\u044f\",\"\\u0431\\u044b\\u0441\\u0442\\u0440\\u043e\",\"vinda\",\"nouveaux\",\"marcolfuck\",\"professor\",\"int\\u00e9ress\",\"s\\u00e9rio\",\"saw\",\"perro\",\"steve\",\"turn\",\"prot\\u00e9g\\u00e9\",\"largo\",\"field\",\"lack\",\"livello\",\"consiglio\",\"avanti\",\"potrei\",\"\\u0441\\u043e\\u0431\\u0438\\u0440\\u0430\\u044e\\u0441\\u044c\",\"nivel\",\"l\\u00f3gica\",\"defini\\u00e7\\u00e3o\",\"metin\",\"arriv\",\"temporada\",\"venga\",\"origen\",\"cualquiera\",\"vontad\",\"repr\\u00e9sent\",\"\\u0443\\u0434\\u0430\\u043b\\u0435\\u043d\\u044b\",\"\\u043d\\u0435\\u043f\\u0440\\u0430\\u0432\\u0438\\u043b\\u044c\\u043d\\u043e\",\"aiutar\",\"ancho\",\"makalesind\",\"sald\\u0131r\\u0131\",\"\\u0437\\u0430\\u043f\\u0440\\u043e\\u0441\",\"imdb\",\"level\",\"te\",\"puisqu\",\"\\u0441\\u0443\\u043a\\u0430\",\"movi\",\"for\\u00e7a\",\"serv\",\"student\",\"edilir\",\"yapt\\u0131\\u011f\\u0131m\",\"job\",\"amerikan\",\"mala\",\"sola\",\"conflito\",\"opini\\u00f5\",\"ciddi\",\"licens\",\"v\\u00e9rit\\u00e9\",\"took\",\"publicaci\\u00f3n\",\"arm\",\"apropriado\",\"remova\",\"on\",\"rei\",\"corp\",\"d\\u00e9but\",\"independ\",\"\\u043a\\u043e\\u0442\\u043e\\u0440\\u043e\\u0433\\u043e\",\"sabl\",\"fight\",\"hatta\",\"consejo\",\"pr\\u00e8\",\"\\u00f3timo\",\"souhait\",\"pesar\",\"\\u0441\\u043c\\u043e\\u0442\\u0440\\u0438\\u0442\\u0435\",\"revertir\",\"\\u0441\\u043e\\u0437\\u0434\\u0430\\u0442\\u044c\",\"educ\",\"sayfaya\",\"plac\\u00e9\",\"sugg\\u00e8r\",\"perder\",\"\\u0434\\u043e\\u0431\\u0440\\u043e\\u0441\\u043e\\u0432\\u0435\\u0441\\u0442\\u043d\\u043e\\u0433\\u043e\",\"particularment\",\"similair\",\"aten\\u00e7\\u00e3o\",\"notrhbysouthbanof\",\"cura\",\"\\u043f\\u043e\\u043b\\u0443\\u0447\\u0438\\u043b\",\"conto\",\"be\\u015f\",\"\\u0434\\u043e\\u0431\\u0430\\u0432\\u043b\\u044f\\u0442\\u044c\",\"german\",\"biograf\\u00eda\",\"pazzo\",\"greek\",\"\\u043c\\u043e\\u0440\\u043e\\u0437\\u0438\\u043b\\u044c\\u043d\\u0438\\u043a\",\"\\u0434\\u0443\\u043c\\u0430\\u043b\",\"\\u0441\\u043e\\u0433\\u043b\\u0430\\u0441\\u043d\\u043e\",\"carta\",\"sayfamda\",\"\\u043f\\u0440\\u043e\\u0438\\u0441\\u0445\\u043e\\u0434\\u0438\\u0442\",\"march\",\"includer\",\"d\\u00e9velopp\",\"letter\",\"\\u0441\\u043a\\u043e\\u0440\\u0435\\u0435\",\"criou\",\"peque\\u00f1a\",\"agregu\",\"insert\",\"\\u0434\\u043d\\u044f\",\"exactli\",\"dem\\u00e1\",\"\\u00e9v\\u00e9nement\",\"nosotro\",\"wwe\",\"olursa\",\"s\\u00f6ylemek\",\"descri\\u00e7\\u00e3o\",\"capisco\",\"\\u0441\\u0442\\u0430\\u0442\\u044c\\u0435\\u0439\",\"fill\",\"ikinci\",\"afirma\\u00e7\\u00e3o\",\"automatiqu\",\"solut\",\"say\\u0131da\",\"metter\",\"hen\\u00fcz\",\"caricato\",\"or\",\"malo\",\"amerika\",\"\\u0447\\u0435\\u0433\\u043e\",\"translat\",\"usernam\",\"sugerencia\",\"cuntnlu\",\"haven\",\"romnei\",\"irc\",\"fggt\",\"korumal\\u0131\",\"familiar\",\"mass\",\"verr\\u00e0\",\"\\u0431\\u043b\\u043e\\u043a\",\"baiser\",\"impress\",\"ayr\\u0131\",\"\\u043c\\u043e\\u0438\\u0445\",\"stupido\",\"\\u0441\\u043e\\u0441\\u0435\\u0442\",\"acabo\",\"europ\",\"g\\u00f6zden\",\"chamar\",\"smell\",\"creazion\",\"mothjer\",\"propuesta\",\"\\u0446\\u0432\\u0435\\u0442\",\"contesto\",\"conflicto\",\"fede\",\"\\u0441\\u043e\\u043e\\u0431\\u0449\\u0435\\u043d\\u0438\\u044f\",\"market\",\"modifi\\u00e9\",\"\\u00e7orap\",\"\\u0441\\u0430\\u0439\\u0442\\u0435\",\"\\u0431\\u043e\\u043b\\u044c\\u0448\\u043e\\u0439\",\"cient\\u00edfico\",\"equipo\",\"autoris\\u00e9\",\"devriez\",\"arada\",\"hablando\",\"neys\",\"definizion\",\"dead\",\"knowledg\",\"\\u044d\\u043d\\u0446\\u0438\\u043a\\u043b\\u043e\\u043f\\u0435\\u0434\\u0438\\u0438\",\"llama\",\"estavam\",\"sachet\",\"sent\",\"mouvement\",\"explicaci\\u00f3n\",\"bac\",\"\\u00e9dit\\u00e9\",\"\\u043a\\u043e\\u043d\\u0441\\u0435\\u043d\\u0441\\u0443\\u0441\",\"unito\",\"pequena\",\"collect\",\"solicita\\u00e7\\u00e3o\",\"importanti\",\"salud\",\"escreveu\",\"chiamato\",\"descrizion\",\"bloqu\",\"terrorist\",\"sinta\",\"eliminars\",\"leagu\",\"hamish\",\"\\u0447\\u0435\\u0442\\u044b\\u0440\\u0435\",\"olas\\u0131\",\"spazio\",\"dela\",\"sauf\",\"\\u00fczerin\",\"prend\",\"noir\",\"intenzion\",\"\\u043f\\u043e\\u043b\\u0438\\u0442\\u0438\\u043a\\u0438\",\"texa\",\"girl\",\"cordial\",\"agf\",\"habla\",\"teria\",\"ey\",\"hacen\",\"soon\",\"\\u043f\\u0440\\u0430\\u0432\\u043e\",\"hart\",\"parent\",\"gratuita\",\"\\u043b\\u044e\\u0431\\u044b\\u0435\",\"presentar\",\"apoyo\",\"tour\",\"societi\",\"\\u043f\\u0440\\u0430\\u0432\\u043e\\u043a\",\"haver\",\"turco\",\"tenido\",\"not\\u00e9\",\"laissez\",\"esperar\",\"citada\",\"gost\",\"permiss\",\"cinqu\",\"\\u044f\\u0441\\u043d\\u043e\",\"interesado\",\"migliorar\",\"controllo\",\"sorunu\",\"oportunidad\",\"\\u043f\\u0440\\u043e\\u0447\\u0438\\u0442\\u0430\\u0442\\u044c\",\"noe\",\"edit\\u00f6rl\",\"wtc\",\"inteligent\",\"\\u00e9vident\",\"horoz\",\"inizio\",\"explica\\u00e7\\u00e3o\",\"\\u0438\\u0434\\u0438\\u043e\\u0442\",\"\\u043f\\u0440\\u0435\\u0434\\u043b\\u043e\\u0436\\u0435\\u043d\\u0438\\u044f\",\"significativa\",\"men\",\"\\u0432\\u043e\\u0437\\u043c\\u043e\\u0436\\u043d\\u043e\\u0441\\u0442\\u044c\",\"cinq\",\"sayfalar\\u0131nda\",\"basit\",\"considerando\",\"conocimiento\",\"nedir\",\"verso\",\"\\u0433\\u0440\\u0443\\u043f\\u043f\\u0430\",\"\\u0440\\u0430\\u043d\\u0435\\u0435\",\"conocido\",\"piaccia\",\"encuentra\",\"meia\",\"m\\u00e3e\",\"logica\",\"beyaz\",\"merec\",\"citado\",\"cuesti\\u00f3n\",\"edgar\",\"pein\",\"chiesto\",\"capacidad\",\"\\u0440\\u0430\\u0431\\u043e\\u0442\\u0430\\u0435\\u0442\",\"convent\",\"definici\\u00f3n\",\"\\u043e\\u0434\\u043d\\u0438\\u043c\",\"\\u043f\\u0440\\u0430\\u0432\\u0438\\u043b\\u0430\",\"\\u043e\\u0431\\u0430\",\"apport\\u00e9\",\"corso\",\"\\u043f\\u0440\\u044f\\u043c\\u043e\",\"equip\",\"influenc\",\"dout\",\"m\\u00e9todo\",\"rel\",\"\\u0440\\u0430\\u0437\\u0433\\u043e\\u0432\\u043e\\u0440\",\"rowspan\",\"certa\",\"engag\",\"\\u0434\\u0435\\u0439\\u0441\\u0442\\u0432\\u0438\\u044f\",\"empir\",\"\\u0438\\u0437\\u043c\\u0435\\u043d\\u0435\\u043d\\u0438\\u0439\",\"dilerim\",\"eminim\",\"\\u0437\\u0430\\u0431\\u043b\\u043e\\u043a\\u0438\\u0440\\u043e\\u0432\\u0430\\u043d\\u044b\",\"hak\",\"licencia\",\"vis\\u00e3o\",\"\\u043d\\u043e\\u0432\\u044b\\u0439\",\"devon\",\"interessato\",\"blocag\",\"venir\",\"notoriedad\",\"\\u0444\\u0430\\u043a\\u0442\\u044b\",\"teabag\",\"atr\\u00e1\",\"colaborador\",\"ali\",\"moral\",\"courant\",\"dessou\",\"sentir\",\"notar\",\"\\u043d\\u0435\\u0441\\u043c\\u043e\\u0442\\u0440\\u044f\",\"institut\",\"\\u0430\\u0434\\u0440\\u0435\\u0441\",\"oldu\\u011funda\",\"contien\",\"solicitando\",\"elbett\",\"\\u0442\\u0440\\u0438\",\"mistak\",\"publiqu\",\"montr\",\"birinin\",\"\\u0440\\u0430\\u0431\\u043e\\u0442\\u0430\",\"\\u043f\\u0440\\u043e\\u0432\\u0435\\u0440\\u0438\\u0442\\u044c\",\"tierra\",\"\\u0430\\u0434\\u043c\\u0438\\u043d\\u0438\\u0441\\u0442\\u0440\\u0430\\u0442\\u043e\\u0440\\u0430\",\"genial\",\"statut\",\"licenc\",\"lea\",\"differenza\",\"medya\",\"avrei\",\"a\\u015fa\\u011f\\u0131daki\",\"p\\u00fablica\",\"inclu\",\"insulto\",\"yolu\",\"intento\",\"connai\",\"port\",\"\\u015feyleri\",\"vandalizar\",\"sabia\",\"g\\u00f6rd\\u00fcm\",\"doubl\",\"andrew\",\"ffffff\",\"\\u0441\\u043f\\u043e\\u0441\\u043e\\u0431\",\"conmigo\",\"ki\\u015finin\",\"indian\",\"\\u0437\\u0430\\u043a\\u043b\\u044e\\u0447\\u0430\\u0435\\u0442\\u0441\\u044f\",\"societ\\u00e0\",\"manqu\",\"massa\",\"contain\",\"adai\",\"oy\",\"dagli\",\"d\\u00e9cision\",\"assist\",\"bia\",\"motivi\",\"perra\",\"etti\\u011fi\",\"\\u043a\\u043e\\u043d\\u0446\\u0435\",\"energia\",\"violaci\\u00f3n\",\"recientement\",\"duro\",\"ibn\",\"\\u0432\\u044b\\u0433\\u043b\\u044f\\u0434\\u0438\\u0442\",\"ressembl\",\"canad\\u00e1\",\"\\u0433\\u043e\\u0440\\u0430\\u0437\\u0434\\u043e\",\"\\u043f\\u0435\\u0440\\u0432\\u044b\\u0439\",\"absoluto\",\"digo\",\"enti\\u00e8r\",\"begin\",\"hold\",\"yapan\",\"utilisez\",\"inici\",\"\\u043f\\u0440\\u0435\\u043a\\u0440\\u0430\\u0442\\u0438\\u0442\\u0435\",\"testa\",\"int\\u00e9ress\\u00e9\",\"correto\",\"implica\",\"d\\u00e9clar\\u00e9\",\"\\u0441\\u0430\\u043c\\u043e\\u0441\\u0442\\u043e\\u044f\\u0442\\u0435\\u043b\\u044c\\u043d\\u043e\",\"hesit\",\"r\\u00e1pidament\",\"\\u043f\\u0440\\u0430\\u0432\\u0438\\u043b\\u043e\",\"cast\",\"signific\",\"citer\",\"applic\",\"regardez\",\"\\u043d\\u0438\\u043a\\u0430\\u043a\\u043e\\u0433\\u043e\",\"purpos\",\"\\u043f\\u043e\\u043c\\u043e\\u0449\\u044c\\u044e\",\"remain\",\"respeito\",\"\\u043f\\u0440\\u0430\\u0432\\u0434\\u0430\",\"juli\",\"\\u043a\\u043e\\u0442\\u043e\\u0440\\u044b\\u043c\",\"origem\",\"tanr\\u0131\",\"disnei\",\"tribun\",\"\\u0434\\u0440\\u0443\\u0433\",\"teve\",\"chiedo\",\"\\u043e\\u0442\\u043d\\u043e\\u0448\\u0435\\u043d\\u0438\\u044f\",\"letra\",\"membri\",\"\\u0434\\u0432\\u0435\",\"aquello\",\"at\\u0131n\",\"millon\",\"arka\",\"afirmar\",\"dese\",\"ulus\",\"\\u0445\\u043e\\u0447\\u0435\\u0442\",\"\\u0438\\u0437\\u043c\\u0435\\u043d\\u0435\\u043d\\u0438\\u0435\",\"program\",\"edildi\",\"goe\",\"clarifi\",\"cambiato\",\"\\u0434\\u043e\\u043a\\u0430\\u0437\\u0430\\u0442\\u0435\\u043b\\u044c\\u0441\\u0442\\u0432\\u0430\",\"acabei\",\"click\",\"\\u043e\\u043a\\u043e\\u043b\\u043e\",\"trova\",\"assert\",\"veggietal\",\"publicada\",\"chieder\",\"crian\\u00e7a\",\"muert\",\"client\",\"counti\",\"formal\",\"am\\u00e9rica\",\"deber\\u00edamo\",\"heureux\",\"soutien\",\"consultez\",\"\\u043f\\u043e\\u043b\\u0430\\u0433\\u0430\\u044e\",\"prender\",\"\\u043f\\u0440\\u0435\\u0434\\u0443\\u043f\\u0440\\u0435\\u0436\\u0434\\u0435\\u043d\\u0438\\u0435\",\"\\u0447\\u0435\\u0440\\u0442\\u043e\\u0432\\u0441\\u043a\\u0438\",\"ripristinar\",\"\\u0432\\u043c\\u0435\\u0441\\u0442\\u0435\",\"hor\",\"seront\",\"admit\",\"\\u0434\\u043d\\u0435\\u0439\",\"imo\",\"edu\",\"torna\",\"fond\",\"passato\",\"\\u0443\\u0434\\u0430\\u043b\\u0438\\u043b\\u0438\",\"\\u00e9videm\",\"altament\",\"interesant\",\"tutta\",\"sockpuppetri\",\"istedim\",\"llamado\",\"g\\u00f6r\\u00fcn\\u00fc\\u015fe\",\"citando\",\"gif\",\"accept\\u00e9\",\"gurdi\",\"ba\\u011fl\\u0131\",\"lembr\",\"normalment\",\"sonunda\",\"figura\",\"awar\",\"in\\u00fatil\",\"affermazioni\",\"possibilit\\u00e0\",\"yakla\\u015f\\u0131k\",\"revertida\",\"houv\",\"\\u043a\\u043d\\u0438\\u0433\\u0438\",\"agent\",\"tentativa\",\"inserir\",\"moderno\",\"svg\",\"angel\",\"enjoi\",\"parlando\",\"come\\u00e7ar\",\"avaient\",\"olmal\\u0131\",\"canal\",\"voudrai\",\"bilim\",\"impliqu\\u00e9\",\"creaci\\u00f3n\",\"aspect\",\"spiegazion\",\"motiv\",\"fim\",\"stephen\",\"jackson\",\"conserv\",\"intero\",\"night\",\"access\",\"hesap\",\"vol\",\"dominio\",\"necess\\u00e1ria\",\"conoc\",\"refier\",\"frank\",\"leader\",\"apolog\",\"precisam\",\"colocado\",\"permanec\",\"\\u0431\\u043e\\u043b\\u044c\\u0448\\u043e\\u0435\",\"motor\",\"comenzar\",\"passado\",\"sayfas\\u0131ndaki\",\"industri\",\"signer\",\"opposit\",\"terrorista\",\"rimozion\",\"blanc\",\"\\u0433\\u043e\\u0434\",\"yukar\\u0131da\",\"kullan\\u0131lan\",\"scuola\",\"humain\",\"aurai\",\"\\u0438\\u0437\\u043e\\u0431\\u0440\\u0430\\u0436\\u0435\\u043d\\u0438\\u0439\",\"nostri\",\"vid\\u00e9o\",\"davi\",\"menudo\",\"d\\u00fc\\u015f\\u00fcn\\u00fcyorsan\\u0131z\",\"principai\",\"proxi\",\"\\u0442\\u043e\\u0447\\u043d\\u043e\",\"expect\",\"bleachanhero\",\"azioni\",\"menzionato\",\"sign\\u00e9\",\"tercih\",\"east\",\"appropriato\",\"yahoo\",\"period\",\"proporcionar\",\"\\u0442\\u0430\\u043a\\u043e\\u0433\\u043e\",\"servicio\",\"r\\u00e9ellement\",\"imagin\",\"becer\",\"ileti\\u015fim\",\"bkz\",\"nick\",\"\\u043c\\u0438\\u0440\\u0435\",\"participar\",\"fossero\",\"noticia\",\"fazem\",\"ryan\",\"share\",\"iniziar\",\"techniqu\",\"bring\",\"diciendo\",\"buradaki\",\"larga\",\"esfuerzo\",\"grandi\",\"\\u00fccretsiz\",\"garder\",\"kelim\",\"ehi\",\"divis\",\"cnn\",\"not\\u00edcia\",\"ba\\u015f\\u0131na\",\"rep\\u00fablica\",\"yasal\",\"signif\",\"\\u0432\\u043e\\u0439\\u043d\\u044b\",\"wait\",\"poster\",\"refus\",\"\\u043f\\u043e\\u0440\\u044f\\u0434\\u043a\\u0435\",\"estaban\",\"\\u00e7ai\",\"feedback\",\"alter\",\"\\u0447\\u0430\\u0441\\u0442\\u044c\\u044e\",\"g\\u00fc\\u00e7l\\u00fc\",\"d\\u00fczenlemeleri\",\"ser\\u00e3o\",\"censura\",\"bias\",\"verrai\",\"usag\",\"seriament\",\"rendr\",\"argu\",\"\\u043d\\u0435\\u0434\\u0430\\u0432\\u043d\\u043e\",\"suppl\\u00e9mentair\",\"chaussett\",\"\\u00e9viter\",\"i\\u015f\",\"chanson\",\"light\",\"inferno\",\"wouldn\",\"\\u0437\\u043d\\u0430\\u0447\\u0435\\u043d\\u0438\\u044f\",\"kaynaklar\\u0131\",\"s\\u00f6yledi\",\"\\u0443\\u0434\\u0430\\u043b\\u044f\\u0442\\u044c\",\"piano\",\"excel\",\"\\u0434\\u0440\\u0443\\u0433\\u043e\\u0433\\u043e\",\"kuzei\",\"significato\",\"dada\",\"women\",\"attend\",\"\\u0442\\u0432\\u043e\\u044f\",\"sale\",\"clase\",\"repetidament\",\"tellement\",\"proper\",\"obviou\",\"yapt\\u0131\",\"sam\",\"\\u00e9quip\",\"condit\",\"\\u043b\\u0435\\u0433\\u043a\\u043e\",\"ignorant\",\"told\",\"selam\",\"philippineslong\",\"\\u015feyin\",\"ba\\u011f\\u0131ms\\u0131z\",\"excelent\",\"juin\",\"\\u0441\\u043e\\u0433\\u043b\\u0430\\u0441\\u043d\\u044b\",\"personaj\",\"doubt\",\"rimaner\",\"constitut\",\"utili\",\"esfor\\u00e7o\",\"build\",\"revisar\",\"assolutament\",\"earli\",\"\\u043a\\u043e\\u043b\\u0438\\u0447\\u0435\\u0441\\u0442\\u0432\\u043e\",\"laiss\\u00e9\",\"extra\",\"break\",\"sa\\u00e7mal\\u0131k\",\"gurdyhurdi\",\"accion\",\"presto\",\"previou\",\"m\\u00fcmk\\u00fcn\",\"perform\",\"depend\",\"sembrano\",\"\\u0437\\u043d\\u0430\\u0435\\u0442\",\"\\u0441\\u0442\\u043e\\u0438\\u0442\",\"ouvert\",\"immagino\",\"dil\",\"solito\",\"repris\",\"\\u0443\\u0432\\u0430\\u0436\\u0435\\u043d\\u0438\\u0435\\u043c\",\"yayg\\u0131n\",\"arr\\u00eat\",\"directament\",\"doc\",\"hindu\",\"antigo\",\"impliqu\",\"alma\",\"disposto\",\"precisamo\",\"locat\",\"biliyor\",\"\\u043f\\u044b\\u0442\\u0430\\u043b\\u0441\\u044f\",\"cristiano\",\"fiction\",\"ailleur\",\"praticament\",\"yeah\",\"\\u043e\\u0434\\u043d\\u0443\",\"absolu\",\"sentiti\",\"jewish\",\"periodo\",\"afirmaci\\u00f3n\",\"encourag\",\"pubblico\",\"\\u0446\\u0438\\u0442\\u0430\\u0442\\u044b\",\"acredita\",\"somo\",\"iglesia\",\"hill\",\"sucez\",\"raisonn\",\"\\u043a\\u0430\\u043a\\u043e\\u0435\",\"iran\",\"creation\",\"inglaterra\",\"niveau\",\"kitap\",\"dave\",\"ortografia\",\"\\u0441\\u0430\\u0439\\u0442\\u0430\",\"\\u043f\\u043e\\u043a\\u0430\\u0437\\u044b\\u0432\\u0430\\u0435\\u0442\",\"contributo\",\"qualcun\",\"bloquear\\u00e1\",\"disant\",\"junio\",\"avail\",\"correcta\",\"parecem\",\"alinhamento\",\"centuri\",\"nello\",\"podr\\u00edan\",\"m\\u00e8re\",\"\\u0440\\u0430\\u0434\",\"combat\",\"hubiera\",\"elimina\",\"a\\u00e7\\u00f5\",\"igreja\",\"veut\",\"exceto\",\"sorunuz\",\"assur\",\"passar\",\"personnag\",\"belong\",\"viola\",\"s\\u00fcrekli\",\"fornito\",\"riepilogo\",\"\\u0440\\u0430\\u0437\\u0432\\u0435\",\"establish\",\"verifiqu\",\"\\u0441\\u043e\\u0432\\u0441\\u0435\\u043c\",\"familia\",\"young\",\"okai\",\"paper\",\"firm\",\"guardar\",\"agir\",\"oxford\",\"passer\",\"condado\",\"publicidad\",\"spell\",\"fam\\u00edlia\",\"bilimsel\",\"\\u043d\\u0435\\u043e\\u0431\\u0445\\u043e\\u0434\\u0438\\u043c\\u043e\",\"olaca\\u011f\\u0131n\\u0131\",\"historiador\",\"terr\",\"ihtiyac\\u0131n\\u0131z\",\"etiket\",\"\\u0432\\u043a\\u043b\\u044e\\u0447\\u0430\\u044f\",\"s\\u0131k\",\"daili\",\"altrimenti\",\"tonter\\u00eda\",\"sitesi\",\"invit\",\"\\u0434\\u0430\\u0442\\u044c\",\"youbollock\",\"shall\",\"saat\",\"engellenir\",\"g\\u00fcnei\",\"julio\",\"penser\",\"kullan\\u0131m\\u0131\",\"explica\",\"attribut\",\"aras\\u0131ndaki\",\"voler\",\"cellspac\",\"\\u043f\\u0440\\u0438\\u0447\\u0438\\u043d\\u044b\",\"ger\\u00e7e\\u011fi\",\"estudio\",\"\\u0440\\u0430\\u043d\\u044c\\u0448\\u0435\",\"se\\u00e7\\u00f5\",\"script\",\"\\u0440\\u0430\\u0431\\u043e\\u0442\\u0430\\u0442\\u044c\",\"siglo\",\"bar\",\"ullmann\",\"sonraki\",\"conosco\",\"dici\",\"bize\",\"marionnett\",\"episod\",\"land\",\"dab\",\"cobertura\",\"\\u0431\\u043e\\u043b\\u044c\\u0448\\u0430\\u044f\",\"s\\u00fcrece\",\"cronologia\",\"\\u0438\\u043d\\u043e\\u0433\\u0434\\u0430\",\"introdu\\u00e7\\u00e3o\",\"ortak\",\"victim\",\"chef\",\"rational\",\"temmuz\",\"violazion\",\"dati\",\"qualidad\",\"envolvido\",\"\\u043f\\u043e\\u0441\\u043b\\u0435\\u0434\\u043d\\u0438\\u0435\",\"mill\",\"editado\",\"l\\u00edngua\",\"kat\\u0131l\\u0131yorum\",\"loin\",\"consigo\",\"hubo\",\"apoio\",\"decis\",\"caminho\",\"restor\",\"longu\",\"posez\",\"citato\",\"r\\u00e9dacteur\",\"famiglia\",\"scruffi\",\"bundan\",\"\\u0441\\u0442\\u0435\\u043f\\u0435\\u043d\\u0438\",\"makalesin\",\"factual\",\"olmal\\u0131d\\u0131r\",\"constant\",\"\\u0443\\u0447\\u0438\\u0442\\u044b\\u0432\\u0430\\u044f\",\"contribu\",\"bolsita\",\"in\\u00edcio\",\"nostro\",\"desalinhado\",\"npa\",\"bambini\",\"negri\",\"\\u0444\\u0430\\u043a\\u0442\\u0438\\u0447\\u0435\\u0441\\u043a\\u0438\",\"particuli\\u00e8r\",\"road\",\"giro\",\"except\",\"adicionando\",\"hakl\\u0131\",\"ekleyin\",\"horribl\",\"dog\",\"si\\u0307z\",\"bord\",\"entendu\",\"importancia\",\"parlez\",\"\\u0437\\u043d\\u0430\\u0447\\u0435\\u043d\\u0438\\u0435\",\"volevo\",\"\\u00e9poca\",\"\\u00f6yle\",\"lascia\",\"bulunan\",\"\\u0438\\u0441\\u0442\\u043e\\u0447\\u043d\\u0438\\u043a\\u043e\\u043c\",\"calcet\\u00edn\",\"toplar\",\"trabalhar\",\"longtemp\",\"eric\",\"pergunt\",\"avril\",\"trabajar\",\"\\u0432\\u0442\\u043e\\u0440\\u043e\\u0439\",\"peda\\u00e7o\",\"semblent\",\"soyez\",\"\\u0432\\u0430\\u0436\\u043d\\u043e\",\"observa\\u00e7\\u00e3o\",\"i\\u0307srail\",\"water\",\"verd\",\"longer\",\"von\",\"children\",\"shut\",\"introducci\\u00f3n\",\"gosta\",\"went\",\"\\u0440\\u0435\\u0437\\u044e\\u043c\\u0435\",\"unidad\",\"\\u0444\\u0430\\u0439\\u043b\",\"cia\",\"oldu\\u011funuzu\",\"moderna\",\"m\\u00fckemmel\",\"scopo\",\"\\u043d\\u0430\\u0448\\u0435\\u043b\",\"\\u0437\\u043d\\u0430\\u043b\",\"edilebilir\",\"pagedelet\",\"elencato\",\"politika\",\"apportato\",\"sucer\",\"bienvenida\",\"faz\\u00ea\",\"a\\u00e7\\u0131k\\u00e7as\\u0131\",\"tono\",\"s\\u0131ras\\u0131nda\",\"lasciato\",\"automat\",\"aren\",\"\\u0440\\u0435\\u0431\\u044f\\u0442\\u0430\",\"noter\",\"contributor\",\"\\u0441\\u043a\\u043e\\u043b\\u044c\\u043a\\u043e\",\"exp\\u00e9rienc\",\"foundat\",\"etiquetado\",\"precisar\",\"cria\\u00e7\\u00e3o\",\"\\u043e\\u0431\\u044a\\u044f\\u0441\\u043d\\u0438\\u0442\\u044c\",\"sentito\",\"gu\\u00eda\",\"wikipedista\",\"station\",\"crimin\",\"caro\",\"dovrei\",\"kategori\",\"cort\",\"amazon\",\"\\u043a\\u043e\\u043d\\u0442\\u0435\\u043d\\u0442\\u0430\",\"eliminada\",\"inter\\u00e9\",\"\\u043d\\u0435\\u043c\",\"\\u00fatei\",\"regola\",\"yere\",\"noviembr\",\"stia\",\"intenci\\u00f3n\",\"\\u0438\\u0442\\u0430\\u043a\",\"num\\u00e9ro\",\"garantir\",\"\\u043e\\u0442\\u0432\\u0435\\u0442\\u0438\\u0442\\u044c\",\"shouldn\",\"birini\",\"roll\",\"serious\",\"edici\",\"rid\\u00edculo\",\"biblioteca\",\"\\u00e9tude\",\"\\u0440\\u0435\\u0434\\u0430\\u043a\\u0442\\u043e\\u0440\\u0430\",\"olmaktan\",\"microsoft\",\"londr\",\"\\u0440\\u0430\\u0437\\u0434\\u0435\\u043b\\u0430\",\"sayfas\\u0131n\\u0131n\",\"soci\\u00e9t\\u00e9\",\"\\u0438\\u0434\\u0435\\u0442\",\"option\",\"edward\",\"practic\",\"annul\",\"\\u0441\\u043d\\u0430\\u0447\\u0430\\u043b\\u0430\",\"paesi\",\"outsid\",\"\\u0438\\u0441\\u043f\\u0440\\u0430\\u0432\\u0438\\u0442\\u044c\",\"organizaci\\u00f3n\",\"zone\",\"comentar\",\"joseph\",\"\\u0430\\u0432\\u0442\\u043e\\u043c\\u0430\\u0442\\u0438\\u0447\\u0435\\u0441\\u043a\\u0438\",\"r\\u00e9gion\",\"push\",\"direttament\",\"quei\",\"\\u043f\\u0440\\u0435\\u0434\\u043b\\u0430\\u0433\\u0430\\u044e\",\"\\u0441\\u043e\\u0431\\u043e\\u0439\",\"equivocado\",\"tanta\",\"n\\u00edvel\",\"pessoalment\",\"spiega\",\"sir\",\"experi\\u00eancia\",\"conflitto\",\"qualit\\u00e9\",\"politikas\\u0131\",\"referanslar\",\"s\\u0131ra\",\"myspac\",\"board\",\"necessidad\",\"nisso\",\"b\\u00fasqueda\",\"examen\",\"\\u0440\\u0435\\u0448\\u0435\\u043d\\u0438\\u0435\",\"\\u0441\\u043e\\u0436\\u0430\\u043b\\u0435\\u043d\\u0438\\u044e\",\"pi\",\"royaum\",\"troubl\",\"lost\",\"proof\",\"yapt\\u0131\\u011f\\u0131\",\"bin\",\"porta\",\"adelant\",\"comunista\",\"cr\\u00e9ation\",\"motherfuckerdi\",\"diretament\",\"receiv\",\"autom\\u00e1ticament\",\"\\u0437\\u0430\\u0434\\u043d\\u0438\\u0446\\u0443\",\"obra\",\"\\u00fc\\u00e7\\u00fcnc\\u00fc\",\"tane\",\"conversaci\\u00f3n\",\"\\u0434\\u043e\\u043a\\u0430\\u0437\\u0430\\u0442\\u0435\\u043b\\u044c\\u0441\\u0442\\u0432\",\"realizado\",\"encontrei\",\"usan\",\"\\u0434\\u0430\\u0432\\u0430\\u0439\\u0442\\u0435\",\"yap\\u0131n\",\"licenza\",\"v\\u00e1lida\",\"parecen\",\"\\u043d\\u0438\\u043c\",\"relat\\u00f3rio\",\"\\u0441\\u043a\\u0430\\u0437\\u0430\\u043b\\u0438\",\"scout\",\"devenu\",\"\\u0441\\u043f\\u0438\\u0441\\u043a\\u0430\",\"render\",\"lord\",\"\\u0434\\u0435\\u043b\\u0430\\u044e\\u0442\",\"\\u043f\\u044f\\u0442\\u044c\",\"errori\",\"marin\",\"removi\",\"interview\",\"roma\",\"situazion\",\"clean\",\"coc\\u00f4\",\"qualit\\u00e0\",\"kosovo\",\"cat\",\"etm\",\"remo\\u00e7\\u00e3o\",\"entrevista\",\"\\u043f\\u043e\\u043b\\u0438\\u0442\\u0438\\u043a\\u0443\",\"gerek\",\"manag\",\"\\u0433\\u043e\\u0432\\u043e\\u0440\\u0438\\u043b\",\"re\\u00e7u\",\"\\u00f6rnek\",\"\\u043d\\u0435\\u0439\",\"estudo\",\"fica\",\"babi\",\"spiegar\",\"agregu\\u00e9\",\"menac\",\"isteyebilirsiniz\",\"ladi\",\"seguida\",\"obtenu\",\"marca\",\"edit\\u00f6rlerin\",\"tratado\",\"restaur\",\"\\u00e7\\u0131kan\",\"\\u00e9poqu\",\"serem\",\"explicando\",\"\\u043d\\u0430\\u0448\\u0435\\u0439\",\"a\\u015f\\u0131r\\u0131\",\"\\u0438\\u0441\\u043f\\u043e\\u043b\\u044c\\u0437\\u043e\\u0432\\u0430\\u043b\",\"pubblicar\",\"hist\\u00f3rica\",\"risposto\",\"postar\",\"structur\",\"ihtiya\\u00e7\",\"ver\\u00e1\",\"gentil\",\"receb\",\"okuyun\",\"d\\u00e9crit\",\"persino\",\"heard\",\"\\u0430\\u0434\\u043c\\u0438\\u043d\\u0438\\u0441\\u0442\\u0440\\u0430\\u0442\\u043e\\u0440\",\"checkus\",\"isto\",\"gr\\u00e1fico\",\"\\u0433\\u043e\\u0432\\u043e\\u0440\\u044e\",\"r\\u00e9pondu\",\"ideia\",\"mourir\",\"houver\",\"servi\\u00e7o\",\"maison\",\"battl\",\"dichiarazion\",\"silmek\",\"organiza\\u00e7\\u00e3o\",\"\\u0441\\u043c\\u0438\",\"\\u0432\\u0435\\u0441\\u044c\",\"verilen\",\"ilgin\\u00e7\",\"internacion\",\"\\u00f6nerilen\",\"\\u00f6l\\u00fcm\",\"arriba\",\"utilizzato\",\"polla\",\"espera\",\"scrotumcan\",\"dumb\",\"saint\",\"onlara\",\"kald\\u0131r\\u0131ld\\u0131\",\"\\u043e\\u043f\\u044f\\u0442\\u044c\",\"fool\",\"\\u0432\\u043a\\u043b\\u044e\\u0447\\u0438\\u0442\\u044c\",\"\\u043a\\u0430\\u0442\\u0435\\u0433\\u043e\\u0440\\u0438\\u0438\",\"julho\",\"fit\",\"orozco\",\"determinar\",\"tipi\",\"publicacion\",\"mant\\u0131kl\\u0131\",\"involucrado\",\"interdit\",\"calidad\",\"justificaci\\u00f3n\",\"ninguno\",\"habr\\u00eda\",\"r\\u00e9vision\",\"\\u043f\\u043e\\u0441\\u043b\\u0435\\u0434\\u043d\\u0435\\u0435\",\"malheureus\",\"shannon\",\"pakistan\",\"camino\",\"\\u043b\\u0438\\u0447\\u043d\\u043e\",\"pie\",\"atend\",\"piksel\",\"estudiant\",\"etiketi\",\"johnson\",\"sorti\",\"tableau\",\"antiga\",\"model\",\"junho\",\"ebrei\",\"logiqu\",\"apparem\",\"fan\\u00e1tico\",\"adi\\u00e7\\u00e3o\",\"messaggi\",\"perdedor\",\"mile\",\"butthol\",\"decision\",\"mantener\",\"r\\u00e9el\",\"\\u043d\\u0435\\u0437\\u0430\\u0432\\u0438\\u0441\\u0438\\u043c\\u043e\",\"\\u0434\\u0430\\u0442\\u0443\",\"h\\u0131yar\",\"\\u00e7al\\u0131\\u015fan\",\"\\u043f\\u0435\\u0441\\u043e\\u0447\\u043d\\u0438\\u0446\\u0443\",\"sugiro\",\"apart\",\"interpret\",\"d\\u00fc\\u015f\\u00fcn\\u00fcn\",\"messo\",\"luglio\",\"posterior\",\"flag\",\"corrig\",\"ard\\u0131ndan\",\"\\u043f\\u0430\\u0440\\u0435\\u043d\\u044c\",\"alternatif\",\"apesar\",\"migliori\",\"clinton\",\"cr\\u00edtico\",\"seccion\",\"criminalwar\",\"famoso\",\"\\u043f\\u043e\\u043b\\u0443\\u0447\\u0435\\u043d\\u0438\\u044f\",\"li\",\"potuto\",\"ilgisi\",\"quiconqu\",\"\\u015fablon\",\"sugiero\",\"presid\",\"kullanmak\",\"lorena\",\"count\",\"fuerza\",\"intera\",\"dicen\",\"\\u0434\\u0435\\u043b\\u0430\\u0435\\u0442\\u0435\",\"puder\",\"indietro\",\"beh\",\"baz\\u0131lar\\u0131\",\"taciz\",\"kaltak\",\"aplica\",\"d\\u00fc\\u015f\\u00fcnm\\u00fcyorum\",\"situaci\\u00f3n\",\"atti\",\"extrem\",\"risultati\",\"\\u00f6l\\u00e7\\u00fcde\",\"secondari\",\"offer\",\"i\\u0307\\u015ft\",\"milioni\",\"objectif\",\"atrav\\u00e9\",\"trama\",\"devrion\",\"ad\\u0131n\\u0131\",\"escritor\",\"declaracion\",\"engin\",\"sait\",\"hata\",\"earth\",\"signal\",\"absolut\",\"est\\u00fapida\",\"verdi\",\"misin\",\"eliminando\",\"buscar\",\"\\u043f\\u0440\\u0438\\u043d\\u044f\\u0442\\u044c\",\"august\",\"a\\u00e7\\u00e3o\",\"disent\",\"debajo\",\"sincerament\",\"copiar\",\"exig\",\"po\\u015feti\",\"d\\u00e9bat\",\"anthoni\",\"ald\\u0131m\",\"chester\",\"sezioni\",\"herkesin\",\"isterseniz\",\"stava\",\"cient\\u00edfica\",\"initi\",\"m\\u00e9dico\",\"jai\",\"lavorar\",\"\\u0441\\u0432\\u043e\\u0435\\u043c\"],\"x\":{\"__ndarray__\":\"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\",\"dtype\":\"float32\",\"order\":\"little\",\"shape\":[5000]},\"y\":{\"__ndarray__\":\"V1ElQYJPP8I4AtNBeFwiQdmQn0HtxZZAgtkcwhQGTkLlM/HA84EbwhySgEDbdgDCmDdFQqeGBMIG6kpCXATyQRrB+cFhAkVC/1cEQAypUEKrExNC9fDnwC3oAMK6CShBZaxaQop8+0GFMb5Ap1syQK0aaEGClERCJYHmQaVsO0L9pJ8/aH4fQrsnHsL6VAPBNClUwoPJQMLNUL9Ba87BweF63sA6ISTC+/emwcoBMsKsLwzC6Qz0QRZkEUI05fvBunAIQnNpFsJYoO/A9rMLwiZ6HML5HwXCGryfwGLZi0G1vAJCCk1CwpVLXUJE3S9A3i+DQJ0SQUKcIUnCw1O/QTIGAcKBNeDB89xCQvtmE8Iz+ABCBbAKQV/8QULUfABCCh2dQcTJVcJu2B1A59GeQTqZDcGOTRhCVPUOwhQBAMIOW0ZCL+NnQlpWw8FA3lXBAOQtQA/GTkJWoANBqMMTwXmZ3UGCrVJClENUQnoP9cAgdktC8YBFwpP9G8Js+aNBp4gOQnMHWELf3pPB0B6UQUqa/UFa2kRCloO7QE78cMFyQaU/prKGwZqBE8H7uQhCdoKpwFWMm8FFcsJBFyxNwuQQ+EGyNJ1BSG/DweG7vkHSbtVAW4c9wgqADcF7G01Cp4pNQqx7SkKtOlFCjT7fwSvulUESaD/CgrgBwk0NL8JegAxBgSiyQdCDCMIKkAlCRodSQk4cjsEJdalAx3QswbATQMJW+HFArntMv7UHCMLuJZVBYBkdwWfoK8ECG5DB2iJ3QSlkS8Ig5ivCR98WwrUzwkFNA5FB28cJwlzyKMD2ICbC3FpYwtdhT8E2msHAYDIWQKF8REK511fCdH+FwbC9Z0Gi40tBpqVTQpj87kGWYSbAF2h0wY9UasCU8UrCcxRNwiIomj5Qdg5C1zPfQXT/D8KEG+rBkIgIwlyWqsEQ11BC0HAAwn+0CUFYH1jCmPHzQXwNd75TegZC7WQCwgFVPcLnZYJAUuiuQRE3/sHZa8tBi0smwbMIeT94xuPAf5eEQdUSj0FOcs7A02QLwoEfBELOEPDB1R1vQazcvcFXa+RBI2a0QRigH8KdzkBBqHAKwqrWmMDIWsnB8SvTQZdVhj8lthvBjbv4wXMnO0J+kUVBs1Amwso7xcE4vWpByIC9wTnW/0Fi8BDCdgH0wVRBq0DVGghCkscIwmCi1cFgFARCsA57Qd5ThkFBnvHAdnWnQQ+UPMKOXRdC+mN7QZrWOUIYxxNBHW+AwXm+BT8qBkpCUF0RQjf8K0CVZxjCclc+whJsGUIkMFdB005wQa/Vx0GxpAlCNn4sQvZpC0KaqvtAmgJdwlhYc8H4svjAXOVJQagbGMItSatB2flhQeJuib+5LQfCYzHgP8AiRUKjQTJAsGIFwtuTtUFk3VfCdN5nQpYqksB2YAdCkUXCQTxEZsFX+7zBwhiqQcfiD8KwsQzB7IrwQTT1BsLF8jJBmo2FQU6PrcF/mQhCci+dQcyeGEKjG/bB8CqQwbW6+kE7Yn1BCPERQjMDXcKUTeM/GRqAwfnzO8LDf96+kMjoPwyWOEKKMUFCgmk1wsdSPkJiyb/B02HIQVhNQkJjv0TCoAwbQsLCscFzYgXCNlyzQTlcCEFL9A7CQW9wQVm370FyZ5tBej0qQeKOF8EOsm/ABmKyQX9ho0EM2+zBqIDZwYbycMDdiw7BQoCaQTyCScKF6wLCBX6KwVbsy0GuFwHCqR5FQmdeScLm9QjC+jP8QV6ZBMKR4YxBiblKQoZU2EAomezBNC5dQR2A7MH2l0xCXNwkwvOnCsHSxYpBwDP0QJaHK8FCgujBjJZOQurHP0IWYThCUb1Iwk7JQULStglCuxNRwoKBgEFitLNAm5tOwh1mW0BchwXC8L9FQmSK38HuWhrC7We1QBRK08GvZj7CNCf9QfyoPkJliz9CvCMdwp2UBsEDNhDBs6KcwUrDFEH/+0TCnJCwwBqrRMLRAVBBf4lKQgKHl0HIEXzBmAy7wRUFCELLMybChEO2wL5BgMAg4bLBFev2wQycAsKsa0VCV3OaQdUG9MA91tRB7BwPQoRUD8J8wx1CV5NjQSgLmUBV6ktBldifQfre0kHe2GrAyh9fQZsn/UH0IRdCJEStQSGvk0GE3PhAiCsDQp1NCcI43OXA0jAjwt3+osEGs/hAmCmtwFz5+MElbwxBwquGwc7R+8ENcx1CyoRLwCMgF8LodQVCs9MFQpheKcEYxhzBmg6zweX7NcIokRdC0G4ZQkSh8kGNiPLBYQ9YQV68F0Jzj/XBPfeeP/nhNcJHoC3BlLviQf0JQMKEKULCALagwBwQGkJrS/E+e8IywrHyEcJ3PZZBxovMwcaAMsISAf/B2hqXQQ30Zj8pOzjClpibQcvXncEOYvrBEr37P23Ep8HUl5lBSjfywHB47EEXSUNBzAr7QWPBJsI4FSRCn83nwHvyOsJpYATCTwljwT1+IMJKUDTCVZruwbYhecEK5WNBowS+wOM7WUI27bnBBTv+QQVyX8D6wl5CQG0KQmQNz8B5oJpBteoCwZ8K7cAQpA5CbXmuQQFBukH+fQBCHWsewknWwEEbIyXCkn4+Qn5s3EFJewFCgIqnQYxQmkGZuz7CYxS6wYW+JsISn7JBCcQzQarks0HQkAPCwXwEQWJO4UEeuyfCQv7FQYWVr0HDG8NBqZOywSzeoUF+hA9CbE/2wWMmD798HXTAcdneQfhbskHWG5JB/kFJQrZVV8Bh0RRCRCJLQgTcR0L080jCnSyXQbq0CELg1dRB3dv7QNP0m0EZ6K/A6Qk3wh5GS8KSNc1Bzk+CQbHkGkKoHARCAFy/Qd+UFcLTKxpCQX3jQRJ8I8L1Z+/BljyjQeeDFMKQ1+xBRb36Qe4G+kGcHARCqOXsQSxPO0EsE+ZAbIwXwgOVg0HlsldC/sz7QBgEDsDJ0YPBpta1Qdc18UGdr87BT6U8wXTRL8J3LgJCe7ncQbim4z5xuJPB4KITQeUn2EHj+fbBvi1Uwo3DysAKvSDCt/VhwZddtsHeQR1AnaEWQhgF70F14ERCIa07wvpNMMLGt1lCmmOPQOVpT0LBfj/CmkJOQi4lIUGSqAXC8ZbaQecaKMLA8FfB48cDQnTVnkE7DwrBLiACwlNGmD9ippk/8lNPQpJuhEEdL/5B/DpSQpLA0UE1Zx9CcrUnQh8Q68HAtLDAJwACQTrYxsA9rg1BPdUKwjMGyUGq+1ZCfSdNQVJ8i8GLLqjB+aTIQWkJAELsv6/BjGM6QdHWF8FCKAFBdx84whxbTkE8zPvAJJE0Qo4DncFIpERCxAhvQL87KUHrLxhCsUAJQXMmGcH3qT1CNLL+QTVosUEIkJPB7cqiwIxheUFnUHpBAd+nQVPug8FrG4DBEhvGwfCBeMG0RQLBc2I7wWbrP0JOMMHBssXYQdDvqUH+T45B+bodQiPXzMHBWkPCi736waug6kHmO8xBlAk+Qg437EHiKk1Bn4AIwtKDYsDthFPChvcDQfA8JUHjLkbCApEMwgs/h8E6BYlBN0c/wqxzwkG0MabBoWlAwRS+SkJR1MlBSGTgQauqyMEFkw1CluwQwplhykHwnK/AsZN0QbMYBkGEoxbCfgXhwM+VwMBPLsZBnoxcQleMMsJe3fpBDTkHwa8pDkI7wS5C91mZwcUrRL5crSbC5oQrwf83uEGM5ZVB06yYQfZqjUG19oHBzISlQc8MXMG7CE5Cbm3cwLSTF8DMgvPBgo5HQfqYA0JElgvCkn6awX1e1kGRsuxBOuj2PvQH+kHmlU5BO4XPQds+4sFv7frBSNUcwq4aVECkqjrCNZxYQsJHQUAcxPTAQtbxQRxwOMKwUVtCcl3NPx/90kBIZg/BXPbMQe+jFkLARwxCM29pQPgqHsLD4gzCagHwQYAYgEF/qUpBTSMCQlO8Pb/bohnCDv+GwI8288HTHbHBGHgMQqv8lkGl2mrB90XWwJMU9UEv0O/B/ZeuQBzMx8FuCWLBmGfrwJ9ExcEwXQtCLV6IwM2MBkKyvB3Cx/VhwbzRyUGIuSlCo3xFwoQgh0G71yfCJ6T1QENANMISeT/C9+uRwB+I0EGYCxPBnJRvQd3K3EFqVi3CDzzjweMEqMBRnI3BzlEdwYMh9EDXpERCYZjIQOmazMEP4jrCePATvysc30H8QQTAYkesQVN7TMJOkxPC1QRFwn+UI0BMMNxBqBLgwIEdEMEQCcBAk+l5QSS+tcEmArpBs3LewXLYScD0qgnCXGApP7ulBcKcNBPBBBHIQa8vj0EEYQBB/wc8wEGM8sFe2kVCUdsQwmXf3EFOenJBbIE6QoOkM8KoSsVBm5Y4Qg7OA8K8+qM/D7ArwvevP8I4+bpBuKOXQVZZd0GwQlNCvmvhQde3FcIapYVBbP0PQrH5YEGKyDnCitp5wTtRwkFrul9BonMPwhXdK8G8Br/BS1AFwkSDS8GjZxDCl7JcQgSE10BZbO5BW7rHQY+kAMJFRC/CSjD2wYU3KMKpF85BBKAgwreK6kGTNUvAM3ylweScyMFiEMJBJmwPQo3uPEL2FbzBecMcwlDP0z4WOzzCa6EewtoTFUGZaijCy1pHQowe+8E44g7BzAcLwuVGtcEI/Gy/FM44QtwOVUJKy9JApFIdwrmSE0C9VpfB1NNLQgAXvMFHzJpAjqQkQissikFjpjxCoaQmQsSYt8E8yhTCbmctwYGgMkE86gfATPVFQc9DE0Jf+gLCItMKQWRvtcGacBLA0+wiwgm9eEGL78vBHu/EwOZ2V8FVjwZCZEUbwvcc2kH1TwFA5Lw5wv2X/UH85T9C34wPwvYG/sHcyEjAcA30wQ0X1UHa3vFBA/zMwdLx8T+h3FfCpFGFQaxCjMD8XwBC0k6QwXA5CkKkMvdBFg/AwY5Wn8AYZuPBNy/+wbyR6MEavr5BXvfFQdXWR8AU+0K/6gmFwfHkMULaSCHCCAo7wdnLNkF7K0zCCNfywY8q0kHTP/DACmsgQsV0TkBlXUbCpfnhQZfzP8FqnfLBxzT8QQiPLsKLxO3B0mEYQhIctcFbpyvCucoNQqgvgEHZq1PAc+98QWFbLEIQY9PASdMQwlu4EMJcFtLB5M9RQDvRIsKRWthAnOXtQb7XmEGPAgrC1foCP6AyjEEEeilCBTM7whD6yEFpGYFBnoNCwpfgH0IKuW3AzaI6woJ90cGg4SXCwFSTQXU54MDy1t5AIB0HQvQ3EEIsZBhByI7KwSsPk0Eyy6VBqGO8QcLt3EFpFtXBBGNRQkLpL8HzRcBBjK/+wTnG8cG5L4bAExOpQBsY8kDBGBHBQpukQf4qN8GjtfzBTlumQNXG3kE6IjrC1UWuwCbqYkFVvexB2o0JwqE8IMEtJzvBkO8bwTMhzkBbSZ/BntcZQblHDcLrXufBh5ofQkSoC8IjkXFAEAw7wg2pQ8LhPLvBOZouwtxoDUKXMEpCUSq+QYxed8Ec+BPCtimZQYd8okH+pwHCPPUQQsspGUI3jCdCimGQQRqKCUKoqIZBDpUXwv+eLsIdOzPBcvxJQkYpk0Fqcs/AJA0fQsd800FSqJPAGUP+QEBFgUGbHJvBKkXzwczjvsGDjQrC1EsZQv2bN0IUJkhCULoYwko4v0GfiFK/5ALbwG7bQ0Le8NdAwlfywMwMCkIofhbC2dKlQaiCmD/P/1NBUi0vwl+E3MF/pu5BQLj7wbAFRUJwpiDBFi08wWDLLsKz0KJBCkShwVv5K8FfIwXCs3jGv6m9EMIy3ZRA9zA/wp/shMFOMgTCNI2wQC4iQ0H/UwfBDyUjwuEtoL9yFA1BH0ERQYfcMsKt7zRAyZwrwvbdcsDaj3dBEvhVQkh3ErsLTTzCHOoJwabHD8KHRYhBdH85Qt+UREKlLvFAx65Gwr1HJ8JOFBrBTnk/Qoy9psExiCrCndnMwV6CwsEC4VFCz2YHwiiC78FUd1VCSYRDQW/LuUAN+dBBAcncwY3reEFrPMtBUzwnQWHL1UEDE47BD1CnQQlR70H7hKpBXs+JwIzDDMJ360pCDwoDQooEwsFBhEDCouuIQQk/F8JGeMNB8Ne8QIj+OcEz0nbBt01YQSmxN8IwztlB1e1SwfXUQsEZkCC/TmC4QOI6JsKuNNXBAsIGwuliEUGOK/9Bv/49QX8+IkE5L5NAn0DxP2PxhsFwiUjAZ04NPjvziEFUQ5NBTCLjQV2gxcEcJrVBHtcCQshvDkLebc/Bf9Cdwdt8x8F3BxHBiJ1cQWEfMMK8xi9Bwq2+wZjEQkKDNUjCN5SswGj+bkGoYiZCQAPFQYB2TsGR+YHB2ozLwGnf8UF91KNBvI/GwVrnr0ED8dhBslDBQL3WIcKdlKRBad87QZGZCsJPk4W/MdqXQMA4H0E9+uFB6mQWQiW3B8F6AYlBkrPDwe0iJ8LW70jBi30Awvqzh0AL0YrBO4/IQXjWUsIjtedBnUrdQXbw8kGITNnBp0D6QUT9xMH1NiFCkE/AQAkMzUGCOAdCWeU3wTZjBcL3qzhCuKVbQpSiSkKBrv1Aesf8QBnGOsLVCEtBUSubwTp0nkBgNCXBmkETwTd+N8IYFyHC3+5OQqTFuEEQxV5C4IMGQeZurcAspdpBALwowm/nN8IqsyLCPATpQHpTJEAgeaHAvSeDwRMrAMLOscjBrGFJQh2RzcHSJ53AOSiYQYdT0EGwjPJBZEbwwUOw2cHS00bC2JisQZx9IUFuRB7BKsBmQY2udECX2dK/Ae9cQmk5xkCVxHRBRKIJQpAKX0ACJARCdQQTwhsC9EH47kLA6QZEwluK5kGBagfCpDcewHnrk0EdXQjCbKWIQaMGREJie+PBaMzlwCnDD0LS6K1AAwFtwSZakL1OC47B6qX7wcXv+kADqw5BQEeWQTDuE8KRWjNBjCwCwRkmUcFs3eNAsXcKwnWoTkBulCHA86P4wLCavEBFQdBBy8oWwpdYlEGlXPDA1X9kQf0sL8IlZZrBfnE1QsqSFUHGtPPBqRPyQORn18F44U/AvBecQUSf50HPNCDC3nkQQs7XkcGqtYTAElGWQeNXIUKnn3dAZuM7QPG0Z8AUkwLCQRqCwEMfMUGMix/Ca2HZwavA78GsJ/DBJcJZwU3SMEKIZ/xB588Gwm33HsKqpgZCM6gpQpKLNsH+dzBCqh8KwlTLP8G7/CJBieMzQB2GncFSmOBBY9YbwhWxQcLSwSZANzwqwBOS2EExj8/AAmr6Qf8x4sESExJCLAn+wbUHA8EFvsnBgtuQwd+5MsI5CnlANR8DQqVIM8Iw2chAwIDCQUqGc8FGSxbCpA8BwdECCMJOYQNBDVfcwXXvnkHZ+j/BgViaQVXHW0GxMYlAt5j/QQDGJkGgs5rBJrOKQTl5lD+mJpDBPPlKwlr4XsFaNp/BqB2wQMObVUKvCU/CbNXEQcoxFkFYmANCJpoXwiUoFEEvNTZBjIvRwWgH2D7LWrJB3EoIQoZ2qMHjsw/Bn8TaQdXxDsKIrN5Ajv6KQT4as0HQ8D9Ck1sfwlhrU0KfsARCOvrvQENgiUDYpF5CNhb1QUkg88HPKURBI2oLQm5iS8EuRl1Cky7Pwb3LaMEqoxTCKku3QbpuucGvOFfChK4uQjrtAcHliDTBrhefP87P/z+W/RtCtqFLQVxtNsICATZCCczAwaMaSsLiNhtCPysCQsRgtkCLSPA/dqseQOQKnsH95IBBgpcuwmUYukHVuibCNGzJweoCfkE/VpxBFMW9QZHzukGK6/FBILgyQoLcGMKq4wNCe1xOQvvH/UGIyQ1CzTgEQgLtVEHvwz9CYtolwvu+ssBBjT9BUNQQQcqz7cHauFLCVsn5QIQNBcKiV0dCi2mBQOld30F77inCdBi7QAMsC8Lo5w/CsQUKwhQwg0H77VXBMQGMwSizOcDgGo9BfZU4QiK/C8KQxahBphIhwpmdt8BkZg3CzF+wQUaHQsK88/s/ob4ewhtg4cGWaJBBhJS6QJyTg8HOtv1AN+WBwG14FMBhAwzC9ZCiwZyOMULvHf9BwGq1wW46OcJktY1Bc5/WQGECv8HWOK1AX7y9QSEQNsFuWdrABwkqQp2AwMCehxnCzOrcwAHVokGwshHCXSxkwJNeHsLjSEdBoc4WQmCG40Fm8P/BJY2+QdK5qEHMG99BoI7XwTsuM8Js8gzCw50OwsD/JcLd8vLBgd6WQdFAg8EiQkJCkKTjwbkB0LyqPlI/SujivsyBJcBb0R/CpvVuwfRRGsG7ighBaP/LQI2a2EHLiyVBEieyQKvRJcImBEFCI8vaQI9Rx0FR2xJBmejAwfXwB8HjJlRCIklwP4eiYUHmGTFCRTDmwQgq20G7WSfCLpjWwArv+EGnYr5BIlkWwljrJkI2zofBuLoTQRxL+sHQfMzABht3QdPu1EFn69xBxT7zQAM8W0KXtq9BbD4JwppiScJbrQDCcDY6Qi+uw0EfZVRCvo1QQOh7MMI3VcVBYwoCwgTzqMCs4cvB8Sn+QK5PIUHHdH9BBwTTwd7mG8IbBuHB2BDYwUfaqkDXlthBF56MwV2oAsIfsfXBxFgJwmUsgMC90bfB/qeyQBXHtT95jO7AaKXnwP30pr4WrSlBPdJGQhKfEsIyFgrCjWyLwdpGFcKLFU3BsMELQi9Fv8EmFfpBSXkVwkNKNkJwRgdAqcTGwd5APELvCndBZx5+QFNpCULV6sLBINwPwuyEKkKW9qjA8Wbfwbk2qkFaNA/ChtsMwcs4L8IOwHLBGeD9QdcIG0HluxtCKGAeQTH7SkIar6XBdtrpwTnZk0GPREZB3lC6waNx7UGonEBC74fbQZaZAMDLlvnBV6P3QWWnfMH2Mx3Bt/UGQlmpX0FvbvBBnO0uwo2IHsBkTJvBHYQYQjBfVsE00srB3jpBQiGH+MHHywPCGHyaQX8GuUEhze9BA2BcQRYbAkHqIrlBnR7EQH2FA8ETnxbCIUfuPx6wvEG9aYvAXCvlQY2EEMKALw7Cv8IbwtFts8FXC4HB7mqRQbLvA0K03gJBFuXtQcyn/D87r01BzF/iP1+zHsK9VuNBYEgvwjIxNUFWjE7Cwd2tQQhRcsGaLdZBmiJawalSD8Lx0bO8F8DjQbtjJ8IVxAJBE8ElQqWMGMI5vmNBbyvNQRUcs0ECb/DBsSkAQcp6k0EX47lBPs9Jwo8ajcB8b6C/6PpPwXwns0FGByBCwhMOwrF9FkHASBjC9PYrQQCsBsJiXSHC8HX0QGRTscBcn+DBG/yIwWneG0AL1R7C9MhsQb4Nx8H/f5pBLgzfwTOX1sHxUdLBUcFFwaKHjEHaROxBVlI6QnyFwUD3m3pA3eInwjasncHcNaTBA76SQTn35MEQgS9CAtcvQZPPQ8AWsiTBZqHyQR1keUDiWpNAQzcRwlUfzEEcJkDC5tMqQdwD90GriETC2l0WwSgRi0ETZQfBiuCRQahWbUHEEqTBmKh6QffgWELyBolBhGUZwoVUGkIIOvXB1pTKwUBCk0F9ZRJBBkDBQb6N50EcsudBrrhmwXzvzEETMaY+MbwWQinliMD+xN5APOAEP7MkL8L2wWxArJr5weLKScAMuP/AhiwrwgqcksBkiS3C8pKhwe83L8JwLlFA87q0wFJxAEEeGTZBT6+GwZdOBULHnYXBUZUFwsr2JEImMSbCpMQgwkqZ7EG9GZtBaxCzQbMZkkFM7ADCZMoaQsnDLcGAfwPB04cEwqudmkBKWfrBmNI4wsTmmEFzFfbBlzutwRsPSsJ1gphAbEY9wpqkp8CX1lpAK+s6wcporUEQSpPBWUWxQV7OB0JfiQHB4PzjwRNDJ8Ep4x9CNRoIwi5wPUH1MTTBHNojwkEYtcF4DgVCs3HWQB09q0ECIgNCyr6mQXw69kEedtlBcLGSQegu/EBYIKa/C1QUwsbdM8LWyZhBB0bCwTENgMGG3HBBtOrRwdPxqEAwAjDChVFVwgKzv0GyT5xBMN0MwUEEkkHudxrBN8sXQSSroMEfZSvCe9gBwsj6wMFbrLhBHEY3wtwKDMJKmJRBw/oEQpUaucCbIYXB98IHwOgH4cH1mztCMkK/QeRK30HKAYTBHQwUQjh5nkB0BItBfXuYQQ2FGUJkWOdBc5kFwol18EEL3tZBFLZ6QU2PO8EEGBbCgxwnwjqdQ8IgFgZBoColQs87FUJ70vPA6LwNQlbFBEJV919CgkXpwBUWHkBiOTRCP52KwXzd3D6Uh9DBNvTBwf81scEhngHCRtXKQOsFncBTwpJBt8OkQSD4nsG4OiLCUpkPwiyyDsGTNaHBpUXdwPwWNkJDIzXCQuUIwVGnlEHGY1TAxAKVQcaeGEESp8LAp1MlQpvNFkGpIbnBTFj8wLlRK8GEXyXBIVMHwpzvVkERMeDAiUyKwPGbQUKE0unALx8kQRA3MkHItdvBs7wbwfLVj0DYCYxBUaW2wb3WDELADiHCyswfwh/s8EHX+SJCuSeqQWgFNcJfRhNCadqsQUF5SsIlEeTBWuEkQTstBkKIDhJCXIOmQd8r6cEdHgrC3zQ3winQQsGjazdB1ahfPzMv1j9BtqPAo5s2Qvb8AML+/hJCy3X6wZj/8kG7sOtB5Vynwa88NMHlC73BRClQwVImLEKf8jfC+BovQta4g8AN/55AzPO9QQpuNEDyLaFB8x6jQRJAF8FliYzBbvEfwiiqDcIpBa5BMgPuQXlk10Gv/T5CruOSwKzpZ8H/m8BBuSg2QsrqhEFVEvlBNeQQwvann0A3LULBXbXqwdIxxL+IjQnCH7xQwS9VGUIpsYRBTOY0wrr8BkKzky5CwlzcwBAZNkIf9pxBMrnewbIRsMGnTjTCuQEXwtWvKELYK0fBjieDwf5dYkDw6bG/nzjnQZO/JkJ+X+zBTfjhQQ6bxcF7PtZBte2SQZlMSkH1CkJBFwAQQnW+a8BbefbBahOrwbjyE0LFCUVC1vCewZELv8HMjDzB57/VwbStCMI9p75B1nqdQd8TIULbZmHBJGytwCbjs0Fx/6JB6Q1DQfmyN8I8XzHB3gonPgyf3cGyx3RBPBEgwiH1IcJYZqjAbqwHQSPnG8GsaMXBI/Q0wo0DG0HF4CrBaCs5wtaD/kD2LdrAc5RKQfaKMkEL1dc9cvuewaldqkFuYa9BzlkmwH7ZkcB5w5lB80IAQkfEq0Fpcg3CDS3rwe3KHkJlzCJCi+UTwuETMcIKoALCZ2DYQQKmy0DpWj3B0pWrv4kQ8MHDl7TBL09mQeW43kCnAa5BBgsOQg59P8FiOb9B3FkTwryBdsGTtBPCGVaxQXq5HcI+0gFBaKgvQgM0kcGyJoTBzsDQQadOt0FQD9DB0gMBwsxXA8FUmAZC3uXbwXo0FUHC6PLBOQKnQfOwwUE5SljCJoLeQTclsMA6R0hAzZ67QTLI0sGYqS/Ccy/EwKKMxkCu8BtC4AYQwsx+yME12SZCK97vwZ8ghsG/OAZBr8qUwU77S8KMi8xBWCEXQFa5XEGiE5fB9jpHwa4oeEG+XNnBZmUOQqVQNcIj47TBOTYDQsSzgMBfChXCmUE+wjkZDMBj+NJAtYYywXl8HkIa4MNB+cWuQR31kcGeRApBdXxNQQ/ACsJbA7JBrCNEwZM6H0KSDerBql/KQWDR1EAwUQZC9RyHQK4ct8GljvHBawxZQhbc9EGyjChCSwb6vzK/gsHOSjzBEkhDwKJqT8EfFx1Bxl09QKErM0IXkCVB1FZawK2f3EGKE7fBC/fXQa/xC8JJP99AvNiFwfujzcHbLJ3BSTj3wYC+yUETl6/Au5aQwIUNJcKmsSRAySC3QP5uNUIy4hhCzRajQWJq68FDibPBgJntwS+7LcKZsytBCM4Bwpb+McKaWwPCPMMlwNs3FcEr14HBKpsXQg1Hpj+Ca75B6LyTQbIAMb49ZdnBz5mUQOJ4gsEQKiFBYFU5QgH+Wz/OFMLBySkkwl4I6UERrxbBGGQEQjPXBcLzWhfBqoglwr6rBsKIJCnC6t0fQkN2ycESXEhBU6/0QN45LUJ5x0tB9/sIwq0XuEBTNhFC2a0KwkPCjsH7hQdCjzKkP8q0K8LppiTBciGmQcBBA0KHVcFBWzPpwPHH5MDcJNhBRvGFwSS8sEFa9YdBmkUMwg6dOsJTShTCW1iKv9vey8ESdYVABaRtQQYsB8JS2qtBKzMXwjJmVUKgLrJBpZXXQRIVJcKnGO3BleQ0wPABF0FoowBCs/g4wqREgUFyNklADA2mwEKlCcHa3QjCgQ66Qb1+E0Lt4sRB//Dgwedq1EG//ALBS20tQpkWVULX7x1CF1ifwSvXqUEJJ8HBoGUHQsHfr0FNQzZC3B/8wWORDsKetsnBQy4hwtpNNsKDfM09y1lJwW0GsEGXEIVBwFe1wZjNbcCJZN7BesjIwXty2kEeYy9Bt5L7Qbycl8H51IK/kD3TQXQjmkGwRChBi5YyQhIvhMG+4GtBpOHtwBLyh0EvckFC+P40whJdL0KQITDBbx6AQaOIzkGYiYVBHR9EwqDNXUAMqFpBeZ8BQQF0E8FyUONAcRrYwWtFosDttJ5Bp1olwlDeHkLCgttBiYmJwdSo7cGtca3A75vAQehcfMGeEJfA0UX+wfm2fUFG3dZAAtvEweBN2UF2+xBCJieJQdRBH8KcsbFBljRAQoVgz8G3CGvBt4/YQd77GsHKWw/CGvLaQY8vy8F53nrBZe4cwfrSOEKcP6zBSCcVwpeSEEK+7RhBMLLBQUnnE8JEKwhB1L2eQdfeg0GfHC3Ci3iWQcNhCsIbJjpCzmLewbp/G0Kfc9JBfvl8QNlmu0Hvc7rBFJdOwgjI70HaPH1ALhl7QfwARULss53AfopgQSgVEMLYrZJB2oEJQL4dnEC9z0xB7TP8P/P8nb9Z/sfBX7dlwGCOEkLaGBbBhdhgwO0QccBoNuvBrug7Qdp7/78s989BkZOtwUtAiEFRtdZB0T43wsi24cE+5nlBIc7PQfvatkC5JsRBP9knwZZ7MUIePtbBXIkpwjXcDsBhaIHBfhQUwQCoyEEMEiXCubJvwZPOyb+OlIZA5g8wQm7L80H2QB/C0k/qweWYuEHL3U3Agwi+wZ/7kcCPmp3BOaIHwn7+h0F381JACFDQQIX8FsIig5BB3EHwwFOqj8GfzwvCS8reQdBzwUFTrhlB4YvlwbeKuEGWSmHBn3GfQcwZYrxwtypB2FKrv0F1TcHmPP1B/uC5QR9cQ8FgRLPAJ1FeQWh3SEEC58hAGKjtwWzgsMGGz+jBeDmswWmgpkHkY1FCFv9iQX9vIEL/CHZBL9wXwuIeFsIGwfJAsPhRQkWjhcBRs8Q/xYGqwHpHMUJm3QzCwbVQwTfYAUFxCAjCLXt5QYVzOUEVHcFAIEW8wVbdPsClT+zBL1tPwXd+CUJEtWPBSF6+vpK4D0LAozPCzR6SQXmVD8K8t0NCV1z3wc9urUGYuNJBEa4hwhxpKMGf7U3Cd3wKwoLpUkAgppJBVn1FwdqG2kG/zDDCA2y2QL1L4MFwJPFBay0kwspaPkGUt7PBinxZwvbjKsJLOQjBIUaHQVh5A8GhfF3Bi/zPQbLEl8DQMEO/D9Y8QQa7/0FKANPAdWQeQZzIQMGMCi/CSR0PwsbwAELvTd1Bwf7hQW5HEMIquR9CS4JcwX9Wh0GaZWNB3XvMwepQiUHTpQdA4I7vQXzyH0Kb7zlCBv3EwUzW2UCllO1BKgDhwV06GsJwNkfC5ARawcXUYUHNSuvAEHC6vmAL2cAlOxZC+HFBQtqgmUE6HQNCTNTOQei1kUHyjITBEE9OwvyZD8LmEOZBnZepQSr6Kj/Z08JBqrwtwZV1bEE48P1Bj87dwVMaCcII25LAHDVOwTLvr0GKrRJBGaDSweNCL8FmMZRBUCTEwc9ldMHAuE3BKGRuQXmTE0IDoLNAJ25gQSvCokFiRhvCuILMwKUei8FglsJAzmcvQufGsL9j7pBATOz6we6+DsKM1RzClIfVQRBcZkGKaSTCU9cZwoAXGMHnxkLCZZjUwMwYmT9Hud/Bg1kqQsqJD0KNneVAD0EYwQYUl0DaJQ7CJ9YKQkA7C8I2el5BisfLQTVViUFbMiTCDni2wWSZLMKrKCLCSuo4wnQnkEFJta5BaHpOQiadIkFkEfPBRu7fQBABO8KIecpBrMdhP18ShkFXuphA9PM0QcSzS0ESI9DBw6EiwpzThsDFgrJBAQcDwCn/8sE4bVFBdBAywbxI00FoZB/BP88rQRTm7EGSuNFB0/TAwS/rM0FLkgxCfWcEwdxVDMILiQvCMRb+Qa3scUHkh45BWZ2mwZMFFcHKz61BCmDuwUrKksHelPzBBkXHQXEUzUBTUtvBs1s8QmI6kkGJea5AiiapwNCxgsET7QBClzrEQZ4Sa0HFAdfBZVrKwe+SKcFFuJTA9zkRwuo46sENHSVCafIAwkNAC8LZ2T7CkW0AQilV0UFqrONBE3g9QLYoNkI7BUVCkSMqwrKcc0G9HS/CDReGQZ53w8FiHxRBbmTeQR+2LkJwkhrCogwcwjaeO0JbXqhBqcUuwmu8k8AUlPy/od84QgisNEFiJplBIMKUwL21YkHHPMG/0GLJQY7nlkEO/PrBNAYQwv6UFcFaHFtCGkHgQSCgNkIuMgHCj16ewIz4KcI1TxfCmb4VwmtpD0Jv44A/We87wWNeA8IEZNQ/8K09QU89EMKOFz/BS2OTwWEAo8CWvSTCwivsQSs9sMA1PqdBBDUHwYbVY8EA9UtCIUJHQcvf60F91xbCZVLCQMUqDMEDfS1CdwdAQTbWjkGptVBCp2QpwZFTOcIgOBTCU2I0wppE0EEGgwDCvDKRQWUcNcI4T+/BUtSCQdGDoMGpXZ1B0WkuQn6lwkE64TbC0YQYwtKkLUI0dYW/pAuRQAAWYMEPa4tBE9xDwUp8J8EYOtjBdkclPyBoTb+mukLBIhD7QUC0q0HF9wNC+1Lzwcuiv0HI7SHCfyM4wah6RcHJUirC0bCEQSfLTr/NYcRBAFkSwpYLOUK83xHA0E7wQVG6GUKFyvtB+QtQQtxdvMFo03LASmF3QQ4fDEJmAczBRQAgQpn0vMEnUS5As/gmQqBch0FbrEBCMbxswZS4OMIBRdVBgUcGQhOadUETASbCVQE3QrBLhUGvjeBB0gcbwttEJ0LMYixC2HSMwc2wQsHoppRBXlpMQZnl4UE1n0rBVhoSwXhS20E0QLpBL0fBwZWPO8KYNytCyVYvQmKIwkDDuJTBdPD8wfk+EsIEkIbBG7hcQpRJJELYM9xBQ6wZwnDAkEEkboNBzhrvQD9/LkIJSRrCKPVUwbB44ECxFcTBrwdmQfVhpMFvn71Bze87wHsE6cHwU8ZBirr3QdGmU8GNPZS/SPnIwUwQFsIOUCNCF8UgQphjC0L1fmjBXuICwhARVEH8YsDATZgqwgh7BcI8RitCmw76QMUmDMAnVaZBwfA0wphJW0KLnbJBySewQG59UUCrk4tBIhqOQN7GOELv381BbtUhwl6JUMIgAcLB7FDSwaBApUGNYLBBDOT6wQ5cC0AEzNzBA84EwJNxOz/8lfy+TmZ1QZJZVEJJqtZBTgK/QV7kwcC/FV7B7k/sweudOcBjhhDCasoUQRAhBULfQz9ARrnfwLB5pUFeSjXC9kSOQInxEMKv3PZB3qSRv4cyxkEbSShCLsciwmn6UMJKr/9Be5rawR64HMIBd0tCcigOQdJdiUHQeGBCcmK7QWEW5kGUmyjCEG0QwhN2ocHaxsa9RYmdQY9TxEH1oYtBiiFvQXOr70HkXJpBT+hlQWSYl8GxhYzAgf/hQXftM0LmZi3C586FwD4OncFXRBZBHGHLQU9ewUHqMH09NMwnQYjq6cDVQBTCsncFwkVYK0G7kCXBgA/AwdeuC8Jwco5BenYHQdqFhsAMtKVBXXElQprdykGSV99BLaRRwHWquEAV4CnCyT/1wescq0Ex0qFBwhTkQQ1UFMJIOSPC+j8jQqlIK0IfqE3Co96FQfo72cFReKxAAh47Qlg3ykEjlttB7kLpweF9sEEST8NBr8bCQZpfocHjsADCZCdIwX/i9r8XrAfBVGDmQY9pKULfuQdCojhYQuUigsFmajxBLdhYQYlJusCPkvbA3tvpwexWTMJ0ABpC+x9XwaWvPMKCoLxBDcvrwZ+aB8LfbMPAEi96QWc8uMGwVqhByLQuQg5SQ0GJbC3CwOfUQbexCUFoErLBsvQmwu3nAUHfAMJB1XcIwr7KJsLELTLCZu6pwHIvtcAz1hlCjorAQcSINcLkuO3ArrPpQexiE8Jkk9NBSHwVwXi4+kGgoUhCjv7qQeLDFkHqEgxAGlyvQeGCV8Feny3BiTvIwU59MMJEk7/BKOkpwgCRIkKsWR9ArfQgQTgNs8HUOinCZ47VQXCl10CYFB1BGbwEQods0cEu00Q/OWKBwR2cBcImHJdByI8pQnvi6MCbtR7CEWr5QW21KsLJMLPAOWX4P0jeC8IuFPTAVY06Qu+qHcLpZDBC54dCQa4uosG+A+FByzk7QS8n4kBEBuPBBEfGwMUVGcD9f6NBdmIrwrSkMT8y+DTCJ6SAQGdRWEBV2V7B9WVbwEBc48EaO9lAvcIwQjnI00GK4B/CS1DnQcG/y0GihD3Bpfhtv/OjZkCMZ1VCSE7CQXIcLcBaTxJCRtFQwiPNo0CTxD/AdSI2wrEr5T42LTpBZwolQpLO0sFqgtdBv+NQwWurhMHsycVB3w0AQm7Z8MFjGBfCBB6OQQwyOEJDUwbCX4OuwXq7SUDICyXCRI5SwVP6zcFDgZ5BJYKlQQsx38GAebJB4+rhwSR5KcJDevZBN+5jwTe1M8EWG9dA6W7qwRofI0JWIBVCb/gdwl+nJsE54dxBkXNYQcb1cUAOUkc+m2kTQch7qEHArc/BsIotQnY69sECiwvCfj9IQsU8SsG8HqBBjsE0wkNQisE6Cd5BwETlQQ/tJMKjjqVBmqcWQpuxx0DEJdpBZa4KwO6UpUGaQ3JBLgZCQv5MLcJ2iSPCZF9pP+arLcKH+7fBgupJwLd8FsL1ZJpBTiidwZ19gUB0OlVA0GhVwOWwAcCj7axB6pPRQdhoFUGjBODB39Y9QU817TyeLRBCa34Bwcon+sHdF03C1jPmweIIhEGre5tBc04CQtv7JMIG/DFCEbMRQbrgREEUsRVCzuwQweFYmsFAaJbAOgS9QTpE2sGtwbDBRNHHQH+NHMDhbjNC24EmQutV/cENtfNBTMiMwTs2dz8Bgy/C2aiCwZnQN0IMt3E8ngODwSgKEUHbMyhCU5QJwY+yAMKQZfZBOM/Awe/FCcJJta+/5nAawcXhoEHRapxAYLK/wRXBOkHLad/B/btUwRNytL+CHv/BP4BUwVyWnsBAvAHC4veHwV9HskGC6jzBig69wb1ePULJlu9Brl4Fws/Lg0DuFTbC+9LDQWnZw8G0NL1AKpEhwJz8b0APVapBStCwwVo2TEJ93dvATb9BwUXvREIvVQ/B3nAewhML/0DshMxB0lzEwVABMUILQvjBXXoLwtqIK8ICXdVBv9sSwnBa4sGrh4BBco0JQWNMLUK08t3BZE3RQbG4lUFSBj/B9D3Hv3kRBUIOELpB8y75QQjnKcIf5G7Bo8NQQmluvEGxvphB/x0AwBgtBkL/A7ZBFHbFwQxTBcIS1MVBkaQPwerUEMJjfwDC89mzQK7QMkEywdFBszchwpKG3sHl0B5BLzA3QgI+ocDvxMNBAdShQR/m5cHtAirC12YqQtYRKMLSGvBBkT4twjx0JsJbJb/BuihGQqQZ1UGM1i9CFuwNwswKgj6C5+vBQMcwws9CQ8JbgWZBFDQ0wrjvKkL7kARBfboNwiEwEEKj2hFC+ev1wRPcwr/kHwhCffkLQaINF0IdQTJAKDlSQTWVH8KpZ4bBXebuQS/8M0KwoRTCWSzjQXO5y8FqkN7BXRUAQWLtgUH/2thBQNoZwtSeLEKaISdCX4g0wr7TfMBQqjfC+gU1QoJz1UGhPDDAmTW5QXSwSkHH5yBB6bWSQVqAnkHgfuZBdVvkv3G3WsChQBBCHPM9QSo9R8EIBMLBj8ciwgdr5UBxWQ1CuJqmwcfeH8KLTUtA74umQTxPsUF0UexB0WkXQQOiB8LgcB9CpBgIwaXDv0Gdt71BiQytwYsVB0JqVS5CrwA1QjjUjMEf4xVCfuz5wek/A8K7NiDCkmkHwr7xaEKQWSxCEBEAwQ46vEFqEZRBGf2qPt4TEsGYQXZBaPgMwbPcKkJpqZBAqcaiwNtRkMEsShc/+WGJwV6pw8GqvRHCOi+uwNpEF8KGi4RByy4awvv96MBS+CXCV+aFwN0f2cGhloxBoyxvQL0VG8H+oipCJDfFQZJeIcD9g8DBeVIuwnbs88G40pPAyEgHwLeeK8IJzQBBolj0wZtmukF7DxdC5AIhQjWZGcK+yMHBP2ABQuZgMUL+zQDCUjvewVozP8IgWCLCMWnfQSkiRsF8uqy/bUiIwF46UkF4Ye3BITTJQW6qsUG2jyFBBlfAQRbpvr6Dd4C/Q4G0QcRDK8I82J3BJRK6wZGvf0E00i7A2qSUQbIRokGMcCy/GUD4wTx0dsCzfoZAqVE+wrGMD8LriwhAU2UaQQuRH8G9nzhCFP51QUgunMAEkCxBwEQrQjVpL8KfFPrB5Z9TwkXFCcL6UDPCknfAv0IDQUKWZjTCYcKiwBL00cHv8cZBI1Kqwef7XsFOEonBEq14wAsbNsL3o0xARy99QYy1u8HihJRBwFWdwJvkCkHT6/zAhGjov/KRucDsybBAq3CGQdEVykGZ3bhBFjwPwqhx10G76PfB/RwwwiG8OkJNiBxCTP5oQsM/VcK+pjrC33DWwWDLR0Gq2IZBMxqJQShK2kFkZFDCtBFJwSsAxMEPnDBCV+cuwrTslkEO85G/hwc5QhZfMEH2fYXByvMGwqV1RkBdptHBxdp0QS86f0Et/zdCw7UwwqFcF8IPHafB+EEEQbuizkBB7QNCEhL/PmEiOELJhNTAGEiEQIIC8kGZ9Q5BRnvtwXiK3sHccIjBtoSTQe7uVsFiSx5C1eTwQXxlzcH6cJ5BshH1QdKnokAKJJm/b4EpwYucvL+iy/PBtDnMvxBY0UEOHDpCtghRvyVlM0K9mB3BQkO5QY+EpcDJ5CJCdIbjwP3vlEGUfpvAQIMbwWsQFcKIRxtBEvPPQeSNRMHjUoK/TTjkQTQANEIv5MlBlP4Wwn8DhsCsbZNAZhTEQTJFyUGm9cJBVSBwwRi4WEEnCTRChwj5wTu59UGXIxZCVh4+woP/P8FHHynC9Xy6QfNONsK0ytbB2vDBwaXqQELvBzhBUp8mQcLSv0HEBuTA334qwi+SakHT/EFAxYPBQc8p5kHbSRHCaGA1wkMjj0F6Ns9B7tD1QYr5zUEkLU1B38PewBQEgcF2E87AhxVfwJOrLsIQcSxCn4PIwAKlL8KBJR/CUDPGwdwwKkHPjCjCeekjwitFZMHf9lDAKUzXQS35YEEEf9FBFoJVQjLaQME1f1BB9sLRQbAIwUGRbeRBZRWVQUpqjEEx1EXCVUEaQgERr0FfjhDA/0EaQQ4ev8GtE9bBIfCDwVWoF0LhrDpBX0LgwGNsLkI50NHBtFfkv6sZ4kGdH0LBES6FwAF1E0Lo7s1BlGafv84AI8EGUTfCmScjwl2JG8IzryTCg5LHwYDE1UHNh3M/aW2ZwdHm4EFbrt5BCeFiQFHQq8EWAD5Al27dQZM0oMHtpzNCyJMAwhYHAMISeRXCsW7SQa3n1kFZX0hB46fIwdWlskDWoAPBdT+9QTQAM0JrfYnBwGNzQPwe18GVfIZA/1/Av7F42EA6T7FBxf46QDQmw0FyL+1BV77dwEZ90cGxW5DBfUp4QSrbbcBIvjZCBmmHwKvCs0GkypJBB/Oywfpkp8F4d4G/4dfPQMgFh0E0DFdCFX1twAArEsJwHRRCUWUpQFPqjkGMdMhBD7hVQgH9yMGS7zVCFurmQZKrysEOZ6ZBHnSOwS/Pg8AWdM5BY54QQvoFNUIQKUTB6ZfJwam7+j9cXzRCFQSYwSKpXEG4R0fB2avdwY+Is8HZmsRBmdyfwfbF2cC5hMhByb4mwkcN3sBVUStBxrXuweaeAMKThVLAiPXoQfPQ+sGY4KVBgBEYwocFJkLxdALBf5sVwq9GrcHxROxByNekQUAfOT/xKRHCNGvYwNys7UHbmx5C0ID6QeehlkAZOm5BfZVAQXqVrcGbVB3CIbDvwbLd/EEc5sJBz/mXwR3kJELNPsVBfAEtQQPRF8Ls4YZBA04CwuErKcIuWspBnDvHQagqBcLOQDvAA+C+v91PuEGBNx5BYiz/vxQuC8EEJ9VAOcQdQZAD1UEmd5dA67a0QVHGFsJdrsrB++EeQvXi8UGnOaRBOOILwm84KMLlhoXBVtb0QdUlh0EPSLhBmDcXvm/1HEFkIgzC8XobQVTFukE9C/FA6lQgwg7ZzkGOwxHCE/D+wdgZ1kDVWBRC5ydYQc3l0sEI6g/CrvBYQP6Z2UHKoihClBE1QqsyoEGzef1BWQuDQZxKDsIsGpFAsgsGwd9W7sHmavNBqf4XwUC/Y0H6eQBAq+8wQvTQwkEgHBRCpaIVQgiu58HHwDDC4uPKwTWgqUHjl5DB4i06whY10kGtIbnBjtkOwi4GBcLDZK1BxLi5QfpPn8H4TodBleUNwJwVcMGYR7/Bupl2QUJlH8Ja3cvB2g8xQqBhwEE9FtZBgagsQsbHGMKaYvjBpZFjwMYor0ATdEpB5u8uQdh/8UH4+KrBMeNRQNDc+0G6zSDAXzziwUxYHcGxUIJBLOKYwHv4AMJuUQDBpMHOQQlqH0E492HAVSgLwj0MRcH+q5w+ss0GQuKEw0GuFTFCY/oTwTm1HD/QXQTCnfeyQW0UPMI6j/zBK/77QX6aFsJhGzDCStCrQYPntb9xNY7BEDMXQTldtEFiXDJB2g+hv2EYMEI7xD5Br4kpwqPymcEnkeXBSfn9wcRahcDUZ5xA/leswVBVF0IAh+5BMhmAQQl5/8DcqstB9aSbQSqcFMFkMi3C5nf1wcSo8UGKfAfC43H1QZPcjMFeFerBHvcFwiUDu0GNNMe/EHGhvbKJ5EFdgxTBMRA+QnMmEcI97YRA6obvwRRXwkF13dlB8vsSwn6p+sGzbg7C9F8UQv7EJcJPdf7BlSjNwW8h0UFM/y1CzrbBQHIFqkEJyMvBmAcDQcXDccGDccpBcGECwgOVhEEbswnCbV6SQRm2g0GMYb/BMb8RQaQzw0ELb5bBkc7KwU56UULuwRnCa0EgQqTxLME/t9BB/YYMwjbUKUFByAfAuAbnwLbgNsFWtz1BuJcyQufGHkL/Cy3BIVY+wXlbAcImcSfAwoLJwUT9jEHsV+vAmKFBQXEqiEFRLBTCtx8JwE8Yn0G2xjhCqhNfQSoHL8JrZ4vBtlbkQcN11cFOl8JBa0IQQu/h80ER+KZBxgEQwlWVy0GCx0zCY4LdQe1AIkBadgxCbyaawGHWd0H7H5XAFng0QjQ10UFY2XVB68tswUPXvcFgUJ9BF8e2QcjSTMEnWgFBBt3TwYHrukEs5oJBLWakwDuLLMJPOhLC2wUnQhb8fcHwNEXBSYrjQbzCwEH1P0nCwLcSQh4JoEFKpQHBlc0ywqEkyEHxScZAZqEbwu1xfsFdTtZBTp6jQdG4JsFPBEFBwsfwwWhmMULNgcBAlVQXwgN/DcIxBBo/sv4uwKrxM0KTAnK/DsUDv8OonkFBbShCffZRwIc9scGs2ijCVuAoQgs338HgNvPASbY1Qo1zoMEL2qLBI3qcQdOLDsLvbXZBnqgpwUcXBULOX8FB0qUsQg/wAsJrZCPB4+nowfO0HMF1ys/BV2z9wfc8Xj+G3gjC1UnFwX0YaEGQ24w+6oUNQWJGA8KCn7XByj0fwuI6A8JzpSdADOo8wgeaE8IC2PxB4hXeQSOA7EGuAgpBZZUEwUza6UFNfsRBYs3LwaCn28EGjv2/UKvGQH6Ec8C35d1BjhoNwiisAsLc1L/B8Vxovx/HF8KooyDCEw0uwdr9WkGcZAg/69IRwlA+7cFLLOlB3GG7QPusWcDDNJhA1avQQDQn/EEEqDBCTZclQgrv90HsPvjBHHgUwk+72sHEUYnB+T4Nwvj8HMJuOjNC7uNPQsTbkUCcWhXC+AUNQblTTEAnimDBHdwlQvNxKMIapNPBbeQxQkhRB8FfCelBy65PwiCSJkEfmZlB59XwQTpSlUHBiwPBGI5HQYFFEkKQqCdBa6mMQQH7scFw4/TAVUyYQVguYMAyr+HAOWu5v6TKIcJmwhjCqiTFQVMYxcAF27PBd4kVwkFfEEHcdZDBRR5dwXfs6r/AgEdB26TkvxaVWcAFwTTCxBKEwZ56T0LldJ9B44S3QEw0OEKY3bRBEp4oQq2bqkGS1dhBTIYGwsIiw0He0sbB1803wRQwTsFObrlBZ9sswie6l0AHa69B3b3RQZKhsr+LD6w+/nWzwVam8EGONfVBCSRDwSeHcUHqKQLAe6PIwVlWPkEzpAPBXZfbwTeir0DF2ZZBs6jlwb9W8EGam5BBrzgPQnlUxEG3Tw4/wM8LwvSrLEIB4BPCL9iyQeqjoEEJ3RLCEhIxQsocQkJaCuDBVds9wobGIELRFU7BOabwQZNe2kGtX+DBsOfYQI/pAsK/5rzAAZVAQeSlIsKJuwzC4M4bQlr3GUF3IVPADBkkwiGhmEBlQ+3AXhWMQZgbDsLUPN5BLGIyQjD3kUFEnSBBCc/DQfk91kHQ9TbBuZcTwm/0IMGlRlHCoRrcQTM1yMHf8TnBGFCfwBxEFcJAy85B/ojHwIV//EH6YolB23sYQA/CxEHpxDvCKzLMQfY/DEI634dBiFokwhyxjkEGXGs/exbBwcUmo0FuAMdATpqMQTOW5EGP6hnCnUkdwE0CsUFOoctBt9bwwTuQd0FPbTlBBcZYQIB/YUDjXRLCFQODQW31sUHXIdjBF84UwfP5/MDSmnlBR0XXQbAwI8EkOQlCMo3pwAjs9MF16h1CybQfQqAmDELqVJ5B73EfQp7nlT8RqVzBEFylwNBvAsJtSNdBB1glQb9yn8F6K//BoT+dQWp6CML3osZB0qsgwmP2nD8Jp2HA0bjWQTUij8HAzidBQnvYQb2YqMB/TjpCk5DBwDAT5sDQGq9Bod4wwR+IKUIja8ZBYtPUwfxvnsCXRYTAO63FQRPY3kDbyXVBF4qdQcW7RcBQGQdC3drnwa3H1kGHA9bANskXwnj2tEHI8DrCDWnHwVDgJb/54R3BQJorwrtbjMD7VRfCCnQeQmBolEBBa0E/VWJLQbQxJ0Gbx7VBcWgcwqJwh8DmVkZBVpOUQe2qpUAODi/C6szwwZ7+0cGLoCpCUOUewi5enEG/gTTCBI8nQj932cFecJZBVSQnQl/X4kEUOk5AtpQwvaCc3sF4hC9CK1mNwCwPtMH2OsPBjWkUwCrPKUEZwsnBg7g6P5Ywl0Eg9S5CPGJzwfHluUAjx6jBfq8wQuZRGcLM09XAwYkqwixP1EF6DM5B47cxwijM+MHBhrDBZl08wOQS5EEXQRrAPqk7QbFSLELv1wPCInpzQf3AiL9fV8lARrUpQm4Ts0HOJzPBD4BtweDe08ES8P3BVcADwlx+KcIc41FBWt82QodAmUEvqYXAMdLrQV0cycEibkDBbpunwDbnNMKoyv9BLE1CQvMbx8FwGHdBg2wNQkqF8sDMt5DBddzWwfYjO0LPEMrBMWneQX52/UHG32DBfE0fQtbdNMFRGw3BR39MQQZXCsI1BwfCKqUCwkecB8ERlH/Az08BwisX5kFIuJNAA7jRQHApScCbylVAMKj8wD+sLMEaNAzAoogPQonZyUAfwupAlOy5wMg/1MGhdopB/tvRwZ6BFkEIM4NAvCcrQu1f10E8G+hBB3UXwuJNkEGgHk0/Dh8ewrRDvUFX37VBEynPQQ/OisFvOQhBNDG7wC5E8EER58VBdSjHQX46mUHzoQVC9SWVQaBaD8BRXLhBQtOwQep8FsL9awRBwCEAwvfWdUEEnNpBePL6wZbXp8EzasZALQORwT9Y4EFR6SRAQUxZQcHtvUHYnU3BKbgewnYlpEFLvx9CMdaiv0vVTMBR+PxAC9ovQPmSLcLeBWZBqJQGwmkGCMKmlKzB69ubQXRtukGLhjNC28SLwGhvtEGMuwfCksE1wtmqrcFTdNjB+1cTwqCISEGJSju/Sa7WweExhUEyjS5C1r+9wRK2BULm0svBDFniwJrLyMGRfzXAGjk8Qo+W9UE6jwvC6+wiQsyHE8LVIDhBJiCPQdx8I8KFt9dBYouDQIGboUE213BB8RIBwoQCA0Ieix9BW2DlwbBxK8KOwjVBFJIwQcMAQsJRoULCxOgTwpggLkJLainAJy9Awabdx0GgBLTB7VtRQckJ30EbXbRB6fCVQMU5PUG/geRBhtIyQtyb0EE/oixCDbcBwhosJcJqXo9A0v17QQxJH8IJRqxB5AcIwgGUrEFgKTtBwOCDwRg2VELAdTnB9wWAwT3bBkJL4ZZBB/oVwvYS3sHRA0VC5yFMQmln+MFl8qDB5rO4QfB34z+bO66//2eIwJVvWEEJIJtA2zilQCWnykFAf8/B6X5awJh53cH6MWdAsl+8wYtvHz99FBhB6evKv64eiUE8th/Ccv7dweXp7cGlCdhA5AMiQZxmBsKrK8RB9MALwiIkH0JLpK9B+zt+wTZ6gEGKkKHAEuvAQbbCDsJ/zr6/nsG+wIZG8cGiWQBCmrH4v7eSCMJ8hiNC9JGwvvIniUEGeoDBYEyrwdFWicG1IhTCcNrGQRXT7MCDCZRB/7XmQJB0U8E2kyTCqw/MQT7NHMBP4aFAcazgwcnUj0GNOsxBm5wIwsSLr8ETGQrC32p1QWwTmUGgBD7CSg3iQdvW/cHOySJCxO48QShIjMGSu9rAC85eQWzzq0C2nKPAhk8FQWRPnL/rEVTAPTQsQqyKB8Lxw4RBoS2yQAUA0kCsbu3ByTXjQRe5K0LzCiPCPz3FQYIhR8F4FgTBqr8OQjdVycEVkj3CQZPrwCWni8FUx+RBABLQQSJSIsGRTkjBm3q/wSf1K0K94PvAKcstwpblQ8I/e9HBZP8Twho3/EHooNO/X9PRwad/0sGG4xrCs59CwfhRlMEV5R3CjzMdQsC2y0Hc+dhBNSmgQQuVoUAwRFG/UjO6wZC80cFdDt9B9oITQv+f5cHL7/3B9KXkQabGMELbzrtBseQcQPucxsBMWYhB72k+wbGxbMEnfr5Bvc7EPkVUFkLWPT5BjDy/wZt0ocD7v6VBINCKwYpjGUCgBaRBjJ+LQQyssEGnIwXCnmBSv9m1vcHP8/dB0A75wRuWzEHzugPCwK4wP1CIAELBLPnBiQfNwYa06sGcJn/A1+U1Qn7T5MHFKRvC2u0/wbOgAMICPOvBJ/41wsC+hEGxA6nB2FWnQfY/E8FUIwzCLf/sv4Ze3cGBYhTChXsGQb5tPkDBF95A+weowYctGEB00vbBUcJGQf+vY7/I2+7B5FsfQuhOvEHjjgDCd1PVweupXcF/QK1A8MwTwkidokFSDyJC+ofNQZJUqkCPEbrBqrMfQhcdRUAYE7RBkXjPvnmEnkHv8M1BbXAsQruH2MFCUiTAj4zuwV19hEEhUt3BfuwTwp+vCkChvA/C+dh5wfAmykHpxEtBKBFawH2iKMGcFInBBePVQRMTEkI2lzbCfGV/wCof0MGkDB9BZY3TwQzT3kAk9u3BBH8eQuo9mcExeBNC6IaywdlX1cEn6ClC7ky+P97nC8JWgsJB3/DLwU7z/sH/oArCDp6mQUVqhkFe365AVD7iQWoQh0FgVuFBnFkGwv1px0GNFTDAV+EHQY5wzUBRU1pB8Bt/QVKUuUEMHgDC1WmqQBAUjMH2ZfHBFFjYwb3JIb/YtRZBFPZAwey5O8IHxbRBrWyBQeAj90FibChCp5rTQSD2wkHEhPBBDDcNQueuF0K0d+LB9L0qQkp/UEHpRnFBWz7LQUaw+8GUWbZBqLSDwd7uCEE+Ld1BvyzhQWv2SsFHAyNCj8AcQiOZycGjdeq/nHzYwXYPQMIKki1C0KYvQkO7VMATi6XB4v0wwmMoocBLyhNAtdAtQRv5msDO2RrCqMYwQr5YBMLdEr7BEV0fQeO2iEHxt7LBKzaxwd+wpEAPqCXBzYrMQYu/DcLE9tvBFNwdQIY4T75hgQpCmKrlQdhl5cHhkKBBG2e/wfhXOsKgqj3BMcpJQOxjuEFn9x1B+d26v2eJ3sGtab1BOuccwoO4SEF/fDZCf7jdQV5I20F2T6TAcvPAQTXjF0HmQXa+RwXlQSCKU8IAtvlBX1fnwY71ucFQyBvCjJcmwh0Sk0GhjEVBC+JDQQl38r99dDNBT2TQQbJ7NcI7jsvAXdU0wtS7jkFkXEXB6gPXwAICp0GUkD3Cix8oQsoJ2cF/8Z/ACWpRQudjtEHwBX5ARP22QW4fCMBvxTNCUE+FQRFfPEAKVdlBE//MwFhg2L+KQKBBWReAQdrc8MB2iIlBI+SMwerSXz8xf5LBzjxMQkd2x0EbxibB1cRRwfi0i0GX1DdBSkEkQgeCMsFQf6tBwEg0QQBTJcKu8HVBkUfPQaMwPsKFowJAHce3QSWmgkCYUCnBdTgWwvB1CMI=\",\"dtype\":\"float32\",\"order\":\"little\",\"shape\":[5000]}},\"selected\":{\"id\":\"1172\"},\"selection_policy\":{\"id\":\"1171\"}},\"id\":\"1112\",\"type\":\"ColumnDataSource\"},{\"attributes\":{},\"id\":\"1170\",\"type\":\"AllLabels\"},{\"attributes\":{},\"id\":\"1131\",\"type\":\"WheelZoomTool\"},{\"attributes\":{},\"id\":\"1127\",\"type\":\"BasicTicker\"},{\"attributes\":{},\"id\":\"1130\",\"type\":\"PanTool\"},{\"attributes\":{\"overlay\":{\"id\":\"1136\"}},\"id\":\"1132\",\"type\":\"BoxZoomTool\"},{\"attributes\":{},\"id\":\"1133\",\"type\":\"SaveTool\"},{\"attributes\":{},\"id\":\"1135\",\"type\":\"HelpTool\"},{\"attributes\":{},\"id\":\"1134\",\"type\":\"ResetTool\"},{\"attributes\":{},\"id\":\"1116\",\"type\":\"DataRange1d\"},{\"attributes\":{},\"id\":\"1114\",\"type\":\"DataRange1d\"},{\"attributes\":{\"coordinates\":null,\"formatter\":{\"id\":\"1169\"},\"group\":null,\"major_label_policy\":{\"id\":\"1170\"},\"ticker\":{\"id\":\"1123\"}},\"id\":\"1122\",\"type\":\"LinearAxis\"},{\"attributes\":{},\"id\":\"1167\",\"type\":\"AllLabels\"},{\"attributes\":{\"fill_alpha\":{\"value\":0.1},\"fill_color\":{\"field\":\"color\"},\"hatch_alpha\":{\"value\":0.1},\"hatch_color\":{\"field\":\"color\"},\"line_alpha\":{\"value\":0.1},\"line_color\":{\"field\":\"color\"},\"size\":{\"value\":10},\"x\":{\"field\":\"x\"},\"y\":{\"field\":\"y\"}},\"id\":\"1146\",\"type\":\"Scatter\"},{\"attributes\":{\"bottom_units\":\"screen\",\"coordinates\":null,\"fill_alpha\":0.5,\"fill_color\":\"lightgrey\",\"group\":null,\"left_units\":\"screen\",\"level\":\"overlay\",\"line_alpha\":1.0,\"line_color\":\"black\",\"line_dash\":[4,4],\"line_width\":2,\"right_units\":\"screen\",\"syncable\":false,\"top_units\":\"screen\"},\"id\":\"1136\",\"type\":\"BoxAnnotation\"},{\"attributes\":{},\"id\":\"1169\",\"type\":\"BasicTickFormatter\"},{\"attributes\":{},\"id\":\"1123\",\"type\":\"BasicTicker\"},{\"attributes\":{\"coordinates\":null,\"group\":null},\"id\":\"1163\",\"type\":\"Title\"},{\"attributes\":{\"callback\":null,\"tooltips\":[[\"token\",\"@token\"]]},\"id\":\"1150\",\"type\":\"HoverTool\"},{\"attributes\":{\"source\":{\"id\":\"1112\"}},\"id\":\"1149\",\"type\":\"CDSView\"},{\"attributes\":{\"axis\":{\"id\":\"1122\"},\"coordinates\":null,\"group\":null,\"ticker\":null},\"id\":\"1125\",\"type\":\"Grid\"},{\"attributes\":{},\"id\":\"1118\",\"type\":\"LinearScale\"},{\"attributes\":{\"active_scroll\":{\"id\":\"1131\"},\"tools\":[{\"id\":\"1130\"},{\"id\":\"1131\"},{\"id\":\"1132\"},{\"id\":\"1133\"},{\"id\":\"1134\"},{\"id\":\"1135\"},{\"id\":\"1150\"}]},\"id\":\"1137\",\"type\":\"Toolbar\"},{\"attributes\":{},\"id\":\"1166\",\"type\":\"BasicTickFormatter\"},{\"attributes\":{\"fill_alpha\":{\"value\":0.25},\"fill_color\":{\"field\":\"color\"},\"hatch_alpha\":{\"value\":0.25},\"hatch_color\":{\"field\":\"color\"},\"line_alpha\":{\"value\":0.25},\"line_color\":{\"field\":\"color\"},\"size\":{\"value\":10},\"x\":{\"field\":\"x\"},\"y\":{\"field\":\"y\"}},\"id\":\"1145\",\"type\":\"Scatter\"},{\"attributes\":{\"coordinates\":null,\"data_source\":{\"id\":\"1112\"},\"glyph\":{\"id\":\"1145\"},\"group\":null,\"hover_glyph\":null,\"muted_glyph\":{\"id\":\"1147\"},\"nonselection_glyph\":{\"id\":\"1146\"},\"view\":{\"id\":\"1149\"}},\"id\":\"1148\",\"type\":\"GlyphRenderer\"},{\"attributes\":{},\"id\":\"1171\",\"type\":\"UnionRenderers\"},{\"attributes\":{\"fill_alpha\":{\"value\":0.2},\"fill_color\":{\"field\":\"color\"},\"hatch_alpha\":{\"value\":0.2},\"hatch_color\":{\"field\":\"color\"},\"line_alpha\":{\"value\":0.2},\"line_color\":{\"field\":\"color\"},\"size\":{\"value\":10},\"x\":{\"field\":\"x\"},\"y\":{\"field\":\"y\"}},\"id\":\"1147\",\"type\":\"Scatter\"},{\"attributes\":{},\"id\":\"1172\",\"type\":\"Selection\"},{\"attributes\":{},\"id\":\"1120\",\"type\":\"LinearScale\"},{\"attributes\":{\"axis\":{\"id\":\"1126\"},\"coordinates\":null,\"dimension\":1,\"group\":null,\"ticker\":null},\"id\":\"1129\",\"type\":\"Grid\"},{\"attributes\":{\"coordinates\":null,\"formatter\":{\"id\":\"1166\"},\"group\":null,\"major_label_policy\":{\"id\":\"1167\"},\"ticker\":{\"id\":\"1127\"}},\"id\":\"1126\",\"type\":\"LinearAxis\"}],\"root_ids\":[\"1113\"]},\"title\":\"Bokeh Application\",\"version\":\"2.4.3\"}};\n",
              "  const render_items = [{\"docid\":\"7d5dc82b-81a7-4561-8f9f-6bae6e1dee22\",\"root_ids\":[\"1113\"],\"roots\":{\"1113\":\"28f1a0e3-8d02-4f63-a46e-1de87cceee7d\"}}];\n",
              "  root.Bokeh.embed.embed_items_notebook(docs_json, render_items);\n",
              "  }\n",
              "  if (root.Bokeh !== undefined) {\n",
              "    embed_document(root);\n",
              "  } else {\n",
              "    let attempts = 0;\n",
              "    const timer = setInterval(function(root) {\n",
              "      if (root.Bokeh !== undefined) {\n",
              "        clearInterval(timer);\n",
              "        embed_document(root);\n",
              "      } else {\n",
              "        attempts++;\n",
              "        if (attempts > 100) {\n",
              "          clearInterval(timer);\n",
              "          console.log(\"Bokeh: ERROR: Unable to run BokehJS code because BokehJS library is missing\");\n",
              "        }\n",
              "      }\n",
              "    }, 10, root)\n",
              "  }\n",
              "})(window);"
            ],
            "application/vnd.bokehjs_exec.v0+json": ""
          },
          "metadata": {
            "application/vnd.bokehjs_exec.v0+json": {
              "id": "1113"
            }
          },
          "output_type": "display_data"
        },
        {
          "data": {
            "text/html": [
              "<div style=\"display: table;\"><div style=\"display: table-row;\"><div style=\"display: table-cell;\"><b title=\"bokeh.plotting.figure.Figure\">Figure</b>(</div><div style=\"display: table-cell;\">id&nbsp;=&nbsp;'1113', <span id=\"1230\" style=\"cursor: pointer;\">&hellip;)</span></div></div><div class=\"1229\" style=\"display: none;\"><div style=\"display: table-cell;\"></div><div style=\"display: table-cell;\">above&nbsp;=&nbsp;[],</div></div><div class=\"1229\" style=\"display: none;\"><div style=\"display: table-cell;\"></div><div style=\"display: table-cell;\">align&nbsp;=&nbsp;'start',</div></div><div class=\"1229\" style=\"display: none;\"><div style=\"display: table-cell;\"></div><div style=\"display: table-cell;\">aspect_ratio&nbsp;=&nbsp;None,</div></div><div class=\"1229\" style=\"display: none;\"><div style=\"display: table-cell;\"></div><div style=\"display: table-cell;\">aspect_scale&nbsp;=&nbsp;1,</div></div><div class=\"1229\" style=\"display: none;\"><div style=\"display: table-cell;\"></div><div style=\"display: table-cell;\">background&nbsp;=&nbsp;None,</div></div><div class=\"1229\" style=\"display: none;\"><div style=\"display: table-cell;\"></div><div style=\"display: table-cell;\">background_fill_alpha&nbsp;=&nbsp;1.0,</div></div><div class=\"1229\" style=\"display: none;\"><div style=\"display: table-cell;\"></div><div style=\"display: table-cell;\">background_fill_color&nbsp;=&nbsp;'#ffffff',</div></div><div class=\"1229\" style=\"display: none;\"><div style=\"display: table-cell;\"></div><div style=\"display: table-cell;\">below&nbsp;=&nbsp;[LinearAxis(id='1122', ...)],</div></div><div class=\"1229\" style=\"display: none;\"><div style=\"display: table-cell;\"></div><div style=\"display: table-cell;\">border_fill_alpha&nbsp;=&nbsp;1.0,</div></div><div class=\"1229\" style=\"display: none;\"><div style=\"display: table-cell;\"></div><div style=\"display: table-cell;\">border_fill_color&nbsp;=&nbsp;'#ffffff',</div></div><div class=\"1229\" style=\"display: none;\"><div style=\"display: table-cell;\"></div><div style=\"display: table-cell;\">center&nbsp;=&nbsp;[Grid(id='1125', ...), Grid(id='1129', ...)],</div></div><div class=\"1229\" style=\"display: none;\"><div style=\"display: table-cell;\"></div><div style=\"display: table-cell;\">css_classes&nbsp;=&nbsp;[],</div></div><div class=\"1229\" style=\"display: none;\"><div style=\"display: table-cell;\"></div><div style=\"display: table-cell;\">disabled&nbsp;=&nbsp;False,</div></div><div class=\"1229\" style=\"display: none;\"><div style=\"display: table-cell;\"></div><div style=\"display: table-cell;\">extra_x_ranges&nbsp;=&nbsp;{},</div></div><div class=\"1229\" style=\"display: none;\"><div style=\"display: table-cell;\"></div><div style=\"display: table-cell;\">extra_x_scales&nbsp;=&nbsp;{},</div></div><div class=\"1229\" style=\"display: none;\"><div style=\"display: table-cell;\"></div><div style=\"display: table-cell;\">extra_y_ranges&nbsp;=&nbsp;{},</div></div><div class=\"1229\" style=\"display: none;\"><div style=\"display: table-cell;\"></div><div style=\"display: table-cell;\">extra_y_scales&nbsp;=&nbsp;{},</div></div><div class=\"1229\" style=\"display: none;\"><div style=\"display: table-cell;\"></div><div style=\"display: table-cell;\">frame_height&nbsp;=&nbsp;None,</div></div><div class=\"1229\" style=\"display: none;\"><div style=\"display: table-cell;\"></div><div style=\"display: table-cell;\">frame_width&nbsp;=&nbsp;None,</div></div><div class=\"1229\" style=\"display: none;\"><div style=\"display: table-cell;\"></div><div style=\"display: table-cell;\">height&nbsp;=&nbsp;400,</div></div><div class=\"1229\" style=\"display: none;\"><div style=\"display: table-cell;\"></div><div style=\"display: table-cell;\">height_policy&nbsp;=&nbsp;'auto',</div></div><div class=\"1229\" style=\"display: none;\"><div style=\"display: table-cell;\"></div><div style=\"display: table-cell;\">hidpi&nbsp;=&nbsp;True,</div></div><div class=\"1229\" style=\"display: none;\"><div style=\"display: table-cell;\"></div><div style=\"display: table-cell;\">inner_height&nbsp;=&nbsp;0,</div></div><div class=\"1229\" style=\"display: none;\"><div style=\"display: table-cell;\"></div><div style=\"display: table-cell;\">inner_width&nbsp;=&nbsp;0,</div></div><div class=\"1229\" style=\"display: none;\"><div style=\"display: table-cell;\"></div><div style=\"display: table-cell;\">js_event_callbacks&nbsp;=&nbsp;{},</div></div><div class=\"1229\" style=\"display: none;\"><div style=\"display: table-cell;\"></div><div style=\"display: table-cell;\">js_property_callbacks&nbsp;=&nbsp;{},</div></div><div class=\"1229\" style=\"display: none;\"><div style=\"display: table-cell;\"></div><div style=\"display: table-cell;\">left&nbsp;=&nbsp;[LinearAxis(id='1126', ...)],</div></div><div class=\"1229\" style=\"display: none;\"><div style=\"display: table-cell;\"></div><div style=\"display: table-cell;\">lod_factor&nbsp;=&nbsp;10,</div></div><div class=\"1229\" style=\"display: none;\"><div style=\"display: table-cell;\"></div><div style=\"display: table-cell;\">lod_interval&nbsp;=&nbsp;300,</div></div><div class=\"1229\" style=\"display: none;\"><div style=\"display: table-cell;\"></div><div style=\"display: table-cell;\">lod_threshold&nbsp;=&nbsp;2000,</div></div><div class=\"1229\" style=\"display: none;\"><div style=\"display: table-cell;\"></div><div style=\"display: table-cell;\">lod_timeout&nbsp;=&nbsp;500,</div></div><div class=\"1229\" style=\"display: none;\"><div style=\"display: table-cell;\"></div><div style=\"display: table-cell;\">margin&nbsp;=&nbsp;(0, 0, 0, 0),</div></div><div class=\"1229\" style=\"display: none;\"><div style=\"display: table-cell;\"></div><div style=\"display: table-cell;\">match_aspect&nbsp;=&nbsp;False,</div></div><div class=\"1229\" style=\"display: none;\"><div style=\"display: table-cell;\"></div><div style=\"display: table-cell;\">max_height&nbsp;=&nbsp;None,</div></div><div class=\"1229\" style=\"display: none;\"><div style=\"display: table-cell;\"></div><div style=\"display: table-cell;\">max_width&nbsp;=&nbsp;None,</div></div><div class=\"1229\" style=\"display: none;\"><div style=\"display: table-cell;\"></div><div style=\"display: table-cell;\">min_border&nbsp;=&nbsp;5,</div></div><div class=\"1229\" style=\"display: none;\"><div style=\"display: table-cell;\"></div><div style=\"display: table-cell;\">min_border_bottom&nbsp;=&nbsp;None,</div></div><div class=\"1229\" style=\"display: none;\"><div style=\"display: table-cell;\"></div><div style=\"display: table-cell;\">min_border_left&nbsp;=&nbsp;None,</div></div><div class=\"1229\" style=\"display: none;\"><div style=\"display: table-cell;\"></div><div style=\"display: table-cell;\">min_border_right&nbsp;=&nbsp;None,</div></div><div class=\"1229\" style=\"display: none;\"><div style=\"display: table-cell;\"></div><div style=\"display: table-cell;\">min_border_top&nbsp;=&nbsp;None,</div></div><div class=\"1229\" style=\"display: none;\"><div style=\"display: table-cell;\"></div><div style=\"display: table-cell;\">min_height&nbsp;=&nbsp;None,</div></div><div class=\"1229\" style=\"display: none;\"><div style=\"display: table-cell;\"></div><div style=\"display: table-cell;\">min_width&nbsp;=&nbsp;None,</div></div><div class=\"1229\" style=\"display: none;\"><div style=\"display: table-cell;\"></div><div style=\"display: table-cell;\">name&nbsp;=&nbsp;None,</div></div><div class=\"1229\" style=\"display: none;\"><div style=\"display: table-cell;\"></div><div style=\"display: table-cell;\">outer_height&nbsp;=&nbsp;0,</div></div><div class=\"1229\" style=\"display: none;\"><div style=\"display: table-cell;\"></div><div style=\"display: table-cell;\">outer_width&nbsp;=&nbsp;0,</div></div><div class=\"1229\" style=\"display: none;\"><div style=\"display: table-cell;\"></div><div style=\"display: table-cell;\">outline_line_alpha&nbsp;=&nbsp;1.0,</div></div><div class=\"1229\" style=\"display: none;\"><div style=\"display: table-cell;\"></div><div style=\"display: table-cell;\">outline_line_cap&nbsp;=&nbsp;'butt',</div></div><div class=\"1229\" style=\"display: none;\"><div style=\"display: table-cell;\"></div><div style=\"display: table-cell;\">outline_line_color&nbsp;=&nbsp;'#e5e5e5',</div></div><div class=\"1229\" style=\"display: none;\"><div style=\"display: table-cell;\"></div><div style=\"display: table-cell;\">outline_line_dash&nbsp;=&nbsp;[],</div></div><div class=\"1229\" style=\"display: none;\"><div style=\"display: table-cell;\"></div><div style=\"display: table-cell;\">outline_line_dash_offset&nbsp;=&nbsp;0,</div></div><div class=\"1229\" style=\"display: none;\"><div style=\"display: table-cell;\"></div><div style=\"display: table-cell;\">outline_line_join&nbsp;=&nbsp;'bevel',</div></div><div class=\"1229\" style=\"display: none;\"><div style=\"display: table-cell;\"></div><div style=\"display: table-cell;\">outline_line_width&nbsp;=&nbsp;1,</div></div><div class=\"1229\" style=\"display: none;\"><div style=\"display: table-cell;\"></div><div style=\"display: table-cell;\">output_backend&nbsp;=&nbsp;'canvas',</div></div><div class=\"1229\" style=\"display: none;\"><div style=\"display: table-cell;\"></div><div style=\"display: table-cell;\">renderers&nbsp;=&nbsp;[GlyphRenderer(id='1148', ...)],</div></div><div class=\"1229\" style=\"display: none;\"><div style=\"display: table-cell;\"></div><div style=\"display: table-cell;\">reset_policy&nbsp;=&nbsp;'standard',</div></div><div class=\"1229\" style=\"display: none;\"><div style=\"display: table-cell;\"></div><div style=\"display: table-cell;\">right&nbsp;=&nbsp;[],</div></div><div class=\"1229\" style=\"display: none;\"><div style=\"display: table-cell;\"></div><div style=\"display: table-cell;\">sizing_mode&nbsp;=&nbsp;None,</div></div><div class=\"1229\" style=\"display: none;\"><div style=\"display: table-cell;\"></div><div style=\"display: table-cell;\">subscribed_events&nbsp;=&nbsp;[],</div></div><div class=\"1229\" style=\"display: none;\"><div style=\"display: table-cell;\"></div><div style=\"display: table-cell;\">syncable&nbsp;=&nbsp;True,</div></div><div class=\"1229\" style=\"display: none;\"><div style=\"display: table-cell;\"></div><div style=\"display: table-cell;\">tags&nbsp;=&nbsp;[],</div></div><div class=\"1229\" style=\"display: none;\"><div style=\"display: table-cell;\"></div><div style=\"display: table-cell;\">title&nbsp;=&nbsp;Title(id='1163', ...),</div></div><div class=\"1229\" style=\"display: none;\"><div style=\"display: table-cell;\"></div><div style=\"display: table-cell;\">title_location&nbsp;=&nbsp;'above',</div></div><div class=\"1229\" style=\"display: none;\"><div style=\"display: table-cell;\"></div><div style=\"display: table-cell;\">toolbar&nbsp;=&nbsp;Toolbar(id='1137', ...),</div></div><div class=\"1229\" style=\"display: none;\"><div style=\"display: table-cell;\"></div><div style=\"display: table-cell;\">toolbar_location&nbsp;=&nbsp;'right',</div></div><div class=\"1229\" style=\"display: none;\"><div style=\"display: table-cell;\"></div><div style=\"display: table-cell;\">toolbar_sticky&nbsp;=&nbsp;True,</div></div><div class=\"1229\" style=\"display: none;\"><div style=\"display: table-cell;\"></div><div style=\"display: table-cell;\">visible&nbsp;=&nbsp;True,</div></div><div class=\"1229\" style=\"display: none;\"><div style=\"display: table-cell;\"></div><div style=\"display: table-cell;\">width&nbsp;=&nbsp;600,</div></div><div class=\"1229\" style=\"display: none;\"><div style=\"display: table-cell;\"></div><div style=\"display: table-cell;\">width_policy&nbsp;=&nbsp;'auto',</div></div><div class=\"1229\" style=\"display: none;\"><div style=\"display: table-cell;\"></div><div style=\"display: table-cell;\">x_range&nbsp;=&nbsp;DataRange1d(id='1114', ...),</div></div><div class=\"1229\" style=\"display: none;\"><div style=\"display: table-cell;\"></div><div style=\"display: table-cell;\">x_scale&nbsp;=&nbsp;LinearScale(id='1118', ...),</div></div><div class=\"1229\" style=\"display: none;\"><div style=\"display: table-cell;\"></div><div style=\"display: table-cell;\">y_range&nbsp;=&nbsp;DataRange1d(id='1116', ...),</div></div><div class=\"1229\" style=\"display: none;\"><div style=\"display: table-cell;\"></div><div style=\"display: table-cell;\">y_scale&nbsp;=&nbsp;LinearScale(id='1120', ...))</div></div></div>\n",
              "<script>\n",
              "(function() {\n",
              "  let expanded = false;\n",
              "  const ellipsis = document.getElementById(\"1230\");\n",
              "  ellipsis.addEventListener(\"click\", function() {\n",
              "    const rows = document.getElementsByClassName(\"1229\");\n",
              "    for (let i = 0; i < rows.length; i++) {\n",
              "      const el = rows[i];\n",
              "      el.style.display = expanded ? \"none\" : \"table-row\";\n",
              "    }\n",
              "    ellipsis.innerHTML = expanded ? \"&hellip;)\" : \"&lsaquo;&lsaquo;&lsaquo;\";\n",
              "    expanded = !expanded;\n",
              "  });\n",
              "})();\n",
              "</script>\n"
            ],
            "text/plain": [
              "Figure(id='1113', ...)"
            ]
          },
          "execution_count": 120,
          "metadata": {},
          "output_type": "execute_result"
        }
      ],
      "source": [
        "word_tsne = get_tsne_projection(word_vectors)\n",
        "draw_vectors(word_tsne[:, 0], word_tsne[:, 1], color='green', token=words)"
      ]
    },
    {
      "cell_type": "markdown",
      "metadata": {
        "id": "KuWrftq7YVEk"
      },
      "source": [
        "On the TSNE projection of the vector space, we can see distinct language clusters. If zoom the plot and check close points (which represent words) we can notice that they are grouped in smaller clusters by their meaning."
      ]
    },
    {
      "cell_type": "markdown",
      "metadata": {
        "id": "3hRXeB6hlaE6"
      },
      "source": [
        "####Texts embeddings"
      ]
    },
    {
      "cell_type": "markdown",
      "metadata": {
        "id": "bSZQPb2hZBMI"
      },
      "source": [
        "Using the following function I have also obtained the array of texts embeddings which are simply the means of the vectors of all the words they contain."
      ]
    },
    {
      "cell_type": "code",
      "execution_count": null,
      "metadata": {
        "id": "MeUyxPF_ZTmF"
      },
      "outputs": [],
      "source": [
        "def get_phrase_embedding(model, phrase):\n",
        "    tokenized = word_tokenize(phrase)\n",
        "    if len(tokenized) > 0:\n",
        "        vector = model.get_mean_vector(tokenized)\n",
        "        return vector\n",
        "    return np.zeros([model.vector_size], dtype='float32')"
      ]
    },
    {
      "cell_type": "code",
      "execution_count": null,
      "metadata": {
        "id": "K-GW-AGRll5Z"
      },
      "outputs": [],
      "source": [
        "text_vectors = np.array([get_phrase_embedding(w2v_model, text) for text in comments])"
      ]
    },
    {
      "cell_type": "code",
      "execution_count": null,
      "metadata": {
        "id": "pQqAfRlRaZEr"
      },
      "outputs": [],
      "source": [
        "X_train_w2v, y_train = text_vectors, list(train_df['toxic'])"
      ]
    },
    {
      "cell_type": "code",
      "execution_count": null,
      "metadata": {
        "colab": {
          "base_uri": "https://localhost:8080/"
        },
        "id": "mIQKeDTmDh46",
        "outputId": "8118dd67-7d32-4bcd-bce0-e3c659b6d386"
      },
      "outputs": [
        {
          "data": {
            "text/plain": [
              "(399787, 399787)"
            ]
          },
          "execution_count": 45,
          "metadata": {},
          "output_type": "execute_result"
        }
      ],
      "source": [
        "len(X_train_w2v), len(y_train)"
      ]
    },
    {
      "cell_type": "markdown",
      "metadata": {
        "id": "XZLfPHHAHJlu"
      },
      "source": [
        "### Word2Vec + LogReg"
      ]
    },
    {
      "cell_type": "markdown",
      "source": [
        "Defining the model (logistic regression) and parameter space:"
      ],
      "metadata": {
        "id": "70lJ0KC6h5yt"
      }
    },
    {
      "cell_type": "code",
      "execution_count": null,
      "metadata": {
        "id": "31w_6TUDHPnD"
      },
      "outputs": [],
      "source": [
        "lr_model = LogisticRegression(penalty='elasticnet')\n",
        "\n",
        "parameters = {\n",
        "    'penalty' : ['l1', 'l2'],\n",
        "    'C' : np.logspace(-4, 4, 20),\n",
        "    'solver' : ['liblinear'],\n",
        "}"
      ]
    },
    {
      "cell_type": "markdown",
      "source": [
        "Hyperparameters tuning through cross validation:"
      ],
      "metadata": {
        "id": "eePAL6JFiKBK"
      }
    },
    {
      "cell_type": "code",
      "execution_count": null,
      "metadata": {
        "id": "vDFCL4zfHPnE"
      },
      "outputs": [],
      "source": [
        "cv = StratifiedKFold(n_splits=5, shuffle=True, random_state=42)\n",
        "lr_w2v_random_search = RandomizedSearchCV(lr_model, parameters, n_jobs=-1, verbose=1,\n",
        "                                   scoring=['roc_auc'],\n",
        "                                   cv=cv, n_iter=10, refit='roc_auc')"
      ]
    },
    {
      "cell_type": "code",
      "execution_count": null,
      "metadata": {
        "colab": {
          "base_uri": "https://localhost:8080/",
          "height": 172
        },
        "id": "55Oaf8wLHeQt",
        "outputId": "e6c8ca9e-7c3e-4e19-e580-7b4b60323a1e"
      },
      "outputs": [
        {
          "name": "stdout",
          "output_type": "stream",
          "text": [
            "Fitting 5 folds for each of 10 candidates, totalling 50 fits\n",
            "CPU times: user 23min 40s, sys: 4.74 s, total: 23min 44s\n",
            "Wall time: 55min 59s\n"
          ]
        },
        {
          "data": {
            "text/html": [
              "<style>#sk-container-id-1 {color: black;background-color: white;}#sk-container-id-1 pre{padding: 0;}#sk-container-id-1 div.sk-toggleable {background-color: white;}#sk-container-id-1 label.sk-toggleable__label {cursor: pointer;display: block;width: 100%;margin-bottom: 0;padding: 0.3em;box-sizing: border-box;text-align: center;}#sk-container-id-1 label.sk-toggleable__label-arrow:before {content: \"▸\";float: left;margin-right: 0.25em;color: #696969;}#sk-container-id-1 label.sk-toggleable__label-arrow:hover:before {color: black;}#sk-container-id-1 div.sk-estimator:hover label.sk-toggleable__label-arrow:before {color: black;}#sk-container-id-1 div.sk-toggleable__content {max-height: 0;max-width: 0;overflow: hidden;text-align: left;background-color: #f0f8ff;}#sk-container-id-1 div.sk-toggleable__content pre {margin: 0.2em;color: black;border-radius: 0.25em;background-color: #f0f8ff;}#sk-container-id-1 input.sk-toggleable__control:checked~div.sk-toggleable__content {max-height: 200px;max-width: 100%;overflow: auto;}#sk-container-id-1 input.sk-toggleable__control:checked~label.sk-toggleable__label-arrow:before {content: \"▾\";}#sk-container-id-1 div.sk-estimator input.sk-toggleable__control:checked~label.sk-toggleable__label {background-color: #d4ebff;}#sk-container-id-1 div.sk-label input.sk-toggleable__control:checked~label.sk-toggleable__label {background-color: #d4ebff;}#sk-container-id-1 input.sk-hidden--visually {border: 0;clip: rect(1px 1px 1px 1px);clip: rect(1px, 1px, 1px, 1px);height: 1px;margin: -1px;overflow: hidden;padding: 0;position: absolute;width: 1px;}#sk-container-id-1 div.sk-estimator {font-family: monospace;background-color: #f0f8ff;border: 1px dotted black;border-radius: 0.25em;box-sizing: border-box;margin-bottom: 0.5em;}#sk-container-id-1 div.sk-estimator:hover {background-color: #d4ebff;}#sk-container-id-1 div.sk-parallel-item::after {content: \"\";width: 100%;border-bottom: 1px solid gray;flex-grow: 1;}#sk-container-id-1 div.sk-label:hover label.sk-toggleable__label {background-color: #d4ebff;}#sk-container-id-1 div.sk-serial::before {content: \"\";position: absolute;border-left: 1px solid gray;box-sizing: border-box;top: 0;bottom: 0;left: 50%;z-index: 0;}#sk-container-id-1 div.sk-serial {display: flex;flex-direction: column;align-items: center;background-color: white;padding-right: 0.2em;padding-left: 0.2em;position: relative;}#sk-container-id-1 div.sk-item {position: relative;z-index: 1;}#sk-container-id-1 div.sk-parallel {display: flex;align-items: stretch;justify-content: center;background-color: white;position: relative;}#sk-container-id-1 div.sk-item::before, #sk-container-id-1 div.sk-parallel-item::before {content: \"\";position: absolute;border-left: 1px solid gray;box-sizing: border-box;top: 0;bottom: 0;left: 50%;z-index: -1;}#sk-container-id-1 div.sk-parallel-item {display: flex;flex-direction: column;z-index: 1;position: relative;background-color: white;}#sk-container-id-1 div.sk-parallel-item:first-child::after {align-self: flex-end;width: 50%;}#sk-container-id-1 div.sk-parallel-item:last-child::after {align-self: flex-start;width: 50%;}#sk-container-id-1 div.sk-parallel-item:only-child::after {width: 0;}#sk-container-id-1 div.sk-dashed-wrapped {border: 1px dashed gray;margin: 0 0.4em 0.5em 0.4em;box-sizing: border-box;padding-bottom: 0.4em;background-color: white;}#sk-container-id-1 div.sk-label label {font-family: monospace;font-weight: bold;display: inline-block;line-height: 1.2em;}#sk-container-id-1 div.sk-label-container {text-align: center;}#sk-container-id-1 div.sk-container {/* jupyter's `normalize.less` sets `[hidden] { display: none; }` but bootstrap.min.css set `[hidden] { display: none !important; }` so we also need the `!important` here to be able to override the default hidden behavior on the sphinx rendered scikit-learn.org. See: https://github.com/scikit-learn/scikit-learn/issues/21755 */display: inline-block !important;position: relative;}#sk-container-id-1 div.sk-text-repr-fallback {display: none;}</style><div id=\"sk-container-id-1\" class=\"sk-top-container\"><div class=\"sk-text-repr-fallback\"><pre>RandomizedSearchCV(cv=StratifiedKFold(n_splits=5, random_state=42, shuffle=True),\n",
              "                   estimator=LogisticRegression(penalty=&#x27;elasticnet&#x27;),\n",
              "                   n_jobs=-1,\n",
              "                   param_distributions={&#x27;C&#x27;: array([1.00000000e-04, 2.63665090e-04, 6.95192796e-04, 1.83298071e-03,\n",
              "       4.83293024e-03, 1.27427499e-02, 3.35981829e-02, 8.85866790e-02,\n",
              "       2.33572147e-01, 6.15848211e-01, 1.62377674e+00, 4.28133240e+00,\n",
              "       1.12883789e+01, 2.97635144e+01, 7.84759970e+01, 2.06913808e+02,\n",
              "       5.45559478e+02, 1.43844989e+03, 3.79269019e+03, 1.00000000e+04]),\n",
              "                                        &#x27;penalty&#x27;: [&#x27;l1&#x27;, &#x27;l2&#x27;],\n",
              "                                        &#x27;solver&#x27;: [&#x27;liblinear&#x27;]},\n",
              "                   refit=&#x27;roc_auc&#x27;, scoring=[&#x27;roc_auc&#x27;], verbose=1)</pre><b>In a Jupyter environment, please rerun this cell to show the HTML representation or trust the notebook. <br />On GitHub, the HTML representation is unable to render, please try loading this page with nbviewer.org.</b></div><div class=\"sk-container\" hidden><div class=\"sk-item sk-dashed-wrapped\"><div class=\"sk-label-container\"><div class=\"sk-label sk-toggleable\"><input class=\"sk-toggleable__control sk-hidden--visually\" id=\"sk-estimator-id-1\" type=\"checkbox\" ><label for=\"sk-estimator-id-1\" class=\"sk-toggleable__label sk-toggleable__label-arrow\">RandomizedSearchCV</label><div class=\"sk-toggleable__content\"><pre>RandomizedSearchCV(cv=StratifiedKFold(n_splits=5, random_state=42, shuffle=True),\n",
              "                   estimator=LogisticRegression(penalty=&#x27;elasticnet&#x27;),\n",
              "                   n_jobs=-1,\n",
              "                   param_distributions={&#x27;C&#x27;: array([1.00000000e-04, 2.63665090e-04, 6.95192796e-04, 1.83298071e-03,\n",
              "       4.83293024e-03, 1.27427499e-02, 3.35981829e-02, 8.85866790e-02,\n",
              "       2.33572147e-01, 6.15848211e-01, 1.62377674e+00, 4.28133240e+00,\n",
              "       1.12883789e+01, 2.97635144e+01, 7.84759970e+01, 2.06913808e+02,\n",
              "       5.45559478e+02, 1.43844989e+03, 3.79269019e+03, 1.00000000e+04]),\n",
              "                                        &#x27;penalty&#x27;: [&#x27;l1&#x27;, &#x27;l2&#x27;],\n",
              "                                        &#x27;solver&#x27;: [&#x27;liblinear&#x27;]},\n",
              "                   refit=&#x27;roc_auc&#x27;, scoring=[&#x27;roc_auc&#x27;], verbose=1)</pre></div></div></div><div class=\"sk-parallel\"><div class=\"sk-parallel-item\"><div class=\"sk-item\"><div class=\"sk-label-container\"><div class=\"sk-label sk-toggleable\"><input class=\"sk-toggleable__control sk-hidden--visually\" id=\"sk-estimator-id-2\" type=\"checkbox\" ><label for=\"sk-estimator-id-2\" class=\"sk-toggleable__label sk-toggleable__label-arrow\">estimator: LogisticRegression</label><div class=\"sk-toggleable__content\"><pre>LogisticRegression(penalty=&#x27;elasticnet&#x27;)</pre></div></div></div><div class=\"sk-serial\"><div class=\"sk-item\"><div class=\"sk-estimator sk-toggleable\"><input class=\"sk-toggleable__control sk-hidden--visually\" id=\"sk-estimator-id-3\" type=\"checkbox\" ><label for=\"sk-estimator-id-3\" class=\"sk-toggleable__label sk-toggleable__label-arrow\">LogisticRegression</label><div class=\"sk-toggleable__content\"><pre>LogisticRegression(penalty=&#x27;elasticnet&#x27;)</pre></div></div></div></div></div></div></div></div></div></div>"
            ],
            "text/plain": [
              "RandomizedSearchCV(cv=StratifiedKFold(n_splits=5, random_state=42, shuffle=True),\n",
              "                   estimator=LogisticRegression(penalty='elasticnet'),\n",
              "                   n_jobs=-1,\n",
              "                   param_distributions={'C': array([1.00000000e-04, 2.63665090e-04, 6.95192796e-04, 1.83298071e-03,\n",
              "       4.83293024e-03, 1.27427499e-02, 3.35981829e-02, 8.85866790e-02,\n",
              "       2.33572147e-01, 6.15848211e-01, 1.62377674e+00, 4.28133240e+00,\n",
              "       1.12883789e+01, 2.97635144e+01, 7.84759970e+01, 2.06913808e+02,\n",
              "       5.45559478e+02, 1.43844989e+03, 3.79269019e+03, 1.00000000e+04]),\n",
              "                                        'penalty': ['l1', 'l2'],\n",
              "                                        'solver': ['liblinear']},\n",
              "                   refit='roc_auc', scoring=['roc_auc'], verbose=1)"
            ]
          },
          "execution_count": 68,
          "metadata": {},
          "output_type": "execute_result"
        }
      ],
      "source": [
        "%%time\n",
        "\n",
        "lr_w2v_random_search.fit(X_train_w2v, y_train);"
      ]
    },
    {
      "cell_type": "markdown",
      "source": [
        "Results of randomized search:"
      ],
      "metadata": {
        "id": "UxiNvt51iWmu"
      }
    },
    {
      "cell_type": "code",
      "execution_count": null,
      "metadata": {
        "colab": {
          "base_uri": "https://localhost:8080/",
          "height": 1000
        },
        "id": "9nfd1d3lH_oU",
        "outputId": "fa773f65-0929-472f-d995-f44c6015ceae"
      },
      "outputs": [
        {
          "data": {
            "text/html": [
              "\n",
              "  <div id=\"df-649878dd-e731-490a-b502-864f558d457a\">\n",
              "    <div class=\"colab-df-container\">\n",
              "      <div>\n",
              "<style scoped>\n",
              "    .dataframe tbody tr th:only-of-type {\n",
              "        vertical-align: middle;\n",
              "    }\n",
              "\n",
              "    .dataframe tbody tr th {\n",
              "        vertical-align: top;\n",
              "    }\n",
              "\n",
              "    .dataframe thead th {\n",
              "        text-align: right;\n",
              "    }\n",
              "</style>\n",
              "<table border=\"1\" class=\"dataframe\">\n",
              "  <thead>\n",
              "    <tr style=\"text-align: right;\">\n",
              "      <th></th>\n",
              "      <th>mean_fit_time</th>\n",
              "      <th>std_fit_time</th>\n",
              "      <th>mean_score_time</th>\n",
              "      <th>std_score_time</th>\n",
              "      <th>param_solver</th>\n",
              "      <th>param_penalty</th>\n",
              "      <th>param_C</th>\n",
              "      <th>params</th>\n",
              "      <th>split0_test_roc_auc</th>\n",
              "      <th>split1_test_roc_auc</th>\n",
              "      <th>split2_test_roc_auc</th>\n",
              "      <th>split3_test_roc_auc</th>\n",
              "      <th>split4_test_roc_auc</th>\n",
              "      <th>mean_test_roc_auc</th>\n",
              "      <th>std_test_roc_auc</th>\n",
              "      <th>rank_test_roc_auc</th>\n",
              "    </tr>\n",
              "  </thead>\n",
              "  <tbody>\n",
              "    <tr>\n",
              "      <th>1</th>\n",
              "      <td>1727.363318</td>\n",
              "      <td>113.165698</td>\n",
              "      <td>0.134582</td>\n",
              "      <td>0.003278</td>\n",
              "      <td>liblinear</td>\n",
              "      <td>l1</td>\n",
              "      <td>11.288379</td>\n",
              "      <td>{'solver': 'liblinear', 'penalty': 'l1', 'C': ...</td>\n",
              "      <td>0.923298</td>\n",
              "      <td>0.926835</td>\n",
              "      <td>0.924427</td>\n",
              "      <td>0.926500</td>\n",
              "      <td>0.923664</td>\n",
              "      <td>0.924945</td>\n",
              "      <td>0.001457</td>\n",
              "      <td>1</td>\n",
              "    </tr>\n",
              "    <tr>\n",
              "      <th>5</th>\n",
              "      <td>908.493805</td>\n",
              "      <td>22.638349</td>\n",
              "      <td>0.207662</td>\n",
              "      <td>0.003777</td>\n",
              "      <td>liblinear</td>\n",
              "      <td>l1</td>\n",
              "      <td>1.623777</td>\n",
              "      <td>{'solver': 'liblinear', 'penalty': 'l1', 'C': ...</td>\n",
              "      <td>0.922687</td>\n",
              "      <td>0.926100</td>\n",
              "      <td>0.923746</td>\n",
              "      <td>0.926413</td>\n",
              "      <td>0.922944</td>\n",
              "      <td>0.924378</td>\n",
              "      <td>0.001576</td>\n",
              "      <td>2</td>\n",
              "    </tr>\n",
              "    <tr>\n",
              "      <th>6</th>\n",
              "      <td>99.353361</td>\n",
              "      <td>3.437429</td>\n",
              "      <td>0.213787</td>\n",
              "      <td>0.008832</td>\n",
              "      <td>liblinear</td>\n",
              "      <td>l2</td>\n",
              "      <td>4.281332</td>\n",
              "      <td>{'solver': 'liblinear', 'penalty': 'l2', 'C': ...</td>\n",
              "      <td>0.921983</td>\n",
              "      <td>0.925752</td>\n",
              "      <td>0.923573</td>\n",
              "      <td>0.926114</td>\n",
              "      <td>0.922538</td>\n",
              "      <td>0.923992</td>\n",
              "      <td>0.001669</td>\n",
              "      <td>3</td>\n",
              "    </tr>\n",
              "    <tr>\n",
              "      <th>9</th>\n",
              "      <td>309.742598</td>\n",
              "      <td>56.394105</td>\n",
              "      <td>0.165161</td>\n",
              "      <td>0.036676</td>\n",
              "      <td>liblinear</td>\n",
              "      <td>l1</td>\n",
              "      <td>0.615848</td>\n",
              "      <td>{'solver': 'liblinear', 'penalty': 'l1', 'C': ...</td>\n",
              "      <td>0.921597</td>\n",
              "      <td>0.925197</td>\n",
              "      <td>0.922912</td>\n",
              "      <td>0.925709</td>\n",
              "      <td>0.921968</td>\n",
              "      <td>0.923477</td>\n",
              "      <td>0.001677</td>\n",
              "      <td>4</td>\n",
              "    </tr>\n",
              "    <tr>\n",
              "      <th>3</th>\n",
              "      <td>74.495749</td>\n",
              "      <td>4.118922</td>\n",
              "      <td>0.206960</td>\n",
              "      <td>0.005563</td>\n",
              "      <td>liblinear</td>\n",
              "      <td>l2</td>\n",
              "      <td>1.623777</td>\n",
              "      <td>{'solver': 'liblinear', 'penalty': 'l2', 'C': ...</td>\n",
              "      <td>0.921025</td>\n",
              "      <td>0.924968</td>\n",
              "      <td>0.922915</td>\n",
              "      <td>0.925420</td>\n",
              "      <td>0.921720</td>\n",
              "      <td>0.923210</td>\n",
              "      <td>0.001736</td>\n",
              "      <td>5</td>\n",
              "    </tr>\n",
              "    <tr>\n",
              "      <th>0</th>\n",
              "      <td>53.567379</td>\n",
              "      <td>5.002586</td>\n",
              "      <td>0.209995</td>\n",
              "      <td>0.002984</td>\n",
              "      <td>liblinear</td>\n",
              "      <td>l1</td>\n",
              "      <td>0.033598</td>\n",
              "      <td>{'solver': 'liblinear', 'penalty': 'l1', 'C': ...</td>\n",
              "      <td>0.912329</td>\n",
              "      <td>0.916090</td>\n",
              "      <td>0.914268</td>\n",
              "      <td>0.916208</td>\n",
              "      <td>0.912468</td>\n",
              "      <td>0.914273</td>\n",
              "      <td>0.001678</td>\n",
              "      <td>6</td>\n",
              "    </tr>\n",
              "    <tr>\n",
              "      <th>2</th>\n",
              "      <td>29.127729</td>\n",
              "      <td>1.331236</td>\n",
              "      <td>0.206652</td>\n",
              "      <td>0.006648</td>\n",
              "      <td>liblinear</td>\n",
              "      <td>l1</td>\n",
              "      <td>0.012743</td>\n",
              "      <td>{'solver': 'liblinear', 'penalty': 'l1', 'C': ...</td>\n",
              "      <td>0.903969</td>\n",
              "      <td>0.907066</td>\n",
              "      <td>0.905373</td>\n",
              "      <td>0.907343</td>\n",
              "      <td>0.904025</td>\n",
              "      <td>0.905555</td>\n",
              "      <td>0.001440</td>\n",
              "      <td>7</td>\n",
              "    </tr>\n",
              "    <tr>\n",
              "      <th>7</th>\n",
              "      <td>18.913650</td>\n",
              "      <td>0.954250</td>\n",
              "      <td>0.208424</td>\n",
              "      <td>0.002494</td>\n",
              "      <td>liblinear</td>\n",
              "      <td>l1</td>\n",
              "      <td>0.004833</td>\n",
              "      <td>{'solver': 'liblinear', 'penalty': 'l1', 'C': ...</td>\n",
              "      <td>0.893256</td>\n",
              "      <td>0.895333</td>\n",
              "      <td>0.893720</td>\n",
              "      <td>0.896617</td>\n",
              "      <td>0.893905</td>\n",
              "      <td>0.894566</td>\n",
              "      <td>0.001238</td>\n",
              "      <td>8</td>\n",
              "    </tr>\n",
              "    <tr>\n",
              "      <th>8</th>\n",
              "      <td>12.206229</td>\n",
              "      <td>0.176760</td>\n",
              "      <td>0.243655</td>\n",
              "      <td>0.039955</td>\n",
              "      <td>liblinear</td>\n",
              "      <td>l2</td>\n",
              "      <td>0.0001</td>\n",
              "      <td>{'solver': 'liblinear', 'penalty': 'l2', 'C': ...</td>\n",
              "      <td>0.837935</td>\n",
              "      <td>0.835384</td>\n",
              "      <td>0.836175</td>\n",
              "      <td>0.834228</td>\n",
              "      <td>0.833590</td>\n",
              "      <td>0.835462</td>\n",
              "      <td>0.001527</td>\n",
              "      <td>9</td>\n",
              "    </tr>\n",
              "    <tr>\n",
              "      <th>4</th>\n",
              "      <td>7.713330</td>\n",
              "      <td>0.301146</td>\n",
              "      <td>0.203791</td>\n",
              "      <td>0.050802</td>\n",
              "      <td>liblinear</td>\n",
              "      <td>l1</td>\n",
              "      <td>0.0001</td>\n",
              "      <td>{'solver': 'liblinear', 'penalty': 'l1', 'C': ...</td>\n",
              "      <td>0.500000</td>\n",
              "      <td>0.500000</td>\n",
              "      <td>0.500000</td>\n",
              "      <td>0.500000</td>\n",
              "      <td>0.500000</td>\n",
              "      <td>0.500000</td>\n",
              "      <td>0.000000</td>\n",
              "      <td>10</td>\n",
              "    </tr>\n",
              "  </tbody>\n",
              "</table>\n",
              "</div>\n",
              "      <button class=\"colab-df-convert\" onclick=\"convertToInteractive('df-649878dd-e731-490a-b502-864f558d457a')\"\n",
              "              title=\"Convert this dataframe to an interactive table.\"\n",
              "              style=\"display:none;\">\n",
              "        \n",
              "  <svg xmlns=\"http://www.w3.org/2000/svg\" height=\"24px\"viewBox=\"0 0 24 24\"\n",
              "       width=\"24px\">\n",
              "    <path d=\"M0 0h24v24H0V0z\" fill=\"none\"/>\n",
              "    <path d=\"M18.56 5.44l.94 2.06.94-2.06 2.06-.94-2.06-.94-.94-2.06-.94 2.06-2.06.94zm-11 1L8.5 8.5l.94-2.06 2.06-.94-2.06-.94L8.5 2.5l-.94 2.06-2.06.94zm10 10l.94 2.06.94-2.06 2.06-.94-2.06-.94-.94-2.06-.94 2.06-2.06.94z\"/><path d=\"M17.41 7.96l-1.37-1.37c-.4-.4-.92-.59-1.43-.59-.52 0-1.04.2-1.43.59L10.3 9.45l-7.72 7.72c-.78.78-.78 2.05 0 2.83L4 21.41c.39.39.9.59 1.41.59.51 0 1.02-.2 1.41-.59l7.78-7.78 2.81-2.81c.8-.78.8-2.07 0-2.86zM5.41 20L4 18.59l7.72-7.72 1.47 1.35L5.41 20z\"/>\n",
              "  </svg>\n",
              "      </button>\n",
              "      \n",
              "  <style>\n",
              "    .colab-df-container {\n",
              "      display:flex;\n",
              "      flex-wrap:wrap;\n",
              "      gap: 12px;\n",
              "    }\n",
              "\n",
              "    .colab-df-convert {\n",
              "      background-color: #E8F0FE;\n",
              "      border: none;\n",
              "      border-radius: 50%;\n",
              "      cursor: pointer;\n",
              "      display: none;\n",
              "      fill: #1967D2;\n",
              "      height: 32px;\n",
              "      padding: 0 0 0 0;\n",
              "      width: 32px;\n",
              "    }\n",
              "\n",
              "    .colab-df-convert:hover {\n",
              "      background-color: #E2EBFA;\n",
              "      box-shadow: 0px 1px 2px rgba(60, 64, 67, 0.3), 0px 1px 3px 1px rgba(60, 64, 67, 0.15);\n",
              "      fill: #174EA6;\n",
              "    }\n",
              "\n",
              "    [theme=dark] .colab-df-convert {\n",
              "      background-color: #3B4455;\n",
              "      fill: #D2E3FC;\n",
              "    }\n",
              "\n",
              "    [theme=dark] .colab-df-convert:hover {\n",
              "      background-color: #434B5C;\n",
              "      box-shadow: 0px 1px 3px 1px rgba(0, 0, 0, 0.15);\n",
              "      filter: drop-shadow(0px 1px 2px rgba(0, 0, 0, 0.3));\n",
              "      fill: #FFFFFF;\n",
              "    }\n",
              "  </style>\n",
              "\n",
              "      <script>\n",
              "        const buttonEl =\n",
              "          document.querySelector('#df-649878dd-e731-490a-b502-864f558d457a button.colab-df-convert');\n",
              "        buttonEl.style.display =\n",
              "          google.colab.kernel.accessAllowed ? 'block' : 'none';\n",
              "\n",
              "        async function convertToInteractive(key) {\n",
              "          const element = document.querySelector('#df-649878dd-e731-490a-b502-864f558d457a');\n",
              "          const dataTable =\n",
              "            await google.colab.kernel.invokeFunction('convertToInteractive',\n",
              "                                                     [key], {});\n",
              "          if (!dataTable) return;\n",
              "\n",
              "          const docLinkHtml = 'Like what you see? Visit the ' +\n",
              "            '<a target=\"_blank\" href=https://colab.research.google.com/notebooks/data_table.ipynb>data table notebook</a>'\n",
              "            + ' to learn more about interactive tables.';\n",
              "          element.innerHTML = '';\n",
              "          dataTable['output_type'] = 'display_data';\n",
              "          await google.colab.output.renderOutput(dataTable, element);\n",
              "          const docLink = document.createElement('div');\n",
              "          docLink.innerHTML = docLinkHtml;\n",
              "          element.appendChild(docLink);\n",
              "        }\n",
              "      </script>\n",
              "    </div>\n",
              "  </div>\n",
              "  "
            ],
            "text/plain": [
              "   mean_fit_time  std_fit_time  mean_score_time  std_score_time param_solver  \\\n",
              "1    1727.363318    113.165698         0.134582        0.003278    liblinear   \n",
              "5     908.493805     22.638349         0.207662        0.003777    liblinear   \n",
              "6      99.353361      3.437429         0.213787        0.008832    liblinear   \n",
              "9     309.742598     56.394105         0.165161        0.036676    liblinear   \n",
              "3      74.495749      4.118922         0.206960        0.005563    liblinear   \n",
              "0      53.567379      5.002586         0.209995        0.002984    liblinear   \n",
              "2      29.127729      1.331236         0.206652        0.006648    liblinear   \n",
              "7      18.913650      0.954250         0.208424        0.002494    liblinear   \n",
              "8      12.206229      0.176760         0.243655        0.039955    liblinear   \n",
              "4       7.713330      0.301146         0.203791        0.050802    liblinear   \n",
              "\n",
              "  param_penalty    param_C                                             params  \\\n",
              "1            l1  11.288379  {'solver': 'liblinear', 'penalty': 'l1', 'C': ...   \n",
              "5            l1   1.623777  {'solver': 'liblinear', 'penalty': 'l1', 'C': ...   \n",
              "6            l2   4.281332  {'solver': 'liblinear', 'penalty': 'l2', 'C': ...   \n",
              "9            l1   0.615848  {'solver': 'liblinear', 'penalty': 'l1', 'C': ...   \n",
              "3            l2   1.623777  {'solver': 'liblinear', 'penalty': 'l2', 'C': ...   \n",
              "0            l1   0.033598  {'solver': 'liblinear', 'penalty': 'l1', 'C': ...   \n",
              "2            l1   0.012743  {'solver': 'liblinear', 'penalty': 'l1', 'C': ...   \n",
              "7            l1   0.004833  {'solver': 'liblinear', 'penalty': 'l1', 'C': ...   \n",
              "8            l2     0.0001  {'solver': 'liblinear', 'penalty': 'l2', 'C': ...   \n",
              "4            l1     0.0001  {'solver': 'liblinear', 'penalty': 'l1', 'C': ...   \n",
              "\n",
              "   split0_test_roc_auc  split1_test_roc_auc  split2_test_roc_auc  \\\n",
              "1             0.923298             0.926835             0.924427   \n",
              "5             0.922687             0.926100             0.923746   \n",
              "6             0.921983             0.925752             0.923573   \n",
              "9             0.921597             0.925197             0.922912   \n",
              "3             0.921025             0.924968             0.922915   \n",
              "0             0.912329             0.916090             0.914268   \n",
              "2             0.903969             0.907066             0.905373   \n",
              "7             0.893256             0.895333             0.893720   \n",
              "8             0.837935             0.835384             0.836175   \n",
              "4             0.500000             0.500000             0.500000   \n",
              "\n",
              "   split3_test_roc_auc  split4_test_roc_auc  mean_test_roc_auc  \\\n",
              "1             0.926500             0.923664           0.924945   \n",
              "5             0.926413             0.922944           0.924378   \n",
              "6             0.926114             0.922538           0.923992   \n",
              "9             0.925709             0.921968           0.923477   \n",
              "3             0.925420             0.921720           0.923210   \n",
              "0             0.916208             0.912468           0.914273   \n",
              "2             0.907343             0.904025           0.905555   \n",
              "7             0.896617             0.893905           0.894566   \n",
              "8             0.834228             0.833590           0.835462   \n",
              "4             0.500000             0.500000           0.500000   \n",
              "\n",
              "   std_test_roc_auc  rank_test_roc_auc  \n",
              "1          0.001457                  1  \n",
              "5          0.001576                  2  \n",
              "6          0.001669                  3  \n",
              "9          0.001677                  4  \n",
              "3          0.001736                  5  \n",
              "0          0.001678                  6  \n",
              "2          0.001440                  7  \n",
              "7          0.001238                  8  \n",
              "8          0.001527                  9  \n",
              "4          0.000000                 10  "
            ]
          },
          "execution_count": 69,
          "metadata": {},
          "output_type": "execute_result"
        }
      ],
      "source": [
        "pd.DataFrame(lr_w2v_random_search.cv_results_).sort_values('mean_test_roc_auc', ascending=False)"
      ]
    },
    {
      "cell_type": "code",
      "execution_count": null,
      "metadata": {
        "id": "cd8mQfHCfktQ"
      },
      "outputs": [],
      "source": [
        "filename = 'toxicity_w2v_log_reg.sav'"
      ]
    },
    {
      "cell_type": "code",
      "execution_count": null,
      "metadata": {
        "id": "R8QbLl1NJUn9"
      },
      "outputs": [],
      "source": [
        "if not os.path.exists(MODEL_PATH+filename):\n",
        "  save_sklearn_model(lr_w2v_random_search.best_estimator_, filename)"
      ]
    },
    {
      "cell_type": "code",
      "execution_count": null,
      "metadata": {
        "id": "O9UB5fXh6sbr"
      },
      "outputs": [],
      "source": []
    },
    {
      "cell_type": "code",
      "execution_count": null,
      "metadata": {
        "id": "mGmQVA5kJmEy"
      },
      "outputs": [],
      "source": [
        "rs_name = 'lr_w2v_random_search'\n",
        "if rs_name in locals() or rs_name in globals():\n",
        "  lr_w2v_model = lr_w2v_random_search.best_estimator_\n",
        "else:\n",
        "  lr_w2v_model = load_sklearn_model(filename)\n",
        "  type(lr_w2v_model)"
      ]
    },
    {
      "cell_type": "markdown",
      "source": [
        "Validating the model:"
      ],
      "metadata": {
        "id": "Xyfyk9VwiwzD"
      }
    },
    {
      "cell_type": "code",
      "execution_count": null,
      "metadata": {
        "colab": {
          "base_uri": "https://localhost:8080/"
        },
        "id": "r2VrcuvGIahs",
        "outputId": "be8e0f04-61b2-4655-f523-3e0ce0754af2"
      },
      "outputs": [
        {
          "name": "stdout",
          "output_type": "stream",
          "text": [
            "Validation AUC score 0.7577329442422933\n"
          ]
        },
        {
          "data": {
            "text/plain": [
              "8"
            ]
          },
          "execution_count": 52,
          "metadata": {},
          "output_type": "execute_result"
        }
      ],
      "source": [
        "val_df = pd.read_csv(FILE_PATH + '/validation.csv')\n",
        "val_df['comment_text'].fillna(\"unknown\", inplace=True)\n",
        "val_df[\"comment_text\"] = val_df[\"comment_text\"].apply(clean_text)\n",
        "\n",
        "val_comments = list(val_df['comment_text'])\n",
        "val_text_vectors = np.array([get_phrase_embedding(w2v_model, text) for text in val_comments])\n",
        "\n",
        "X_val_w2v, y_val = val_text_vectors, val_df['toxic']\n",
        "\n",
        "y_pred_valid = lr_w2v_model.predict_proba(X_val_w2v)\n",
        "# print('Testing accuracy %s' % accuracy_score(y_valid, y_pred_valid))\n",
        "# print('Testing F1 score: {}'.format(f1_score(y_valid, y_pred_valid, average='weighted')))\n",
        "print('Validation AUC score %s' % roc_auc_score(y_val, y_pred_valid[:, 1]))\n",
        "\n",
        "del val_df, y_val, y_pred_valid; gc.collect()"
      ]
    },
    {
      "cell_type": "markdown",
      "source": [
        "The score seems not that exciting (worse than a baseline)"
      ],
      "metadata": {
        "id": "E4DaniC2ldBK"
      }
    },
    {
      "cell_type": "markdown",
      "metadata": {
        "id": "olE2P42TKVQU"
      },
      "source": [
        "### Doc2Vec + LogReg"
      ]
    },
    {
      "cell_type": "markdown",
      "source": [
        "At this step I am going to train Doc2Vec model from gensim library, and use its vectors as an input for the classificator."
      ],
      "metadata": {
        "id": "057MQNUrA1Ni"
      }
    },
    {
      "cell_type": "markdown",
      "source": [
        "Tokenizing the data in Doc2Vec style and adding tags using TaggedDocument class:"
      ],
      "metadata": {
        "id": "9xULcDiKB--E"
      }
    },
    {
      "cell_type": "code",
      "execution_count": null,
      "metadata": {
        "id": "oytWjuMpOgaI",
        "colab": {
          "base_uri": "https://localhost:8080/"
        },
        "outputId": "9bd198f4-0a7a-4ab4-e252-1de0b36f8895"
      },
      "outputs": [
        {
          "output_type": "execute_result",
          "data": {
            "text/plain": [
              "[TaggedDocument(words=['sugestão', 'rfa', 'com', 'todo', 'respeito', 'prefiro', 'não', 'retirá', 'ainda', 'embora', 'reconheça', 'que', 'certament', 'não', 'estou', 'nem', 'perto', 'bom', 'começo', 'gostaria', 'deixá', 'execução', 'por', 'pelo', 'meno', 'hora', 'para', 'nada', 'mai', 'atrair', 'uma', 'boa', 'quantidad', 'feedback', 'comunidad', 'agora', 'tornar', 'uma', 'situação', 'snow', 'estarei', 'mai', 'que', 'disposto', 'retirar', 'mai', 'cedo', 'ma', 'part', 'motivo', 'pelo', 'qual', 'estou', 'fazendo', 'isso', 'agora', 'reunir', 'algum', 'feedback', 'honesto', 'comunidad', 'sobr', 'ond', 'estou', 'ond', 'preciso', 'melhorar', 'não', 'aprovado', 'com', 'êxito', 'saudaçõ'], tags=[0]),\n",
              " TaggedDocument(words=['sui', 'sûr', 'que', 'est', 'pa', 'vrai'], tags=[0])]"
            ]
          },
          "metadata": {},
          "execution_count": 33
        }
      ],
      "source": [
        "labels = list(train_df['toxic'])\n",
        "tagged_data = [TaggedDocument(d, [labels[i]]) for i, d in enumerate(tokenized_comments)]\n",
        "tagged_data[:2]"
      ]
    },
    {
      "cell_type": "markdown",
      "source": [
        "Initialize the Doc2Vec model using previously tagged messages:"
      ],
      "metadata": {
        "id": "aN6yjgR3BLq1"
      }
    },
    {
      "cell_type": "code",
      "execution_count": null,
      "metadata": {
        "id": "1vz6ZsGXiW9Q",
        "colab": {
          "base_uri": "https://localhost:8080/",
          "height": 54
        },
        "outputId": "d0370d18-c5c4-42e6-fb17-8a6a11fc5060"
      },
      "outputs": [
        {
          "output_type": "execute_result",
          "data": {
            "text/plain": [
              "'\\nvector_size = Dimensionality of the feature vectors.\\nwindow = The maximum distance between the current and predicted word within a sentence.\\nmin_count = Ignores all words with total frequency lower than this.\\n'"
            ],
            "application/vnd.google.colaboratory.intrinsic+json": {
              "type": "string"
            }
          },
          "metadata": {},
          "execution_count": 38
        }
      ],
      "source": [
        "d2v_model = Doc2Vec(tagged_data, vector_size = 300, window = 2, min_count = 5, epochs = 100)\n",
        "\n",
        "'''\n",
        "vector_size = Dimensionality of the feature vectors.\n",
        "window = The maximum distance between the current and predicted word within a sentence.\n",
        "min_count = Ignores all words with total frequency lower than this.\n",
        "'''"
      ]
    },
    {
      "cell_type": "markdown",
      "source": [
        "Saving the model:"
      ],
      "metadata": {
        "id": "11fC7y0lBpRQ"
      }
    },
    {
      "cell_type": "code",
      "execution_count": null,
      "metadata": {
        "id": "6W4JrGhqrMNi"
      },
      "outputs": [],
      "source": [
        "filename = 'doc2vec_model.sav'"
      ]
    },
    {
      "cell_type": "code",
      "execution_count": null,
      "metadata": {
        "colab": {
          "base_uri": "https://localhost:8080/"
        },
        "id": "o5zZQuPZ68NZ",
        "outputId": "b82dc038-df81-41ae-db8a-454f241927c3"
      },
      "outputs": [
        {
          "output_type": "execute_result",
          "data": {
            "text/plain": [
              "gensim.models.doc2vec.Doc2Vec"
            ]
          },
          "metadata": {},
          "execution_count": 37
        }
      ],
      "source": [
        "d2v_model = load_sklearn_model(filename)\n",
        "type(d2v_model)"
      ]
    },
    {
      "cell_type": "code",
      "execution_count": null,
      "metadata": {
        "id": "8HlkvNzXrJeG"
      },
      "outputs": [],
      "source": [
        "if not os.path.exists(MODEL_PATH+filename):\n",
        "  save_sklearn_model(d2v_model, filename)"
      ]
    },
    {
      "cell_type": "code",
      "execution_count": null,
      "metadata": {
        "id": "fuvE997H68HC"
      },
      "outputs": [],
      "source": []
    },
    {
      "cell_type": "markdown",
      "source": [
        "Preparing validation data:"
      ],
      "metadata": {
        "id": "trEZdOePC5FT"
      }
    },
    {
      "cell_type": "code",
      "execution_count": null,
      "metadata": {
        "id": "xHVrS0BSw7C8"
      },
      "outputs": [],
      "source": [
        "val_comments = list(val_df['comment_text'])\n",
        "val_labels = list(val_df['toxic'])\n",
        "val_tokenized_comments = [tokenize(cmt) for cmt in val_comments]\n",
        "test_tagged = [TaggedDocument(d, [val_labels[i]]) for i, d in enumerate(val_tokenized_comments)]"
      ]
    },
    {
      "cell_type": "code",
      "execution_count": null,
      "metadata": {
        "colab": {
          "base_uri": "https://localhost:8080/"
        },
        "id": "D2jEpz5MM6Qw",
        "outputId": "a3df79e5-1e42-4355-8c6b-e3a060fe28e2"
      },
      "outputs": [
        {
          "output_type": "execute_result",
          "data": {
            "text/plain": [
              "[TaggedDocument(words=['sugestão', 'rfa', 'com', 'todo', 'respeito', 'prefiro', 'não', 'retirá', 'ainda', 'embora', 'reconheça', 'que', 'certament', 'não', 'estou', 'nem', 'perto', 'bom', 'começo', 'gostaria', 'deixá', 'execução', 'por', 'pelo', 'meno', 'hora', 'para', 'nada', 'mai', 'atrair', 'uma', 'boa', 'quantidad', 'feedback', 'comunidad', 'agora', 'tornar', 'uma', 'situação', 'snow', 'estarei', 'mai', 'que', 'disposto', 'retirar', 'mai', 'cedo', 'ma', 'part', 'motivo', 'pelo', 'qual', 'estou', 'fazendo', 'isso', 'agora', 'reunir', 'algum', 'feedback', 'honesto', 'comunidad', 'sobr', 'ond', 'estou', 'ond', 'preciso', 'melhorar', 'não', 'aprovado', 'com', 'êxito', 'saudaçõ'], tags=[0])]"
            ]
          },
          "metadata": {},
          "execution_count": 40
        }
      ],
      "source": [
        "tagged_data[:1]"
      ]
    },
    {
      "cell_type": "code",
      "execution_count": null,
      "metadata": {
        "id": "dj3XBMkLvhQv"
      },
      "outputs": [],
      "source": [
        "def vec_for_learning(model, tagged_docs):\n",
        "    targets, regressors = zip(*[(doc.tags[0], model.infer_vector(doc.words, )) for doc in tagged_docs])\n",
        "    return targets, regressors"
      ]
    },
    {
      "cell_type": "code",
      "execution_count": null,
      "metadata": {
        "id": "w35drRNRNHo1"
      },
      "outputs": [],
      "source": [
        "y_train, X_train = vec_for_learning(d2v_model, tagged_data[:100000])"
      ]
    },
    {
      "cell_type": "code",
      "execution_count": null,
      "metadata": {
        "colab": {
          "base_uri": "https://localhost:8080/"
        },
        "id": "XZ3PTBb_NNBK",
        "outputId": "41726eea-13e2-4655-8688-1c6f7e3e0b75"
      },
      "outputs": [
        {
          "data": {
            "text/plain": [
              "(0, 0, 0, 0, 0, 0, 0, 0, 0, 0)"
            ]
          },
          "execution_count": 90,
          "metadata": {},
          "output_type": "execute_result"
        }
      ],
      "source": [
        "y_train[:10]"
      ]
    },
    {
      "cell_type": "code",
      "execution_count": null,
      "metadata": {
        "colab": {
          "base_uri": "https://localhost:8080/"
        },
        "id": "LsFLoHNtT7eJ",
        "outputId": "e81f9de8-9ab6-4806-d0bd-78ba8b77ee9e"
      },
      "outputs": [
        {
          "data": {
            "text/plain": [
              "8000"
            ]
          },
          "execution_count": 91,
          "metadata": {},
          "output_type": "execute_result"
        }
      ],
      "source": [
        "len(test_tagged)"
      ]
    },
    {
      "cell_type": "markdown",
      "source": [
        "Train the LogReg model using Doc2Vec vectors:"
      ],
      "metadata": {
        "id": "tD3TTE3dD0ZT"
      }
    },
    {
      "cell_type": "code",
      "execution_count": null,
      "metadata": {
        "colab": {
          "base_uri": "https://localhost:8080/"
        },
        "id": "bzNaB2-cv5ba",
        "outputId": "e86ee9f6-7344-40a2-bcb3-8a5905ec4179"
      },
      "outputs": [
        {
          "output_type": "stream",
          "name": "stdout",
          "text": [
            "Validation accuracy 0.739\n",
            "Validation AUC score 0.7481820801959866\n"
          ]
        }
      ],
      "source": [
        "#y_train, X_train = vec_for_learning(d2v_model, tagged_data)\n",
        "y_test, X_test = vec_for_learning(d2v_model, test_tagged)\n",
        "logreg = LogisticRegression(penalty='l1', solver='liblinear', n_jobs=1, C=10)\n",
        "\n",
        "y_pred, y_probs = classifier_f(logreg, X_train, y_train, X_test)\n",
        "\n",
        "#logreg.fit(X_train, y_train)\n",
        "#y_pred = logreg.predict(X_test)\n",
        "from sklearn.metrics import accuracy_score, f1_score\n",
        "print('Validation accuracy %s' % accuracy_score(y_test, y_pred))\n",
        "print('Validation AUC score %s' % roc_auc_score(y_test, y_probs[:, 1]))"
      ]
    },
    {
      "cell_type": "markdown",
      "source": [
        "Again accuracy and AUC score of this method aren't good enought. Probably I need to finetune the model, or train it on more data (here I use just about 30% of the whole set in sake of speeding up the training process)."
      ],
      "metadata": {
        "id": "tcPPFq-wF2y0"
      }
    },
    {
      "cell_type": "code",
      "source": [
        "plot_labels = [0,1]\n",
        "plot_confusion_matrix(y_pred, y_test, plot_labels)"
      ],
      "metadata": {
        "colab": {
          "base_uri": "https://localhost:8080/",
          "height": 564
        },
        "id": "XackTJkCkwPq",
        "outputId": "d4d9e0c9-3274-41f1-ea86-a778cb9ef2dd"
      },
      "execution_count": null,
      "outputs": [
        {
          "output_type": "display_data",
          "data": {
            "text/plain": [
              "<Figure size 600x600 with 1 Axes>"
            ],
            "image/png": "[encoded data removed]"
          },
          "metadata": {}
        }
      ]
    },
    {
      "cell_type": "code",
      "execution_count": null,
      "metadata": {
        "colab": {
          "base_uri": "https://localhost:8080/"
        },
        "id": "vSVyVnq1aHyb",
        "outputId": "74c7420f-356f-4038-a336-ed26d96d99e5"
      },
      "outputs": [
        {
          "data": {
            "text/plain": [
              "(array([0, 0, 1, 0, 0, 0, 0, 0, 1, 0]), (0, 0, 1, 0, 0, 0, 0, 0, 0, 0))"
            ]
          },
          "execution_count": 101,
          "metadata": {},
          "output_type": "execute_result"
        }
      ],
      "source": [
        "y_pred[:10], y_test[:10]"
      ]
    },
    {
      "cell_type": "markdown",
      "metadata": {
        "id": "7bLuWTJthLN8"
      },
      "source": [
        "### Doc2Vec + XGBC"
      ]
    },
    {
      "cell_type": "markdown",
      "source": [
        "Below I am trying another classification algorithm (XGBoost Classifier) on the previously created Doc2Vec embeddings."
      ],
      "metadata": {
        "id": "RexV7u-YHUuW"
      }
    },
    {
      "cell_type": "code",
      "execution_count": null,
      "metadata": {
        "id": "zwtEDvWBejOy"
      },
      "outputs": [],
      "source": [
        "from xgboost import XGBClassifier"
      ]
    },
    {
      "cell_type": "code",
      "execution_count": null,
      "metadata": {
        "colab": {
          "base_uri": "https://localhost:8080/"
        },
        "id": "ytq_pFloeSam",
        "outputId": "36b1f53e-b808-47a2-bd7c-24aa4d528f77"
      },
      "outputs": [
        {
          "output_type": "stream",
          "name": "stdout",
          "text": [
            "Validation accuracy 0.856125\n",
            "Validation AUC score 0.7482968860707809\n"
          ]
        }
      ],
      "source": [
        "xgbc = XGBClassifier(eta=0.2, max_depth=17, n_estimators= 300, scale_pos_weight=101, subsample=0.9, colsample_bytree=0.6)\n",
        "y_pred, y_probs = classifier_f(xgbc, X_train, y_train, X_test)\n",
        "\n",
        "print('Validation accuracy %s' % accuracy_score(y_test, y_pred))\n",
        "print('Validation AUC score %s' % roc_auc_score(y_test, y_probs[:, 1]))"
      ]
    },
    {
      "cell_type": "code",
      "source": [
        "plot_labels = [0,1]\n",
        "plot_confusion_matrix(y_pred, y_test, plot_labels)"
      ],
      "metadata": {
        "colab": {
          "base_uri": "https://localhost:8080/",
          "height": 564
        },
        "id": "s-bkzh1zzp0N",
        "outputId": "b3d75304-0fb5-4f4c-a6eb-7750efccec46"
      },
      "execution_count": null,
      "outputs": [
        {
          "output_type": "display_data",
          "data": {
            "text/plain": [
              "<Figure size 600x600 with 1 Axes>"
            ],
            "image/png": "[encoded data removed]"
          },
          "metadata": {}
        }
      ]
    },
    {
      "cell_type": "markdown",
      "source": [
        "Even though we got better accuracy, recall for class 1 is quite low, hence AUC is low too."
      ],
      "metadata": {
        "id": "izl1MhXTz2ZB"
      }
    },
    {
      "cell_type": "markdown",
      "metadata": {
        "id": "OXTEhNOxl1Ao"
      },
      "source": [
        "#### XGBC fine tuning"
      ]
    },
    {
      "cell_type": "markdown",
      "source": [
        "Probably we can improve score by tuning hyperparameters? Let's try:"
      ],
      "metadata": {
        "id": "_fE4M2PMu-Hc"
      }
    },
    {
      "cell_type": "code",
      "execution_count": null,
      "metadata": {
        "id": "N66EQG-llvSY"
      },
      "outputs": [],
      "source": [
        "xgbc_model = XGBClassifier()\n",
        "\n",
        "xgbc_params = {\n",
        "    'eta':[0.1,0.2],\n",
        "    \"n_estimators\":[150,200,250,300],\n",
        "    \"max_depth\":[6,8,10,12,15],\n",
        "    'scale_pos_weight':[50, 100, 150]\n",
        "}"
      ]
    },
    {
      "cell_type": "code",
      "execution_count": null,
      "metadata": {
        "id": "MXszMrs1lvsG"
      },
      "outputs": [],
      "source": [
        "cv = StratifiedKFold(n_splits=3, shuffle=True, random_state=42)\n",
        "xgbc_random_search = RandomizedSearchCV(xgbc_model, xgbc_params, n_jobs=-1, verbose=1,\n",
        "                                   scoring=['roc_auc'],\n",
        "                                   cv=cv, n_iter=5, refit='roc_auc')"
      ]
    },
    {
      "cell_type": "code",
      "execution_count": null,
      "metadata": {
        "id": "GUa5mBW1lvsH",
        "colab": {
          "base_uri": "https://localhost:8080/",
          "height": 172
        },
        "outputId": "9139c3d1-d5bf-46e1-ac6e-b92221a82b8c"
      },
      "outputs": [
        {
          "output_type": "stream",
          "name": "stdout",
          "text": [
            "Fitting 3 folds for each of 5 candidates, totalling 15 fits\n",
            "CPU times: user 53min 20s, sys: 9.48 s, total: 53min 30s\n",
            "Wall time: 3h 30min 25s\n"
          ]
        },
        {
          "output_type": "execute_result",
          "data": {
            "text/plain": [
              "RandomizedSearchCV(cv=StratifiedKFold(n_splits=3, random_state=42, shuffle=True),\n",
              "                   estimator=XGBClassifier(base_score=None, booster=None,\n",
              "                                           callbacks=None,\n",
              "                                           colsample_bylevel=None,\n",
              "                                           colsample_bynode=None,\n",
              "                                           colsample_bytree=None,\n",
              "                                           early_stopping_rounds=None,\n",
              "                                           enable_categorical=False,\n",
              "                                           eval_metric=None, feature_types=None,\n",
              "                                           gamma=None, gpu_id=None,\n",
              "                                           grow_policy=None,\n",
              "                                           importan...\n",
              "                                           max_leaves=None,\n",
              "                                           min_child_weight=None, missing=nan,\n",
              "                                           monotone_constraints=None,\n",
              "                                           n_estimators=100, n_jobs=None,\n",
              "                                           num_parallel_tree=None,\n",
              "                                           predictor=None, random_state=None, ...),\n",
              "                   n_iter=5, n_jobs=-1,\n",
              "                   param_distributions={'eta': [0.1, 0.2],\n",
              "                                        'max_depth': [6, 8, 10, 12, 15],\n",
              "                                        'n_estimators': [150, 200, 250, 300],\n",
              "                                        'scale_pos_weight': [50, 100, 150]},\n",
              "                   refit='roc_auc', scoring=['roc_auc'], verbose=1)"
            ],
            "text/html": [
              "<style>#sk-container-id-1 {color: black;background-color: white;}#sk-container-id-1 pre{padding: 0;}#sk-container-id-1 div.sk-toggleable {background-color: white;}#sk-container-id-1 label.sk-toggleable__label {cursor: pointer;display: block;width: 100%;margin-bottom: 0;padding: 0.3em;box-sizing: border-box;text-align: center;}#sk-container-id-1 label.sk-toggleable__label-arrow:before {content: \"▸\";float: left;margin-right: 0.25em;color: #696969;}#sk-container-id-1 label.sk-toggleable__label-arrow:hover:before {color: black;}#sk-container-id-1 div.sk-estimator:hover label.sk-toggleable__label-arrow:before {color: black;}#sk-container-id-1 div.sk-toggleable__content {max-height: 0;max-width: 0;overflow: hidden;text-align: left;background-color: #f0f8ff;}#sk-container-id-1 div.sk-toggleable__content pre {margin: 0.2em;color: black;border-radius: 0.25em;background-color: #f0f8ff;}#sk-container-id-1 input.sk-toggleable__control:checked~div.sk-toggleable__content {max-height: 200px;max-width: 100%;overflow: auto;}#sk-container-id-1 input.sk-toggleable__control:checked~label.sk-toggleable__label-arrow:before {content: \"▾\";}#sk-container-id-1 div.sk-estimator input.sk-toggleable__control:checked~label.sk-toggleable__label {background-color: #d4ebff;}#sk-container-id-1 div.sk-label input.sk-toggleable__control:checked~label.sk-toggleable__label {background-color: #d4ebff;}#sk-container-id-1 input.sk-hidden--visually {border: 0;clip: rect(1px 1px 1px 1px);clip: rect(1px, 1px, 1px, 1px);height: 1px;margin: -1px;overflow: hidden;padding: 0;position: absolute;width: 1px;}#sk-container-id-1 div.sk-estimator {font-family: monospace;background-color: #f0f8ff;border: 1px dotted black;border-radius: 0.25em;box-sizing: border-box;margin-bottom: 0.5em;}#sk-container-id-1 div.sk-estimator:hover {background-color: #d4ebff;}#sk-container-id-1 div.sk-parallel-item::after {content: \"\";width: 100%;border-bottom: 1px solid gray;flex-grow: 1;}#sk-container-id-1 div.sk-label:hover label.sk-toggleable__label {background-color: #d4ebff;}#sk-container-id-1 div.sk-serial::before {content: \"\";position: absolute;border-left: 1px solid gray;box-sizing: border-box;top: 0;bottom: 0;left: 50%;z-index: 0;}#sk-container-id-1 div.sk-serial {display: flex;flex-direction: column;align-items: center;background-color: white;padding-right: 0.2em;padding-left: 0.2em;position: relative;}#sk-container-id-1 div.sk-item {position: relative;z-index: 1;}#sk-container-id-1 div.sk-parallel {display: flex;align-items: stretch;justify-content: center;background-color: white;position: relative;}#sk-container-id-1 div.sk-item::before, #sk-container-id-1 div.sk-parallel-item::before {content: \"\";position: absolute;border-left: 1px solid gray;box-sizing: border-box;top: 0;bottom: 0;left: 50%;z-index: -1;}#sk-container-id-1 div.sk-parallel-item {display: flex;flex-direction: column;z-index: 1;position: relative;background-color: white;}#sk-container-id-1 div.sk-parallel-item:first-child::after {align-self: flex-end;width: 50%;}#sk-container-id-1 div.sk-parallel-item:last-child::after {align-self: flex-start;width: 50%;}#sk-container-id-1 div.sk-parallel-item:only-child::after {width: 0;}#sk-container-id-1 div.sk-dashed-wrapped {border: 1px dashed gray;margin: 0 0.4em 0.5em 0.4em;box-sizing: border-box;padding-bottom: 0.4em;background-color: white;}#sk-container-id-1 div.sk-label label {font-family: monospace;font-weight: bold;display: inline-block;line-height: 1.2em;}#sk-container-id-1 div.sk-label-container {text-align: center;}#sk-container-id-1 div.sk-container {/* jupyter's `normalize.less` sets `[hidden] { display: none; }` but bootstrap.min.css set `[hidden] { display: none !important; }` so we also need the `!important` here to be able to override the default hidden behavior on the sphinx rendered scikit-learn.org. See: https://github.com/scikit-learn/scikit-learn/issues/21755 */display: inline-block !important;position: relative;}#sk-container-id-1 div.sk-text-repr-fallback {display: none;}</style><div id=\"sk-container-id-1\" class=\"sk-top-container\"><div class=\"sk-text-repr-fallback\"><pre>RandomizedSearchCV(cv=StratifiedKFold(n_splits=3, random_state=42, shuffle=True),\n",
              "                   estimator=XGBClassifier(base_score=None, booster=None,\n",
              "                                           callbacks=None,\n",
              "                                           colsample_bylevel=None,\n",
              "                                           colsample_bynode=None,\n",
              "                                           colsample_bytree=None,\n",
              "                                           early_stopping_rounds=None,\n",
              "                                           enable_categorical=False,\n",
              "                                           eval_metric=None, feature_types=None,\n",
              "                                           gamma=None, gpu_id=None,\n",
              "                                           grow_policy=None,\n",
              "                                           importan...\n",
              "                                           max_leaves=None,\n",
              "                                           min_child_weight=None, missing=nan,\n",
              "                                           monotone_constraints=None,\n",
              "                                           n_estimators=100, n_jobs=None,\n",
              "                                           num_parallel_tree=None,\n",
              "                                           predictor=None, random_state=None, ...),\n",
              "                   n_iter=5, n_jobs=-1,\n",
              "                   param_distributions={&#x27;eta&#x27;: [0.1, 0.2],\n",
              "                                        &#x27;max_depth&#x27;: [6, 8, 10, 12, 15],\n",
              "                                        &#x27;n_estimators&#x27;: [150, 200, 250, 300],\n",
              "                                        &#x27;scale_pos_weight&#x27;: [50, 100, 150]},\n",
              "                   refit=&#x27;roc_auc&#x27;, scoring=[&#x27;roc_auc&#x27;], verbose=1)</pre><b>In a Jupyter environment, please rerun this cell to show the HTML representation or trust the notebook. <br />On GitHub, the HTML representation is unable to render, please try loading this page with nbviewer.org.</b></div><div class=\"sk-container\" hidden><div class=\"sk-item sk-dashed-wrapped\"><div class=\"sk-label-container\"><div class=\"sk-label sk-toggleable\"><input class=\"sk-toggleable__control sk-hidden--visually\" id=\"sk-estimator-id-1\" type=\"checkbox\" ><label for=\"sk-estimator-id-1\" class=\"sk-toggleable__label sk-toggleable__label-arrow\">RandomizedSearchCV</label><div class=\"sk-toggleable__content\"><pre>RandomizedSearchCV(cv=StratifiedKFold(n_splits=3, random_state=42, shuffle=True),\n",
              "                   estimator=XGBClassifier(base_score=None, booster=None,\n",
              "                                           callbacks=None,\n",
              "                                           colsample_bylevel=None,\n",
              "                                           colsample_bynode=None,\n",
              "                                           colsample_bytree=None,\n",
              "                                           early_stopping_rounds=None,\n",
              "                                           enable_categorical=False,\n",
              "                                           eval_metric=None, feature_types=None,\n",
              "                                           gamma=None, gpu_id=None,\n",
              "                                           grow_policy=None,\n",
              "                                           importan...\n",
              "                                           max_leaves=None,\n",
              "                                           min_child_weight=None, missing=nan,\n",
              "                                           monotone_constraints=None,\n",
              "                                           n_estimators=100, n_jobs=None,\n",
              "                                           num_parallel_tree=None,\n",
              "                                           predictor=None, random_state=None, ...),\n",
              "                   n_iter=5, n_jobs=-1,\n",
              "                   param_distributions={&#x27;eta&#x27;: [0.1, 0.2],\n",
              "                                        &#x27;max_depth&#x27;: [6, 8, 10, 12, 15],\n",
              "                                        &#x27;n_estimators&#x27;: [150, 200, 250, 300],\n",
              "                                        &#x27;scale_pos_weight&#x27;: [50, 100, 150]},\n",
              "                   refit=&#x27;roc_auc&#x27;, scoring=[&#x27;roc_auc&#x27;], verbose=1)</pre></div></div></div><div class=\"sk-parallel\"><div class=\"sk-parallel-item\"><div class=\"sk-item\"><div class=\"sk-label-container\"><div class=\"sk-label sk-toggleable\"><input class=\"sk-toggleable__control sk-hidden--visually\" id=\"sk-estimator-id-2\" type=\"checkbox\" ><label for=\"sk-estimator-id-2\" class=\"sk-toggleable__label sk-toggleable__label-arrow\">estimator: XGBClassifier</label><div class=\"sk-toggleable__content\"><pre>XGBClassifier(base_score=None, booster=None, callbacks=None,\n",
              "              colsample_bylevel=None, colsample_bynode=None,\n",
              "              colsample_bytree=None, early_stopping_rounds=None,\n",
              "              enable_categorical=False, eval_metric=None, feature_types=None,\n",
              "              gamma=None, gpu_id=None, grow_policy=None, importance_type=None,\n",
              "              interaction_constraints=None, learning_rate=None, max_bin=None,\n",
              "              max_cat_threshold=None, max_cat_to_onehot=None,\n",
              "              max_delta_step=None, max_depth=None, max_leaves=None,\n",
              "              min_child_weight=None, missing=nan, monotone_constraints=None,\n",
              "              n_estimators=100, n_jobs=None, num_parallel_tree=None,\n",
              "              predictor=None, random_state=None, ...)</pre></div></div></div><div class=\"sk-serial\"><div class=\"sk-item\"><div class=\"sk-estimator sk-toggleable\"><input class=\"sk-toggleable__control sk-hidden--visually\" id=\"sk-estimator-id-3\" type=\"checkbox\" ><label for=\"sk-estimator-id-3\" class=\"sk-toggleable__label sk-toggleable__label-arrow\">XGBClassifier</label><div class=\"sk-toggleable__content\"><pre>XGBClassifier(base_score=None, booster=None, callbacks=None,\n",
              "              colsample_bylevel=None, colsample_bynode=None,\n",
              "              colsample_bytree=None, early_stopping_rounds=None,\n",
              "              enable_categorical=False, eval_metric=None, feature_types=None,\n",
              "              gamma=None, gpu_id=None, grow_policy=None, importance_type=None,\n",
              "              interaction_constraints=None, learning_rate=None, max_bin=None,\n",
              "              max_cat_threshold=None, max_cat_to_onehot=None,\n",
              "              max_delta_step=None, max_depth=None, max_leaves=None,\n",
              "              min_child_weight=None, missing=nan, monotone_constraints=None,\n",
              "              n_estimators=100, n_jobs=None, num_parallel_tree=None,\n",
              "              predictor=None, random_state=None, ...)</pre></div></div></div></div></div></div></div></div></div></div>"
            ]
          },
          "metadata": {},
          "execution_count": 53
        }
      ],
      "source": [
        "%%time\n",
        "\n",
        "xgbc_random_search.fit(X_train, y_train);"
      ]
    },
    {
      "cell_type": "code",
      "execution_count": null,
      "metadata": {
        "id": "h4uaxslpn0MB"
      },
      "outputs": [],
      "source": [
        "filename = 'toxicity_d2v_xgbc.sav'"
      ]
    },
    {
      "cell_type": "code",
      "execution_count": null,
      "metadata": {
        "id": "VTmmRn1uoEX6"
      },
      "outputs": [],
      "source": [
        "if not os.path.exists(MODEL_PATH+filename):\n",
        "  save_sklearn_model(xgbc_random_search.best_estimator_, filename)"
      ]
    },
    {
      "cell_type": "code",
      "execution_count": null,
      "metadata": {
        "id": "3Dh0lWCGnR0U"
      },
      "outputs": [],
      "source": [
        "rs_name = 'xgbc_random_search'\n",
        "if rs_name in locals() or rs_name in globals():\n",
        "  xgbc_best = xgbc_random_search.best_estimator_\n",
        "else:\n",
        "  xgbc_best = load_sklearn_model(filename)\n",
        "  type(xgbc_best)"
      ]
    },
    {
      "cell_type": "code",
      "execution_count": null,
      "metadata": {
        "id": "rt5GnYM5nIqF",
        "colab": {
          "base_uri": "https://localhost:8080/"
        },
        "outputId": "82d74b44-9096-4880-bc1b-1e4cff322f3f"
      },
      "outputs": [
        {
          "output_type": "stream",
          "name": "stdout",
          "text": [
            "Validation AUC score 0.7469253401544356\n"
          ]
        }
      ],
      "source": [
        "y_test_proba = xgbc_best.predict_proba(X_test)\n",
        "\n",
        "print('Validation AUC score %s' % roc_auc_score(y_test, y_test_proba[:, 1]))"
      ]
    },
    {
      "cell_type": "code",
      "execution_count": null,
      "metadata": {
        "id": "Dg4d756wOnKY"
      },
      "outputs": [],
      "source": []
    },
    {
      "cell_type": "markdown",
      "metadata": {
        "id": "5qIcZFJSOaTd"
      },
      "source": [
        "###DistilBERT + LogReg"
      ]
    },
    {
      "cell_type": "markdown",
      "source": [
        "At the next step I am going to use pretrained DistilBERT model in order to get contextual embeddings and then use these embeddings as inputs to the classificator (LogReg)."
      ],
      "metadata": {
        "id": "6KVh1KDpw2c3"
      }
    },
    {
      "cell_type": "markdown",
      "source": [
        "First we need to install transformers library:"
      ],
      "metadata": {
        "id": "Ndh-vDUMxl7X"
      }
    },
    {
      "cell_type": "code",
      "execution_count": null,
      "metadata": {
        "id": "teNZzDcGpx7M",
        "colab": {
          "base_uri": "https://localhost:8080/"
        },
        "outputId": "d6ca8ccd-aee2-4210-c122-1be3490beb7f"
      },
      "outputs": [
        {
          "output_type": "stream",
          "name": "stdout",
          "text": [
            "Looking in indexes: https://pypi.org/simple, https://us-python.pkg.dev/colab-wheels/public/simple/\n",
            "Collecting transformers\n",
            "  Downloading transformers-4.30.2-py3-none-any.whl (7.2 MB)\n",
            "\u001b[2K     \u001b[90m━━━━━━━━━━━━━━━━━━━━━━━━━━━━━━━━━━━━━━━━\u001b[0m \u001b[32m7.2/7.2 MB\u001b[0m \u001b[31m54.2 MB/s\u001b[0m eta \u001b[36m0:00:00\u001b[0m\n",
            "\u001b[?25hRequirement already satisfied: filelock in /usr/local/lib/python3.10/dist-packages (from transformers) (3.12.0)\n",
            "Collecting huggingface-hub<1.0,>=0.14.1 (from transformers)\n",
            "  Downloading huggingface_hub-0.15.1-py3-none-any.whl (236 kB)\n",
            "\u001b[2K     \u001b[90m━━━━━━━━━━━━━━━━━━━━━━━━━━━━━━━━━━━━━━\u001b[0m \u001b[32m236.8/236.8 kB\u001b[0m \u001b[31m29.3 MB/s\u001b[0m eta \u001b[36m0:00:00\u001b[0m\n",
            "\u001b[?25hRequirement already satisfied: numpy>=1.17 in /usr/local/lib/python3.10/dist-packages (from transformers) (1.22.4)\n",
            "Requirement already satisfied: packaging>=20.0 in /usr/local/lib/python3.10/dist-packages (from transformers) (23.1)\n",
            "Requirement already satisfied: pyyaml>=5.1 in /usr/local/lib/python3.10/dist-packages (from transformers) (6.0)\n",
            "Requirement already satisfied: regex!=2019.12.17 in /usr/local/lib/python3.10/dist-packages (from transformers) (2022.10.31)\n",
            "Requirement already satisfied: requests in /usr/local/lib/python3.10/dist-packages (from transformers) (2.27.1)\n",
            "Collecting tokenizers!=0.11.3,<0.14,>=0.11.1 (from transformers)\n",
            "  Downloading tokenizers-0.13.3-cp310-cp310-manylinux_2_17_x86_64.manylinux2014_x86_64.whl (7.8 MB)\n",
            "\u001b[2K     \u001b[90m━━━━━━━━━━━━━━━━━━━━━━━━━━━━━━━━━━━━━━━━\u001b[0m \u001b[32m7.8/7.8 MB\u001b[0m \u001b[31m108.3 MB/s\u001b[0m eta \u001b[36m0:00:00\u001b[0m\n",
            "\u001b[?25hCollecting safetensors>=0.3.1 (from transformers)\n",
            "  Downloading safetensors-0.3.1-cp310-cp310-manylinux_2_17_x86_64.manylinux2014_x86_64.whl (1.3 MB)\n",
            "\u001b[2K     \u001b[90m━━━━━━━━━━━━━━━━━━━━━━━━━━━━━━━━━━━━━━━━\u001b[0m \u001b[32m1.3/1.3 MB\u001b[0m \u001b[31m79.9 MB/s\u001b[0m eta \u001b[36m0:00:00\u001b[0m\n",
            "\u001b[?25hRequirement already satisfied: tqdm>=4.27 in /usr/local/lib/python3.10/dist-packages (from transformers) (4.65.0)\n",
            "Requirement already satisfied: fsspec in /usr/local/lib/python3.10/dist-packages (from huggingface-hub<1.0,>=0.14.1->transformers) (2023.4.0)\n",
            "Requirement already satisfied: typing-extensions>=3.7.4.3 in /usr/local/lib/python3.10/dist-packages (from huggingface-hub<1.0,>=0.14.1->transformers) (4.5.0)\n",
            "Requirement already satisfied: urllib3<1.27,>=1.21.1 in /usr/local/lib/python3.10/dist-packages (from requests->transformers) (1.26.15)\n",
            "Requirement already satisfied: certifi>=2017.4.17 in /usr/local/lib/python3.10/dist-packages (from requests->transformers) (2022.12.7)\n",
            "Requirement already satisfied: charset-normalizer~=2.0.0 in /usr/local/lib/python3.10/dist-packages (from requests->transformers) (2.0.12)\n",
            "Requirement already satisfied: idna<4,>=2.5 in /usr/local/lib/python3.10/dist-packages (from requests->transformers) (3.4)\n",
            "Installing collected packages: tokenizers, safetensors, huggingface-hub, transformers\n",
            "Successfully installed huggingface-hub-0.15.1 safetensors-0.3.1 tokenizers-0.13.3 transformers-4.30.2\n"
          ]
        }
      ],
      "source": [
        "! pip install -U transformers"
      ]
    },
    {
      "cell_type": "code",
      "source": [
        "! pip install nlpaug"
      ],
      "metadata": {
        "colab": {
          "base_uri": "https://localhost:8080/"
        },
        "id": "OwYYmc59JcBJ",
        "outputId": "750f57a8-4bc8-4436-fb95-a356f26dadc4"
      },
      "execution_count": null,
      "outputs": [
        {
          "output_type": "stream",
          "name": "stdout",
          "text": [
            "Looking in indexes: https://pypi.org/simple, https://us-python.pkg.dev/colab-wheels/public/simple/\n",
            "Collecting nlpaug\n",
            "  Downloading nlpaug-1.1.11-py3-none-any.whl (410 kB)\n",
            "\u001b[2K     \u001b[90m━━━━━━━━━━━━━━━━━━━━━━━━━━━━━━━━━━━━━━━\u001b[0m \u001b[32m410.5/410.5 kB\u001b[0m \u001b[31m7.5 MB/s\u001b[0m eta \u001b[36m0:00:00\u001b[0m\n",
            "\u001b[?25hRequirement already satisfied: numpy>=1.16.2 in /usr/local/lib/python3.10/dist-packages (from nlpaug) (1.22.4)\n",
            "Requirement already satisfied: pandas>=1.2.0 in /usr/local/lib/python3.10/dist-packages (from nlpaug) (1.5.3)\n",
            "Requirement already satisfied: requests>=2.22.0 in /usr/local/lib/python3.10/dist-packages (from nlpaug) (2.27.1)\n",
            "Requirement already satisfied: gdown>=4.0.0 in /usr/local/lib/python3.10/dist-packages (from nlpaug) (4.6.6)\n",
            "Requirement already satisfied: filelock in /usr/local/lib/python3.10/dist-packages (from gdown>=4.0.0->nlpaug) (3.12.0)\n",
            "Requirement already satisfied: six in /usr/local/lib/python3.10/dist-packages (from gdown>=4.0.0->nlpaug) (1.16.0)\n",
            "Requirement already satisfied: tqdm in /usr/local/lib/python3.10/dist-packages (from gdown>=4.0.0->nlpaug) (4.65.0)\n",
            "Requirement already satisfied: beautifulsoup4 in /usr/local/lib/python3.10/dist-packages (from gdown>=4.0.0->nlpaug) (4.11.2)\n",
            "Requirement already satisfied: python-dateutil>=2.8.1 in /usr/local/lib/python3.10/dist-packages (from pandas>=1.2.0->nlpaug) (2.8.2)\n",
            "Requirement already satisfied: pytz>=2020.1 in /usr/local/lib/python3.10/dist-packages (from pandas>=1.2.0->nlpaug) (2022.7.1)\n",
            "Requirement already satisfied: urllib3<1.27,>=1.21.1 in /usr/local/lib/python3.10/dist-packages (from requests>=2.22.0->nlpaug) (1.26.15)\n",
            "Requirement already satisfied: certifi>=2017.4.17 in /usr/local/lib/python3.10/dist-packages (from requests>=2.22.0->nlpaug) (2022.12.7)\n",
            "Requirement already satisfied: charset-normalizer~=2.0.0 in /usr/local/lib/python3.10/dist-packages (from requests>=2.22.0->nlpaug) (2.0.12)\n",
            "Requirement already satisfied: idna<4,>=2.5 in /usr/local/lib/python3.10/dist-packages (from requests>=2.22.0->nlpaug) (3.4)\n",
            "Requirement already satisfied: soupsieve>1.2 in /usr/local/lib/python3.10/dist-packages (from beautifulsoup4->gdown>=4.0.0->nlpaug) (2.4.1)\n",
            "Requirement already satisfied: PySocks!=1.5.7,>=1.5.6 in /usr/local/lib/python3.10/dist-packages (from requests>=2.22.0->nlpaug) (1.7.1)\n",
            "Installing collected packages: nlpaug\n",
            "Successfully installed nlpaug-1.1.11\n"
          ]
        }
      ]
    },
    {
      "cell_type": "code",
      "execution_count": null,
      "metadata": {
        "id": "JXgvd6ltOhH4"
      },
      "outputs": [],
      "source": [
        "import torch\n",
        "import transformers as ppb\n",
        "from sklearn.model_selection import cross_val_score\n",
        "from torch.utils.data import TensorDataset, random_split, DataLoader, Dataset"
      ]
    },
    {
      "cell_type": "markdown",
      "metadata": {
        "id": "ENwsPOKxt-69"
      },
      "source": [
        "For performance reasons, we'll only use 2,000 sentences from the dataset"
      ]
    },
    {
      "cell_type": "code",
      "execution_count": null,
      "metadata": {
        "id": "maVZuLDNt-7j",
        "colab": {
          "base_uri": "https://localhost:8080/"
        },
        "outputId": "6a2bd84a-db17-4b8e-cbba-c5286fc4755f"
      },
      "outputs": [
        {
          "output_type": "execute_result",
          "data": {
            "text/plain": [
              "0    9019\n",
              "1     981\n",
              "Name: toxic, dtype: int64"
            ]
          },
          "metadata": {},
          "execution_count": 34
        }
      ],
      "source": [
        "batch_1 = train_df[:10000]\n",
        "batch_1['toxic'].value_counts()"
      ]
    },
    {
      "cell_type": "markdown",
      "source": [
        "In order to make the dataset more balanced I use an augmenter from nlpaug library which oversample the minority class to some extent:"
      ],
      "metadata": {
        "id": "PIvlWL23xvdH"
      }
    },
    {
      "cell_type": "code",
      "source": [
        "import nlpaug.augmenter.word as nlpaw\n",
        "\n",
        "\n",
        "def augment_sentence(sentence, aug, num_threads):\n",
        "    \"\"\"\"\"\"\"\"\"\n",
        "    Constructs a new sentence via text augmentation.\n",
        "\n",
        "    Input:\n",
        "        - sentence:     A string of text\n",
        "        - aug:          An augmentation object defined by the nlpaug library\n",
        "        - num_threads:  Integer controlling the number of threads to use if\n",
        "                        augmenting text via CPU\n",
        "    Output:\n",
        "        - A string of text that been augmented\n",
        "    \"\"\"\"\"\"\"\"\"\n",
        "    return aug.augment(sentence, num_thread=num_threads)\n",
        "\n",
        "\n",
        "\n",
        "def augment_text(df, aug, num_threads, num_times):\n",
        "    \"\"\"\"\"\"\"\"\"\n",
        "    Takes a pandas DataFrame and augments its text data.\n",
        "\n",
        "    Input:\n",
        "        - df:            A pandas DataFrame containing the columns:\n",
        "                                - 'comment_text' containing strings of text to augment.\n",
        "                                - 'isToxic' binary target variable containing 0's and 1's.\n",
        "        - aug:           Augmentation object defined by the nlpaug library.\n",
        "        - num_threads:   Integer controlling number of threads to use if augmenting\n",
        "                         text via CPU\n",
        "        - num_times:     Integer representing the number of times to augment text.\n",
        "    Output:\n",
        "        - df:            Copy of the same pandas DataFrame with augmented data\n",
        "                         appended to it and with rows randomly shuffled.\n",
        "    \"\"\"\"\"\"\"\"\"\n",
        "\n",
        "    # Get rows of data to augment\n",
        "    to_augment = df[df['toxic']==1]\n",
        "    to_augmentX = to_augment['comment_text']\n",
        "    to_augmentY = np.ones(len(to_augmentX.index) * num_times, dtype=np.int8)\n",
        "\n",
        "    # Build up dictionary containing augmented data\n",
        "    aug_dict = {'comment_text':[], 'toxic':to_augmentY}\n",
        "    for i in tqdm(range(num_times)):\n",
        "        augX = [augment_sentence(x, aug, num_threads) for x in to_augmentX]\n",
        "        aug_dict['comment_text'].extend(augX)\n",
        "\n",
        "    # Build DataFrame containing augmented data\n",
        "    aug_df = pd.DataFrame.from_dict(aug_dict)\n",
        "\n",
        "    return df.append(aug_df, ignore_index=True).sample(frac=1, random_state=42)\n",
        "\n",
        "\n",
        "\n",
        "# Define nlpaug augmentation object\n",
        "aug10p = nlpaw.ContextualWordEmbsAug(model_path='bert-base-multilingual-cased', aug_min=1, aug_p=0.1, action=\"substitute\")\n",
        "\n",
        "# Upsample minority class ('isToxic' == 1) to create a roughly 50-50 class distribution\n",
        "balanced_df = augment_text(batch_1, aug10p, num_threads=8, num_times=3)"
      ],
      "metadata": {
        "colab": {
          "base_uri": "https://localhost:8080/",
          "height": 209,
          "referenced_widgets": [
            "30c5b83d3805428c9e0afc051683a8e4",
            "dd7c56f21b8345e6bc276eca6124a6d1",
            "890e70ad53e84c27994ea502905e01ca",
            "f3d4a6cfbded44db92c816832c0f95da",
            "53a3f73e7bf64ce3aac808fc3d28b1d2",
            "5cd91eca511e44648050c1c4874d2864",
            "e3f33a5109de43a6b783fe2fde86daec",
            "5d578aae91ce43899f77d26672c99b26",
            "c761a9c3cdf444d3841faffb25af6aa7",
            "93271143fbd0416786acc9ee92a81cf5",
            "395041451f634c30aa87e0755316418f",
            "2abfed8115554b90a9aadd8f95f878b1",
            "52bf1bc23eea4ce299c12411eb640963",
            "5e4e4be62e1e4daa9f87d75d06903f67",
            "26bf6a8abf2a4581b78a4fd41c1f6d51",
            "ce27984724dd4dfeabad15b7036346dd",
            "e0082132bb444ddd94971650e686638f",
            "30d75376007748ce99b0df7055e9661c",
            "83dbfcbf831b473c8b0ba89aeef899f1",
            "68a7f49174714b31aca1cd52ea0ce00c",
            "d3699e15db5d4f12880fddd33933ee39",
            "2e7d99bbd10a429a9d8299f3ee93768d",
            "e8c7a507c6e443d8936f561925720ac7",
            "9a191ba13ff347468fa26ddbcb312f01",
            "628f1a9f95664737a4c6b4eb3d175aa8",
            "9fee2a8d6fa6472f9ab452ab08702d3e",
            "9b199c443e5842f7ac9665981037fde8",
            "bb68dec766454e4a9bc16f3f87b73f25",
            "7c2395bcc3d44ce89475696e267a157a",
            "7fce263dcee948f880109da8a47503e5",
            "8e0946e9076b4b67ba5efa2e2e6cb442",
            "2afb4407480a43b0a92ddabacdc41bfd",
            "49e76bad82ba456b9666be409ccaa225",
            "cd8219c357c74bbbb1715e81c2193169",
            "994e591d85ea4e9cb93a8b30beba24b8",
            "3512c9da10be4342a3b2927465e142a0",
            "bec4e82c66be4117b7b3687c9e1c914f",
            "dfe9bc5245dd4ac38efd160caa148934",
            "2b87d7abe1144bfaa274ff5c773537d0",
            "e42d600998df437f8ba8e0b0e4d88cd0",
            "d1616fc137e841ee8f8c51ffb95582b7",
            "d2d1f135cf084e2d95587993d064744f",
            "24f9e7b76cdb4ff09d642bb8281383ac",
            "64c51a37bc9d4f73b391fde7133914bc",
            "1685cf3963e44fe79b7e90a97baec07b",
            "b4c1f87d5e6c443b8a104e732aacd1b4",
            "2d89d9d661e64ab69f9e8ffa1fbf6c9a",
            "0c880d0af51940239e3697e3b6b7511f",
            "d2e0122f1ae648aca441e02285b99b31",
            "1bcaba246bd44e748a3e4e92b716a427",
            "7a0dab4cee354faca3594d56c615c7a0",
            "ab298dd7980c46ce8373c20eee38a5e8",
            "325c275198964e35a7969f5d8cbf9a72",
            "c0b3a7061e68422eb57ece931e010214",
            "d0348d930a46470ca72bcc40a3c9b851",
            "d3a04aa570904a2d9dcf799cd86b53e1",
            "7cddda8b5b5f48c2a216a8ae27a00294",
            "05967a1ed4424b36a7f417a029f047f3",
            "fea9e283c0aa43c889a06e5ef012f621",
            "39934d7a9aa344d6a4dd6b53698fdb8d",
            "3100d2ebfb7449268bb72b0b3cc73e64",
            "19db77a2c9bb43c7bad257379f57ba9e",
            "a182f6fa8eb64d4aa501f2f818851562",
            "63b6dae6a2814609883a77461f3fc551",
            "7aebb2dff2cc453fa1bf7ac237b66222",
            "12b1d100980f47f6b8bda4a76897274a"
          ]
        },
        "id": "uB4J5T7HItH7",
        "outputId": "03d88e3c-5323-4f2b-9d4e-f63beb046c0b"
      },
      "execution_count": null,
      "outputs": [
        {
          "output_type": "display_data",
          "data": {
            "text/plain": [
              "Downloading (…)okenizer_config.json:   0%|          | 0.00/29.0 [00:00<?, ?B/s]"
            ],
            "application/vnd.jupyter.widget-view+json": {
              "version_major": 2,
              "version_minor": 0,
              "model_id": "30c5b83d3805428c9e0afc051683a8e4"
            }
          },
          "metadata": {}
        },
        {
          "output_type": "display_data",
          "data": {
            "text/plain": [
              "Downloading (…)lve/main/config.json:   0%|          | 0.00/625 [00:00<?, ?B/s]"
            ],
            "application/vnd.jupyter.widget-view+json": {
              "version_major": 2,
              "version_minor": 0,
              "model_id": "2abfed8115554b90a9aadd8f95f878b1"
            }
          },
          "metadata": {}
        },
        {
          "output_type": "display_data",
          "data": {
            "text/plain": [
              "Downloading (…)solve/main/vocab.txt:   0%|          | 0.00/996k [00:00<?, ?B/s]"
            ],
            "application/vnd.jupyter.widget-view+json": {
              "version_major": 2,
              "version_minor": 0,
              "model_id": "e8c7a507c6e443d8936f561925720ac7"
            }
          },
          "metadata": {}
        },
        {
          "output_type": "display_data",
          "data": {
            "text/plain": [
              "Downloading (…)/main/tokenizer.json:   0%|          | 0.00/1.96M [00:00<?, ?B/s]"
            ],
            "application/vnd.jupyter.widget-view+json": {
              "version_major": 2,
              "version_minor": 0,
              "model_id": "cd8219c357c74bbbb1715e81c2193169"
            }
          },
          "metadata": {}
        },
        {
          "output_type": "display_data",
          "data": {
            "text/plain": [
              "Downloading model.safetensors:   0%|          | 0.00/714M [00:00<?, ?B/s]"
            ],
            "application/vnd.jupyter.widget-view+json": {
              "version_major": 2,
              "version_minor": 0,
              "model_id": "1685cf3963e44fe79b7e90a97baec07b"
            }
          },
          "metadata": {}
        },
        {
          "output_type": "display_data",
          "data": {
            "text/plain": [
              "  0%|          | 0/3 [00:00<?, ?it/s]"
            ],
            "application/vnd.jupyter.widget-view+json": {
              "version_major": 2,
              "version_minor": 0,
              "model_id": "d3a04aa570904a2d9dcf799cd86b53e1"
            }
          },
          "metadata": {}
        }
      ]
    },
    {
      "cell_type": "markdown",
      "source": [
        "Clean new syntetic lines:"
      ],
      "metadata": {
        "id": "9rc3gZL_ykiy"
      }
    },
    {
      "cell_type": "code",
      "source": [
        "balanced_df[\"comment_text\"] = balanced_df[\"comment_text\"].apply(clean_text)"
      ],
      "metadata": {
        "id": "7RwK4i0ga2-f"
      },
      "execution_count": null,
      "outputs": []
    },
    {
      "cell_type": "code",
      "source": [
        "balanced_df.toxic.value_counts()"
      ],
      "metadata": {
        "colab": {
          "base_uri": "https://localhost:8080/"
        },
        "id": "KJRxDG8SaW0W",
        "outputId": "e4b042a4-90b9-429e-cebd-ad2441ac3672"
      },
      "execution_count": null,
      "outputs": [
        {
          "output_type": "execute_result",
          "data": {
            "text/plain": [
              "0    9019\n",
              "1    3924\n",
              "Name: toxic, dtype: int64"
            ]
          },
          "metadata": {},
          "execution_count": 40
        }
      ]
    },
    {
      "cell_type": "markdown",
      "source": [
        "After oversampling we have 1:2 proportion between classes. This is much better than initial 1:10."
      ],
      "metadata": {
        "id": "U1zt3Jd6yqFm"
      }
    },
    {
      "cell_type": "markdown",
      "source": [
        "Saveing balanced dataset to disk:"
      ],
      "metadata": {
        "id": "lCZ_HfCtzLiI"
      }
    },
    {
      "cell_type": "code",
      "source": [
        "file_name = FILE_PATH + 'balanced_dataset_13000.csv'"
      ],
      "metadata": {
        "id": "OkSsUAsLcMWn"
      },
      "execution_count": null,
      "outputs": []
    },
    {
      "cell_type": "code",
      "source": [
        "balanced_df.to_csv(file_name, sep='\\t')"
      ],
      "metadata": {
        "id": "7ImZ5MnOcMWn"
      },
      "execution_count": null,
      "outputs": []
    },
    {
      "cell_type": "markdown",
      "source": [
        "Loading balanced dataset:"
      ],
      "metadata": {
        "id": "QXQCla2Pn9U1"
      }
    },
    {
      "cell_type": "code",
      "source": [
        "balanced_df = pd.read_csv(file_name, sep='\\t', usecols=needed_cols)"
      ],
      "metadata": {
        "id": "l3i_PkIhn9C3"
      },
      "execution_count": null,
      "outputs": []
    },
    {
      "cell_type": "code",
      "source": [
        "balanced_df=balanced_df.dropna(axis=0)\n",
        "balanced_df.shape"
      ],
      "metadata": {
        "colab": {
          "base_uri": "https://localhost:8080/"
        },
        "id": "fi6PZkNRojLs",
        "outputId": "0f4fea0b-9a30-4f0e-ffa1-5d1a4f8c0b83"
      },
      "execution_count": null,
      "outputs": [
        {
          "output_type": "execute_result",
          "data": {
            "text/plain": [
              "(12929, 2)"
            ]
          },
          "metadata": {},
          "execution_count": 42
        }
      ]
    },
    {
      "cell_type": "code",
      "source": [
        "balanced_df.head()"
      ],
      "metadata": {
        "colab": {
          "base_uri": "https://localhost:8080/",
          "height": 206
        },
        "id": "jXigIsO2otUm",
        "outputId": "776e9d7c-3a35-433e-d65a-29c8c274cdaa"
      },
      "execution_count": null,
      "outputs": [
        {
          "output_type": "execute_result",
          "data": {
            "text/plain": [
              "                                        comment_text  toxic\n",
              "0                                               peni      1\n",
              "1  fair foutr pouvez dire raison valabl pour votr...      1\n",
              "2  suck differ reason let english dai ago slept b...      1\n",
              "3                                           agr word      0\n",
              "4  etiketi kaldırdım neden ekledin temsil edildiğ...      0"
            ],
            "text/html": [
              "\n",
              "  <div id=\"df-944729fa-e291-4bd2-9a05-525a5c017fe1\">\n",
              "    <div class=\"colab-df-container\">\n",
              "      <div>\n",
              "<style scoped>\n",
              "    .dataframe tbody tr th:only-of-type {\n",
              "        vertical-align: middle;\n",
              "    }\n",
              "\n",
              "    .dataframe tbody tr th {\n",
              "        vertical-align: top;\n",
              "    }\n",
              "\n",
              "    .dataframe thead th {\n",
              "        text-align: right;\n",
              "    }\n",
              "</style>\n",
              "<table border=\"1\" class=\"dataframe\">\n",
              "  <thead>\n",
              "    <tr style=\"text-align: right;\">\n",
              "      <th></th>\n",
              "      <th>comment_text</th>\n",
              "      <th>toxic</th>\n",
              "    </tr>\n",
              "  </thead>\n",
              "  <tbody>\n",
              "    <tr>\n",
              "      <th>0</th>\n",
              "      <td>peni</td>\n",
              "      <td>1</td>\n",
              "    </tr>\n",
              "    <tr>\n",
              "      <th>1</th>\n",
              "      <td>fair foutr pouvez dire raison valabl pour votr...</td>\n",
              "      <td>1</td>\n",
              "    </tr>\n",
              "    <tr>\n",
              "      <th>2</th>\n",
              "      <td>suck differ reason let english dai ago slept b...</td>\n",
              "      <td>1</td>\n",
              "    </tr>\n",
              "    <tr>\n",
              "      <th>3</th>\n",
              "      <td>agr word</td>\n",
              "      <td>0</td>\n",
              "    </tr>\n",
              "    <tr>\n",
              "      <th>4</th>\n",
              "      <td>etiketi kaldırdım neden ekledin temsil edildiğ...</td>\n",
              "      <td>0</td>\n",
              "    </tr>\n",
              "  </tbody>\n",
              "</table>\n",
              "</div>\n",
              "      <button class=\"colab-df-convert\" onclick=\"convertToInteractive('df-944729fa-e291-4bd2-9a05-525a5c017fe1')\"\n",
              "              title=\"Convert this dataframe to an interactive table.\"\n",
              "              style=\"display:none;\">\n",
              "        \n",
              "  <svg xmlns=\"http://www.w3.org/2000/svg\" height=\"24px\"viewBox=\"0 0 24 24\"\n",
              "       width=\"24px\">\n",
              "    <path d=\"M0 0h24v24H0V0z\" fill=\"none\"/>\n",
              "    <path d=\"M18.56 5.44l.94 2.06.94-2.06 2.06-.94-2.06-.94-.94-2.06-.94 2.06-2.06.94zm-11 1L8.5 8.5l.94-2.06 2.06-.94-2.06-.94L8.5 2.5l-.94 2.06-2.06.94zm10 10l.94 2.06.94-2.06 2.06-.94-2.06-.94-.94-2.06-.94 2.06-2.06.94z\"/><path d=\"M17.41 7.96l-1.37-1.37c-.4-.4-.92-.59-1.43-.59-.52 0-1.04.2-1.43.59L10.3 9.45l-7.72 7.72c-.78.78-.78 2.05 0 2.83L4 21.41c.39.39.9.59 1.41.59.51 0 1.02-.2 1.41-.59l7.78-7.78 2.81-2.81c.8-.78.8-2.07 0-2.86zM5.41 20L4 18.59l7.72-7.72 1.47 1.35L5.41 20z\"/>\n",
              "  </svg>\n",
              "      </button>\n",
              "      \n",
              "  <style>\n",
              "    .colab-df-container {\n",
              "      display:flex;\n",
              "      flex-wrap:wrap;\n",
              "      gap: 12px;\n",
              "    }\n",
              "\n",
              "    .colab-df-convert {\n",
              "      background-color: #E8F0FE;\n",
              "      border: none;\n",
              "      border-radius: 50%;\n",
              "      cursor: pointer;\n",
              "      display: none;\n",
              "      fill: #1967D2;\n",
              "      height: 32px;\n",
              "      padding: 0 0 0 0;\n",
              "      width: 32px;\n",
              "    }\n",
              "\n",
              "    .colab-df-convert:hover {\n",
              "      background-color: #E2EBFA;\n",
              "      box-shadow: 0px 1px 2px rgba(60, 64, 67, 0.3), 0px 1px 3px 1px rgba(60, 64, 67, 0.15);\n",
              "      fill: #174EA6;\n",
              "    }\n",
              "\n",
              "    [theme=dark] .colab-df-convert {\n",
              "      background-color: #3B4455;\n",
              "      fill: #D2E3FC;\n",
              "    }\n",
              "\n",
              "    [theme=dark] .colab-df-convert:hover {\n",
              "      background-color: #434B5C;\n",
              "      box-shadow: 0px 1px 3px 1px rgba(0, 0, 0, 0.15);\n",
              "      filter: drop-shadow(0px 1px 2px rgba(0, 0, 0, 0.3));\n",
              "      fill: #FFFFFF;\n",
              "    }\n",
              "  </style>\n",
              "\n",
              "      <script>\n",
              "        const buttonEl =\n",
              "          document.querySelector('#df-944729fa-e291-4bd2-9a05-525a5c017fe1 button.colab-df-convert');\n",
              "        buttonEl.style.display =\n",
              "          google.colab.kernel.accessAllowed ? 'block' : 'none';\n",
              "\n",
              "        async function convertToInteractive(key) {\n",
              "          const element = document.querySelector('#df-944729fa-e291-4bd2-9a05-525a5c017fe1');\n",
              "          const dataTable =\n",
              "            await google.colab.kernel.invokeFunction('convertToInteractive',\n",
              "                                                     [key], {});\n",
              "          if (!dataTable) return;\n",
              "\n",
              "          const docLinkHtml = 'Like what you see? Visit the ' +\n",
              "            '<a target=\"_blank\" href=https://colab.research.google.com/notebooks/data_table.ipynb>data table notebook</a>'\n",
              "            + ' to learn more about interactive tables.';\n",
              "          element.innerHTML = '';\n",
              "          dataTable['output_type'] = 'display_data';\n",
              "          await google.colab.output.renderOutput(dataTable, element);\n",
              "          const docLink = document.createElement('div');\n",
              "          docLink.innerHTML = docLinkHtml;\n",
              "          element.appendChild(docLink);\n",
              "        }\n",
              "      </script>\n",
              "    </div>\n",
              "  </div>\n",
              "  "
            ]
          },
          "metadata": {},
          "execution_count": 43
        }
      ]
    },
    {
      "cell_type": "markdown",
      "source": [
        "sss"
      ],
      "metadata": {
        "id": "0xzqIOl4cN3C"
      }
    },
    {
      "cell_type": "markdown",
      "source": [
        "Importing pre-trained DistilBERT model and tokenizer:"
      ],
      "metadata": {
        "id": "ooxn5FrxzSvX"
      }
    },
    {
      "cell_type": "code",
      "execution_count": null,
      "metadata": {
        "id": "iUoM_Zb1p4ah"
      },
      "outputs": [],
      "source": [
        "model_class, tokenizer_class, pretrained_weights = (ppb.DistilBertModel, ppb.DistilBertTokenizer, 'distilbert-base-multilingual-cased')"
      ]
    },
    {
      "cell_type": "markdown",
      "source": [
        "Instantiating the DistilBERT model and tokenizer:"
      ],
      "metadata": {
        "id": "uWu7l9th0aeh"
      }
    },
    {
      "cell_type": "code",
      "execution_count": null,
      "metadata": {
        "id": "U2SJWlFbqDWT",
        "colab": {
          "base_uri": "https://localhost:8080/"
        },
        "outputId": "9d47114d-396a-4ab0-9ee7-22b9e2769430"
      },
      "outputs": [
        {
          "output_type": "stream",
          "name": "stderr",
          "text": [
            "Some weights of the model checkpoint at distilbert-base-multilingual-cased were not used when initializing DistilBertModel: ['vocab_layer_norm.weight', 'vocab_transform.bias', 'vocab_layer_norm.bias', 'vocab_projector.bias', 'vocab_transform.weight']\n",
            "- This IS expected if you are initializing DistilBertModel from the checkpoint of a model trained on another task or with another architecture (e.g. initializing a BertForSequenceClassification model from a BertForPreTraining model).\n",
            "- This IS NOT expected if you are initializing DistilBertModel from the checkpoint of a model that you expect to be exactly identical (initializing a BertForSequenceClassification model from a BertForSequenceClassification model).\n"
          ]
        }
      ],
      "source": [
        "# Load pretrained model/tokenizer\n",
        "tokenizer = tokenizer_class.from_pretrained(pretrained_weights)\n",
        "db_model = model_class.from_pretrained(pretrained_weights)"
      ]
    },
    {
      "cell_type": "markdown",
      "source": [
        "Experiments with tokenizer:"
      ],
      "metadata": {
        "id": "bTW2YfvcoQGG"
      }
    },
    {
      "cell_type": "code",
      "source": [
        "encoded_text = tokenizer('Tokenizing text is a core task in NLP')\n",
        "encoded_text"
      ],
      "metadata": {
        "colab": {
          "base_uri": "https://localhost:8080/"
        },
        "id": "tM-xD1P67fuM",
        "outputId": "80fe28b1-f560-42d9-aadc-5be001ef2959"
      },
      "execution_count": null,
      "outputs": [
        {
          "output_type": "execute_result",
          "data": {
            "text/plain": [
              "{'input_ids': [101, 11469, 11062, 39949, 15541, 10124, 169, 27362, 37758, 10106, 81130, 11127, 102], 'attention_mask': [1, 1, 1, 1, 1, 1, 1, 1, 1, 1, 1, 1, 1]}"
            ]
          },
          "metadata": {},
          "execution_count": 83
        }
      ]
    },
    {
      "cell_type": "code",
      "source": [
        "tokens = tokenizer.convert_ids_to_tokens(encoded_text.input_ids)\n",
        "tokens"
      ],
      "metadata": {
        "colab": {
          "base_uri": "https://localhost:8080/"
        },
        "id": "_fROWUCj82wi",
        "outputId": "2ac41d40-37ba-4d8a-e3c0-4c38d689ee08"
      },
      "execution_count": null,
      "outputs": [
        {
          "output_type": "execute_result",
          "data": {
            "text/plain": [
              "['[CLS]',\n",
              " 'To',\n",
              " '##ken',\n",
              " '##izing',\n",
              " 'text',\n",
              " 'is',\n",
              " 'a',\n",
              " 'core',\n",
              " 'task',\n",
              " 'in',\n",
              " 'NL',\n",
              " '##P',\n",
              " '[SEP]']"
            ]
          },
          "metadata": {},
          "execution_count": 84
        }
      ]
    },
    {
      "cell_type": "code",
      "source": [
        "print('The vocabulary size is:', tokenizer.vocab_size)"
      ],
      "metadata": {
        "colab": {
          "base_uri": "https://localhost:8080/"
        },
        "id": "tGHqy4TK9NEx",
        "outputId": "55e6c996-5a4e-4412-fd80-2aa20d6e3aa6"
      },
      "execution_count": null,
      "outputs": [
        {
          "output_type": "stream",
          "name": "stdout",
          "text": [
            "The vocabulary size is: 119547\n"
          ]
        }
      ]
    },
    {
      "cell_type": "code",
      "source": [
        "text = \"this is a test\"\n",
        "sample_inputs = tokenizer(text, return_tensors=\"pt\")\n",
        "print(f\"Input tensor shape: {sample_inputs['input_ids'].size()}\\n\"\n",
        "      f\"Tokenized text: {tokenizer.convert_ids_to_tokens(sample_inputs['input_ids'][0])}\")"
      ],
      "metadata": {
        "colab": {
          "base_uri": "https://localhost:8080/"
        },
        "id": "8xANLMLH9t4-",
        "outputId": "152ae917-e2d3-4334-b6b1-e39e34400806"
      },
      "execution_count": null,
      "outputs": [
        {
          "output_type": "stream",
          "name": "stdout",
          "text": [
            "Input tensor shape: torch.Size([1, 6])\n",
            "Tokenized text: ['[CLS]', 'this', 'is', 'a', 'test', '[SEP]']\n"
          ]
        }
      ]
    },
    {
      "cell_type": "code",
      "source": [
        "inputs = {k:v.to(device) for k,v in sample_inputs.items()}\n",
        "\n",
        "with torch.no_grad():\n",
        "    outputs = db_model(**inputs)\n",
        "    print(outputs)"
      ],
      "metadata": {
        "colab": {
          "base_uri": "https://localhost:8080/"
        },
        "id": "-9L5M1LZ9tls",
        "outputId": "82ebcef4-a119-4c45-fd75-4bd206368ff3"
      },
      "execution_count": null,
      "outputs": [
        {
          "output_type": "stream",
          "name": "stdout",
          "text": [
            "BaseModelOutput(last_hidden_state=tensor([[[ 0.0529, -0.0609,  0.2082,  ...,  0.4475,  0.1659,  0.0650],\n",
            "         [-0.1337, -0.4254,  0.3473,  ...,  0.4505,  0.0802,  0.0201],\n",
            "         [-0.2687, -0.2589,  0.4270,  ...,  0.6192,  0.1775,  0.2215],\n",
            "         [ 0.1024, -0.2293,  0.3213,  ...,  0.6366,  0.4073, -0.1296],\n",
            "         [-0.1434, -0.1328,  0.2595,  ...,  0.6412,  0.2903,  0.2461],\n",
            "         [ 0.1074, -0.1401,  0.3499,  ...,  0.4223,  0.1235,  0.1860]]],\n",
            "       device='cuda:0'), hidden_states=None, attentions=None)\n"
          ]
        }
      ]
    },
    {
      "cell_type": "markdown",
      "source": [
        "Sending the model to GPU (if available):"
      ],
      "metadata": {
        "id": "PSWRFVouyTKj"
      }
    },
    {
      "cell_type": "code",
      "source": [
        "db_model.to(device)"
      ],
      "metadata": {
        "colab": {
          "base_uri": "https://localhost:8080/"
        },
        "id": "5pM-LzcxWElE",
        "outputId": "30f151b5-cc9a-4ffb-a0db-fa08f6f2d4ce"
      },
      "execution_count": null,
      "outputs": [
        {
          "output_type": "execute_result",
          "data": {
            "text/plain": [
              "DistilBertModel(\n",
              "  (embeddings): Embeddings(\n",
              "    (word_embeddings): Embedding(119547, 768, padding_idx=0)\n",
              "    (position_embeddings): Embedding(512, 768)\n",
              "    (LayerNorm): LayerNorm((768,), eps=1e-12, elementwise_affine=True)\n",
              "    (dropout): Dropout(p=0.1, inplace=False)\n",
              "  )\n",
              "  (transformer): Transformer(\n",
              "    (layer): ModuleList(\n",
              "      (0-5): 6 x TransformerBlock(\n",
              "        (attention): MultiHeadSelfAttention(\n",
              "          (dropout): Dropout(p=0.1, inplace=False)\n",
              "          (q_lin): Linear(in_features=768, out_features=768, bias=True)\n",
              "          (k_lin): Linear(in_features=768, out_features=768, bias=True)\n",
              "          (v_lin): Linear(in_features=768, out_features=768, bias=True)\n",
              "          (out_lin): Linear(in_features=768, out_features=768, bias=True)\n",
              "        )\n",
              "        (sa_layer_norm): LayerNorm((768,), eps=1e-12, elementwise_affine=True)\n",
              "        (ffn): FFN(\n",
              "          (dropout): Dropout(p=0.1, inplace=False)\n",
              "          (lin1): Linear(in_features=768, out_features=3072, bias=True)\n",
              "          (lin2): Linear(in_features=3072, out_features=768, bias=True)\n",
              "          (activation): GELUActivation()\n",
              "        )\n",
              "        (output_layer_norm): LayerNorm((768,), eps=1e-12, elementwise_affine=True)\n",
              "      )\n",
              "    )\n",
              "  )\n",
              ")"
            ]
          },
          "metadata": {},
          "execution_count": 44
        }
      ]
    },
    {
      "cell_type": "markdown",
      "source": [
        "Tokenizing the whole dataset:"
      ],
      "metadata": {
        "id": "q5tsleM60zOr"
      }
    },
    {
      "cell_type": "code",
      "source": [
        "tokenized = balanced_df['comment_text'].apply((lambda x: tokenizer.encode(x, add_special_tokens=True, truncation=True)))"
      ],
      "metadata": {
        "id": "h0gB5e1PS2FZ"
      },
      "execution_count": null,
      "outputs": []
    },
    {
      "cell_type": "markdown",
      "source": [
        "And defining labels:"
      ],
      "metadata": {
        "id": "ZkY5W8ys03LK"
      }
    },
    {
      "cell_type": "code",
      "source": [
        "labels = balanced_df['toxic']"
      ],
      "metadata": {
        "id": "jAVE8F9eTQR3"
      },
      "execution_count": null,
      "outputs": []
    },
    {
      "cell_type": "code",
      "source": [
        "tokenized.shape, labels.shape"
      ],
      "metadata": {
        "colab": {
          "base_uri": "https://localhost:8080/"
        },
        "id": "3evDk1Sm-Iqm",
        "outputId": "200f5a70-9edb-419a-b69c-742636aa19f6"
      },
      "execution_count": null,
      "outputs": [
        {
          "output_type": "execute_result",
          "data": {
            "text/plain": [
              "((12929,), (12929,))"
            ]
          },
          "metadata": {},
          "execution_count": 48
        }
      ]
    },
    {
      "cell_type": "code",
      "execution_count": null,
      "metadata": {
        "id": "URn-DWJt5xhP"
      },
      "outputs": [],
      "source": [
        "max_len = 0\n",
        "for i in tokenized.values:\n",
        "    if len(i) > max_len:\n",
        "        max_len = len(i)\n",
        "\n",
        "padded = np.array([i + [0]*(max_len-len(i)) for i in tokenized.values])"
      ]
    },
    {
      "cell_type": "code",
      "execution_count": null,
      "metadata": {
        "colab": {
          "base_uri": "https://localhost:8080/"
        },
        "id": "jdi7uXo95xeq",
        "outputId": "b5a70b07-fa5e-4d43-8182-544263f908ef"
      },
      "outputs": [
        {
          "output_type": "execute_result",
          "data": {
            "text/plain": [
              "(12929, 512)"
            ]
          },
          "metadata": {},
          "execution_count": 50
        }
      ],
      "source": [
        "padded.shape"
      ]
    },
    {
      "cell_type": "markdown",
      "metadata": {
        "id": "sDZBsYSDjzDV"
      },
      "source": [
        "**Masking** <br>\n",
        "If we directly send `padded` to BERT, that would slightly confuse it. We need to create another variable to tell it to ignore (mask) the padding we've added when it's processing its input. That's what attention_mask is:"
      ]
    },
    {
      "cell_type": "code",
      "execution_count": null,
      "metadata": {
        "colab": {
          "base_uri": "https://localhost:8080/"
        },
        "id": "4K_iGRNa_Ozc",
        "outputId": "d52aa0f4-eb41-447d-9804-c602977f4628"
      },
      "outputs": [
        {
          "output_type": "execute_result",
          "data": {
            "text/plain": [
              "(12929, 512)"
            ]
          },
          "metadata": {},
          "execution_count": 51
        }
      ],
      "source": [
        "attention_mask = np.where(padded != 0, 1, 0)\n",
        "attention_mask.shape"
      ]
    },
    {
      "cell_type": "code",
      "source": [
        "del tokenized; gc.collect()"
      ],
      "metadata": {
        "colab": {
          "base_uri": "https://localhost:8080/"
        },
        "id": "vFwHNAJrVq0J",
        "outputId": "4d4adf42-47db-4600-acdb-c992ba6fd828"
      },
      "execution_count": null,
      "outputs": [
        {
          "output_type": "execute_result",
          "data": {
            "text/plain": [
              "0"
            ]
          },
          "metadata": {},
          "execution_count": 52
        }
      ]
    },
    {
      "cell_type": "markdown",
      "source": [
        "#### Defining Dataset and Dataloader:"
      ],
      "metadata": {
        "id": "lFYlfqyAPwkC"
      }
    },
    {
      "cell_type": "markdown",
      "source": [
        "With the corpus work out of the way, we now proceed to prepare our data for analysis in PyTorch. The code below creates a TensorDataset comprised of our features, attention masks, and our labels. It then proceeds to spit the data sets into train and validation sets."
      ],
      "metadata": {
        "id": "EYVCRPCeVsUK"
      }
    },
    {
      "cell_type": "code",
      "source": [
        "# prepare tensor data sets\n",
        "def prepare_dataset(padded_tokens, attention_masks, target):\n",
        "    # prepare target into np array\n",
        "    target = np.array(target.values, dtype=np.int64).reshape(-1, 1)\n",
        "    # create tensor data sets\n",
        "    tensor_df = TensorDataset(torch.from_numpy(padded_tokens), torch.from_numpy(attention_masks), torch.from_numpy(target))\n",
        "\n",
        "    return tensor_df"
      ],
      "metadata": {
        "id": "cOVfcqDlP1bI"
      },
      "execution_count": null,
      "outputs": []
    },
    {
      "cell_type": "code",
      "source": [
        "train_dataset = prepare_dataset(padded, attention_mask, labels)"
      ],
      "metadata": {
        "id": "zm9ld7uUQqKD"
      },
      "execution_count": null,
      "outputs": []
    },
    {
      "cell_type": "markdown",
      "source": [
        "Since my corpus is imbalanced, I produce weighted samplers to help balance the distribution of data as it is fed outside of my data loaders."
      ],
      "metadata": {
        "id": "Pjt_4a9DVqeB"
      }
    },
    {
      "cell_type": "code",
      "source": [
        "# helper function to count target distribution inside tensor data sets\n",
        "def target_count(tensor_dataset):\n",
        "    # set empty count containers\n",
        "    count0 = 0\n",
        "    count1 = 0\n",
        "    # set total container to turn into torch tensor\n",
        "    total = []\n",
        "    # for every item in the tensor data set\n",
        "    for i in tensor_dataset:\n",
        "        # if the target is equal to 0\n",
        "        if i[2].item() == 0:\n",
        "            count0 += 1\n",
        "        # if the target is equal to 1\n",
        "        elif i[2].item() == 1:\n",
        "            count1 += 1\n",
        "    total.append(count0)\n",
        "    total.append(count1)\n",
        "    return torch.tensor(total)\n",
        "\n",
        "\n",
        "# prepare weighted sampling for imbalanced classification\n",
        "def create_sampler(target_tensor, tensor_dataset):\n",
        "    # generate class distributions [x, y]\n",
        "    class_sample_count = target_count(tensor_dataset)\n",
        "    # weight\n",
        "    weight = 1. / class_sample_count.float()\n",
        "    # produce weights for each observation in the data set\n",
        "    samples_weight = torch.tensor([weight[t[2]] for t in tensor_dataset])\n",
        "    # prepare sampler\n",
        "    sampler = torch.utils.data.WeightedRandomSampler(weights=samples_weight,\n",
        "                                                     num_samples=len(samples_weight),\n",
        "                                                     replacement=True)\n",
        "    return sampler\n",
        "\n",
        "\n",
        "# create samplers for just training\n",
        "train_sampler = create_sampler(target_count(train_dataset), train_dataset)"
      ],
      "metadata": {
        "id": "i2YWlaStVgIB"
      },
      "execution_count": null,
      "outputs": []
    },
    {
      "cell_type": "markdown",
      "source": [
        "Actually sampler doesn't give much improvement so in later versions I stopped using it."
      ],
      "metadata": {
        "id": "YSXsR4VH1Wax"
      }
    },
    {
      "cell_type": "code",
      "source": [],
      "metadata": {
        "id": "Z3OkQ85YTnh9"
      },
      "execution_count": null,
      "outputs": []
    },
    {
      "cell_type": "code",
      "source": [
        "# create DataLoader\n",
        "train_dataloader = DataLoader(train_dataset,\n",
        "                              batch_size=8,\n",
        "                              shuffle=False)\n",
        "\n",
        "#sampler=train_sampler,"
      ],
      "metadata": {
        "id": "sVHS9__EVgrQ"
      },
      "execution_count": null,
      "outputs": []
    },
    {
      "cell_type": "markdown",
      "source": [
        "Let's see how the output of Dataloader looks like:"
      ],
      "metadata": {
        "id": "oDvhFTgb1qSF"
      }
    },
    {
      "cell_type": "code",
      "source": [
        "next(iter(train_dataloader))"
      ],
      "metadata": {
        "colab": {
          "base_uri": "https://localhost:8080/"
        },
        "id": "XNcvLO81Vgoo",
        "outputId": "8a199ae0-4a83-486f-cb05-865d567f8157"
      },
      "execution_count": null,
      "outputs": [
        {
          "output_type": "execute_result",
          "data": {
            "text/plain": [
              "[tensor([[   101,  66558,  10116,  ...,      0,      0,      0],\n",
              "         [   101,  45122,  12688,  ...,      0,      0,      0],\n",
              "         [   101,  10198,  11263,  ...,      0,      0,      0],\n",
              "         ...,\n",
              "         [   101,  24542, 107602,  ...,      0,      0,      0],\n",
              "         [   101,  17339,  58495,  ...,      0,      0,      0],\n",
              "         [   101,  13868,  99038,  ...,      0,      0,      0]]),\n",
              " tensor([[1, 1, 1,  ..., 0, 0, 0],\n",
              "         [1, 1, 1,  ..., 0, 0, 0],\n",
              "         [1, 1, 1,  ..., 0, 0, 0],\n",
              "         ...,\n",
              "         [1, 1, 1,  ..., 0, 0, 0],\n",
              "         [1, 1, 1,  ..., 0, 0, 0],\n",
              "         [1, 1, 1,  ..., 0, 0, 0]]),\n",
              " tensor([[1],\n",
              "         [1],\n",
              "         [1],\n",
              "         [0],\n",
              "         [0],\n",
              "         [1],\n",
              "         [0],\n",
              "         [1]])]"
            ]
          },
          "metadata": {},
          "execution_count": 59
        }
      ]
    },
    {
      "cell_type": "markdown",
      "source": [
        "We can see three blocks of data: the first is tokenized sentences - every one of them starts and ends with special tokens <CLS> = 101 and <SEP> = 102, and padded to the maximum length with zeroes."
      ],
      "metadata": {
        "id": "lNowT6Xh11y0"
      }
    },
    {
      "cell_type": "code",
      "source": [
        "def extract_hidden_states(batch):\n",
        "    b_input_ids = batch[0].to(device)\n",
        "    b_input_mask = batch[1].to(device)\n",
        "    with torch.inference_mode():\n",
        "        last_hidden_state = db_model(b_input_ids, b_input_mask).last_hidden_state\n",
        "\n",
        "    return last_hidden_state[:, 0].cpu()"
      ],
      "metadata": {
        "id": "lD9h-LRAGhi-"
      },
      "execution_count": null,
      "outputs": []
    },
    {
      "cell_type": "markdown",
      "source": [
        "We now create an input tensor out of the padded token matrix, and send that to DistilBERT:"
      ],
      "metadata": {
        "id": "ntTzgdXh2352"
      }
    },
    {
      "cell_type": "code",
      "source": [
        "%%time\n",
        "last_hidden_states=[]\n",
        "\n",
        "for batch in train_dataloader:\n",
        "  last_hs = extract_hidden_states(batch)\n",
        "\n",
        "  last_hidden_states.extend(last_hs)\n",
        "  del last_hs; gc.collect()"
      ],
      "metadata": {
        "id": "ewWZX4nNPbpM",
        "colab": {
          "base_uri": "https://localhost:8080/"
        },
        "outputId": "8fd85912-11a8-4399-a902-b9b2426366ff"
      },
      "execution_count": null,
      "outputs": [
        {
          "output_type": "stream",
          "name": "stdout",
          "text": [
            "CPU times: user 10min 52s, sys: 1.81 s, total: 10min 53s\n",
            "Wall time: 10min 50s\n"
          ]
        }
      ]
    },
    {
      "cell_type": "markdown",
      "source": [
        "After running this step, last_hidden_states holds the outputs of DistilBERT. It is a tuple with the shape (number of examples, max number of tokens in the sequence, number of hidden units in the DistilBERT model). We put to the output tensor only states related with the first token in every sentece (<CLS)>. It will be our embedding for the whole sentence (comment). So in our case output matrix will be 2d and will have following shape: (number of examples, number of hidden units in the DistilBERT model)."
      ],
      "metadata": {
        "id": "wCrJqOcQRcxp"
      }
    },
    {
      "cell_type": "code",
      "source": [
        "lhs_tensor = torch.stack(last_hidden_states)\n",
        "lhs_tensor.shape"
      ],
      "metadata": {
        "colab": {
          "base_uri": "https://localhost:8080/"
        },
        "id": "UgKQs3X_I7X_",
        "outputId": "d6ddb21d-317c-4455-d967-c46d78cf894a"
      },
      "execution_count": null,
      "outputs": [
        {
          "output_type": "execute_result",
          "data": {
            "text/plain": [
              "torch.Size([12943, 768])"
            ]
          },
          "metadata": {},
          "execution_count": 71
        }
      ]
    },
    {
      "cell_type": "code",
      "source": [
        "del last_hidden_states; gc.collect()"
      ],
      "metadata": {
        "colab": {
          "base_uri": "https://localhost:8080/"
        },
        "id": "kZ2s8FgqTcLc",
        "outputId": "e351ec9e-bceb-4ba6-8559-8260d6b504a0"
      },
      "execution_count": null,
      "outputs": [
        {
          "output_type": "execute_result",
          "data": {
            "text/plain": [
              "0"
            ]
          },
          "metadata": {},
          "execution_count": 73
        }
      ]
    },
    {
      "cell_type": "code",
      "execution_count": null,
      "metadata": {
        "id": "QtfmESNMsqa6",
        "colab": {
          "base_uri": "https://localhost:8080/"
        },
        "outputId": "f69dde5b-1253-44a4-b728-66543534aaac"
      },
      "outputs": [
        {
          "output_type": "execute_result",
          "data": {
            "text/plain": [
              "torch.Size([12943, 768])"
            ]
          },
          "metadata": {},
          "execution_count": 74
        }
      ],
      "source": [
        "features = lhs_tensor\n",
        "features.shape"
      ]
    },
    {
      "cell_type": "code",
      "source": [
        "np_features=features.numpy()\n",
        "np_features.shape, labels.shape"
      ],
      "metadata": {
        "colab": {
          "base_uri": "https://localhost:8080/"
        },
        "id": "Xpx0q6Fv_q63",
        "outputId": "61850b97-1c0f-42fd-8dad-92df8ef7cd24"
      },
      "execution_count": null,
      "outputs": [
        {
          "output_type": "execute_result",
          "data": {
            "text/plain": [
              "((12943, 768), (12943,))"
            ]
          },
          "metadata": {},
          "execution_count": 75
        }
      ]
    },
    {
      "cell_type": "markdown",
      "source": [
        "Doing train-test split out of features (sentence vectors) we got from DistilBERT:"
      ],
      "metadata": {
        "id": "58xN_w5w4sQT"
      }
    },
    {
      "cell_type": "code",
      "execution_count": null,
      "metadata": {
        "id": "gFs19NfLv1Hv"
      },
      "outputs": [],
      "source": [
        "train_features, test_features, train_labels, test_labels = train_test_split(np_features, labels, test_size=0.2, random_state=42)"
      ]
    },
    {
      "cell_type": "code",
      "source": [
        "train_features.shape, train_labels.shape"
      ],
      "metadata": {
        "colab": {
          "base_uri": "https://localhost:8080/"
        },
        "id": "Fr34JVxno4Rf",
        "outputId": "a7b56283-0b67-46b8-92bc-2d4570b7a23c"
      },
      "execution_count": null,
      "outputs": [
        {
          "output_type": "execute_result",
          "data": {
            "text/plain": [
              "((10354, 768), (10354,))"
            ]
          },
          "metadata": {},
          "execution_count": 77
        }
      ]
    },
    {
      "cell_type": "markdown",
      "source": [
        "Let's see if we have distinct positional difference in the vector space between positive and negative classes:"
      ],
      "metadata": {
        "id": "1gLhrOyR4_lh"
      }
    },
    {
      "cell_type": "code",
      "source": [
        "from sklearn.decomposition import PCA\n",
        "from sklearn.preprocessing import MinMaxScaler\n",
        "\n",
        "pca = PCA(n_components=2)\n",
        "\n",
        "x_scaled = MinMaxScaler().fit_transform(train_features)\n",
        "x_2d = pca.fit_transform(x_scaled)\n",
        "x_2d.shape"
      ],
      "metadata": {
        "colab": {
          "base_uri": "https://localhost:8080/"
        },
        "id": "Zj-czXZtNIoM",
        "outputId": "1f1fa3dd-ee3c-4b1a-ff00-e3fd0b50fe15"
      },
      "execution_count": null,
      "outputs": [
        {
          "output_type": "execute_result",
          "data": {
            "text/plain": [
              "(10354, 2)"
            ]
          },
          "metadata": {},
          "execution_count": 78
        }
      ]
    },
    {
      "cell_type": "code",
      "source": [
        "fig, ax = plt.subplots(1, 2, figsize=(7, 3))\n",
        "ax = ax.flatten()\n",
        "cmaps = [\"Blues\", \"Oranges\"]\n",
        "plot_labels = [0, 1]\n",
        "\n",
        "for i, (label, cmap) in enumerate(zip(plot_labels, cmaps)):\n",
        "    x_2d_sub = x_2d[train_labels == i]\n",
        "    ax[i].hexbin(x_2d_sub[:, 0], x_2d_sub[:, 1], cmap=cmap, gridsize=20, linewidths=(0,))\n",
        "    ax[i].set_title(label)\n",
        "    ax[i].set_axis_off()\n",
        "\n",
        "plt.tight_layout()\n",
        "plt.show()"
      ],
      "metadata": {
        "colab": {
          "base_uri": "https://localhost:8080/",
          "height": 307
        },
        "id": "cZuleAZSNS0e",
        "outputId": "89d95b9c-d4ee-4f5d-fa8c-e2c9c7e95b9b"
      },
      "execution_count": null,
      "outputs": [
        {
          "output_type": "display_data",
          "data": {
            "text/plain": [
              "<Figure size 700x300 with 2 Axes>"
            ],
            "image/png": "[encoded data removed]"
          },
          "metadata": {}
        }
      ]
    },
    {
      "cell_type": "markdown",
      "source": [
        "Seems that both classes take similar positions in the vector space."
      ],
      "metadata": {
        "id": "lRe9MhN05OUo"
      }
    },
    {
      "cell_type": "markdown",
      "source": [
        "Instantiating and training the LogReg classificator which will identify classes using sentences embeddings obtained in the previous step:"
      ],
      "metadata": {
        "id": "6GoAtnxG5bF8"
      }
    },
    {
      "cell_type": "code",
      "execution_count": null,
      "metadata": {
        "id": "WvawyvOhxSuO",
        "colab": {
          "base_uri": "https://localhost:8080/",
          "height": 74
        },
        "outputId": "768d3439-2545-4bcd-f8b4-7198be8771e7"
      },
      "outputs": [
        {
          "output_type": "execute_result",
          "data": {
            "text/plain": [
              "LogisticRegression(max_iter=3000, penalty='l1', solver='liblinear')"
            ],
            "text/html": [
              "<style>#sk-container-id-1 {color: black;background-color: white;}#sk-container-id-1 pre{padding: 0;}#sk-container-id-1 div.sk-toggleable {background-color: white;}#sk-container-id-1 label.sk-toggleable__label {cursor: pointer;display: block;width: 100%;margin-bottom: 0;padding: 0.3em;box-sizing: border-box;text-align: center;}#sk-container-id-1 label.sk-toggleable__label-arrow:before {content: \"▸\";float: left;margin-right: 0.25em;color: #696969;}#sk-container-id-1 label.sk-toggleable__label-arrow:hover:before {color: black;}#sk-container-id-1 div.sk-estimator:hover label.sk-toggleable__label-arrow:before {color: black;}#sk-container-id-1 div.sk-toggleable__content {max-height: 0;max-width: 0;overflow: hidden;text-align: left;background-color: #f0f8ff;}#sk-container-id-1 div.sk-toggleable__content pre {margin: 0.2em;color: black;border-radius: 0.25em;background-color: #f0f8ff;}#sk-container-id-1 input.sk-toggleable__control:checked~div.sk-toggleable__content {max-height: 200px;max-width: 100%;overflow: auto;}#sk-container-id-1 input.sk-toggleable__control:checked~label.sk-toggleable__label-arrow:before {content: \"▾\";}#sk-container-id-1 div.sk-estimator input.sk-toggleable__control:checked~label.sk-toggleable__label {background-color: #d4ebff;}#sk-container-id-1 div.sk-label input.sk-toggleable__control:checked~label.sk-toggleable__label {background-color: #d4ebff;}#sk-container-id-1 input.sk-hidden--visually {border: 0;clip: rect(1px 1px 1px 1px);clip: rect(1px, 1px, 1px, 1px);height: 1px;margin: -1px;overflow: hidden;padding: 0;position: absolute;width: 1px;}#sk-container-id-1 div.sk-estimator {font-family: monospace;background-color: #f0f8ff;border: 1px dotted black;border-radius: 0.25em;box-sizing: border-box;margin-bottom: 0.5em;}#sk-container-id-1 div.sk-estimator:hover {background-color: #d4ebff;}#sk-container-id-1 div.sk-parallel-item::after {content: \"\";width: 100%;border-bottom: 1px solid gray;flex-grow: 1;}#sk-container-id-1 div.sk-label:hover label.sk-toggleable__label {background-color: #d4ebff;}#sk-container-id-1 div.sk-serial::before {content: \"\";position: absolute;border-left: 1px solid gray;box-sizing: border-box;top: 0;bottom: 0;left: 50%;z-index: 0;}#sk-container-id-1 div.sk-serial {display: flex;flex-direction: column;align-items: center;background-color: white;padding-right: 0.2em;padding-left: 0.2em;position: relative;}#sk-container-id-1 div.sk-item {position: relative;z-index: 1;}#sk-container-id-1 div.sk-parallel {display: flex;align-items: stretch;justify-content: center;background-color: white;position: relative;}#sk-container-id-1 div.sk-item::before, #sk-container-id-1 div.sk-parallel-item::before {content: \"\";position: absolute;border-left: 1px solid gray;box-sizing: border-box;top: 0;bottom: 0;left: 50%;z-index: -1;}#sk-container-id-1 div.sk-parallel-item {display: flex;flex-direction: column;z-index: 1;position: relative;background-color: white;}#sk-container-id-1 div.sk-parallel-item:first-child::after {align-self: flex-end;width: 50%;}#sk-container-id-1 div.sk-parallel-item:last-child::after {align-self: flex-start;width: 50%;}#sk-container-id-1 div.sk-parallel-item:only-child::after {width: 0;}#sk-container-id-1 div.sk-dashed-wrapped {border: 1px dashed gray;margin: 0 0.4em 0.5em 0.4em;box-sizing: border-box;padding-bottom: 0.4em;background-color: white;}#sk-container-id-1 div.sk-label label {font-family: monospace;font-weight: bold;display: inline-block;line-height: 1.2em;}#sk-container-id-1 div.sk-label-container {text-align: center;}#sk-container-id-1 div.sk-container {/* jupyter's `normalize.less` sets `[hidden] { display: none; }` but bootstrap.min.css set `[hidden] { display: none !important; }` so we also need the `!important` here to be able to override the default hidden behavior on the sphinx rendered scikit-learn.org. See: https://github.com/scikit-learn/scikit-learn/issues/21755 */display: inline-block !important;position: relative;}#sk-container-id-1 div.sk-text-repr-fallback {display: none;}</style><div id=\"sk-container-id-1\" class=\"sk-top-container\"><div class=\"sk-text-repr-fallback\"><pre>LogisticRegression(max_iter=3000, penalty=&#x27;l1&#x27;, solver=&#x27;liblinear&#x27;)</pre><b>In a Jupyter environment, please rerun this cell to show the HTML representation or trust the notebook. <br />On GitHub, the HTML representation is unable to render, please try loading this page with nbviewer.org.</b></div><div class=\"sk-container\" hidden><div class=\"sk-item\"><div class=\"sk-estimator sk-toggleable\"><input class=\"sk-toggleable__control sk-hidden--visually\" id=\"sk-estimator-id-1\" type=\"checkbox\" checked><label for=\"sk-estimator-id-1\" class=\"sk-toggleable__label sk-toggleable__label-arrow\">LogisticRegression</label><div class=\"sk-toggleable__content\"><pre>LogisticRegression(max_iter=3000, penalty=&#x27;l1&#x27;, solver=&#x27;liblinear&#x27;)</pre></div></div></div></div></div>"
            ]
          },
          "metadata": {},
          "execution_count": 80
        }
      ],
      "source": [
        "lr_clf = LogisticRegression(solver='liblinear', penalty='l1', max_iter=3000)\n",
        "lr_clf.fit(train_features, train_labels)"
      ]
    },
    {
      "cell_type": "code",
      "source": [
        "lr_clf.score(test_features, test_labels)"
      ],
      "metadata": {
        "colab": {
          "base_uri": "https://localhost:8080/"
        },
        "id": "Jj4NrVmqdxZI",
        "outputId": "a33c9970-fb07-4e91-ab91-488eabdc2441"
      },
      "execution_count": null,
      "outputs": [
        {
          "output_type": "execute_result",
          "data": {
            "text/plain": [
              "0.8111239860950173"
            ]
          },
          "metadata": {},
          "execution_count": 81
        }
      ]
    },
    {
      "cell_type": "markdown",
      "source": [
        "Validating the model:"
      ],
      "metadata": {
        "id": "ou7oW96L6DPl"
      }
    },
    {
      "cell_type": "code",
      "source": [
        "logreg = LogisticRegression(max_iter=3000)\n",
        "\n",
        "y_pred, y_probs = classifier_f(logreg, train_features, train_labels, test_features)\n",
        "\n",
        "\n",
        "from sklearn.metrics import accuracy_score, f1_score\n",
        "print('Validation accuracy %s' % accuracy_score(test_labels, y_pred))\n",
        "print('Validation AUC score %s' % roc_auc_score(test_labels, y_probs[:, 1]))"
      ],
      "metadata": {
        "colab": {
          "base_uri": "https://localhost:8080/"
        },
        "id": "W9gJLwBneaV6",
        "outputId": "db45164c-bd8b-4189-e284-c0542c77d085"
      },
      "execution_count": null,
      "outputs": [
        {
          "output_type": "stream",
          "name": "stdout",
          "text": [
            "Validation accuracy 0.817303978370027\n",
            "Validation AUC score 0.871758725573256\n"
          ]
        }
      ]
    },
    {
      "cell_type": "code",
      "source": [
        "plot_labels = [0, 1]\n",
        "plot_confusion_matrix(y_pred, test_labels, plot_labels)"
      ],
      "metadata": {
        "colab": {
          "base_uri": "https://localhost:8080/",
          "height": 564
        },
        "id": "QjuykWAiOu8o",
        "outputId": "7f18fe5e-21ce-49fe-deb9-8c0b2c4bcb4d"
      },
      "execution_count": null,
      "outputs": [
        {
          "output_type": "display_data",
          "data": {
            "text/plain": [
              "<Figure size 600x600 with 1 Axes>"
            ],
            "image/png": "[encoded data removed]"
          },
          "metadata": {}
        }
      ]
    },
    {
      "cell_type": "code",
      "source": [
        "y_pred[:10],np.array(test_labels[:10])"
      ],
      "metadata": {
        "colab": {
          "base_uri": "https://localhost:8080/"
        },
        "id": "X9vAmwbwnQkS",
        "outputId": "58f6e793-640f-43a0-d915-4ca0c998c996"
      },
      "execution_count": null,
      "outputs": [
        {
          "output_type": "execute_result",
          "data": {
            "text/plain": [
              "(array([0, 1, 1, 0, 1, 1, 0, 1, 0, 1]), array([0, 1, 1, 0, 1, 1, 0, 1, 0, 0]))"
            ]
          },
          "metadata": {},
          "execution_count": 86
        }
      ]
    },
    {
      "cell_type": "markdown",
      "source": [
        "As we can see results are better then with previously used models."
      ],
      "metadata": {
        "id": "Z485tVWC6Nzg"
      }
    },
    {
      "cell_type": "code",
      "source": [
        "file_name = FILE_PATH + 'distilbert_features_13000.csv'"
      ],
      "metadata": {
        "id": "C1budwIfg2z0"
      },
      "execution_count": null,
      "outputs": []
    },
    {
      "cell_type": "code",
      "source": [
        "distilbert_df = pd.DataFrame(np_features)\n",
        "labels_df = pd.DataFrame(labels)\n",
        "distilbert_df.shape, labels_df.shape"
      ],
      "metadata": {
        "colab": {
          "base_uri": "https://localhost:8080/"
        },
        "id": "82h8uvjZhK4t",
        "outputId": "e1a4005b-0106-4373-ec33-a1e033c3b88f"
      },
      "execution_count": null,
      "outputs": [
        {
          "output_type": "execute_result",
          "data": {
            "text/plain": [
              "((12943, 768), (12943, 1))"
            ]
          },
          "metadata": {},
          "execution_count": 94
        }
      ]
    },
    {
      "cell_type": "code",
      "source": [
        "distilbert_df = pd.concat([distilbert_df,labels_df.reset_index(drop=True)], axis=1)\n",
        "distilbert_df.shape"
      ],
      "metadata": {
        "colab": {
          "base_uri": "https://localhost:8080/"
        },
        "id": "wVYyDZR6haHt",
        "outputId": "dab5aaa2-c021-42ba-819c-e70955ccd0c2"
      },
      "execution_count": null,
      "outputs": [
        {
          "output_type": "execute_result",
          "data": {
            "text/plain": [
              "(12943, 769)"
            ]
          },
          "metadata": {},
          "execution_count": 96
        }
      ]
    },
    {
      "cell_type": "code",
      "source": [
        "distilbert_df.to_csv(file_name, sep='\\t')"
      ],
      "metadata": {
        "id": "QNbsdU5vg4oU"
      },
      "execution_count": null,
      "outputs": []
    },
    {
      "cell_type": "markdown",
      "source": [
        "### Fine tuning DistilBERT"
      ],
      "metadata": {
        "id": "_Z0nPf05tcdT"
      }
    },
    {
      "cell_type": "markdown",
      "source": [
        "Last step in this submission is to finetune one of the models. I am going to try to create my own classificator based on the pretrained DistilBERT model and train it to classify toxicity using given training dataset."
      ],
      "metadata": {
        "id": "PK6vU6ED6aE1"
      }
    },
    {
      "cell_type": "markdown",
      "source": [
        "First let's define some constants:"
      ],
      "metadata": {
        "id": "cB6ic1AQ7C4h"
      }
    },
    {
      "cell_type": "code",
      "source": [
        "MAX_LEN = 512\n",
        "TRAIN_BATCH_SIZE = 16\n",
        "EPOCHS = 2\n",
        "LEARNING_RATE = 1e-05\n",
        "NUM_WORKERS = 2"
      ],
      "metadata": {
        "id": "_rFcAXJjv81R"
      },
      "execution_count": null,
      "outputs": []
    },
    {
      "cell_type": "markdown",
      "source": [
        "I will use just a portion of the whole dataset for the sake of speeding up the training process:"
      ],
      "metadata": {
        "id": "J8TBCl6o7JKY"
      }
    },
    {
      "cell_type": "code",
      "source": [
        "batch_2 = train_df[10000:40000]\n",
        "batch_2['toxic'].value_counts()"
      ],
      "metadata": {
        "colab": {
          "base_uri": "https://localhost:8080/"
        },
        "id": "JCb1wlTFx9NO",
        "outputId": "b13f5a75-7159-46d6-9c35-e1902fb5565e"
      },
      "execution_count": null,
      "outputs": [
        {
          "output_type": "execute_result",
          "data": {
            "text/plain": [
              "0    27161\n",
              "1     2839\n",
              "Name: toxic, dtype: int64"
            ]
          },
          "metadata": {},
          "execution_count": 94
        }
      ]
    },
    {
      "cell_type": "markdown",
      "source": [
        "Tokenizing the train batch:"
      ],
      "metadata": {
        "id": "Y9jlU5VK8Cip"
      }
    },
    {
      "cell_type": "code",
      "source": [
        "tokenized = batch_2['comment_text'].apply((lambda x: tokenizer.encode(x, add_special_tokens=True, truncation=True)))"
      ],
      "metadata": {
        "id": "gAuFPm-6ybMU"
      },
      "execution_count": null,
      "outputs": []
    },
    {
      "cell_type": "code",
      "source": [
        "labels = batch_2['toxic']"
      ],
      "metadata": {
        "id": "kUyHSWPVybMV"
      },
      "execution_count": null,
      "outputs": []
    },
    {
      "cell_type": "code",
      "source": [
        "tokenized.shape, labels.shape"
      ],
      "metadata": {
        "colab": {
          "base_uri": "https://localhost:8080/"
        },
        "outputId": "200f5a70-9edb-419a-b69c-742636aa19f6",
        "id": "cHFNQrprybMV"
      },
      "execution_count": null,
      "outputs": [
        {
          "output_type": "execute_result",
          "data": {
            "text/plain": [
              "((12929,), (12929,))"
            ]
          },
          "metadata": {},
          "execution_count": 48
        }
      ]
    },
    {
      "cell_type": "code",
      "execution_count": null,
      "metadata": {
        "id": "2_divFSNybMW"
      },
      "outputs": [],
      "source": [
        "max_len = 0\n",
        "for i in tokenized.values:\n",
        "    if len(i) > max_len:\n",
        "        max_len = len(i)\n",
        "\n",
        "padded = np.array([i + [0]*(max_len-len(i)) for i in tokenized.values])"
      ]
    },
    {
      "cell_type": "code",
      "execution_count": null,
      "metadata": {
        "colab": {
          "base_uri": "https://localhost:8080/"
        },
        "outputId": "76902726-b102-4669-e314-54fe81884ab1",
        "id": "43qUFl-nybMW"
      },
      "outputs": [
        {
          "output_type": "execute_result",
          "data": {
            "text/plain": [
              "(30000, 512)"
            ]
          },
          "metadata": {},
          "execution_count": 98
        }
      ],
      "source": [
        "padded.shape"
      ]
    },
    {
      "cell_type": "markdown",
      "metadata": {
        "id": "bI9yR1QpybMW"
      },
      "source": [
        "#### Masking\n",
        "If we directly send `padded` to the model, that would slightly confuse it. We need to create another variable to tell it to ignore (mask) the padding we've added when it's processing its input. That's what attention_mask is:"
      ]
    },
    {
      "cell_type": "code",
      "execution_count": null,
      "metadata": {
        "colab": {
          "base_uri": "https://localhost:8080/"
        },
        "outputId": "5b1e7000-1ff7-47db-a451-6497a8627c87",
        "id": "56c1NfcaybMW"
      },
      "outputs": [
        {
          "output_type": "execute_result",
          "data": {
            "text/plain": [
              "(30000, 512)"
            ]
          },
          "metadata": {},
          "execution_count": 99
        }
      ],
      "source": [
        "attention_mask = np.where(padded != 0, 1, 0)\n",
        "attention_mask.shape"
      ]
    },
    {
      "cell_type": "code",
      "source": [
        "del tokenized; gc.collect()"
      ],
      "metadata": {
        "colab": {
          "base_uri": "https://localhost:8080/"
        },
        "outputId": "e5c8f108-1937-4928-bfdf-54c395f80c58",
        "id": "Pq1aZkAjybMX"
      },
      "execution_count": null,
      "outputs": [
        {
          "output_type": "execute_result",
          "data": {
            "text/plain": [
              "5932"
            ]
          },
          "metadata": {},
          "execution_count": 100
        }
      ]
    },
    {
      "cell_type": "markdown",
      "source": [
        "Defining Dataset and Dataloader:"
      ],
      "metadata": {
        "id": "BzAjI4UoybMX"
      }
    },
    {
      "cell_type": "code",
      "source": [
        "train_dataset = prepare_dataset(padded, attention_mask, labels)"
      ],
      "metadata": {
        "id": "JWDgFWjnyzT3"
      },
      "execution_count": null,
      "outputs": []
    },
    {
      "cell_type": "code",
      "source": [
        "train_dataloader = DataLoader(train_dataset,\n",
        "                              batch_size=TRAIN_BATCH_SIZE,\n",
        "                              shuffle=False)\n"
      ],
      "metadata": {
        "id": "nRwnqrs6zB_r"
      },
      "execution_count": null,
      "outputs": []
    },
    {
      "cell_type": "code",
      "source": [
        "len(train_dataloader)"
      ],
      "metadata": {
        "colab": {
          "base_uri": "https://localhost:8080/"
        },
        "id": "NnXjeqEQzQJA",
        "outputId": "2ab60d72-414c-4ab6-8a39-24b481def8cc"
      },
      "execution_count": null,
      "outputs": [
        {
          "output_type": "execute_result",
          "data": {
            "text/plain": [
              "1875"
            ]
          },
          "metadata": {},
          "execution_count": 105
        }
      ]
    },
    {
      "cell_type": "markdown",
      "source": [
        "Creating neural binary classification model based on the pretrained DistilBERT:"
      ],
      "metadata": {
        "id": "7sJkdKIEzDvX"
      }
    },
    {
      "cell_type": "code",
      "source": [
        "class DistilBERTClass(torch.nn.Module):\n",
        "    def __init__(self):\n",
        "        super(DistilBERTClass, self).__init__()\n",
        "        self.l1 = ppb.DistilBertModel.from_pretrained(\"distilbert-base-multilingual-cased\")\n",
        "        self.pre_classifier = torch.nn.Linear(768, 768)\n",
        "        self.dropout = torch.nn.Dropout(0.1)\n",
        "        self.classifier = torch.nn.Linear(768, 1)\n",
        "\n",
        "    def forward(self, input_ids, attention_mask):\n",
        "        output_1 = self.l1(input_ids=input_ids, attention_mask=attention_mask)\n",
        "        hidden_state = output_1[0]\n",
        "        pooler = hidden_state[:, 0]\n",
        "        pooler = self.pre_classifier(pooler)\n",
        "        pooler = torch.nn.Tanh()(pooler)\n",
        "        pooler = self.dropout(pooler)\n",
        "        output = self.classifier(pooler)\n",
        "        return output"
      ],
      "metadata": {
        "id": "X6QK68j3tiN8"
      },
      "execution_count": null,
      "outputs": []
    },
    {
      "cell_type": "markdown",
      "source": [
        "Instantiating the model and sending it to GPU:"
      ],
      "metadata": {
        "id": "GpW2nh7X8iF1"
      }
    },
    {
      "cell_type": "code",
      "source": [
        "dbc_model = DistilBERTClass()\n",
        "dbc_model.to(device)"
      ],
      "metadata": {
        "colab": {
          "base_uri": "https://localhost:8080/"
        },
        "id": "Tk9E_oQLvZbd",
        "outputId": "a6969363-9ddf-4999-ea7b-e6781effc341"
      },
      "execution_count": null,
      "outputs": [
        {
          "output_type": "stream",
          "name": "stderr",
          "text": [
            "Some weights of the model checkpoint at distilbert-base-multilingual-cased were not used when initializing DistilBertModel: ['vocab_layer_norm.weight', 'vocab_transform.bias', 'vocab_layer_norm.bias', 'vocab_projector.bias', 'vocab_transform.weight']\n",
            "- This IS expected if you are initializing DistilBertModel from the checkpoint of a model trained on another task or with another architecture (e.g. initializing a BertForSequenceClassification model from a BertForPreTraining model).\n",
            "- This IS NOT expected if you are initializing DistilBertModel from the checkpoint of a model that you expect to be exactly identical (initializing a BertForSequenceClassification model from a BertForSequenceClassification model).\n"
          ]
        },
        {
          "output_type": "execute_result",
          "data": {
            "text/plain": [
              "DistilBERTClass(\n",
              "  (l1): DistilBertModel(\n",
              "    (embeddings): Embeddings(\n",
              "      (word_embeddings): Embedding(119547, 768, padding_idx=0)\n",
              "      (position_embeddings): Embedding(512, 768)\n",
              "      (LayerNorm): LayerNorm((768,), eps=1e-12, elementwise_affine=True)\n",
              "      (dropout): Dropout(p=0.1, inplace=False)\n",
              "    )\n",
              "    (transformer): Transformer(\n",
              "      (layer): ModuleList(\n",
              "        (0-5): 6 x TransformerBlock(\n",
              "          (attention): MultiHeadSelfAttention(\n",
              "            (dropout): Dropout(p=0.1, inplace=False)\n",
              "            (q_lin): Linear(in_features=768, out_features=768, bias=True)\n",
              "            (k_lin): Linear(in_features=768, out_features=768, bias=True)\n",
              "            (v_lin): Linear(in_features=768, out_features=768, bias=True)\n",
              "            (out_lin): Linear(in_features=768, out_features=768, bias=True)\n",
              "          )\n",
              "          (sa_layer_norm): LayerNorm((768,), eps=1e-12, elementwise_affine=True)\n",
              "          (ffn): FFN(\n",
              "            (dropout): Dropout(p=0.1, inplace=False)\n",
              "            (lin1): Linear(in_features=768, out_features=3072, bias=True)\n",
              "            (lin2): Linear(in_features=3072, out_features=768, bias=True)\n",
              "            (activation): GELUActivation()\n",
              "          )\n",
              "          (output_layer_norm): LayerNorm((768,), eps=1e-12, elementwise_affine=True)\n",
              "        )\n",
              "      )\n",
              "    )\n",
              "  )\n",
              "  (pre_classifier): Linear(in_features=768, out_features=768, bias=True)\n",
              "  (dropout): Dropout(p=0.1, inplace=False)\n",
              "  (classifier): Linear(in_features=768, out_features=1, bias=True)\n",
              ")"
            ]
          },
          "metadata": {},
          "execution_count": 107
        }
      ]
    },
    {
      "cell_type": "markdown",
      "source": [
        "Loss function (Binary Cross Enthropy with Logits):"
      ],
      "metadata": {
        "id": "MAaqRkS98q6H"
      }
    },
    {
      "cell_type": "code",
      "source": [
        "def loss_fn(outputs, targets):\n",
        "  #print(outputs.shape, targets.shape)\n",
        "  return torch.nn.BCEWithLogitsLoss()(outputs, targets)"
      ],
      "metadata": {
        "id": "0PhghsugvtOe"
      },
      "execution_count": null,
      "outputs": []
    },
    {
      "cell_type": "markdown",
      "source": [
        "Defining the optimizer ( Adam):"
      ],
      "metadata": {
        "id": "T2iQWmdk8zzN"
      }
    },
    {
      "cell_type": "code",
      "source": [
        "optimizer = torch.optim.Adam(params = dbc_model.parameters(), lr=LEARNING_RATE)"
      ],
      "metadata": {
        "id": "8uNhSrBQvwc6"
      },
      "execution_count": null,
      "outputs": []
    },
    {
      "cell_type": "markdown",
      "source": [
        "Aux function to perform training process:"
      ],
      "metadata": {
        "id": "fP5gBVGY841R"
      }
    },
    {
      "cell_type": "code",
      "source": [
        "def train(epoch):\n",
        "\n",
        "    dbc_model.train()\n",
        "    for _,data in tqdm(enumerate(train_dataloader, 0)):\n",
        "        ids = data[0].to(device, dtype = torch.long)\n",
        "        mask = data[1].to(device, dtype = torch.long)\n",
        "        targets = data[2].to(device, dtype = torch.float)\n",
        "\n",
        "        outputs = dbc_model(ids, mask)\n",
        "\n",
        "        optimizer.zero_grad()\n",
        "        loss = loss_fn(outputs, targets)\n",
        "        if _%100==0:\n",
        "            print(f'Epoch: {epoch}, Loss:  {loss.item()}')\n",
        "\n",
        "        loss.backward()\n",
        "        optimizer.step()"
      ],
      "metadata": {
        "id": "-Kc4Ed9ewJhe"
      },
      "execution_count": null,
      "outputs": []
    },
    {
      "cell_type": "code",
      "source": [
        "next(iter(train_dataloader))[0].shape"
      ],
      "metadata": {
        "colab": {
          "base_uri": "https://localhost:8080/"
        },
        "id": "jDZSjOl6mQVc",
        "outputId": "9912a6df-5dad-43c7-e6db-f5a1f30963ff"
      },
      "execution_count": null,
      "outputs": [
        {
          "output_type": "execute_result",
          "data": {
            "text/plain": [
              "torch.Size([16, 512])"
            ]
          },
          "metadata": {},
          "execution_count": 111
        }
      ]
    },
    {
      "cell_type": "code",
      "source": [
        "for epoch in range(EPOCHS):\n",
        "    train(epoch)"
      ],
      "metadata": {
        "colab": {
          "base_uri": "https://localhost:8080/",
          "height": 774,
          "referenced_widgets": [
            "140175f85ad647e4a99bb666a20df69a",
            "63f1ac1a665140ff8b7d58c344f46993",
            "a12931a836594b0f9ee4bf9a5b7b9dc6",
            "8f8fe677187a458cbca68188f3665a22",
            "737dedd948494682a405e9d28dbd01be",
            "b6d2caec85764de7b61da927d0a21bd6",
            "0497f776401e47d094a99ba20f02774d",
            "2ab4c20a74dd4a4e905f7e4b206b1e5f",
            "55d05a3fbca14d249e7e802bef1105ff",
            "9653a7af18b744a9875d49b3f98312b8",
            "f2968a4bce40492c92b6eb54929952e8",
            "9769e29706d946908dbc336f2a3b7b89",
            "93975e896f7b4a75b9e74394ea92d2d4",
            "bdd638c3e551446eb15b67b69eb50042",
            "71ecc90ef108469b90b6804fd7cc4bac",
            "a4e0ee8fb19e48baa7e7e30646284e2c",
            "d056f98261d242eb95e7eebabec3ff88",
            "14918d24c12a4e43851ec49ecff16868",
            "776d604bb75343ab9d9f7835e7043e89",
            "9bb3f7c79dab46dfa6e5c4ca6d9b187e",
            "735a65378e324dd08246ce6c532d764a",
            "91faf37dc498460ca1b7ab019c19b96b"
          ]
        },
        "id": "U5Ml3hcWwMlP",
        "outputId": "ecb1bef1-9854-4fcc-9d85-facfbddde10d"
      },
      "execution_count": null,
      "outputs": [
        {
          "output_type": "display_data",
          "data": {
            "text/plain": [
              "0it [00:00, ?it/s]"
            ],
            "application/vnd.jupyter.widget-view+json": {
              "version_major": 2,
              "version_minor": 0,
              "model_id": "140175f85ad647e4a99bb666a20df69a"
            }
          },
          "metadata": {}
        },
        {
          "output_type": "stream",
          "name": "stdout",
          "text": [
            "Epoch: 0, Loss:  0.6873781681060791\n",
            "Epoch: 0, Loss:  0.33474522829055786\n",
            "Epoch: 0, Loss:  0.22990038990974426\n",
            "Epoch: 0, Loss:  0.206232950091362\n",
            "Epoch: 0, Loss:  0.23829014599323273\n",
            "Epoch: 0, Loss:  0.3573547303676605\n",
            "Epoch: 0, Loss:  0.10454019904136658\n",
            "Epoch: 0, Loss:  0.20958362519741058\n",
            "Epoch: 0, Loss:  0.18106651306152344\n",
            "Epoch: 0, Loss:  0.12088949978351593\n",
            "Epoch: 0, Loss:  0.0707036629319191\n",
            "Epoch: 0, Loss:  0.24887782335281372\n",
            "Epoch: 0, Loss:  0.13374373316764832\n",
            "Epoch: 0, Loss:  0.24838531017303467\n",
            "Epoch: 0, Loss:  0.42278024554252625\n",
            "Epoch: 0, Loss:  0.1563529372215271\n",
            "Epoch: 0, Loss:  0.48402243852615356\n",
            "Epoch: 0, Loss:  0.12045544385910034\n",
            "Epoch: 0, Loss:  0.13914868235588074\n"
          ]
        },
        {
          "output_type": "display_data",
          "data": {
            "text/plain": [
              "0it [00:00, ?it/s]"
            ],
            "application/vnd.jupyter.widget-view+json": {
              "version_major": 2,
              "version_minor": 0,
              "model_id": "9769e29706d946908dbc336f2a3b7b89"
            }
          },
          "metadata": {}
        },
        {
          "output_type": "stream",
          "name": "stdout",
          "text": [
            "Epoch: 1, Loss:  0.0915340930223465\n",
            "Epoch: 1, Loss:  0.23600852489471436\n",
            "Epoch: 1, Loss:  0.13964399695396423\n",
            "Epoch: 1, Loss:  0.10987131297588348\n",
            "Epoch: 1, Loss:  0.23683467507362366\n",
            "Epoch: 1, Loss:  0.17810124158859253\n",
            "Epoch: 1, Loss:  0.038863956928253174\n",
            "Epoch: 1, Loss:  0.1876453012228012\n",
            "Epoch: 1, Loss:  0.06918695569038391\n",
            "Epoch: 1, Loss:  0.03592580556869507\n",
            "Epoch: 1, Loss:  0.07142040878534317\n",
            "Epoch: 1, Loss:  0.07798917591571808\n",
            "Epoch: 1, Loss:  0.06073678657412529\n",
            "Epoch: 1, Loss:  0.06972308456897736\n",
            "Epoch: 1, Loss:  0.4719145894050598\n",
            "Epoch: 1, Loss:  0.06786513328552246\n",
            "Epoch: 1, Loss:  0.11548314243555069\n",
            "Epoch: 1, Loss:  0.08898499608039856\n",
            "Epoch: 1, Loss:  0.0276804119348526\n"
          ]
        }
      ]
    },
    {
      "cell_type": "code",
      "source": [],
      "metadata": {
        "id": "yCskd3xx2OhP"
      },
      "execution_count": null,
      "outputs": []
    },
    {
      "cell_type": "markdown",
      "source": [
        "Preparing evaluation batch, tokenizing and creating masks:"
      ],
      "metadata": {
        "id": "SAIF37ls9Me2"
      }
    },
    {
      "cell_type": "code",
      "execution_count": null,
      "metadata": {
        "colab": {
          "base_uri": "https://localhost:8080/"
        },
        "outputId": "671f9f05-dd53-46fa-c353-3353a9cb47dc",
        "id": "hcMc5WI42O0F"
      },
      "outputs": [
        {
          "output_type": "execute_result",
          "data": {
            "text/plain": [
              "0    1701\n",
              "1     299\n",
              "Name: toxic, dtype: int64"
            ]
          },
          "metadata": {},
          "execution_count": 142
        }
      ],
      "source": [
        "test_batch = val_df[4000:6000]\n",
        "test_batch['toxic'].value_counts()"
      ]
    },
    {
      "cell_type": "code",
      "source": [
        "test_tokenized = test_batch['comment_text'].apply((lambda x: tokenizer.encode(x, add_special_tokens=True, truncation=True)))"
      ],
      "metadata": {
        "id": "PSMbGKT42m1J"
      },
      "execution_count": null,
      "outputs": []
    },
    {
      "cell_type": "code",
      "source": [
        "test_labels = test_batch['toxic']"
      ],
      "metadata": {
        "id": "X3ZjWZ372mrc"
      },
      "execution_count": null,
      "outputs": []
    },
    {
      "cell_type": "code",
      "source": [
        "max_len = 0\n",
        "for i in test_tokenized.values:\n",
        "    if len(i) > max_len:\n",
        "        max_len = len(i)\n",
        "\n",
        "test_padded = np.array([i + [0]*(max_len-len(i)) for i in test_tokenized.values])\n",
        "test_padded.shape"
      ],
      "metadata": {
        "colab": {
          "base_uri": "https://localhost:8080/"
        },
        "id": "THOhu8bv3CHa",
        "outputId": "bc609179-503a-4e1c-f95d-0eef976d456e"
      },
      "execution_count": null,
      "outputs": [
        {
          "output_type": "execute_result",
          "data": {
            "text/plain": [
              "(2000, 419)"
            ]
          },
          "metadata": {},
          "execution_count": 145
        }
      ]
    },
    {
      "cell_type": "code",
      "source": [
        "test_attention_mask = np.where(test_padded != 0, 1, 0)\n",
        "test_attention_mask.shape"
      ],
      "metadata": {
        "colab": {
          "base_uri": "https://localhost:8080/"
        },
        "id": "cdmAiTsb3LRF",
        "outputId": "66a44c1c-4dbc-4515-b49b-e81d10857484"
      },
      "execution_count": null,
      "outputs": [
        {
          "output_type": "execute_result",
          "data": {
            "text/plain": [
              "(2000, 419)"
            ]
          },
          "metadata": {},
          "execution_count": 146
        }
      ]
    },
    {
      "cell_type": "code",
      "source": [
        "test_dataset = prepare_dataset(test_padded, test_attention_mask, test_labels)"
      ],
      "metadata": {
        "id": "a05btlSk3VVC"
      },
      "execution_count": null,
      "outputs": []
    },
    {
      "cell_type": "code",
      "source": [
        "test_dataloader = DataLoader(test_dataset,\n",
        "                              batch_size=8,\n",
        "                              shuffle=False)\n",
        "len(test_dataloader)"
      ],
      "metadata": {
        "colab": {
          "base_uri": "https://localhost:8080/"
        },
        "id": "1fWsqq5D3je1",
        "outputId": "d493ef4f-35b6-42ba-fa2a-4d78a9e04e05"
      },
      "execution_count": null,
      "outputs": [
        {
          "output_type": "execute_result",
          "data": {
            "text/plain": [
              "250"
            ]
          },
          "metadata": {},
          "execution_count": 148
        }
      ]
    },
    {
      "cell_type": "markdown",
      "source": [
        "Function to get inference out of the model:"
      ],
      "metadata": {
        "id": "ZC4Y6qxx9t87"
      }
    },
    {
      "cell_type": "code",
      "source": [
        "all_test_pred = []\n",
        "\n",
        "def test(model):\n",
        "    model.eval()\n",
        "\n",
        "    with torch.inference_mode():\n",
        "\n",
        "        for _, data in tqdm(enumerate(test_dataloader, 0)):\n",
        "\n",
        "\n",
        "          ids = data[0].to(device, dtype=torch.long)\n",
        "          mask = data[1].to(device, dtype=torch.long)\n",
        "          outputs = model(ids, mask)\n",
        "          probas = torch.sigmoid(outputs)\n",
        "\n",
        "          all_test_pred.append(probas)\n",
        "    return probas"
      ],
      "metadata": {
        "id": "K4rhDT334b4f"
      },
      "execution_count": null,
      "outputs": []
    },
    {
      "cell_type": "markdown",
      "source": [
        "Collecting results from all batches:"
      ],
      "metadata": {
        "id": "-IN21b65-JsS"
      }
    },
    {
      "cell_type": "code",
      "source": [
        "probas = test(dbc_model)"
      ],
      "metadata": {
        "colab": {
          "base_uri": "https://localhost:8080/",
          "height": 49,
          "referenced_widgets": [
            "f39345e7340d497283b12d0b8a8985ea",
            "f89af815719b495c989a0bd02db97be3",
            "330373194d3e48a9bc8359c1eaf1e3e5",
            "44ded25b5e04454a8ea19fee2d7b5013",
            "9e9a1cbb5d3a4037b149397f31a4d200",
            "6297c823d27f4446ade6049a17a4ffaa",
            "6ea8a31a6fb743e9bfc2666d26ff989a",
            "de86c003aba54a1088e488c560c297bc",
            "928ce85387634a8b985f8a01be5395c8",
            "606f8441e33141e58d97d957d27b5884",
            "283dbd76525b44f38035cd9d9268ea52"
          ]
        },
        "id": "JXvA-KEY4vJq",
        "outputId": "90e08f16-8173-459e-9274-9125397c1c57"
      },
      "execution_count": null,
      "outputs": [
        {
          "output_type": "display_data",
          "data": {
            "text/plain": [
              "0it [00:00, ?it/s]"
            ],
            "application/vnd.jupyter.widget-view+json": {
              "version_major": 2,
              "version_minor": 0,
              "model_id": "f39345e7340d497283b12d0b8a8985ea"
            }
          },
          "metadata": {}
        }
      ]
    },
    {
      "cell_type": "markdown",
      "source": [
        "Concatinate them:"
      ],
      "metadata": {
        "id": "Jw1gGgqV-O1E"
      }
    },
    {
      "cell_type": "code",
      "source": [
        "all_test_pred = torch.cat(all_test_pred)"
      ],
      "metadata": {
        "id": "9099edyq5tKt"
      },
      "execution_count": null,
      "outputs": []
    },
    {
      "cell_type": "markdown",
      "source": [
        "Formatting output data to the format that could be used in metrics calculations:"
      ],
      "metadata": {
        "id": "6YU3Hya--aCC"
      }
    },
    {
      "cell_type": "code",
      "source": [
        "test_probs = all_test_pred.reshape(1,-1).squeeze().cpu().numpy()\n",
        "test_pred = test_probs.round().squeeze()"
      ],
      "metadata": {
        "id": "dmrf19Kw6Iuq"
      },
      "execution_count": null,
      "outputs": []
    },
    {
      "cell_type": "code",
      "source": [
        "test_probs.shape, test_pred.shape"
      ],
      "metadata": {
        "colab": {
          "base_uri": "https://localhost:8080/"
        },
        "id": "Mle5Ba6b5vFQ",
        "outputId": "4656a41b-cd92-4f0b-d46f-40fb3969fe93"
      },
      "execution_count": null,
      "outputs": [
        {
          "output_type": "execute_result",
          "data": {
            "text/plain": [
              "((2000,), (2000,))"
            ]
          },
          "metadata": {},
          "execution_count": 153
        }
      ]
    },
    {
      "cell_type": "markdown",
      "source": [
        "Calculate accuracy and AUC score:"
      ],
      "metadata": {
        "id": "wEW48iLL-7Sq"
      }
    },
    {
      "cell_type": "code",
      "source": [
        "print('Validation accuracy %s' % accuracy_score(test_labels, test_pred))\n",
        "print('Validation AUC score %s' % roc_auc_score(test_labels, test_probs))"
      ],
      "metadata": {
        "colab": {
          "base_uri": "https://localhost:8080/"
        },
        "id": "Voo5ZRKz5-X5",
        "outputId": "aee3b38f-3356-422b-8fc3-3362149e8669"
      },
      "execution_count": null,
      "outputs": [
        {
          "output_type": "stream",
          "name": "stdout",
          "text": [
            "Validation accuracy 0.8725\n",
            "Validation AUC score 0.8413996095155516\n"
          ]
        }
      ]
    },
    {
      "cell_type": "code",
      "source": [
        "plot_labels = [0, 1]\n",
        "plot_confusion_matrix(test_pred, test_labels, plot_labels)"
      ],
      "metadata": {
        "colab": {
          "base_uri": "https://localhost:8080/",
          "height": 564
        },
        "id": "g4uBHUmJxNkO",
        "outputId": "56a8045d-2a5b-4698-82a6-61257eb2a2fb"
      },
      "execution_count": null,
      "outputs": [
        {
          "output_type": "display_data",
          "data": {
            "text/plain": [
              "<Figure size 600x600 with 1 Axes>"
            ],
            "image/png": "[encoded data removed]"
          },
          "metadata": {}
        }
      ]
    },
    {
      "cell_type": "markdown",
      "source": [
        "As we can see even though the model predicts the 0 class quite effectively, recall for the 1 class is still low so the overall AUC metric of the model is still not perfect."
      ],
      "metadata": {
        "id": "R0Y3L4Io_Cm1"
      }
    },
    {
      "cell_type": "code",
      "source": [
        "model_save(dbc_model, 'DistilBERT_classifier')"
      ],
      "metadata": {
        "colab": {
          "base_uri": "https://localhost:8080/"
        },
        "id": "RzETzsQU-C06",
        "outputId": "40251b92-a2b0-42a1-eceb-29be738c0bca"
      },
      "execution_count": null,
      "outputs": [
        {
          "output_type": "stream",
          "name": "stdout",
          "text": [
            "Saving model to: /content/drive/MyDrive/ds_data/toxicity_data/models/DistilBERT_classifier\n"
          ]
        }
      ]
    }
  ],
  "metadata": {
    "accelerator": "GPU",
    "colab": {
      "machine_shape": "hm",
      "provenance": [],
      "gpuType": "T4",
      "authorship_tag": "ABX9TyP3/or1rAZ39p6VHoduSKvm",
      "include_colab_link": true
    },
    "kernelspec": {
      "display_name": "Python 3",
      "name": "python3"
    },
    "language_info": {
      "name": "python"
    },
    "widgets": {
      "application/vnd.jupyter.widget-state+json": {
        "30c5b83d3805428c9e0afc051683a8e4": {
          "model_module": "@jupyter-widgets/controls",
          "model_name": "HBoxModel",
          "model_module_version": "1.5.0",
          "state": {
            "_dom_classes": [],
            "_model_module": "@jupyter-widgets/controls",
            "_model_module_version": "1.5.0",
            "_model_name": "HBoxModel",
            "_view_count": null,
            "_view_module": "@jupyter-widgets/controls",
            "_view_module_version": "1.5.0",
            "_view_name": "HBoxView",
            "box_style": "",
            "children": [
              "IPY_MODEL_dd7c56f21b8345e6bc276eca6124a6d1",
              "IPY_MODEL_890e70ad53e84c27994ea502905e01ca",
              "IPY_MODEL_f3d4a6cfbded44db92c816832c0f95da"
            ],
            "layout": "IPY_MODEL_53a3f73e7bf64ce3aac808fc3d28b1d2"
          }
        },
        "dd7c56f21b8345e6bc276eca6124a6d1": {
          "model_module": "@jupyter-widgets/controls",
          "model_name": "HTMLModel",
          "model_module_version": "1.5.0",
          "state": {
            "_dom_classes": [],
            "_model_module": "@jupyter-widgets/controls",
            "_model_module_version": "1.5.0",
            "_model_name": "HTMLModel",
            "_view_count": null,
            "_view_module": "@jupyter-widgets/controls",
            "_view_module_version": "1.5.0",
            "_view_name": "HTMLView",
            "description": "",
            "description_tooltip": null,
            "layout": "IPY_MODEL_5cd91eca511e44648050c1c4874d2864",
            "placeholder": "​",
            "style": "IPY_MODEL_e3f33a5109de43a6b783fe2fde86daec",
            "value": "Downloading (…)okenizer_config.json: 100%"
          }
        },
        "890e70ad53e84c27994ea502905e01ca": {
          "model_module": "@jupyter-widgets/controls",
          "model_name": "FloatProgressModel",
          "model_module_version": "1.5.0",
          "state": {
            "_dom_classes": [],
            "_model_module": "@jupyter-widgets/controls",
            "_model_module_version": "1.5.0",
            "_model_name": "FloatProgressModel",
            "_view_count": null,
            "_view_module": "@jupyter-widgets/controls",
            "_view_module_version": "1.5.0",
            "_view_name": "ProgressView",
            "bar_style": "success",
            "description": "",
            "description_tooltip": null,
            "layout": "IPY_MODEL_5d578aae91ce43899f77d26672c99b26",
            "max": 29,
            "min": 0,
            "orientation": "horizontal",
            "style": "IPY_MODEL_c761a9c3cdf444d3841faffb25af6aa7",
            "value": 29
          }
        },
        "f3d4a6cfbded44db92c816832c0f95da": {
          "model_module": "@jupyter-widgets/controls",
          "model_name": "HTMLModel",
          "model_module_version": "1.5.0",
          "state": {
            "_dom_classes": [],
            "_model_module": "@jupyter-widgets/controls",
            "_model_module_version": "1.5.0",
            "_model_name": "HTMLModel",
            "_view_count": null,
            "_view_module": "@jupyter-widgets/controls",
            "_view_module_version": "1.5.0",
            "_view_name": "HTMLView",
            "description": "",
            "description_tooltip": null,
            "layout": "IPY_MODEL_93271143fbd0416786acc9ee92a81cf5",
            "placeholder": "​",
            "style": "IPY_MODEL_395041451f634c30aa87e0755316418f",
            "value": " 29.0/29.0 [00:00&lt;00:00, 2.16kB/s]"
          }
        },
        "53a3f73e7bf64ce3aac808fc3d28b1d2": {
          "model_module": "@jupyter-widgets/base",
          "model_name": "LayoutModel",
          "model_module_version": "1.2.0",
          "state": {
            "_model_module": "@jupyter-widgets/base",
            "_model_module_version": "1.2.0",
            "_model_name": "LayoutModel",
            "_view_count": null,
            "_view_module": "@jupyter-widgets/base",
            "_view_module_version": "1.2.0",
            "_view_name": "LayoutView",
            "align_content": null,
            "align_items": null,
            "align_self": null,
            "border": null,
            "bottom": null,
            "display": null,
            "flex": null,
            "flex_flow": null,
            "grid_area": null,
            "grid_auto_columns": null,
            "grid_auto_flow": null,
            "grid_auto_rows": null,
            "grid_column": null,
            "grid_gap": null,
            "grid_row": null,
            "grid_template_areas": null,
            "grid_template_columns": null,
            "grid_template_rows": null,
            "height": null,
            "justify_content": null,
            "justify_items": null,
            "left": null,
            "margin": null,
            "max_height": null,
            "max_width": null,
            "min_height": null,
            "min_width": null,
            "object_fit": null,
            "object_position": null,
            "order": null,
            "overflow": null,
            "overflow_x": null,
            "overflow_y": null,
            "padding": null,
            "right": null,
            "top": null,
            "visibility": null,
            "width": null
          }
        },
        "5cd91eca511e44648050c1c4874d2864": {
          "model_module": "@jupyter-widgets/base",
          "model_name": "LayoutModel",
          "model_module_version": "1.2.0",
          "state": {
            "_model_module": "@jupyter-widgets/base",
            "_model_module_version": "1.2.0",
            "_model_name": "LayoutModel",
            "_view_count": null,
            "_view_module": "@jupyter-widgets/base",
            "_view_module_version": "1.2.0",
            "_view_name": "LayoutView",
            "align_content": null,
            "align_items": null,
            "align_self": null,
            "border": null,
            "bottom": null,
            "display": null,
            "flex": null,
            "flex_flow": null,
            "grid_area": null,
            "grid_auto_columns": null,
            "grid_auto_flow": null,
            "grid_auto_rows": null,
            "grid_column": null,
            "grid_gap": null,
            "grid_row": null,
            "grid_template_areas": null,
            "grid_template_columns": null,
            "grid_template_rows": null,
            "height": null,
            "justify_content": null,
            "justify_items": null,
            "left": null,
            "margin": null,
            "max_height": null,
            "max_width": null,
            "min_height": null,
            "min_width": null,
            "object_fit": null,
            "object_position": null,
            "order": null,
            "overflow": null,
            "overflow_x": null,
            "overflow_y": null,
            "padding": null,
            "right": null,
            "top": null,
            "visibility": null,
            "width": null
          }
        },
        "e3f33a5109de43a6b783fe2fde86daec": {
          "model_module": "@jupyter-widgets/controls",
          "model_name": "DescriptionStyleModel",
          "model_module_version": "1.5.0",
          "state": {
            "_model_module": "@jupyter-widgets/controls",
            "_model_module_version": "1.5.0",
            "_model_name": "DescriptionStyleModel",
            "_view_count": null,
            "_view_module": "@jupyter-widgets/base",
            "_view_module_version": "1.2.0",
            "_view_name": "StyleView",
            "description_width": ""
          }
        },
        "5d578aae91ce43899f77d26672c99b26": {
          "model_module": "@jupyter-widgets/base",
          "model_name": "LayoutModel",
          "model_module_version": "1.2.0",
          "state": {
            "_model_module": "@jupyter-widgets/base",
            "_model_module_version": "1.2.0",
            "_model_name": "LayoutModel",
            "_view_count": null,
            "_view_module": "@jupyter-widgets/base",
            "_view_module_version": "1.2.0",
            "_view_name": "LayoutView",
            "align_content": null,
            "align_items": null,
            "align_self": null,
            "border": null,
            "bottom": null,
            "display": null,
            "flex": null,
            "flex_flow": null,
            "grid_area": null,
            "grid_auto_columns": null,
            "grid_auto_flow": null,
            "grid_auto_rows": null,
            "grid_column": null,
            "grid_gap": null,
            "grid_row": null,
            "grid_template_areas": null,
            "grid_template_columns": null,
            "grid_template_rows": null,
            "height": null,
            "justify_content": null,
            "justify_items": null,
            "left": null,
            "margin": null,
            "max_height": null,
            "max_width": null,
            "min_height": null,
            "min_width": null,
            "object_fit": null,
            "object_position": null,
            "order": null,
            "overflow": null,
            "overflow_x": null,
            "overflow_y": null,
            "padding": null,
            "right": null,
            "top": null,
            "visibility": null,
            "width": null
          }
        },
        "c761a9c3cdf444d3841faffb25af6aa7": {
          "model_module": "@jupyter-widgets/controls",
          "model_name": "ProgressStyleModel",
          "model_module_version": "1.5.0",
          "state": {
            "_model_module": "@jupyter-widgets/controls",
            "_model_module_version": "1.5.0",
            "_model_name": "ProgressStyleModel",
            "_view_count": null,
            "_view_module": "@jupyter-widgets/base",
            "_view_module_version": "1.2.0",
            "_view_name": "StyleView",
            "bar_color": null,
            "description_width": ""
          }
        },
        "93271143fbd0416786acc9ee92a81cf5": {
          "model_module": "@jupyter-widgets/base",
          "model_name": "LayoutModel",
          "model_module_version": "1.2.0",
          "state": {
            "_model_module": "@jupyter-widgets/base",
            "_model_module_version": "1.2.0",
            "_model_name": "LayoutModel",
            "_view_count": null,
            "_view_module": "@jupyter-widgets/base",
            "_view_module_version": "1.2.0",
            "_view_name": "LayoutView",
            "align_content": null,
            "align_items": null,
            "align_self": null,
            "border": null,
            "bottom": null,
            "display": null,
            "flex": null,
            "flex_flow": null,
            "grid_area": null,
            "grid_auto_columns": null,
            "grid_auto_flow": null,
            "grid_auto_rows": null,
            "grid_column": null,
            "grid_gap": null,
            "grid_row": null,
            "grid_template_areas": null,
            "grid_template_columns": null,
            "grid_template_rows": null,
            "height": null,
            "justify_content": null,
            "justify_items": null,
            "left": null,
            "margin": null,
            "max_height": null,
            "max_width": null,
            "min_height": null,
            "min_width": null,
            "object_fit": null,
            "object_position": null,
            "order": null,
            "overflow": null,
            "overflow_x": null,
            "overflow_y": null,
            "padding": null,
            "right": null,
            "top": null,
            "visibility": null,
            "width": null
          }
        },
        "395041451f634c30aa87e0755316418f": {
          "model_module": "@jupyter-widgets/controls",
          "model_name": "DescriptionStyleModel",
          "model_module_version": "1.5.0",
          "state": {
            "_model_module": "@jupyter-widgets/controls",
            "_model_module_version": "1.5.0",
            "_model_name": "DescriptionStyleModel",
            "_view_count": null,
            "_view_module": "@jupyter-widgets/base",
            "_view_module_version": "1.2.0",
            "_view_name": "StyleView",
            "description_width": ""
          }
        },
        "2abfed8115554b90a9aadd8f95f878b1": {
          "model_module": "@jupyter-widgets/controls",
          "model_name": "HBoxModel",
          "model_module_version": "1.5.0",
          "state": {
            "_dom_classes": [],
            "_model_module": "@jupyter-widgets/controls",
            "_model_module_version": "1.5.0",
            "_model_name": "HBoxModel",
            "_view_count": null,
            "_view_module": "@jupyter-widgets/controls",
            "_view_module_version": "1.5.0",
            "_view_name": "HBoxView",
            "box_style": "",
            "children": [
              "IPY_MODEL_52bf1bc23eea4ce299c12411eb640963",
              "IPY_MODEL_5e4e4be62e1e4daa9f87d75d06903f67",
              "IPY_MODEL_26bf6a8abf2a4581b78a4fd41c1f6d51"
            ],
            "layout": "IPY_MODEL_ce27984724dd4dfeabad15b7036346dd"
          }
        },
        "52bf1bc23eea4ce299c12411eb640963": {
          "model_module": "@jupyter-widgets/controls",
          "model_name": "HTMLModel",
          "model_module_version": "1.5.0",
          "state": {
            "_dom_classes": [],
            "_model_module": "@jupyter-widgets/controls",
            "_model_module_version": "1.5.0",
            "_model_name": "HTMLModel",
            "_view_count": null,
            "_view_module": "@jupyter-widgets/controls",
            "_view_module_version": "1.5.0",
            "_view_name": "HTMLView",
            "description": "",
            "description_tooltip": null,
            "layout": "IPY_MODEL_e0082132bb444ddd94971650e686638f",
            "placeholder": "​",
            "style": "IPY_MODEL_30d75376007748ce99b0df7055e9661c",
            "value": "Downloading (…)lve/main/config.json: 100%"
          }
        },
        "5e4e4be62e1e4daa9f87d75d06903f67": {
          "model_module": "@jupyter-widgets/controls",
          "model_name": "FloatProgressModel",
          "model_module_version": "1.5.0",
          "state": {
            "_dom_classes": [],
            "_model_module": "@jupyter-widgets/controls",
            "_model_module_version": "1.5.0",
            "_model_name": "FloatProgressModel",
            "_view_count": null,
            "_view_module": "@jupyter-widgets/controls",
            "_view_module_version": "1.5.0",
            "_view_name": "ProgressView",
            "bar_style": "success",
            "description": "",
            "description_tooltip": null,
            "layout": "IPY_MODEL_83dbfcbf831b473c8b0ba89aeef899f1",
            "max": 625,
            "min": 0,
            "orientation": "horizontal",
            "style": "IPY_MODEL_68a7f49174714b31aca1cd52ea0ce00c",
            "value": 625
          }
        },
        "26bf6a8abf2a4581b78a4fd41c1f6d51": {
          "model_module": "@jupyter-widgets/controls",
          "model_name": "HTMLModel",
          "model_module_version": "1.5.0",
          "state": {
            "_dom_classes": [],
            "_model_module": "@jupyter-widgets/controls",
            "_model_module_version": "1.5.0",
            "_model_name": "HTMLModel",
            "_view_count": null,
            "_view_module": "@jupyter-widgets/controls",
            "_view_module_version": "1.5.0",
            "_view_name": "HTMLView",
            "description": "",
            "description_tooltip": null,
            "layout": "IPY_MODEL_d3699e15db5d4f12880fddd33933ee39",
            "placeholder": "​",
            "style": "IPY_MODEL_2e7d99bbd10a429a9d8299f3ee93768d",
            "value": " 625/625 [00:00&lt;00:00, 53.5kB/s]"
          }
        },
        "ce27984724dd4dfeabad15b7036346dd": {
          "model_module": "@jupyter-widgets/base",
          "model_name": "LayoutModel",
          "model_module_version": "1.2.0",
          "state": {
            "_model_module": "@jupyter-widgets/base",
            "_model_module_version": "1.2.0",
            "_model_name": "LayoutModel",
            "_view_count": null,
            "_view_module": "@jupyter-widgets/base",
            "_view_module_version": "1.2.0",
            "_view_name": "LayoutView",
            "align_content": null,
            "align_items": null,
            "align_self": null,
            "border": null,
            "bottom": null,
            "display": null,
            "flex": null,
            "flex_flow": null,
            "grid_area": null,
            "grid_auto_columns": null,
            "grid_auto_flow": null,
            "grid_auto_rows": null,
            "grid_column": null,
            "grid_gap": null,
            "grid_row": null,
            "grid_template_areas": null,
            "grid_template_columns": null,
            "grid_template_rows": null,
            "height": null,
            "justify_content": null,
            "justify_items": null,
            "left": null,
            "margin": null,
            "max_height": null,
            "max_width": null,
            "min_height": null,
            "min_width": null,
            "object_fit": null,
            "object_position": null,
            "order": null,
            "overflow": null,
            "overflow_x": null,
            "overflow_y": null,
            "padding": null,
            "right": null,
            "top": null,
            "visibility": null,
            "width": null
          }
        },
        "e0082132bb444ddd94971650e686638f": {
          "model_module": "@jupyter-widgets/base",
          "model_name": "LayoutModel",
          "model_module_version": "1.2.0",
          "state": {
            "_model_module": "@jupyter-widgets/base",
            "_model_module_version": "1.2.0",
            "_model_name": "LayoutModel",
            "_view_count": null,
            "_view_module": "@jupyter-widgets/base",
            "_view_module_version": "1.2.0",
            "_view_name": "LayoutView",
            "align_content": null,
            "align_items": null,
            "align_self": null,
            "border": null,
            "bottom": null,
            "display": null,
            "flex": null,
            "flex_flow": null,
            "grid_area": null,
            "grid_auto_columns": null,
            "grid_auto_flow": null,
            "grid_auto_rows": null,
            "grid_column": null,
            "grid_gap": null,
            "grid_row": null,
            "grid_template_areas": null,
            "grid_template_columns": null,
            "grid_template_rows": null,
            "height": null,
            "justify_content": null,
            "justify_items": null,
            "left": null,
            "margin": null,
            "max_height": null,
            "max_width": null,
            "min_height": null,
            "min_width": null,
            "object_fit": null,
            "object_position": null,
            "order": null,
            "overflow": null,
            "overflow_x": null,
            "overflow_y": null,
            "padding": null,
            "right": null,
            "top": null,
            "visibility": null,
            "width": null
          }
        },
        "30d75376007748ce99b0df7055e9661c": {
          "model_module": "@jupyter-widgets/controls",
          "model_name": "DescriptionStyleModel",
          "model_module_version": "1.5.0",
          "state": {
            "_model_module": "@jupyter-widgets/controls",
            "_model_module_version": "1.5.0",
            "_model_name": "DescriptionStyleModel",
            "_view_count": null,
            "_view_module": "@jupyter-widgets/base",
            "_view_module_version": "1.2.0",
            "_view_name": "StyleView",
            "description_width": ""
          }
        },
        "83dbfcbf831b473c8b0ba89aeef899f1": {
          "model_module": "@jupyter-widgets/base",
          "model_name": "LayoutModel",
          "model_module_version": "1.2.0",
          "state": {
            "_model_module": "@jupyter-widgets/base",
            "_model_module_version": "1.2.0",
            "_model_name": "LayoutModel",
            "_view_count": null,
            "_view_module": "@jupyter-widgets/base",
            "_view_module_version": "1.2.0",
            "_view_name": "LayoutView",
            "align_content": null,
            "align_items": null,
            "align_self": null,
            "border": null,
            "bottom": null,
            "display": null,
            "flex": null,
            "flex_flow": null,
            "grid_area": null,
            "grid_auto_columns": null,
            "grid_auto_flow": null,
            "grid_auto_rows": null,
            "grid_column": null,
            "grid_gap": null,
            "grid_row": null,
            "grid_template_areas": null,
            "grid_template_columns": null,
            "grid_template_rows": null,
            "height": null,
            "justify_content": null,
            "justify_items": null,
            "left": null,
            "margin": null,
            "max_height": null,
            "max_width": null,
            "min_height": null,
            "min_width": null,
            "object_fit": null,
            "object_position": null,
            "order": null,
            "overflow": null,
            "overflow_x": null,
            "overflow_y": null,
            "padding": null,
            "right": null,
            "top": null,
            "visibility": null,
            "width": null
          }
        },
        "68a7f49174714b31aca1cd52ea0ce00c": {
          "model_module": "@jupyter-widgets/controls",
          "model_name": "ProgressStyleModel",
          "model_module_version": "1.5.0",
          "state": {
            "_model_module": "@jupyter-widgets/controls",
            "_model_module_version": "1.5.0",
            "_model_name": "ProgressStyleModel",
            "_view_count": null,
            "_view_module": "@jupyter-widgets/base",
            "_view_module_version": "1.2.0",
            "_view_name": "StyleView",
            "bar_color": null,
            "description_width": ""
          }
        },
        "d3699e15db5d4f12880fddd33933ee39": {
          "model_module": "@jupyter-widgets/base",
          "model_name": "LayoutModel",
          "model_module_version": "1.2.0",
          "state": {
            "_model_module": "@jupyter-widgets/base",
            "_model_module_version": "1.2.0",
            "_model_name": "LayoutModel",
            "_view_count": null,
            "_view_module": "@jupyter-widgets/base",
            "_view_module_version": "1.2.0",
            "_view_name": "LayoutView",
            "align_content": null,
            "align_items": null,
            "align_self": null,
            "border": null,
            "bottom": null,
            "display": null,
            "flex": null,
            "flex_flow": null,
            "grid_area": null,
            "grid_auto_columns": null,
            "grid_auto_flow": null,
            "grid_auto_rows": null,
            "grid_column": null,
            "grid_gap": null,
            "grid_row": null,
            "grid_template_areas": null,
            "grid_template_columns": null,
            "grid_template_rows": null,
            "height": null,
            "justify_content": null,
            "justify_items": null,
            "left": null,
            "margin": null,
            "max_height": null,
            "max_width": null,
            "min_height": null,
            "min_width": null,
            "object_fit": null,
            "object_position": null,
            "order": null,
            "overflow": null,
            "overflow_x": null,
            "overflow_y": null,
            "padding": null,
            "right": null,
            "top": null,
            "visibility": null,
            "width": null
          }
        },
        "2e7d99bbd10a429a9d8299f3ee93768d": {
          "model_module": "@jupyter-widgets/controls",
          "model_name": "DescriptionStyleModel",
          "model_module_version": "1.5.0",
          "state": {
            "_model_module": "@jupyter-widgets/controls",
            "_model_module_version": "1.5.0",
            "_model_name": "DescriptionStyleModel",
            "_view_count": null,
            "_view_module": "@jupyter-widgets/base",
            "_view_module_version": "1.2.0",
            "_view_name": "StyleView",
            "description_width": ""
          }
        },
        "e8c7a507c6e443d8936f561925720ac7": {
          "model_module": "@jupyter-widgets/controls",
          "model_name": "HBoxModel",
          "model_module_version": "1.5.0",
          "state": {
            "_dom_classes": [],
            "_model_module": "@jupyter-widgets/controls",
            "_model_module_version": "1.5.0",
            "_model_name": "HBoxModel",
            "_view_count": null,
            "_view_module": "@jupyter-widgets/controls",
            "_view_module_version": "1.5.0",
            "_view_name": "HBoxView",
            "box_style": "",
            "children": [
              "IPY_MODEL_9a191ba13ff347468fa26ddbcb312f01",
              "IPY_MODEL_628f1a9f95664737a4c6b4eb3d175aa8",
              "IPY_MODEL_9fee2a8d6fa6472f9ab452ab08702d3e"
            ],
            "layout": "IPY_MODEL_9b199c443e5842f7ac9665981037fde8"
          }
        },
        "9a191ba13ff347468fa26ddbcb312f01": {
          "model_module": "@jupyter-widgets/controls",
          "model_name": "HTMLModel",
          "model_module_version": "1.5.0",
          "state": {
            "_dom_classes": [],
            "_model_module": "@jupyter-widgets/controls",
            "_model_module_version": "1.5.0",
            "_model_name": "HTMLModel",
            "_view_count": null,
            "_view_module": "@jupyter-widgets/controls",
            "_view_module_version": "1.5.0",
            "_view_name": "HTMLView",
            "description": "",
            "description_tooltip": null,
            "layout": "IPY_MODEL_bb68dec766454e4a9bc16f3f87b73f25",
            "placeholder": "​",
            "style": "IPY_MODEL_7c2395bcc3d44ce89475696e267a157a",
            "value": "Downloading (…)solve/main/vocab.txt: 100%"
          }
        },
        "628f1a9f95664737a4c6b4eb3d175aa8": {
          "model_module": "@jupyter-widgets/controls",
          "model_name": "FloatProgressModel",
          "model_module_version": "1.5.0",
          "state": {
            "_dom_classes": [],
            "_model_module": "@jupyter-widgets/controls",
            "_model_module_version": "1.5.0",
            "_model_name": "FloatProgressModel",
            "_view_count": null,
            "_view_module": "@jupyter-widgets/controls",
            "_view_module_version": "1.5.0",
            "_view_name": "ProgressView",
            "bar_style": "success",
            "description": "",
            "description_tooltip": null,
            "layout": "IPY_MODEL_7fce263dcee948f880109da8a47503e5",
            "max": 995526,
            "min": 0,
            "orientation": "horizontal",
            "style": "IPY_MODEL_8e0946e9076b4b67ba5efa2e2e6cb442",
            "value": 995526
          }
        },
        "9fee2a8d6fa6472f9ab452ab08702d3e": {
          "model_module": "@jupyter-widgets/controls",
          "model_name": "HTMLModel",
          "model_module_version": "1.5.0",
          "state": {
            "_dom_classes": [],
            "_model_module": "@jupyter-widgets/controls",
            "_model_module_version": "1.5.0",
            "_model_name": "HTMLModel",
            "_view_count": null,
            "_view_module": "@jupyter-widgets/controls",
            "_view_module_version": "1.5.0",
            "_view_name": "HTMLView",
            "description": "",
            "description_tooltip": null,
            "layout": "IPY_MODEL_2afb4407480a43b0a92ddabacdc41bfd",
            "placeholder": "​",
            "style": "IPY_MODEL_49e76bad82ba456b9666be409ccaa225",
            "value": " 996k/996k [00:00&lt;00:00, 1.46MB/s]"
          }
        },
        "9b199c443e5842f7ac9665981037fde8": {
          "model_module": "@jupyter-widgets/base",
          "model_name": "LayoutModel",
          "model_module_version": "1.2.0",
          "state": {
            "_model_module": "@jupyter-widgets/base",
            "_model_module_version": "1.2.0",
            "_model_name": "LayoutModel",
            "_view_count": null,
            "_view_module": "@jupyter-widgets/base",
            "_view_module_version": "1.2.0",
            "_view_name": "LayoutView",
            "align_content": null,
            "align_items": null,
            "align_self": null,
            "border": null,
            "bottom": null,
            "display": null,
            "flex": null,
            "flex_flow": null,
            "grid_area": null,
            "grid_auto_columns": null,
            "grid_auto_flow": null,
            "grid_auto_rows": null,
            "grid_column": null,
            "grid_gap": null,
            "grid_row": null,
            "grid_template_areas": null,
            "grid_template_columns": null,
            "grid_template_rows": null,
            "height": null,
            "justify_content": null,
            "justify_items": null,
            "left": null,
            "margin": null,
            "max_height": null,
            "max_width": null,
            "min_height": null,
            "min_width": null,
            "object_fit": null,
            "object_position": null,
            "order": null,
            "overflow": null,
            "overflow_x": null,
            "overflow_y": null,
            "padding": null,
            "right": null,
            "top": null,
            "visibility": null,
            "width": null
          }
        },
        "bb68dec766454e4a9bc16f3f87b73f25": {
          "model_module": "@jupyter-widgets/base",
          "model_name": "LayoutModel",
          "model_module_version": "1.2.0",
          "state": {
            "_model_module": "@jupyter-widgets/base",
            "_model_module_version": "1.2.0",
            "_model_name": "LayoutModel",
            "_view_count": null,
            "_view_module": "@jupyter-widgets/base",
            "_view_module_version": "1.2.0",
            "_view_name": "LayoutView",
            "align_content": null,
            "align_items": null,
            "align_self": null,
            "border": null,
            "bottom": null,
            "display": null,
            "flex": null,
            "flex_flow": null,
            "grid_area": null,
            "grid_auto_columns": null,
            "grid_auto_flow": null,
            "grid_auto_rows": null,
            "grid_column": null,
            "grid_gap": null,
            "grid_row": null,
            "grid_template_areas": null,
            "grid_template_columns": null,
            "grid_template_rows": null,
            "height": null,
            "justify_content": null,
            "justify_items": null,
            "left": null,
            "margin": null,
            "max_height": null,
            "max_width": null,
            "min_height": null,
            "min_width": null,
            "object_fit": null,
            "object_position": null,
            "order": null,
            "overflow": null,
            "overflow_x": null,
            "overflow_y": null,
            "padding": null,
            "right": null,
            "top": null,
            "visibility": null,
            "width": null
          }
        },
        "7c2395bcc3d44ce89475696e267a157a": {
          "model_module": "@jupyter-widgets/controls",
          "model_name": "DescriptionStyleModel",
          "model_module_version": "1.5.0",
          "state": {
            "_model_module": "@jupyter-widgets/controls",
            "_model_module_version": "1.5.0",
            "_model_name": "DescriptionStyleModel",
            "_view_count": null,
            "_view_module": "@jupyter-widgets/base",
            "_view_module_version": "1.2.0",
            "_view_name": "StyleView",
            "description_width": ""
          }
        },
        "7fce263dcee948f880109da8a47503e5": {
          "model_module": "@jupyter-widgets/base",
          "model_name": "LayoutModel",
          "model_module_version": "1.2.0",
          "state": {
            "_model_module": "@jupyter-widgets/base",
            "_model_module_version": "1.2.0",
            "_model_name": "LayoutModel",
            "_view_count": null,
            "_view_module": "@jupyter-widgets/base",
            "_view_module_version": "1.2.0",
            "_view_name": "LayoutView",
            "align_content": null,
            "align_items": null,
            "align_self": null,
            "border": null,
            "bottom": null,
            "display": null,
            "flex": null,
            "flex_flow": null,
            "grid_area": null,
            "grid_auto_columns": null,
            "grid_auto_flow": null,
            "grid_auto_rows": null,
            "grid_column": null,
            "grid_gap": null,
            "grid_row": null,
            "grid_template_areas": null,
            "grid_template_columns": null,
            "grid_template_rows": null,
            "height": null,
            "justify_content": null,
            "justify_items": null,
            "left": null,
            "margin": null,
            "max_height": null,
            "max_width": null,
            "min_height": null,
            "min_width": null,
            "object_fit": null,
            "object_position": null,
            "order": null,
            "overflow": null,
            "overflow_x": null,
            "overflow_y": null,
            "padding": null,
            "right": null,
            "top": null,
            "visibility": null,
            "width": null
          }
        },
        "8e0946e9076b4b67ba5efa2e2e6cb442": {
          "model_module": "@jupyter-widgets/controls",
          "model_name": "ProgressStyleModel",
          "model_module_version": "1.5.0",
          "state": {
            "_model_module": "@jupyter-widgets/controls",
            "_model_module_version": "1.5.0",
            "_model_name": "ProgressStyleModel",
            "_view_count": null,
            "_view_module": "@jupyter-widgets/base",
            "_view_module_version": "1.2.0",
            "_view_name": "StyleView",
            "bar_color": null,
            "description_width": ""
          }
        },
        "2afb4407480a43b0a92ddabacdc41bfd": {
          "model_module": "@jupyter-widgets/base",
          "model_name": "LayoutModel",
          "model_module_version": "1.2.0",
          "state": {
            "_model_module": "@jupyter-widgets/base",
            "_model_module_version": "1.2.0",
            "_model_name": "LayoutModel",
            "_view_count": null,
            "_view_module": "@jupyter-widgets/base",
            "_view_module_version": "1.2.0",
            "_view_name": "LayoutView",
            "align_content": null,
            "align_items": null,
            "align_self": null,
            "border": null,
            "bottom": null,
            "display": null,
            "flex": null,
            "flex_flow": null,
            "grid_area": null,
            "grid_auto_columns": null,
            "grid_auto_flow": null,
            "grid_auto_rows": null,
            "grid_column": null,
            "grid_gap": null,
            "grid_row": null,
            "grid_template_areas": null,
            "grid_template_columns": null,
            "grid_template_rows": null,
            "height": null,
            "justify_content": null,
            "justify_items": null,
            "left": null,
            "margin": null,
            "max_height": null,
            "max_width": null,
            "min_height": null,
            "min_width": null,
            "object_fit": null,
            "object_position": null,
            "order": null,
            "overflow": null,
            "overflow_x": null,
            "overflow_y": null,
            "padding": null,
            "right": null,
            "top": null,
            "visibility": null,
            "width": null
          }
        },
        "49e76bad82ba456b9666be409ccaa225": {
          "model_module": "@jupyter-widgets/controls",
          "model_name": "DescriptionStyleModel",
          "model_module_version": "1.5.0",
          "state": {
            "_model_module": "@jupyter-widgets/controls",
            "_model_module_version": "1.5.0",
            "_model_name": "DescriptionStyleModel",
            "_view_count": null,
            "_view_module": "@jupyter-widgets/base",
            "_view_module_version": "1.2.0",
            "_view_name": "StyleView",
            "description_width": ""
          }
        },
        "cd8219c357c74bbbb1715e81c2193169": {
          "model_module": "@jupyter-widgets/controls",
          "model_name": "HBoxModel",
          "model_module_version": "1.5.0",
          "state": {
            "_dom_classes": [],
            "_model_module": "@jupyter-widgets/controls",
            "_model_module_version": "1.5.0",
            "_model_name": "HBoxModel",
            "_view_count": null,
            "_view_module": "@jupyter-widgets/controls",
            "_view_module_version": "1.5.0",
            "_view_name": "HBoxView",
            "box_style": "",
            "children": [
              "IPY_MODEL_994e591d85ea4e9cb93a8b30beba24b8",
              "IPY_MODEL_3512c9da10be4342a3b2927465e142a0",
              "IPY_MODEL_bec4e82c66be4117b7b3687c9e1c914f"
            ],
            "layout": "IPY_MODEL_dfe9bc5245dd4ac38efd160caa148934"
          }
        },
        "994e591d85ea4e9cb93a8b30beba24b8": {
          "model_module": "@jupyter-widgets/controls",
          "model_name": "HTMLModel",
          "model_module_version": "1.5.0",
          "state": {
            "_dom_classes": [],
            "_model_module": "@jupyter-widgets/controls",
            "_model_module_version": "1.5.0",
            "_model_name": "HTMLModel",
            "_view_count": null,
            "_view_module": "@jupyter-widgets/controls",
            "_view_module_version": "1.5.0",
            "_view_name": "HTMLView",
            "description": "",
            "description_tooltip": null,
            "layout": "IPY_MODEL_2b87d7abe1144bfaa274ff5c773537d0",
            "placeholder": "​",
            "style": "IPY_MODEL_e42d600998df437f8ba8e0b0e4d88cd0",
            "value": "Downloading (…)/main/tokenizer.json: 100%"
          }
        },
        "3512c9da10be4342a3b2927465e142a0": {
          "model_module": "@jupyter-widgets/controls",
          "model_name": "FloatProgressModel",
          "model_module_version": "1.5.0",
          "state": {
            "_dom_classes": [],
            "_model_module": "@jupyter-widgets/controls",
            "_model_module_version": "1.5.0",
            "_model_name": "FloatProgressModel",
            "_view_count": null,
            "_view_module": "@jupyter-widgets/controls",
            "_view_module_version": "1.5.0",
            "_view_name": "ProgressView",
            "bar_style": "success",
            "description": "",
            "description_tooltip": null,
            "layout": "IPY_MODEL_d1616fc137e841ee8f8c51ffb95582b7",
            "max": 1961828,
            "min": 0,
            "orientation": "horizontal",
            "style": "IPY_MODEL_d2d1f135cf084e2d95587993d064744f",
            "value": 1961828
          }
        },
        "bec4e82c66be4117b7b3687c9e1c914f": {
          "model_module": "@jupyter-widgets/controls",
          "model_name": "HTMLModel",
          "model_module_version": "1.5.0",
          "state": {
            "_dom_classes": [],
            "_model_module": "@jupyter-widgets/controls",
            "_model_module_version": "1.5.0",
            "_model_name": "HTMLModel",
            "_view_count": null,
            "_view_module": "@jupyter-widgets/controls",
            "_view_module_version": "1.5.0",
            "_view_name": "HTMLView",
            "description": "",
            "description_tooltip": null,
            "layout": "IPY_MODEL_24f9e7b76cdb4ff09d642bb8281383ac",
            "placeholder": "​",
            "style": "IPY_MODEL_64c51a37bc9d4f73b391fde7133914bc",
            "value": " 1.96M/1.96M [00:00&lt;00:00, 2.85MB/s]"
          }
        },
        "dfe9bc5245dd4ac38efd160caa148934": {
          "model_module": "@jupyter-widgets/base",
          "model_name": "LayoutModel",
          "model_module_version": "1.2.0",
          "state": {
            "_model_module": "@jupyter-widgets/base",
            "_model_module_version": "1.2.0",
            "_model_name": "LayoutModel",
            "_view_count": null,
            "_view_module": "@jupyter-widgets/base",
            "_view_module_version": "1.2.0",
            "_view_name": "LayoutView",
            "align_content": null,
            "align_items": null,
            "align_self": null,
            "border": null,
            "bottom": null,
            "display": null,
            "flex": null,
            "flex_flow": null,
            "grid_area": null,
            "grid_auto_columns": null,
            "grid_auto_flow": null,
            "grid_auto_rows": null,
            "grid_column": null,
            "grid_gap": null,
            "grid_row": null,
            "grid_template_areas": null,
            "grid_template_columns": null,
            "grid_template_rows": null,
            "height": null,
            "justify_content": null,
            "justify_items": null,
            "left": null,
            "margin": null,
            "max_height": null,
            "max_width": null,
            "min_height": null,
            "min_width": null,
            "object_fit": null,
            "object_position": null,
            "order": null,
            "overflow": null,
            "overflow_x": null,
            "overflow_y": null,
            "padding": null,
            "right": null,
            "top": null,
            "visibility": null,
            "width": null
          }
        },
        "2b87d7abe1144bfaa274ff5c773537d0": {
          "model_module": "@jupyter-widgets/base",
          "model_name": "LayoutModel",
          "model_module_version": "1.2.0",
          "state": {
            "_model_module": "@jupyter-widgets/base",
            "_model_module_version": "1.2.0",
            "_model_name": "LayoutModel",
            "_view_count": null,
            "_view_module": "@jupyter-widgets/base",
            "_view_module_version": "1.2.0",
            "_view_name": "LayoutView",
            "align_content": null,
            "align_items": null,
            "align_self": null,
            "border": null,
            "bottom": null,
            "display": null,
            "flex": null,
            "flex_flow": null,
            "grid_area": null,
            "grid_auto_columns": null,
            "grid_auto_flow": null,
            "grid_auto_rows": null,
            "grid_column": null,
            "grid_gap": null,
            "grid_row": null,
            "grid_template_areas": null,
            "grid_template_columns": null,
            "grid_template_rows": null,
            "height": null,
            "justify_content": null,
            "justify_items": null,
            "left": null,
            "margin": null,
            "max_height": null,
            "max_width": null,
            "min_height": null,
            "min_width": null,
            "object_fit": null,
            "object_position": null,
            "order": null,
            "overflow": null,
            "overflow_x": null,
            "overflow_y": null,
            "padding": null,
            "right": null,
            "top": null,
            "visibility": null,
            "width": null
          }
        },
        "e42d600998df437f8ba8e0b0e4d88cd0": {
          "model_module": "@jupyter-widgets/controls",
          "model_name": "DescriptionStyleModel",
          "model_module_version": "1.5.0",
          "state": {
            "_model_module": "@jupyter-widgets/controls",
            "_model_module_version": "1.5.0",
            "_model_name": "DescriptionStyleModel",
            "_view_count": null,
            "_view_module": "@jupyter-widgets/base",
            "_view_module_version": "1.2.0",
            "_view_name": "StyleView",
            "description_width": ""
          }
        },
        "d1616fc137e841ee8f8c51ffb95582b7": {
          "model_module": "@jupyter-widgets/base",
          "model_name": "LayoutModel",
          "model_module_version": "1.2.0",
          "state": {
            "_model_module": "@jupyter-widgets/base",
            "_model_module_version": "1.2.0",
            "_model_name": "LayoutModel",
            "_view_count": null,
            "_view_module": "@jupyter-widgets/base",
            "_view_module_version": "1.2.0",
            "_view_name": "LayoutView",
            "align_content": null,
            "align_items": null,
            "align_self": null,
            "border": null,
            "bottom": null,
            "display": null,
            "flex": null,
            "flex_flow": null,
            "grid_area": null,
            "grid_auto_columns": null,
            "grid_auto_flow": null,
            "grid_auto_rows": null,
            "grid_column": null,
            "grid_gap": null,
            "grid_row": null,
            "grid_template_areas": null,
            "grid_template_columns": null,
            "grid_template_rows": null,
            "height": null,
            "justify_content": null,
            "justify_items": null,
            "left": null,
            "margin": null,
            "max_height": null,
            "max_width": null,
            "min_height": null,
            "min_width": null,
            "object_fit": null,
            "object_position": null,
            "order": null,
            "overflow": null,
            "overflow_x": null,
            "overflow_y": null,
            "padding": null,
            "right": null,
            "top": null,
            "visibility": null,
            "width": null
          }
        },
        "d2d1f135cf084e2d95587993d064744f": {
          "model_module": "@jupyter-widgets/controls",
          "model_name": "ProgressStyleModel",
          "model_module_version": "1.5.0",
          "state": {
            "_model_module": "@jupyter-widgets/controls",
            "_model_module_version": "1.5.0",
            "_model_name": "ProgressStyleModel",
            "_view_count": null,
            "_view_module": "@jupyter-widgets/base",
            "_view_module_version": "1.2.0",
            "_view_name": "StyleView",
            "bar_color": null,
            "description_width": ""
          }
        },
        "24f9e7b76cdb4ff09d642bb8281383ac": {
          "model_module": "@jupyter-widgets/base",
          "model_name": "LayoutModel",
          "model_module_version": "1.2.0",
          "state": {
            "_model_module": "@jupyter-widgets/base",
            "_model_module_version": "1.2.0",
            "_model_name": "LayoutModel",
            "_view_count": null,
            "_view_module": "@jupyter-widgets/base",
            "_view_module_version": "1.2.0",
            "_view_name": "LayoutView",
            "align_content": null,
            "align_items": null,
            "align_self": null,
            "border": null,
            "bottom": null,
            "display": null,
            "flex": null,
            "flex_flow": null,
            "grid_area": null,
            "grid_auto_columns": null,
            "grid_auto_flow": null,
            "grid_auto_rows": null,
            "grid_column": null,
            "grid_gap": null,
            "grid_row": null,
            "grid_template_areas": null,
            "grid_template_columns": null,
            "grid_template_rows": null,
            "height": null,
            "justify_content": null,
            "justify_items": null,
            "left": null,
            "margin": null,
            "max_height": null,
            "max_width": null,
            "min_height": null,
            "min_width": null,
            "object_fit": null,
            "object_position": null,
            "order": null,
            "overflow": null,
            "overflow_x": null,
            "overflow_y": null,
            "padding": null,
            "right": null,
            "top": null,
            "visibility": null,
            "width": null
          }
        },
        "64c51a37bc9d4f73b391fde7133914bc": {
          "model_module": "@jupyter-widgets/controls",
          "model_name": "DescriptionStyleModel",
          "model_module_version": "1.5.0",
          "state": {
            "_model_module": "@jupyter-widgets/controls",
            "_model_module_version": "1.5.0",
            "_model_name": "DescriptionStyleModel",
            "_view_count": null,
            "_view_module": "@jupyter-widgets/base",
            "_view_module_version": "1.2.0",
            "_view_name": "StyleView",
            "description_width": ""
          }
        },
        "1685cf3963e44fe79b7e90a97baec07b": {
          "model_module": "@jupyter-widgets/controls",
          "model_name": "HBoxModel",
          "model_module_version": "1.5.0",
          "state": {
            "_dom_classes": [],
            "_model_module": "@jupyter-widgets/controls",
            "_model_module_version": "1.5.0",
            "_model_name": "HBoxModel",
            "_view_count": null,
            "_view_module": "@jupyter-widgets/controls",
            "_view_module_version": "1.5.0",
            "_view_name": "HBoxView",
            "box_style": "",
            "children": [
              "IPY_MODEL_b4c1f87d5e6c443b8a104e732aacd1b4",
              "IPY_MODEL_2d89d9d661e64ab69f9e8ffa1fbf6c9a",
              "IPY_MODEL_0c880d0af51940239e3697e3b6b7511f"
            ],
            "layout": "IPY_MODEL_d2e0122f1ae648aca441e02285b99b31"
          }
        },
        "b4c1f87d5e6c443b8a104e732aacd1b4": {
          "model_module": "@jupyter-widgets/controls",
          "model_name": "HTMLModel",
          "model_module_version": "1.5.0",
          "state": {
            "_dom_classes": [],
            "_model_module": "@jupyter-widgets/controls",
            "_model_module_version": "1.5.0",
            "_model_name": "HTMLModel",
            "_view_count": null,
            "_view_module": "@jupyter-widgets/controls",
            "_view_module_version": "1.5.0",
            "_view_name": "HTMLView",
            "description": "",
            "description_tooltip": null,
            "layout": "IPY_MODEL_1bcaba246bd44e748a3e4e92b716a427",
            "placeholder": "​",
            "style": "IPY_MODEL_7a0dab4cee354faca3594d56c615c7a0",
            "value": "Downloading model.safetensors: 100%"
          }
        },
        "2d89d9d661e64ab69f9e8ffa1fbf6c9a": {
          "model_module": "@jupyter-widgets/controls",
          "model_name": "FloatProgressModel",
          "model_module_version": "1.5.0",
          "state": {
            "_dom_classes": [],
            "_model_module": "@jupyter-widgets/controls",
            "_model_module_version": "1.5.0",
            "_model_name": "FloatProgressModel",
            "_view_count": null,
            "_view_module": "@jupyter-widgets/controls",
            "_view_module_version": "1.5.0",
            "_view_name": "ProgressView",
            "bar_style": "success",
            "description": "",
            "description_tooltip": null,
            "layout": "IPY_MODEL_ab298dd7980c46ce8373c20eee38a5e8",
            "max": 714290682,
            "min": 0,
            "orientation": "horizontal",
            "style": "IPY_MODEL_325c275198964e35a7969f5d8cbf9a72",
            "value": 714290682
          }
        },
        "0c880d0af51940239e3697e3b6b7511f": {
          "model_module": "@jupyter-widgets/controls",
          "model_name": "HTMLModel",
          "model_module_version": "1.5.0",
          "state": {
            "_dom_classes": [],
            "_model_module": "@jupyter-widgets/controls",
            "_model_module_version": "1.5.0",
            "_model_name": "HTMLModel",
            "_view_count": null,
            "_view_module": "@jupyter-widgets/controls",
            "_view_module_version": "1.5.0",
            "_view_name": "HTMLView",
            "description": "",
            "description_tooltip": null,
            "layout": "IPY_MODEL_c0b3a7061e68422eb57ece931e010214",
            "placeholder": "​",
            "style": "IPY_MODEL_d0348d930a46470ca72bcc40a3c9b851",
            "value": " 714M/714M [00:07&lt;00:00, 98.1MB/s]"
          }
        },
        "d2e0122f1ae648aca441e02285b99b31": {
          "model_module": "@jupyter-widgets/base",
          "model_name": "LayoutModel",
          "model_module_version": "1.2.0",
          "state": {
            "_model_module": "@jupyter-widgets/base",
            "_model_module_version": "1.2.0",
            "_model_name": "LayoutModel",
            "_view_count": null,
            "_view_module": "@jupyter-widgets/base",
            "_view_module_version": "1.2.0",
            "_view_name": "LayoutView",
            "align_content": null,
            "align_items": null,
            "align_self": null,
            "border": null,
            "bottom": null,
            "display": null,
            "flex": null,
            "flex_flow": null,
            "grid_area": null,
            "grid_auto_columns": null,
            "grid_auto_flow": null,
            "grid_auto_rows": null,
            "grid_column": null,
            "grid_gap": null,
            "grid_row": null,
            "grid_template_areas": null,
            "grid_template_columns": null,
            "grid_template_rows": null,
            "height": null,
            "justify_content": null,
            "justify_items": null,
            "left": null,
            "margin": null,
            "max_height": null,
            "max_width": null,
            "min_height": null,
            "min_width": null,
            "object_fit": null,
            "object_position": null,
            "order": null,
            "overflow": null,
            "overflow_x": null,
            "overflow_y": null,
            "padding": null,
            "right": null,
            "top": null,
            "visibility": null,
            "width": null
          }
        },
        "1bcaba246bd44e748a3e4e92b716a427": {
          "model_module": "@jupyter-widgets/base",
          "model_name": "LayoutModel",
          "model_module_version": "1.2.0",
          "state": {
            "_model_module": "@jupyter-widgets/base",
            "_model_module_version": "1.2.0",
            "_model_name": "LayoutModel",
            "_view_count": null,
            "_view_module": "@jupyter-widgets/base",
            "_view_module_version": "1.2.0",
            "_view_name": "LayoutView",
            "align_content": null,
            "align_items": null,
            "align_self": null,
            "border": null,
            "bottom": null,
            "display": null,
            "flex": null,
            "flex_flow": null,
            "grid_area": null,
            "grid_auto_columns": null,
            "grid_auto_flow": null,
            "grid_auto_rows": null,
            "grid_column": null,
            "grid_gap": null,
            "grid_row": null,
            "grid_template_areas": null,
            "grid_template_columns": null,
            "grid_template_rows": null,
            "height": null,
            "justify_content": null,
            "justify_items": null,
            "left": null,
            "margin": null,
            "max_height": null,
            "max_width": null,
            "min_height": null,
            "min_width": null,
            "object_fit": null,
            "object_position": null,
            "order": null,
            "overflow": null,
            "overflow_x": null,
            "overflow_y": null,
            "padding": null,
            "right": null,
            "top": null,
            "visibility": null,
            "width": null
          }
        },
        "7a0dab4cee354faca3594d56c615c7a0": {
          "model_module": "@jupyter-widgets/controls",
          "model_name": "DescriptionStyleModel",
          "model_module_version": "1.5.0",
          "state": {
            "_model_module": "@jupyter-widgets/controls",
            "_model_module_version": "1.5.0",
            "_model_name": "DescriptionStyleModel",
            "_view_count": null,
            "_view_module": "@jupyter-widgets/base",
            "_view_module_version": "1.2.0",
            "_view_name": "StyleView",
            "description_width": ""
          }
        },
        "ab298dd7980c46ce8373c20eee38a5e8": {
          "model_module": "@jupyter-widgets/base",
          "model_name": "LayoutModel",
          "model_module_version": "1.2.0",
          "state": {
            "_model_module": "@jupyter-widgets/base",
            "_model_module_version": "1.2.0",
            "_model_name": "LayoutModel",
            "_view_count": null,
            "_view_module": "@jupyter-widgets/base",
            "_view_module_version": "1.2.0",
            "_view_name": "LayoutView",
            "align_content": null,
            "align_items": null,
            "align_self": null,
            "border": null,
            "bottom": null,
            "display": null,
            "flex": null,
            "flex_flow": null,
            "grid_area": null,
            "grid_auto_columns": null,
            "grid_auto_flow": null,
            "grid_auto_rows": null,
            "grid_column": null,
            "grid_gap": null,
            "grid_row": null,
            "grid_template_areas": null,
            "grid_template_columns": null,
            "grid_template_rows": null,
            "height": null,
            "justify_content": null,
            "justify_items": null,
            "left": null,
            "margin": null,
            "max_height": null,
            "max_width": null,
            "min_height": null,
            "min_width": null,
            "object_fit": null,
            "object_position": null,
            "order": null,
            "overflow": null,
            "overflow_x": null,
            "overflow_y": null,
            "padding": null,
            "right": null,
            "top": null,
            "visibility": null,
            "width": null
          }
        },
        "325c275198964e35a7969f5d8cbf9a72": {
          "model_module": "@jupyter-widgets/controls",
          "model_name": "ProgressStyleModel",
          "model_module_version": "1.5.0",
          "state": {
            "_model_module": "@jupyter-widgets/controls",
            "_model_module_version": "1.5.0",
            "_model_name": "ProgressStyleModel",
            "_view_count": null,
            "_view_module": "@jupyter-widgets/base",
            "_view_module_version": "1.2.0",
            "_view_name": "StyleView",
            "bar_color": null,
            "description_width": ""
          }
        },
        "c0b3a7061e68422eb57ece931e010214": {
          "model_module": "@jupyter-widgets/base",
          "model_name": "LayoutModel",
          "model_module_version": "1.2.0",
          "state": {
            "_model_module": "@jupyter-widgets/base",
            "_model_module_version": "1.2.0",
            "_model_name": "LayoutModel",
            "_view_count": null,
            "_view_module": "@jupyter-widgets/base",
            "_view_module_version": "1.2.0",
            "_view_name": "LayoutView",
            "align_content": null,
            "align_items": null,
            "align_self": null,
            "border": null,
            "bottom": null,
            "display": null,
            "flex": null,
            "flex_flow": null,
            "grid_area": null,
            "grid_auto_columns": null,
            "grid_auto_flow": null,
            "grid_auto_rows": null,
            "grid_column": null,
            "grid_gap": null,
            "grid_row": null,
            "grid_template_areas": null,
            "grid_template_columns": null,
            "grid_template_rows": null,
            "height": null,
            "justify_content": null,
            "justify_items": null,
            "left": null,
            "margin": null,
            "max_height": null,
            "max_width": null,
            "min_height": null,
            "min_width": null,
            "object_fit": null,
            "object_position": null,
            "order": null,
            "overflow": null,
            "overflow_x": null,
            "overflow_y": null,
            "padding": null,
            "right": null,
            "top": null,
            "visibility": null,
            "width": null
          }
        },
        "d0348d930a46470ca72bcc40a3c9b851": {
          "model_module": "@jupyter-widgets/controls",
          "model_name": "DescriptionStyleModel",
          "model_module_version": "1.5.0",
          "state": {
            "_model_module": "@jupyter-widgets/controls",
            "_model_module_version": "1.5.0",
            "_model_name": "DescriptionStyleModel",
            "_view_count": null,
            "_view_module": "@jupyter-widgets/base",
            "_view_module_version": "1.2.0",
            "_view_name": "StyleView",
            "description_width": ""
          }
        },
        "d3a04aa570904a2d9dcf799cd86b53e1": {
          "model_module": "@jupyter-widgets/controls",
          "model_name": "HBoxModel",
          "model_module_version": "1.5.0",
          "state": {
            "_dom_classes": [],
            "_model_module": "@jupyter-widgets/controls",
            "_model_module_version": "1.5.0",
            "_model_name": "HBoxModel",
            "_view_count": null,
            "_view_module": "@jupyter-widgets/controls",
            "_view_module_version": "1.5.0",
            "_view_name": "HBoxView",
            "box_style": "",
            "children": [
              "IPY_MODEL_7cddda8b5b5f48c2a216a8ae27a00294",
              "IPY_MODEL_05967a1ed4424b36a7f417a029f047f3",
              "IPY_MODEL_fea9e283c0aa43c889a06e5ef012f621"
            ],
            "layout": "IPY_MODEL_39934d7a9aa344d6a4dd6b53698fdb8d"
          }
        },
        "7cddda8b5b5f48c2a216a8ae27a00294": {
          "model_module": "@jupyter-widgets/controls",
          "model_name": "HTMLModel",
          "model_module_version": "1.5.0",
          "state": {
            "_dom_classes": [],
            "_model_module": "@jupyter-widgets/controls",
            "_model_module_version": "1.5.0",
            "_model_name": "HTMLModel",
            "_view_count": null,
            "_view_module": "@jupyter-widgets/controls",
            "_view_module_version": "1.5.0",
            "_view_name": "HTMLView",
            "description": "",
            "description_tooltip": null,
            "layout": "IPY_MODEL_3100d2ebfb7449268bb72b0b3cc73e64",
            "placeholder": "​",
            "style": "IPY_MODEL_19db77a2c9bb43c7bad257379f57ba9e",
            "value": "100%"
          }
        },
        "05967a1ed4424b36a7f417a029f047f3": {
          "model_module": "@jupyter-widgets/controls",
          "model_name": "FloatProgressModel",
          "model_module_version": "1.5.0",
          "state": {
            "_dom_classes": [],
            "_model_module": "@jupyter-widgets/controls",
            "_model_module_version": "1.5.0",
            "_model_name": "FloatProgressModel",
            "_view_count": null,
            "_view_module": "@jupyter-widgets/controls",
            "_view_module_version": "1.5.0",
            "_view_name": "ProgressView",
            "bar_style": "success",
            "description": "",
            "description_tooltip": null,
            "layout": "IPY_MODEL_a182f6fa8eb64d4aa501f2f818851562",
            "max": 3,
            "min": 0,
            "orientation": "horizontal",
            "style": "IPY_MODEL_63b6dae6a2814609883a77461f3fc551",
            "value": 3
          }
        },
        "fea9e283c0aa43c889a06e5ef012f621": {
          "model_module": "@jupyter-widgets/controls",
          "model_name": "HTMLModel",
          "model_module_version": "1.5.0",
          "state": {
            "_dom_classes": [],
            "_model_module": "@jupyter-widgets/controls",
            "_model_module_version": "1.5.0",
            "_model_name": "HTMLModel",
            "_view_count": null,
            "_view_module": "@jupyter-widgets/controls",
            "_view_module_version": "1.5.0",
            "_view_name": "HTMLView",
            "description": "",
            "description_tooltip": null,
            "layout": "IPY_MODEL_7aebb2dff2cc453fa1bf7ac237b66222",
            "placeholder": "​",
            "style": "IPY_MODEL_12b1d100980f47f6b8bda4a76897274a",
            "value": " 3/3 [1:05:52&lt;00:00, 1314.73s/it]"
          }
        },
        "39934d7a9aa344d6a4dd6b53698fdb8d": {
          "model_module": "@jupyter-widgets/base",
          "model_name": "LayoutModel",
          "model_module_version": "1.2.0",
          "state": {
            "_model_module": "@jupyter-widgets/base",
            "_model_module_version": "1.2.0",
            "_model_name": "LayoutModel",
            "_view_count": null,
            "_view_module": "@jupyter-widgets/base",
            "_view_module_version": "1.2.0",
            "_view_name": "LayoutView",
            "align_content": null,
            "align_items": null,
            "align_self": null,
            "border": null,
            "bottom": null,
            "display": null,
            "flex": null,
            "flex_flow": null,
            "grid_area": null,
            "grid_auto_columns": null,
            "grid_auto_flow": null,
            "grid_auto_rows": null,
            "grid_column": null,
            "grid_gap": null,
            "grid_row": null,
            "grid_template_areas": null,
            "grid_template_columns": null,
            "grid_template_rows": null,
            "height": null,
            "justify_content": null,
            "justify_items": null,
            "left": null,
            "margin": null,
            "max_height": null,
            "max_width": null,
            "min_height": null,
            "min_width": null,
            "object_fit": null,
            "object_position": null,
            "order": null,
            "overflow": null,
            "overflow_x": null,
            "overflow_y": null,
            "padding": null,
            "right": null,
            "top": null,
            "visibility": null,
            "width": null
          }
        },
        "3100d2ebfb7449268bb72b0b3cc73e64": {
          "model_module": "@jupyter-widgets/base",
          "model_name": "LayoutModel",
          "model_module_version": "1.2.0",
          "state": {
            "_model_module": "@jupyter-widgets/base",
            "_model_module_version": "1.2.0",
            "_model_name": "LayoutModel",
            "_view_count": null,
            "_view_module": "@jupyter-widgets/base",
            "_view_module_version": "1.2.0",
            "_view_name": "LayoutView",
            "align_content": null,
            "align_items": null,
            "align_self": null,
            "border": null,
            "bottom": null,
            "display": null,
            "flex": null,
            "flex_flow": null,
            "grid_area": null,
            "grid_auto_columns": null,
            "grid_auto_flow": null,
            "grid_auto_rows": null,
            "grid_column": null,
            "grid_gap": null,
            "grid_row": null,
            "grid_template_areas": null,
            "grid_template_columns": null,
            "grid_template_rows": null,
            "height": null,
            "justify_content": null,
            "justify_items": null,
            "left": null,
            "margin": null,
            "max_height": null,
            "max_width": null,
            "min_height": null,
            "min_width": null,
            "object_fit": null,
            "object_position": null,
            "order": null,
            "overflow": null,
            "overflow_x": null,
            "overflow_y": null,
            "padding": null,
            "right": null,
            "top": null,
            "visibility": null,
            "width": null
          }
        },
        "19db77a2c9bb43c7bad257379f57ba9e": {
          "model_module": "@jupyter-widgets/controls",
          "model_name": "DescriptionStyleModel",
          "model_module_version": "1.5.0",
          "state": {
            "_model_module": "@jupyter-widgets/controls",
            "_model_module_version": "1.5.0",
            "_model_name": "DescriptionStyleModel",
            "_view_count": null,
            "_view_module": "@jupyter-widgets/base",
            "_view_module_version": "1.2.0",
            "_view_name": "StyleView",
            "description_width": ""
          }
        },
        "a182f6fa8eb64d4aa501f2f818851562": {
          "model_module": "@jupyter-widgets/base",
          "model_name": "LayoutModel",
          "model_module_version": "1.2.0",
          "state": {
            "_model_module": "@jupyter-widgets/base",
            "_model_module_version": "1.2.0",
            "_model_name": "LayoutModel",
            "_view_count": null,
            "_view_module": "@jupyter-widgets/base",
            "_view_module_version": "1.2.0",
            "_view_name": "LayoutView",
            "align_content": null,
            "align_items": null,
            "align_self": null,
            "border": null,
            "bottom": null,
            "display": null,
            "flex": null,
            "flex_flow": null,
            "grid_area": null,
            "grid_auto_columns": null,
            "grid_auto_flow": null,
            "grid_auto_rows": null,
            "grid_column": null,
            "grid_gap": null,
            "grid_row": null,
            "grid_template_areas": null,
            "grid_template_columns": null,
            "grid_template_rows": null,
            "height": null,
            "justify_content": null,
            "justify_items": null,
            "left": null,
            "margin": null,
            "max_height": null,
            "max_width": null,
            "min_height": null,
            "min_width": null,
            "object_fit": null,
            "object_position": null,
            "order": null,
            "overflow": null,
            "overflow_x": null,
            "overflow_y": null,
            "padding": null,
            "right": null,
            "top": null,
            "visibility": null,
            "width": null
          }
        },
        "63b6dae6a2814609883a77461f3fc551": {
          "model_module": "@jupyter-widgets/controls",
          "model_name": "ProgressStyleModel",
          "model_module_version": "1.5.0",
          "state": {
            "_model_module": "@jupyter-widgets/controls",
            "_model_module_version": "1.5.0",
            "_model_name": "ProgressStyleModel",
            "_view_count": null,
            "_view_module": "@jupyter-widgets/base",
            "_view_module_version": "1.2.0",
            "_view_name": "StyleView",
            "bar_color": null,
            "description_width": ""
          }
        },
        "7aebb2dff2cc453fa1bf7ac237b66222": {
          "model_module": "@jupyter-widgets/base",
          "model_name": "LayoutModel",
          "model_module_version": "1.2.0",
          "state": {
            "_model_module": "@jupyter-widgets/base",
            "_model_module_version": "1.2.0",
            "_model_name": "LayoutModel",
            "_view_count": null,
            "_view_module": "@jupyter-widgets/base",
            "_view_module_version": "1.2.0",
            "_view_name": "LayoutView",
            "align_content": null,
            "align_items": null,
            "align_self": null,
            "border": null,
            "bottom": null,
            "display": null,
            "flex": null,
            "flex_flow": null,
            "grid_area": null,
            "grid_auto_columns": null,
            "grid_auto_flow": null,
            "grid_auto_rows": null,
            "grid_column": null,
            "grid_gap": null,
            "grid_row": null,
            "grid_template_areas": null,
            "grid_template_columns": null,
            "grid_template_rows": null,
            "height": null,
            "justify_content": null,
            "justify_items": null,
            "left": null,
            "margin": null,
            "max_height": null,
            "max_width": null,
            "min_height": null,
            "min_width": null,
            "object_fit": null,
            "object_position": null,
            "order": null,
            "overflow": null,
            "overflow_x": null,
            "overflow_y": null,
            "padding": null,
            "right": null,
            "top": null,
            "visibility": null,
            "width": null
          }
        },
        "12b1d100980f47f6b8bda4a76897274a": {
          "model_module": "@jupyter-widgets/controls",
          "model_name": "DescriptionStyleModel",
          "model_module_version": "1.5.0",
          "state": {
            "_model_module": "@jupyter-widgets/controls",
            "_model_module_version": "1.5.0",
            "_model_name": "DescriptionStyleModel",
            "_view_count": null,
            "_view_module": "@jupyter-widgets/base",
            "_view_module_version": "1.2.0",
            "_view_name": "StyleView",
            "description_width": ""
          }
        },
        "140175f85ad647e4a99bb666a20df69a": {
          "model_module": "@jupyter-widgets/controls",
          "model_name": "HBoxModel",
          "model_module_version": "1.5.0",
          "state": {
            "_dom_classes": [],
            "_model_module": "@jupyter-widgets/controls",
            "_model_module_version": "1.5.0",
            "_model_name": "HBoxModel",
            "_view_count": null,
            "_view_module": "@jupyter-widgets/controls",
            "_view_module_version": "1.5.0",
            "_view_name": "HBoxView",
            "box_style": "",
            "children": [
              "IPY_MODEL_63f1ac1a665140ff8b7d58c344f46993",
              "IPY_MODEL_a12931a836594b0f9ee4bf9a5b7b9dc6",
              "IPY_MODEL_8f8fe677187a458cbca68188f3665a22"
            ],
            "layout": "IPY_MODEL_737dedd948494682a405e9d28dbd01be"
          }
        },
        "63f1ac1a665140ff8b7d58c344f46993": {
          "model_module": "@jupyter-widgets/controls",
          "model_name": "HTMLModel",
          "model_module_version": "1.5.0",
          "state": {
            "_dom_classes": [],
            "_model_module": "@jupyter-widgets/controls",
            "_model_module_version": "1.5.0",
            "_model_name": "HTMLModel",
            "_view_count": null,
            "_view_module": "@jupyter-widgets/controls",
            "_view_module_version": "1.5.0",
            "_view_name": "HTMLView",
            "description": "",
            "description_tooltip": null,
            "layout": "IPY_MODEL_b6d2caec85764de7b61da927d0a21bd6",
            "placeholder": "​",
            "style": "IPY_MODEL_0497f776401e47d094a99ba20f02774d",
            "value": ""
          }
        },
        "a12931a836594b0f9ee4bf9a5b7b9dc6": {
          "model_module": "@jupyter-widgets/controls",
          "model_name": "FloatProgressModel",
          "model_module_version": "1.5.0",
          "state": {
            "_dom_classes": [],
            "_model_module": "@jupyter-widgets/controls",
            "_model_module_version": "1.5.0",
            "_model_name": "FloatProgressModel",
            "_view_count": null,
            "_view_module": "@jupyter-widgets/controls",
            "_view_module_version": "1.5.0",
            "_view_name": "ProgressView",
            "bar_style": "success",
            "description": "",
            "description_tooltip": null,
            "layout": "IPY_MODEL_2ab4c20a74dd4a4e905f7e4b206b1e5f",
            "max": 1,
            "min": 0,
            "orientation": "horizontal",
            "style": "IPY_MODEL_55d05a3fbca14d249e7e802bef1105ff",
            "value": 1
          }
        },
        "8f8fe677187a458cbca68188f3665a22": {
          "model_module": "@jupyter-widgets/controls",
          "model_name": "HTMLModel",
          "model_module_version": "1.5.0",
          "state": {
            "_dom_classes": [],
            "_model_module": "@jupyter-widgets/controls",
            "_model_module_version": "1.5.0",
            "_model_name": "HTMLModel",
            "_view_count": null,
            "_view_module": "@jupyter-widgets/controls",
            "_view_module_version": "1.5.0",
            "_view_name": "HTMLView",
            "description": "",
            "description_tooltip": null,
            "layout": "IPY_MODEL_9653a7af18b744a9875d49b3f98312b8",
            "placeholder": "​",
            "style": "IPY_MODEL_f2968a4bce40492c92b6eb54929952e8",
            "value": " 1875/? [24:07&lt;00:00,  1.28it/s]"
          }
        },
        "737dedd948494682a405e9d28dbd01be": {
          "model_module": "@jupyter-widgets/base",
          "model_name": "LayoutModel",
          "model_module_version": "1.2.0",
          "state": {
            "_model_module": "@jupyter-widgets/base",
            "_model_module_version": "1.2.0",
            "_model_name": "LayoutModel",
            "_view_count": null,
            "_view_module": "@jupyter-widgets/base",
            "_view_module_version": "1.2.0",
            "_view_name": "LayoutView",
            "align_content": null,
            "align_items": null,
            "align_self": null,
            "border": null,
            "bottom": null,
            "display": null,
            "flex": null,
            "flex_flow": null,
            "grid_area": null,
            "grid_auto_columns": null,
            "grid_auto_flow": null,
            "grid_auto_rows": null,
            "grid_column": null,
            "grid_gap": null,
            "grid_row": null,
            "grid_template_areas": null,
            "grid_template_columns": null,
            "grid_template_rows": null,
            "height": null,
            "justify_content": null,
            "justify_items": null,
            "left": null,
            "margin": null,
            "max_height": null,
            "max_width": null,
            "min_height": null,
            "min_width": null,
            "object_fit": null,
            "object_position": null,
            "order": null,
            "overflow": null,
            "overflow_x": null,
            "overflow_y": null,
            "padding": null,
            "right": null,
            "top": null,
            "visibility": null,
            "width": null
          }
        },
        "b6d2caec85764de7b61da927d0a21bd6": {
          "model_module": "@jupyter-widgets/base",
          "model_name": "LayoutModel",
          "model_module_version": "1.2.0",
          "state": {
            "_model_module": "@jupyter-widgets/base",
            "_model_module_version": "1.2.0",
            "_model_name": "LayoutModel",
            "_view_count": null,
            "_view_module": "@jupyter-widgets/base",
            "_view_module_version": "1.2.0",
            "_view_name": "LayoutView",
            "align_content": null,
            "align_items": null,
            "align_self": null,
            "border": null,
            "bottom": null,
            "display": null,
            "flex": null,
            "flex_flow": null,
            "grid_area": null,
            "grid_auto_columns": null,
            "grid_auto_flow": null,
            "grid_auto_rows": null,
            "grid_column": null,
            "grid_gap": null,
            "grid_row": null,
            "grid_template_areas": null,
            "grid_template_columns": null,
            "grid_template_rows": null,
            "height": null,
            "justify_content": null,
            "justify_items": null,
            "left": null,
            "margin": null,
            "max_height": null,
            "max_width": null,
            "min_height": null,
            "min_width": null,
            "object_fit": null,
            "object_position": null,
            "order": null,
            "overflow": null,
            "overflow_x": null,
            "overflow_y": null,
            "padding": null,
            "right": null,
            "top": null,
            "visibility": null,
            "width": null
          }
        },
        "0497f776401e47d094a99ba20f02774d": {
          "model_module": "@jupyter-widgets/controls",
          "model_name": "DescriptionStyleModel",
          "model_module_version": "1.5.0",
          "state": {
            "_model_module": "@jupyter-widgets/controls",
            "_model_module_version": "1.5.0",
            "_model_name": "DescriptionStyleModel",
            "_view_count": null,
            "_view_module": "@jupyter-widgets/base",
            "_view_module_version": "1.2.0",
            "_view_name": "StyleView",
            "description_width": ""
          }
        },
        "2ab4c20a74dd4a4e905f7e4b206b1e5f": {
          "model_module": "@jupyter-widgets/base",
          "model_name": "LayoutModel",
          "model_module_version": "1.2.0",
          "state": {
            "_model_module": "@jupyter-widgets/base",
            "_model_module_version": "1.2.0",
            "_model_name": "LayoutModel",
            "_view_count": null,
            "_view_module": "@jupyter-widgets/base",
            "_view_module_version": "1.2.0",
            "_view_name": "LayoutView",
            "align_content": null,
            "align_items": null,
            "align_self": null,
            "border": null,
            "bottom": null,
            "display": null,
            "flex": null,
            "flex_flow": null,
            "grid_area": null,
            "grid_auto_columns": null,
            "grid_auto_flow": null,
            "grid_auto_rows": null,
            "grid_column": null,
            "grid_gap": null,
            "grid_row": null,
            "grid_template_areas": null,
            "grid_template_columns": null,
            "grid_template_rows": null,
            "height": null,
            "justify_content": null,
            "justify_items": null,
            "left": null,
            "margin": null,
            "max_height": null,
            "max_width": null,
            "min_height": null,
            "min_width": null,
            "object_fit": null,
            "object_position": null,
            "order": null,
            "overflow": null,
            "overflow_x": null,
            "overflow_y": null,
            "padding": null,
            "right": null,
            "top": null,
            "visibility": null,
            "width": "20px"
          }
        },
        "55d05a3fbca14d249e7e802bef1105ff": {
          "model_module": "@jupyter-widgets/controls",
          "model_name": "ProgressStyleModel",
          "model_module_version": "1.5.0",
          "state": {
            "_model_module": "@jupyter-widgets/controls",
            "_model_module_version": "1.5.0",
            "_model_name": "ProgressStyleModel",
            "_view_count": null,
            "_view_module": "@jupyter-widgets/base",
            "_view_module_version": "1.2.0",
            "_view_name": "StyleView",
            "bar_color": null,
            "description_width": ""
          }
        },
        "9653a7af18b744a9875d49b3f98312b8": {
          "model_module": "@jupyter-widgets/base",
          "model_name": "LayoutModel",
          "model_module_version": "1.2.0",
          "state": {
            "_model_module": "@jupyter-widgets/base",
            "_model_module_version": "1.2.0",
            "_model_name": "LayoutModel",
            "_view_count": null,
            "_view_module": "@jupyter-widgets/base",
            "_view_module_version": "1.2.0",
            "_view_name": "LayoutView",
            "align_content": null,
            "align_items": null,
            "align_self": null,
            "border": null,
            "bottom": null,
            "display": null,
            "flex": null,
            "flex_flow": null,
            "grid_area": null,
            "grid_auto_columns": null,
            "grid_auto_flow": null,
            "grid_auto_rows": null,
            "grid_column": null,
            "grid_gap": null,
            "grid_row": null,
            "grid_template_areas": null,
            "grid_template_columns": null,
            "grid_template_rows": null,
            "height": null,
            "justify_content": null,
            "justify_items": null,
            "left": null,
            "margin": null,
            "max_height": null,
            "max_width": null,
            "min_height": null,
            "min_width": null,
            "object_fit": null,
            "object_position": null,
            "order": null,
            "overflow": null,
            "overflow_x": null,
            "overflow_y": null,
            "padding": null,
            "right": null,
            "top": null,
            "visibility": null,
            "width": null
          }
        },
        "f2968a4bce40492c92b6eb54929952e8": {
          "model_module": "@jupyter-widgets/controls",
          "model_name": "DescriptionStyleModel",
          "model_module_version": "1.5.0",
          "state": {
            "_model_module": "@jupyter-widgets/controls",
            "_model_module_version": "1.5.0",
            "_model_name": "DescriptionStyleModel",
            "_view_count": null,
            "_view_module": "@jupyter-widgets/base",
            "_view_module_version": "1.2.0",
            "_view_name": "StyleView",
            "description_width": ""
          }
        },
        "9769e29706d946908dbc336f2a3b7b89": {
          "model_module": "@jupyter-widgets/controls",
          "model_name": "HBoxModel",
          "model_module_version": "1.5.0",
          "state": {
            "_dom_classes": [],
            "_model_module": "@jupyter-widgets/controls",
            "_model_module_version": "1.5.0",
            "_model_name": "HBoxModel",
            "_view_count": null,
            "_view_module": "@jupyter-widgets/controls",
            "_view_module_version": "1.5.0",
            "_view_name": "HBoxView",
            "box_style": "",
            "children": [
              "IPY_MODEL_93975e896f7b4a75b9e74394ea92d2d4",
              "IPY_MODEL_bdd638c3e551446eb15b67b69eb50042",
              "IPY_MODEL_71ecc90ef108469b90b6804fd7cc4bac"
            ],
            "layout": "IPY_MODEL_a4e0ee8fb19e48baa7e7e30646284e2c"
          }
        },
        "93975e896f7b4a75b9e74394ea92d2d4": {
          "model_module": "@jupyter-widgets/controls",
          "model_name": "HTMLModel",
          "model_module_version": "1.5.0",
          "state": {
            "_dom_classes": [],
            "_model_module": "@jupyter-widgets/controls",
            "_model_module_version": "1.5.0",
            "_model_name": "HTMLModel",
            "_view_count": null,
            "_view_module": "@jupyter-widgets/controls",
            "_view_module_version": "1.5.0",
            "_view_name": "HTMLView",
            "description": "",
            "description_tooltip": null,
            "layout": "IPY_MODEL_d056f98261d242eb95e7eebabec3ff88",
            "placeholder": "​",
            "style": "IPY_MODEL_14918d24c12a4e43851ec49ecff16868",
            "value": ""
          }
        },
        "bdd638c3e551446eb15b67b69eb50042": {
          "model_module": "@jupyter-widgets/controls",
          "model_name": "FloatProgressModel",
          "model_module_version": "1.5.0",
          "state": {
            "_dom_classes": [],
            "_model_module": "@jupyter-widgets/controls",
            "_model_module_version": "1.5.0",
            "_model_name": "FloatProgressModel",
            "_view_count": null,
            "_view_module": "@jupyter-widgets/controls",
            "_view_module_version": "1.5.0",
            "_view_name": "ProgressView",
            "bar_style": "success",
            "description": "",
            "description_tooltip": null,
            "layout": "IPY_MODEL_776d604bb75343ab9d9f7835e7043e89",
            "max": 1,
            "min": 0,
            "orientation": "horizontal",
            "style": "IPY_MODEL_9bb3f7c79dab46dfa6e5c4ca6d9b187e",
            "value": 1
          }
        },
        "71ecc90ef108469b90b6804fd7cc4bac": {
          "model_module": "@jupyter-widgets/controls",
          "model_name": "HTMLModel",
          "model_module_version": "1.5.0",
          "state": {
            "_dom_classes": [],
            "_model_module": "@jupyter-widgets/controls",
            "_model_module_version": "1.5.0",
            "_model_name": "HTMLModel",
            "_view_count": null,
            "_view_module": "@jupyter-widgets/controls",
            "_view_module_version": "1.5.0",
            "_view_name": "HTMLView",
            "description": "",
            "description_tooltip": null,
            "layout": "IPY_MODEL_735a65378e324dd08246ce6c532d764a",
            "placeholder": "​",
            "style": "IPY_MODEL_91faf37dc498460ca1b7ab019c19b96b",
            "value": " 1875/? [24:11&lt;00:00,  1.29it/s]"
          }
        },
        "a4e0ee8fb19e48baa7e7e30646284e2c": {
          "model_module": "@jupyter-widgets/base",
          "model_name": "LayoutModel",
          "model_module_version": "1.2.0",
          "state": {
            "_model_module": "@jupyter-widgets/base",
            "_model_module_version": "1.2.0",
            "_model_name": "LayoutModel",
            "_view_count": null,
            "_view_module": "@jupyter-widgets/base",
            "_view_module_version": "1.2.0",
            "_view_name": "LayoutView",
            "align_content": null,
            "align_items": null,
            "align_self": null,
            "border": null,
            "bottom": null,
            "display": null,
            "flex": null,
            "flex_flow": null,
            "grid_area": null,
            "grid_auto_columns": null,
            "grid_auto_flow": null,
            "grid_auto_rows": null,
            "grid_column": null,
            "grid_gap": null,
            "grid_row": null,
            "grid_template_areas": null,
            "grid_template_columns": null,
            "grid_template_rows": null,
            "height": null,
            "justify_content": null,
            "justify_items": null,
            "left": null,
            "margin": null,
            "max_height": null,
            "max_width": null,
            "min_height": null,
            "min_width": null,
            "object_fit": null,
            "object_position": null,
            "order": null,
            "overflow": null,
            "overflow_x": null,
            "overflow_y": null,
            "padding": null,
            "right": null,
            "top": null,
            "visibility": null,
            "width": null
          }
        },
        "d056f98261d242eb95e7eebabec3ff88": {
          "model_module": "@jupyter-widgets/base",
          "model_name": "LayoutModel",
          "model_module_version": "1.2.0",
          "state": {
            "_model_module": "@jupyter-widgets/base",
            "_model_module_version": "1.2.0",
            "_model_name": "LayoutModel",
            "_view_count": null,
            "_view_module": "@jupyter-widgets/base",
            "_view_module_version": "1.2.0",
            "_view_name": "LayoutView",
            "align_content": null,
            "align_items": null,
            "align_self": null,
            "border": null,
            "bottom": null,
            "display": null,
            "flex": null,
            "flex_flow": null,
            "grid_area": null,
            "grid_auto_columns": null,
            "grid_auto_flow": null,
            "grid_auto_rows": null,
            "grid_column": null,
            "grid_gap": null,
            "grid_row": null,
            "grid_template_areas": null,
            "grid_template_columns": null,
            "grid_template_rows": null,
            "height": null,
            "justify_content": null,
            "justify_items": null,
            "left": null,
            "margin": null,
            "max_height": null,
            "max_width": null,
            "min_height": null,
            "min_width": null,
            "object_fit": null,
            "object_position": null,
            "order": null,
            "overflow": null,
            "overflow_x": null,
            "overflow_y": null,
            "padding": null,
            "right": null,
            "top": null,
            "visibility": null,
            "width": null
          }
        },
        "14918d24c12a4e43851ec49ecff16868": {
          "model_module": "@jupyter-widgets/controls",
          "model_name": "DescriptionStyleModel",
          "model_module_version": "1.5.0",
          "state": {
            "_model_module": "@jupyter-widgets/controls",
            "_model_module_version": "1.5.0",
            "_model_name": "DescriptionStyleModel",
            "_view_count": null,
            "_view_module": "@jupyter-widgets/base",
            "_view_module_version": "1.2.0",
            "_view_name": "StyleView",
            "description_width": ""
          }
        },
        "776d604bb75343ab9d9f7835e7043e89": {
          "model_module": "@jupyter-widgets/base",
          "model_name": "LayoutModel",
          "model_module_version": "1.2.0",
          "state": {
            "_model_module": "@jupyter-widgets/base",
            "_model_module_version": "1.2.0",
            "_model_name": "LayoutModel",
            "_view_count": null,
            "_view_module": "@jupyter-widgets/base",
            "_view_module_version": "1.2.0",
            "_view_name": "LayoutView",
            "align_content": null,
            "align_items": null,
            "align_self": null,
            "border": null,
            "bottom": null,
            "display": null,
            "flex": null,
            "flex_flow": null,
            "grid_area": null,
            "grid_auto_columns": null,
            "grid_auto_flow": null,
            "grid_auto_rows": null,
            "grid_column": null,
            "grid_gap": null,
            "grid_row": null,
            "grid_template_areas": null,
            "grid_template_columns": null,
            "grid_template_rows": null,
            "height": null,
            "justify_content": null,
            "justify_items": null,
            "left": null,
            "margin": null,
            "max_height": null,
            "max_width": null,
            "min_height": null,
            "min_width": null,
            "object_fit": null,
            "object_position": null,
            "order": null,
            "overflow": null,
            "overflow_x": null,
            "overflow_y": null,
            "padding": null,
            "right": null,
            "top": null,
            "visibility": null,
            "width": "20px"
          }
        },
        "9bb3f7c79dab46dfa6e5c4ca6d9b187e": {
          "model_module": "@jupyter-widgets/controls",
          "model_name": "ProgressStyleModel",
          "model_module_version": "1.5.0",
          "state": {
            "_model_module": "@jupyter-widgets/controls",
            "_model_module_version": "1.5.0",
            "_model_name": "ProgressStyleModel",
            "_view_count": null,
            "_view_module": "@jupyter-widgets/base",
            "_view_module_version": "1.2.0",
            "_view_name": "StyleView",
            "bar_color": null,
            "description_width": ""
          }
        },
        "735a65378e324dd08246ce6c532d764a": {
          "model_module": "@jupyter-widgets/base",
          "model_name": "LayoutModel",
          "model_module_version": "1.2.0",
          "state": {
            "_model_module": "@jupyter-widgets/base",
            "_model_module_version": "1.2.0",
            "_model_name": "LayoutModel",
            "_view_count": null,
            "_view_module": "@jupyter-widgets/base",
            "_view_module_version": "1.2.0",
            "_view_name": "LayoutView",
            "align_content": null,
            "align_items": null,
            "align_self": null,
            "border": null,
            "bottom": null,
            "display": null,
            "flex": null,
            "flex_flow": null,
            "grid_area": null,
            "grid_auto_columns": null,
            "grid_auto_flow": null,
            "grid_auto_rows": null,
            "grid_column": null,
            "grid_gap": null,
            "grid_row": null,
            "grid_template_areas": null,
            "grid_template_columns": null,
            "grid_template_rows": null,
            "height": null,
            "justify_content": null,
            "justify_items": null,
            "left": null,
            "margin": null,
            "max_height": null,
            "max_width": null,
            "min_height": null,
            "min_width": null,
            "object_fit": null,
            "object_position": null,
            "order": null,
            "overflow": null,
            "overflow_x": null,
            "overflow_y": null,
            "padding": null,
            "right": null,
            "top": null,
            "visibility": null,
            "width": null
          }
        },
        "91faf37dc498460ca1b7ab019c19b96b": {
          "model_module": "@jupyter-widgets/controls",
          "model_name": "DescriptionStyleModel",
          "model_module_version": "1.5.0",
          "state": {
            "_model_module": "@jupyter-widgets/controls",
            "_model_module_version": "1.5.0",
            "_model_name": "DescriptionStyleModel",
            "_view_count": null,
            "_view_module": "@jupyter-widgets/base",
            "_view_module_version": "1.2.0",
            "_view_name": "StyleView",
            "description_width": ""
          }
        },
        "f39345e7340d497283b12d0b8a8985ea": {
          "model_module": "@jupyter-widgets/controls",
          "model_name": "HBoxModel",
          "model_module_version": "1.5.0",
          "state": {
            "_dom_classes": [],
            "_model_module": "@jupyter-widgets/controls",
            "_model_module_version": "1.5.0",
            "_model_name": "HBoxModel",
            "_view_count": null,
            "_view_module": "@jupyter-widgets/controls",
            "_view_module_version": "1.5.0",
            "_view_name": "HBoxView",
            "box_style": "",
            "children": [
              "IPY_MODEL_f89af815719b495c989a0bd02db97be3",
              "IPY_MODEL_330373194d3e48a9bc8359c1eaf1e3e5",
              "IPY_MODEL_44ded25b5e04454a8ea19fee2d7b5013"
            ],
            "layout": "IPY_MODEL_9e9a1cbb5d3a4037b149397f31a4d200"
          }
        },
        "f89af815719b495c989a0bd02db97be3": {
          "model_module": "@jupyter-widgets/controls",
          "model_name": "HTMLModel",
          "model_module_version": "1.5.0",
          "state": {
            "_dom_classes": [],
            "_model_module": "@jupyter-widgets/controls",
            "_model_module_version": "1.5.0",
            "_model_name": "HTMLModel",
            "_view_count": null,
            "_view_module": "@jupyter-widgets/controls",
            "_view_module_version": "1.5.0",
            "_view_name": "HTMLView",
            "description": "",
            "description_tooltip": null,
            "layout": "IPY_MODEL_6297c823d27f4446ade6049a17a4ffaa",
            "placeholder": "​",
            "style": "IPY_MODEL_6ea8a31a6fb743e9bfc2666d26ff989a",
            "value": ""
          }
        },
        "330373194d3e48a9bc8359c1eaf1e3e5": {
          "model_module": "@jupyter-widgets/controls",
          "model_name": "FloatProgressModel",
          "model_module_version": "1.5.0",
          "state": {
            "_dom_classes": [],
            "_model_module": "@jupyter-widgets/controls",
            "_model_module_version": "1.5.0",
            "_model_name": "FloatProgressModel",
            "_view_count": null,
            "_view_module": "@jupyter-widgets/controls",
            "_view_module_version": "1.5.0",
            "_view_name": "ProgressView",
            "bar_style": "success",
            "description": "",
            "description_tooltip": null,
            "layout": "IPY_MODEL_de86c003aba54a1088e488c560c297bc",
            "max": 1,
            "min": 0,
            "orientation": "horizontal",
            "style": "IPY_MODEL_928ce85387634a8b985f8a01be5395c8",
            "value": 1
          }
        },
        "44ded25b5e04454a8ea19fee2d7b5013": {
          "model_module": "@jupyter-widgets/controls",
          "model_name": "HTMLModel",
          "model_module_version": "1.5.0",
          "state": {
            "_dom_classes": [],
            "_model_module": "@jupyter-widgets/controls",
            "_model_module_version": "1.5.0",
            "_model_name": "HTMLModel",
            "_view_count": null,
            "_view_module": "@jupyter-widgets/controls",
            "_view_module_version": "1.5.0",
            "_view_name": "HTMLView",
            "description": "",
            "description_tooltip": null,
            "layout": "IPY_MODEL_606f8441e33141e58d97d957d27b5884",
            "placeholder": "​",
            "style": "IPY_MODEL_283dbd76525b44f38035cd9d9268ea52",
            "value": " 250/? [00:31&lt;00:00,  7.64it/s]"
          }
        },
        "9e9a1cbb5d3a4037b149397f31a4d200": {
          "model_module": "@jupyter-widgets/base",
          "model_name": "LayoutModel",
          "model_module_version": "1.2.0",
          "state": {
            "_model_module": "@jupyter-widgets/base",
            "_model_module_version": "1.2.0",
            "_model_name": "LayoutModel",
            "_view_count": null,
            "_view_module": "@jupyter-widgets/base",
            "_view_module_version": "1.2.0",
            "_view_name": "LayoutView",
            "align_content": null,
            "align_items": null,
            "align_self": null,
            "border": null,
            "bottom": null,
            "display": null,
            "flex": null,
            "flex_flow": null,
            "grid_area": null,
            "grid_auto_columns": null,
            "grid_auto_flow": null,
            "grid_auto_rows": null,
            "grid_column": null,
            "grid_gap": null,
            "grid_row": null,
            "grid_template_areas": null,
            "grid_template_columns": null,
            "grid_template_rows": null,
            "height": null,
            "justify_content": null,
            "justify_items": null,
            "left": null,
            "margin": null,
            "max_height": null,
            "max_width": null,
            "min_height": null,
            "min_width": null,
            "object_fit": null,
            "object_position": null,
            "order": null,
            "overflow": null,
            "overflow_x": null,
            "overflow_y": null,
            "padding": null,
            "right": null,
            "top": null,
            "visibility": null,
            "width": null
          }
        },
        "6297c823d27f4446ade6049a17a4ffaa": {
          "model_module": "@jupyter-widgets/base",
          "model_name": "LayoutModel",
          "model_module_version": "1.2.0",
          "state": {
            "_model_module": "@jupyter-widgets/base",
            "_model_module_version": "1.2.0",
            "_model_name": "LayoutModel",
            "_view_count": null,
            "_view_module": "@jupyter-widgets/base",
            "_view_module_version": "1.2.0",
            "_view_name": "LayoutView",
            "align_content": null,
            "align_items": null,
            "align_self": null,
            "border": null,
            "bottom": null,
            "display": null,
            "flex": null,
            "flex_flow": null,
            "grid_area": null,
            "grid_auto_columns": null,
            "grid_auto_flow": null,
            "grid_auto_rows": null,
            "grid_column": null,
            "grid_gap": null,
            "grid_row": null,
            "grid_template_areas": null,
            "grid_template_columns": null,
            "grid_template_rows": null,
            "height": null,
            "justify_content": null,
            "justify_items": null,
            "left": null,
            "margin": null,
            "max_height": null,
            "max_width": null,
            "min_height": null,
            "min_width": null,
            "object_fit": null,
            "object_position": null,
            "order": null,
            "overflow": null,
            "overflow_x": null,
            "overflow_y": null,
            "padding": null,
            "right": null,
            "top": null,
            "visibility": null,
            "width": null
          }
        },
        "6ea8a31a6fb743e9bfc2666d26ff989a": {
          "model_module": "@jupyter-widgets/controls",
          "model_name": "DescriptionStyleModel",
          "model_module_version": "1.5.0",
          "state": {
            "_model_module": "@jupyter-widgets/controls",
            "_model_module_version": "1.5.0",
            "_model_name": "DescriptionStyleModel",
            "_view_count": null,
            "_view_module": "@jupyter-widgets/base",
            "_view_module_version": "1.2.0",
            "_view_name": "StyleView",
            "description_width": ""
          }
        },
        "de86c003aba54a1088e488c560c297bc": {
          "model_module": "@jupyter-widgets/base",
          "model_name": "LayoutModel",
          "model_module_version": "1.2.0",
          "state": {
            "_model_module": "@jupyter-widgets/base",
            "_model_module_version": "1.2.0",
            "_model_name": "LayoutModel",
            "_view_count": null,
            "_view_module": "@jupyter-widgets/base",
            "_view_module_version": "1.2.0",
            "_view_name": "LayoutView",
            "align_content": null,
            "align_items": null,
            "align_self": null,
            "border": null,
            "bottom": null,
            "display": null,
            "flex": null,
            "flex_flow": null,
            "grid_area": null,
            "grid_auto_columns": null,
            "grid_auto_flow": null,
            "grid_auto_rows": null,
            "grid_column": null,
            "grid_gap": null,
            "grid_row": null,
            "grid_template_areas": null,
            "grid_template_columns": null,
            "grid_template_rows": null,
            "height": null,
            "justify_content": null,
            "justify_items": null,
            "left": null,
            "margin": null,
            "max_height": null,
            "max_width": null,
            "min_height": null,
            "min_width": null,
            "object_fit": null,
            "object_position": null,
            "order": null,
            "overflow": null,
            "overflow_x": null,
            "overflow_y": null,
            "padding": null,
            "right": null,
            "top": null,
            "visibility": null,
            "width": "20px"
          }
        },
        "928ce85387634a8b985f8a01be5395c8": {
          "model_module": "@jupyter-widgets/controls",
          "model_name": "ProgressStyleModel",
          "model_module_version": "1.5.0",
          "state": {
            "_model_module": "@jupyter-widgets/controls",
            "_model_module_version": "1.5.0",
            "_model_name": "ProgressStyleModel",
            "_view_count": null,
            "_view_module": "@jupyter-widgets/base",
            "_view_module_version": "1.2.0",
            "_view_name": "StyleView",
            "bar_color": null,
            "description_width": ""
          }
        },
        "606f8441e33141e58d97d957d27b5884": {
          "model_module": "@jupyter-widgets/base",
          "model_name": "LayoutModel",
          "model_module_version": "1.2.0",
          "state": {
            "_model_module": "@jupyter-widgets/base",
            "_model_module_version": "1.2.0",
            "_model_name": "LayoutModel",
            "_view_count": null,
            "_view_module": "@jupyter-widgets/base",
            "_view_module_version": "1.2.0",
            "_view_name": "LayoutView",
            "align_content": null,
            "align_items": null,
            "align_self": null,
            "border": null,
            "bottom": null,
            "display": null,
            "flex": null,
            "flex_flow": null,
            "grid_area": null,
            "grid_auto_columns": null,
            "grid_auto_flow": null,
            "grid_auto_rows": null,
            "grid_column": null,
            "grid_gap": null,
            "grid_row": null,
            "grid_template_areas": null,
            "grid_template_columns": null,
            "grid_template_rows": null,
            "height": null,
            "justify_content": null,
            "justify_items": null,
            "left": null,
            "margin": null,
            "max_height": null,
            "max_width": null,
            "min_height": null,
            "min_width": null,
            "object_fit": null,
            "object_position": null,
            "order": null,
            "overflow": null,
            "overflow_x": null,
            "overflow_y": null,
            "padding": null,
            "right": null,
            "top": null,
            "visibility": null,
            "width": null
          }
        },
        "283dbd76525b44f38035cd9d9268ea52": {
          "model_module": "@jupyter-widgets/controls",
          "model_name": "DescriptionStyleModel",
          "model_module_version": "1.5.0",
          "state": {
            "_model_module": "@jupyter-widgets/controls",
            "_model_module_version": "1.5.0",
            "_model_name": "DescriptionStyleModel",
            "_view_count": null,
            "_view_module": "@jupyter-widgets/base",
            "_view_module_version": "1.2.0",
            "_view_name": "StyleView",
            "description_width": ""
          }
        }
      }
    }
  },
  "nbformat": 4,
  "nbformat_minor": 0
}